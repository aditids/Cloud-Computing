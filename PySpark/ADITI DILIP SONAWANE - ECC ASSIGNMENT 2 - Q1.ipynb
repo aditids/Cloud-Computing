{
 "cells": [
  {
   "cell_type": "code",
   "execution_count": 1,
   "id": "e2b25f67",
   "metadata": {},
   "outputs": [
    {
     "name": "stdout",
     "output_type": "stream",
     "text": [
      "23/04/13 12:31:15 WARN Utils: Your hostname, Aditis-MacBook-Pro.local resolves to a loopback address: 127.0.0.1; using 10.0.0.167 instead (on interface en0)\n",
      "23/04/13 12:31:15 WARN Utils: Set SPARK_LOCAL_IP if you need to bind to another address\n"
     ]
    },
    {
     "name": "stderr",
     "output_type": "stream",
     "text": [
      "Setting default log level to \"WARN\".\n",
      "To adjust logging level use sc.setLogLevel(newLevel). For SparkR, use setLogLevel(newLevel).\n"
     ]
    },
    {
     "name": "stdout",
     "output_type": "stream",
     "text": [
      "23/04/13 12:31:16 WARN NativeCodeLoader: Unable to load native-hadoop library for your platform... using builtin-java classes where applicable\n"
     ]
    },
    {
     "name": "stderr",
     "output_type": "stream",
     "text": [
      "                                                                                \r"
     ]
    }
   ],
   "source": [
    "from pyspark.sql import SparkSession\n",
    "\n",
    "spark = SparkSession.builder.appName(\"ECC-Assignment-2\").getOrCreate()\n",
    "\n",
    "df = spark.read.csv(\"/Users/aditisonawane/Desktop/ECC/a2/Parking_Violations_Issued_-_Fiscal_Year_2023.csv\", \n",
    "                    header=True, inferSchema=True)\n"
   ]
  },
  {
   "cell_type": "code",
   "execution_count": 41,
   "id": "cd2ae633",
   "metadata": {},
   "outputs": [
    {
     "data": {
      "text/plain": [
       "[Row(Summons Number=1484697303, Plate ID='JER1863', Registration State='NY', Plate Type='PAS', Issue Date='06/10/2022', Violation Code=67, Vehicle Body Type='SDN', Vehicle Make='TOYOT', Issuing Agency='P', Street Code1=34330, Street Code2=179, Street Code3=0, Vehicle Expiration Date=20221210, Violation Location=10, Violation Precinct=10, Issuer Precinct=1, Issuer Code=160195, Issuer Command='0001', Issuer Squad='0000', Violation Time='1037A', Time First Observed=None, Violation County='NY', Violation In Front Of Or Opposite='F', House Number=None, Street Name='W 28TH ST', Intersecting Street='CHELSEA PK', Date First Observed=0, Law Section=408, Sub Division='E3', Violation Legal Code=None, Days Parking In Effect    ='BBBBBBB', From Hours In Effect='ALL', To Hours In Effect='ALL', Vehicle Color='BLK', Unregistered Vehicle?=0, Vehicle Year=2004, Meter Number='-', Feet From Curb=0, Violation Post Code=None, Violation Description=None, No Standing or Stopping Violation=None, Hydrant Violation=None, Double Parking Violation=None),\n",
       " Row(Summons Number=1484697315, Plate ID='KEV4487', Registration State='NY', Plate Type='PAS', Issue Date='06/13/2022', Violation Code=51, Vehicle Body Type='SUBN', Vehicle Make='JEEP', Issuing Agency='K', Street Code1=34310, Street Code2=16400, Street Code3=11010, Vehicle Expiration Date=20220908, Violation Location=10, Violation Precinct=10, Issuer Precinct=1, Issuer Code=160195, Issuer Command='0001', Issuer Squad='0000', Violation Time='1045A', Time First Observed=None, Violation County='NY', Violation In Front Of Or Opposite='O', House Number='436', Street Name='27TH DR', Intersecting Street=None, Date First Observed=0, Law Section=408, Sub Division='F3', Violation Legal Code=None, Days Parking In Effect    ='BBBBBBB', From Hours In Effect='ALL', To Hours In Effect='ALL', Vehicle Color='GRAY', Unregistered Vehicle?=0, Vehicle Year=2017, Meter Number='-', Feet From Curb=0, Violation Post Code=None, Violation Description=None, No Standing or Stopping Violation=None, Hydrant Violation=None, Double Parking Violation=None),\n",
       " Row(Summons Number=1484697625, Plate ID='H73NYD', Registration State='NJ', Plate Type='PAS', Issue Date='06/19/2022', Violation Code=63, Vehicle Body Type='SDN', Vehicle Make='JEEP', Issuing Agency='N', Street Code1=30640, Street Code2=13015, Street Code3=28540, Vehicle Expiration Date=0, Violation Location=1, Violation Precinct=1, Issuer Precinct=1, Issuer Code=161315, Issuer Command='0001', Issuer Squad='0000', Violation Time='1116A', Time First Observed=None, Violation County='NY', Violation In Front Of Or Opposite=None, House Number='109', Street Name='SOUTH ST', Intersecting Street=None, Date First Observed=0, Law Section=408, Sub Division='F3', Violation Legal Code=None, Days Parking In Effect    ='BBBBBBB', From Hours In Effect='ALL', To Hours In Effect='ALL', Vehicle Color='GRAY', Unregistered Vehicle?=0, Vehicle Year=0, Meter Number='-', Feet From Curb=0, Violation Post Code=None, Violation Description=None, No Standing or Stopping Violation=None, Hydrant Violation=None, Double Parking Violation=None),\n",
       " Row(Summons Number=1484697674, Plate ID='GJC9296', Registration State='NY', Plate Type='PAS', Issue Date='06/19/2022', Violation Code=63, Vehicle Body Type='SUBN', Vehicle Make='LEXUS', Issuing Agency='N', Street Code1=30640, Street Code2=13015, Street Code3=28540, Vehicle Expiration Date=20230820, Violation Location=1, Violation Precinct=1, Issuer Precinct=1, Issuer Code=161315, Issuer Command='0001', Issuer Squad='0000', Violation Time='1052A', Time First Observed=None, Violation County='NY', Violation In Front Of Or Opposite=None, House Number='109', Street Name='SOUTH ST', Intersecting Street=None, Date First Observed=0, Law Section=408, Sub Division='F3', Violation Legal Code=None, Days Parking In Effect    ='BBBBBBB', From Hours In Effect='ALL', To Hours In Effect='ALL', Vehicle Color=None, Unregistered Vehicle?=0, Vehicle Year=0, Meter Number='-', Feet From Curb=0, Violation Post Code=None, Violation Description=None, No Standing or Stopping Violation=None, Hydrant Violation=None, Double Parking Violation=None),\n",
       " Row(Summons Number=1484697686, Plate ID='M51PUV', Registration State='NJ', Plate Type='PAS', Issue Date='06/19/2022', Violation Code=63, Vehicle Body Type='SDN', Vehicle Make='HYUND', Issuing Agency='N', Street Code1=30640, Street Code2=13015, Street Code3=28540, Vehicle Expiration Date=0, Violation Location=1, Violation Precinct=1, Issuer Precinct=1, Issuer Code=161315, Issuer Command='0001', Issuer Squad='0000', Violation Time='1107A', Time First Observed=None, Violation County='NY', Violation In Front Of Or Opposite=None, House Number='109', Street Name='SOUTH ST', Intersecting Street=None, Date First Observed=0, Law Section=408, Sub Division='F3', Violation Legal Code=None, Days Parking In Effect    ='BBBBBBB', From Hours In Effect='ALL', To Hours In Effect='ALL', Vehicle Color='BLUE', Unregistered Vehicle?=0, Vehicle Year=0, Meter Number='-', Feet From Curb=0, Violation Post Code=None, Violation Description=None, No Standing or Stopping Violation=None, Hydrant Violation=None, Double Parking Violation=None)]"
      ]
     },
     "execution_count": 41,
     "metadata": {},
     "output_type": "execute_result"
    }
   ],
   "source": [
    "df.head(5)"
   ]
  },
  {
   "cell_type": "code",
   "execution_count": 2,
   "id": "4ea26628",
   "metadata": {},
   "outputs": [
    {
     "name": "stdout",
     "output_type": "stream",
     "text": [
      "root\n",
      " |-- Summons Number: long (nullable = true)\n",
      " |-- Plate ID: string (nullable = true)\n",
      " |-- Registration State: string (nullable = true)\n",
      " |-- Plate Type: string (nullable = true)\n",
      " |-- Issue Date: string (nullable = true)\n",
      " |-- Violation Code: integer (nullable = true)\n",
      " |-- Vehicle Body Type: string (nullable = true)\n",
      " |-- Vehicle Make: string (nullable = true)\n",
      " |-- Issuing Agency: string (nullable = true)\n",
      " |-- Street Code1: integer (nullable = true)\n",
      " |-- Street Code2: integer (nullable = true)\n",
      " |-- Street Code3: integer (nullable = true)\n",
      " |-- Vehicle Expiration Date: integer (nullable = true)\n",
      " |-- Violation Location: integer (nullable = true)\n",
      " |-- Violation Precinct: integer (nullable = true)\n",
      " |-- Issuer Precinct: integer (nullable = true)\n",
      " |-- Issuer Code: integer (nullable = true)\n",
      " |-- Issuer Command: string (nullable = true)\n",
      " |-- Issuer Squad: string (nullable = true)\n",
      " |-- Violation Time: string (nullable = true)\n",
      " |-- Time First Observed: string (nullable = true)\n",
      " |-- Violation County: string (nullable = true)\n",
      " |-- Violation In Front Of Or Opposite: string (nullable = true)\n",
      " |-- House Number: string (nullable = true)\n",
      " |-- Street Name: string (nullable = true)\n",
      " |-- Intersecting Street: string (nullable = true)\n",
      " |-- Date First Observed: integer (nullable = true)\n",
      " |-- Law Section: integer (nullable = true)\n",
      " |-- Sub Division: string (nullable = true)\n",
      " |-- Violation Legal Code: string (nullable = true)\n",
      " |-- Days Parking In Effect    : string (nullable = true)\n",
      " |-- From Hours In Effect: string (nullable = true)\n",
      " |-- To Hours In Effect: string (nullable = true)\n",
      " |-- Vehicle Color: string (nullable = true)\n",
      " |-- Unregistered Vehicle?: integer (nullable = true)\n",
      " |-- Vehicle Year: integer (nullable = true)\n",
      " |-- Meter Number: string (nullable = true)\n",
      " |-- Feet From Curb: integer (nullable = true)\n",
      " |-- Violation Post Code: string (nullable = true)\n",
      " |-- Violation Description: string (nullable = true)\n",
      " |-- No Standing or Stopping Violation: string (nullable = true)\n",
      " |-- Hydrant Violation: string (nullable = true)\n",
      " |-- Double Parking Violation: string (nullable = true)\n",
      "\n"
     ]
    }
   ],
   "source": [
    "df.printSchema()"
   ]
  },
  {
   "cell_type": "code",
   "execution_count": 42,
   "id": "498ef06f",
   "metadata": {},
   "outputs": [
    {
     "name": "stderr",
     "output_type": "stream",
     "text": [
      "[Stage 70:==========================>                              (8 + 8) / 17]\r"
     ]
    },
    {
     "name": "stdout",
     "output_type": "stream",
     "text": [
      "11535314\n"
     ]
    },
    {
     "name": "stderr",
     "output_type": "stream",
     "text": [
      "                                                                                \r"
     ]
    }
   ],
   "source": [
    "print(df.count())"
   ]
  },
  {
   "cell_type": "code",
   "execution_count": 43,
   "id": "97448df1",
   "metadata": {},
   "outputs": [
    {
     "name": "stderr",
     "output_type": "stream",
     "text": [
      "                                                                                \r"
     ]
    },
    {
     "name": "stdout",
     "output_type": "stream",
     "text": [
      "Summons Number : Null values:  0\n"
     ]
    },
    {
     "name": "stderr",
     "output_type": "stream",
     "text": [
      "                                                                                \r"
     ]
    },
    {
     "name": "stdout",
     "output_type": "stream",
     "text": [
      "Plate ID : Null values:  1\n"
     ]
    },
    {
     "name": "stderr",
     "output_type": "stream",
     "text": [
      "                                                                                \r"
     ]
    },
    {
     "name": "stdout",
     "output_type": "stream",
     "text": [
      "Registration State : Null values:  0\n"
     ]
    },
    {
     "name": "stderr",
     "output_type": "stream",
     "text": [
      "                                                                                \r"
     ]
    },
    {
     "name": "stdout",
     "output_type": "stream",
     "text": [
      "Plate Type : Null values:  0\n"
     ]
    },
    {
     "name": "stderr",
     "output_type": "stream",
     "text": [
      "                                                                                \r"
     ]
    },
    {
     "name": "stdout",
     "output_type": "stream",
     "text": [
      "Issue Date : Null values:  0\n"
     ]
    },
    {
     "name": "stderr",
     "output_type": "stream",
     "text": [
      "                                                                                \r"
     ]
    },
    {
     "name": "stdout",
     "output_type": "stream",
     "text": [
      "Violation Code : Null values:  0\n"
     ]
    },
    {
     "name": "stderr",
     "output_type": "stream",
     "text": [
      "                                                                                \r"
     ]
    },
    {
     "name": "stdout",
     "output_type": "stream",
     "text": [
      "Vehicle Body Type : Null values:  27240\n"
     ]
    },
    {
     "name": "stderr",
     "output_type": "stream",
     "text": [
      "                                                                                \r"
     ]
    },
    {
     "name": "stdout",
     "output_type": "stream",
     "text": [
      "Vehicle Make : Null values:  9690\n"
     ]
    },
    {
     "name": "stderr",
     "output_type": "stream",
     "text": [
      "                                                                                \r"
     ]
    },
    {
     "name": "stdout",
     "output_type": "stream",
     "text": [
      "Issuing Agency : Null values:  0\n"
     ]
    },
    {
     "name": "stderr",
     "output_type": "stream",
     "text": [
      "                                                                                \r"
     ]
    },
    {
     "name": "stdout",
     "output_type": "stream",
     "text": [
      "Street Code1 : Null values:  0\n"
     ]
    },
    {
     "name": "stderr",
     "output_type": "stream",
     "text": [
      "                                                                                \r"
     ]
    },
    {
     "name": "stdout",
     "output_type": "stream",
     "text": [
      "Street Code2 : Null values:  0\n"
     ]
    },
    {
     "name": "stderr",
     "output_type": "stream",
     "text": [
      "                                                                                \r"
     ]
    },
    {
     "name": "stdout",
     "output_type": "stream",
     "text": [
      "Street Code3 : Null values:  0\n"
     ]
    },
    {
     "name": "stderr",
     "output_type": "stream",
     "text": [
      "                                                                                \r"
     ]
    },
    {
     "name": "stdout",
     "output_type": "stream",
     "text": [
      "Vehicle Expiration Date : Null values:  0\n"
     ]
    },
    {
     "name": "stderr",
     "output_type": "stream",
     "text": [
      "                                                                                \r"
     ]
    },
    {
     "name": "stdout",
     "output_type": "stream",
     "text": [
      "Violation Location : Null values:  5349526\n"
     ]
    },
    {
     "name": "stderr",
     "output_type": "stream",
     "text": [
      "                                                                                \r"
     ]
    },
    {
     "name": "stdout",
     "output_type": "stream",
     "text": [
      "Violation Precinct : Null values:  0\n"
     ]
    },
    {
     "name": "stderr",
     "output_type": "stream",
     "text": [
      "                                                                                \r"
     ]
    },
    {
     "name": "stdout",
     "output_type": "stream",
     "text": [
      "Issuer Precinct : Null values:  0\n"
     ]
    },
    {
     "name": "stderr",
     "output_type": "stream",
     "text": [
      "                                                                                \r"
     ]
    },
    {
     "name": "stdout",
     "output_type": "stream",
     "text": [
      "Issuer Code : Null values:  0\n"
     ]
    },
    {
     "name": "stderr",
     "output_type": "stream",
     "text": [
      "                                                                                \r"
     ]
    },
    {
     "name": "stdout",
     "output_type": "stream",
     "text": [
      "Issuer Command : Null values:  5344155\n"
     ]
    },
    {
     "name": "stderr",
     "output_type": "stream",
     "text": [
      "                                                                                \r"
     ]
    },
    {
     "name": "stdout",
     "output_type": "stream",
     "text": [
      "Issuer Squad : Null values:  5741691\n"
     ]
    },
    {
     "name": "stderr",
     "output_type": "stream",
     "text": [
      "                                                                                \r"
     ]
    },
    {
     "name": "stdout",
     "output_type": "stream",
     "text": [
      "Violation Time : Null values:  123\n"
     ]
    },
    {
     "name": "stderr",
     "output_type": "stream",
     "text": [
      "                                                                                \r"
     ]
    },
    {
     "name": "stdout",
     "output_type": "stream",
     "text": [
      "Time First Observed : Null values:  10881550\n"
     ]
    },
    {
     "name": "stderr",
     "output_type": "stream",
     "text": [
      "                                                                                \r"
     ]
    },
    {
     "name": "stdout",
     "output_type": "stream",
     "text": [
      "Violation County : Null values:  42634\n"
     ]
    },
    {
     "name": "stderr",
     "output_type": "stream",
     "text": [
      "                                                                                \r"
     ]
    },
    {
     "name": "stdout",
     "output_type": "stream",
     "text": [
      "Violation In Front Of Or Opposite : Null values:  5404277\n"
     ]
    },
    {
     "name": "stderr",
     "output_type": "stream",
     "text": [
      "                                                                                \r"
     ]
    },
    {
     "name": "stdout",
     "output_type": "stream",
     "text": [
      "House Number : Null values:  5446068\n"
     ]
    },
    {
     "name": "stderr",
     "output_type": "stream",
     "text": [
      "                                                                                \r"
     ]
    },
    {
     "name": "stdout",
     "output_type": "stream",
     "text": [
      "Street Name : Null values:  1310\n"
     ]
    },
    {
     "name": "stderr",
     "output_type": "stream",
     "text": [
      "                                                                                \r"
     ]
    },
    {
     "name": "stdout",
     "output_type": "stream",
     "text": [
      "Intersecting Street : Null values:  5369958\n"
     ]
    },
    {
     "name": "stderr",
     "output_type": "stream",
     "text": [
      "                                                                                \r"
     ]
    },
    {
     "name": "stdout",
     "output_type": "stream",
     "text": [
      "Date First Observed : Null values:  0\n"
     ]
    },
    {
     "name": "stderr",
     "output_type": "stream",
     "text": [
      "                                                                                \r"
     ]
    },
    {
     "name": "stdout",
     "output_type": "stream",
     "text": [
      "Law Section : Null values:  0\n"
     ]
    },
    {
     "name": "stderr",
     "output_type": "stream",
     "text": [
      "                                                                                \r"
     ]
    },
    {
     "name": "stdout",
     "output_type": "stream",
     "text": [
      "Sub Division : Null values:  1681\n"
     ]
    },
    {
     "name": "stderr",
     "output_type": "stream",
     "text": [
      "                                                                                \r"
     ]
    },
    {
     "name": "stdout",
     "output_type": "stream",
     "text": [
      "Violation Legal Code : Null values:  6191157\n"
     ]
    },
    {
     "name": "stderr",
     "output_type": "stream",
     "text": [
      "                                                                                \r"
     ]
    },
    {
     "name": "stdout",
     "output_type": "stream",
     "text": [
      "Days Parking In Effect     : Null values:  5444990\n"
     ]
    },
    {
     "name": "stderr",
     "output_type": "stream",
     "text": [
      "                                                                                \r"
     ]
    },
    {
     "name": "stdout",
     "output_type": "stream",
     "text": [
      "From Hours In Effect : Null values:  7964864\n"
     ]
    },
    {
     "name": "stderr",
     "output_type": "stream",
     "text": [
      "                                                                                \r"
     ]
    },
    {
     "name": "stdout",
     "output_type": "stream",
     "text": [
      "To Hours In Effect : Null values:  7964879\n"
     ]
    },
    {
     "name": "stderr",
     "output_type": "stream",
     "text": [
      "                                                                                \r"
     ]
    },
    {
     "name": "stdout",
     "output_type": "stream",
     "text": [
      "Vehicle Color : Null values:  1032007\n"
     ]
    },
    {
     "name": "stderr",
     "output_type": "stream",
     "text": [
      "                                                                                \r"
     ]
    },
    {
     "name": "stdout",
     "output_type": "stream",
     "text": [
      "Unregistered Vehicle? : Null values:  11297515\n"
     ]
    },
    {
     "name": "stderr",
     "output_type": "stream",
     "text": [
      "                                                                                \r"
     ]
    },
    {
     "name": "stdout",
     "output_type": "stream",
     "text": [
      "Vehicle Year : Null values:  0\n"
     ]
    },
    {
     "name": "stderr",
     "output_type": "stream",
     "text": [
      "                                                                                \r"
     ]
    },
    {
     "name": "stdout",
     "output_type": "stream",
     "text": [
      "Meter Number : Null values:  10238122\n"
     ]
    },
    {
     "name": "stderr",
     "output_type": "stream",
     "text": [
      "                                                                                \r"
     ]
    },
    {
     "name": "stdout",
     "output_type": "stream",
     "text": [
      "Feet From Curb : Null values:  0\n"
     ]
    },
    {
     "name": "stderr",
     "output_type": "stream",
     "text": [
      "                                                                                \r"
     ]
    },
    {
     "name": "stdout",
     "output_type": "stream",
     "text": [
      "Violation Post Code : Null values:  5979457\n"
     ]
    },
    {
     "name": "stderr",
     "output_type": "stream",
     "text": [
      "                                                                                \r"
     ]
    },
    {
     "name": "stdout",
     "output_type": "stream",
     "text": [
      "Violation Description : Null values:  238417\n"
     ]
    },
    {
     "name": "stderr",
     "output_type": "stream",
     "text": [
      "                                                                                \r"
     ]
    },
    {
     "name": "stdout",
     "output_type": "stream",
     "text": [
      "No Standing or Stopping Violation : Null values:  11535314\n"
     ]
    },
    {
     "name": "stderr",
     "output_type": "stream",
     "text": [
      "                                                                                \r"
     ]
    },
    {
     "name": "stdout",
     "output_type": "stream",
     "text": [
      "Hydrant Violation : Null values:  11535314\n"
     ]
    },
    {
     "name": "stderr",
     "output_type": "stream",
     "text": [
      "[Stage 199:======================================>                (12 + 5) / 17]\r"
     ]
    },
    {
     "name": "stdout",
     "output_type": "stream",
     "text": [
      "Double Parking Violation : Null values:  11535314\n"
     ]
    },
    {
     "name": "stderr",
     "output_type": "stream",
     "text": [
      "                                                                                \r"
     ]
    }
   ],
   "source": [
    "for column in df.columns:\n",
    "    print(column, \":\", \"Null values: \", df.filter(df[column].isNull()).count())"
   ]
  },
  {
   "cell_type": "code",
   "execution_count": 44,
   "id": "99809f42",
   "metadata": {},
   "outputs": [
    {
     "name": "stderr",
     "output_type": "stream",
     "text": [
      "[Stage 202:===================================================>   (16 + 1) / 17]\r"
     ]
    },
    {
     "name": "stdout",
     "output_type": "stream",
     "text": [
      "+----------+------------------------------+\n",
      "|Issue Date|Total number of tickets issued|\n",
      "+----------+------------------------------+\n",
      "|2022-08-04|                         66726|\n",
      "|2022-08-05|                         65393|\n",
      "|2022-08-02|                         64876|\n",
      "|2022-06-30|                         64846|\n",
      "|2022-07-19|                         64815|\n",
      "|2022-11-25|                         64411|\n",
      "|2022-08-11|                         64192|\n",
      "|2022-08-18|                         63975|\n",
      "|2022-07-12|                         63780|\n",
      "|2022-07-15|                         63646|\n",
      "+----------+------------------------------+\n",
      "only showing top 10 rows\n",
      "\n"
     ]
    },
    {
     "name": "stderr",
     "output_type": "stream",
     "text": [
      "                                                                                \r"
     ]
    }
   ],
   "source": [
    "#1.1\n",
    "from pyspark.sql.functions import to_date, count\n",
    "from pyspark.sql.types import DateType\n",
    "\n",
    "df = df.withColumn(\"Issue Date\", to_date(df[\"Issue Date\"], \"MM/dd/yyyy\").cast(DateType()))\n",
    "\n",
    "ncount = df.groupBy(\"Issue Date\").agg(count(\"*\").alias(\"Total number of tickets issued\"))\n",
    "ncount = ncount.orderBy(\"Total number of tickets issued\", ascending=False)\n",
    "ncount.show(10)"
   ]
  },
  {
   "cell_type": "code",
   "execution_count": 45,
   "id": "e780923f",
   "metadata": {},
   "outputs": [
    {
     "name": "stderr",
     "output_type": "stream",
     "text": [
      "[Stage 205:===================================================>   (16 + 1) / 17]\r"
     ]
    },
    {
     "name": "stdout",
     "output_type": "stream",
     "text": [
      "+------------------------------+--------+\n",
      "|Total number of tickets issued|Time    |\n",
      "+------------------------------+--------+\n",
      "|22958                         |08:36 AM|\n",
      "|21772                         |08:39 AM|\n",
      "|21712                         |09:06 AM|\n",
      "|21588                         |08:40 AM|\n",
      "|21585                         |08:38 AM|\n",
      "|21074                         |08:37 AM|\n",
      "|20883                         |08:41 AM|\n",
      "|20765                         |09:08 AM|\n",
      "|20660                         |08:42 AM|\n",
      "|20564                         |11:41 AM|\n",
      "+------------------------------+--------+\n",
      "only showing top 10 rows\n",
      "\n"
     ]
    },
    {
     "name": "stderr",
     "output_type": "stream",
     "text": [
      "                                                                                \r"
     ]
    }
   ],
   "source": [
    "#1.1\n",
    "from pyspark.sql.functions import col, concat, lit, substring\n",
    "\n",
    "vtcount = df.groupBy(\"Violation Time\").agg(count(\"*\").alias(\"Total number of tickets issued\"))\n",
    "vtcount = vtcount.orderBy(\"Total number of tickets issued\", ascending=False)\n",
    "\n",
    "vtcount = vtcount.withColumn(\"Time\", concat(substring(col(\"Violation Time\"), 1, 2), lit(\":\"), \n",
    "                                            substring(col(\"Violation Time\"), 3, 2), lit(\" AM\")))\n",
    "vtcount = vtcount.drop(\"Violation Time\")\n",
    "vtcount.show(10,False)\n"
   ]
  },
  {
   "cell_type": "code",
   "execution_count": 47,
   "id": "8d7b9f0b",
   "metadata": {},
   "outputs": [
    {
     "name": "stderr",
     "output_type": "stream",
     "text": [
      "[Stage 208:===================================================>   (16 + 1) / 17]\r"
     ]
    },
    {
     "name": "stdout",
     "output_type": "stream",
     "text": [
      "+----+-----------------+-----------------------+\n",
      "|Year|Vehicle Body Type|Total Number of Tickets|\n",
      "+----+-----------------+-----------------------+\n",
      "|2022|             SUBN|                3909852|\n",
      "|2022|             4DSD|                2432083|\n",
      "|2023|             SUBN|                1050497|\n",
      "|2022|              VAN|                 676542|\n",
      "|2023|             4DSD|                 635016|\n",
      "|2022|               UT|                 317138|\n",
      "|2022|             PICK|                 258757|\n",
      "|2022|             DELV|                 196646|\n",
      "|2022|               SD|                 192466|\n",
      "|2023|              VAN|                 183923|\n",
      "+----+-----------------+-----------------------+\n",
      "only showing top 10 rows\n",
      "\n"
     ]
    },
    {
     "name": "stderr",
     "output_type": "stream",
     "text": [
      "                                                                                \r"
     ]
    }
   ],
   "source": [
    "#1.2\n",
    "from pyspark.sql.functions import year, count\n",
    "\n",
    "total = df.select(year('Issue Date').alias('Year'), 'Vehicle Body Type').groupBy('Year', 'Vehicle Body Type')\n",
    "        .agg(count('*').alias('Total Number of Tickets')).orderBy('Total Number of Tickets', ascending=False)\n",
    "\n",
    "total.show(10)\n"
   ]
  },
  {
   "cell_type": "code",
   "execution_count": 48,
   "id": "25b0a2a1",
   "metadata": {},
   "outputs": [
    {
     "name": "stderr",
     "output_type": "stream",
     "text": [
      "[Stage 211:===================================================>   (16 + 1) / 17]\r"
     ]
    },
    {
     "name": "stdout",
     "output_type": "stream",
     "text": [
      "+------------+-----------------+------------------------------+\n",
      "|Vehicle Year|Vehicle Body Type|Total number of tickets issued|\n",
      "+------------+-----------------+------------------------------+\n",
      "|        2021|             SUBN|                        574105|\n",
      "|        2020|             SUBN|                        474581|\n",
      "|        2022|             SUBN|                        450725|\n",
      "|        2019|             SUBN|                        427511|\n",
      "|        2018|             SUBN|                        330480|\n",
      "|        2017|             SUBN|                        268854|\n",
      "|        2016|             SUBN|                        216894|\n",
      "|        2015|             SUBN|                        206983|\n",
      "|        2017|             4DSD|                        203948|\n",
      "|        2018|             4DSD|                        199032|\n",
      "+------------+-----------------+------------------------------+\n",
      "only showing top 10 rows\n",
      "\n"
     ]
    },
    {
     "name": "stderr",
     "output_type": "stream",
     "text": [
      "                                                                                \r"
     ]
    }
   ],
   "source": [
    "#1.2\n",
    "\n",
    "vycount = df.groupBy('Vehicle Year','Vehicle Body Type').agg(count(\"*\").alias(\"Total number of tickets issued\"))\n",
    "vycount = vycount.filter(vycount['Vehicle Year']!=0)\n",
    "vycount = vycount.orderBy(\"Total number of tickets issued\", ascending=False)\n",
    "vycount.show(10)"
   ]
  },
  {
   "cell_type": "code",
   "execution_count": 49,
   "id": "7d8c1222",
   "metadata": {},
   "outputs": [
    {
     "name": "stderr",
     "output_type": "stream",
     "text": [
      "[Stage 214:================================================>      (15 + 2) / 17]\r"
     ]
    },
    {
     "name": "stdout",
     "output_type": "stream",
     "text": [
      "+------------------+------------------------------+\n",
      "|Violation Location|Total number of tickets issued|\n",
      "+------------------+------------------------------+\n",
      "|                19|                        282466|\n",
      "|                13|                        254057|\n",
      "|                 6|                        224686|\n",
      "|               114|                        221523|\n",
      "|                14|                        190012|\n",
      "|                18|                        176733|\n",
      "|                 9|                        162228|\n",
      "|                 1|                        152429|\n",
      "|               109|                        137833|\n",
      "|               115|                        127523|\n",
      "+------------------+------------------------------+\n",
      "only showing top 10 rows\n",
      "\n"
     ]
    },
    {
     "name": "stderr",
     "output_type": "stream",
     "text": [
      "                                                                                \r"
     ]
    }
   ],
   "source": [
    "#1.3\n",
    "wcount = df.groupBy(\"Violation Location\").agg(count(\"*\").alias(\"Total number of tickets issued\"))\n",
    "wcount = wcount.filter(col(\"Violation Location\").isNotNull())\n",
    "wcount = wcount.orderBy(\"Total number of tickets issued\", ascending=False)\n",
    "wcount.show(10)\n"
   ]
  },
  {
   "cell_type": "code",
   "execution_count": 65,
   "id": "d30df71b",
   "metadata": {},
   "outputs": [
    {
     "name": "stderr",
     "output_type": "stream",
     "text": [
      "[Stage 227:===================================================>   (16 + 1) / 17]\r"
     ]
    },
    {
     "name": "stdout",
     "output_type": "stream",
     "text": [
      "+-------------+------------------------------+\n",
      "|Vehicle Color|Total number of tickets issued|\n",
      "+-------------+------------------------------+\n",
      "|           GY|                       2275457|\n",
      "|           WH|                       2055818|\n",
      "|           BK|                       1992788|\n",
      "|           BL|                        760235|\n",
      "|        WHITE|                        671757|\n",
      "|           RD|                        435989|\n",
      "|        BLACK|                        424056|\n",
      "|         GREY|                        308993|\n",
      "|        SILVE|                        151063|\n",
      "|         BLUE|                        150435|\n",
      "+-------------+------------------------------+\n",
      "only showing top 10 rows\n",
      "\n"
     ]
    },
    {
     "name": "stderr",
     "output_type": "stream",
     "text": [
      "                                                                                \r"
     ]
    }
   ],
   "source": [
    "#1.4\n",
    "ccount = df.groupBy(\"Vehicle Color\").agg(count(\"*\").alias(\"Total number of tickets issued\"))\n",
    "ccount = ccount.filter(col(\"Vehicle Color\").isNotNull())\n",
    "ccount = ccount.orderBy(\"Total number of tickets issued\", ascending=False)\n",
    "ccount.show(10)\n"
   ]
  },
  {
   "cell_type": "code",
   "execution_count": 10,
   "id": "34ca6e29",
   "metadata": {
    "scrolled": true
   },
   "outputs": [
    {
     "name": "stderr",
     "output_type": "stream",
     "text": [
      "[Stage 67:==========================================>             (13 + 4) / 17]\r"
     ]
    },
    {
     "name": "stdout",
     "output_type": "stream",
     "text": [
      "+-------------+\n",
      "|Vehicle Color|\n",
      "+-------------+\n",
      "|BKMR         |\n",
      "|BKGL         |\n",
      "|BUR          |\n",
      "|BLTN         |\n",
      "|BLK          |\n",
      "|BRWN         |\n",
      "|BRRD         |\n",
      "|BKBR         |\n",
      "|BIEGE        |\n",
      "|BW           |\n",
      "|BRBL         |\n",
      "|BKI          |\n",
      "|BRCDF        |\n",
      "|BRN          |\n",
      "|BLACK        |\n",
      "|BURGU        |\n",
      "|BUS          |\n",
      "|BUE          |\n",
      "|BLAAC        |\n",
      "|BKWH         |\n",
      "|BRGL         |\n",
      "|BU           |\n",
      "|BKBK         |\n",
      "|BKTN         |\n",
      "|BRONZ        |\n",
      "|BLB          |\n",
      "|BL/          |\n",
      "|BEIGE        |\n",
      "|BEGE         |\n",
      "|BLPR         |\n",
      "|BLUE,        |\n",
      "|BRZ          |\n",
      "|B            |\n",
      "|BKW          |\n",
      "|BN           |\n",
      "|BLAK         |\n",
      "|BLBL         |\n",
      "|BKH          |\n",
      "|BL6          |\n",
      "|BKJ          |\n",
      "|BIK          |\n",
      "|BLACJ        |\n",
      "|BL           |\n",
      "|BUGE         |\n",
      "|BLAC         |\n",
      "|BKPR         |\n",
      "|BLE          |\n",
      "|BKGY         |\n",
      "|BR           |\n",
      "|BEI          |\n",
      "|BURG         |\n",
      "|BGI          |\n",
      "|BRGR         |\n",
      "|BLBK         |\n",
      "|BK+          |\n",
      "|BROW         |\n",
      "|BK/          |\n",
      "|BKL          |\n",
      "|BWN          |\n",
      "|BKRD         |\n",
      "|BKACK        |\n",
      "|BIEG         |\n",
      "|BKL.[        |\n",
      "|BRO          |\n",
      "|BROWN        |\n",
      "|BKYW         |\n",
      "|BK           |\n",
      "|B K          |\n",
      "|BLU          |\n",
      "|BKBL         |\n",
      "|BLCK         |\n",
      "|BKG          |\n",
      "|BRW          |\n",
      "|BRU76        |\n",
      "|BLWH         |\n",
      "|BLRD         |\n",
      "|BACK         |\n",
      "|BLYW         |\n",
      "|BKX          |\n",
      "|Blue         |\n",
      "|BG           |\n",
      "|BGE          |\n",
      "|BKUE         |\n",
      "|BCK          |\n",
      "|BLUE         |\n",
      "|BL/WH        |\n",
      "|BRTN         |\n",
      "|BL.          |\n",
      "|BLG          |\n",
      "|Brown        |\n",
      "|BKGR         |\n",
      "|BLMR         |\n",
      "|BLGR         |\n",
      "|BLC          |\n",
      "|BIGE         |\n",
      "|Black        |\n",
      "|BURGA        |\n",
      "|BLT          |\n",
      "|BLKTA        |\n",
      "|BLBR         |\n",
      "|BLGY         |\n",
      "|BLA          |\n",
      "|BL/BK        |\n",
      "|B LAC        |\n",
      "|BRGY         |\n",
      "|BUG          |\n",
      "|BK/GY        |\n",
      "|BRT          |\n",
      "|BURUN        |\n",
      "|BX           |\n",
      "|BLW          |\n",
      "|BK,          |\n",
      "|BKOR         |\n",
      "|BJ           |\n",
      "|BALCK        |\n",
      "|BLGL         |\n",
      "|BK.          |\n",
      "|BLV          |\n",
      "|BRWR         |\n",
      "|BEKE         |\n",
      "|BKM          |\n",
      "|BLUGR        |\n",
      "|BLUR         |\n",
      "|BL/GY        |\n",
      "|BLUEB        |\n",
      "|BK/BL        |\n",
      "|BLY          |\n",
      "|BURGD        |\n",
      "|BRBK         |\n",
      "|BORG         |\n",
      "|BURND        |\n",
      "|BGY          |\n",
      "|BLOR         |\n",
      "|BRMR         |\n",
      "|BKNO         |\n",
      "|BL BK        |\n",
      "|BURGN        |\n",
      "|BLACL        |\n",
      "|BKC          |\n",
      "|BRIGE        |\n",
      "|BK0-'        |\n",
      "|BBLK         |\n",
      "|BK/TN        |\n",
      "|BL K         |\n",
      "|BKT          |\n",
      "|BRPR         |\n",
      "|BKPK         |\n",
      "|BK333        |\n",
      "|BUY          |\n",
      "|BOLD         |\n",
      "|BEIG         |\n",
      "|BY           |\n",
      "|Bronz        |\n",
      "|BKU          |\n",
      "|BRWON        |\n",
      "|BURGY        |\n",
      "|BL/GR        |\n",
      "|BERG         |\n",
      "|B L          |\n",
      "|BUICK        |\n",
      "|BGDY         |\n",
      "|BL/GL        |\n",
      "|BLGY0        |\n",
      "|Beige        |\n",
      "|BLUN         |\n",
      "|BLP          |\n",
      "|BOMBY        |\n",
      "|BK1          |\n",
      "|BE           |\n",
      "|BR0          |\n",
      "|BNR          |\n",
      "|BGE/G        |\n",
      "|BEG          |\n",
      "|BKZ          |\n",
      "|BERGE        |\n",
      "|BK0          |\n",
      "|BLKWH        |\n",
      "|BLF          |\n",
      "|BLD          |\n",
      "|BRG          |\n",
      "|BK3          |\n",
      "|BK000        |\n",
      "|BIA          |\n",
      "|BLHJ         |\n",
      "|BL/TN        |\n",
      "|BRWH         |\n",
      "|BK/GR        |\n",
      "|BRK          |\n",
      "|BRY          |\n",
      "|BKB          |\n",
      "|BK```        |\n",
      "|BLI          |\n",
      "|BEW          |\n",
      "|BMW          |\n",
      "|BLVGK        |\n",
      "|BLUGY        |\n",
      "|BRA          |\n",
      "|B UE         |\n",
      "|BRON         |\n",
      "|BLN          |\n",
      "|BUL          |\n",
      "|BLO          |\n",
      "|BKN          |\n",
      "|BLIE         |\n",
      "|BK/RD        |\n",
      "|BPK          |\n",
      "|BKLKK        |\n",
      "|BLJK         |\n",
      "|BBLUE        |\n",
      "|B LK         |\n",
      "|BURY         |\n",
      "|BRYW         |\n",
      "|BR/MR        |\n",
      "|BIR          |\n",
      "|BLUE.        |\n",
      "|BROWM        |\n",
      "|BLR          |\n",
      "|BK/WH        |\n",
      "|BLUER        |\n",
      "|BURDI        |\n",
      "|Blue,        |\n",
      "|BLKG         |\n",
      "|BLL          |\n",
      "|BM           |\n",
      "|BURD         |\n",
      "|BROR         |\n",
      "+-------------+\n",
      "\n"
     ]
    },
    {
     "name": "stderr",
     "output_type": "stream",
     "text": [
      "                                                                                \r"
     ]
    }
   ],
   "source": [
    "# Kmeans \n",
    "from pyspark.sql.functions import col, lower\n",
    "unique = df.select(col(\"Vehicle Color\")).distinct().filter(col(\"Vehicle Color\").startswith(\"B\"))\n",
    "unique.show(unique.count(), truncate=False)"
   ]
  },
  {
   "cell_type": "code",
   "execution_count": 3,
   "id": "2375ce8d",
   "metadata": {
    "scrolled": true
   },
   "outputs": [
    {
     "name": "stderr",
     "output_type": "stream",
     "text": [
      "[Stage 40:>                                                        (0 + 8) / 17]\r"
     ]
    },
    {
     "name": "stdout",
     "output_type": "stream",
     "text": [
      "23/04/13 12:49:28 WARN MemoryStore: Not enough space to cache rdd_92_7 in memory! (computed 44.2 MiB so far)\n",
      "23/04/13 12:49:28 WARN BlockManager: Persisting block rdd_92_7 to disk instead.\n",
      "23/04/13 12:49:28 WARN MemoryStore: Not enough space to cache rdd_92_5 in memory! (computed 44.2 MiB so far)\n",
      "23/04/13 12:49:28 WARN BlockManager: Persisting block rdd_92_5 to disk instead.\n",
      "23/04/13 12:49:28 WARN MemoryStore: Not enough space to cache rdd_92_2 in memory! (computed 44.2 MiB so far)\n",
      "23/04/13 12:49:28 WARN BlockManager: Persisting block rdd_92_2 to disk instead.\n",
      "23/04/13 12:49:29 WARN MemoryStore: Not enough space to cache rdd_92_3 in memory! (computed 44.2 MiB so far)\n",
      "23/04/13 12:49:29 WARN MemoryStore: Not enough space to cache rdd_92_0 in memory! (computed 44.2 MiB so far)\n",
      "23/04/13 12:49:29 WARN BlockManager: Persisting block rdd_92_3 to disk instead.\n",
      "23/04/13 12:49:29 WARN BlockManager: Persisting block rdd_92_0 to disk instead.\n",
      "23/04/13 12:49:29 WARN MemoryStore: Not enough space to cache rdd_92_4 in memory! (computed 44.2 MiB so far)\n",
      "23/04/13 12:49:29 WARN BlockManager: Persisting block rdd_92_4 to disk instead.\n",
      "23/04/13 12:49:29 WARN MemoryStore: Not enough space to cache rdd_92_6 in memory! (computed 44.2 MiB so far)\n",
      "23/04/13 12:49:29 WARN BlockManager: Persisting block rdd_92_6 to disk instead.\n"
     ]
    },
    {
     "name": "stderr",
     "output_type": "stream",
     "text": [
      "[Stage 40:===>                                                     (1 + 8) / 17]\r"
     ]
    },
    {
     "name": "stdout",
     "output_type": "stream",
     "text": [
      "23/04/13 12:49:31 ERROR Inbox: Ignoring error\n",
      "org.apache.spark.SparkException: Exception thrown in awaitResult: \n",
      "\tat org.apache.spark.util.ThreadUtils$.awaitResult(ThreadUtils.scala:301)\n",
      "\tat org.apache.spark.rpc.RpcTimeout.awaitResult(RpcTimeout.scala:75)\n",
      "\tat org.apache.spark.rpc.RpcEnv.setupEndpointRefByURI(RpcEnv.scala:102)\n",
      "\tat org.apache.spark.rpc.RpcEnv.setupEndpointRef(RpcEnv.scala:110)\n",
      "\tat org.apache.spark.util.RpcUtils$.makeDriverRef(RpcUtils.scala:36)\n",
      "\tat org.apache.spark.storage.BlockManagerMasterEndpoint.driverEndpoint$lzycompute(BlockManagerMasterEndpoint.scala:117)\n",
      "\tat org.apache.spark.storage.BlockManagerMasterEndpoint.org$apache$spark$storage$BlockManagerMasterEndpoint$$driverEndpoint(BlockManagerMasterEndpoint.scala:116)\n",
      "\tat org.apache.spark.storage.BlockManagerMasterEndpoint.isExecutorAlive$lzycompute$1(BlockManagerMasterEndpoint.scala:593)\n",
      "\tat org.apache.spark.storage.BlockManagerMasterEndpoint.isExecutorAlive$1(BlockManagerMasterEndpoint.scala:592)\n",
      "\tat org.apache.spark.storage.BlockManagerMasterEndpoint.org$apache$spark$storage$BlockManagerMasterEndpoint$$register(BlockManagerMasterEndpoint.scala:630)\n",
      "\tat org.apache.spark.storage.BlockManagerMasterEndpoint$$anonfun$receiveAndReply$1.applyOrElse(BlockManagerMasterEndpoint.scala:123)\n",
      "\tat org.apache.spark.rpc.netty.Inbox.$anonfun$process$1(Inbox.scala:103)\n",
      "\tat org.apache.spark.rpc.netty.Inbox.safelyCall(Inbox.scala:213)\n",
      "\tat org.apache.spark.rpc.netty.Inbox.process(Inbox.scala:100)\n",
      "\tat org.apache.spark.rpc.netty.MessageLoop.org$apache$spark$rpc$netty$MessageLoop$$receiveLoop(MessageLoop.scala:75)\n",
      "\tat org.apache.spark.rpc.netty.MessageLoop$$anon$1.run(MessageLoop.scala:41)\n",
      "\tat java.util.concurrent.Executors$RunnableAdapter.call(Executors.java:511)\n",
      "\tat java.util.concurrent.FutureTask.run(FutureTask.java:266)\n",
      "\tat java.util.concurrent.ThreadPoolExecutor.runWorker(ThreadPoolExecutor.java:1149)\n",
      "\tat java.util.concurrent.ThreadPoolExecutor$Worker.run(ThreadPoolExecutor.java:624)\n",
      "\tat java.lang.Thread.run(Thread.java:750)\n",
      "Caused by: org.apache.spark.rpc.RpcEndpointNotFoundException: Cannot find endpoint: spark://CoarseGrainedScheduler@10.0.0.167:50332\n",
      "\tat org.apache.spark.rpc.netty.NettyRpcEnv.$anonfun$asyncSetupEndpointRefByURI$1(NettyRpcEnv.scala:148)\n",
      "\tat org.apache.spark.rpc.netty.NettyRpcEnv.$anonfun$asyncSetupEndpointRefByURI$1$adapted(NettyRpcEnv.scala:144)\n",
      "\tat scala.concurrent.Future.$anonfun$flatMap$1(Future.scala:307)\n",
      "\tat scala.concurrent.impl.Promise.$anonfun$transformWith$1(Promise.scala:41)\n",
      "\tat scala.concurrent.impl.CallbackRunnable.run(Promise.scala:64)\n",
      "\tat org.apache.spark.util.ThreadUtils$$anon$1.execute(ThreadUtils.scala:99)\n",
      "\tat scala.concurrent.impl.ExecutionContextImpl$$anon$4.execute(ExecutionContextImpl.scala:138)\n",
      "\tat scala.concurrent.impl.CallbackRunnable.executeWithValue(Promise.scala:72)\n",
      "\tat scala.concurrent.impl.Promise$DefaultPromise.dispatchOrAddCallback(Promise.scala:316)\n",
      "\tat scala.concurrent.impl.Promise$DefaultPromise.onComplete(Promise.scala:307)\n",
      "\tat scala.concurrent.impl.Promise.transformWith(Promise.scala:40)\n",
      "\tat scala.concurrent.impl.Promise.transformWith$(Promise.scala:38)\n",
      "\tat scala.concurrent.impl.Promise$DefaultPromise.transformWith(Promise.scala:187)\n",
      "\tat scala.concurrent.Future.flatMap(Future.scala:306)\n",
      "\tat scala.concurrent.Future.flatMap$(Future.scala:306)\n",
      "\tat scala.concurrent.impl.Promise$DefaultPromise.flatMap(Promise.scala:187)\n",
      "\tat org.apache.spark.rpc.netty.NettyRpcEnv.asyncSetupEndpointRefByURI(NettyRpcEnv.scala:150)\n",
      "\t... 19 more\n",
      "23/04/13 12:49:31 WARN Executor: Issue communicating with driver in heartbeater\n",
      "org.apache.spark.SparkException: Exception thrown in awaitResult: \n",
      "\tat org.apache.spark.util.ThreadUtils$.awaitResult(ThreadUtils.scala:301)\n",
      "\tat org.apache.spark.rpc.RpcTimeout.awaitResult(RpcTimeout.scala:75)\n",
      "\tat org.apache.spark.rpc.RpcEndpointRef.askSync(RpcEndpointRef.scala:103)\n",
      "\tat org.apache.spark.rpc.RpcEndpointRef.askSync(RpcEndpointRef.scala:87)\n",
      "\tat org.apache.spark.storage.BlockManagerMaster.registerBlockManager(BlockManagerMaster.scala:80)\n",
      "\tat org.apache.spark.storage.BlockManager.reregister(BlockManager.scala:643)\n",
      "\tat org.apache.spark.executor.Executor.reportHeartBeat(Executor.scala:1057)\n",
      "\tat org.apache.spark.executor.Executor.$anonfun$heartbeater$1(Executor.scala:238)\n",
      "\tat scala.runtime.java8.JFunction0$mcV$sp.apply(JFunction0$mcV$sp.java:23)\n",
      "\tat org.apache.spark.util.Utils$.logUncaughtExceptions(Utils.scala:2066)\n",
      "\tat org.apache.spark.Heartbeater$$anon$1.run(Heartbeater.scala:46)\n",
      "\tat java.util.concurrent.Executors$RunnableAdapter.call(Executors.java:511)\n",
      "\tat java.util.concurrent.FutureTask.runAndReset(FutureTask.java:308)\n",
      "\tat java.util.concurrent.ScheduledThreadPoolExecutor$ScheduledFutureTask.access$301(ScheduledThreadPoolExecutor.java:180)\n",
      "\tat java.util.concurrent.ScheduledThreadPoolExecutor$ScheduledFutureTask.run(ScheduledThreadPoolExecutor.java:294)\n",
      "\tat java.util.concurrent.ThreadPoolExecutor.runWorker(ThreadPoolExecutor.java:1149)\n",
      "\tat java.util.concurrent.ThreadPoolExecutor$Worker.run(ThreadPoolExecutor.java:624)\n",
      "\tat java.lang.Thread.run(Thread.java:750)\n",
      "Caused by: org.apache.spark.SparkException: Exception thrown in awaitResult: \n",
      "\tat org.apache.spark.util.ThreadUtils$.awaitResult(ThreadUtils.scala:301)\n",
      "\tat org.apache.spark.rpc.RpcTimeout.awaitResult(RpcTimeout.scala:75)\n",
      "\tat org.apache.spark.rpc.RpcEnv.setupEndpointRefByURI(RpcEnv.scala:102)\n",
      "\tat org.apache.spark.rpc.RpcEnv.setupEndpointRef(RpcEnv.scala:110)\n",
      "\tat org.apache.spark.util.RpcUtils$.makeDriverRef(RpcUtils.scala:36)\n",
      "\tat org.apache.spark.storage.BlockManagerMasterEndpoint.driverEndpoint$lzycompute(BlockManagerMasterEndpoint.scala:117)\n",
      "\tat org.apache.spark.storage.BlockManagerMasterEndpoint.org$apache$spark$storage$BlockManagerMasterEndpoint$$driverEndpoint(BlockManagerMasterEndpoint.scala:116)\n",
      "\tat org.apache.spark.storage.BlockManagerMasterEndpoint.isExecutorAlive$lzycompute$1(BlockManagerMasterEndpoint.scala:593)\n",
      "\tat org.apache.spark.storage.BlockManagerMasterEndpoint.isExecutorAlive$1(BlockManagerMasterEndpoint.scala:592)\n",
      "\tat org.apache.spark.storage.BlockManagerMasterEndpoint.org$apache$spark$storage$BlockManagerMasterEndpoint$$register(BlockManagerMasterEndpoint.scala:630)\n",
      "\tat org.apache.spark.storage.BlockManagerMasterEndpoint$$anonfun$receiveAndReply$1.applyOrElse(BlockManagerMasterEndpoint.scala:123)\n",
      "\tat org.apache.spark.rpc.netty.Inbox.$anonfun$process$1(Inbox.scala:103)\n",
      "\tat org.apache.spark.rpc.netty.Inbox.safelyCall(Inbox.scala:213)\n",
      "\tat org.apache.spark.rpc.netty.Inbox.process(Inbox.scala:100)\n",
      "\tat org.apache.spark.rpc.netty.MessageLoop.org$apache$spark$rpc$netty$MessageLoop$$receiveLoop(MessageLoop.scala:75)\n",
      "\tat org.apache.spark.rpc.netty.MessageLoop$$anon$1.run(MessageLoop.scala:41)\n",
      "\tat java.util.concurrent.Executors$RunnableAdapter.call(Executors.java:511)\n",
      "\tat java.util.concurrent.FutureTask.run(FutureTask.java:266)\n",
      "\t... 3 more\n",
      "Caused by: org.apache.spark.rpc.RpcEndpointNotFoundException: Cannot find endpoint: spark://CoarseGrainedScheduler@10.0.0.167:50332\n",
      "\tat org.apache.spark.rpc.netty.NettyRpcEnv.$anonfun$asyncSetupEndpointRefByURI$1(NettyRpcEnv.scala:148)\n",
      "\tat org.apache.spark.rpc.netty.NettyRpcEnv.$anonfun$asyncSetupEndpointRefByURI$1$adapted(NettyRpcEnv.scala:144)\n",
      "\tat scala.concurrent.Future.$anonfun$flatMap$1(Future.scala:307)\n",
      "\tat scala.concurrent.impl.Promise.$anonfun$transformWith$1(Promise.scala:41)\n",
      "\tat scala.concurrent.impl.CallbackRunnable.run(Promise.scala:64)\n",
      "\tat org.apache.spark.util.ThreadUtils$$anon$1.execute(ThreadUtils.scala:99)\n",
      "\tat scala.concurrent.impl.ExecutionContextImpl$$anon$4.execute(ExecutionContextImpl.scala:138)\n",
      "\tat scala.concurrent.impl.CallbackRunnable.executeWithValue(Promise.scala:72)\n",
      "\tat scala.concurrent.impl.Promise$DefaultPromise.dispatchOrAddCallback(Promise.scala:316)\n",
      "\tat scala.concurrent.impl.Promise$DefaultPromise.onComplete(Promise.scala:307)\n",
      "\tat scala.concurrent.impl.Promise.transformWith(Promise.scala:40)\n",
      "\tat scala.concurrent.impl.Promise.transformWith$(Promise.scala:38)\n",
      "\tat scala.concurrent.impl.Promise$DefaultPromise.transformWith(Promise.scala:187)\n",
      "\tat scala.concurrent.Future.flatMap(Future.scala:306)\n",
      "\tat scala.concurrent.Future.flatMap$(Future.scala:306)\n",
      "\tat scala.concurrent.impl.Promise$DefaultPromise.flatMap(Promise.scala:187)\n",
      "\tat org.apache.spark.rpc.netty.NettyRpcEnv.asyncSetupEndpointRefByURI(NettyRpcEnv.scala:150)\n",
      "\t... 19 more\n",
      "23/04/13 12:49:33 WARN MemoryStore: Not enough space to cache rdd_92_4 in memory! (computed 44.2 MiB so far)\n",
      "23/04/13 12:49:33 WARN MemoryStore: Not enough space to cache rdd_92_2 in memory! (computed 44.2 MiB so far)\n",
      "23/04/13 12:49:33 WARN MemoryStore: Not enough space to cache rdd_92_5 in memory! (computed 44.2 MiB so far)\n"
     ]
    },
    {
     "name": "stderr",
     "output_type": "stream",
     "text": [
      "[Stage 40:==========================>                              (8 + 8) / 17]\r"
     ]
    },
    {
     "name": "stdout",
     "output_type": "stream",
     "text": [
      "23/04/13 12:49:34 WARN MemoryStore: Not enough space to cache rdd_92_10 in memory! (computed 3.7 MiB so far)\n",
      "23/04/13 12:49:34 WARN MemoryStore: Not enough space to cache rdd_92_9 in memory! (computed 3.7 MiB so far)\n",
      "23/04/13 12:49:34 WARN MemoryStore: Not enough space to cache rdd_92_13 in memory! (computed 3.7 MiB so far)\n",
      "23/04/13 12:49:34 WARN BlockManager: Persisting block rdd_92_13 to disk instead.\n",
      "23/04/13 12:49:34 WARN BlockManager: Persisting block rdd_92_10 to disk instead.\n",
      "23/04/13 12:49:34 WARN BlockManager: Persisting block rdd_92_9 to disk instead.\n",
      "23/04/13 12:49:34 WARN MemoryStore: Not enough space to cache rdd_92_15 in memory! (computed 5.6 MiB so far)\n",
      "23/04/13 12:49:34 WARN BlockManager: Persisting block rdd_92_15 to disk instead.\n",
      "23/04/13 12:49:34 WARN MemoryStore: Not enough space to cache rdd_92_8 in memory! (computed 19.6 MiB so far)\n",
      "23/04/13 12:49:34 WARN BlockManager: Persisting block rdd_92_8 to disk instead.\n",
      "23/04/13 12:49:35 WARN MemoryStore: Not enough space to cache rdd_92_14 in memory! (computed 13.1 MiB so far)\n",
      "23/04/13 12:49:35 WARN BlockManager: Persisting block rdd_92_14 to disk instead.\n",
      "23/04/13 12:49:36 WARN MemoryStore: Not enough space to cache rdd_92_11 in memory! (computed 19.6 MiB so far)\n",
      "23/04/13 12:49:36 WARN BlockManager: Persisting block rdd_92_11 to disk instead.\n",
      "23/04/13 12:49:39 WARN MemoryStore: Not enough space to cache rdd_92_12 in memory! (computed 44.2 MiB so far)\n",
      "23/04/13 12:49:39 WARN BlockManager: Persisting block rdd_92_12 to disk instead.\n",
      "23/04/13 12:49:40 WARN MemoryStore: Not enough space to cache rdd_92_8 in memory! (computed 44.2 MiB so far)\n"
     ]
    },
    {
     "name": "stderr",
     "output_type": "stream",
     "text": [
      "[Stage 40:==============================>                          (9 + 8) / 17]\r"
     ]
    },
    {
     "name": "stdout",
     "output_type": "stream",
     "text": [
      "23/04/13 12:49:41 WARN Executor: Issue communicating with driver in heartbeater\n",
      "org.apache.spark.SparkException: Exception thrown in awaitResult: \n",
      "\tat org.apache.spark.util.ThreadUtils$.awaitResult(ThreadUtils.scala:301)\n",
      "\tat org.apache.spark.rpc.RpcTimeout.awaitResult(RpcTimeout.scala:75)\n",
      "\tat org.apache.spark.rpc.RpcEndpointRef.askSync(RpcEndpointRef.scala:103)\n",
      "\tat org.apache.spark.rpc.RpcEndpointRef.askSync(RpcEndpointRef.scala:87)\n",
      "\tat org.apache.spark.storage.BlockManagerMaster.registerBlockManager(BlockManagerMaster.scala:80)\n",
      "\tat org.apache.spark.storage.BlockManager.reregister(BlockManager.scala:643)\n",
      "\tat org.apache.spark.executor.Executor.reportHeartBeat(Executor.scala:1057)\n",
      "\tat org.apache.spark.executor.Executor.$anonfun$heartbeater$1(Executor.scala:238)\n",
      "\tat scala.runtime.java8.JFunction0$mcV$sp.apply(JFunction0$mcV$sp.java:23)\n",
      "\tat org.apache.spark.util.Utils$.logUncaughtExceptions(Utils.scala:2066)\n",
      "\tat org.apache.spark.Heartbeater$$anon$1.run(Heartbeater.scala:46)\n",
      "\tat java.util.concurrent.Executors$RunnableAdapter.call(Executors.java:511)\n",
      "\tat java.util.concurrent.FutureTask.runAndReset(FutureTask.java:308)\n",
      "\tat java.util.concurrent.ScheduledThreadPoolExecutor$ScheduledFutureTask.access$301(ScheduledThreadPoolExecutor.java:180)\n",
      "\tat java.util.concurrent.ScheduledThreadPoolExecutor$ScheduledFutureTask.run(ScheduledThreadPoolExecutor.java:294)\n",
      "\tat java.util.concurrent.ThreadPoolExecutor.runWorker(ThreadPoolExecutor.java:1149)\n",
      "\tat java.util.concurrent.ThreadPoolExecutor$Worker.run(ThreadPoolExecutor.java:624)\n",
      "\tat java.lang.Thread.run(Thread.java:750)\n",
      "Caused by: org.apache.spark.SparkException: Exception thrown in awaitResult: \n",
      "\tat org.apache.spark.util.ThreadUtils$.awaitResult(ThreadUtils.scala:301)\n",
      "\tat org.apache.spark.rpc.RpcTimeout.awaitResult(RpcTimeout.scala:75)\n",
      "\tat org.apache.spark.rpc.RpcEnv.setupEndpointRefByURI(RpcEnv.scala:102)\n",
      "\tat org.apache.spark.rpc.RpcEnv.setupEndpointRef(RpcEnv.scala:110)\n",
      "\tat org.apache.spark.util.RpcUtils$.makeDriverRef(RpcUtils.scala:36)\n",
      "\tat org.apache.spark.storage.BlockManagerMasterEndpoint.driverEndpoint$lzycompute(BlockManagerMasterEndpoint.scala:117)\n",
      "\tat org.apache.spark.storage.BlockManagerMasterEndpoint.org$apache$spark$storage$BlockManagerMasterEndpoint$$driverEndpoint(BlockManagerMasterEndpoint.scala:116)\n",
      "\tat org.apache.spark.storage.BlockManagerMasterEndpoint.isExecutorAlive$lzycompute$1(BlockManagerMasterEndpoint.scala:593)\n",
      "\tat org.apache.spark.storage.BlockManagerMasterEndpoint.isExecutorAlive$1(BlockManagerMasterEndpoint.scala:592)\n",
      "\tat org.apache.spark.storage.BlockManagerMasterEndpoint.org$apache$spark$storage$BlockManagerMasterEndpoint$$register(BlockManagerMasterEndpoint.scala:630)\n",
      "\tat org.apache.spark.storage.BlockManagerMasterEndpoint$$anonfun$receiveAndReply$1.applyOrElse(BlockManagerMasterEndpoint.scala:123)\n",
      "\tat org.apache.spark.rpc.netty.Inbox.$anonfun$process$1(Inbox.scala:103)\n",
      "\tat org.apache.spark.rpc.netty.Inbox.safelyCall(Inbox.scala:213)\n",
      "\tat org.apache.spark.rpc.netty.Inbox.process(Inbox.scala:100)\n",
      "\tat org.apache.spark.rpc.netty.MessageLoop.org$apache$spark$rpc$netty$MessageLoop$$receiveLoop(MessageLoop.scala:75)\n",
      "\tat org.apache.spark.rpc.netty.MessageLoop$$anon$1.run(MessageLoop.scala:41)\n",
      "\tat java.util.concurrent.Executors$RunnableAdapter.call(Executors.java:511)\n",
      "\tat java.util.concurrent.FutureTask.run(FutureTask.java:266)\n",
      "\t... 3 more\n",
      "Caused by: org.apache.spark.rpc.RpcEndpointNotFoundException: Cannot find endpoint: spark://CoarseGrainedScheduler@10.0.0.167:50332\n",
      "\tat org.apache.spark.rpc.netty.NettyRpcEnv.$anonfun$asyncSetupEndpointRefByURI$1(NettyRpcEnv.scala:148)\n",
      "\tat org.apache.spark.rpc.netty.NettyRpcEnv.$anonfun$asyncSetupEndpointRefByURI$1$adapted(NettyRpcEnv.scala:144)\n",
      "\tat scala.concurrent.Future.$anonfun$flatMap$1(Future.scala:307)\n",
      "\tat scala.concurrent.impl.Promise.$anonfun$transformWith$1(Promise.scala:41)\n",
      "\tat scala.concurrent.impl.CallbackRunnable.run(Promise.scala:64)\n",
      "\tat org.apache.spark.util.ThreadUtils$$anon$1.execute(ThreadUtils.scala:99)\n",
      "\tat scala.concurrent.impl.ExecutionContextImpl$$anon$4.execute(ExecutionContextImpl.scala:138)\n",
      "\tat scala.concurrent.impl.CallbackRunnable.executeWithValue(Promise.scala:72)\n",
      "\tat scala.concurrent.impl.Promise$DefaultPromise.$anonfun$tryComplete$1(Promise.scala:288)\n",
      "\tat scala.concurrent.impl.Promise$DefaultPromise.$anonfun$tryComplete$1$adapted(Promise.scala:288)\n",
      "\tat scala.concurrent.impl.Promise$DefaultPromise.tryComplete(Promise.scala:288)\n",
      "\tat scala.concurrent.Promise.complete(Promise.scala:53)\n",
      "\tat scala.concurrent.Promise.complete$(Promise.scala:52)\n",
      "\tat scala.concurrent.impl.Promise$DefaultPromise.complete(Promise.scala:187)\n",
      "\tat scala.concurrent.impl.Promise.$anonfun$transform$1(Promise.scala:33)\n",
      "\tat scala.concurrent.impl.CallbackRunnable.run(Promise.scala:64)\n",
      "\tat org.apache.spark.util.ThreadUtils$$anon$1.execute(ThreadUtils.scala:99)\n",
      "\tat scala.concurrent.impl.ExecutionContextImpl$$anon$4.execute(ExecutionContextImpl.scala:138)\n",
      "\tat scala.concurrent.impl.CallbackRunnable.executeWithValue(Promise.scala:72)\n",
      "\tat scala.concurrent.impl.Promise$DefaultPromise.$anonfun$tryComplete$1(Promise.scala:288)\n",
      "\tat scala.concurrent.impl.Promise$DefaultPromise.$anonfun$tryComplete$1$adapted(Promise.scala:288)\n",
      "\tat scala.concurrent.impl.Promise$DefaultPromise.tryComplete(Promise.scala:288)\n",
      "\tat scala.concurrent.Promise.complete(Promise.scala:53)\n",
      "\tat scala.concurrent.Promise.complete$(Promise.scala:52)\n",
      "\tat scala.concurrent.impl.Promise$DefaultPromise.complete(Promise.scala:187)\n",
      "\tat scala.concurrent.impl.Promise.$anonfun$transform$1(Promise.scala:33)\n",
      "\tat scala.concurrent.impl.CallbackRunnable.run(Promise.scala:64)\n",
      "\tat scala.concurrent.BatchingExecutor$Batch.processBatch$1(BatchingExecutor.scala:67)\n",
      "\tat scala.concurrent.BatchingExecutor$Batch.$anonfun$run$1(BatchingExecutor.scala:82)\n",
      "\tat scala.runtime.java8.JFunction0$mcV$sp.apply(JFunction0$mcV$sp.java:23)\n",
      "\tat scala.concurrent.BlockContext$.withBlockContext(BlockContext.scala:85)\n",
      "\tat scala.concurrent.BatchingExecutor$Batch.run(BatchingExecutor.scala:59)\n",
      "\tat scala.concurrent.Future$InternalCallbackExecutor$.unbatchedExecute(Future.scala:875)\n",
      "\tat scala.concurrent.BatchingExecutor.execute(BatchingExecutor.scala:110)\n",
      "\tat scala.concurrent.BatchingExecutor.execute$(BatchingExecutor.scala:107)\n",
      "\tat scala.concurrent.Future$InternalCallbackExecutor$.execute(Future.scala:873)\n",
      "\tat scala.concurrent.impl.CallbackRunnable.executeWithValue(Promise.scala:72)\n",
      "\tat scala.concurrent.impl.Promise$DefaultPromise.$anonfun$tryComplete$1(Promise.scala:288)\n",
      "\tat scala.concurrent.impl.Promise$DefaultPromise.$anonfun$tryComplete$1$adapted(Promise.scala:288)\n",
      "\tat scala.concurrent.impl.Promise$DefaultPromise.tryComplete(Promise.scala:288)\n",
      "\tat scala.concurrent.Promise.trySuccess(Promise.scala:94)\n",
      "\tat scala.concurrent.Promise.trySuccess$(Promise.scala:94)\n",
      "\tat scala.concurrent.impl.Promise$DefaultPromise.trySuccess(Promise.scala:187)\n",
      "\tat org.apache.spark.rpc.netty.NettyRpcEnv.onSuccess$1(NettyRpcEnv.scala:225)\n",
      "\tat org.apache.spark.rpc.netty.NettyRpcEnv.$anonfun$askAbortable$5(NettyRpcEnv.scala:239)\n",
      "\tat org.apache.spark.rpc.netty.NettyRpcEnv.$anonfun$askAbortable$5$adapted(NettyRpcEnv.scala:238)\n",
      "\tat scala.concurrent.impl.CallbackRunnable.run(Promise.scala:64)\n",
      "\tat org.apache.spark.util.ThreadUtils$$anon$1.execute(ThreadUtils.scala:99)\n",
      "\tat scala.concurrent.impl.ExecutionContextImpl$$anon$4.execute(ExecutionContextImpl.scala:138)\n",
      "\tat scala.concurrent.impl.CallbackRunnable.executeWithValue(Promise.scala:72)\n",
      "\tat scala.concurrent.impl.Promise$DefaultPromise.$anonfun$tryComplete$1(Promise.scala:288)\n",
      "\tat scala.concurrent.impl.Promise$DefaultPromise.$anonfun$tryComplete$1$adapted(Promise.scala:288)\n",
      "\tat scala.concurrent.impl.Promise$DefaultPromise.tryComplete(Promise.scala:288)\n",
      "\tat scala.concurrent.Promise.complete(Promise.scala:53)\n",
      "\tat scala.concurrent.Promise.complete$(Promise.scala:52)\n",
      "\tat scala.concurrent.impl.Promise$DefaultPromise.complete(Promise.scala:187)\n",
      "\tat scala.concurrent.Promise.success(Promise.scala:86)\n",
      "\tat scala.concurrent.Promise.success$(Promise.scala:86)\n",
      "\tat scala.concurrent.impl.Promise$DefaultPromise.success(Promise.scala:187)\n",
      "\tat org.apache.spark.rpc.netty.LocalNettyRpcCallContext.send(NettyRpcCallContext.scala:50)\n",
      "\tat org.apache.spark.rpc.netty.NettyRpcCallContext.reply(NettyRpcCallContext.scala:32)\n",
      "\tat org.apache.spark.rpc.netty.RpcEndpointVerifier$$anonfun$receiveAndReply$1.applyOrElse(RpcEndpointVerifier.scala:31)\n",
      "\tat org.apache.spark.rpc.netty.Inbox.$anonfun$process$1(Inbox.scala:103)\n",
      "\tat org.apache.spark.rpc.netty.Inbox.safelyCall(Inbox.scala:213)\n",
      "\tat org.apache.spark.rpc.netty.Inbox.process(Inbox.scala:100)\n",
      "\tat org.apache.spark.rpc.netty.MessageLoop.org$apache$spark$rpc$netty$MessageLoop$$receiveLoop(MessageLoop.scala:75)\n",
      "\tat org.apache.spark.rpc.netty.MessageLoop$$anon$1.run(MessageLoop.scala:41)\n",
      "\t... 3 more\n",
      "23/04/13 12:49:41 ERROR Inbox: Ignoring error\n",
      "org.apache.spark.SparkException: Exception thrown in awaitResult: \n",
      "\tat org.apache.spark.util.ThreadUtils$.awaitResult(ThreadUtils.scala:301)\n",
      "\tat org.apache.spark.rpc.RpcTimeout.awaitResult(RpcTimeout.scala:75)\n",
      "\tat org.apache.spark.rpc.RpcEnv.setupEndpointRefByURI(RpcEnv.scala:102)\n",
      "\tat org.apache.spark.rpc.RpcEnv.setupEndpointRef(RpcEnv.scala:110)\n",
      "\tat org.apache.spark.util.RpcUtils$.makeDriverRef(RpcUtils.scala:36)\n",
      "\tat org.apache.spark.storage.BlockManagerMasterEndpoint.driverEndpoint$lzycompute(BlockManagerMasterEndpoint.scala:117)\n",
      "\tat org.apache.spark.storage.BlockManagerMasterEndpoint.org$apache$spark$storage$BlockManagerMasterEndpoint$$driverEndpoint(BlockManagerMasterEndpoint.scala:116)\n",
      "\tat org.apache.spark.storage.BlockManagerMasterEndpoint.isExecutorAlive$lzycompute$1(BlockManagerMasterEndpoint.scala:593)\n",
      "\tat org.apache.spark.storage.BlockManagerMasterEndpoint.isExecutorAlive$1(BlockManagerMasterEndpoint.scala:592)\n",
      "\tat org.apache.spark.storage.BlockManagerMasterEndpoint.org$apache$spark$storage$BlockManagerMasterEndpoint$$register(BlockManagerMasterEndpoint.scala:630)\n",
      "\tat org.apache.spark.storage.BlockManagerMasterEndpoint$$anonfun$receiveAndReply$1.applyOrElse(BlockManagerMasterEndpoint.scala:123)\n",
      "\tat org.apache.spark.rpc.netty.Inbox.$anonfun$process$1(Inbox.scala:103)\n",
      "\tat org.apache.spark.rpc.netty.Inbox.safelyCall(Inbox.scala:213)\n",
      "\tat org.apache.spark.rpc.netty.Inbox.process(Inbox.scala:100)\n",
      "\tat org.apache.spark.rpc.netty.MessageLoop.org$apache$spark$rpc$netty$MessageLoop$$receiveLoop(MessageLoop.scala:75)\n",
      "\tat org.apache.spark.rpc.netty.MessageLoop$$anon$1.run(MessageLoop.scala:41)\n",
      "\tat java.util.concurrent.Executors$RunnableAdapter.call(Executors.java:511)\n",
      "\tat java.util.concurrent.FutureTask.run(FutureTask.java:266)\n",
      "\tat java.util.concurrent.ThreadPoolExecutor.runWorker(ThreadPoolExecutor.java:1149)\n",
      "\tat java.util.concurrent.ThreadPoolExecutor$Worker.run(ThreadPoolExecutor.java:624)\n",
      "\tat java.lang.Thread.run(Thread.java:750)\n",
      "Caused by: org.apache.spark.rpc.RpcEndpointNotFoundException: Cannot find endpoint: spark://CoarseGrainedScheduler@10.0.0.167:50332\n",
      "\tat org.apache.spark.rpc.netty.NettyRpcEnv.$anonfun$asyncSetupEndpointRefByURI$1(NettyRpcEnv.scala:148)\n",
      "\tat org.apache.spark.rpc.netty.NettyRpcEnv.$anonfun$asyncSetupEndpointRefByURI$1$adapted(NettyRpcEnv.scala:144)\n",
      "\tat scala.concurrent.Future.$anonfun$flatMap$1(Future.scala:307)\n",
      "\tat scala.concurrent.impl.Promise.$anonfun$transformWith$1(Promise.scala:41)\n",
      "\tat scala.concurrent.impl.CallbackRunnable.run(Promise.scala:64)\n",
      "\tat org.apache.spark.util.ThreadUtils$$anon$1.execute(ThreadUtils.scala:99)\n",
      "\tat scala.concurrent.impl.ExecutionContextImpl$$anon$4.execute(ExecutionContextImpl.scala:138)\n",
      "\tat scala.concurrent.impl.CallbackRunnable.executeWithValue(Promise.scala:72)\n",
      "\tat scala.concurrent.impl.Promise$DefaultPromise.$anonfun$tryComplete$1(Promise.scala:288)\n",
      "\tat scala.concurrent.impl.Promise$DefaultPromise.$anonfun$tryComplete$1$adapted(Promise.scala:288)\n",
      "\tat scala.concurrent.impl.Promise$DefaultPromise.tryComplete(Promise.scala:288)\n",
      "\tat scala.concurrent.Promise.complete(Promise.scala:53)\n",
      "\tat scala.concurrent.Promise.complete$(Promise.scala:52)\n",
      "\tat scala.concurrent.impl.Promise$DefaultPromise.complete(Promise.scala:187)\n",
      "\tat scala.concurrent.impl.Promise.$anonfun$transform$1(Promise.scala:33)\n",
      "\tat scala.concurrent.impl.CallbackRunnable.run(Promise.scala:64)\n",
      "\tat org.apache.spark.util.ThreadUtils$$anon$1.execute(ThreadUtils.scala:99)\n",
      "\tat scala.concurrent.impl.ExecutionContextImpl$$anon$4.execute(ExecutionContextImpl.scala:138)\n",
      "\tat scala.concurrent.impl.CallbackRunnable.executeWithValue(Promise.scala:72)\n",
      "\tat scala.concurrent.impl.Promise$DefaultPromise.$anonfun$tryComplete$1(Promise.scala:288)\n",
      "\tat scala.concurrent.impl.Promise$DefaultPromise.$anonfun$tryComplete$1$adapted(Promise.scala:288)\n",
      "\tat scala.concurrent.impl.Promise$DefaultPromise.tryComplete(Promise.scala:288)\n",
      "\tat scala.concurrent.Promise.complete(Promise.scala:53)\n",
      "\tat scala.concurrent.Promise.complete$(Promise.scala:52)\n",
      "\tat scala.concurrent.impl.Promise$DefaultPromise.complete(Promise.scala:187)\n",
      "\tat scala.concurrent.impl.Promise.$anonfun$transform$1(Promise.scala:33)\n",
      "\tat scala.concurrent.impl.CallbackRunnable.run(Promise.scala:64)\n",
      "\tat scala.concurrent.BatchingExecutor$Batch.processBatch$1(BatchingExecutor.scala:67)\n",
      "\tat scala.concurrent.BatchingExecutor$Batch.$anonfun$run$1(BatchingExecutor.scala:82)\n",
      "\tat scala.runtime.java8.JFunction0$mcV$sp.apply(JFunction0$mcV$sp.java:23)\n",
      "\tat scala.concurrent.BlockContext$.withBlockContext(BlockContext.scala:85)\n",
      "\tat scala.concurrent.BatchingExecutor$Batch.run(BatchingExecutor.scala:59)\n",
      "\tat scala.concurrent.Future$InternalCallbackExecutor$.unbatchedExecute(Future.scala:875)\n",
      "\tat scala.concurrent.BatchingExecutor.execute(BatchingExecutor.scala:110)\n",
      "\tat scala.concurrent.BatchingExecutor.execute$(BatchingExecutor.scala:107)\n",
      "\tat scala.concurrent.Future$InternalCallbackExecutor$.execute(Future.scala:873)\n",
      "\tat scala.concurrent.impl.CallbackRunnable.executeWithValue(Promise.scala:72)\n",
      "\tat scala.concurrent.impl.Promise$DefaultPromise.$anonfun$tryComplete$1(Promise.scala:288)\n",
      "\tat scala.concurrent.impl.Promise$DefaultPromise.$anonfun$tryComplete$1$adapted(Promise.scala:288)\n",
      "\tat scala.concurrent.impl.Promise$DefaultPromise.tryComplete(Promise.scala:288)\n",
      "\tat scala.concurrent.Promise.trySuccess(Promise.scala:94)\n",
      "\tat scala.concurrent.Promise.trySuccess$(Promise.scala:94)\n",
      "\tat scala.concurrent.impl.Promise$DefaultPromise.trySuccess(Promise.scala:187)\n",
      "\tat org.apache.spark.rpc.netty.NettyRpcEnv.onSuccess$1(NettyRpcEnv.scala:225)\n",
      "\tat org.apache.spark.rpc.netty.NettyRpcEnv.$anonfun$askAbortable$5(NettyRpcEnv.scala:239)\n",
      "\tat org.apache.spark.rpc.netty.NettyRpcEnv.$anonfun$askAbortable$5$adapted(NettyRpcEnv.scala:238)\n",
      "\tat scala.concurrent.impl.CallbackRunnable.run(Promise.scala:64)\n",
      "\tat org.apache.spark.util.ThreadUtils$$anon$1.execute(ThreadUtils.scala:99)\n",
      "\tat scala.concurrent.impl.ExecutionContextImpl$$anon$4.execute(ExecutionContextImpl.scala:138)\n",
      "\tat scala.concurrent.impl.CallbackRunnable.executeWithValue(Promise.scala:72)\n",
      "\tat scala.concurrent.impl.Promise$DefaultPromise.$anonfun$tryComplete$1(Promise.scala:288)\n",
      "\tat scala.concurrent.impl.Promise$DefaultPromise.$anonfun$tryComplete$1$adapted(Promise.scala:288)\n",
      "\tat scala.concurrent.impl.Promise$DefaultPromise.tryComplete(Promise.scala:288)\n",
      "\tat scala.concurrent.Promise.complete(Promise.scala:53)\n",
      "\tat scala.concurrent.Promise.complete$(Promise.scala:52)\n",
      "\tat scala.concurrent.impl.Promise$DefaultPromise.complete(Promise.scala:187)\n",
      "\tat scala.concurrent.Promise.success(Promise.scala:86)\n",
      "\tat scala.concurrent.Promise.success$(Promise.scala:86)\n",
      "\tat scala.concurrent.impl.Promise$DefaultPromise.success(Promise.scala:187)\n",
      "\tat org.apache.spark.rpc.netty.LocalNettyRpcCallContext.send(NettyRpcCallContext.scala:50)\n",
      "\tat org.apache.spark.rpc.netty.NettyRpcCallContext.reply(NettyRpcCallContext.scala:32)\n",
      "\tat org.apache.spark.rpc.netty.RpcEndpointVerifier$$anonfun$receiveAndReply$1.applyOrElse(RpcEndpointVerifier.scala:31)\n",
      "\tat org.apache.spark.rpc.netty.Inbox.$anonfun$process$1(Inbox.scala:103)\n",
      "\tat org.apache.spark.rpc.netty.Inbox.safelyCall(Inbox.scala:213)\n",
      "\tat org.apache.spark.rpc.netty.Inbox.process(Inbox.scala:100)\n",
      "\tat org.apache.spark.rpc.netty.MessageLoop.org$apache$spark$rpc$netty$MessageLoop$$receiveLoop(MessageLoop.scala:75)\n",
      "\tat org.apache.spark.rpc.netty.MessageLoop$$anon$1.run(MessageLoop.scala:41)\n",
      "\t... 3 more\n",
      "23/04/13 12:49:42 WARN MemoryStore: Not enough space to cache rdd_92_15 in memory! (computed 29.5 MiB so far)\n"
     ]
    },
    {
     "name": "stderr",
     "output_type": "stream",
     "text": [
      "[Stage 40:================================>                       (10 + 7) / 17]\r"
     ]
    },
    {
     "name": "stdout",
     "output_type": "stream",
     "text": [
      "23/04/13 12:49:42 WARN MemoryStore: Not enough space to cache rdd_92_14 in memory! (computed 8.4 MiB so far)\n",
      "23/04/13 12:49:42 WARN MemoryStore: Not enough space to cache rdd_92_11 in memory! (computed 1673.8 KiB so far)\n",
      "23/04/13 12:49:42 WARN MemoryStore: Not enough space to cache rdd_92_9 in memory! (computed 13.1 MiB so far)\n",
      "23/04/13 12:49:42 WARN MemoryStore: Not enough space to cache rdd_92_12 in memory! (computed 29.5 MiB so far)\n"
     ]
    },
    {
     "name": "stderr",
     "output_type": "stream",
     "text": [
      "[Stage 40:====================================>                   (11 + 6) / 17]\r"
     ]
    },
    {
     "name": "stdout",
     "output_type": "stream",
     "text": [
      "23/04/13 12:49:42 WARN MemoryStore: Not enough space to cache rdd_92_13 in memory! (computed 19.6 MiB so far)\n",
      "23/04/13 12:49:42 WARN MemoryStore: Not enough space to cache rdd_92_10 in memory! (computed 44.2 MiB so far)\n"
     ]
    },
    {
     "name": "stderr",
     "output_type": "stream",
     "text": [
      "                                                                                \r"
     ]
    },
    {
     "name": "stdout",
     "output_type": "stream",
     "text": [
      "23/04/13 12:49:43 WARN MemoryStore: Not enough space to cache rdd_92_4 in memory! (computed 13.1 MiB so far)\n",
      "23/04/13 12:49:43 WARN MemoryStore: Not enough space to cache rdd_92_8 in memory! (computed 2.5 MiB so far)\n",
      "23/04/13 12:49:43 WARN MemoryStore: Not enough space to cache rdd_92_12 in memory! (computed 1673.8 KiB so far)\n",
      "23/04/13 12:49:43 WARN MemoryStore: Not enough space to cache rdd_92_2 in memory! (computed 13.1 MiB so far)\n",
      "23/04/13 12:49:43 WARN MemoryStore: Not enough space to cache rdd_92_5 in memory! (computed 13.1 MiB so far)\n",
      "23/04/13 12:49:43 WARN MemoryStore: Not enough space to cache rdd_92_9 in memory! (computed 1673.8 KiB so far)\n",
      "23/04/13 12:49:43 WARN MemoryStore: Not enough space to cache rdd_92_10 in memory! (computed 1028.2 KiB so far)\n"
     ]
    },
    {
     "name": "stderr",
     "output_type": "stream",
     "text": [
      "[Stage 41:================>                                        (5 + 8) / 17]\r"
     ]
    },
    {
     "name": "stdout",
     "output_type": "stream",
     "text": [
      "23/04/13 12:49:43 WARN MemoryStore: Not enough space to cache rdd_92_11 in memory! (computed 44.2 MiB so far)\n",
      "23/04/13 12:49:44 WARN MemoryStore: Not enough space to cache rdd_92_14 in memory! (computed 13.1 MiB so far)\n",
      "23/04/13 12:49:44 WARN MemoryStore: Not enough space to cache rdd_92_13 in memory! (computed 19.6 MiB so far)\n"
     ]
    },
    {
     "name": "stderr",
     "output_type": "stream",
     "text": [
      "[Stage 41:==============================================>         (14 + 3) / 17]\r"
     ]
    },
    {
     "name": "stdout",
     "output_type": "stream",
     "text": [
      "23/04/13 12:49:44 WARN MemoryStore: Not enough space to cache rdd_92_15 in memory! (computed 44.2 MiB so far)\n"
     ]
    },
    {
     "name": "stderr",
     "output_type": "stream",
     "text": [
      "                                                                                \r"
     ]
    },
    {
     "name": "stdout",
     "output_type": "stream",
     "text": [
      "23/04/13 12:49:44 WARN MemoryStore: Not enough space to cache rdd_96_3 in memory! (computed 8.0 MiB so far)\n",
      "23/04/13 12:49:44 WARN MemoryStore: Not enough space to cache rdd_92_5 in memory! (computed 2.5 MiB so far)\n",
      "23/04/13 12:49:44 WARN MemoryStore: Not enough space to cache rdd_96_0 in memory! (computed 8.0 MiB so far)\n",
      "23/04/13 12:49:44 WARN MemoryStore: Not enough space to cache rdd_96_7 in memory! (computed 8.0 MiB so far)\n",
      "23/04/13 12:49:44 WARN BlockManager: Persisting block rdd_96_0 to disk instead.\n",
      "23/04/13 12:49:44 WARN MemoryStore: Not enough space to cache rdd_96_6 in memory! (computed 8.0 MiB so far)\n",
      "23/04/13 12:49:44 WARN BlockManager: Persisting block rdd_96_7 to disk instead.\n",
      "23/04/13 12:49:44 WARN BlockManager: Persisting block rdd_96_6 to disk instead.\n",
      "23/04/13 12:49:44 WARN BlockManager: Persisting block rdd_96_3 to disk instead.\n",
      "23/04/13 12:49:44 WARN MemoryStore: Not enough space to cache rdd_92_2 in memory! (computed 5.6 MiB so far)\n",
      "23/04/13 12:49:44 WARN MemoryStore: Failed to reserve initial memory threshold of 1024.0 KiB for computing block rdd_92_2 in memory.\n",
      "23/04/13 12:49:44 WARN MemoryStore: Not enough space to cache rdd_92_2 in memory! (computed 384.0 B so far)\n",
      "23/04/13 12:49:44 WARN MemoryStore: Not enough space to cache rdd_92_4 in memory! (computed 8.4 MiB so far)\n",
      "23/04/13 12:49:44 WARN MemoryStore: Failed to reserve initial memory threshold of 1024.0 KiB for computing block rdd_96_2 in memory.\n",
      "23/04/13 12:49:44 WARN MemoryStore: Not enough space to cache rdd_96_2 in memory! (computed 640.0 B so far)\n",
      "23/04/13 12:49:44 WARN BlockManager: Persisting block rdd_96_2 to disk instead.\n",
      "23/04/13 12:49:44 WARN MemoryStore: Failed to reserve initial memory threshold of 1024.0 KiB for computing block rdd_92_4 in memory.\n",
      "23/04/13 12:49:44 WARN MemoryStore: Not enough space to cache rdd_92_4 in memory! (computed 384.0 B so far)\n",
      "23/04/13 12:49:44 WARN MemoryStore: Failed to reserve initial memory threshold of 1024.0 KiB for computing block rdd_96_4 in memory.\n",
      "23/04/13 12:49:44 WARN MemoryStore: Not enough space to cache rdd_96_4 in memory! (computed 640.0 B so far)\n",
      "23/04/13 12:49:44 WARN BlockManager: Persisting block rdd_96_4 to disk instead.\n",
      "23/04/13 12:49:44 WARN MemoryStore: Not enough space to cache rdd_92_5 in memory! (computed 1028.2 KiB so far)\n"
     ]
    },
    {
     "name": "stderr",
     "output_type": "stream",
     "text": [
      "[Stage 42:================>                                        (5 + 8) / 17]\r"
     ]
    },
    {
     "name": "stdout",
     "output_type": "stream",
     "text": [
      "23/04/13 12:49:46 WARN MemoryStore: Not enough space to cache rdd_92_11 in memory! (computed 29.5 MiB so far)\n",
      "23/04/13 12:49:46 WARN MemoryStore: Not enough space to cache rdd_92_8 in memory! (computed 29.5 MiB so far)\n",
      "23/04/13 12:49:46 WARN MemoryStore: Not enough space to cache rdd_92_12 in memory! (computed 19.6 MiB so far)\n",
      "23/04/13 12:49:46 WARN MemoryStore: Failed to reserve initial memory threshold of 1024.0 KiB for computing block rdd_92_12 in memory.\n",
      "23/04/13 12:49:46 WARN MemoryStore: Not enough space to cache rdd_92_12 in memory! (computed 384.0 B so far)\n",
      "23/04/13 12:49:46 WARN MemoryStore: Not enough space to cache rdd_92_11 in memory! (computed 8.4 MiB so far)\n"
     ]
    },
    {
     "name": "stderr",
     "output_type": "stream",
     "text": [
      "[Stage 42:=======================================>                (12 + 5) / 17]\r"
     ]
    },
    {
     "name": "stdout",
     "output_type": "stream",
     "text": [
      "23/04/13 12:49:48 WARN MemoryStore: Not enough space to cache rdd_92_13 in memory! (computed 44.2 MiB so far)\n",
      "23/04/13 12:49:48 WARN MemoryStore: Not enough space to cache rdd_92_15 in memory! (computed 44.2 MiB so far)\n"
     ]
    },
    {
     "name": "stderr",
     "output_type": "stream",
     "text": [
      "                                                                                \r"
     ]
    },
    {
     "name": "stdout",
     "output_type": "stream",
     "text": [
      "23/04/13 12:49:51 WARN MemoryStore: Not enough space to cache rdd_92_4 in memory! (computed 13.1 MiB so far)\n",
      "23/04/13 12:49:51 WARN MemoryStore: Not enough space to cache rdd_92_2 in memory! (computed 19.6 MiB so far)\n",
      "23/04/13 12:49:51 WARN MemoryStore: Not enough space to cache rdd_92_0 in memory! (computed 8.4 MiB so far)\n",
      "23/04/13 12:49:51 WARN MemoryStore: Not enough space to cache rdd_92_5 in memory! (computed 13.1 MiB so far)\n",
      "23/04/13 12:49:51 WARN MemoryStore: Not enough space to cache rdd_92_3 in memory! (computed 13.1 MiB so far)\n",
      "23/04/13 12:49:51 WARN MemoryStore: Not enough space to cache rdd_92_1 in memory! (computed 13.1 MiB so far)\n",
      "23/04/13 12:49:51 WARN MemoryStore: Not enough space to cache rdd_92_6 in memory! (computed 8.4 MiB so far)\n",
      "23/04/13 12:49:51 ERROR Inbox: Ignoring error\n",
      "org.apache.spark.SparkException: Exception thrown in awaitResult: \n",
      "\tat org.apache.spark.util.ThreadUtils$.awaitResult(ThreadUtils.scala:301)\n",
      "\tat org.apache.spark.rpc.RpcTimeout.awaitResult(RpcTimeout.scala:75)\n",
      "\tat org.apache.spark.rpc.RpcEnv.setupEndpointRefByURI(RpcEnv.scala:102)\n",
      "\tat org.apache.spark.rpc.RpcEnv.setupEndpointRef(RpcEnv.scala:110)\n",
      "\tat org.apache.spark.util.RpcUtils$.makeDriverRef(RpcUtils.scala:36)\n",
      "\tat org.apache.spark.storage.BlockManagerMasterEndpoint.driverEndpoint$lzycompute(BlockManagerMasterEndpoint.scala:117)\n",
      "\tat org.apache.spark.storage.BlockManagerMasterEndpoint.org$apache$spark$storage$BlockManagerMasterEndpoint$$driverEndpoint(BlockManagerMasterEndpoint.scala:116)\n",
      "\tat org.apache.spark.storage.BlockManagerMasterEndpoint.isExecutorAlive$lzycompute$1(BlockManagerMasterEndpoint.scala:593)\n",
      "\tat org.apache.spark.storage.BlockManagerMasterEndpoint.isExecutorAlive$1(BlockManagerMasterEndpoint.scala:592)\n",
      "\tat org.apache.spark.storage.BlockManagerMasterEndpoint.org$apache$spark$storage$BlockManagerMasterEndpoint$$register(BlockManagerMasterEndpoint.scala:630)\n",
      "\tat org.apache.spark.storage.BlockManagerMasterEndpoint$$anonfun$receiveAndReply$1.applyOrElse(BlockManagerMasterEndpoint.scala:123)\n",
      "\tat org.apache.spark.rpc.netty.Inbox.$anonfun$process$1(Inbox.scala:103)\n",
      "\tat org.apache.spark.rpc.netty.Inbox.safelyCall(Inbox.scala:213)\n",
      "\tat org.apache.spark.rpc.netty.Inbox.process(Inbox.scala:100)\n",
      "\tat org.apache.spark.rpc.netty.MessageLoop.org$apache$spark$rpc$netty$MessageLoop$$receiveLoop(MessageLoop.scala:75)\n",
      "\tat org.apache.spark.rpc.netty.MessageLoop$$anon$1.run(MessageLoop.scala:41)\n",
      "\tat java.util.concurrent.Executors$RunnableAdapter.call(Executors.java:511)\n",
      "\tat java.util.concurrent.FutureTask.run(FutureTask.java:266)\n",
      "\tat java.util.concurrent.ThreadPoolExecutor.runWorker(ThreadPoolExecutor.java:1149)\n",
      "\tat java.util.concurrent.ThreadPoolExecutor$Worker.run(ThreadPoolExecutor.java:624)\n",
      "\tat java.lang.Thread.run(Thread.java:750)\n",
      "Caused by: org.apache.spark.rpc.RpcEndpointNotFoundException: Cannot find endpoint: spark://CoarseGrainedScheduler@10.0.0.167:50332\n",
      "\tat org.apache.spark.rpc.netty.NettyRpcEnv.$anonfun$asyncSetupEndpointRefByURI$1(NettyRpcEnv.scala:148)\n",
      "\tat org.apache.spark.rpc.netty.NettyRpcEnv.$anonfun$asyncSetupEndpointRefByURI$1$adapted(NettyRpcEnv.scala:144)\n",
      "\tat scala.concurrent.Future.$anonfun$flatMap$1(Future.scala:307)\n",
      "\tat scala.concurrent.impl.Promise.$anonfun$transformWith$1(Promise.scala:41)\n",
      "\tat scala.concurrent.impl.CallbackRunnable.run(Promise.scala:64)\n",
      "\tat org.apache.spark.util.ThreadUtils$$anon$1.execute(ThreadUtils.scala:99)\n",
      "\tat scala.concurrent.impl.ExecutionContextImpl$$anon$4.execute(ExecutionContextImpl.scala:138)\n",
      "\tat scala.concurrent.impl.CallbackRunnable.executeWithValue(Promise.scala:72)\n",
      "\tat scala.concurrent.impl.Promise$DefaultPromise.dispatchOrAddCallback(Promise.scala:316)\n",
      "\tat scala.concurrent.impl.Promise$DefaultPromise.onComplete(Promise.scala:307)\n",
      "\tat scala.concurrent.impl.Promise.transformWith(Promise.scala:40)\n",
      "\tat scala.concurrent.impl.Promise.transformWith$(Promise.scala:38)\n",
      "\tat scala.concurrent.impl.Promise$DefaultPromise.transformWith(Promise.scala:187)\n",
      "\tat scala.concurrent.Future.flatMap(Future.scala:306)\n",
      "\tat scala.concurrent.Future.flatMap$(Future.scala:306)\n",
      "\tat scala.concurrent.impl.Promise$DefaultPromise.flatMap(Promise.scala:187)\n",
      "\tat org.apache.spark.rpc.netty.NettyRpcEnv.asyncSetupEndpointRefByURI(NettyRpcEnv.scala:150)\n",
      "\t... 19 more\n",
      "23/04/13 12:49:51 WARN Executor: Issue communicating with driver in heartbeater\n",
      "org.apache.spark.SparkException: Exception thrown in awaitResult: \n",
      "\tat org.apache.spark.util.ThreadUtils$.awaitResult(ThreadUtils.scala:301)\n",
      "\tat org.apache.spark.rpc.RpcTimeout.awaitResult(RpcTimeout.scala:75)\n",
      "\tat org.apache.spark.rpc.RpcEndpointRef.askSync(RpcEndpointRef.scala:103)\n",
      "\tat org.apache.spark.rpc.RpcEndpointRef.askSync(RpcEndpointRef.scala:87)\n",
      "\tat org.apache.spark.storage.BlockManagerMaster.registerBlockManager(BlockManagerMaster.scala:80)\n",
      "\tat org.apache.spark.storage.BlockManager.reregister(BlockManager.scala:643)\n",
      "\tat org.apache.spark.executor.Executor.reportHeartBeat(Executor.scala:1057)\n",
      "\tat org.apache.spark.executor.Executor.$anonfun$heartbeater$1(Executor.scala:238)\n",
      "\tat scala.runtime.java8.JFunction0$mcV$sp.apply(JFunction0$mcV$sp.java:23)\n",
      "\tat org.apache.spark.util.Utils$.logUncaughtExceptions(Utils.scala:2066)\n",
      "\tat org.apache.spark.Heartbeater$$anon$1.run(Heartbeater.scala:46)\n",
      "\tat java.util.concurrent.Executors$RunnableAdapter.call(Executors.java:511)\n",
      "\tat java.util.concurrent.FutureTask.runAndReset(FutureTask.java:308)\n",
      "\tat java.util.concurrent.ScheduledThreadPoolExecutor$ScheduledFutureTask.access$301(ScheduledThreadPoolExecutor.java:180)\n",
      "\tat java.util.concurrent.ScheduledThreadPoolExecutor$ScheduledFutureTask.run(ScheduledThreadPoolExecutor.java:294)\n",
      "\tat java.util.concurrent.ThreadPoolExecutor.runWorker(ThreadPoolExecutor.java:1149)\n",
      "\tat java.util.concurrent.ThreadPoolExecutor$Worker.run(ThreadPoolExecutor.java:624)\n",
      "\tat java.lang.Thread.run(Thread.java:750)\n",
      "Caused by: org.apache.spark.SparkException: Exception thrown in awaitResult: \n",
      "\tat org.apache.spark.util.ThreadUtils$.awaitResult(ThreadUtils.scala:301)\n",
      "\tat org.apache.spark.rpc.RpcTimeout.awaitResult(RpcTimeout.scala:75)\n",
      "\tat org.apache.spark.rpc.RpcEnv.setupEndpointRefByURI(RpcEnv.scala:102)\n",
      "\tat org.apache.spark.rpc.RpcEnv.setupEndpointRef(RpcEnv.scala:110)\n",
      "\tat org.apache.spark.util.RpcUtils$.makeDriverRef(RpcUtils.scala:36)\n",
      "\tat org.apache.spark.storage.BlockManagerMasterEndpoint.driverEndpoint$lzycompute(BlockManagerMasterEndpoint.scala:117)\n",
      "\tat org.apache.spark.storage.BlockManagerMasterEndpoint.org$apache$spark$storage$BlockManagerMasterEndpoint$$driverEndpoint(BlockManagerMasterEndpoint.scala:116)\n",
      "\tat org.apache.spark.storage.BlockManagerMasterEndpoint.isExecutorAlive$lzycompute$1(BlockManagerMasterEndpoint.scala:593)\n",
      "\tat org.apache.spark.storage.BlockManagerMasterEndpoint.isExecutorAlive$1(BlockManagerMasterEndpoint.scala:592)\n",
      "\tat org.apache.spark.storage.BlockManagerMasterEndpoint.org$apache$spark$storage$BlockManagerMasterEndpoint$$register(BlockManagerMasterEndpoint.scala:630)\n",
      "\tat org.apache.spark.storage.BlockManagerMasterEndpoint$$anonfun$receiveAndReply$1.applyOrElse(BlockManagerMasterEndpoint.scala:123)\n",
      "\tat org.apache.spark.rpc.netty.Inbox.$anonfun$process$1(Inbox.scala:103)\n",
      "\tat org.apache.spark.rpc.netty.Inbox.safelyCall(Inbox.scala:213)\n",
      "\tat org.apache.spark.rpc.netty.Inbox.process(Inbox.scala:100)\n",
      "\tat org.apache.spark.rpc.netty.MessageLoop.org$apache$spark$rpc$netty$MessageLoop$$receiveLoop(MessageLoop.scala:75)\n",
      "\tat org.apache.spark.rpc.netty.MessageLoop$$anon$1.run(MessageLoop.scala:41)\n",
      "\tat java.util.concurrent.Executors$RunnableAdapter.call(Executors.java:511)\n",
      "\tat java.util.concurrent.FutureTask.run(FutureTask.java:266)\n",
      "\t... 3 more\n",
      "Caused by: org.apache.spark.rpc.RpcEndpointNotFoundException: Cannot find endpoint: spark://CoarseGrainedScheduler@10.0.0.167:50332\n",
      "\tat org.apache.spark.rpc.netty.NettyRpcEnv.$anonfun$asyncSetupEndpointRefByURI$1(NettyRpcEnv.scala:148)\n",
      "\tat org.apache.spark.rpc.netty.NettyRpcEnv.$anonfun$asyncSetupEndpointRefByURI$1$adapted(NettyRpcEnv.scala:144)\n",
      "\tat scala.concurrent.Future.$anonfun$flatMap$1(Future.scala:307)\n",
      "\tat scala.concurrent.impl.Promise.$anonfun$transformWith$1(Promise.scala:41)\n",
      "\tat scala.concurrent.impl.CallbackRunnable.run(Promise.scala:64)\n",
      "\tat org.apache.spark.util.ThreadUtils$$anon$1.execute(ThreadUtils.scala:99)\n",
      "\tat scala.concurrent.impl.ExecutionContextImpl$$anon$4.execute(ExecutionContextImpl.scala:138)\n",
      "\tat scala.concurrent.impl.CallbackRunnable.executeWithValue(Promise.scala:72)\n",
      "\tat scala.concurrent.impl.Promise$DefaultPromise.dispatchOrAddCallback(Promise.scala:316)\n",
      "\tat scala.concurrent.impl.Promise$DefaultPromise.onComplete(Promise.scala:307)\n",
      "\tat scala.concurrent.impl.Promise.transformWith(Promise.scala:40)\n",
      "\tat scala.concurrent.impl.Promise.transformWith$(Promise.scala:38)\n",
      "\tat scala.concurrent.impl.Promise$DefaultPromise.transformWith(Promise.scala:187)\n",
      "\tat scala.concurrent.Future.flatMap(Future.scala:306)\n",
      "\tat scala.concurrent.Future.flatMap$(Future.scala:306)\n",
      "\tat scala.concurrent.impl.Promise$DefaultPromise.flatMap(Promise.scala:187)\n",
      "\tat org.apache.spark.rpc.netty.NettyRpcEnv.asyncSetupEndpointRefByURI(NettyRpcEnv.scala:150)\n",
      "\t... 19 more\n"
     ]
    },
    {
     "name": "stderr",
     "output_type": "stream",
     "text": [
      "[Stage 43:================================>                       (10 + 7) / 17]\r"
     ]
    },
    {
     "name": "stdout",
     "output_type": "stream",
     "text": [
      "23/04/13 12:49:54 WARN MemoryStore: Not enough space to cache rdd_92_9 in memory! (computed 29.5 MiB so far)\n",
      "23/04/13 12:49:54 WARN MemoryStore: Not enough space to cache rdd_92_12 in memory! (computed 19.6 MiB so far)\n",
      "23/04/13 12:49:54 WARN MemoryStore: Not enough space to cache rdd_92_11 in memory! (computed 29.5 MiB so far)\n",
      "23/04/13 12:49:54 WARN MemoryStore: Not enough space to cache rdd_92_8 in memory! (computed 29.5 MiB so far)\n"
     ]
    },
    {
     "name": "stderr",
     "output_type": "stream",
     "text": [
      "[Stage 44:>                                                        (0 + 8) / 17]\r"
     ]
    },
    {
     "name": "stdout",
     "output_type": "stream",
     "text": [
      "23/04/13 12:49:56 WARN MemoryStore: Not enough space to cache rdd_92_7 in memory! (computed 19.6 MiB so far)\n",
      "23/04/13 12:49:56 WARN MemoryStore: Not enough space to cache rdd_92_6 in memory! (computed 19.6 MiB so far)\n",
      "23/04/13 12:49:56 WARN MemoryStore: Not enough space to cache rdd_92_5 in memory! (computed 19.6 MiB so far)\n",
      "23/04/13 12:49:56 WARN MemoryStore: Not enough space to cache rdd_92_4 in memory! (computed 19.6 MiB so far)\n",
      "23/04/13 12:49:56 WARN MemoryStore: Not enough space to cache rdd_92_0 in memory! (computed 19.6 MiB so far)\n",
      "23/04/13 12:49:56 WARN MemoryStore: Not enough space to cache rdd_92_2 in memory! (computed 19.6 MiB so far)\n",
      "23/04/13 12:49:56 WARN MemoryStore: Not enough space to cache rdd_92_1 in memory! (computed 19.6 MiB so far)\n"
     ]
    },
    {
     "name": "stderr",
     "output_type": "stream",
     "text": [
      "[Stage 44:==============================>                          (9 + 8) / 17]\r"
     ]
    },
    {
     "name": "stdout",
     "output_type": "stream",
     "text": [
      "23/04/13 12:49:59 WARN MemoryStore: Not enough space to cache rdd_92_9 in memory! (computed 19.6 MiB so far)\n",
      "23/04/13 12:49:59 WARN MemoryStore: Not enough space to cache rdd_92_15 in memory! (computed 29.5 MiB so far)\n",
      "23/04/13 12:49:59 WARN MemoryStore: Not enough space to cache rdd_92_8 in memory! (computed 44.2 MiB so far)\n",
      "23/04/13 12:49:59 WARN MemoryStore: Not enough space to cache rdd_92_12 in memory! (computed 29.5 MiB so far)\n",
      "23/04/13 12:49:59 WARN MemoryStore: Not enough space to cache rdd_92_13 in memory! (computed 29.5 MiB so far)\n",
      "23/04/13 12:49:59 WARN MemoryStore: Not enough space to cache rdd_92_16 in memory! (computed 1673.8 KiB so far)\n"
     ]
    },
    {
     "name": "stderr",
     "output_type": "stream",
     "text": [
      "[Stage 45:>                                                        (0 + 8) / 17]\r"
     ]
    },
    {
     "name": "stdout",
     "output_type": "stream",
     "text": [
      "23/04/13 12:50:01 WARN MemoryStore: Not enough space to cache rdd_92_7 in memory! (computed 29.5 MiB so far)\n",
      "23/04/13 12:50:01 WARN MemoryStore: Not enough space to cache rdd_92_0 in memory! (computed 19.6 MiB so far)\n",
      "23/04/13 12:50:01 WARN MemoryStore: Not enough space to cache rdd_92_5 in memory! (computed 44.2 MiB so far)\n",
      "23/04/13 12:50:01 WARN MemoryStore: Not enough space to cache rdd_92_3 in memory! (computed 29.5 MiB so far)\n",
      "23/04/13 12:50:01 WARN MemoryStore: Not enough space to cache rdd_92_6 in memory! (computed 29.5 MiB so far)\n",
      "23/04/13 12:50:01 WARN MemoryStore: Not enough space to cache rdd_92_2 in memory! (computed 19.6 MiB so far)\n",
      "23/04/13 12:50:01 WARN MemoryStore: Not enough space to cache rdd_92_1 in memory! (computed 19.6 MiB so far)\n",
      "23/04/13 12:50:02 ERROR Inbox: Ignoring error\n",
      "org.apache.spark.SparkException: Exception thrown in awaitResult: \n",
      "\tat org.apache.spark.util.ThreadUtils$.awaitResult(ThreadUtils.scala:301)\n",
      "\tat org.apache.spark.rpc.RpcTimeout.awaitResult(RpcTimeout.scala:75)\n",
      "\tat org.apache.spark.rpc.RpcEnv.setupEndpointRefByURI(RpcEnv.scala:102)\n",
      "\tat org.apache.spark.rpc.RpcEnv.setupEndpointRef(RpcEnv.scala:110)\n",
      "\tat org.apache.spark.util.RpcUtils$.makeDriverRef(RpcUtils.scala:36)\n",
      "\tat org.apache.spark.storage.BlockManagerMasterEndpoint.driverEndpoint$lzycompute(BlockManagerMasterEndpoint.scala:117)\n",
      "\tat org.apache.spark.storage.BlockManagerMasterEndpoint.org$apache$spark$storage$BlockManagerMasterEndpoint$$driverEndpoint(BlockManagerMasterEndpoint.scala:116)\n",
      "\tat org.apache.spark.storage.BlockManagerMasterEndpoint.isExecutorAlive$lzycompute$1(BlockManagerMasterEndpoint.scala:593)\n",
      "\tat org.apache.spark.storage.BlockManagerMasterEndpoint.isExecutorAlive$1(BlockManagerMasterEndpoint.scala:592)\n",
      "\tat org.apache.spark.storage.BlockManagerMasterEndpoint.org$apache$spark$storage$BlockManagerMasterEndpoint$$register(BlockManagerMasterEndpoint.scala:630)\n",
      "\tat org.apache.spark.storage.BlockManagerMasterEndpoint$$anonfun$receiveAndReply$1.applyOrElse(BlockManagerMasterEndpoint.scala:123)\n",
      "\tat org.apache.spark.rpc.netty.Inbox.$anonfun$process$1(Inbox.scala:103)\n",
      "\tat org.apache.spark.rpc.netty.Inbox.safelyCall(Inbox.scala:213)\n",
      "\tat org.apache.spark.rpc.netty.Inbox.process(Inbox.scala:100)\n",
      "\tat org.apache.spark.rpc.netty.MessageLoop.org$apache$spark$rpc$netty$MessageLoop$$receiveLoop(MessageLoop.scala:75)\n",
      "\tat org.apache.spark.rpc.netty.MessageLoop$$anon$1.run(MessageLoop.scala:41)\n",
      "\tat java.util.concurrent.Executors$RunnableAdapter.call(Executors.java:511)\n",
      "\tat java.util.concurrent.FutureTask.run(FutureTask.java:266)\n",
      "\tat java.util.concurrent.ThreadPoolExecutor.runWorker(ThreadPoolExecutor.java:1149)\n",
      "\tat java.util.concurrent.ThreadPoolExecutor$Worker.run(ThreadPoolExecutor.java:624)\n",
      "\tat java.lang.Thread.run(Thread.java:750)\n",
      "Caused by: org.apache.spark.rpc.RpcEndpointNotFoundException: Cannot find endpoint: spark://CoarseGrainedScheduler@10.0.0.167:50332\n",
      "\tat org.apache.spark.rpc.netty.NettyRpcEnv.$anonfun$asyncSetupEndpointRefByURI$1(NettyRpcEnv.scala:148)\n",
      "\tat org.apache.spark.rpc.netty.NettyRpcEnv.$anonfun$asyncSetupEndpointRefByURI$1$adapted(NettyRpcEnv.scala:144)\n",
      "\tat scala.concurrent.Future.$anonfun$flatMap$1(Future.scala:307)\n",
      "\tat scala.concurrent.impl.Promise.$anonfun$transformWith$1(Promise.scala:41)\n",
      "\tat scala.concurrent.impl.CallbackRunnable.run(Promise.scala:64)\n",
      "\tat org.apache.spark.util.ThreadUtils$$anon$1.execute(ThreadUtils.scala:99)\n",
      "\tat scala.concurrent.impl.ExecutionContextImpl$$anon$4.execute(ExecutionContextImpl.scala:138)\n",
      "\tat scala.concurrent.impl.CallbackRunnable.executeWithValue(Promise.scala:72)\n",
      "\tat scala.concurrent.impl.Promise$DefaultPromise.$anonfun$tryComplete$1(Promise.scala:288)\n",
      "\tat scala.concurrent.impl.Promise$DefaultPromise.$anonfun$tryComplete$1$adapted(Promise.scala:288)\n",
      "\tat scala.concurrent.impl.Promise$DefaultPromise.tryComplete(Promise.scala:288)\n",
      "\tat scala.concurrent.Promise.complete(Promise.scala:53)\n",
      "\tat scala.concurrent.Promise.complete$(Promise.scala:52)\n",
      "\tat scala.concurrent.impl.Promise$DefaultPromise.complete(Promise.scala:187)\n",
      "\tat scala.concurrent.impl.Promise.$anonfun$transform$1(Promise.scala:33)\n",
      "\tat scala.concurrent.impl.CallbackRunnable.run(Promise.scala:64)\n",
      "\tat org.apache.spark.util.ThreadUtils$$anon$1.execute(ThreadUtils.scala:99)\n",
      "\tat scala.concurrent.impl.ExecutionContextImpl$$anon$4.execute(ExecutionContextImpl.scala:138)\n",
      "\tat scala.concurrent.impl.CallbackRunnable.executeWithValue(Promise.scala:72)\n",
      "\tat scala.concurrent.impl.Promise$DefaultPromise.$anonfun$tryComplete$1(Promise.scala:288)\n",
      "\tat scala.concurrent.impl.Promise$DefaultPromise.$anonfun$tryComplete$1$adapted(Promise.scala:288)\n",
      "\tat scala.concurrent.impl.Promise$DefaultPromise.tryComplete(Promise.scala:288)\n",
      "\tat scala.concurrent.Promise.complete(Promise.scala:53)\n",
      "\tat scala.concurrent.Promise.complete$(Promise.scala:52)\n",
      "\tat scala.concurrent.impl.Promise$DefaultPromise.complete(Promise.scala:187)\n",
      "\tat scala.concurrent.impl.Promise.$anonfun$transform$1(Promise.scala:33)\n",
      "\tat scala.concurrent.impl.CallbackRunnable.run(Promise.scala:64)\n",
      "\tat scala.concurrent.BatchingExecutor$Batch.processBatch$1(BatchingExecutor.scala:67)\n",
      "\tat scala.concurrent.BatchingExecutor$Batch.$anonfun$run$1(BatchingExecutor.scala:82)\n",
      "\tat scala.runtime.java8.JFunction0$mcV$sp.apply(JFunction0$mcV$sp.java:23)\n",
      "\tat scala.concurrent.BlockContext$.withBlockContext(BlockContext.scala:85)\n",
      "\tat scala.concurrent.BatchingExecutor$Batch.run(BatchingExecutor.scala:59)\n",
      "\tat scala.concurrent.Future$InternalCallbackExecutor$.unbatchedExecute(Future.scala:875)\n",
      "\tat scala.concurrent.BatchingExecutor.execute(BatchingExecutor.scala:110)\n",
      "\tat scala.concurrent.BatchingExecutor.execute$(BatchingExecutor.scala:107)\n",
      "\tat scala.concurrent.Future$InternalCallbackExecutor$.execute(Future.scala:873)\n",
      "\tat scala.concurrent.impl.CallbackRunnable.executeWithValue(Promise.scala:72)\n",
      "\tat scala.concurrent.impl.Promise$DefaultPromise.$anonfun$tryComplete$1(Promise.scala:288)\n",
      "\tat scala.concurrent.impl.Promise$DefaultPromise.$anonfun$tryComplete$1$adapted(Promise.scala:288)\n",
      "\tat scala.concurrent.impl.Promise$DefaultPromise.tryComplete(Promise.scala:288)\n",
      "\tat scala.concurrent.Promise.trySuccess(Promise.scala:94)\n",
      "\tat scala.concurrent.Promise.trySuccess$(Promise.scala:94)\n",
      "\tat scala.concurrent.impl.Promise$DefaultPromise.trySuccess(Promise.scala:187)\n",
      "\tat org.apache.spark.rpc.netty.NettyRpcEnv.onSuccess$1(NettyRpcEnv.scala:225)\n",
      "\tat org.apache.spark.rpc.netty.NettyRpcEnv.$anonfun$askAbortable$5(NettyRpcEnv.scala:239)\n",
      "\tat org.apache.spark.rpc.netty.NettyRpcEnv.$anonfun$askAbortable$5$adapted(NettyRpcEnv.scala:238)\n",
      "\tat scala.concurrent.impl.CallbackRunnable.run(Promise.scala:64)\n",
      "\tat org.apache.spark.util.ThreadUtils$$anon$1.execute(ThreadUtils.scala:99)\n",
      "\tat scala.concurrent.impl.ExecutionContextImpl$$anon$4.execute(ExecutionContextImpl.scala:138)\n",
      "\tat scala.concurrent.impl.CallbackRunnable.executeWithValue(Promise.scala:72)\n",
      "\tat scala.concurrent.impl.Promise$DefaultPromise.$anonfun$tryComplete$1(Promise.scala:288)\n",
      "\tat scala.concurrent.impl.Promise$DefaultPromise.$anonfun$tryComplete$1$adapted(Promise.scala:288)\n",
      "\tat scala.concurrent.impl.Promise$DefaultPromise.tryComplete(Promise.scala:288)\n",
      "\tat scala.concurrent.Promise.complete(Promise.scala:53)\n",
      "\tat scala.concurrent.Promise.complete$(Promise.scala:52)\n",
      "\tat scala.concurrent.impl.Promise$DefaultPromise.complete(Promise.scala:187)\n",
      "\tat scala.concurrent.Promise.success(Promise.scala:86)\n",
      "\tat scala.concurrent.Promise.success$(Promise.scala:86)\n",
      "\tat scala.concurrent.impl.Promise$DefaultPromise.success(Promise.scala:187)\n",
      "\tat org.apache.spark.rpc.netty.LocalNettyRpcCallContext.send(NettyRpcCallContext.scala:50)\n",
      "\tat org.apache.spark.rpc.netty.NettyRpcCallContext.reply(NettyRpcCallContext.scala:32)\n",
      "\tat org.apache.spark.rpc.netty.RpcEndpointVerifier$$anonfun$receiveAndReply$1.applyOrElse(RpcEndpointVerifier.scala:31)\n",
      "\tat org.apache.spark.rpc.netty.Inbox.$anonfun$process$1(Inbox.scala:103)\n",
      "\tat org.apache.spark.rpc.netty.Inbox.safelyCall(Inbox.scala:213)\n",
      "\tat org.apache.spark.rpc.netty.Inbox.process(Inbox.scala:100)\n",
      "\tat org.apache.spark.rpc.netty.MessageLoop.org$apache$spark$rpc$netty$MessageLoop$$receiveLoop(MessageLoop.scala:75)\n",
      "\tat org.apache.spark.rpc.netty.MessageLoop$$anon$1.run(MessageLoop.scala:41)\n",
      "\t... 3 more\n",
      "23/04/13 12:50:02 WARN Executor: Issue communicating with driver in heartbeater\n",
      "org.apache.spark.SparkException: Exception thrown in awaitResult: \n",
      "\tat org.apache.spark.util.ThreadUtils$.awaitResult(ThreadUtils.scala:301)\n",
      "\tat org.apache.spark.rpc.RpcTimeout.awaitResult(RpcTimeout.scala:75)\n",
      "\tat org.apache.spark.rpc.RpcEndpointRef.askSync(RpcEndpointRef.scala:103)\n",
      "\tat org.apache.spark.rpc.RpcEndpointRef.askSync(RpcEndpointRef.scala:87)\n",
      "\tat org.apache.spark.storage.BlockManagerMaster.registerBlockManager(BlockManagerMaster.scala:80)\n",
      "\tat org.apache.spark.storage.BlockManager.reregister(BlockManager.scala:643)\n",
      "\tat org.apache.spark.executor.Executor.reportHeartBeat(Executor.scala:1057)\n",
      "\tat org.apache.spark.executor.Executor.$anonfun$heartbeater$1(Executor.scala:238)\n",
      "\tat scala.runtime.java8.JFunction0$mcV$sp.apply(JFunction0$mcV$sp.java:23)\n",
      "\tat org.apache.spark.util.Utils$.logUncaughtExceptions(Utils.scala:2066)\n",
      "\tat org.apache.spark.Heartbeater$$anon$1.run(Heartbeater.scala:46)\n",
      "\tat java.util.concurrent.Executors$RunnableAdapter.call(Executors.java:511)\n",
      "\tat java.util.concurrent.FutureTask.runAndReset(FutureTask.java:308)\n",
      "\tat java.util.concurrent.ScheduledThreadPoolExecutor$ScheduledFutureTask.access$301(ScheduledThreadPoolExecutor.java:180)\n",
      "\tat java.util.concurrent.ScheduledThreadPoolExecutor$ScheduledFutureTask.run(ScheduledThreadPoolExecutor.java:294)\n",
      "\tat java.util.concurrent.ThreadPoolExecutor.runWorker(ThreadPoolExecutor.java:1149)\n",
      "\tat java.util.concurrent.ThreadPoolExecutor$Worker.run(ThreadPoolExecutor.java:624)\n",
      "\tat java.lang.Thread.run(Thread.java:750)\n",
      "Caused by: org.apache.spark.SparkException: Exception thrown in awaitResult: \n",
      "\tat org.apache.spark.util.ThreadUtils$.awaitResult(ThreadUtils.scala:301)\n",
      "\tat org.apache.spark.rpc.RpcTimeout.awaitResult(RpcTimeout.scala:75)\n",
      "\tat org.apache.spark.rpc.RpcEnv.setupEndpointRefByURI(RpcEnv.scala:102)\n",
      "\tat org.apache.spark.rpc.RpcEnv.setupEndpointRef(RpcEnv.scala:110)\n",
      "\tat org.apache.spark.util.RpcUtils$.makeDriverRef(RpcUtils.scala:36)\n",
      "\tat org.apache.spark.storage.BlockManagerMasterEndpoint.driverEndpoint$lzycompute(BlockManagerMasterEndpoint.scala:117)\n",
      "\tat org.apache.spark.storage.BlockManagerMasterEndpoint.org$apache$spark$storage$BlockManagerMasterEndpoint$$driverEndpoint(BlockManagerMasterEndpoint.scala:116)\n",
      "\tat org.apache.spark.storage.BlockManagerMasterEndpoint.isExecutorAlive$lzycompute$1(BlockManagerMasterEndpoint.scala:593)\n",
      "\tat org.apache.spark.storage.BlockManagerMasterEndpoint.isExecutorAlive$1(BlockManagerMasterEndpoint.scala:592)\n",
      "\tat org.apache.spark.storage.BlockManagerMasterEndpoint.org$apache$spark$storage$BlockManagerMasterEndpoint$$register(BlockManagerMasterEndpoint.scala:630)\n",
      "\tat org.apache.spark.storage.BlockManagerMasterEndpoint$$anonfun$receiveAndReply$1.applyOrElse(BlockManagerMasterEndpoint.scala:123)\n",
      "\tat org.apache.spark.rpc.netty.Inbox.$anonfun$process$1(Inbox.scala:103)\n",
      "\tat org.apache.spark.rpc.netty.Inbox.safelyCall(Inbox.scala:213)\n",
      "\tat org.apache.spark.rpc.netty.Inbox.process(Inbox.scala:100)\n",
      "\tat org.apache.spark.rpc.netty.MessageLoop.org$apache$spark$rpc$netty$MessageLoop$$receiveLoop(MessageLoop.scala:75)\n",
      "\tat org.apache.spark.rpc.netty.MessageLoop$$anon$1.run(MessageLoop.scala:41)\n",
      "\tat java.util.concurrent.Executors$RunnableAdapter.call(Executors.java:511)\n",
      "\tat java.util.concurrent.FutureTask.run(FutureTask.java:266)\n",
      "\t... 3 more\n",
      "Caused by: org.apache.spark.rpc.RpcEndpointNotFoundException: Cannot find endpoint: spark://CoarseGrainedScheduler@10.0.0.167:50332\n",
      "\tat org.apache.spark.rpc.netty.NettyRpcEnv.$anonfun$asyncSetupEndpointRefByURI$1(NettyRpcEnv.scala:148)\n",
      "\tat org.apache.spark.rpc.netty.NettyRpcEnv.$anonfun$asyncSetupEndpointRefByURI$1$adapted(NettyRpcEnv.scala:144)\n",
      "\tat scala.concurrent.Future.$anonfun$flatMap$1(Future.scala:307)\n",
      "\tat scala.concurrent.impl.Promise.$anonfun$transformWith$1(Promise.scala:41)\n",
      "\tat scala.concurrent.impl.CallbackRunnable.run(Promise.scala:64)\n",
      "\tat org.apache.spark.util.ThreadUtils$$anon$1.execute(ThreadUtils.scala:99)\n",
      "\tat scala.concurrent.impl.ExecutionContextImpl$$anon$4.execute(ExecutionContextImpl.scala:138)\n",
      "\tat scala.concurrent.impl.CallbackRunnable.executeWithValue(Promise.scala:72)\n",
      "\tat scala.concurrent.impl.Promise$DefaultPromise.$anonfun$tryComplete$1(Promise.scala:288)\n",
      "\tat scala.concurrent.impl.Promise$DefaultPromise.$anonfun$tryComplete$1$adapted(Promise.scala:288)\n",
      "\tat scala.concurrent.impl.Promise$DefaultPromise.tryComplete(Promise.scala:288)\n",
      "\tat scala.concurrent.Promise.complete(Promise.scala:53)\n",
      "\tat scala.concurrent.Promise.complete$(Promise.scala:52)\n",
      "\tat scala.concurrent.impl.Promise$DefaultPromise.complete(Promise.scala:187)\n",
      "\tat scala.concurrent.impl.Promise.$anonfun$transform$1(Promise.scala:33)\n",
      "\tat scala.concurrent.impl.CallbackRunnable.run(Promise.scala:64)\n",
      "\tat org.apache.spark.util.ThreadUtils$$anon$1.execute(ThreadUtils.scala:99)\n",
      "\tat scala.concurrent.impl.ExecutionContextImpl$$anon$4.execute(ExecutionContextImpl.scala:138)\n",
      "\tat scala.concurrent.impl.CallbackRunnable.executeWithValue(Promise.scala:72)\n",
      "\tat scala.concurrent.impl.Promise$DefaultPromise.$anonfun$tryComplete$1(Promise.scala:288)\n",
      "\tat scala.concurrent.impl.Promise$DefaultPromise.$anonfun$tryComplete$1$adapted(Promise.scala:288)\n",
      "\tat scala.concurrent.impl.Promise$DefaultPromise.tryComplete(Promise.scala:288)\n",
      "\tat scala.concurrent.Promise.complete(Promise.scala:53)\n",
      "\tat scala.concurrent.Promise.complete$(Promise.scala:52)\n",
      "\tat scala.concurrent.impl.Promise$DefaultPromise.complete(Promise.scala:187)\n",
      "\tat scala.concurrent.impl.Promise.$anonfun$transform$1(Promise.scala:33)\n",
      "\tat scala.concurrent.impl.CallbackRunnable.run(Promise.scala:64)\n",
      "\tat scala.concurrent.BatchingExecutor$Batch.processBatch$1(BatchingExecutor.scala:67)\n",
      "\tat scala.concurrent.BatchingExecutor$Batch.$anonfun$run$1(BatchingExecutor.scala:82)\n",
      "\tat scala.runtime.java8.JFunction0$mcV$sp.apply(JFunction0$mcV$sp.java:23)\n",
      "\tat scala.concurrent.BlockContext$.withBlockContext(BlockContext.scala:85)\n",
      "\tat scala.concurrent.BatchingExecutor$Batch.run(BatchingExecutor.scala:59)\n",
      "\tat scala.concurrent.Future$InternalCallbackExecutor$.unbatchedExecute(Future.scala:875)\n",
      "\tat scala.concurrent.BatchingExecutor.execute(BatchingExecutor.scala:110)\n",
      "\tat scala.concurrent.BatchingExecutor.execute$(BatchingExecutor.scala:107)\n",
      "\tat scala.concurrent.Future$InternalCallbackExecutor$.execute(Future.scala:873)\n",
      "\tat scala.concurrent.impl.CallbackRunnable.executeWithValue(Promise.scala:72)\n",
      "\tat scala.concurrent.impl.Promise$DefaultPromise.$anonfun$tryComplete$1(Promise.scala:288)\n",
      "\tat scala.concurrent.impl.Promise$DefaultPromise.$anonfun$tryComplete$1$adapted(Promise.scala:288)\n",
      "\tat scala.concurrent.impl.Promise$DefaultPromise.tryComplete(Promise.scala:288)\n",
      "\tat scala.concurrent.Promise.trySuccess(Promise.scala:94)\n",
      "\tat scala.concurrent.Promise.trySuccess$(Promise.scala:94)\n",
      "\tat scala.concurrent.impl.Promise$DefaultPromise.trySuccess(Promise.scala:187)\n",
      "\tat org.apache.spark.rpc.netty.NettyRpcEnv.onSuccess$1(NettyRpcEnv.scala:225)\n",
      "\tat org.apache.spark.rpc.netty.NettyRpcEnv.$anonfun$askAbortable$5(NettyRpcEnv.scala:239)\n",
      "\tat org.apache.spark.rpc.netty.NettyRpcEnv.$anonfun$askAbortable$5$adapted(NettyRpcEnv.scala:238)\n",
      "\tat scala.concurrent.impl.CallbackRunnable.run(Promise.scala:64)\n",
      "\tat org.apache.spark.util.ThreadUtils$$anon$1.execute(ThreadUtils.scala:99)\n",
      "\tat scala.concurrent.impl.ExecutionContextImpl$$anon$4.execute(ExecutionContextImpl.scala:138)\n",
      "\tat scala.concurrent.impl.CallbackRunnable.executeWithValue(Promise.scala:72)\n",
      "\tat scala.concurrent.impl.Promise$DefaultPromise.$anonfun$tryComplete$1(Promise.scala:288)\n",
      "\tat scala.concurrent.impl.Promise$DefaultPromise.$anonfun$tryComplete$1$adapted(Promise.scala:288)\n",
      "\tat scala.concurrent.impl.Promise$DefaultPromise.tryComplete(Promise.scala:288)\n",
      "\tat scala.concurrent.Promise.complete(Promise.scala:53)\n",
      "\tat scala.concurrent.Promise.complete$(Promise.scala:52)\n",
      "\tat scala.concurrent.impl.Promise$DefaultPromise.complete(Promise.scala:187)\n",
      "\tat scala.concurrent.Promise.success(Promise.scala:86)\n",
      "\tat scala.concurrent.Promise.success$(Promise.scala:86)\n",
      "\tat scala.concurrent.impl.Promise$DefaultPromise.success(Promise.scala:187)\n",
      "\tat org.apache.spark.rpc.netty.LocalNettyRpcCallContext.send(NettyRpcCallContext.scala:50)\n",
      "\tat org.apache.spark.rpc.netty.NettyRpcCallContext.reply(NettyRpcCallContext.scala:32)\n",
      "\tat org.apache.spark.rpc.netty.RpcEndpointVerifier$$anonfun$receiveAndReply$1.applyOrElse(RpcEndpointVerifier.scala:31)\n",
      "\tat org.apache.spark.rpc.netty.Inbox.$anonfun$process$1(Inbox.scala:103)\n",
      "\tat org.apache.spark.rpc.netty.Inbox.safelyCall(Inbox.scala:213)\n",
      "\tat org.apache.spark.rpc.netty.Inbox.process(Inbox.scala:100)\n",
      "\tat org.apache.spark.rpc.netty.MessageLoop.org$apache$spark$rpc$netty$MessageLoop$$receiveLoop(MessageLoop.scala:75)\n",
      "\tat org.apache.spark.rpc.netty.MessageLoop$$anon$1.run(MessageLoop.scala:41)\n",
      "\t... 3 more\n"
     ]
    },
    {
     "name": "stderr",
     "output_type": "stream",
     "text": [
      "[Stage 45:==========================>                              (8 + 8) / 17]\r"
     ]
    },
    {
     "name": "stdout",
     "output_type": "stream",
     "text": [
      "23/04/13 12:50:04 WARN MemoryStore: Not enough space to cache rdd_92_10 in memory! (computed 29.5 MiB so far)\n",
      "23/04/13 12:50:04 WARN MemoryStore: Not enough space to cache rdd_92_14 in memory! (computed 29.5 MiB so far)\n",
      "23/04/13 12:50:04 WARN MemoryStore: Not enough space to cache rdd_92_12 in memory! (computed 29.5 MiB so far)\n",
      "23/04/13 12:50:04 WARN MemoryStore: Not enough space to cache rdd_92_11 in memory! (computed 29.5 MiB so far)\n",
      "23/04/13 12:50:04 WARN MemoryStore: Not enough space to cache rdd_92_8 in memory! (computed 44.2 MiB so far)\n",
      "23/04/13 12:50:05 WARN MemoryStore: Not enough space to cache rdd_100_11 in memory! (computed 8.0 MiB so far)\n",
      "23/04/13 12:50:05 WARN MemoryStore: Not enough space to cache rdd_100_9 in memory! (computed 2.0 MiB so far)\n",
      "23/04/13 12:50:05 WARN MemoryStore: Not enough space to cache rdd_100_8 in memory! (computed 8.0 MiB so far)\n",
      "23/04/13 12:50:05 WARN MemoryStore: Not enough space to cache rdd_92_15 in memory! (computed 29.5 MiB so far)\n",
      "23/04/13 12:50:05 WARN MemoryStore: Not enough space to cache rdd_100_10 in memory! (computed 8.0 MiB so far)\n"
     ]
    },
    {
     "name": "stderr",
     "output_type": "stream",
     "text": [
      "[Stage 46:>                                                        (0 + 8) / 17]\r"
     ]
    },
    {
     "name": "stdout",
     "output_type": "stream",
     "text": [
      "23/04/13 12:50:07 WARN MemoryStore: Not enough space to cache rdd_92_4 in memory! (computed 19.6 MiB so far)\n",
      "23/04/13 12:50:07 WARN MemoryStore: Not enough space to cache rdd_92_5 in memory! (computed 29.5 MiB so far)\n",
      "23/04/13 12:50:07 WARN MemoryStore: Not enough space to cache rdd_92_1 in memory! (computed 29.5 MiB so far)\n",
      "23/04/13 12:50:07 WARN MemoryStore: Not enough space to cache rdd_92_0 in memory! (computed 29.5 MiB so far)\n",
      "23/04/13 12:50:07 WARN MemoryStore: Not enough space to cache rdd_92_3 in memory! (computed 29.5 MiB so far)\n",
      "23/04/13 12:50:07 WARN MemoryStore: Not enough space to cache rdd_92_7 in memory! (computed 29.5 MiB so far)\n",
      "23/04/13 12:50:07 WARN MemoryStore: Not enough space to cache rdd_92_6 in memory! (computed 29.5 MiB so far)\n",
      "23/04/13 12:50:07 WARN MemoryStore: Not enough space to cache rdd_92_2 in memory! (computed 29.5 MiB so far)\n"
     ]
    },
    {
     "name": "stderr",
     "output_type": "stream",
     "text": [
      "[Stage 46:================================>                       (10 + 7) / 17]\r"
     ]
    },
    {
     "name": "stdout",
     "output_type": "stream",
     "text": [
      "23/04/13 12:50:08 WARN MemoryStore: Not enough space to cache rdd_92_15 in memory! (computed 29.5 MiB so far)\n",
      "23/04/13 12:50:08 WARN MemoryStore: Not enough space to cache rdd_92_14 in memory! (computed 29.5 MiB so far)\n",
      "23/04/13 12:50:08 WARN MemoryStore: Not enough space to cache rdd_92_11 in memory! (computed 29.5 MiB so far)\n"
     ]
    },
    {
     "name": "stderr",
     "output_type": "stream",
     "text": [
      "                                                                                \r"
     ]
    },
    {
     "name": "stdout",
     "output_type": "stream",
     "text": [
      "23/04/13 12:50:10 WARN MemoryStore: Not enough space to cache rdd_92_4 in memory! (computed 5.6 MiB so far)\n",
      "23/04/13 12:50:10 WARN MemoryStore: Not enough space to cache rdd_92_6 in memory! (computed 5.6 MiB so far)\n",
      "23/04/13 12:50:10 WARN MemoryStore: Not enough space to cache rdd_92_2 in memory! (computed 5.6 MiB so far)\n",
      "23/04/13 12:50:10 WARN MemoryStore: Not enough space to cache rdd_92_0 in memory! (computed 5.6 MiB so far)\n",
      "23/04/13 12:50:10 WARN MemoryStore: Not enough space to cache rdd_92_1 in memory! (computed 5.6 MiB so far)\n",
      "23/04/13 12:50:10 WARN MemoryStore: Not enough space to cache rdd_92_3 in memory! (computed 5.6 MiB so far)\n",
      "23/04/13 12:50:10 WARN MemoryStore: Not enough space to cache rdd_92_5 in memory! (computed 5.6 MiB so far)\n"
     ]
    },
    {
     "name": "stderr",
     "output_type": "stream",
     "text": [
      "[Stage 48:>                                                        (0 + 8) / 17]\r"
     ]
    },
    {
     "name": "stdout",
     "output_type": "stream",
     "text": [
      "23/04/13 12:50:10 WARN MemoryStore: Not enough space to cache rdd_92_7 in memory! (computed 44.2 MiB so far)\n"
     ]
    },
    {
     "name": "stderr",
     "output_type": "stream",
     "text": [
      "[Stage 48:==============================>                          (9 + 8) / 17]\r"
     ]
    },
    {
     "name": "stdout",
     "output_type": "stream",
     "text": [
      "23/04/13 12:50:11 ERROR Inbox: Ignoring error\n",
      "org.apache.spark.SparkException: Exception thrown in awaitResult: \n",
      "\tat org.apache.spark.util.ThreadUtils$.awaitResult(ThreadUtils.scala:301)\n",
      "\tat org.apache.spark.rpc.RpcTimeout.awaitResult(RpcTimeout.scala:75)\n",
      "\tat org.apache.spark.rpc.RpcEnv.setupEndpointRefByURI(RpcEnv.scala:102)\n",
      "\tat org.apache.spark.rpc.RpcEnv.setupEndpointRef(RpcEnv.scala:110)\n",
      "\tat org.apache.spark.util.RpcUtils$.makeDriverRef(RpcUtils.scala:36)\n",
      "\tat org.apache.spark.storage.BlockManagerMasterEndpoint.driverEndpoint$lzycompute(BlockManagerMasterEndpoint.scala:117)\n",
      "\tat org.apache.spark.storage.BlockManagerMasterEndpoint.org$apache$spark$storage$BlockManagerMasterEndpoint$$driverEndpoint(BlockManagerMasterEndpoint.scala:116)\n",
      "\tat org.apache.spark.storage.BlockManagerMasterEndpoint.isExecutorAlive$lzycompute$1(BlockManagerMasterEndpoint.scala:593)\n",
      "\tat org.apache.spark.storage.BlockManagerMasterEndpoint.isExecutorAlive$1(BlockManagerMasterEndpoint.scala:592)\n",
      "\tat org.apache.spark.storage.BlockManagerMasterEndpoint.org$apache$spark$storage$BlockManagerMasterEndpoint$$register(BlockManagerMasterEndpoint.scala:630)\n",
      "\tat org.apache.spark.storage.BlockManagerMasterEndpoint$$anonfun$receiveAndReply$1.applyOrElse(BlockManagerMasterEndpoint.scala:123)\n",
      "\tat org.apache.spark.rpc.netty.Inbox.$anonfun$process$1(Inbox.scala:103)\n",
      "\tat org.apache.spark.rpc.netty.Inbox.safelyCall(Inbox.scala:213)\n",
      "\tat org.apache.spark.rpc.netty.Inbox.process(Inbox.scala:100)\n",
      "\tat org.apache.spark.rpc.netty.MessageLoop.org$apache$spark$rpc$netty$MessageLoop$$receiveLoop(MessageLoop.scala:75)\n",
      "\tat org.apache.spark.rpc.netty.MessageLoop$$anon$1.run(MessageLoop.scala:41)\n",
      "\tat java.util.concurrent.Executors$RunnableAdapter.call(Executors.java:511)\n",
      "\tat java.util.concurrent.FutureTask.run(FutureTask.java:266)\n",
      "\tat java.util.concurrent.ThreadPoolExecutor.runWorker(ThreadPoolExecutor.java:1149)\n",
      "\tat java.util.concurrent.ThreadPoolExecutor$Worker.run(ThreadPoolExecutor.java:624)\n",
      "\tat java.lang.Thread.run(Thread.java:750)\n",
      "Caused by: org.apache.spark.rpc.RpcEndpointNotFoundException: Cannot find endpoint: spark://CoarseGrainedScheduler@10.0.0.167:50332\n",
      "\tat org.apache.spark.rpc.netty.NettyRpcEnv.$anonfun$asyncSetupEndpointRefByURI$1(NettyRpcEnv.scala:148)\n",
      "\tat org.apache.spark.rpc.netty.NettyRpcEnv.$anonfun$asyncSetupEndpointRefByURI$1$adapted(NettyRpcEnv.scala:144)\n",
      "\tat scala.concurrent.Future.$anonfun$flatMap$1(Future.scala:307)\n",
      "\tat scala.concurrent.impl.Promise.$anonfun$transformWith$1(Promise.scala:41)\n",
      "\tat scala.concurrent.impl.CallbackRunnable.run(Promise.scala:64)\n",
      "\tat org.apache.spark.util.ThreadUtils$$anon$1.execute(ThreadUtils.scala:99)\n",
      "\tat scala.concurrent.impl.ExecutionContextImpl$$anon$4.execute(ExecutionContextImpl.scala:138)\n",
      "\tat scala.concurrent.impl.CallbackRunnable.executeWithValue(Promise.scala:72)\n",
      "\tat scala.concurrent.impl.Promise$DefaultPromise.$anonfun$tryComplete$1(Promise.scala:288)\n",
      "\tat scala.concurrent.impl.Promise$DefaultPromise.$anonfun$tryComplete$1$adapted(Promise.scala:288)\n",
      "\tat scala.concurrent.impl.Promise$DefaultPromise.tryComplete(Promise.scala:288)\n",
      "\tat scala.concurrent.Promise.complete(Promise.scala:53)\n",
      "\tat scala.concurrent.Promise.complete$(Promise.scala:52)\n",
      "\tat scala.concurrent.impl.Promise$DefaultPromise.complete(Promise.scala:187)\n",
      "\tat scala.concurrent.impl.Promise.$anonfun$transform$1(Promise.scala:33)\n",
      "\tat scala.concurrent.impl.CallbackRunnable.run(Promise.scala:64)\n",
      "\tat org.apache.spark.util.ThreadUtils$$anon$1.execute(ThreadUtils.scala:99)\n",
      "\tat scala.concurrent.impl.ExecutionContextImpl$$anon$4.execute(ExecutionContextImpl.scala:138)\n",
      "\tat scala.concurrent.impl.CallbackRunnable.executeWithValue(Promise.scala:72)\n",
      "\tat scala.concurrent.impl.Promise$DefaultPromise.$anonfun$tryComplete$1(Promise.scala:288)\n",
      "\tat scala.concurrent.impl.Promise$DefaultPromise.$anonfun$tryComplete$1$adapted(Promise.scala:288)\n",
      "\tat scala.concurrent.impl.Promise$DefaultPromise.tryComplete(Promise.scala:288)\n",
      "\tat scala.concurrent.Promise.complete(Promise.scala:53)\n",
      "\tat scala.concurrent.Promise.complete$(Promise.scala:52)\n",
      "\tat scala.concurrent.impl.Promise$DefaultPromise.complete(Promise.scala:187)\n",
      "\tat scala.concurrent.impl.Promise.$anonfun$transform$1(Promise.scala:33)\n",
      "\tat scala.concurrent.impl.CallbackRunnable.run(Promise.scala:64)\n",
      "\tat scala.concurrent.BatchingExecutor$Batch.processBatch$1(BatchingExecutor.scala:67)\n",
      "\tat scala.concurrent.BatchingExecutor$Batch.$anonfun$run$1(BatchingExecutor.scala:82)\n",
      "\tat scala.runtime.java8.JFunction0$mcV$sp.apply(JFunction0$mcV$sp.java:23)\n",
      "\tat scala.concurrent.BlockContext$.withBlockContext(BlockContext.scala:85)\n",
      "\tat scala.concurrent.BatchingExecutor$Batch.run(BatchingExecutor.scala:59)\n",
      "\tat scala.concurrent.Future$InternalCallbackExecutor$.unbatchedExecute(Future.scala:875)\n",
      "\tat scala.concurrent.BatchingExecutor.execute(BatchingExecutor.scala:110)\n",
      "\tat scala.concurrent.BatchingExecutor.execute$(BatchingExecutor.scala:107)\n",
      "\tat scala.concurrent.Future$InternalCallbackExecutor$.execute(Future.scala:873)\n",
      "\tat scala.concurrent.impl.CallbackRunnable.executeWithValue(Promise.scala:72)\n",
      "\tat scala.concurrent.impl.Promise$DefaultPromise.$anonfun$tryComplete$1(Promise.scala:288)\n",
      "\tat scala.concurrent.impl.Promise$DefaultPromise.$anonfun$tryComplete$1$adapted(Promise.scala:288)\n",
      "\tat scala.concurrent.impl.Promise$DefaultPromise.tryComplete(Promise.scala:288)\n",
      "\tat scala.concurrent.Promise.trySuccess(Promise.scala:94)\n",
      "\tat scala.concurrent.Promise.trySuccess$(Promise.scala:94)\n",
      "\tat scala.concurrent.impl.Promise$DefaultPromise.trySuccess(Promise.scala:187)\n",
      "\tat org.apache.spark.rpc.netty.NettyRpcEnv.onSuccess$1(NettyRpcEnv.scala:225)\n",
      "\tat org.apache.spark.rpc.netty.NettyRpcEnv.$anonfun$askAbortable$5(NettyRpcEnv.scala:239)\n",
      "\tat org.apache.spark.rpc.netty.NettyRpcEnv.$anonfun$askAbortable$5$adapted(NettyRpcEnv.scala:238)\n",
      "\tat scala.concurrent.impl.CallbackRunnable.run(Promise.scala:64)\n",
      "\tat org.apache.spark.util.ThreadUtils$$anon$1.execute(ThreadUtils.scala:99)\n",
      "\tat scala.concurrent.impl.ExecutionContextImpl$$anon$4.execute(ExecutionContextImpl.scala:138)\n",
      "\tat scala.concurrent.impl.CallbackRunnable.executeWithValue(Promise.scala:72)\n",
      "\tat scala.concurrent.impl.Promise$DefaultPromise.$anonfun$tryComplete$1(Promise.scala:288)\n",
      "\tat scala.concurrent.impl.Promise$DefaultPromise.$anonfun$tryComplete$1$adapted(Promise.scala:288)\n",
      "\tat scala.concurrent.impl.Promise$DefaultPromise.tryComplete(Promise.scala:288)\n",
      "\tat scala.concurrent.Promise.complete(Promise.scala:53)\n",
      "\tat scala.concurrent.Promise.complete$(Promise.scala:52)\n",
      "\tat scala.concurrent.impl.Promise$DefaultPromise.complete(Promise.scala:187)\n",
      "\tat scala.concurrent.Promise.success(Promise.scala:86)\n",
      "\tat scala.concurrent.Promise.success$(Promise.scala:86)\n",
      "\tat scala.concurrent.impl.Promise$DefaultPromise.success(Promise.scala:187)\n",
      "\tat org.apache.spark.rpc.netty.LocalNettyRpcCallContext.send(NettyRpcCallContext.scala:50)\n",
      "\tat org.apache.spark.rpc.netty.NettyRpcCallContext.reply(NettyRpcCallContext.scala:32)\n",
      "\tat org.apache.spark.rpc.netty.RpcEndpointVerifier$$anonfun$receiveAndReply$1.applyOrElse(RpcEndpointVerifier.scala:31)\n",
      "\tat org.apache.spark.rpc.netty.Inbox.$anonfun$process$1(Inbox.scala:103)\n",
      "\tat org.apache.spark.rpc.netty.Inbox.safelyCall(Inbox.scala:213)\n",
      "\tat org.apache.spark.rpc.netty.Inbox.process(Inbox.scala:100)\n",
      "\tat org.apache.spark.rpc.netty.MessageLoop.org$apache$spark$rpc$netty$MessageLoop$$receiveLoop(MessageLoop.scala:75)\n",
      "\tat org.apache.spark.rpc.netty.MessageLoop$$anon$1.run(MessageLoop.scala:41)\n",
      "\t... 3 more\n",
      "23/04/13 12:50:11 WARN Executor: Issue communicating with driver in heartbeater\n",
      "org.apache.spark.SparkException: Exception thrown in awaitResult: \n",
      "\tat org.apache.spark.util.ThreadUtils$.awaitResult(ThreadUtils.scala:301)\n",
      "\tat org.apache.spark.rpc.RpcTimeout.awaitResult(RpcTimeout.scala:75)\n",
      "\tat org.apache.spark.rpc.RpcEndpointRef.askSync(RpcEndpointRef.scala:103)\n",
      "\tat org.apache.spark.rpc.RpcEndpointRef.askSync(RpcEndpointRef.scala:87)\n",
      "\tat org.apache.spark.storage.BlockManagerMaster.registerBlockManager(BlockManagerMaster.scala:80)\n",
      "\tat org.apache.spark.storage.BlockManager.reregister(BlockManager.scala:643)\n",
      "\tat org.apache.spark.executor.Executor.reportHeartBeat(Executor.scala:1057)\n",
      "\tat org.apache.spark.executor.Executor.$anonfun$heartbeater$1(Executor.scala:238)\n",
      "\tat scala.runtime.java8.JFunction0$mcV$sp.apply(JFunction0$mcV$sp.java:23)\n",
      "\tat org.apache.spark.util.Utils$.logUncaughtExceptions(Utils.scala:2066)\n",
      "\tat org.apache.spark.Heartbeater$$anon$1.run(Heartbeater.scala:46)\n",
      "\tat java.util.concurrent.Executors$RunnableAdapter.call(Executors.java:511)\n",
      "\tat java.util.concurrent.FutureTask.runAndReset(FutureTask.java:308)\n",
      "\tat java.util.concurrent.ScheduledThreadPoolExecutor$ScheduledFutureTask.access$301(ScheduledThreadPoolExecutor.java:180)\n",
      "\tat java.util.concurrent.ScheduledThreadPoolExecutor$ScheduledFutureTask.run(ScheduledThreadPoolExecutor.java:294)\n",
      "\tat java.util.concurrent.ThreadPoolExecutor.runWorker(ThreadPoolExecutor.java:1149)\n",
      "\tat java.util.concurrent.ThreadPoolExecutor$Worker.run(ThreadPoolExecutor.java:624)\n",
      "\tat java.lang.Thread.run(Thread.java:750)\n",
      "Caused by: org.apache.spark.SparkException: Exception thrown in awaitResult: \n",
      "\tat org.apache.spark.util.ThreadUtils$.awaitResult(ThreadUtils.scala:301)\n",
      "\tat org.apache.spark.rpc.RpcTimeout.awaitResult(RpcTimeout.scala:75)\n",
      "\tat org.apache.spark.rpc.RpcEnv.setupEndpointRefByURI(RpcEnv.scala:102)\n",
      "\tat org.apache.spark.rpc.RpcEnv.setupEndpointRef(RpcEnv.scala:110)\n",
      "\tat org.apache.spark.util.RpcUtils$.makeDriverRef(RpcUtils.scala:36)\n",
      "\tat org.apache.spark.storage.BlockManagerMasterEndpoint.driverEndpoint$lzycompute(BlockManagerMasterEndpoint.scala:117)\n",
      "\tat org.apache.spark.storage.BlockManagerMasterEndpoint.org$apache$spark$storage$BlockManagerMasterEndpoint$$driverEndpoint(BlockManagerMasterEndpoint.scala:116)\n",
      "\tat org.apache.spark.storage.BlockManagerMasterEndpoint.isExecutorAlive$lzycompute$1(BlockManagerMasterEndpoint.scala:593)\n",
      "\tat org.apache.spark.storage.BlockManagerMasterEndpoint.isExecutorAlive$1(BlockManagerMasterEndpoint.scala:592)\n",
      "\tat org.apache.spark.storage.BlockManagerMasterEndpoint.org$apache$spark$storage$BlockManagerMasterEndpoint$$register(BlockManagerMasterEndpoint.scala:630)\n",
      "\tat org.apache.spark.storage.BlockManagerMasterEndpoint$$anonfun$receiveAndReply$1.applyOrElse(BlockManagerMasterEndpoint.scala:123)\n",
      "\tat org.apache.spark.rpc.netty.Inbox.$anonfun$process$1(Inbox.scala:103)\n",
      "\tat org.apache.spark.rpc.netty.Inbox.safelyCall(Inbox.scala:213)\n",
      "\tat org.apache.spark.rpc.netty.Inbox.process(Inbox.scala:100)\n",
      "\tat org.apache.spark.rpc.netty.MessageLoop.org$apache$spark$rpc$netty$MessageLoop$$receiveLoop(MessageLoop.scala:75)\n",
      "\tat org.apache.spark.rpc.netty.MessageLoop$$anon$1.run(MessageLoop.scala:41)\n",
      "\tat java.util.concurrent.Executors$RunnableAdapter.call(Executors.java:511)\n",
      "\tat java.util.concurrent.FutureTask.run(FutureTask.java:266)\n",
      "\t... 3 more\n",
      "Caused by: org.apache.spark.rpc.RpcEndpointNotFoundException: Cannot find endpoint: spark://CoarseGrainedScheduler@10.0.0.167:50332\n",
      "\tat org.apache.spark.rpc.netty.NettyRpcEnv.$anonfun$asyncSetupEndpointRefByURI$1(NettyRpcEnv.scala:148)\n",
      "\tat org.apache.spark.rpc.netty.NettyRpcEnv.$anonfun$asyncSetupEndpointRefByURI$1$adapted(NettyRpcEnv.scala:144)\n",
      "\tat scala.concurrent.Future.$anonfun$flatMap$1(Future.scala:307)\n",
      "\tat scala.concurrent.impl.Promise.$anonfun$transformWith$1(Promise.scala:41)\n",
      "\tat scala.concurrent.impl.CallbackRunnable.run(Promise.scala:64)\n",
      "\tat org.apache.spark.util.ThreadUtils$$anon$1.execute(ThreadUtils.scala:99)\n",
      "\tat scala.concurrent.impl.ExecutionContextImpl$$anon$4.execute(ExecutionContextImpl.scala:138)\n",
      "\tat scala.concurrent.impl.CallbackRunnable.executeWithValue(Promise.scala:72)\n",
      "\tat scala.concurrent.impl.Promise$DefaultPromise.$anonfun$tryComplete$1(Promise.scala:288)\n",
      "\tat scala.concurrent.impl.Promise$DefaultPromise.$anonfun$tryComplete$1$adapted(Promise.scala:288)\n",
      "\tat scala.concurrent.impl.Promise$DefaultPromise.tryComplete(Promise.scala:288)\n",
      "\tat scala.concurrent.Promise.complete(Promise.scala:53)\n",
      "\tat scala.concurrent.Promise.complete$(Promise.scala:52)\n",
      "\tat scala.concurrent.impl.Promise$DefaultPromise.complete(Promise.scala:187)\n",
      "\tat scala.concurrent.impl.Promise.$anonfun$transform$1(Promise.scala:33)\n",
      "\tat scala.concurrent.impl.CallbackRunnable.run(Promise.scala:64)\n",
      "\tat org.apache.spark.util.ThreadUtils$$anon$1.execute(ThreadUtils.scala:99)\n",
      "\tat scala.concurrent.impl.ExecutionContextImpl$$anon$4.execute(ExecutionContextImpl.scala:138)\n",
      "\tat scala.concurrent.impl.CallbackRunnable.executeWithValue(Promise.scala:72)\n",
      "\tat scala.concurrent.impl.Promise$DefaultPromise.$anonfun$tryComplete$1(Promise.scala:288)\n",
      "\tat scala.concurrent.impl.Promise$DefaultPromise.$anonfun$tryComplete$1$adapted(Promise.scala:288)\n",
      "\tat scala.concurrent.impl.Promise$DefaultPromise.tryComplete(Promise.scala:288)\n",
      "\tat scala.concurrent.Promise.complete(Promise.scala:53)\n",
      "\tat scala.concurrent.Promise.complete$(Promise.scala:52)\n",
      "\tat scala.concurrent.impl.Promise$DefaultPromise.complete(Promise.scala:187)\n",
      "\tat scala.concurrent.impl.Promise.$anonfun$transform$1(Promise.scala:33)\n",
      "\tat scala.concurrent.impl.CallbackRunnable.run(Promise.scala:64)\n",
      "\tat scala.concurrent.BatchingExecutor$Batch.processBatch$1(BatchingExecutor.scala:67)\n",
      "\tat scala.concurrent.BatchingExecutor$Batch.$anonfun$run$1(BatchingExecutor.scala:82)\n",
      "\tat scala.runtime.java8.JFunction0$mcV$sp.apply(JFunction0$mcV$sp.java:23)\n",
      "\tat scala.concurrent.BlockContext$.withBlockContext(BlockContext.scala:85)\n",
      "\tat scala.concurrent.BatchingExecutor$Batch.run(BatchingExecutor.scala:59)\n",
      "\tat scala.concurrent.Future$InternalCallbackExecutor$.unbatchedExecute(Future.scala:875)\n",
      "\tat scala.concurrent.BatchingExecutor.execute(BatchingExecutor.scala:110)\n",
      "\tat scala.concurrent.BatchingExecutor.execute$(BatchingExecutor.scala:107)\n",
      "\tat scala.concurrent.Future$InternalCallbackExecutor$.execute(Future.scala:873)\n",
      "\tat scala.concurrent.impl.CallbackRunnable.executeWithValue(Promise.scala:72)\n",
      "\tat scala.concurrent.impl.Promise$DefaultPromise.$anonfun$tryComplete$1(Promise.scala:288)\n",
      "\tat scala.concurrent.impl.Promise$DefaultPromise.$anonfun$tryComplete$1$adapted(Promise.scala:288)\n",
      "\tat scala.concurrent.impl.Promise$DefaultPromise.tryComplete(Promise.scala:288)\n",
      "\tat scala.concurrent.Promise.trySuccess(Promise.scala:94)\n",
      "\tat scala.concurrent.Promise.trySuccess$(Promise.scala:94)\n",
      "\tat scala.concurrent.impl.Promise$DefaultPromise.trySuccess(Promise.scala:187)\n",
      "\tat org.apache.spark.rpc.netty.NettyRpcEnv.onSuccess$1(NettyRpcEnv.scala:225)\n",
      "\tat org.apache.spark.rpc.netty.NettyRpcEnv.$anonfun$askAbortable$5(NettyRpcEnv.scala:239)\n",
      "\tat org.apache.spark.rpc.netty.NettyRpcEnv.$anonfun$askAbortable$5$adapted(NettyRpcEnv.scala:238)\n",
      "\tat scala.concurrent.impl.CallbackRunnable.run(Promise.scala:64)\n",
      "\tat org.apache.spark.util.ThreadUtils$$anon$1.execute(ThreadUtils.scala:99)\n",
      "\tat scala.concurrent.impl.ExecutionContextImpl$$anon$4.execute(ExecutionContextImpl.scala:138)\n",
      "\tat scala.concurrent.impl.CallbackRunnable.executeWithValue(Promise.scala:72)\n",
      "\tat scala.concurrent.impl.Promise$DefaultPromise.$anonfun$tryComplete$1(Promise.scala:288)\n",
      "\tat scala.concurrent.impl.Promise$DefaultPromise.$anonfun$tryComplete$1$adapted(Promise.scala:288)\n",
      "\tat scala.concurrent.impl.Promise$DefaultPromise.tryComplete(Promise.scala:288)\n",
      "\tat scala.concurrent.Promise.complete(Promise.scala:53)\n",
      "\tat scala.concurrent.Promise.complete$(Promise.scala:52)\n",
      "\tat scala.concurrent.impl.Promise$DefaultPromise.complete(Promise.scala:187)\n",
      "\tat scala.concurrent.Promise.success(Promise.scala:86)\n",
      "\tat scala.concurrent.Promise.success$(Promise.scala:86)\n",
      "\tat scala.concurrent.impl.Promise$DefaultPromise.success(Promise.scala:187)\n",
      "\tat org.apache.spark.rpc.netty.LocalNettyRpcCallContext.send(NettyRpcCallContext.scala:50)\n",
      "\tat org.apache.spark.rpc.netty.NettyRpcCallContext.reply(NettyRpcCallContext.scala:32)\n",
      "\tat org.apache.spark.rpc.netty.RpcEndpointVerifier$$anonfun$receiveAndReply$1.applyOrElse(RpcEndpointVerifier.scala:31)\n",
      "\tat org.apache.spark.rpc.netty.Inbox.$anonfun$process$1(Inbox.scala:103)\n",
      "\tat org.apache.spark.rpc.netty.Inbox.safelyCall(Inbox.scala:213)\n",
      "\tat org.apache.spark.rpc.netty.Inbox.process(Inbox.scala:100)\n",
      "\tat org.apache.spark.rpc.netty.MessageLoop.org$apache$spark$rpc$netty$MessageLoop$$receiveLoop(MessageLoop.scala:75)\n",
      "\tat org.apache.spark.rpc.netty.MessageLoop$$anon$1.run(MessageLoop.scala:41)\n",
      "\t... 3 more\n",
      "23/04/13 12:50:11 WARN MemoryStore: Not enough space to cache rdd_92_14 in memory! (computed 13.1 MiB so far)\n",
      "23/04/13 12:50:11 WARN MemoryStore: Not enough space to cache rdd_92_11 in memory! (computed 19.6 MiB so far)\n"
     ]
    },
    {
     "name": "stderr",
     "output_type": "stream",
     "text": [
      "[Stage 48:==============================================>         (14 + 3) / 17]\r"
     ]
    },
    {
     "name": "stdout",
     "output_type": "stream",
     "text": [
      "23/04/13 12:50:11 WARN MemoryStore: Not enough space to cache rdd_92_15 in memory! (computed 44.2 MiB so far)\n"
     ]
    },
    {
     "name": "stderr",
     "output_type": "stream",
     "text": [
      "                                                                                \r"
     ]
    },
    {
     "name": "stdout",
     "output_type": "stream",
     "text": [
      "23/04/13 12:50:12 WARN MemoryStore: Not enough space to cache rdd_92_3 in memory! (computed 5.6 MiB so far)\n",
      "23/04/13 12:50:12 WARN MemoryStore: Not enough space to cache rdd_92_2 in memory! (computed 5.6 MiB so far)\n",
      "23/04/13 12:50:12 WARN MemoryStore: Not enough space to cache rdd_92_5 in memory! (computed 5.6 MiB so far)\n",
      "23/04/13 12:50:12 WARN MemoryStore: Not enough space to cache rdd_92_1 in memory! (computed 5.6 MiB so far)\n",
      "23/04/13 12:50:12 WARN MemoryStore: Not enough space to cache rdd_92_4 in memory! (computed 5.6 MiB so far)\n",
      "23/04/13 12:50:12 WARN MemoryStore: Not enough space to cache rdd_92_0 in memory! (computed 5.6 MiB so far)\n",
      "23/04/13 12:50:12 WARN MemoryStore: Not enough space to cache rdd_92_7 in memory! (computed 5.6 MiB so far)\n"
     ]
    },
    {
     "name": "stderr",
     "output_type": "stream",
     "text": [
      "[Stage 50:>                                                        (0 + 8) / 17]\r"
     ]
    },
    {
     "name": "stdout",
     "output_type": "stream",
     "text": [
      "23/04/13 12:50:13 WARN MemoryStore: Not enough space to cache rdd_92_6 in memory! (computed 44.2 MiB so far)\n"
     ]
    },
    {
     "name": "stderr",
     "output_type": "stream",
     "text": [
      "[Stage 50:=======================>                                 (7 + 8) / 17]\r"
     ]
    },
    {
     "name": "stdout",
     "output_type": "stream",
     "text": [
      "23/04/13 12:50:13 WARN MemoryStore: Not enough space to cache rdd_92_14 in memory! (computed 13.1 MiB so far)\n",
      "23/04/13 12:50:13 WARN MemoryStore: Not enough space to cache rdd_92_15 in memory! (computed 13.1 MiB so far)\n"
     ]
    },
    {
     "name": "stderr",
     "output_type": "stream",
     "text": [
      "[Stage 50:==============================================>         (14 + 3) / 17]\r"
     ]
    },
    {
     "name": "stdout",
     "output_type": "stream",
     "text": [
      "23/04/13 12:50:13 WARN MemoryStore: Not enough space to cache rdd_92_11 in memory! (computed 44.2 MiB so far)\n"
     ]
    },
    {
     "name": "stderr",
     "output_type": "stream",
     "text": [
      "                                                                                \r"
     ]
    },
    {
     "name": "stdout",
     "output_type": "stream",
     "text": [
      "23/04/13 12:50:14 WARN MemoryStore: Not enough space to cache rdd_92_2 in memory! (computed 5.6 MiB so far)\n",
      "23/04/13 12:50:14 WARN MemoryStore: Not enough space to cache rdd_92_3 in memory! (computed 5.6 MiB so far)\n",
      "23/04/13 12:50:14 WARN MemoryStore: Not enough space to cache rdd_92_7 in memory! (computed 3.7 MiB so far)\n",
      "23/04/13 12:50:14 WARN MemoryStore: Not enough space to cache rdd_92_5 in memory! (computed 3.7 MiB so far)\n",
      "23/04/13 12:50:14 WARN MemoryStore: Not enough space to cache rdd_92_6 in memory! (computed 5.6 MiB so far)\n",
      "23/04/13 12:50:14 WARN MemoryStore: Not enough space to cache rdd_92_0 in memory! (computed 5.6 MiB so far)\n",
      "23/04/13 12:50:14 WARN MemoryStore: Not enough space to cache rdd_92_4 in memory! (computed 5.6 MiB so far)\n"
     ]
    },
    {
     "name": "stderr",
     "output_type": "stream",
     "text": [
      "[Stage 52:>                                                        (0 + 8) / 17]\r"
     ]
    },
    {
     "name": "stdout",
     "output_type": "stream",
     "text": [
      "23/04/13 12:50:14 WARN MemoryStore: Not enough space to cache rdd_92_1 in memory! (computed 44.2 MiB so far)\n"
     ]
    },
    {
     "name": "stderr",
     "output_type": "stream",
     "text": [
      "[Stage 52:==========================>                              (8 + 8) / 17]\r"
     ]
    },
    {
     "name": "stdout",
     "output_type": "stream",
     "text": [
      "23/04/13 12:50:15 WARN MemoryStore: Not enough space to cache rdd_92_14 in memory! (computed 13.1 MiB so far)\n",
      "23/04/13 12:50:15 WARN MemoryStore: Not enough space to cache rdd_92_15 in memory! (computed 13.1 MiB so far)\n"
     ]
    },
    {
     "name": "stderr",
     "output_type": "stream",
     "text": [
      "[Stage 52:==============================================>         (14 + 3) / 17]\r"
     ]
    },
    {
     "name": "stdout",
     "output_type": "stream",
     "text": [
      "23/04/13 12:50:15 WARN MemoryStore: Not enough space to cache rdd_92_11 in memory! (computed 44.2 MiB so far)\n"
     ]
    },
    {
     "name": "stderr",
     "output_type": "stream",
     "text": [
      "                                                                                \r"
     ]
    },
    {
     "name": "stdout",
     "output_type": "stream",
     "text": [
      "23/04/13 12:50:15 WARN MemoryStore: Not enough space to cache rdd_92_1 in memory! (computed 3.7 MiB so far)\n",
      "23/04/13 12:50:15 WARN MemoryStore: Not enough space to cache rdd_92_0 in memory! (computed 3.7 MiB so far)\n",
      "23/04/13 12:50:15 WARN MemoryStore: Not enough space to cache rdd_92_7 in memory! (computed 5.6 MiB so far)\n",
      "23/04/13 12:50:15 WARN MemoryStore: Not enough space to cache rdd_92_4 in memory! (computed 5.6 MiB so far)\n",
      "23/04/13 12:50:15 WARN MemoryStore: Not enough space to cache rdd_92_5 in memory! (computed 5.6 MiB so far)\n",
      "23/04/13 12:50:15 WARN MemoryStore: Not enough space to cache rdd_92_2 in memory! (computed 5.6 MiB so far)\n",
      "23/04/13 12:50:15 WARN MemoryStore: Not enough space to cache rdd_92_3 in memory! (computed 8.4 MiB so far)\n",
      "23/04/13 12:50:15 WARN MemoryStore: Not enough space to cache rdd_92_6 in memory! (computed 5.6 MiB so far)\n"
     ]
    },
    {
     "name": "stderr",
     "output_type": "stream",
     "text": [
      "[Stage 54:==========================>                              (8 + 8) / 17]\r"
     ]
    },
    {
     "name": "stdout",
     "output_type": "stream",
     "text": [
      "23/04/13 12:50:16 WARN MemoryStore: Not enough space to cache rdd_92_11 in memory! (computed 13.1 MiB so far)\n",
      "23/04/13 12:50:16 WARN MemoryStore: Not enough space to cache rdd_92_14 in memory! (computed 19.6 MiB so far)\n",
      "23/04/13 12:50:16 WARN MemoryStore: Not enough space to cache rdd_92_15 in memory! (computed 19.6 MiB so far)\n"
     ]
    },
    {
     "name": "stderr",
     "output_type": "stream",
     "text": [
      "                                                                                \r"
     ]
    },
    {
     "name": "stdout",
     "output_type": "stream",
     "text": [
      "23/04/13 12:50:17 WARN MemoryStore: Not enough space to cache rdd_92_4 in memory! (computed 3.7 MiB so far)\n",
      "23/04/13 12:50:17 WARN MemoryStore: Not enough space to cache rdd_92_2 in memory! (computed 3.7 MiB so far)\n",
      "23/04/13 12:50:17 WARN MemoryStore: Not enough space to cache rdd_92_0 in memory! (computed 5.6 MiB so far)\n",
      "23/04/13 12:50:17 WARN MemoryStore: Not enough space to cache rdd_92_6 in memory! (computed 5.6 MiB so far)\n",
      "23/04/13 12:50:17 WARN MemoryStore: Not enough space to cache rdd_92_1 in memory! (computed 5.6 MiB so far)\n",
      "23/04/13 12:50:17 WARN MemoryStore: Not enough space to cache rdd_92_5 in memory! (computed 5.6 MiB so far)\n",
      "23/04/13 12:50:17 WARN MemoryStore: Not enough space to cache rdd_92_7 in memory! (computed 5.6 MiB so far)\n"
     ]
    },
    {
     "name": "stderr",
     "output_type": "stream",
     "text": [
      "[Stage 56:>                                                        (0 + 8) / 17]\r"
     ]
    },
    {
     "name": "stdout",
     "output_type": "stream",
     "text": [
      "23/04/13 12:50:18 WARN MemoryStore: Not enough space to cache rdd_92_3 in memory! (computed 44.2 MiB so far)\n"
     ]
    },
    {
     "name": "stderr",
     "output_type": "stream",
     "text": [
      "[Stage 56:==============================================>         (14 + 3) / 17]\r"
     ]
    },
    {
     "name": "stdout",
     "output_type": "stream",
     "text": [
      "23/04/13 12:50:18 WARN MemoryStore: Not enough space to cache rdd_92_11 in memory! (computed 19.6 MiB so far)\n",
      "23/04/13 12:50:18 WARN MemoryStore: Not enough space to cache rdd_92_15 in memory! (computed 13.1 MiB so far)\n",
      "23/04/13 12:50:18 WARN MemoryStore: Not enough space to cache rdd_92_14 in memory! (computed 13.1 MiB so far)\n"
     ]
    },
    {
     "name": "stderr",
     "output_type": "stream",
     "text": [
      "                                                                                \r"
     ]
    },
    {
     "name": "stdout",
     "output_type": "stream",
     "text": [
      "23/04/13 12:50:19 WARN MemoryStore: Not enough space to cache rdd_92_7 in memory! (computed 5.6 MiB so far)\n",
      "23/04/13 12:50:19 WARN MemoryStore: Not enough space to cache rdd_92_5 in memory! (computed 5.6 MiB so far)\n",
      "23/04/13 12:50:19 WARN MemoryStore: Not enough space to cache rdd_92_0 in memory! (computed 5.6 MiB so far)\n",
      "23/04/13 12:50:19 WARN MemoryStore: Not enough space to cache rdd_92_1 in memory! (computed 5.6 MiB so far)\n",
      "23/04/13 12:50:19 WARN MemoryStore: Not enough space to cache rdd_92_4 in memory! (computed 5.6 MiB so far)\n",
      "23/04/13 12:50:19 WARN MemoryStore: Not enough space to cache rdd_92_6 in memory! (computed 13.1 MiB so far)\n",
      "23/04/13 12:50:19 WARN MemoryStore: Not enough space to cache rdd_92_2 in memory! (computed 19.6 MiB so far)\n",
      "23/04/13 12:50:19 WARN MemoryStore: Not enough space to cache rdd_92_3 in memory! (computed 44.2 MiB so far)\n"
     ]
    },
    {
     "name": "stderr",
     "output_type": "stream",
     "text": [
      "[Stage 58:==============================================>         (14 + 3) / 17]\r"
     ]
    },
    {
     "name": "stdout",
     "output_type": "stream",
     "text": [
      "23/04/13 12:50:20 WARN MemoryStore: Not enough space to cache rdd_92_14 in memory! (computed 13.1 MiB so far)\n",
      "23/04/13 12:50:20 WARN MemoryStore: Not enough space to cache rdd_92_15 in memory! (computed 13.1 MiB so far)\n",
      "23/04/13 12:50:20 WARN MemoryStore: Not enough space to cache rdd_92_11 in memory! (computed 44.2 MiB so far)\n"
     ]
    },
    {
     "name": "stderr",
     "output_type": "stream",
     "text": [
      "                                                                                \r"
     ]
    },
    {
     "name": "stdout",
     "output_type": "stream",
     "text": [
      "23/04/13 12:50:20 WARN MemoryStore: Not enough space to cache rdd_92_5 in memory! (computed 5.6 MiB so far)\n",
      "23/04/13 12:50:20 WARN MemoryStore: Not enough space to cache rdd_92_3 in memory! (computed 5.6 MiB so far)\n",
      "23/04/13 12:50:20 WARN MemoryStore: Not enough space to cache rdd_92_0 in memory! (computed 5.6 MiB so far)\n",
      "23/04/13 12:50:20 WARN MemoryStore: Not enough space to cache rdd_92_1 in memory! (computed 5.6 MiB so far)\n",
      "23/04/13 12:50:20 WARN MemoryStore: Not enough space to cache rdd_92_7 in memory! (computed 5.6 MiB so far)\n",
      "23/04/13 12:50:20 WARN MemoryStore: Not enough space to cache rdd_92_4 in memory! (computed 5.6 MiB so far)\n",
      "23/04/13 12:50:20 WARN MemoryStore: Not enough space to cache rdd_92_2 in memory! (computed 5.6 MiB so far)\n"
     ]
    },
    {
     "name": "stderr",
     "output_type": "stream",
     "text": [
      "[Stage 60:>                                                        (0 + 8) / 17]\r"
     ]
    },
    {
     "name": "stdout",
     "output_type": "stream",
     "text": [
      "23/04/13 12:50:21 WARN MemoryStore: Not enough space to cache rdd_92_6 in memory! (computed 44.2 MiB so far)\n",
      "23/04/13 12:50:21 WARN Executor: Issue communicating with driver in heartbeater\n",
      "org.apache.spark.SparkException: Exception thrown in awaitResult: \n",
      "\tat org.apache.spark.util.ThreadUtils$.awaitResult(ThreadUtils.scala:301)\n",
      "\tat org.apache.spark.rpc.RpcTimeout.awaitResult(RpcTimeout.scala:75)\n",
      "\tat org.apache.spark.rpc.RpcEndpointRef.askSync(RpcEndpointRef.scala:103)\n",
      "\tat org.apache.spark.rpc.RpcEndpointRef.askSync(RpcEndpointRef.scala:87)\n",
      "\tat org.apache.spark.storage.BlockManagerMaster.registerBlockManager(BlockManagerMaster.scala:80)\n",
      "\tat org.apache.spark.storage.BlockManager.reregister(BlockManager.scala:643)\n",
      "\tat org.apache.spark.executor.Executor.reportHeartBeat(Executor.scala:1057)\n",
      "\tat org.apache.spark.executor.Executor.$anonfun$heartbeater$1(Executor.scala:238)\n",
      "\tat scala.runtime.java8.JFunction0$mcV$sp.apply(JFunction0$mcV$sp.java:23)\n",
      "\tat org.apache.spark.util.Utils$.logUncaughtExceptions(Utils.scala:2066)\n",
      "\tat org.apache.spark.Heartbeater$$anon$1.run(Heartbeater.scala:46)\n",
      "\tat java.util.concurrent.Executors$RunnableAdapter.call(Executors.java:511)\n",
      "\tat java.util.concurrent.FutureTask.runAndReset(FutureTask.java:308)\n",
      "\tat java.util.concurrent.ScheduledThreadPoolExecutor$ScheduledFutureTask.access$301(ScheduledThreadPoolExecutor.java:180)\n",
      "\tat java.util.concurrent.ScheduledThreadPoolExecutor$ScheduledFutureTask.run(ScheduledThreadPoolExecutor.java:294)\n",
      "\tat java.util.concurrent.ThreadPoolExecutor.runWorker(ThreadPoolExecutor.java:1149)\n",
      "\tat java.util.concurrent.ThreadPoolExecutor$Worker.run(ThreadPoolExecutor.java:624)\n",
      "\tat java.lang.Thread.run(Thread.java:750)\n",
      "Caused by: org.apache.spark.SparkException: Exception thrown in awaitResult: \n",
      "\tat org.apache.spark.util.ThreadUtils$.awaitResult(ThreadUtils.scala:301)\n",
      "\tat org.apache.spark.rpc.RpcTimeout.awaitResult(RpcTimeout.scala:75)\n",
      "\tat org.apache.spark.rpc.RpcEnv.setupEndpointRefByURI(RpcEnv.scala:102)\n",
      "\tat org.apache.spark.rpc.RpcEnv.setupEndpointRef(RpcEnv.scala:110)\n",
      "\tat org.apache.spark.util.RpcUtils$.makeDriverRef(RpcUtils.scala:36)\n",
      "\tat org.apache.spark.storage.BlockManagerMasterEndpoint.driverEndpoint$lzycompute(BlockManagerMasterEndpoint.scala:117)\n",
      "\tat org.apache.spark.storage.BlockManagerMasterEndpoint.org$apache$spark$storage$BlockManagerMasterEndpoint$$driverEndpoint(BlockManagerMasterEndpoint.scala:116)\n",
      "\tat org.apache.spark.storage.BlockManagerMasterEndpoint.isExecutorAlive$lzycompute$1(BlockManagerMasterEndpoint.scala:593)\n",
      "\tat org.apache.spark.storage.BlockManagerMasterEndpoint.isExecutorAlive$1(BlockManagerMasterEndpoint.scala:592)\n",
      "\tat org.apache.spark.storage.BlockManagerMasterEndpoint.org$apache$spark$storage$BlockManagerMasterEndpoint$$register(BlockManagerMasterEndpoint.scala:630)\n",
      "\tat org.apache.spark.storage.BlockManagerMasterEndpoint$$anonfun$receiveAndReply$1.applyOrElse(BlockManagerMasterEndpoint.scala:123)\n",
      "\tat org.apache.spark.rpc.netty.Inbox.$anonfun$process$1(Inbox.scala:103)\n",
      "\tat org.apache.spark.rpc.netty.Inbox.safelyCall(Inbox.scala:213)\n",
      "\tat org.apache.spark.rpc.netty.Inbox.process(Inbox.scala:100)\n",
      "\tat org.apache.spark.rpc.netty.MessageLoop.org$apache$spark$rpc$netty$MessageLoop$$receiveLoop(MessageLoop.scala:75)\n",
      "\tat org.apache.spark.rpc.netty.MessageLoop$$anon$1.run(MessageLoop.scala:41)\n",
      "\tat java.util.concurrent.Executors$RunnableAdapter.call(Executors.java:511)\n",
      "\tat java.util.concurrent.FutureTask.run(FutureTask.java:266)\n",
      "\t... 3 more\n",
      "Caused by: org.apache.spark.rpc.RpcEndpointNotFoundException: Cannot find endpoint: spark://CoarseGrainedScheduler@10.0.0.167:50332\n",
      "\tat org.apache.spark.rpc.netty.NettyRpcEnv.$anonfun$asyncSetupEndpointRefByURI$1(NettyRpcEnv.scala:148)\n",
      "\tat org.apache.spark.rpc.netty.NettyRpcEnv.$anonfun$asyncSetupEndpointRefByURI$1$adapted(NettyRpcEnv.scala:144)\n",
      "\tat scala.concurrent.Future.$anonfun$flatMap$1(Future.scala:307)\n",
      "\tat scala.concurrent.impl.Promise.$anonfun$transformWith$1(Promise.scala:41)\n",
      "\tat scala.concurrent.impl.CallbackRunnable.run(Promise.scala:64)\n",
      "\tat org.apache.spark.util.ThreadUtils$$anon$1.execute(ThreadUtils.scala:99)\n",
      "\tat scala.concurrent.impl.ExecutionContextImpl$$anon$4.execute(ExecutionContextImpl.scala:138)\n",
      "\tat scala.concurrent.impl.CallbackRunnable.executeWithValue(Promise.scala:72)\n",
      "\tat scala.concurrent.impl.Promise$DefaultPromise.dispatchOrAddCallback(Promise.scala:316)\n",
      "\tat scala.concurrent.impl.Promise$DefaultPromise.onComplete(Promise.scala:307)\n",
      "\tat scala.concurrent.impl.Promise.transformWith(Promise.scala:40)\n",
      "\tat scala.concurrent.impl.Promise.transformWith$(Promise.scala:38)\n",
      "\tat scala.concurrent.impl.Promise$DefaultPromise.transformWith(Promise.scala:187)\n",
      "\tat scala.concurrent.Future.flatMap(Future.scala:306)\n",
      "\tat scala.concurrent.Future.flatMap$(Future.scala:306)\n",
      "\tat scala.concurrent.impl.Promise$DefaultPromise.flatMap(Promise.scala:187)\n",
      "\tat org.apache.spark.rpc.netty.NettyRpcEnv.asyncSetupEndpointRefByURI(NettyRpcEnv.scala:150)\n",
      "\t... 19 more\n",
      "23/04/13 12:50:21 ERROR Inbox: Ignoring error\n",
      "org.apache.spark.SparkException: Exception thrown in awaitResult: \n",
      "\tat org.apache.spark.util.ThreadUtils$.awaitResult(ThreadUtils.scala:301)\n",
      "\tat org.apache.spark.rpc.RpcTimeout.awaitResult(RpcTimeout.scala:75)\n",
      "\tat org.apache.spark.rpc.RpcEnv.setupEndpointRefByURI(RpcEnv.scala:102)\n",
      "\tat org.apache.spark.rpc.RpcEnv.setupEndpointRef(RpcEnv.scala:110)\n",
      "\tat org.apache.spark.util.RpcUtils$.makeDriverRef(RpcUtils.scala:36)\n",
      "\tat org.apache.spark.storage.BlockManagerMasterEndpoint.driverEndpoint$lzycompute(BlockManagerMasterEndpoint.scala:117)\n",
      "\tat org.apache.spark.storage.BlockManagerMasterEndpoint.org$apache$spark$storage$BlockManagerMasterEndpoint$$driverEndpoint(BlockManagerMasterEndpoint.scala:116)\n",
      "\tat org.apache.spark.storage.BlockManagerMasterEndpoint.isExecutorAlive$lzycompute$1(BlockManagerMasterEndpoint.scala:593)\n",
      "\tat org.apache.spark.storage.BlockManagerMasterEndpoint.isExecutorAlive$1(BlockManagerMasterEndpoint.scala:592)\n",
      "\tat org.apache.spark.storage.BlockManagerMasterEndpoint.org$apache$spark$storage$BlockManagerMasterEndpoint$$register(BlockManagerMasterEndpoint.scala:630)\n",
      "\tat org.apache.spark.storage.BlockManagerMasterEndpoint$$anonfun$receiveAndReply$1.applyOrElse(BlockManagerMasterEndpoint.scala:123)\n",
      "\tat org.apache.spark.rpc.netty.Inbox.$anonfun$process$1(Inbox.scala:103)\n",
      "\tat org.apache.spark.rpc.netty.Inbox.safelyCall(Inbox.scala:213)\n",
      "\tat org.apache.spark.rpc.netty.Inbox.process(Inbox.scala:100)\n",
      "\tat org.apache.spark.rpc.netty.MessageLoop.org$apache$spark$rpc$netty$MessageLoop$$receiveLoop(MessageLoop.scala:75)\n",
      "\tat org.apache.spark.rpc.netty.MessageLoop$$anon$1.run(MessageLoop.scala:41)\n",
      "\tat java.util.concurrent.Executors$RunnableAdapter.call(Executors.java:511)\n",
      "\tat java.util.concurrent.FutureTask.run(FutureTask.java:266)\n",
      "\tat java.util.concurrent.ThreadPoolExecutor.runWorker(ThreadPoolExecutor.java:1149)\n",
      "\tat java.util.concurrent.ThreadPoolExecutor$Worker.run(ThreadPoolExecutor.java:624)\n",
      "\tat java.lang.Thread.run(Thread.java:750)\n",
      "Caused by: org.apache.spark.rpc.RpcEndpointNotFoundException: Cannot find endpoint: spark://CoarseGrainedScheduler@10.0.0.167:50332\n",
      "\tat org.apache.spark.rpc.netty.NettyRpcEnv.$anonfun$asyncSetupEndpointRefByURI$1(NettyRpcEnv.scala:148)\n",
      "\tat org.apache.spark.rpc.netty.NettyRpcEnv.$anonfun$asyncSetupEndpointRefByURI$1$adapted(NettyRpcEnv.scala:144)\n",
      "\tat scala.concurrent.Future.$anonfun$flatMap$1(Future.scala:307)\n",
      "\tat scala.concurrent.impl.Promise.$anonfun$transformWith$1(Promise.scala:41)\n",
      "\tat scala.concurrent.impl.CallbackRunnable.run(Promise.scala:64)\n",
      "\tat org.apache.spark.util.ThreadUtils$$anon$1.execute(ThreadUtils.scala:99)\n",
      "\tat scala.concurrent.impl.ExecutionContextImpl$$anon$4.execute(ExecutionContextImpl.scala:138)\n",
      "\tat scala.concurrent.impl.CallbackRunnable.executeWithValue(Promise.scala:72)\n",
      "\tat scala.concurrent.impl.Promise$DefaultPromise.dispatchOrAddCallback(Promise.scala:316)\n",
      "\tat scala.concurrent.impl.Promise$DefaultPromise.onComplete(Promise.scala:307)\n",
      "\tat scala.concurrent.impl.Promise.transformWith(Promise.scala:40)\n",
      "\tat scala.concurrent.impl.Promise.transformWith$(Promise.scala:38)\n",
      "\tat scala.concurrent.impl.Promise$DefaultPromise.transformWith(Promise.scala:187)\n",
      "\tat scala.concurrent.Future.flatMap(Future.scala:306)\n",
      "\tat scala.concurrent.Future.flatMap$(Future.scala:306)\n",
      "\tat scala.concurrent.impl.Promise$DefaultPromise.flatMap(Promise.scala:187)\n",
      "\tat org.apache.spark.rpc.netty.NettyRpcEnv.asyncSetupEndpointRefByURI(NettyRpcEnv.scala:150)\n",
      "\t... 19 more\n"
     ]
    },
    {
     "name": "stderr",
     "output_type": "stream",
     "text": [
      "[Stage 60:==============================================>         (14 + 3) / 17]\r"
     ]
    },
    {
     "name": "stdout",
     "output_type": "stream",
     "text": [
      "23/04/13 12:50:21 WARN MemoryStore: Not enough space to cache rdd_92_14 in memory! (computed 13.1 MiB so far)\n",
      "23/04/13 12:50:21 WARN MemoryStore: Not enough space to cache rdd_92_15 in memory! (computed 13.1 MiB so far)\n",
      "23/04/13 12:50:22 WARN MemoryStore: Not enough space to cache rdd_92_11 in memory! (computed 44.2 MiB so far)\n"
     ]
    },
    {
     "name": "stderr",
     "output_type": "stream",
     "text": [
      "                                                                                \r"
     ]
    },
    {
     "name": "stdout",
     "output_type": "stream",
     "text": [
      "23/04/13 12:50:22 WARN MemoryStore: Not enough space to cache rdd_92_1 in memory! (computed 5.6 MiB so far)\n",
      "23/04/13 12:50:22 WARN MemoryStore: Not enough space to cache rdd_92_2 in memory! (computed 5.6 MiB so far)\n",
      "23/04/13 12:50:22 WARN MemoryStore: Not enough space to cache rdd_92_3 in memory! (computed 5.6 MiB so far)\n",
      "23/04/13 12:50:22 WARN MemoryStore: Not enough space to cache rdd_92_7 in memory! (computed 5.6 MiB so far)\n",
      "23/04/13 12:50:22 WARN MemoryStore: Not enough space to cache rdd_92_5 in memory! (computed 5.6 MiB so far)\n",
      "23/04/13 12:50:22 WARN MemoryStore: Not enough space to cache rdd_92_0 in memory! (computed 5.6 MiB so far)\n",
      "23/04/13 12:50:22 WARN MemoryStore: Not enough space to cache rdd_92_6 in memory! (computed 19.6 MiB so far)\n"
     ]
    },
    {
     "name": "stderr",
     "output_type": "stream",
     "text": [
      "[Stage 62:>                                                        (0 + 8) / 17]\r"
     ]
    },
    {
     "name": "stdout",
     "output_type": "stream",
     "text": [
      "23/04/13 12:50:23 WARN MemoryStore: Not enough space to cache rdd_92_4 in memory! (computed 44.2 MiB so far)\n"
     ]
    },
    {
     "name": "stderr",
     "output_type": "stream",
     "text": [
      "[Stage 62:==============================================>         (14 + 3) / 17]\r"
     ]
    },
    {
     "name": "stdout",
     "output_type": "stream",
     "text": [
      "23/04/13 12:50:23 WARN MemoryStore: Not enough space to cache rdd_92_15 in memory! (computed 13.1 MiB so far)\n",
      "23/04/13 12:50:23 WARN MemoryStore: Not enough space to cache rdd_92_11 in memory! (computed 19.6 MiB so far)\n",
      "23/04/13 12:50:23 WARN MemoryStore: Not enough space to cache rdd_92_14 in memory! (computed 44.2 MiB so far)\n"
     ]
    },
    {
     "name": "stderr",
     "output_type": "stream",
     "text": [
      "                                                                                \r"
     ]
    },
    {
     "name": "stdout",
     "output_type": "stream",
     "text": [
      "23/04/13 12:50:24 WARN MemoryStore: Not enough space to cache rdd_92_5 in memory! (computed 5.6 MiB so far)\n",
      "23/04/13 12:50:24 WARN MemoryStore: Not enough space to cache rdd_92_2 in memory! (computed 3.7 MiB so far)\n",
      "23/04/13 12:50:24 WARN MemoryStore: Not enough space to cache rdd_92_6 in memory! (computed 3.7 MiB so far)\n",
      "23/04/13 12:50:24 WARN MemoryStore: Not enough space to cache rdd_92_0 in memory! (computed 5.6 MiB so far)\n",
      "23/04/13 12:50:24 WARN MemoryStore: Not enough space to cache rdd_92_7 in memory! (computed 5.6 MiB so far)\n",
      "23/04/13 12:50:24 WARN MemoryStore: Not enough space to cache rdd_92_3 in memory! (computed 13.1 MiB so far)\n",
      "23/04/13 12:50:24 WARN MemoryStore: Not enough space to cache rdd_92_1 in memory! (computed 13.1 MiB so far)\n"
     ]
    },
    {
     "name": "stderr",
     "output_type": "stream",
     "text": [
      "[Stage 64:>                                                        (0 + 8) / 17]\r"
     ]
    },
    {
     "name": "stdout",
     "output_type": "stream",
     "text": [
      "23/04/13 12:50:24 WARN MemoryStore: Not enough space to cache rdd_92_4 in memory! (computed 44.2 MiB so far)\n"
     ]
    },
    {
     "name": "stderr",
     "output_type": "stream",
     "text": [
      "[Stage 64:==========================>                              (8 + 8) / 17]\r"
     ]
    },
    {
     "name": "stdout",
     "output_type": "stream",
     "text": [
      "23/04/13 12:50:25 WARN MemoryStore: Not enough space to cache rdd_92_11 in memory! (computed 13.1 MiB so far)\n",
      "23/04/13 12:50:25 WARN MemoryStore: Not enough space to cache rdd_92_15 in memory! (computed 13.1 MiB so far)\n"
     ]
    },
    {
     "name": "stderr",
     "output_type": "stream",
     "text": [
      "[Stage 64:==============================================>         (14 + 3) / 17]\r"
     ]
    },
    {
     "name": "stdout",
     "output_type": "stream",
     "text": [
      "23/04/13 12:50:25 WARN MemoryStore: Not enough space to cache rdd_92_14 in memory! (computed 44.2 MiB so far)\n"
     ]
    },
    {
     "name": "stderr",
     "output_type": "stream",
     "text": [
      "                                                                                \r"
     ]
    },
    {
     "name": "stdout",
     "output_type": "stream",
     "text": [
      "23/04/13 12:50:25 WARN MemoryStore: Not enough space to cache rdd_92_4 in memory! (computed 3.7 MiB so far)\n",
      "23/04/13 12:50:25 WARN MemoryStore: Not enough space to cache rdd_92_0 in memory! (computed 5.6 MiB so far)\n",
      "23/04/13 12:50:25 WARN MemoryStore: Not enough space to cache rdd_92_5 in memory! (computed 3.7 MiB so far)\n",
      "23/04/13 12:50:25 WARN MemoryStore: Not enough space to cache rdd_92_7 in memory! (computed 5.6 MiB so far)\n",
      "23/04/13 12:50:25 WARN MemoryStore: Not enough space to cache rdd_92_1 in memory! (computed 5.6 MiB so far)\n",
      "23/04/13 12:50:25 WARN MemoryStore: Not enough space to cache rdd_92_2 in memory! (computed 13.1 MiB so far)\n",
      "23/04/13 12:50:25 WARN MemoryStore: Not enough space to cache rdd_92_6 in memory! (computed 13.1 MiB so far)\n"
     ]
    },
    {
     "name": "stderr",
     "output_type": "stream",
     "text": [
      "[Stage 66:>                                                        (0 + 8) / 17]\r"
     ]
    },
    {
     "name": "stdout",
     "output_type": "stream",
     "text": [
      "23/04/13 12:50:26 WARN MemoryStore: Not enough space to cache rdd_92_3 in memory! (computed 44.2 MiB so far)\n"
     ]
    },
    {
     "name": "stderr",
     "output_type": "stream",
     "text": [
      "[Stage 66:==============================================>         (14 + 3) / 17]\r"
     ]
    },
    {
     "name": "stdout",
     "output_type": "stream",
     "text": [
      "23/04/13 12:50:26 WARN MemoryStore: Not enough space to cache rdd_92_14 in memory! (computed 13.1 MiB so far)\n",
      "23/04/13 12:50:26 WARN MemoryStore: Not enough space to cache rdd_92_15 in memory! (computed 13.1 MiB so far)\n",
      "23/04/13 12:50:26 WARN MemoryStore: Not enough space to cache rdd_92_11 in memory! (computed 44.2 MiB so far)\n"
     ]
    },
    {
     "name": "stderr",
     "output_type": "stream",
     "text": [
      "                                                                                \r"
     ]
    },
    {
     "name": "stdout",
     "output_type": "stream",
     "text": [
      "23/04/13 12:50:27 WARN MemoryStore: Not enough space to cache rdd_92_1 in memory! (computed 5.6 MiB so far)\n",
      "23/04/13 12:50:27 WARN MemoryStore: Not enough space to cache rdd_92_2 in memory! (computed 5.6 MiB so far)\n",
      "23/04/13 12:50:27 WARN MemoryStore: Not enough space to cache rdd_92_6 in memory! (computed 5.6 MiB so far)\n",
      "23/04/13 12:50:27 WARN MemoryStore: Not enough space to cache rdd_92_4 in memory! (computed 5.6 MiB so far)\n",
      "23/04/13 12:50:27 WARN MemoryStore: Not enough space to cache rdd_92_5 in memory! (computed 5.6 MiB so far)\n",
      "23/04/13 12:50:27 WARN MemoryStore: Not enough space to cache rdd_92_7 in memory! (computed 5.6 MiB so far)\n",
      "23/04/13 12:50:27 WARN MemoryStore: Not enough space to cache rdd_92_3 in memory! (computed 5.6 MiB so far)\n"
     ]
    },
    {
     "name": "stderr",
     "output_type": "stream",
     "text": [
      "[Stage 68:>                                                        (0 + 8) / 17]\r"
     ]
    },
    {
     "name": "stdout",
     "output_type": "stream",
     "text": [
      "23/04/13 12:50:27 WARN MemoryStore: Not enough space to cache rdd_92_0 in memory! (computed 44.2 MiB so far)\n"
     ]
    },
    {
     "name": "stderr",
     "output_type": "stream",
     "text": [
      "[Stage 68:==============================================>         (14 + 3) / 17]\r"
     ]
    },
    {
     "name": "stdout",
     "output_type": "stream",
     "text": [
      "23/04/13 12:50:28 WARN MemoryStore: Not enough space to cache rdd_92_14 in memory! (computed 13.1 MiB so far)\n",
      "23/04/13 12:50:28 WARN MemoryStore: Not enough space to cache rdd_92_11 in memory! (computed 19.6 MiB so far)\n",
      "23/04/13 12:50:28 WARN MemoryStore: Not enough space to cache rdd_92_15 in memory! (computed 44.2 MiB so far)\n"
     ]
    },
    {
     "name": "stderr",
     "output_type": "stream",
     "text": [
      "                                                                                \r"
     ]
    },
    {
     "name": "stdout",
     "output_type": "stream",
     "text": [
      "23/04/13 12:50:29 WARN MemoryStore: Not enough space to cache rdd_92_3 in memory! (computed 5.6 MiB so far)\n",
      "23/04/13 12:50:29 WARN MemoryStore: Not enough space to cache rdd_92_0 in memory! (computed 5.6 MiB so far)\n",
      "23/04/13 12:50:29 WARN MemoryStore: Not enough space to cache rdd_92_1 in memory! (computed 5.6 MiB so far)\n",
      "23/04/13 12:50:29 WARN MemoryStore: Not enough space to cache rdd_92_5 in memory! (computed 5.6 MiB so far)\n",
      "23/04/13 12:50:29 WARN MemoryStore: Not enough space to cache rdd_92_6 in memory! (computed 5.6 MiB so far)\n",
      "23/04/13 12:50:29 WARN MemoryStore: Not enough space to cache rdd_92_7 in memory! (computed 5.6 MiB so far)\n",
      "23/04/13 12:50:29 WARN MemoryStore: Not enough space to cache rdd_92_2 in memory! (computed 5.6 MiB so far)\n",
      "23/04/13 12:50:29 WARN MemoryStore: Not enough space to cache rdd_92_4 in memory! (computed 5.6 MiB so far)\n"
     ]
    },
    {
     "name": "stderr",
     "output_type": "stream",
     "text": [
      "[Stage 70:==============================================>         (14 + 3) / 17]\r"
     ]
    },
    {
     "name": "stdout",
     "output_type": "stream",
     "text": [
      "23/04/13 12:50:30 WARN MemoryStore: Not enough space to cache rdd_92_14 in memory! (computed 13.1 MiB so far)\n",
      "23/04/13 12:50:30 WARN MemoryStore: Not enough space to cache rdd_92_15 in memory! (computed 13.1 MiB so far)\n",
      "23/04/13 12:50:31 WARN MemoryStore: Not enough space to cache rdd_92_11 in memory! (computed 44.2 MiB so far)\n",
      "23/04/13 12:50:31 ERROR Inbox: Ignoring error\n",
      "org.apache.spark.SparkException: Exception thrown in awaitResult: \n",
      "\tat org.apache.spark.util.ThreadUtils$.awaitResult(ThreadUtils.scala:301)\n",
      "\tat org.apache.spark.rpc.RpcTimeout.awaitResult(RpcTimeout.scala:75)\n",
      "\tat org.apache.spark.rpc.RpcEnv.setupEndpointRefByURI(RpcEnv.scala:102)\n",
      "\tat org.apache.spark.rpc.RpcEnv.setupEndpointRef(RpcEnv.scala:110)\n",
      "\tat org.apache.spark.util.RpcUtils$.makeDriverRef(RpcUtils.scala:36)\n",
      "\tat org.apache.spark.storage.BlockManagerMasterEndpoint.driverEndpoint$lzycompute(BlockManagerMasterEndpoint.scala:117)\n",
      "\tat org.apache.spark.storage.BlockManagerMasterEndpoint.org$apache$spark$storage$BlockManagerMasterEndpoint$$driverEndpoint(BlockManagerMasterEndpoint.scala:116)\n",
      "\tat org.apache.spark.storage.BlockManagerMasterEndpoint.isExecutorAlive$lzycompute$1(BlockManagerMasterEndpoint.scala:593)\n",
      "\tat org.apache.spark.storage.BlockManagerMasterEndpoint.isExecutorAlive$1(BlockManagerMasterEndpoint.scala:592)\n",
      "\tat org.apache.spark.storage.BlockManagerMasterEndpoint.org$apache$spark$storage$BlockManagerMasterEndpoint$$register(BlockManagerMasterEndpoint.scala:630)\n",
      "\tat org.apache.spark.storage.BlockManagerMasterEndpoint$$anonfun$receiveAndReply$1.applyOrElse(BlockManagerMasterEndpoint.scala:123)\n",
      "\tat org.apache.spark.rpc.netty.Inbox.$anonfun$process$1(Inbox.scala:103)\n",
      "\tat org.apache.spark.rpc.netty.Inbox.safelyCall(Inbox.scala:213)\n",
      "\tat org.apache.spark.rpc.netty.Inbox.process(Inbox.scala:100)\n",
      "\tat org.apache.spark.rpc.netty.MessageLoop.org$apache$spark$rpc$netty$MessageLoop$$receiveLoop(MessageLoop.scala:75)\n",
      "\tat org.apache.spark.rpc.netty.MessageLoop$$anon$1.run(MessageLoop.scala:41)\n",
      "\tat java.util.concurrent.Executors$RunnableAdapter.call(Executors.java:511)\n",
      "\tat java.util.concurrent.FutureTask.run(FutureTask.java:266)\n",
      "\tat java.util.concurrent.ThreadPoolExecutor.runWorker(ThreadPoolExecutor.java:1149)\n",
      "\tat java.util.concurrent.ThreadPoolExecutor$Worker.run(ThreadPoolExecutor.java:624)\n",
      "\tat java.lang.Thread.run(Thread.java:750)\n",
      "Caused by: org.apache.spark.rpc.RpcEndpointNotFoundException: Cannot find endpoint: spark://CoarseGrainedScheduler@10.0.0.167:50332\n",
      "\tat org.apache.spark.rpc.netty.NettyRpcEnv.$anonfun$asyncSetupEndpointRefByURI$1(NettyRpcEnv.scala:148)\n",
      "\tat org.apache.spark.rpc.netty.NettyRpcEnv.$anonfun$asyncSetupEndpointRefByURI$1$adapted(NettyRpcEnv.scala:144)\n",
      "\tat scala.concurrent.Future.$anonfun$flatMap$1(Future.scala:307)\n",
      "\tat scala.concurrent.impl.Promise.$anonfun$transformWith$1(Promise.scala:41)\n",
      "\tat scala.concurrent.impl.CallbackRunnable.run(Promise.scala:64)\n",
      "\tat org.apache.spark.util.ThreadUtils$$anon$1.execute(ThreadUtils.scala:99)\n",
      "\tat scala.concurrent.impl.ExecutionContextImpl$$anon$4.execute(ExecutionContextImpl.scala:138)\n",
      "\tat scala.concurrent.impl.CallbackRunnable.executeWithValue(Promise.scala:72)\n",
      "\tat scala.concurrent.impl.Promise$DefaultPromise.$anonfun$tryComplete$1(Promise.scala:288)\n",
      "\tat scala.concurrent.impl.Promise$DefaultPromise.$anonfun$tryComplete$1$adapted(Promise.scala:288)\n",
      "\tat scala.concurrent.impl.Promise$DefaultPromise.tryComplete(Promise.scala:288)\n",
      "\tat scala.concurrent.Promise.complete(Promise.scala:53)\n",
      "\tat scala.concurrent.Promise.complete$(Promise.scala:52)\n",
      "\tat scala.concurrent.impl.Promise$DefaultPromise.complete(Promise.scala:187)\n",
      "\tat scala.concurrent.impl.Promise.$anonfun$transform$1(Promise.scala:33)\n",
      "\tat scala.concurrent.impl.CallbackRunnable.run(Promise.scala:64)\n",
      "\tat org.apache.spark.util.ThreadUtils$$anon$1.execute(ThreadUtils.scala:99)\n",
      "\tat scala.concurrent.impl.ExecutionContextImpl$$anon$4.execute(ExecutionContextImpl.scala:138)\n",
      "\tat scala.concurrent.impl.CallbackRunnable.executeWithValue(Promise.scala:72)\n",
      "\tat scala.concurrent.impl.Promise$DefaultPromise.$anonfun$tryComplete$1(Promise.scala:288)\n",
      "\tat scala.concurrent.impl.Promise$DefaultPromise.$anonfun$tryComplete$1$adapted(Promise.scala:288)\n",
      "\tat scala.concurrent.impl.Promise$DefaultPromise.tryComplete(Promise.scala:288)\n",
      "\tat scala.concurrent.Promise.complete(Promise.scala:53)\n",
      "\tat scala.concurrent.Promise.complete$(Promise.scala:52)\n",
      "\tat scala.concurrent.impl.Promise$DefaultPromise.complete(Promise.scala:187)\n",
      "\tat scala.concurrent.impl.Promise.$anonfun$transform$1(Promise.scala:33)\n",
      "\tat scala.concurrent.impl.CallbackRunnable.run(Promise.scala:64)\n",
      "\tat scala.concurrent.BatchingExecutor$Batch.processBatch$1(BatchingExecutor.scala:67)\n",
      "\tat scala.concurrent.BatchingExecutor$Batch.$anonfun$run$1(BatchingExecutor.scala:82)\n",
      "\tat scala.runtime.java8.JFunction0$mcV$sp.apply(JFunction0$mcV$sp.java:23)\n",
      "\tat scala.concurrent.BlockContext$.withBlockContext(BlockContext.scala:85)\n",
      "\tat scala.concurrent.BatchingExecutor$Batch.run(BatchingExecutor.scala:59)\n",
      "\tat scala.concurrent.Future$InternalCallbackExecutor$.unbatchedExecute(Future.scala:875)\n",
      "\tat scala.concurrent.BatchingExecutor.execute(BatchingExecutor.scala:110)\n",
      "\tat scala.concurrent.BatchingExecutor.execute$(BatchingExecutor.scala:107)\n",
      "\tat scala.concurrent.Future$InternalCallbackExecutor$.execute(Future.scala:873)\n",
      "\tat scala.concurrent.impl.CallbackRunnable.executeWithValue(Promise.scala:72)\n",
      "\tat scala.concurrent.impl.Promise$DefaultPromise.$anonfun$tryComplete$1(Promise.scala:288)\n",
      "\tat scala.concurrent.impl.Promise$DefaultPromise.$anonfun$tryComplete$1$adapted(Promise.scala:288)\n",
      "\tat scala.concurrent.impl.Promise$DefaultPromise.tryComplete(Promise.scala:288)\n",
      "\tat scala.concurrent.Promise.trySuccess(Promise.scala:94)\n",
      "\tat scala.concurrent.Promise.trySuccess$(Promise.scala:94)\n",
      "\tat scala.concurrent.impl.Promise$DefaultPromise.trySuccess(Promise.scala:187)\n",
      "\tat org.apache.spark.rpc.netty.NettyRpcEnv.onSuccess$1(NettyRpcEnv.scala:225)\n",
      "\tat org.apache.spark.rpc.netty.NettyRpcEnv.$anonfun$askAbortable$5(NettyRpcEnv.scala:239)\n",
      "\tat org.apache.spark.rpc.netty.NettyRpcEnv.$anonfun$askAbortable$5$adapted(NettyRpcEnv.scala:238)\n",
      "\tat scala.concurrent.impl.CallbackRunnable.run(Promise.scala:64)\n",
      "\tat org.apache.spark.util.ThreadUtils$$anon$1.execute(ThreadUtils.scala:99)\n",
      "\tat scala.concurrent.impl.ExecutionContextImpl$$anon$4.execute(ExecutionContextImpl.scala:138)\n",
      "\tat scala.concurrent.impl.CallbackRunnable.executeWithValue(Promise.scala:72)\n",
      "\tat scala.concurrent.impl.Promise$DefaultPromise.$anonfun$tryComplete$1(Promise.scala:288)\n",
      "\tat scala.concurrent.impl.Promise$DefaultPromise.$anonfun$tryComplete$1$adapted(Promise.scala:288)\n",
      "\tat scala.concurrent.impl.Promise$DefaultPromise.tryComplete(Promise.scala:288)\n",
      "\tat scala.concurrent.Promise.complete(Promise.scala:53)\n",
      "\tat scala.concurrent.Promise.complete$(Promise.scala:52)\n",
      "\tat scala.concurrent.impl.Promise$DefaultPromise.complete(Promise.scala:187)\n",
      "\tat scala.concurrent.Promise.success(Promise.scala:86)\n",
      "\tat scala.concurrent.Promise.success$(Promise.scala:86)\n",
      "\tat scala.concurrent.impl.Promise$DefaultPromise.success(Promise.scala:187)\n",
      "\tat org.apache.spark.rpc.netty.LocalNettyRpcCallContext.send(NettyRpcCallContext.scala:50)\n",
      "\tat org.apache.spark.rpc.netty.NettyRpcCallContext.reply(NettyRpcCallContext.scala:32)\n",
      "\tat org.apache.spark.rpc.netty.RpcEndpointVerifier$$anonfun$receiveAndReply$1.applyOrElse(RpcEndpointVerifier.scala:31)\n",
      "\tat org.apache.spark.rpc.netty.Inbox.$anonfun$process$1(Inbox.scala:103)\n",
      "\tat org.apache.spark.rpc.netty.Inbox.safelyCall(Inbox.scala:213)\n",
      "\tat org.apache.spark.rpc.netty.Inbox.process(Inbox.scala:100)\n",
      "\tat org.apache.spark.rpc.netty.MessageLoop.org$apache$spark$rpc$netty$MessageLoop$$receiveLoop(MessageLoop.scala:75)\n",
      "\tat org.apache.spark.rpc.netty.MessageLoop$$anon$1.run(MessageLoop.scala:41)\n",
      "\t... 3 more\n",
      "23/04/13 12:50:31 WARN Executor: Issue communicating with driver in heartbeater\n",
      "org.apache.spark.SparkException: Exception thrown in awaitResult: \n",
      "\tat org.apache.spark.util.ThreadUtils$.awaitResult(ThreadUtils.scala:301)\n",
      "\tat org.apache.spark.rpc.RpcTimeout.awaitResult(RpcTimeout.scala:75)\n",
      "\tat org.apache.spark.rpc.RpcEndpointRef.askSync(RpcEndpointRef.scala:103)\n",
      "\tat org.apache.spark.rpc.RpcEndpointRef.askSync(RpcEndpointRef.scala:87)\n",
      "\tat org.apache.spark.storage.BlockManagerMaster.registerBlockManager(BlockManagerMaster.scala:80)\n",
      "\tat org.apache.spark.storage.BlockManager.reregister(BlockManager.scala:643)\n",
      "\tat org.apache.spark.executor.Executor.reportHeartBeat(Executor.scala:1057)\n",
      "\tat org.apache.spark.executor.Executor.$anonfun$heartbeater$1(Executor.scala:238)\n",
      "\tat scala.runtime.java8.JFunction0$mcV$sp.apply(JFunction0$mcV$sp.java:23)\n",
      "\tat org.apache.spark.util.Utils$.logUncaughtExceptions(Utils.scala:2066)\n",
      "\tat org.apache.spark.Heartbeater$$anon$1.run(Heartbeater.scala:46)\n",
      "\tat java.util.concurrent.Executors$RunnableAdapter.call(Executors.java:511)\n",
      "\tat java.util.concurrent.FutureTask.runAndReset(FutureTask.java:308)\n",
      "\tat java.util.concurrent.ScheduledThreadPoolExecutor$ScheduledFutureTask.access$301(ScheduledThreadPoolExecutor.java:180)\n",
      "\tat java.util.concurrent.ScheduledThreadPoolExecutor$ScheduledFutureTask.run(ScheduledThreadPoolExecutor.java:294)\n",
      "\tat java.util.concurrent.ThreadPoolExecutor.runWorker(ThreadPoolExecutor.java:1149)\n",
      "\tat java.util.concurrent.ThreadPoolExecutor$Worker.run(ThreadPoolExecutor.java:624)\n",
      "\tat java.lang.Thread.run(Thread.java:750)\n",
      "Caused by: org.apache.spark.SparkException: Exception thrown in awaitResult: \n",
      "\tat org.apache.spark.util.ThreadUtils$.awaitResult(ThreadUtils.scala:301)\n",
      "\tat org.apache.spark.rpc.RpcTimeout.awaitResult(RpcTimeout.scala:75)\n",
      "\tat org.apache.spark.rpc.RpcEnv.setupEndpointRefByURI(RpcEnv.scala:102)\n",
      "\tat org.apache.spark.rpc.RpcEnv.setupEndpointRef(RpcEnv.scala:110)\n",
      "\tat org.apache.spark.util.RpcUtils$.makeDriverRef(RpcUtils.scala:36)\n",
      "\tat org.apache.spark.storage.BlockManagerMasterEndpoint.driverEndpoint$lzycompute(BlockManagerMasterEndpoint.scala:117)\n",
      "\tat org.apache.spark.storage.BlockManagerMasterEndpoint.org$apache$spark$storage$BlockManagerMasterEndpoint$$driverEndpoint(BlockManagerMasterEndpoint.scala:116)\n",
      "\tat org.apache.spark.storage.BlockManagerMasterEndpoint.isExecutorAlive$lzycompute$1(BlockManagerMasterEndpoint.scala:593)\n",
      "\tat org.apache.spark.storage.BlockManagerMasterEndpoint.isExecutorAlive$1(BlockManagerMasterEndpoint.scala:592)\n",
      "\tat org.apache.spark.storage.BlockManagerMasterEndpoint.org$apache$spark$storage$BlockManagerMasterEndpoint$$register(BlockManagerMasterEndpoint.scala:630)\n",
      "\tat org.apache.spark.storage.BlockManagerMasterEndpoint$$anonfun$receiveAndReply$1.applyOrElse(BlockManagerMasterEndpoint.scala:123)\n",
      "\tat org.apache.spark.rpc.netty.Inbox.$anonfun$process$1(Inbox.scala:103)\n",
      "\tat org.apache.spark.rpc.netty.Inbox.safelyCall(Inbox.scala:213)\n",
      "\tat org.apache.spark.rpc.netty.Inbox.process(Inbox.scala:100)\n",
      "\tat org.apache.spark.rpc.netty.MessageLoop.org$apache$spark$rpc$netty$MessageLoop$$receiveLoop(MessageLoop.scala:75)\n",
      "\tat org.apache.spark.rpc.netty.MessageLoop$$anon$1.run(MessageLoop.scala:41)\n",
      "\tat java.util.concurrent.Executors$RunnableAdapter.call(Executors.java:511)\n",
      "\tat java.util.concurrent.FutureTask.run(FutureTask.java:266)\n",
      "\t... 3 more\n",
      "Caused by: org.apache.spark.rpc.RpcEndpointNotFoundException: Cannot find endpoint: spark://CoarseGrainedScheduler@10.0.0.167:50332\n",
      "\tat org.apache.spark.rpc.netty.NettyRpcEnv.$anonfun$asyncSetupEndpointRefByURI$1(NettyRpcEnv.scala:148)\n",
      "\tat org.apache.spark.rpc.netty.NettyRpcEnv.$anonfun$asyncSetupEndpointRefByURI$1$adapted(NettyRpcEnv.scala:144)\n",
      "\tat scala.concurrent.Future.$anonfun$flatMap$1(Future.scala:307)\n",
      "\tat scala.concurrent.impl.Promise.$anonfun$transformWith$1(Promise.scala:41)\n",
      "\tat scala.concurrent.impl.CallbackRunnable.run(Promise.scala:64)\n",
      "\tat org.apache.spark.util.ThreadUtils$$anon$1.execute(ThreadUtils.scala:99)\n",
      "\tat scala.concurrent.impl.ExecutionContextImpl$$anon$4.execute(ExecutionContextImpl.scala:138)\n",
      "\tat scala.concurrent.impl.CallbackRunnable.executeWithValue(Promise.scala:72)\n",
      "\tat scala.concurrent.impl.Promise$DefaultPromise.$anonfun$tryComplete$1(Promise.scala:288)\n",
      "\tat scala.concurrent.impl.Promise$DefaultPromise.$anonfun$tryComplete$1$adapted(Promise.scala:288)\n",
      "\tat scala.concurrent.impl.Promise$DefaultPromise.tryComplete(Promise.scala:288)\n",
      "\tat scala.concurrent.Promise.complete(Promise.scala:53)\n",
      "\tat scala.concurrent.Promise.complete$(Promise.scala:52)\n",
      "\tat scala.concurrent.impl.Promise$DefaultPromise.complete(Promise.scala:187)\n",
      "\tat scala.concurrent.impl.Promise.$anonfun$transform$1(Promise.scala:33)\n",
      "\tat scala.concurrent.impl.CallbackRunnable.run(Promise.scala:64)\n",
      "\tat org.apache.spark.util.ThreadUtils$$anon$1.execute(ThreadUtils.scala:99)\n",
      "\tat scala.concurrent.impl.ExecutionContextImpl$$anon$4.execute(ExecutionContextImpl.scala:138)\n",
      "\tat scala.concurrent.impl.CallbackRunnable.executeWithValue(Promise.scala:72)\n",
      "\tat scala.concurrent.impl.Promise$DefaultPromise.$anonfun$tryComplete$1(Promise.scala:288)\n",
      "\tat scala.concurrent.impl.Promise$DefaultPromise.$anonfun$tryComplete$1$adapted(Promise.scala:288)\n",
      "\tat scala.concurrent.impl.Promise$DefaultPromise.tryComplete(Promise.scala:288)\n",
      "\tat scala.concurrent.Promise.complete(Promise.scala:53)\n",
      "\tat scala.concurrent.Promise.complete$(Promise.scala:52)\n",
      "\tat scala.concurrent.impl.Promise$DefaultPromise.complete(Promise.scala:187)\n",
      "\tat scala.concurrent.impl.Promise.$anonfun$transform$1(Promise.scala:33)\n",
      "\tat scala.concurrent.impl.CallbackRunnable.run(Promise.scala:64)\n",
      "\tat scala.concurrent.BatchingExecutor$Batch.processBatch$1(BatchingExecutor.scala:67)\n",
      "\tat scala.concurrent.BatchingExecutor$Batch.$anonfun$run$1(BatchingExecutor.scala:82)\n",
      "\tat scala.runtime.java8.JFunction0$mcV$sp.apply(JFunction0$mcV$sp.java:23)\n",
      "\tat scala.concurrent.BlockContext$.withBlockContext(BlockContext.scala:85)\n",
      "\tat scala.concurrent.BatchingExecutor$Batch.run(BatchingExecutor.scala:59)\n",
      "\tat scala.concurrent.Future$InternalCallbackExecutor$.unbatchedExecute(Future.scala:875)\n",
      "\tat scala.concurrent.BatchingExecutor.execute(BatchingExecutor.scala:110)\n",
      "\tat scala.concurrent.BatchingExecutor.execute$(BatchingExecutor.scala:107)\n",
      "\tat scala.concurrent.Future$InternalCallbackExecutor$.execute(Future.scala:873)\n",
      "\tat scala.concurrent.impl.CallbackRunnable.executeWithValue(Promise.scala:72)\n",
      "\tat scala.concurrent.impl.Promise$DefaultPromise.$anonfun$tryComplete$1(Promise.scala:288)\n",
      "\tat scala.concurrent.impl.Promise$DefaultPromise.$anonfun$tryComplete$1$adapted(Promise.scala:288)\n",
      "\tat scala.concurrent.impl.Promise$DefaultPromise.tryComplete(Promise.scala:288)\n",
      "\tat scala.concurrent.Promise.trySuccess(Promise.scala:94)\n",
      "\tat scala.concurrent.Promise.trySuccess$(Promise.scala:94)\n",
      "\tat scala.concurrent.impl.Promise$DefaultPromise.trySuccess(Promise.scala:187)\n",
      "\tat org.apache.spark.rpc.netty.NettyRpcEnv.onSuccess$1(NettyRpcEnv.scala:225)\n",
      "\tat org.apache.spark.rpc.netty.NettyRpcEnv.$anonfun$askAbortable$5(NettyRpcEnv.scala:239)\n",
      "\tat org.apache.spark.rpc.netty.NettyRpcEnv.$anonfun$askAbortable$5$adapted(NettyRpcEnv.scala:238)\n",
      "\tat scala.concurrent.impl.CallbackRunnable.run(Promise.scala:64)\n",
      "\tat org.apache.spark.util.ThreadUtils$$anon$1.execute(ThreadUtils.scala:99)\n",
      "\tat scala.concurrent.impl.ExecutionContextImpl$$anon$4.execute(ExecutionContextImpl.scala:138)\n",
      "\tat scala.concurrent.impl.CallbackRunnable.executeWithValue(Promise.scala:72)\n",
      "\tat scala.concurrent.impl.Promise$DefaultPromise.$anonfun$tryComplete$1(Promise.scala:288)\n",
      "\tat scala.concurrent.impl.Promise$DefaultPromise.$anonfun$tryComplete$1$adapted(Promise.scala:288)\n",
      "\tat scala.concurrent.impl.Promise$DefaultPromise.tryComplete(Promise.scala:288)\n",
      "\tat scala.concurrent.Promise.complete(Promise.scala:53)\n",
      "\tat scala.concurrent.Promise.complete$(Promise.scala:52)\n",
      "\tat scala.concurrent.impl.Promise$DefaultPromise.complete(Promise.scala:187)\n",
      "\tat scala.concurrent.Promise.success(Promise.scala:86)\n",
      "\tat scala.concurrent.Promise.success$(Promise.scala:86)\n",
      "\tat scala.concurrent.impl.Promise$DefaultPromise.success(Promise.scala:187)\n",
      "\tat org.apache.spark.rpc.netty.LocalNettyRpcCallContext.send(NettyRpcCallContext.scala:50)\n",
      "\tat org.apache.spark.rpc.netty.NettyRpcCallContext.reply(NettyRpcCallContext.scala:32)\n",
      "\tat org.apache.spark.rpc.netty.RpcEndpointVerifier$$anonfun$receiveAndReply$1.applyOrElse(RpcEndpointVerifier.scala:31)\n",
      "\tat org.apache.spark.rpc.netty.Inbox.$anonfun$process$1(Inbox.scala:103)\n",
      "\tat org.apache.spark.rpc.netty.Inbox.safelyCall(Inbox.scala:213)\n",
      "\tat org.apache.spark.rpc.netty.Inbox.process(Inbox.scala:100)\n",
      "\tat org.apache.spark.rpc.netty.MessageLoop.org$apache$spark$rpc$netty$MessageLoop$$receiveLoop(MessageLoop.scala:75)\n",
      "\tat org.apache.spark.rpc.netty.MessageLoop$$anon$1.run(MessageLoop.scala:41)\n",
      "\t... 3 more\n"
     ]
    },
    {
     "name": "stderr",
     "output_type": "stream",
     "text": [
      "                                                                                \r"
     ]
    },
    {
     "name": "stdout",
     "output_type": "stream",
     "text": [
      "23/04/13 12:50:31 WARN MemoryStore: Not enough space to cache rdd_92_3 in memory! (computed 5.6 MiB so far)\n",
      "23/04/13 12:50:31 WARN MemoryStore: Not enough space to cache rdd_92_0 in memory! (computed 5.6 MiB so far)\n",
      "23/04/13 12:50:31 WARN MemoryStore: Not enough space to cache rdd_92_7 in memory! (computed 5.6 MiB so far)\n",
      "23/04/13 12:50:31 WARN MemoryStore: Not enough space to cache rdd_92_4 in memory! (computed 8.4 MiB so far)\n",
      "23/04/13 12:50:31 WARN MemoryStore: Not enough space to cache rdd_92_6 in memory! (computed 8.4 MiB so far)\n",
      "23/04/13 12:50:31 WARN MemoryStore: Not enough space to cache rdd_92_1 in memory! (computed 13.1 MiB so far)\n",
      "23/04/13 12:50:31 WARN MemoryStore: Not enough space to cache rdd_92_5 in memory! (computed 13.1 MiB so far)\n"
     ]
    },
    {
     "name": "stderr",
     "output_type": "stream",
     "text": [
      "[Stage 72:>                                                        (0 + 8) / 17]\r"
     ]
    },
    {
     "name": "stdout",
     "output_type": "stream",
     "text": [
      "23/04/13 12:50:32 WARN MemoryStore: Not enough space to cache rdd_92_2 in memory! (computed 44.2 MiB so far)\n",
      "23/04/13 12:50:32 WARN MemoryStore: Not enough space to cache rdd_92_14 in memory! (computed 13.1 MiB so far)\n",
      "23/04/13 12:50:32 WARN MemoryStore: Not enough space to cache rdd_92_11 in memory! (computed 19.6 MiB so far)\n"
     ]
    },
    {
     "name": "stderr",
     "output_type": "stream",
     "text": [
      "[Stage 72:==============================================>         (14 + 3) / 17]\r"
     ]
    },
    {
     "name": "stdout",
     "output_type": "stream",
     "text": [
      "23/04/13 12:50:32 WARN MemoryStore: Not enough space to cache rdd_92_15 in memory! (computed 44.2 MiB so far)\n"
     ]
    },
    {
     "name": "stderr",
     "output_type": "stream",
     "text": [
      "                                                                                \r"
     ]
    },
    {
     "name": "stdout",
     "output_type": "stream",
     "text": [
      "+-------------+------------+------------+------------+--------------------+----------+\n",
      "|Vehicle Color|Street Code1|Street Code2|Street Code3|            features|prediction|\n",
      "+-------------+------------+------------+------------+--------------------+----------+\n",
      "|          BLK|       34330|         179|           0| [34330.0,179.0,0.0]|         0|\n",
      "|         GRAY|       34310|       16400|       11010|[34310.0,16400.0,...|         0|\n",
      "|         GRAY|       30640|       13015|       28540|[30640.0,13015.0,...|         0|\n",
      "|         null|       30640|       13015|       28540|[30640.0,13015.0,...|         0|\n",
      "|         BLUE|       30640|       13015|       28540|[30640.0,13015.0,...|         0|\n",
      "|         null|       30640|       13015|       28540|[30640.0,13015.0,...|         0|\n",
      "|         BLUE|       30640|       13015|       28540|[30640.0,13015.0,...|         0|\n",
      "|        WHITE|       11585|       26390|       15010|[11585.0,26390.0,...|         0|\n",
      "|          BLK|           0|           0|           0|           (3,[],[])|         1|\n",
      "|          RED|       33190|       25190|       31990|[33190.0,25190.0,...|         0|\n",
      "|           GY|       33190|       25190|       31990|[33190.0,25190.0,...|         0|\n",
      "|         GRAY|       30640|       24050|           0|[30640.0,24050.0,...|         0|\n",
      "|          WHT|       30640|       13015|       28540|[30640.0,13015.0,...|         0|\n",
      "|          BLK|           0|           0|           0|           (3,[],[])|         1|\n",
      "|        BLACK|       33340|           0|           0|   [33340.0,0.0,0.0]|         1|\n",
      "|          RED|       34440|           0|           0|   [34440.0,0.0,0.0]|         0|\n",
      "|          WHT|           0|           0|           0|           (3,[],[])|         1|\n",
      "|          WHT|           0|           0|           0|           (3,[],[])|         1|\n",
      "|        BLACK|       11210|       22695|           0|[11210.0,22695.0,...|         1|\n",
      "|        WHITE|       23904|       25680|       21950|[23904.0,25680.0,...|         0|\n",
      "+-------------+------------+------------+------------+--------------------+----------+\n",
      "only showing top 20 rows\n",
      "\n",
      "23/04/13 12:50:41 WARN Executor: Issue communicating with driver in heartbeater\n",
      "org.apache.spark.SparkException: Exception thrown in awaitResult: \n",
      "\tat org.apache.spark.util.ThreadUtils$.awaitResult(ThreadUtils.scala:301)\n",
      "\tat org.apache.spark.rpc.RpcTimeout.awaitResult(RpcTimeout.scala:75)\n",
      "\tat org.apache.spark.rpc.RpcEndpointRef.askSync(RpcEndpointRef.scala:103)\n",
      "\tat org.apache.spark.rpc.RpcEndpointRef.askSync(RpcEndpointRef.scala:87)\n",
      "\tat org.apache.spark.storage.BlockManagerMaster.registerBlockManager(BlockManagerMaster.scala:80)\n",
      "\tat org.apache.spark.storage.BlockManager.reregister(BlockManager.scala:643)\n",
      "\tat org.apache.spark.executor.Executor.reportHeartBeat(Executor.scala:1057)\n",
      "\tat org.apache.spark.executor.Executor.$anonfun$heartbeater$1(Executor.scala:238)\n",
      "\tat scala.runtime.java8.JFunction0$mcV$sp.apply(JFunction0$mcV$sp.java:23)\n",
      "\tat org.apache.spark.util.Utils$.logUncaughtExceptions(Utils.scala:2066)\n",
      "\tat org.apache.spark.Heartbeater$$anon$1.run(Heartbeater.scala:46)\n",
      "\tat java.util.concurrent.Executors$RunnableAdapter.call(Executors.java:511)\n",
      "\tat java.util.concurrent.FutureTask.runAndReset(FutureTask.java:308)\n",
      "\tat java.util.concurrent.ScheduledThreadPoolExecutor$ScheduledFutureTask.access$301(ScheduledThreadPoolExecutor.java:180)\n",
      "\tat java.util.concurrent.ScheduledThreadPoolExecutor$ScheduledFutureTask.run(ScheduledThreadPoolExecutor.java:294)\n",
      "\tat java.util.concurrent.ThreadPoolExecutor.runWorker(ThreadPoolExecutor.java:1149)\n",
      "\tat java.util.concurrent.ThreadPoolExecutor$Worker.run(ThreadPoolExecutor.java:624)\n",
      "\tat java.lang.Thread.run(Thread.java:750)\n",
      "Caused by: org.apache.spark.SparkException: Exception thrown in awaitResult: \n",
      "\tat org.apache.spark.util.ThreadUtils$.awaitResult(ThreadUtils.scala:301)\n",
      "\tat org.apache.spark.rpc.RpcTimeout.awaitResult(RpcTimeout.scala:75)\n",
      "\tat org.apache.spark.rpc.RpcEnv.setupEndpointRefByURI(RpcEnv.scala:102)\n",
      "\tat org.apache.spark.rpc.RpcEnv.setupEndpointRef(RpcEnv.scala:110)\n",
      "\tat org.apache.spark.util.RpcUtils$.makeDriverRef(RpcUtils.scala:36)\n",
      "\tat org.apache.spark.storage.BlockManagerMasterEndpoint.driverEndpoint$lzycompute(BlockManagerMasterEndpoint.scala:117)\n",
      "\tat org.apache.spark.storage.BlockManagerMasterEndpoint.org$apache$spark$storage$BlockManagerMasterEndpoint$$driverEndpoint(BlockManagerMasterEndpoint.scala:116)\n",
      "\tat org.apache.spark.storage.BlockManagerMasterEndpoint.isExecutorAlive$lzycompute$1(BlockManagerMasterEndpoint.scala:593)\n",
      "\tat org.apache.spark.storage.BlockManagerMasterEndpoint.isExecutorAlive$1(BlockManagerMasterEndpoint.scala:592)\n",
      "\tat org.apache.spark.storage.BlockManagerMasterEndpoint.org$apache$spark$storage$BlockManagerMasterEndpoint$$register(BlockManagerMasterEndpoint.scala:630)\n",
      "\tat org.apache.spark.storage.BlockManagerMasterEndpoint$$anonfun$receiveAndReply$1.applyOrElse(BlockManagerMasterEndpoint.scala:123)\n",
      "\tat org.apache.spark.rpc.netty.Inbox.$anonfun$process$1(Inbox.scala:103)\n",
      "\tat org.apache.spark.rpc.netty.Inbox.safelyCall(Inbox.scala:213)\n",
      "\tat org.apache.spark.rpc.netty.Inbox.process(Inbox.scala:100)\n",
      "\tat org.apache.spark.rpc.netty.MessageLoop.org$apache$spark$rpc$netty$MessageLoop$$receiveLoop(MessageLoop.scala:75)\n",
      "\tat org.apache.spark.rpc.netty.MessageLoop$$anon$1.run(MessageLoop.scala:41)\n",
      "\tat java.util.concurrent.Executors$RunnableAdapter.call(Executors.java:511)\n",
      "\tat java.util.concurrent.FutureTask.run(FutureTask.java:266)\n",
      "\t... 3 more\n",
      "Caused by: org.apache.spark.rpc.RpcEndpointNotFoundException: Cannot find endpoint: spark://CoarseGrainedScheduler@10.0.0.167:50332\n",
      "\tat org.apache.spark.rpc.netty.NettyRpcEnv.$anonfun$asyncSetupEndpointRefByURI$1(NettyRpcEnv.scala:148)\n",
      "\tat org.apache.spark.rpc.netty.NettyRpcEnv.$anonfun$asyncSetupEndpointRefByURI$1$adapted(NettyRpcEnv.scala:144)\n",
      "\tat scala.concurrent.Future.$anonfun$flatMap$1(Future.scala:307)\n",
      "\tat scala.concurrent.impl.Promise.$anonfun$transformWith$1(Promise.scala:41)\n",
      "\tat scala.concurrent.impl.CallbackRunnable.run(Promise.scala:64)\n",
      "\tat org.apache.spark.util.ThreadUtils$$anon$1.execute(ThreadUtils.scala:99)\n",
      "\tat scala.concurrent.impl.ExecutionContextImpl$$anon$4.execute(ExecutionContextImpl.scala:138)\n",
      "\tat scala.concurrent.impl.CallbackRunnable.executeWithValue(Promise.scala:72)\n",
      "\tat scala.concurrent.impl.Promise$DefaultPromise.$anonfun$tryComplete$1(Promise.scala:288)\n",
      "\tat scala.concurrent.impl.Promise$DefaultPromise.$anonfun$tryComplete$1$adapted(Promise.scala:288)\n",
      "\tat scala.concurrent.impl.Promise$DefaultPromise.tryComplete(Promise.scala:288)\n",
      "\tat scala.concurrent.Promise.complete(Promise.scala:53)\n",
      "\tat scala.concurrent.Promise.complete$(Promise.scala:52)\n",
      "\tat scala.concurrent.impl.Promise$DefaultPromise.complete(Promise.scala:187)\n",
      "\tat scala.concurrent.impl.Promise.$anonfun$transform$1(Promise.scala:33)\n",
      "\tat scala.concurrent.impl.CallbackRunnable.run(Promise.scala:64)\n",
      "\tat org.apache.spark.util.ThreadUtils$$anon$1.execute(ThreadUtils.scala:99)\n",
      "\tat scala.concurrent.impl.ExecutionContextImpl$$anon$4.execute(ExecutionContextImpl.scala:138)\n",
      "\tat scala.concurrent.impl.CallbackRunnable.executeWithValue(Promise.scala:72)\n",
      "\tat scala.concurrent.impl.Promise$DefaultPromise.$anonfun$tryComplete$1(Promise.scala:288)\n",
      "\tat scala.concurrent.impl.Promise$DefaultPromise.$anonfun$tryComplete$1$adapted(Promise.scala:288)\n",
      "\tat scala.concurrent.impl.Promise$DefaultPromise.tryComplete(Promise.scala:288)\n",
      "\tat scala.concurrent.Promise.complete(Promise.scala:53)\n",
      "\tat scala.concurrent.Promise.complete$(Promise.scala:52)\n",
      "\tat scala.concurrent.impl.Promise$DefaultPromise.complete(Promise.scala:187)\n",
      "\tat scala.concurrent.impl.Promise.$anonfun$transform$1(Promise.scala:33)\n",
      "\tat scala.concurrent.impl.CallbackRunnable.run(Promise.scala:64)\n",
      "\tat scala.concurrent.BatchingExecutor$Batch.processBatch$1(BatchingExecutor.scala:67)\n",
      "\tat scala.concurrent.BatchingExecutor$Batch.$anonfun$run$1(BatchingExecutor.scala:82)\n",
      "\tat scala.runtime.java8.JFunction0$mcV$sp.apply(JFunction0$mcV$sp.java:23)\n",
      "\tat scala.concurrent.BlockContext$.withBlockContext(BlockContext.scala:85)\n",
      "\tat scala.concurrent.BatchingExecutor$Batch.run(BatchingExecutor.scala:59)\n",
      "\tat scala.concurrent.Future$InternalCallbackExecutor$.unbatchedExecute(Future.scala:875)\n",
      "\tat scala.concurrent.BatchingExecutor.execute(BatchingExecutor.scala:110)\n",
      "\tat scala.concurrent.BatchingExecutor.execute$(BatchingExecutor.scala:107)\n",
      "\tat scala.concurrent.Future$InternalCallbackExecutor$.execute(Future.scala:873)\n",
      "\tat scala.concurrent.impl.CallbackRunnable.executeWithValue(Promise.scala:72)\n",
      "\tat scala.concurrent.impl.Promise$DefaultPromise.$anonfun$tryComplete$1(Promise.scala:288)\n",
      "\tat scala.concurrent.impl.Promise$DefaultPromise.$anonfun$tryComplete$1$adapted(Promise.scala:288)\n",
      "\tat scala.concurrent.impl.Promise$DefaultPromise.tryComplete(Promise.scala:288)\n",
      "\tat scala.concurrent.Promise.trySuccess(Promise.scala:94)\n",
      "\tat scala.concurrent.Promise.trySuccess$(Promise.scala:94)\n",
      "\tat scala.concurrent.impl.Promise$DefaultPromise.trySuccess(Promise.scala:187)\n",
      "\tat org.apache.spark.rpc.netty.NettyRpcEnv.onSuccess$1(NettyRpcEnv.scala:225)\n",
      "\tat org.apache.spark.rpc.netty.NettyRpcEnv.$anonfun$askAbortable$5(NettyRpcEnv.scala:239)\n",
      "\tat org.apache.spark.rpc.netty.NettyRpcEnv.$anonfun$askAbortable$5$adapted(NettyRpcEnv.scala:238)\n",
      "\tat scala.concurrent.impl.CallbackRunnable.run(Promise.scala:64)\n",
      "\tat org.apache.spark.util.ThreadUtils$$anon$1.execute(ThreadUtils.scala:99)\n",
      "\tat scala.concurrent.impl.ExecutionContextImpl$$anon$4.execute(ExecutionContextImpl.scala:138)\n",
      "\tat scala.concurrent.impl.CallbackRunnable.executeWithValue(Promise.scala:72)\n",
      "\tat scala.concurrent.impl.Promise$DefaultPromise.$anonfun$tryComplete$1(Promise.scala:288)\n",
      "\tat scala.concurrent.impl.Promise$DefaultPromise.$anonfun$tryComplete$1$adapted(Promise.scala:288)\n",
      "\tat scala.concurrent.impl.Promise$DefaultPromise.tryComplete(Promise.scala:288)\n",
      "\tat scala.concurrent.Promise.complete(Promise.scala:53)\n",
      "\tat scala.concurrent.Promise.complete$(Promise.scala:52)\n",
      "\tat scala.concurrent.impl.Promise$DefaultPromise.complete(Promise.scala:187)\n",
      "\tat scala.concurrent.Promise.success(Promise.scala:86)\n",
      "\tat scala.concurrent.Promise.success$(Promise.scala:86)\n",
      "\tat scala.concurrent.impl.Promise$DefaultPromise.success(Promise.scala:187)\n",
      "\tat org.apache.spark.rpc.netty.LocalNettyRpcCallContext.send(NettyRpcCallContext.scala:50)\n",
      "\tat org.apache.spark.rpc.netty.NettyRpcCallContext.reply(NettyRpcCallContext.scala:32)\n",
      "\tat org.apache.spark.rpc.netty.RpcEndpointVerifier$$anonfun$receiveAndReply$1.applyOrElse(RpcEndpointVerifier.scala:31)\n",
      "\tat org.apache.spark.rpc.netty.Inbox.$anonfun$process$1(Inbox.scala:103)\n",
      "\tat org.apache.spark.rpc.netty.Inbox.safelyCall(Inbox.scala:213)\n",
      "\tat org.apache.spark.rpc.netty.Inbox.process(Inbox.scala:100)\n",
      "\tat org.apache.spark.rpc.netty.MessageLoop.org$apache$spark$rpc$netty$MessageLoop$$receiveLoop(MessageLoop.scala:75)\n",
      "\tat org.apache.spark.rpc.netty.MessageLoop$$anon$1.run(MessageLoop.scala:41)\n",
      "\t... 3 more\n",
      "23/04/13 12:50:41 ERROR Inbox: Ignoring error\n",
      "org.apache.spark.SparkException: Exception thrown in awaitResult: \n",
      "\tat org.apache.spark.util.ThreadUtils$.awaitResult(ThreadUtils.scala:301)\n",
      "\tat org.apache.spark.rpc.RpcTimeout.awaitResult(RpcTimeout.scala:75)\n",
      "\tat org.apache.spark.rpc.RpcEnv.setupEndpointRefByURI(RpcEnv.scala:102)\n",
      "\tat org.apache.spark.rpc.RpcEnv.setupEndpointRef(RpcEnv.scala:110)\n",
      "\tat org.apache.spark.util.RpcUtils$.makeDriverRef(RpcUtils.scala:36)\n",
      "\tat org.apache.spark.storage.BlockManagerMasterEndpoint.driverEndpoint$lzycompute(BlockManagerMasterEndpoint.scala:117)\n",
      "\tat org.apache.spark.storage.BlockManagerMasterEndpoint.org$apache$spark$storage$BlockManagerMasterEndpoint$$driverEndpoint(BlockManagerMasterEndpoint.scala:116)\n",
      "\tat org.apache.spark.storage.BlockManagerMasterEndpoint.isExecutorAlive$lzycompute$1(BlockManagerMasterEndpoint.scala:593)\n",
      "\tat org.apache.spark.storage.BlockManagerMasterEndpoint.isExecutorAlive$1(BlockManagerMasterEndpoint.scala:592)\n",
      "\tat org.apache.spark.storage.BlockManagerMasterEndpoint.org$apache$spark$storage$BlockManagerMasterEndpoint$$register(BlockManagerMasterEndpoint.scala:630)\n",
      "\tat org.apache.spark.storage.BlockManagerMasterEndpoint$$anonfun$receiveAndReply$1.applyOrElse(BlockManagerMasterEndpoint.scala:123)\n",
      "\tat org.apache.spark.rpc.netty.Inbox.$anonfun$process$1(Inbox.scala:103)\n",
      "\tat org.apache.spark.rpc.netty.Inbox.safelyCall(Inbox.scala:213)\n",
      "\tat org.apache.spark.rpc.netty.Inbox.process(Inbox.scala:100)\n",
      "\tat org.apache.spark.rpc.netty.MessageLoop.org$apache$spark$rpc$netty$MessageLoop$$receiveLoop(MessageLoop.scala:75)\n",
      "\tat org.apache.spark.rpc.netty.MessageLoop$$anon$1.run(MessageLoop.scala:41)\n",
      "\tat java.util.concurrent.Executors$RunnableAdapter.call(Executors.java:511)\n",
      "\tat java.util.concurrent.FutureTask.run(FutureTask.java:266)\n",
      "\tat java.util.concurrent.ThreadPoolExecutor.runWorker(ThreadPoolExecutor.java:1149)\n",
      "\tat java.util.concurrent.ThreadPoolExecutor$Worker.run(ThreadPoolExecutor.java:624)\n",
      "\tat java.lang.Thread.run(Thread.java:750)\n",
      "Caused by: org.apache.spark.rpc.RpcEndpointNotFoundException: Cannot find endpoint: spark://CoarseGrainedScheduler@10.0.0.167:50332\n",
      "\tat org.apache.spark.rpc.netty.NettyRpcEnv.$anonfun$asyncSetupEndpointRefByURI$1(NettyRpcEnv.scala:148)\n",
      "\tat org.apache.spark.rpc.netty.NettyRpcEnv.$anonfun$asyncSetupEndpointRefByURI$1$adapted(NettyRpcEnv.scala:144)\n",
      "\tat scala.concurrent.Future.$anonfun$flatMap$1(Future.scala:307)\n",
      "\tat scala.concurrent.impl.Promise.$anonfun$transformWith$1(Promise.scala:41)\n",
      "\tat scala.concurrent.impl.CallbackRunnable.run(Promise.scala:64)\n",
      "\tat org.apache.spark.util.ThreadUtils$$anon$1.execute(ThreadUtils.scala:99)\n",
      "\tat scala.concurrent.impl.ExecutionContextImpl$$anon$4.execute(ExecutionContextImpl.scala:138)\n",
      "\tat scala.concurrent.impl.CallbackRunnable.executeWithValue(Promise.scala:72)\n",
      "\tat scala.concurrent.impl.Promise$DefaultPromise.$anonfun$tryComplete$1(Promise.scala:288)\n",
      "\tat scala.concurrent.impl.Promise$DefaultPromise.$anonfun$tryComplete$1$adapted(Promise.scala:288)\n",
      "\tat scala.concurrent.impl.Promise$DefaultPromise.tryComplete(Promise.scala:288)\n",
      "\tat scala.concurrent.Promise.complete(Promise.scala:53)\n",
      "\tat scala.concurrent.Promise.complete$(Promise.scala:52)\n",
      "\tat scala.concurrent.impl.Promise$DefaultPromise.complete(Promise.scala:187)\n",
      "\tat scala.concurrent.impl.Promise.$anonfun$transform$1(Promise.scala:33)\n",
      "\tat scala.concurrent.impl.CallbackRunnable.run(Promise.scala:64)\n",
      "\tat org.apache.spark.util.ThreadUtils$$anon$1.execute(ThreadUtils.scala:99)\n",
      "\tat scala.concurrent.impl.ExecutionContextImpl$$anon$4.execute(ExecutionContextImpl.scala:138)\n",
      "\tat scala.concurrent.impl.CallbackRunnable.executeWithValue(Promise.scala:72)\n",
      "\tat scala.concurrent.impl.Promise$DefaultPromise.$anonfun$tryComplete$1(Promise.scala:288)\n",
      "\tat scala.concurrent.impl.Promise$DefaultPromise.$anonfun$tryComplete$1$adapted(Promise.scala:288)\n",
      "\tat scala.concurrent.impl.Promise$DefaultPromise.tryComplete(Promise.scala:288)\n",
      "\tat scala.concurrent.Promise.complete(Promise.scala:53)\n",
      "\tat scala.concurrent.Promise.complete$(Promise.scala:52)\n",
      "\tat scala.concurrent.impl.Promise$DefaultPromise.complete(Promise.scala:187)\n",
      "\tat scala.concurrent.impl.Promise.$anonfun$transform$1(Promise.scala:33)\n",
      "\tat scala.concurrent.impl.CallbackRunnable.run(Promise.scala:64)\n",
      "\tat scala.concurrent.BatchingExecutor$Batch.processBatch$1(BatchingExecutor.scala:67)\n",
      "\tat scala.concurrent.BatchingExecutor$Batch.$anonfun$run$1(BatchingExecutor.scala:82)\n",
      "\tat scala.runtime.java8.JFunction0$mcV$sp.apply(JFunction0$mcV$sp.java:23)\n",
      "\tat scala.concurrent.BlockContext$.withBlockContext(BlockContext.scala:85)\n",
      "\tat scala.concurrent.BatchingExecutor$Batch.run(BatchingExecutor.scala:59)\n",
      "\tat scala.concurrent.Future$InternalCallbackExecutor$.unbatchedExecute(Future.scala:875)\n",
      "\tat scala.concurrent.BatchingExecutor.execute(BatchingExecutor.scala:110)\n",
      "\tat scala.concurrent.BatchingExecutor.execute$(BatchingExecutor.scala:107)\n",
      "\tat scala.concurrent.Future$InternalCallbackExecutor$.execute(Future.scala:873)\n",
      "\tat scala.concurrent.impl.CallbackRunnable.executeWithValue(Promise.scala:72)\n",
      "\tat scala.concurrent.impl.Promise$DefaultPromise.$anonfun$tryComplete$1(Promise.scala:288)\n",
      "\tat scala.concurrent.impl.Promise$DefaultPromise.$anonfun$tryComplete$1$adapted(Promise.scala:288)\n",
      "\tat scala.concurrent.impl.Promise$DefaultPromise.tryComplete(Promise.scala:288)\n",
      "\tat scala.concurrent.Promise.trySuccess(Promise.scala:94)\n",
      "\tat scala.concurrent.Promise.trySuccess$(Promise.scala:94)\n",
      "\tat scala.concurrent.impl.Promise$DefaultPromise.trySuccess(Promise.scala:187)\n",
      "\tat org.apache.spark.rpc.netty.NettyRpcEnv.onSuccess$1(NettyRpcEnv.scala:225)\n",
      "\tat org.apache.spark.rpc.netty.NettyRpcEnv.$anonfun$askAbortable$5(NettyRpcEnv.scala:239)\n",
      "\tat org.apache.spark.rpc.netty.NettyRpcEnv.$anonfun$askAbortable$5$adapted(NettyRpcEnv.scala:238)\n",
      "\tat scala.concurrent.impl.CallbackRunnable.run(Promise.scala:64)\n",
      "\tat org.apache.spark.util.ThreadUtils$$anon$1.execute(ThreadUtils.scala:99)\n",
      "\tat scala.concurrent.impl.ExecutionContextImpl$$anon$4.execute(ExecutionContextImpl.scala:138)\n",
      "\tat scala.concurrent.impl.CallbackRunnable.executeWithValue(Promise.scala:72)\n",
      "\tat scala.concurrent.impl.Promise$DefaultPromise.$anonfun$tryComplete$1(Promise.scala:288)\n",
      "\tat scala.concurrent.impl.Promise$DefaultPromise.$anonfun$tryComplete$1$adapted(Promise.scala:288)\n",
      "\tat scala.concurrent.impl.Promise$DefaultPromise.tryComplete(Promise.scala:288)\n",
      "\tat scala.concurrent.Promise.complete(Promise.scala:53)\n",
      "\tat scala.concurrent.Promise.complete$(Promise.scala:52)\n",
      "\tat scala.concurrent.impl.Promise$DefaultPromise.complete(Promise.scala:187)\n",
      "\tat scala.concurrent.Promise.success(Promise.scala:86)\n",
      "\tat scala.concurrent.Promise.success$(Promise.scala:86)\n",
      "\tat scala.concurrent.impl.Promise$DefaultPromise.success(Promise.scala:187)\n",
      "\tat org.apache.spark.rpc.netty.LocalNettyRpcCallContext.send(NettyRpcCallContext.scala:50)\n",
      "\tat org.apache.spark.rpc.netty.NettyRpcCallContext.reply(NettyRpcCallContext.scala:32)\n",
      "\tat org.apache.spark.rpc.netty.RpcEndpointVerifier$$anonfun$receiveAndReply$1.applyOrElse(RpcEndpointVerifier.scala:31)\n",
      "\tat org.apache.spark.rpc.netty.Inbox.$anonfun$process$1(Inbox.scala:103)\n",
      "\tat org.apache.spark.rpc.netty.Inbox.safelyCall(Inbox.scala:213)\n",
      "\tat org.apache.spark.rpc.netty.Inbox.process(Inbox.scala:100)\n",
      "\tat org.apache.spark.rpc.netty.MessageLoop.org$apache$spark$rpc$netty$MessageLoop$$receiveLoop(MessageLoop.scala:75)\n",
      "\tat org.apache.spark.rpc.netty.MessageLoop$$anon$1.run(MessageLoop.scala:41)\n",
      "\t... 3 more\n"
     ]
    },
    {
     "name": "stderr",
     "output_type": "stream",
     "text": [
      "                                                                                \r"
     ]
    },
    {
     "name": "stdout",
     "output_type": "stream",
     "text": [
      "+----------+----------+-------+-------------------+\n",
      "|prediction|Black cars|  Total|        Probability|\n",
      "+----------+----------+-------+-------------------+\n",
      "|         0|    828135|3885175|0.21315256069546418|\n",
      "|         1|   1334197|5226789| 0.2552613086160547|\n",
      "|         2|    342934|1391343|0.24647696506181438|\n",
      "+----------+----------+-------+-------------------+\n",
      "\n",
      "None\n",
      "0\n"
     ]
    },
    {
     "name": "stderr",
     "output_type": "stream",
     "text": [
      "[Stage 82:>                                                        (0 + 8) / 17]\r"
     ]
    },
    {
     "name": "stdout",
     "output_type": "stream",
     "text": [
      "23/04/13 12:50:51 ERROR Inbox: Ignoring error\n",
      "org.apache.spark.SparkException: Exception thrown in awaitResult: \n",
      "\tat org.apache.spark.util.ThreadUtils$.awaitResult(ThreadUtils.scala:301)\n",
      "\tat org.apache.spark.rpc.RpcTimeout.awaitResult(RpcTimeout.scala:75)\n",
      "\tat org.apache.spark.rpc.RpcEnv.setupEndpointRefByURI(RpcEnv.scala:102)\n",
      "\tat org.apache.spark.rpc.RpcEnv.setupEndpointRef(RpcEnv.scala:110)\n",
      "\tat org.apache.spark.util.RpcUtils$.makeDriverRef(RpcUtils.scala:36)\n",
      "\tat org.apache.spark.storage.BlockManagerMasterEndpoint.driverEndpoint$lzycompute(BlockManagerMasterEndpoint.scala:117)\n",
      "\tat org.apache.spark.storage.BlockManagerMasterEndpoint.org$apache$spark$storage$BlockManagerMasterEndpoint$$driverEndpoint(BlockManagerMasterEndpoint.scala:116)\n",
      "\tat org.apache.spark.storage.BlockManagerMasterEndpoint.isExecutorAlive$lzycompute$1(BlockManagerMasterEndpoint.scala:593)\n",
      "\tat org.apache.spark.storage.BlockManagerMasterEndpoint.isExecutorAlive$1(BlockManagerMasterEndpoint.scala:592)\n",
      "\tat org.apache.spark.storage.BlockManagerMasterEndpoint.org$apache$spark$storage$BlockManagerMasterEndpoint$$register(BlockManagerMasterEndpoint.scala:630)\n",
      "\tat org.apache.spark.storage.BlockManagerMasterEndpoint$$anonfun$receiveAndReply$1.applyOrElse(BlockManagerMasterEndpoint.scala:123)\n",
      "\tat org.apache.spark.rpc.netty.Inbox.$anonfun$process$1(Inbox.scala:103)\n",
      "\tat org.apache.spark.rpc.netty.Inbox.safelyCall(Inbox.scala:213)\n",
      "\tat org.apache.spark.rpc.netty.Inbox.process(Inbox.scala:100)\n",
      "\tat org.apache.spark.rpc.netty.MessageLoop.org$apache$spark$rpc$netty$MessageLoop$$receiveLoop(MessageLoop.scala:75)\n",
      "\tat org.apache.spark.rpc.netty.MessageLoop$$anon$1.run(MessageLoop.scala:41)\n",
      "\tat java.util.concurrent.Executors$RunnableAdapter.call(Executors.java:511)\n",
      "\tat java.util.concurrent.FutureTask.run(FutureTask.java:266)\n",
      "\tat java.util.concurrent.ThreadPoolExecutor.runWorker(ThreadPoolExecutor.java:1149)\n",
      "\tat java.util.concurrent.ThreadPoolExecutor$Worker.run(ThreadPoolExecutor.java:624)\n",
      "\tat java.lang.Thread.run(Thread.java:750)\n",
      "Caused by: org.apache.spark.rpc.RpcEndpointNotFoundException: Cannot find endpoint: spark://CoarseGrainedScheduler@10.0.0.167:50332\n",
      "\tat org.apache.spark.rpc.netty.NettyRpcEnv.$anonfun$asyncSetupEndpointRefByURI$1(NettyRpcEnv.scala:148)\n",
      "\tat org.apache.spark.rpc.netty.NettyRpcEnv.$anonfun$asyncSetupEndpointRefByURI$1$adapted(NettyRpcEnv.scala:144)\n",
      "\tat scala.concurrent.Future.$anonfun$flatMap$1(Future.scala:307)\n",
      "\tat scala.concurrent.impl.Promise.$anonfun$transformWith$1(Promise.scala:41)\n",
      "\tat scala.concurrent.impl.CallbackRunnable.run(Promise.scala:64)\n",
      "\tat org.apache.spark.util.ThreadUtils$$anon$1.execute(ThreadUtils.scala:99)\n",
      "\tat scala.concurrent.impl.ExecutionContextImpl$$anon$4.execute(ExecutionContextImpl.scala:138)\n",
      "\tat scala.concurrent.impl.CallbackRunnable.executeWithValue(Promise.scala:72)\n",
      "\tat scala.concurrent.impl.Promise$DefaultPromise.dispatchOrAddCallback(Promise.scala:316)\n",
      "\tat scala.concurrent.impl.Promise$DefaultPromise.onComplete(Promise.scala:307)\n",
      "\tat scala.concurrent.impl.Promise.transformWith(Promise.scala:40)\n",
      "\tat scala.concurrent.impl.Promise.transformWith$(Promise.scala:38)\n",
      "\tat scala.concurrent.impl.Promise$DefaultPromise.transformWith(Promise.scala:187)\n",
      "\tat scala.concurrent.Future.flatMap(Future.scala:306)\n",
      "\tat scala.concurrent.Future.flatMap$(Future.scala:306)\n",
      "\tat scala.concurrent.impl.Promise$DefaultPromise.flatMap(Promise.scala:187)\n",
      "\tat org.apache.spark.rpc.netty.NettyRpcEnv.asyncSetupEndpointRefByURI(NettyRpcEnv.scala:150)\n",
      "\t... 19 more\n",
      "23/04/13 12:50:51 WARN Executor: Issue communicating with driver in heartbeater\n",
      "org.apache.spark.SparkException: Exception thrown in awaitResult: \n",
      "\tat org.apache.spark.util.ThreadUtils$.awaitResult(ThreadUtils.scala:301)\n",
      "\tat org.apache.spark.rpc.RpcTimeout.awaitResult(RpcTimeout.scala:75)\n",
      "\tat org.apache.spark.rpc.RpcEndpointRef.askSync(RpcEndpointRef.scala:103)\n",
      "\tat org.apache.spark.rpc.RpcEndpointRef.askSync(RpcEndpointRef.scala:87)\n",
      "\tat org.apache.spark.storage.BlockManagerMaster.registerBlockManager(BlockManagerMaster.scala:80)\n",
      "\tat org.apache.spark.storage.BlockManager.reregister(BlockManager.scala:643)\n",
      "\tat org.apache.spark.executor.Executor.reportHeartBeat(Executor.scala:1057)\n",
      "\tat org.apache.spark.executor.Executor.$anonfun$heartbeater$1(Executor.scala:238)\n",
      "\tat scala.runtime.java8.JFunction0$mcV$sp.apply(JFunction0$mcV$sp.java:23)\n",
      "\tat org.apache.spark.util.Utils$.logUncaughtExceptions(Utils.scala:2066)\n",
      "\tat org.apache.spark.Heartbeater$$anon$1.run(Heartbeater.scala:46)\n",
      "\tat java.util.concurrent.Executors$RunnableAdapter.call(Executors.java:511)\n",
      "\tat java.util.concurrent.FutureTask.runAndReset(FutureTask.java:308)\n",
      "\tat java.util.concurrent.ScheduledThreadPoolExecutor$ScheduledFutureTask.access$301(ScheduledThreadPoolExecutor.java:180)\n",
      "\tat java.util.concurrent.ScheduledThreadPoolExecutor$ScheduledFutureTask.run(ScheduledThreadPoolExecutor.java:294)\n",
      "\tat java.util.concurrent.ThreadPoolExecutor.runWorker(ThreadPoolExecutor.java:1149)\n",
      "\tat java.util.concurrent.ThreadPoolExecutor$Worker.run(ThreadPoolExecutor.java:624)\n",
      "\tat java.lang.Thread.run(Thread.java:750)\n",
      "Caused by: org.apache.spark.SparkException: Exception thrown in awaitResult: \n",
      "\tat org.apache.spark.util.ThreadUtils$.awaitResult(ThreadUtils.scala:301)\n",
      "\tat org.apache.spark.rpc.RpcTimeout.awaitResult(RpcTimeout.scala:75)\n",
      "\tat org.apache.spark.rpc.RpcEnv.setupEndpointRefByURI(RpcEnv.scala:102)\n",
      "\tat org.apache.spark.rpc.RpcEnv.setupEndpointRef(RpcEnv.scala:110)\n",
      "\tat org.apache.spark.util.RpcUtils$.makeDriverRef(RpcUtils.scala:36)\n",
      "\tat org.apache.spark.storage.BlockManagerMasterEndpoint.driverEndpoint$lzycompute(BlockManagerMasterEndpoint.scala:117)\n",
      "\tat org.apache.spark.storage.BlockManagerMasterEndpoint.org$apache$spark$storage$BlockManagerMasterEndpoint$$driverEndpoint(BlockManagerMasterEndpoint.scala:116)\n",
      "\tat org.apache.spark.storage.BlockManagerMasterEndpoint.isExecutorAlive$lzycompute$1(BlockManagerMasterEndpoint.scala:593)\n",
      "\tat org.apache.spark.storage.BlockManagerMasterEndpoint.isExecutorAlive$1(BlockManagerMasterEndpoint.scala:592)\n",
      "\tat org.apache.spark.storage.BlockManagerMasterEndpoint.org$apache$spark$storage$BlockManagerMasterEndpoint$$register(BlockManagerMasterEndpoint.scala:630)\n",
      "\tat org.apache.spark.storage.BlockManagerMasterEndpoint$$anonfun$receiveAndReply$1.applyOrElse(BlockManagerMasterEndpoint.scala:123)\n",
      "\tat org.apache.spark.rpc.netty.Inbox.$anonfun$process$1(Inbox.scala:103)\n",
      "\tat org.apache.spark.rpc.netty.Inbox.safelyCall(Inbox.scala:213)\n",
      "\tat org.apache.spark.rpc.netty.Inbox.process(Inbox.scala:100)\n",
      "\tat org.apache.spark.rpc.netty.MessageLoop.org$apache$spark$rpc$netty$MessageLoop$$receiveLoop(MessageLoop.scala:75)\n",
      "\tat org.apache.spark.rpc.netty.MessageLoop$$anon$1.run(MessageLoop.scala:41)\n",
      "\tat java.util.concurrent.Executors$RunnableAdapter.call(Executors.java:511)\n",
      "\tat java.util.concurrent.FutureTask.run(FutureTask.java:266)\n",
      "\t... 3 more\n",
      "Caused by: org.apache.spark.rpc.RpcEndpointNotFoundException: Cannot find endpoint: spark://CoarseGrainedScheduler@10.0.0.167:50332\n",
      "\tat org.apache.spark.rpc.netty.NettyRpcEnv.$anonfun$asyncSetupEndpointRefByURI$1(NettyRpcEnv.scala:148)\n",
      "\tat org.apache.spark.rpc.netty.NettyRpcEnv.$anonfun$asyncSetupEndpointRefByURI$1$adapted(NettyRpcEnv.scala:144)\n",
      "\tat scala.concurrent.Future.$anonfun$flatMap$1(Future.scala:307)\n",
      "\tat scala.concurrent.impl.Promise.$anonfun$transformWith$1(Promise.scala:41)\n",
      "\tat scala.concurrent.impl.CallbackRunnable.run(Promise.scala:64)\n",
      "\tat org.apache.spark.util.ThreadUtils$$anon$1.execute(ThreadUtils.scala:99)\n",
      "\tat scala.concurrent.impl.ExecutionContextImpl$$anon$4.execute(ExecutionContextImpl.scala:138)\n",
      "\tat scala.concurrent.impl.CallbackRunnable.executeWithValue(Promise.scala:72)\n",
      "\tat scala.concurrent.impl.Promise$DefaultPromise.dispatchOrAddCallback(Promise.scala:316)\n",
      "\tat scala.concurrent.impl.Promise$DefaultPromise.onComplete(Promise.scala:307)\n",
      "\tat scala.concurrent.impl.Promise.transformWith(Promise.scala:40)\n",
      "\tat scala.concurrent.impl.Promise.transformWith$(Promise.scala:38)\n",
      "\tat scala.concurrent.impl.Promise$DefaultPromise.transformWith(Promise.scala:187)\n",
      "\tat scala.concurrent.Future.flatMap(Future.scala:306)\n",
      "\tat scala.concurrent.Future.flatMap$(Future.scala:306)\n",
      "\tat scala.concurrent.impl.Promise$DefaultPromise.flatMap(Promise.scala:187)\n",
      "\tat org.apache.spark.rpc.netty.NettyRpcEnv.asyncSetupEndpointRefByURI(NettyRpcEnv.scala:150)\n",
      "\t... 19 more\n"
     ]
    },
    {
     "name": "stderr",
     "output_type": "stream",
     "text": [
      "[Stage 82:====================================================>   (16 + 1) / 17]\r"
     ]
    },
    {
     "name": "stdout",
     "output_type": "stream",
     "text": [
      "+----------+----------+-------+-------------------+\n",
      "|prediction|Black cars|  Total|        Probability|\n",
      "+----------+----------+-------+-------------------+\n",
      "|         0|    828135|3885175|0.21315256069546418|\n",
      "+----------+----------+-------+-------------------+\n",
      "\n",
      "None\n"
     ]
    },
    {
     "name": "stderr",
     "output_type": "stream",
     "text": [
      "                                                                                \r"
     ]
    },
    {
     "name": "stdout",
     "output_type": "stream",
     "text": [
      "23/04/13 12:51:01 ERROR Inbox: Ignoring error\n",
      "org.apache.spark.SparkException: Exception thrown in awaitResult: \n",
      "\tat org.apache.spark.util.ThreadUtils$.awaitResult(ThreadUtils.scala:301)\n",
      "\tat org.apache.spark.rpc.RpcTimeout.awaitResult(RpcTimeout.scala:75)\n",
      "\tat org.apache.spark.rpc.RpcEnv.setupEndpointRefByURI(RpcEnv.scala:102)\n",
      "\tat org.apache.spark.rpc.RpcEnv.setupEndpointRef(RpcEnv.scala:110)\n",
      "\tat org.apache.spark.util.RpcUtils$.makeDriverRef(RpcUtils.scala:36)\n",
      "\tat org.apache.spark.storage.BlockManagerMasterEndpoint.driverEndpoint$lzycompute(BlockManagerMasterEndpoint.scala:117)\n",
      "\tat org.apache.spark.storage.BlockManagerMasterEndpoint.org$apache$spark$storage$BlockManagerMasterEndpoint$$driverEndpoint(BlockManagerMasterEndpoint.scala:116)\n",
      "\tat org.apache.spark.storage.BlockManagerMasterEndpoint.isExecutorAlive$lzycompute$1(BlockManagerMasterEndpoint.scala:593)\n",
      "\tat org.apache.spark.storage.BlockManagerMasterEndpoint.isExecutorAlive$1(BlockManagerMasterEndpoint.scala:592)\n",
      "\tat org.apache.spark.storage.BlockManagerMasterEndpoint.org$apache$spark$storage$BlockManagerMasterEndpoint$$register(BlockManagerMasterEndpoint.scala:630)\n",
      "\tat org.apache.spark.storage.BlockManagerMasterEndpoint$$anonfun$receiveAndReply$1.applyOrElse(BlockManagerMasterEndpoint.scala:123)\n",
      "\tat org.apache.spark.rpc.netty.Inbox.$anonfun$process$1(Inbox.scala:103)\n",
      "\tat org.apache.spark.rpc.netty.Inbox.safelyCall(Inbox.scala:213)\n",
      "\tat org.apache.spark.rpc.netty.Inbox.process(Inbox.scala:100)\n",
      "\tat org.apache.spark.rpc.netty.MessageLoop.org$apache$spark$rpc$netty$MessageLoop$$receiveLoop(MessageLoop.scala:75)\n",
      "\tat org.apache.spark.rpc.netty.MessageLoop$$anon$1.run(MessageLoop.scala:41)\n",
      "\tat java.util.concurrent.Executors$RunnableAdapter.call(Executors.java:511)\n",
      "\tat java.util.concurrent.FutureTask.run(FutureTask.java:266)\n",
      "\tat java.util.concurrent.ThreadPoolExecutor.runWorker(ThreadPoolExecutor.java:1149)\n",
      "\tat java.util.concurrent.ThreadPoolExecutor$Worker.run(ThreadPoolExecutor.java:624)\n",
      "\tat java.lang.Thread.run(Thread.java:750)\n",
      "Caused by: org.apache.spark.rpc.RpcEndpointNotFoundException: Cannot find endpoint: spark://CoarseGrainedScheduler@10.0.0.167:50332\n",
      "\tat org.apache.spark.rpc.netty.NettyRpcEnv.$anonfun$asyncSetupEndpointRefByURI$1(NettyRpcEnv.scala:148)\n",
      "\tat org.apache.spark.rpc.netty.NettyRpcEnv.$anonfun$asyncSetupEndpointRefByURI$1$adapted(NettyRpcEnv.scala:144)\n",
      "\tat scala.concurrent.Future.$anonfun$flatMap$1(Future.scala:307)\n",
      "\tat scala.concurrent.impl.Promise.$anonfun$transformWith$1(Promise.scala:41)\n",
      "\tat scala.concurrent.impl.CallbackRunnable.run(Promise.scala:64)\n",
      "\tat org.apache.spark.util.ThreadUtils$$anon$1.execute(ThreadUtils.scala:99)\n",
      "\tat scala.concurrent.impl.ExecutionContextImpl$$anon$4.execute(ExecutionContextImpl.scala:138)\n",
      "\tat scala.concurrent.impl.CallbackRunnable.executeWithValue(Promise.scala:72)\n",
      "\tat scala.concurrent.impl.Promise$DefaultPromise.dispatchOrAddCallback(Promise.scala:316)\n",
      "\tat scala.concurrent.impl.Promise$DefaultPromise.onComplete(Promise.scala:307)\n",
      "\tat scala.concurrent.impl.Promise.transformWith(Promise.scala:40)\n",
      "\tat scala.concurrent.impl.Promise.transformWith$(Promise.scala:38)\n",
      "\tat scala.concurrent.impl.Promise$DefaultPromise.transformWith(Promise.scala:187)\n",
      "\tat scala.concurrent.Future.flatMap(Future.scala:306)\n",
      "\tat scala.concurrent.Future.flatMap$(Future.scala:306)\n",
      "\tat scala.concurrent.impl.Promise$DefaultPromise.flatMap(Promise.scala:187)\n",
      "\tat org.apache.spark.rpc.netty.NettyRpcEnv.asyncSetupEndpointRefByURI(NettyRpcEnv.scala:150)\n",
      "\t... 19 more\n",
      "23/04/13 12:51:01 WARN Executor: Issue communicating with driver in heartbeater\n",
      "org.apache.spark.SparkException: Exception thrown in awaitResult: \n",
      "\tat org.apache.spark.util.ThreadUtils$.awaitResult(ThreadUtils.scala:301)\n",
      "\tat org.apache.spark.rpc.RpcTimeout.awaitResult(RpcTimeout.scala:75)\n",
      "\tat org.apache.spark.rpc.RpcEndpointRef.askSync(RpcEndpointRef.scala:103)\n",
      "\tat org.apache.spark.rpc.RpcEndpointRef.askSync(RpcEndpointRef.scala:87)\n",
      "\tat org.apache.spark.storage.BlockManagerMaster.registerBlockManager(BlockManagerMaster.scala:80)\n",
      "\tat org.apache.spark.storage.BlockManager.reregister(BlockManager.scala:643)\n",
      "\tat org.apache.spark.executor.Executor.reportHeartBeat(Executor.scala:1057)\n",
      "\tat org.apache.spark.executor.Executor.$anonfun$heartbeater$1(Executor.scala:238)\n",
      "\tat scala.runtime.java8.JFunction0$mcV$sp.apply(JFunction0$mcV$sp.java:23)\n",
      "\tat org.apache.spark.util.Utils$.logUncaughtExceptions(Utils.scala:2066)\n",
      "\tat org.apache.spark.Heartbeater$$anon$1.run(Heartbeater.scala:46)\n",
      "\tat java.util.concurrent.Executors$RunnableAdapter.call(Executors.java:511)\n",
      "\tat java.util.concurrent.FutureTask.runAndReset(FutureTask.java:308)\n",
      "\tat java.util.concurrent.ScheduledThreadPoolExecutor$ScheduledFutureTask.access$301(ScheduledThreadPoolExecutor.java:180)\n",
      "\tat java.util.concurrent.ScheduledThreadPoolExecutor$ScheduledFutureTask.run(ScheduledThreadPoolExecutor.java:294)\n",
      "\tat java.util.concurrent.ThreadPoolExecutor.runWorker(ThreadPoolExecutor.java:1149)\n",
      "\tat java.util.concurrent.ThreadPoolExecutor$Worker.run(ThreadPoolExecutor.java:624)\n",
      "\tat java.lang.Thread.run(Thread.java:750)\n",
      "Caused by: org.apache.spark.SparkException: Exception thrown in awaitResult: \n",
      "\tat org.apache.spark.util.ThreadUtils$.awaitResult(ThreadUtils.scala:301)\n",
      "\tat org.apache.spark.rpc.RpcTimeout.awaitResult(RpcTimeout.scala:75)\n",
      "\tat org.apache.spark.rpc.RpcEnv.setupEndpointRefByURI(RpcEnv.scala:102)\n",
      "\tat org.apache.spark.rpc.RpcEnv.setupEndpointRef(RpcEnv.scala:110)\n",
      "\tat org.apache.spark.util.RpcUtils$.makeDriverRef(RpcUtils.scala:36)\n",
      "\tat org.apache.spark.storage.BlockManagerMasterEndpoint.driverEndpoint$lzycompute(BlockManagerMasterEndpoint.scala:117)\n",
      "\tat org.apache.spark.storage.BlockManagerMasterEndpoint.org$apache$spark$storage$BlockManagerMasterEndpoint$$driverEndpoint(BlockManagerMasterEndpoint.scala:116)\n",
      "\tat org.apache.spark.storage.BlockManagerMasterEndpoint.isExecutorAlive$lzycompute$1(BlockManagerMasterEndpoint.scala:593)\n",
      "\tat org.apache.spark.storage.BlockManagerMasterEndpoint.isExecutorAlive$1(BlockManagerMasterEndpoint.scala:592)\n",
      "\tat org.apache.spark.storage.BlockManagerMasterEndpoint.org$apache$spark$storage$BlockManagerMasterEndpoint$$register(BlockManagerMasterEndpoint.scala:630)\n",
      "\tat org.apache.spark.storage.BlockManagerMasterEndpoint$$anonfun$receiveAndReply$1.applyOrElse(BlockManagerMasterEndpoint.scala:123)\n",
      "\tat org.apache.spark.rpc.netty.Inbox.$anonfun$process$1(Inbox.scala:103)\n",
      "\tat org.apache.spark.rpc.netty.Inbox.safelyCall(Inbox.scala:213)\n",
      "\tat org.apache.spark.rpc.netty.Inbox.process(Inbox.scala:100)\n",
      "\tat org.apache.spark.rpc.netty.MessageLoop.org$apache$spark$rpc$netty$MessageLoop$$receiveLoop(MessageLoop.scala:75)\n",
      "\tat org.apache.spark.rpc.netty.MessageLoop$$anon$1.run(MessageLoop.scala:41)\n",
      "\tat java.util.concurrent.Executors$RunnableAdapter.call(Executors.java:511)\n",
      "\tat java.util.concurrent.FutureTask.run(FutureTask.java:266)\n",
      "\t... 3 more\n",
      "Caused by: org.apache.spark.rpc.RpcEndpointNotFoundException: Cannot find endpoint: spark://CoarseGrainedScheduler@10.0.0.167:50332\n",
      "\tat org.apache.spark.rpc.netty.NettyRpcEnv.$anonfun$asyncSetupEndpointRefByURI$1(NettyRpcEnv.scala:148)\n",
      "\tat org.apache.spark.rpc.netty.NettyRpcEnv.$anonfun$asyncSetupEndpointRefByURI$1$adapted(NettyRpcEnv.scala:144)\n",
      "\tat scala.concurrent.Future.$anonfun$flatMap$1(Future.scala:307)\n",
      "\tat scala.concurrent.impl.Promise.$anonfun$transformWith$1(Promise.scala:41)\n",
      "\tat scala.concurrent.impl.CallbackRunnable.run(Promise.scala:64)\n",
      "\tat org.apache.spark.util.ThreadUtils$$anon$1.execute(ThreadUtils.scala:99)\n",
      "\tat scala.concurrent.impl.ExecutionContextImpl$$anon$4.execute(ExecutionContextImpl.scala:138)\n",
      "\tat scala.concurrent.impl.CallbackRunnable.executeWithValue(Promise.scala:72)\n",
      "\tat scala.concurrent.impl.Promise$DefaultPromise.dispatchOrAddCallback(Promise.scala:316)\n",
      "\tat scala.concurrent.impl.Promise$DefaultPromise.onComplete(Promise.scala:307)\n",
      "\tat scala.concurrent.impl.Promise.transformWith(Promise.scala:40)\n",
      "\tat scala.concurrent.impl.Promise.transformWith$(Promise.scala:38)\n",
      "\tat scala.concurrent.impl.Promise$DefaultPromise.transformWith(Promise.scala:187)\n",
      "\tat scala.concurrent.Future.flatMap(Future.scala:306)\n",
      "\tat scala.concurrent.Future.flatMap$(Future.scala:306)\n",
      "\tat scala.concurrent.impl.Promise$DefaultPromise.flatMap(Promise.scala:187)\n",
      "\tat org.apache.spark.rpc.netty.NettyRpcEnv.asyncSetupEndpointRefByURI(NettyRpcEnv.scala:150)\n",
      "\t... 19 more\n",
      "23/04/13 12:51:11 ERROR Inbox: Ignoring error\n",
      "org.apache.spark.SparkException: Exception thrown in awaitResult: \n",
      "\tat org.apache.spark.util.ThreadUtils$.awaitResult(ThreadUtils.scala:301)\n",
      "\tat org.apache.spark.rpc.RpcTimeout.awaitResult(RpcTimeout.scala:75)\n",
      "\tat org.apache.spark.rpc.RpcEnv.setupEndpointRefByURI(RpcEnv.scala:102)\n",
      "\tat org.apache.spark.rpc.RpcEnv.setupEndpointRef(RpcEnv.scala:110)\n",
      "\tat org.apache.spark.util.RpcUtils$.makeDriverRef(RpcUtils.scala:36)\n",
      "\tat org.apache.spark.storage.BlockManagerMasterEndpoint.driverEndpoint$lzycompute(BlockManagerMasterEndpoint.scala:117)\n",
      "\tat org.apache.spark.storage.BlockManagerMasterEndpoint.org$apache$spark$storage$BlockManagerMasterEndpoint$$driverEndpoint(BlockManagerMasterEndpoint.scala:116)\n",
      "\tat org.apache.spark.storage.BlockManagerMasterEndpoint.isExecutorAlive$lzycompute$1(BlockManagerMasterEndpoint.scala:593)\n",
      "\tat org.apache.spark.storage.BlockManagerMasterEndpoint.isExecutorAlive$1(BlockManagerMasterEndpoint.scala:592)\n",
      "\tat org.apache.spark.storage.BlockManagerMasterEndpoint.org$apache$spark$storage$BlockManagerMasterEndpoint$$register(BlockManagerMasterEndpoint.scala:630)\n",
      "\tat org.apache.spark.storage.BlockManagerMasterEndpoint$$anonfun$receiveAndReply$1.applyOrElse(BlockManagerMasterEndpoint.scala:123)\n",
      "\tat org.apache.spark.rpc.netty.Inbox.$anonfun$process$1(Inbox.scala:103)\n",
      "\tat org.apache.spark.rpc.netty.Inbox.safelyCall(Inbox.scala:213)\n",
      "\tat org.apache.spark.rpc.netty.Inbox.process(Inbox.scala:100)\n",
      "\tat org.apache.spark.rpc.netty.MessageLoop.org$apache$spark$rpc$netty$MessageLoop$$receiveLoop(MessageLoop.scala:75)\n",
      "\tat org.apache.spark.rpc.netty.MessageLoop$$anon$1.run(MessageLoop.scala:41)\n",
      "\tat java.util.concurrent.Executors$RunnableAdapter.call(Executors.java:511)\n",
      "\tat java.util.concurrent.FutureTask.run(FutureTask.java:266)\n",
      "\tat java.util.concurrent.ThreadPoolExecutor.runWorker(ThreadPoolExecutor.java:1149)\n",
      "\tat java.util.concurrent.ThreadPoolExecutor$Worker.run(ThreadPoolExecutor.java:624)\n",
      "\tat java.lang.Thread.run(Thread.java:750)\n",
      "Caused by: org.apache.spark.rpc.RpcEndpointNotFoundException: Cannot find endpoint: spark://CoarseGrainedScheduler@10.0.0.167:50332\n",
      "\tat org.apache.spark.rpc.netty.NettyRpcEnv.$anonfun$asyncSetupEndpointRefByURI$1(NettyRpcEnv.scala:148)\n",
      "\tat org.apache.spark.rpc.netty.NettyRpcEnv.$anonfun$asyncSetupEndpointRefByURI$1$adapted(NettyRpcEnv.scala:144)\n",
      "\tat scala.concurrent.Future.$anonfun$flatMap$1(Future.scala:307)\n",
      "\tat scala.concurrent.impl.Promise.$anonfun$transformWith$1(Promise.scala:41)\n",
      "\tat scala.concurrent.impl.CallbackRunnable.run(Promise.scala:64)\n",
      "\tat org.apache.spark.util.ThreadUtils$$anon$1.execute(ThreadUtils.scala:99)\n",
      "\tat scala.concurrent.impl.ExecutionContextImpl$$anon$4.execute(ExecutionContextImpl.scala:138)\n",
      "\tat scala.concurrent.impl.CallbackRunnable.executeWithValue(Promise.scala:72)\n",
      "\tat scala.concurrent.impl.Promise$DefaultPromise.$anonfun$tryComplete$1(Promise.scala:288)\n",
      "\tat scala.concurrent.impl.Promise$DefaultPromise.$anonfun$tryComplete$1$adapted(Promise.scala:288)\n",
      "\tat scala.concurrent.impl.Promise$DefaultPromise.tryComplete(Promise.scala:288)\n",
      "\tat scala.concurrent.Promise.complete(Promise.scala:53)\n",
      "\tat scala.concurrent.Promise.complete$(Promise.scala:52)\n",
      "\tat scala.concurrent.impl.Promise$DefaultPromise.complete(Promise.scala:187)\n",
      "\tat scala.concurrent.impl.Promise.$anonfun$transform$1(Promise.scala:33)\n",
      "\tat scala.concurrent.impl.CallbackRunnable.run(Promise.scala:64)\n",
      "\tat org.apache.spark.util.ThreadUtils$$anon$1.execute(ThreadUtils.scala:99)\n",
      "\tat scala.concurrent.impl.ExecutionContextImpl$$anon$4.execute(ExecutionContextImpl.scala:138)\n",
      "\tat scala.concurrent.impl.CallbackRunnable.executeWithValue(Promise.scala:72)\n",
      "\tat scala.concurrent.impl.Promise$DefaultPromise.$anonfun$tryComplete$1(Promise.scala:288)\n",
      "\tat scala.concurrent.impl.Promise$DefaultPromise.$anonfun$tryComplete$1$adapted(Promise.scala:288)\n",
      "\tat scala.concurrent.impl.Promise$DefaultPromise.tryComplete(Promise.scala:288)\n",
      "\tat scala.concurrent.Promise.complete(Promise.scala:53)\n",
      "\tat scala.concurrent.Promise.complete$(Promise.scala:52)\n",
      "\tat scala.concurrent.impl.Promise$DefaultPromise.complete(Promise.scala:187)\n",
      "\tat scala.concurrent.impl.Promise.$anonfun$transform$1(Promise.scala:33)\n",
      "\tat scala.concurrent.impl.CallbackRunnable.run(Promise.scala:64)\n",
      "\tat scala.concurrent.BatchingExecutor$Batch.processBatch$1(BatchingExecutor.scala:67)\n",
      "\tat scala.concurrent.BatchingExecutor$Batch.$anonfun$run$1(BatchingExecutor.scala:82)\n",
      "\tat scala.runtime.java8.JFunction0$mcV$sp.apply(JFunction0$mcV$sp.java:23)\n",
      "\tat scala.concurrent.BlockContext$.withBlockContext(BlockContext.scala:85)\n",
      "\tat scala.concurrent.BatchingExecutor$Batch.run(BatchingExecutor.scala:59)\n",
      "\tat scala.concurrent.Future$InternalCallbackExecutor$.unbatchedExecute(Future.scala:875)\n",
      "\tat scala.concurrent.BatchingExecutor.execute(BatchingExecutor.scala:110)\n",
      "\tat scala.concurrent.BatchingExecutor.execute$(BatchingExecutor.scala:107)\n",
      "\tat scala.concurrent.Future$InternalCallbackExecutor$.execute(Future.scala:873)\n",
      "\tat scala.concurrent.impl.CallbackRunnable.executeWithValue(Promise.scala:72)\n",
      "\tat scala.concurrent.impl.Promise$DefaultPromise.$anonfun$tryComplete$1(Promise.scala:288)\n",
      "\tat scala.concurrent.impl.Promise$DefaultPromise.$anonfun$tryComplete$1$adapted(Promise.scala:288)\n",
      "\tat scala.concurrent.impl.Promise$DefaultPromise.tryComplete(Promise.scala:288)\n",
      "\tat scala.concurrent.Promise.trySuccess(Promise.scala:94)\n",
      "\tat scala.concurrent.Promise.trySuccess$(Promise.scala:94)\n",
      "\tat scala.concurrent.impl.Promise$DefaultPromise.trySuccess(Promise.scala:187)\n",
      "\tat org.apache.spark.rpc.netty.NettyRpcEnv.onSuccess$1(NettyRpcEnv.scala:225)\n",
      "\tat org.apache.spark.rpc.netty.NettyRpcEnv.$anonfun$askAbortable$5(NettyRpcEnv.scala:239)\n",
      "\tat org.apache.spark.rpc.netty.NettyRpcEnv.$anonfun$askAbortable$5$adapted(NettyRpcEnv.scala:238)\n",
      "\tat scala.concurrent.impl.CallbackRunnable.run(Promise.scala:64)\n",
      "\tat org.apache.spark.util.ThreadUtils$$anon$1.execute(ThreadUtils.scala:99)\n",
      "\tat scala.concurrent.impl.ExecutionContextImpl$$anon$4.execute(ExecutionContextImpl.scala:138)\n",
      "\tat scala.concurrent.impl.CallbackRunnable.executeWithValue(Promise.scala:72)\n",
      "\tat scala.concurrent.impl.Promise$DefaultPromise.$anonfun$tryComplete$1(Promise.scala:288)\n",
      "\tat scala.concurrent.impl.Promise$DefaultPromise.$anonfun$tryComplete$1$adapted(Promise.scala:288)\n",
      "\tat scala.concurrent.impl.Promise$DefaultPromise.tryComplete(Promise.scala:288)\n",
      "\tat scala.concurrent.Promise.complete(Promise.scala:53)\n",
      "\tat scala.concurrent.Promise.complete$(Promise.scala:52)\n",
      "\tat scala.concurrent.impl.Promise$DefaultPromise.complete(Promise.scala:187)\n",
      "\tat scala.concurrent.Promise.success(Promise.scala:86)\n",
      "\tat scala.concurrent.Promise.success$(Promise.scala:86)\n",
      "\tat scala.concurrent.impl.Promise$DefaultPromise.success(Promise.scala:187)\n",
      "\tat org.apache.spark.rpc.netty.LocalNettyRpcCallContext.send(NettyRpcCallContext.scala:50)\n",
      "\tat org.apache.spark.rpc.netty.NettyRpcCallContext.reply(NettyRpcCallContext.scala:32)\n",
      "\tat org.apache.spark.rpc.netty.RpcEndpointVerifier$$anonfun$receiveAndReply$1.applyOrElse(RpcEndpointVerifier.scala:31)\n",
      "\tat org.apache.spark.rpc.netty.Inbox.$anonfun$process$1(Inbox.scala:103)\n",
      "\tat org.apache.spark.rpc.netty.Inbox.safelyCall(Inbox.scala:213)\n",
      "\tat org.apache.spark.rpc.netty.Inbox.process(Inbox.scala:100)\n",
      "\tat org.apache.spark.rpc.netty.MessageLoop.org$apache$spark$rpc$netty$MessageLoop$$receiveLoop(MessageLoop.scala:75)\n",
      "\tat org.apache.spark.rpc.netty.MessageLoop$$anon$1.run(MessageLoop.scala:41)\n",
      "\t... 3 more\n",
      "23/04/13 12:51:11 WARN Executor: Issue communicating with driver in heartbeater\n",
      "org.apache.spark.SparkException: Exception thrown in awaitResult: \n",
      "\tat org.apache.spark.util.ThreadUtils$.awaitResult(ThreadUtils.scala:301)\n",
      "\tat org.apache.spark.rpc.RpcTimeout.awaitResult(RpcTimeout.scala:75)\n",
      "\tat org.apache.spark.rpc.RpcEndpointRef.askSync(RpcEndpointRef.scala:103)\n",
      "\tat org.apache.spark.rpc.RpcEndpointRef.askSync(RpcEndpointRef.scala:87)\n",
      "\tat org.apache.spark.storage.BlockManagerMaster.registerBlockManager(BlockManagerMaster.scala:80)\n",
      "\tat org.apache.spark.storage.BlockManager.reregister(BlockManager.scala:643)\n",
      "\tat org.apache.spark.executor.Executor.reportHeartBeat(Executor.scala:1057)\n",
      "\tat org.apache.spark.executor.Executor.$anonfun$heartbeater$1(Executor.scala:238)\n",
      "\tat scala.runtime.java8.JFunction0$mcV$sp.apply(JFunction0$mcV$sp.java:23)\n",
      "\tat org.apache.spark.util.Utils$.logUncaughtExceptions(Utils.scala:2066)\n",
      "\tat org.apache.spark.Heartbeater$$anon$1.run(Heartbeater.scala:46)\n",
      "\tat java.util.concurrent.Executors$RunnableAdapter.call(Executors.java:511)\n",
      "\tat java.util.concurrent.FutureTask.runAndReset(FutureTask.java:308)\n",
      "\tat java.util.concurrent.ScheduledThreadPoolExecutor$ScheduledFutureTask.access$301(ScheduledThreadPoolExecutor.java:180)\n",
      "\tat java.util.concurrent.ScheduledThreadPoolExecutor$ScheduledFutureTask.run(ScheduledThreadPoolExecutor.java:294)\n",
      "\tat java.util.concurrent.ThreadPoolExecutor.runWorker(ThreadPoolExecutor.java:1149)\n",
      "\tat java.util.concurrent.ThreadPoolExecutor$Worker.run(ThreadPoolExecutor.java:624)\n",
      "\tat java.lang.Thread.run(Thread.java:750)\n",
      "Caused by: org.apache.spark.SparkException: Exception thrown in awaitResult: \n",
      "\tat org.apache.spark.util.ThreadUtils$.awaitResult(ThreadUtils.scala:301)\n",
      "\tat org.apache.spark.rpc.RpcTimeout.awaitResult(RpcTimeout.scala:75)\n",
      "\tat org.apache.spark.rpc.RpcEnv.setupEndpointRefByURI(RpcEnv.scala:102)\n",
      "\tat org.apache.spark.rpc.RpcEnv.setupEndpointRef(RpcEnv.scala:110)\n",
      "\tat org.apache.spark.util.RpcUtils$.makeDriverRef(RpcUtils.scala:36)\n",
      "\tat org.apache.spark.storage.BlockManagerMasterEndpoint.driverEndpoint$lzycompute(BlockManagerMasterEndpoint.scala:117)\n",
      "\tat org.apache.spark.storage.BlockManagerMasterEndpoint.org$apache$spark$storage$BlockManagerMasterEndpoint$$driverEndpoint(BlockManagerMasterEndpoint.scala:116)\n",
      "\tat org.apache.spark.storage.BlockManagerMasterEndpoint.isExecutorAlive$lzycompute$1(BlockManagerMasterEndpoint.scala:593)\n",
      "\tat org.apache.spark.storage.BlockManagerMasterEndpoint.isExecutorAlive$1(BlockManagerMasterEndpoint.scala:592)\n",
      "\tat org.apache.spark.storage.BlockManagerMasterEndpoint.org$apache$spark$storage$BlockManagerMasterEndpoint$$register(BlockManagerMasterEndpoint.scala:630)\n",
      "\tat org.apache.spark.storage.BlockManagerMasterEndpoint$$anonfun$receiveAndReply$1.applyOrElse(BlockManagerMasterEndpoint.scala:123)\n",
      "\tat org.apache.spark.rpc.netty.Inbox.$anonfun$process$1(Inbox.scala:103)\n",
      "\tat org.apache.spark.rpc.netty.Inbox.safelyCall(Inbox.scala:213)\n",
      "\tat org.apache.spark.rpc.netty.Inbox.process(Inbox.scala:100)\n",
      "\tat org.apache.spark.rpc.netty.MessageLoop.org$apache$spark$rpc$netty$MessageLoop$$receiveLoop(MessageLoop.scala:75)\n",
      "\tat org.apache.spark.rpc.netty.MessageLoop$$anon$1.run(MessageLoop.scala:41)\n",
      "\tat java.util.concurrent.Executors$RunnableAdapter.call(Executors.java:511)\n",
      "\tat java.util.concurrent.FutureTask.run(FutureTask.java:266)\n",
      "\t... 3 more\n",
      "Caused by: org.apache.spark.rpc.RpcEndpointNotFoundException: Cannot find endpoint: spark://CoarseGrainedScheduler@10.0.0.167:50332\n",
      "\tat org.apache.spark.rpc.netty.NettyRpcEnv.$anonfun$asyncSetupEndpointRefByURI$1(NettyRpcEnv.scala:148)\n",
      "\tat org.apache.spark.rpc.netty.NettyRpcEnv.$anonfun$asyncSetupEndpointRefByURI$1$adapted(NettyRpcEnv.scala:144)\n",
      "\tat scala.concurrent.Future.$anonfun$flatMap$1(Future.scala:307)\n",
      "\tat scala.concurrent.impl.Promise.$anonfun$transformWith$1(Promise.scala:41)\n",
      "\tat scala.concurrent.impl.CallbackRunnable.run(Promise.scala:64)\n",
      "\tat org.apache.spark.util.ThreadUtils$$anon$1.execute(ThreadUtils.scala:99)\n",
      "\tat scala.concurrent.impl.ExecutionContextImpl$$anon$4.execute(ExecutionContextImpl.scala:138)\n",
      "\tat scala.concurrent.impl.CallbackRunnable.executeWithValue(Promise.scala:72)\n",
      "\tat scala.concurrent.impl.Promise$DefaultPromise.$anonfun$tryComplete$1(Promise.scala:288)\n",
      "\tat scala.concurrent.impl.Promise$DefaultPromise.$anonfun$tryComplete$1$adapted(Promise.scala:288)\n",
      "\tat scala.concurrent.impl.Promise$DefaultPromise.tryComplete(Promise.scala:288)\n",
      "\tat scala.concurrent.Promise.complete(Promise.scala:53)\n",
      "\tat scala.concurrent.Promise.complete$(Promise.scala:52)\n",
      "\tat scala.concurrent.impl.Promise$DefaultPromise.complete(Promise.scala:187)\n",
      "\tat scala.concurrent.impl.Promise.$anonfun$transform$1(Promise.scala:33)\n",
      "\tat scala.concurrent.impl.CallbackRunnable.run(Promise.scala:64)\n",
      "\tat org.apache.spark.util.ThreadUtils$$anon$1.execute(ThreadUtils.scala:99)\n",
      "\tat scala.concurrent.impl.ExecutionContextImpl$$anon$4.execute(ExecutionContextImpl.scala:138)\n",
      "\tat scala.concurrent.impl.CallbackRunnable.executeWithValue(Promise.scala:72)\n",
      "\tat scala.concurrent.impl.Promise$DefaultPromise.$anonfun$tryComplete$1(Promise.scala:288)\n",
      "\tat scala.concurrent.impl.Promise$DefaultPromise.$anonfun$tryComplete$1$adapted(Promise.scala:288)\n",
      "\tat scala.concurrent.impl.Promise$DefaultPromise.tryComplete(Promise.scala:288)\n",
      "\tat scala.concurrent.Promise.complete(Promise.scala:53)\n",
      "\tat scala.concurrent.Promise.complete$(Promise.scala:52)\n",
      "\tat scala.concurrent.impl.Promise$DefaultPromise.complete(Promise.scala:187)\n",
      "\tat scala.concurrent.impl.Promise.$anonfun$transform$1(Promise.scala:33)\n",
      "\tat scala.concurrent.impl.CallbackRunnable.run(Promise.scala:64)\n",
      "\tat scala.concurrent.BatchingExecutor$Batch.processBatch$1(BatchingExecutor.scala:67)\n",
      "\tat scala.concurrent.BatchingExecutor$Batch.$anonfun$run$1(BatchingExecutor.scala:82)\n",
      "\tat scala.runtime.java8.JFunction0$mcV$sp.apply(JFunction0$mcV$sp.java:23)\n",
      "\tat scala.concurrent.BlockContext$.withBlockContext(BlockContext.scala:85)\n",
      "\tat scala.concurrent.BatchingExecutor$Batch.run(BatchingExecutor.scala:59)\n",
      "\tat scala.concurrent.Future$InternalCallbackExecutor$.unbatchedExecute(Future.scala:875)\n",
      "\tat scala.concurrent.BatchingExecutor.execute(BatchingExecutor.scala:110)\n",
      "\tat scala.concurrent.BatchingExecutor.execute$(BatchingExecutor.scala:107)\n",
      "\tat scala.concurrent.Future$InternalCallbackExecutor$.execute(Future.scala:873)\n",
      "\tat scala.concurrent.impl.CallbackRunnable.executeWithValue(Promise.scala:72)\n",
      "\tat scala.concurrent.impl.Promise$DefaultPromise.$anonfun$tryComplete$1(Promise.scala:288)\n",
      "\tat scala.concurrent.impl.Promise$DefaultPromise.$anonfun$tryComplete$1$adapted(Promise.scala:288)\n",
      "\tat scala.concurrent.impl.Promise$DefaultPromise.tryComplete(Promise.scala:288)\n",
      "\tat scala.concurrent.Promise.trySuccess(Promise.scala:94)\n",
      "\tat scala.concurrent.Promise.trySuccess$(Promise.scala:94)\n",
      "\tat scala.concurrent.impl.Promise$DefaultPromise.trySuccess(Promise.scala:187)\n",
      "\tat org.apache.spark.rpc.netty.NettyRpcEnv.onSuccess$1(NettyRpcEnv.scala:225)\n",
      "\tat org.apache.spark.rpc.netty.NettyRpcEnv.$anonfun$askAbortable$5(NettyRpcEnv.scala:239)\n",
      "\tat org.apache.spark.rpc.netty.NettyRpcEnv.$anonfun$askAbortable$5$adapted(NettyRpcEnv.scala:238)\n",
      "\tat scala.concurrent.impl.CallbackRunnable.run(Promise.scala:64)\n",
      "\tat org.apache.spark.util.ThreadUtils$$anon$1.execute(ThreadUtils.scala:99)\n",
      "\tat scala.concurrent.impl.ExecutionContextImpl$$anon$4.execute(ExecutionContextImpl.scala:138)\n",
      "\tat scala.concurrent.impl.CallbackRunnable.executeWithValue(Promise.scala:72)\n",
      "\tat scala.concurrent.impl.Promise$DefaultPromise.$anonfun$tryComplete$1(Promise.scala:288)\n",
      "\tat scala.concurrent.impl.Promise$DefaultPromise.$anonfun$tryComplete$1$adapted(Promise.scala:288)\n",
      "\tat scala.concurrent.impl.Promise$DefaultPromise.tryComplete(Promise.scala:288)\n",
      "\tat scala.concurrent.Promise.complete(Promise.scala:53)\n",
      "\tat scala.concurrent.Promise.complete$(Promise.scala:52)\n",
      "\tat scala.concurrent.impl.Promise$DefaultPromise.complete(Promise.scala:187)\n",
      "\tat scala.concurrent.Promise.success(Promise.scala:86)\n",
      "\tat scala.concurrent.Promise.success$(Promise.scala:86)\n",
      "\tat scala.concurrent.impl.Promise$DefaultPromise.success(Promise.scala:187)\n",
      "\tat org.apache.spark.rpc.netty.LocalNettyRpcCallContext.send(NettyRpcCallContext.scala:50)\n",
      "\tat org.apache.spark.rpc.netty.NettyRpcCallContext.reply(NettyRpcCallContext.scala:32)\n",
      "\tat org.apache.spark.rpc.netty.RpcEndpointVerifier$$anonfun$receiveAndReply$1.applyOrElse(RpcEndpointVerifier.scala:31)\n",
      "\tat org.apache.spark.rpc.netty.Inbox.$anonfun$process$1(Inbox.scala:103)\n",
      "\tat org.apache.spark.rpc.netty.Inbox.safelyCall(Inbox.scala:213)\n",
      "\tat org.apache.spark.rpc.netty.Inbox.process(Inbox.scala:100)\n",
      "\tat org.apache.spark.rpc.netty.MessageLoop.org$apache$spark$rpc$netty$MessageLoop$$receiveLoop(MessageLoop.scala:75)\n",
      "\tat org.apache.spark.rpc.netty.MessageLoop$$anon$1.run(MessageLoop.scala:41)\n",
      "\t... 3 more\n",
      "23/04/13 12:51:21 ERROR Inbox: Ignoring error\n",
      "org.apache.spark.SparkException: Exception thrown in awaitResult: \n",
      "\tat org.apache.spark.util.ThreadUtils$.awaitResult(ThreadUtils.scala:301)\n",
      "\tat org.apache.spark.rpc.RpcTimeout.awaitResult(RpcTimeout.scala:75)\n",
      "\tat org.apache.spark.rpc.RpcEnv.setupEndpointRefByURI(RpcEnv.scala:102)\n",
      "\tat org.apache.spark.rpc.RpcEnv.setupEndpointRef(RpcEnv.scala:110)\n",
      "\tat org.apache.spark.util.RpcUtils$.makeDriverRef(RpcUtils.scala:36)\n",
      "\tat org.apache.spark.storage.BlockManagerMasterEndpoint.driverEndpoint$lzycompute(BlockManagerMasterEndpoint.scala:117)\n",
      "\tat org.apache.spark.storage.BlockManagerMasterEndpoint.org$apache$spark$storage$BlockManagerMasterEndpoint$$driverEndpoint(BlockManagerMasterEndpoint.scala:116)\n",
      "\tat org.apache.spark.storage.BlockManagerMasterEndpoint.isExecutorAlive$lzycompute$1(BlockManagerMasterEndpoint.scala:593)\n",
      "\tat org.apache.spark.storage.BlockManagerMasterEndpoint.isExecutorAlive$1(BlockManagerMasterEndpoint.scala:592)\n",
      "\tat org.apache.spark.storage.BlockManagerMasterEndpoint.org$apache$spark$storage$BlockManagerMasterEndpoint$$register(BlockManagerMasterEndpoint.scala:630)\n",
      "\tat org.apache.spark.storage.BlockManagerMasterEndpoint$$anonfun$receiveAndReply$1.applyOrElse(BlockManagerMasterEndpoint.scala:123)\n",
      "\tat org.apache.spark.rpc.netty.Inbox.$anonfun$process$1(Inbox.scala:103)\n",
      "\tat org.apache.spark.rpc.netty.Inbox.safelyCall(Inbox.scala:213)\n",
      "\tat org.apache.spark.rpc.netty.Inbox.process(Inbox.scala:100)\n",
      "\tat org.apache.spark.rpc.netty.MessageLoop.org$apache$spark$rpc$netty$MessageLoop$$receiveLoop(MessageLoop.scala:75)\n",
      "\tat org.apache.spark.rpc.netty.MessageLoop$$anon$1.run(MessageLoop.scala:41)\n",
      "\tat java.util.concurrent.Executors$RunnableAdapter.call(Executors.java:511)\n",
      "\tat java.util.concurrent.FutureTask.run(FutureTask.java:266)\n",
      "\tat java.util.concurrent.ThreadPoolExecutor.runWorker(ThreadPoolExecutor.java:1149)\n",
      "\tat java.util.concurrent.ThreadPoolExecutor$Worker.run(ThreadPoolExecutor.java:624)\n",
      "\tat java.lang.Thread.run(Thread.java:750)\n",
      "Caused by: org.apache.spark.rpc.RpcEndpointNotFoundException: Cannot find endpoint: spark://CoarseGrainedScheduler@10.0.0.167:50332\n",
      "\tat org.apache.spark.rpc.netty.NettyRpcEnv.$anonfun$asyncSetupEndpointRefByURI$1(NettyRpcEnv.scala:148)\n",
      "\tat org.apache.spark.rpc.netty.NettyRpcEnv.$anonfun$asyncSetupEndpointRefByURI$1$adapted(NettyRpcEnv.scala:144)\n",
      "\tat scala.concurrent.Future.$anonfun$flatMap$1(Future.scala:307)\n",
      "\tat scala.concurrent.impl.Promise.$anonfun$transformWith$1(Promise.scala:41)\n",
      "\tat scala.concurrent.impl.CallbackRunnable.run(Promise.scala:64)\n",
      "\tat org.apache.spark.util.ThreadUtils$$anon$1.execute(ThreadUtils.scala:99)\n",
      "\tat scala.concurrent.impl.ExecutionContextImpl$$anon$4.execute(ExecutionContextImpl.scala:138)\n",
      "\tat scala.concurrent.impl.CallbackRunnable.executeWithValue(Promise.scala:72)\n",
      "\tat scala.concurrent.impl.Promise$DefaultPromise.dispatchOrAddCallback(Promise.scala:316)\n",
      "\tat scala.concurrent.impl.Promise$DefaultPromise.onComplete(Promise.scala:307)\n",
      "\tat scala.concurrent.impl.Promise.transformWith(Promise.scala:40)\n",
      "\tat scala.concurrent.impl.Promise.transformWith$(Promise.scala:38)\n",
      "\tat scala.concurrent.impl.Promise$DefaultPromise.transformWith(Promise.scala:187)\n",
      "\tat scala.concurrent.Future.flatMap(Future.scala:306)\n",
      "\tat scala.concurrent.Future.flatMap$(Future.scala:306)\n",
      "\tat scala.concurrent.impl.Promise$DefaultPromise.flatMap(Promise.scala:187)\n",
      "\tat org.apache.spark.rpc.netty.NettyRpcEnv.asyncSetupEndpointRefByURI(NettyRpcEnv.scala:150)\n",
      "\t... 19 more\n",
      "23/04/13 12:51:21 WARN Executor: Issue communicating with driver in heartbeater\n",
      "org.apache.spark.SparkException: Exception thrown in awaitResult: \n",
      "\tat org.apache.spark.util.ThreadUtils$.awaitResult(ThreadUtils.scala:301)\n",
      "\tat org.apache.spark.rpc.RpcTimeout.awaitResult(RpcTimeout.scala:75)\n",
      "\tat org.apache.spark.rpc.RpcEndpointRef.askSync(RpcEndpointRef.scala:103)\n",
      "\tat org.apache.spark.rpc.RpcEndpointRef.askSync(RpcEndpointRef.scala:87)\n",
      "\tat org.apache.spark.storage.BlockManagerMaster.registerBlockManager(BlockManagerMaster.scala:80)\n",
      "\tat org.apache.spark.storage.BlockManager.reregister(BlockManager.scala:643)\n",
      "\tat org.apache.spark.executor.Executor.reportHeartBeat(Executor.scala:1057)\n",
      "\tat org.apache.spark.executor.Executor.$anonfun$heartbeater$1(Executor.scala:238)\n",
      "\tat scala.runtime.java8.JFunction0$mcV$sp.apply(JFunction0$mcV$sp.java:23)\n",
      "\tat org.apache.spark.util.Utils$.logUncaughtExceptions(Utils.scala:2066)\n",
      "\tat org.apache.spark.Heartbeater$$anon$1.run(Heartbeater.scala:46)\n",
      "\tat java.util.concurrent.Executors$RunnableAdapter.call(Executors.java:511)\n",
      "\tat java.util.concurrent.FutureTask.runAndReset(FutureTask.java:308)\n",
      "\tat java.util.concurrent.ScheduledThreadPoolExecutor$ScheduledFutureTask.access$301(ScheduledThreadPoolExecutor.java:180)\n",
      "\tat java.util.concurrent.ScheduledThreadPoolExecutor$ScheduledFutureTask.run(ScheduledThreadPoolExecutor.java:294)\n",
      "\tat java.util.concurrent.ThreadPoolExecutor.runWorker(ThreadPoolExecutor.java:1149)\n",
      "\tat java.util.concurrent.ThreadPoolExecutor$Worker.run(ThreadPoolExecutor.java:624)\n",
      "\tat java.lang.Thread.run(Thread.java:750)\n",
      "Caused by: org.apache.spark.SparkException: Exception thrown in awaitResult: \n",
      "\tat org.apache.spark.util.ThreadUtils$.awaitResult(ThreadUtils.scala:301)\n",
      "\tat org.apache.spark.rpc.RpcTimeout.awaitResult(RpcTimeout.scala:75)\n",
      "\tat org.apache.spark.rpc.RpcEnv.setupEndpointRefByURI(RpcEnv.scala:102)\n",
      "\tat org.apache.spark.rpc.RpcEnv.setupEndpointRef(RpcEnv.scala:110)\n",
      "\tat org.apache.spark.util.RpcUtils$.makeDriverRef(RpcUtils.scala:36)\n",
      "\tat org.apache.spark.storage.BlockManagerMasterEndpoint.driverEndpoint$lzycompute(BlockManagerMasterEndpoint.scala:117)\n",
      "\tat org.apache.spark.storage.BlockManagerMasterEndpoint.org$apache$spark$storage$BlockManagerMasterEndpoint$$driverEndpoint(BlockManagerMasterEndpoint.scala:116)\n",
      "\tat org.apache.spark.storage.BlockManagerMasterEndpoint.isExecutorAlive$lzycompute$1(BlockManagerMasterEndpoint.scala:593)\n",
      "\tat org.apache.spark.storage.BlockManagerMasterEndpoint.isExecutorAlive$1(BlockManagerMasterEndpoint.scala:592)\n",
      "\tat org.apache.spark.storage.BlockManagerMasterEndpoint.org$apache$spark$storage$BlockManagerMasterEndpoint$$register(BlockManagerMasterEndpoint.scala:630)\n",
      "\tat org.apache.spark.storage.BlockManagerMasterEndpoint$$anonfun$receiveAndReply$1.applyOrElse(BlockManagerMasterEndpoint.scala:123)\n",
      "\tat org.apache.spark.rpc.netty.Inbox.$anonfun$process$1(Inbox.scala:103)\n",
      "\tat org.apache.spark.rpc.netty.Inbox.safelyCall(Inbox.scala:213)\n",
      "\tat org.apache.spark.rpc.netty.Inbox.process(Inbox.scala:100)\n",
      "\tat org.apache.spark.rpc.netty.MessageLoop.org$apache$spark$rpc$netty$MessageLoop$$receiveLoop(MessageLoop.scala:75)\n",
      "\tat org.apache.spark.rpc.netty.MessageLoop$$anon$1.run(MessageLoop.scala:41)\n",
      "\tat java.util.concurrent.Executors$RunnableAdapter.call(Executors.java:511)\n",
      "\tat java.util.concurrent.FutureTask.run(FutureTask.java:266)\n",
      "\t... 3 more\n",
      "Caused by: org.apache.spark.rpc.RpcEndpointNotFoundException: Cannot find endpoint: spark://CoarseGrainedScheduler@10.0.0.167:50332\n",
      "\tat org.apache.spark.rpc.netty.NettyRpcEnv.$anonfun$asyncSetupEndpointRefByURI$1(NettyRpcEnv.scala:148)\n",
      "\tat org.apache.spark.rpc.netty.NettyRpcEnv.$anonfun$asyncSetupEndpointRefByURI$1$adapted(NettyRpcEnv.scala:144)\n",
      "\tat scala.concurrent.Future.$anonfun$flatMap$1(Future.scala:307)\n",
      "\tat scala.concurrent.impl.Promise.$anonfun$transformWith$1(Promise.scala:41)\n",
      "\tat scala.concurrent.impl.CallbackRunnable.run(Promise.scala:64)\n",
      "\tat org.apache.spark.util.ThreadUtils$$anon$1.execute(ThreadUtils.scala:99)\n",
      "\tat scala.concurrent.impl.ExecutionContextImpl$$anon$4.execute(ExecutionContextImpl.scala:138)\n",
      "\tat scala.concurrent.impl.CallbackRunnable.executeWithValue(Promise.scala:72)\n",
      "\tat scala.concurrent.impl.Promise$DefaultPromise.dispatchOrAddCallback(Promise.scala:316)\n",
      "\tat scala.concurrent.impl.Promise$DefaultPromise.onComplete(Promise.scala:307)\n",
      "\tat scala.concurrent.impl.Promise.transformWith(Promise.scala:40)\n",
      "\tat scala.concurrent.impl.Promise.transformWith$(Promise.scala:38)\n",
      "\tat scala.concurrent.impl.Promise$DefaultPromise.transformWith(Promise.scala:187)\n",
      "\tat scala.concurrent.Future.flatMap(Future.scala:306)\n",
      "\tat scala.concurrent.Future.flatMap$(Future.scala:306)\n",
      "\tat scala.concurrent.impl.Promise$DefaultPromise.flatMap(Promise.scala:187)\n",
      "\tat org.apache.spark.rpc.netty.NettyRpcEnv.asyncSetupEndpointRefByURI(NettyRpcEnv.scala:150)\n",
      "\t... 19 more\n",
      "23/04/13 12:51:31 ERROR Inbox: Ignoring error\n",
      "org.apache.spark.SparkException: Exception thrown in awaitResult: \n",
      "\tat org.apache.spark.util.ThreadUtils$.awaitResult(ThreadUtils.scala:301)\n",
      "\tat org.apache.spark.rpc.RpcTimeout.awaitResult(RpcTimeout.scala:75)\n",
      "\tat org.apache.spark.rpc.RpcEnv.setupEndpointRefByURI(RpcEnv.scala:102)\n",
      "\tat org.apache.spark.rpc.RpcEnv.setupEndpointRef(RpcEnv.scala:110)\n",
      "\tat org.apache.spark.util.RpcUtils$.makeDriverRef(RpcUtils.scala:36)\n",
      "\tat org.apache.spark.storage.BlockManagerMasterEndpoint.driverEndpoint$lzycompute(BlockManagerMasterEndpoint.scala:117)\n",
      "\tat org.apache.spark.storage.BlockManagerMasterEndpoint.org$apache$spark$storage$BlockManagerMasterEndpoint$$driverEndpoint(BlockManagerMasterEndpoint.scala:116)\n",
      "\tat org.apache.spark.storage.BlockManagerMasterEndpoint.isExecutorAlive$lzycompute$1(BlockManagerMasterEndpoint.scala:593)\n",
      "\tat org.apache.spark.storage.BlockManagerMasterEndpoint.isExecutorAlive$1(BlockManagerMasterEndpoint.scala:592)\n",
      "\tat org.apache.spark.storage.BlockManagerMasterEndpoint.org$apache$spark$storage$BlockManagerMasterEndpoint$$register(BlockManagerMasterEndpoint.scala:630)\n",
      "\tat org.apache.spark.storage.BlockManagerMasterEndpoint$$anonfun$receiveAndReply$1.applyOrElse(BlockManagerMasterEndpoint.scala:123)\n",
      "\tat org.apache.spark.rpc.netty.Inbox.$anonfun$process$1(Inbox.scala:103)\n",
      "\tat org.apache.spark.rpc.netty.Inbox.safelyCall(Inbox.scala:213)\n",
      "\tat org.apache.spark.rpc.netty.Inbox.process(Inbox.scala:100)\n",
      "\tat org.apache.spark.rpc.netty.MessageLoop.org$apache$spark$rpc$netty$MessageLoop$$receiveLoop(MessageLoop.scala:75)\n",
      "\tat org.apache.spark.rpc.netty.MessageLoop$$anon$1.run(MessageLoop.scala:41)\n",
      "\tat java.util.concurrent.Executors$RunnableAdapter.call(Executors.java:511)\n",
      "\tat java.util.concurrent.FutureTask.run(FutureTask.java:266)\n",
      "\tat java.util.concurrent.ThreadPoolExecutor.runWorker(ThreadPoolExecutor.java:1149)\n",
      "\tat java.util.concurrent.ThreadPoolExecutor$Worker.run(ThreadPoolExecutor.java:624)\n",
      "\tat java.lang.Thread.run(Thread.java:750)\n",
      "Caused by: org.apache.spark.rpc.RpcEndpointNotFoundException: Cannot find endpoint: spark://CoarseGrainedScheduler@10.0.0.167:50332\n",
      "\tat org.apache.spark.rpc.netty.NettyRpcEnv.$anonfun$asyncSetupEndpointRefByURI$1(NettyRpcEnv.scala:148)\n",
      "\tat org.apache.spark.rpc.netty.NettyRpcEnv.$anonfun$asyncSetupEndpointRefByURI$1$adapted(NettyRpcEnv.scala:144)\n",
      "\tat scala.concurrent.Future.$anonfun$flatMap$1(Future.scala:307)\n",
      "\tat scala.concurrent.impl.Promise.$anonfun$transformWith$1(Promise.scala:41)\n",
      "\tat scala.concurrent.impl.CallbackRunnable.run(Promise.scala:64)\n",
      "\tat org.apache.spark.util.ThreadUtils$$anon$1.execute(ThreadUtils.scala:99)\n",
      "\tat scala.concurrent.impl.ExecutionContextImpl$$anon$4.execute(ExecutionContextImpl.scala:138)\n",
      "\tat scala.concurrent.impl.CallbackRunnable.executeWithValue(Promise.scala:72)\n",
      "\tat scala.concurrent.impl.Promise$DefaultPromise.$anonfun$tryComplete$1(Promise.scala:288)\n",
      "\tat scala.concurrent.impl.Promise$DefaultPromise.$anonfun$tryComplete$1$adapted(Promise.scala:288)\n",
      "\tat scala.concurrent.impl.Promise$DefaultPromise.tryComplete(Promise.scala:288)\n",
      "\tat scala.concurrent.Promise.complete(Promise.scala:53)\n",
      "\tat scala.concurrent.Promise.complete$(Promise.scala:52)\n",
      "\tat scala.concurrent.impl.Promise$DefaultPromise.complete(Promise.scala:187)\n",
      "\tat scala.concurrent.impl.Promise.$anonfun$transform$1(Promise.scala:33)\n",
      "\tat scala.concurrent.impl.CallbackRunnable.run(Promise.scala:64)\n",
      "\tat org.apache.spark.util.ThreadUtils$$anon$1.execute(ThreadUtils.scala:99)\n",
      "\tat scala.concurrent.impl.ExecutionContextImpl$$anon$4.execute(ExecutionContextImpl.scala:138)\n",
      "\tat scala.concurrent.impl.CallbackRunnable.executeWithValue(Promise.scala:72)\n",
      "\tat scala.concurrent.impl.Promise$DefaultPromise.$anonfun$tryComplete$1(Promise.scala:288)\n",
      "\tat scala.concurrent.impl.Promise$DefaultPromise.$anonfun$tryComplete$1$adapted(Promise.scala:288)\n",
      "\tat scala.concurrent.impl.Promise$DefaultPromise.tryComplete(Promise.scala:288)\n",
      "\tat scala.concurrent.Promise.complete(Promise.scala:53)\n",
      "\tat scala.concurrent.Promise.complete$(Promise.scala:52)\n",
      "\tat scala.concurrent.impl.Promise$DefaultPromise.complete(Promise.scala:187)\n",
      "\tat scala.concurrent.impl.Promise.$anonfun$transform$1(Promise.scala:33)\n",
      "\tat scala.concurrent.impl.CallbackRunnable.run(Promise.scala:64)\n",
      "\tat scala.concurrent.BatchingExecutor$Batch.processBatch$1(BatchingExecutor.scala:67)\n",
      "\tat scala.concurrent.BatchingExecutor$Batch.$anonfun$run$1(BatchingExecutor.scala:82)\n",
      "\tat scala.runtime.java8.JFunction0$mcV$sp.apply(JFunction0$mcV$sp.java:23)\n",
      "\tat scala.concurrent.BlockContext$.withBlockContext(BlockContext.scala:85)\n",
      "\tat scala.concurrent.BatchingExecutor$Batch.run(BatchingExecutor.scala:59)\n",
      "\tat scala.concurrent.Future$InternalCallbackExecutor$.unbatchedExecute(Future.scala:875)\n",
      "\tat scala.concurrent.BatchingExecutor.execute(BatchingExecutor.scala:110)\n",
      "\tat scala.concurrent.BatchingExecutor.execute$(BatchingExecutor.scala:107)\n",
      "\tat scala.concurrent.Future$InternalCallbackExecutor$.execute(Future.scala:873)\n",
      "\tat scala.concurrent.impl.CallbackRunnable.executeWithValue(Promise.scala:72)\n",
      "\tat scala.concurrent.impl.Promise$DefaultPromise.$anonfun$tryComplete$1(Promise.scala:288)\n",
      "\tat scala.concurrent.impl.Promise$DefaultPromise.$anonfun$tryComplete$1$adapted(Promise.scala:288)\n",
      "\tat scala.concurrent.impl.Promise$DefaultPromise.tryComplete(Promise.scala:288)\n",
      "\tat scala.concurrent.Promise.trySuccess(Promise.scala:94)\n",
      "\tat scala.concurrent.Promise.trySuccess$(Promise.scala:94)\n",
      "\tat scala.concurrent.impl.Promise$DefaultPromise.trySuccess(Promise.scala:187)\n",
      "\tat org.apache.spark.rpc.netty.NettyRpcEnv.onSuccess$1(NettyRpcEnv.scala:225)\n",
      "\tat org.apache.spark.rpc.netty.NettyRpcEnv.$anonfun$askAbortable$5(NettyRpcEnv.scala:239)\n",
      "\tat org.apache.spark.rpc.netty.NettyRpcEnv.$anonfun$askAbortable$5$adapted(NettyRpcEnv.scala:238)\n",
      "\tat scala.concurrent.impl.CallbackRunnable.run(Promise.scala:64)\n",
      "\tat org.apache.spark.util.ThreadUtils$$anon$1.execute(ThreadUtils.scala:99)\n",
      "\tat scala.concurrent.impl.ExecutionContextImpl$$anon$4.execute(ExecutionContextImpl.scala:138)\n",
      "\tat scala.concurrent.impl.CallbackRunnable.executeWithValue(Promise.scala:72)\n",
      "\tat scala.concurrent.impl.Promise$DefaultPromise.$anonfun$tryComplete$1(Promise.scala:288)\n",
      "\tat scala.concurrent.impl.Promise$DefaultPromise.$anonfun$tryComplete$1$adapted(Promise.scala:288)\n",
      "\tat scala.concurrent.impl.Promise$DefaultPromise.tryComplete(Promise.scala:288)\n",
      "\tat scala.concurrent.Promise.complete(Promise.scala:53)\n",
      "\tat scala.concurrent.Promise.complete$(Promise.scala:52)\n",
      "\tat scala.concurrent.impl.Promise$DefaultPromise.complete(Promise.scala:187)\n",
      "\tat scala.concurrent.Promise.success(Promise.scala:86)\n",
      "\tat scala.concurrent.Promise.success$(Promise.scala:86)\n",
      "\tat scala.concurrent.impl.Promise$DefaultPromise.success(Promise.scala:187)\n",
      "\tat org.apache.spark.rpc.netty.LocalNettyRpcCallContext.send(NettyRpcCallContext.scala:50)\n",
      "\tat org.apache.spark.rpc.netty.NettyRpcCallContext.reply(NettyRpcCallContext.scala:32)\n",
      "\tat org.apache.spark.rpc.netty.RpcEndpointVerifier$$anonfun$receiveAndReply$1.applyOrElse(RpcEndpointVerifier.scala:31)\n",
      "\tat org.apache.spark.rpc.netty.Inbox.$anonfun$process$1(Inbox.scala:103)\n",
      "\tat org.apache.spark.rpc.netty.Inbox.safelyCall(Inbox.scala:213)\n",
      "\tat org.apache.spark.rpc.netty.Inbox.process(Inbox.scala:100)\n",
      "\tat org.apache.spark.rpc.netty.MessageLoop.org$apache$spark$rpc$netty$MessageLoop$$receiveLoop(MessageLoop.scala:75)\n",
      "\tat org.apache.spark.rpc.netty.MessageLoop$$anon$1.run(MessageLoop.scala:41)\n",
      "\t... 3 more\n",
      "23/04/13 12:51:31 WARN Executor: Issue communicating with driver in heartbeater\n",
      "org.apache.spark.SparkException: Exception thrown in awaitResult: \n",
      "\tat org.apache.spark.util.ThreadUtils$.awaitResult(ThreadUtils.scala:301)\n",
      "\tat org.apache.spark.rpc.RpcTimeout.awaitResult(RpcTimeout.scala:75)\n",
      "\tat org.apache.spark.rpc.RpcEndpointRef.askSync(RpcEndpointRef.scala:103)\n",
      "\tat org.apache.spark.rpc.RpcEndpointRef.askSync(RpcEndpointRef.scala:87)\n",
      "\tat org.apache.spark.storage.BlockManagerMaster.registerBlockManager(BlockManagerMaster.scala:80)\n",
      "\tat org.apache.spark.storage.BlockManager.reregister(BlockManager.scala:643)\n",
      "\tat org.apache.spark.executor.Executor.reportHeartBeat(Executor.scala:1057)\n",
      "\tat org.apache.spark.executor.Executor.$anonfun$heartbeater$1(Executor.scala:238)\n",
      "\tat scala.runtime.java8.JFunction0$mcV$sp.apply(JFunction0$mcV$sp.java:23)\n",
      "\tat org.apache.spark.util.Utils$.logUncaughtExceptions(Utils.scala:2066)\n",
      "\tat org.apache.spark.Heartbeater$$anon$1.run(Heartbeater.scala:46)\n",
      "\tat java.util.concurrent.Executors$RunnableAdapter.call(Executors.java:511)\n",
      "\tat java.util.concurrent.FutureTask.runAndReset(FutureTask.java:308)\n",
      "\tat java.util.concurrent.ScheduledThreadPoolExecutor$ScheduledFutureTask.access$301(ScheduledThreadPoolExecutor.java:180)\n",
      "\tat java.util.concurrent.ScheduledThreadPoolExecutor$ScheduledFutureTask.run(ScheduledThreadPoolExecutor.java:294)\n",
      "\tat java.util.concurrent.ThreadPoolExecutor.runWorker(ThreadPoolExecutor.java:1149)\n",
      "\tat java.util.concurrent.ThreadPoolExecutor$Worker.run(ThreadPoolExecutor.java:624)\n",
      "\tat java.lang.Thread.run(Thread.java:750)\n",
      "Caused by: org.apache.spark.SparkException: Exception thrown in awaitResult: \n",
      "\tat org.apache.spark.util.ThreadUtils$.awaitResult(ThreadUtils.scala:301)\n",
      "\tat org.apache.spark.rpc.RpcTimeout.awaitResult(RpcTimeout.scala:75)\n",
      "\tat org.apache.spark.rpc.RpcEnv.setupEndpointRefByURI(RpcEnv.scala:102)\n",
      "\tat org.apache.spark.rpc.RpcEnv.setupEndpointRef(RpcEnv.scala:110)\n",
      "\tat org.apache.spark.util.RpcUtils$.makeDriverRef(RpcUtils.scala:36)\n",
      "\tat org.apache.spark.storage.BlockManagerMasterEndpoint.driverEndpoint$lzycompute(BlockManagerMasterEndpoint.scala:117)\n",
      "\tat org.apache.spark.storage.BlockManagerMasterEndpoint.org$apache$spark$storage$BlockManagerMasterEndpoint$$driverEndpoint(BlockManagerMasterEndpoint.scala:116)\n",
      "\tat org.apache.spark.storage.BlockManagerMasterEndpoint.isExecutorAlive$lzycompute$1(BlockManagerMasterEndpoint.scala:593)\n",
      "\tat org.apache.spark.storage.BlockManagerMasterEndpoint.isExecutorAlive$1(BlockManagerMasterEndpoint.scala:592)\n",
      "\tat org.apache.spark.storage.BlockManagerMasterEndpoint.org$apache$spark$storage$BlockManagerMasterEndpoint$$register(BlockManagerMasterEndpoint.scala:630)\n",
      "\tat org.apache.spark.storage.BlockManagerMasterEndpoint$$anonfun$receiveAndReply$1.applyOrElse(BlockManagerMasterEndpoint.scala:123)\n",
      "\tat org.apache.spark.rpc.netty.Inbox.$anonfun$process$1(Inbox.scala:103)\n",
      "\tat org.apache.spark.rpc.netty.Inbox.safelyCall(Inbox.scala:213)\n",
      "\tat org.apache.spark.rpc.netty.Inbox.process(Inbox.scala:100)\n",
      "\tat org.apache.spark.rpc.netty.MessageLoop.org$apache$spark$rpc$netty$MessageLoop$$receiveLoop(MessageLoop.scala:75)\n",
      "\tat org.apache.spark.rpc.netty.MessageLoop$$anon$1.run(MessageLoop.scala:41)\n",
      "\tat java.util.concurrent.Executors$RunnableAdapter.call(Executors.java:511)\n",
      "\tat java.util.concurrent.FutureTask.run(FutureTask.java:266)\n",
      "\t... 3 more\n",
      "Caused by: org.apache.spark.rpc.RpcEndpointNotFoundException: Cannot find endpoint: spark://CoarseGrainedScheduler@10.0.0.167:50332\n",
      "\tat org.apache.spark.rpc.netty.NettyRpcEnv.$anonfun$asyncSetupEndpointRefByURI$1(NettyRpcEnv.scala:148)\n",
      "\tat org.apache.spark.rpc.netty.NettyRpcEnv.$anonfun$asyncSetupEndpointRefByURI$1$adapted(NettyRpcEnv.scala:144)\n",
      "\tat scala.concurrent.Future.$anonfun$flatMap$1(Future.scala:307)\n",
      "\tat scala.concurrent.impl.Promise.$anonfun$transformWith$1(Promise.scala:41)\n",
      "\tat scala.concurrent.impl.CallbackRunnable.run(Promise.scala:64)\n",
      "\tat org.apache.spark.util.ThreadUtils$$anon$1.execute(ThreadUtils.scala:99)\n",
      "\tat scala.concurrent.impl.ExecutionContextImpl$$anon$4.execute(ExecutionContextImpl.scala:138)\n",
      "\tat scala.concurrent.impl.CallbackRunnable.executeWithValue(Promise.scala:72)\n",
      "\tat scala.concurrent.impl.Promise$DefaultPromise.$anonfun$tryComplete$1(Promise.scala:288)\n",
      "\tat scala.concurrent.impl.Promise$DefaultPromise.$anonfun$tryComplete$1$adapted(Promise.scala:288)\n",
      "\tat scala.concurrent.impl.Promise$DefaultPromise.tryComplete(Promise.scala:288)\n",
      "\tat scala.concurrent.Promise.complete(Promise.scala:53)\n",
      "\tat scala.concurrent.Promise.complete$(Promise.scala:52)\n",
      "\tat scala.concurrent.impl.Promise$DefaultPromise.complete(Promise.scala:187)\n",
      "\tat scala.concurrent.impl.Promise.$anonfun$transform$1(Promise.scala:33)\n",
      "\tat scala.concurrent.impl.CallbackRunnable.run(Promise.scala:64)\n",
      "\tat org.apache.spark.util.ThreadUtils$$anon$1.execute(ThreadUtils.scala:99)\n",
      "\tat scala.concurrent.impl.ExecutionContextImpl$$anon$4.execute(ExecutionContextImpl.scala:138)\n",
      "\tat scala.concurrent.impl.CallbackRunnable.executeWithValue(Promise.scala:72)\n",
      "\tat scala.concurrent.impl.Promise$DefaultPromise.$anonfun$tryComplete$1(Promise.scala:288)\n",
      "\tat scala.concurrent.impl.Promise$DefaultPromise.$anonfun$tryComplete$1$adapted(Promise.scala:288)\n",
      "\tat scala.concurrent.impl.Promise$DefaultPromise.tryComplete(Promise.scala:288)\n",
      "\tat scala.concurrent.Promise.complete(Promise.scala:53)\n",
      "\tat scala.concurrent.Promise.complete$(Promise.scala:52)\n",
      "\tat scala.concurrent.impl.Promise$DefaultPromise.complete(Promise.scala:187)\n",
      "\tat scala.concurrent.impl.Promise.$anonfun$transform$1(Promise.scala:33)\n",
      "\tat scala.concurrent.impl.CallbackRunnable.run(Promise.scala:64)\n",
      "\tat scala.concurrent.BatchingExecutor$Batch.processBatch$1(BatchingExecutor.scala:67)\n",
      "\tat scala.concurrent.BatchingExecutor$Batch.$anonfun$run$1(BatchingExecutor.scala:82)\n",
      "\tat scala.runtime.java8.JFunction0$mcV$sp.apply(JFunction0$mcV$sp.java:23)\n",
      "\tat scala.concurrent.BlockContext$.withBlockContext(BlockContext.scala:85)\n",
      "\tat scala.concurrent.BatchingExecutor$Batch.run(BatchingExecutor.scala:59)\n",
      "\tat scala.concurrent.Future$InternalCallbackExecutor$.unbatchedExecute(Future.scala:875)\n",
      "\tat scala.concurrent.BatchingExecutor.execute(BatchingExecutor.scala:110)\n",
      "\tat scala.concurrent.BatchingExecutor.execute$(BatchingExecutor.scala:107)\n",
      "\tat scala.concurrent.Future$InternalCallbackExecutor$.execute(Future.scala:873)\n",
      "\tat scala.concurrent.impl.CallbackRunnable.executeWithValue(Promise.scala:72)\n",
      "\tat scala.concurrent.impl.Promise$DefaultPromise.$anonfun$tryComplete$1(Promise.scala:288)\n",
      "\tat scala.concurrent.impl.Promise$DefaultPromise.$anonfun$tryComplete$1$adapted(Promise.scala:288)\n",
      "\tat scala.concurrent.impl.Promise$DefaultPromise.tryComplete(Promise.scala:288)\n",
      "\tat scala.concurrent.Promise.trySuccess(Promise.scala:94)\n",
      "\tat scala.concurrent.Promise.trySuccess$(Promise.scala:94)\n",
      "\tat scala.concurrent.impl.Promise$DefaultPromise.trySuccess(Promise.scala:187)\n",
      "\tat org.apache.spark.rpc.netty.NettyRpcEnv.onSuccess$1(NettyRpcEnv.scala:225)\n",
      "\tat org.apache.spark.rpc.netty.NettyRpcEnv.$anonfun$askAbortable$5(NettyRpcEnv.scala:239)\n",
      "\tat org.apache.spark.rpc.netty.NettyRpcEnv.$anonfun$askAbortable$5$adapted(NettyRpcEnv.scala:238)\n",
      "\tat scala.concurrent.impl.CallbackRunnable.run(Promise.scala:64)\n",
      "\tat org.apache.spark.util.ThreadUtils$$anon$1.execute(ThreadUtils.scala:99)\n",
      "\tat scala.concurrent.impl.ExecutionContextImpl$$anon$4.execute(ExecutionContextImpl.scala:138)\n",
      "\tat scala.concurrent.impl.CallbackRunnable.executeWithValue(Promise.scala:72)\n",
      "\tat scala.concurrent.impl.Promise$DefaultPromise.$anonfun$tryComplete$1(Promise.scala:288)\n",
      "\tat scala.concurrent.impl.Promise$DefaultPromise.$anonfun$tryComplete$1$adapted(Promise.scala:288)\n",
      "\tat scala.concurrent.impl.Promise$DefaultPromise.tryComplete(Promise.scala:288)\n",
      "\tat scala.concurrent.Promise.complete(Promise.scala:53)\n",
      "\tat scala.concurrent.Promise.complete$(Promise.scala:52)\n",
      "\tat scala.concurrent.impl.Promise$DefaultPromise.complete(Promise.scala:187)\n",
      "\tat scala.concurrent.Promise.success(Promise.scala:86)\n",
      "\tat scala.concurrent.Promise.success$(Promise.scala:86)\n",
      "\tat scala.concurrent.impl.Promise$DefaultPromise.success(Promise.scala:187)\n",
      "\tat org.apache.spark.rpc.netty.LocalNettyRpcCallContext.send(NettyRpcCallContext.scala:50)\n",
      "\tat org.apache.spark.rpc.netty.NettyRpcCallContext.reply(NettyRpcCallContext.scala:32)\n",
      "\tat org.apache.spark.rpc.netty.RpcEndpointVerifier$$anonfun$receiveAndReply$1.applyOrElse(RpcEndpointVerifier.scala:31)\n",
      "\tat org.apache.spark.rpc.netty.Inbox.$anonfun$process$1(Inbox.scala:103)\n",
      "\tat org.apache.spark.rpc.netty.Inbox.safelyCall(Inbox.scala:213)\n",
      "\tat org.apache.spark.rpc.netty.Inbox.process(Inbox.scala:100)\n",
      "\tat org.apache.spark.rpc.netty.MessageLoop.org$apache$spark$rpc$netty$MessageLoop$$receiveLoop(MessageLoop.scala:75)\n",
      "\tat org.apache.spark.rpc.netty.MessageLoop$$anon$1.run(MessageLoop.scala:41)\n",
      "\t... 3 more\n",
      "23/04/13 12:51:41 ERROR Inbox: Ignoring error\n",
      "org.apache.spark.SparkException: Exception thrown in awaitResult: \n",
      "\tat org.apache.spark.util.ThreadUtils$.awaitResult(ThreadUtils.scala:301)\n",
      "\tat org.apache.spark.rpc.RpcTimeout.awaitResult(RpcTimeout.scala:75)\n",
      "\tat org.apache.spark.rpc.RpcEnv.setupEndpointRefByURI(RpcEnv.scala:102)\n",
      "\tat org.apache.spark.rpc.RpcEnv.setupEndpointRef(RpcEnv.scala:110)\n",
      "\tat org.apache.spark.util.RpcUtils$.makeDriverRef(RpcUtils.scala:36)\n",
      "\tat org.apache.spark.storage.BlockManagerMasterEndpoint.driverEndpoint$lzycompute(BlockManagerMasterEndpoint.scala:117)\n",
      "\tat org.apache.spark.storage.BlockManagerMasterEndpoint.org$apache$spark$storage$BlockManagerMasterEndpoint$$driverEndpoint(BlockManagerMasterEndpoint.scala:116)\n",
      "\tat org.apache.spark.storage.BlockManagerMasterEndpoint.isExecutorAlive$lzycompute$1(BlockManagerMasterEndpoint.scala:593)\n",
      "\tat org.apache.spark.storage.BlockManagerMasterEndpoint.isExecutorAlive$1(BlockManagerMasterEndpoint.scala:592)\n",
      "\tat org.apache.spark.storage.BlockManagerMasterEndpoint.org$apache$spark$storage$BlockManagerMasterEndpoint$$register(BlockManagerMasterEndpoint.scala:630)\n",
      "\tat org.apache.spark.storage.BlockManagerMasterEndpoint$$anonfun$receiveAndReply$1.applyOrElse(BlockManagerMasterEndpoint.scala:123)\n",
      "\tat org.apache.spark.rpc.netty.Inbox.$anonfun$process$1(Inbox.scala:103)\n",
      "\tat org.apache.spark.rpc.netty.Inbox.safelyCall(Inbox.scala:213)\n",
      "\tat org.apache.spark.rpc.netty.Inbox.process(Inbox.scala:100)\n",
      "\tat org.apache.spark.rpc.netty.MessageLoop.org$apache$spark$rpc$netty$MessageLoop$$receiveLoop(MessageLoop.scala:75)\n",
      "\tat org.apache.spark.rpc.netty.MessageLoop$$anon$1.run(MessageLoop.scala:41)\n",
      "\tat java.util.concurrent.Executors$RunnableAdapter.call(Executors.java:511)\n",
      "\tat java.util.concurrent.FutureTask.run(FutureTask.java:266)\n",
      "\tat java.util.concurrent.ThreadPoolExecutor.runWorker(ThreadPoolExecutor.java:1149)\n",
      "\tat java.util.concurrent.ThreadPoolExecutor$Worker.run(ThreadPoolExecutor.java:624)\n",
      "\tat java.lang.Thread.run(Thread.java:750)\n",
      "Caused by: org.apache.spark.rpc.RpcEndpointNotFoundException: Cannot find endpoint: spark://CoarseGrainedScheduler@10.0.0.167:50332\n",
      "\tat org.apache.spark.rpc.netty.NettyRpcEnv.$anonfun$asyncSetupEndpointRefByURI$1(NettyRpcEnv.scala:148)\n",
      "\tat org.apache.spark.rpc.netty.NettyRpcEnv.$anonfun$asyncSetupEndpointRefByURI$1$adapted(NettyRpcEnv.scala:144)\n",
      "\tat scala.concurrent.Future.$anonfun$flatMap$1(Future.scala:307)\n",
      "\tat scala.concurrent.impl.Promise.$anonfun$transformWith$1(Promise.scala:41)\n",
      "\tat scala.concurrent.impl.CallbackRunnable.run(Promise.scala:64)\n",
      "\tat org.apache.spark.util.ThreadUtils$$anon$1.execute(ThreadUtils.scala:99)\n",
      "\tat scala.concurrent.impl.ExecutionContextImpl$$anon$4.execute(ExecutionContextImpl.scala:138)\n",
      "\tat scala.concurrent.impl.CallbackRunnable.executeWithValue(Promise.scala:72)\n",
      "\tat scala.concurrent.impl.Promise$DefaultPromise.dispatchOrAddCallback(Promise.scala:316)\n",
      "\tat scala.concurrent.impl.Promise$DefaultPromise.onComplete(Promise.scala:307)\n",
      "\tat scala.concurrent.impl.Promise.transformWith(Promise.scala:40)\n",
      "\tat scala.concurrent.impl.Promise.transformWith$(Promise.scala:38)\n",
      "\tat scala.concurrent.impl.Promise$DefaultPromise.transformWith(Promise.scala:187)\n",
      "\tat scala.concurrent.Future.flatMap(Future.scala:306)\n",
      "\tat scala.concurrent.Future.flatMap$(Future.scala:306)\n",
      "\tat scala.concurrent.impl.Promise$DefaultPromise.flatMap(Promise.scala:187)\n",
      "\tat org.apache.spark.rpc.netty.NettyRpcEnv.asyncSetupEndpointRefByURI(NettyRpcEnv.scala:150)\n",
      "\t... 19 more\n",
      "23/04/13 12:51:41 WARN Executor: Issue communicating with driver in heartbeater\n",
      "org.apache.spark.SparkException: Exception thrown in awaitResult: \n",
      "\tat org.apache.spark.util.ThreadUtils$.awaitResult(ThreadUtils.scala:301)\n",
      "\tat org.apache.spark.rpc.RpcTimeout.awaitResult(RpcTimeout.scala:75)\n",
      "\tat org.apache.spark.rpc.RpcEndpointRef.askSync(RpcEndpointRef.scala:103)\n",
      "\tat org.apache.spark.rpc.RpcEndpointRef.askSync(RpcEndpointRef.scala:87)\n",
      "\tat org.apache.spark.storage.BlockManagerMaster.registerBlockManager(BlockManagerMaster.scala:80)\n",
      "\tat org.apache.spark.storage.BlockManager.reregister(BlockManager.scala:643)\n",
      "\tat org.apache.spark.executor.Executor.reportHeartBeat(Executor.scala:1057)\n",
      "\tat org.apache.spark.executor.Executor.$anonfun$heartbeater$1(Executor.scala:238)\n",
      "\tat scala.runtime.java8.JFunction0$mcV$sp.apply(JFunction0$mcV$sp.java:23)\n",
      "\tat org.apache.spark.util.Utils$.logUncaughtExceptions(Utils.scala:2066)\n",
      "\tat org.apache.spark.Heartbeater$$anon$1.run(Heartbeater.scala:46)\n",
      "\tat java.util.concurrent.Executors$RunnableAdapter.call(Executors.java:511)\n",
      "\tat java.util.concurrent.FutureTask.runAndReset(FutureTask.java:308)\n",
      "\tat java.util.concurrent.ScheduledThreadPoolExecutor$ScheduledFutureTask.access$301(ScheduledThreadPoolExecutor.java:180)\n",
      "\tat java.util.concurrent.ScheduledThreadPoolExecutor$ScheduledFutureTask.run(ScheduledThreadPoolExecutor.java:294)\n",
      "\tat java.util.concurrent.ThreadPoolExecutor.runWorker(ThreadPoolExecutor.java:1149)\n",
      "\tat java.util.concurrent.ThreadPoolExecutor$Worker.run(ThreadPoolExecutor.java:624)\n",
      "\tat java.lang.Thread.run(Thread.java:750)\n",
      "Caused by: org.apache.spark.SparkException: Exception thrown in awaitResult: \n",
      "\tat org.apache.spark.util.ThreadUtils$.awaitResult(ThreadUtils.scala:301)\n",
      "\tat org.apache.spark.rpc.RpcTimeout.awaitResult(RpcTimeout.scala:75)\n",
      "\tat org.apache.spark.rpc.RpcEnv.setupEndpointRefByURI(RpcEnv.scala:102)\n",
      "\tat org.apache.spark.rpc.RpcEnv.setupEndpointRef(RpcEnv.scala:110)\n",
      "\tat org.apache.spark.util.RpcUtils$.makeDriverRef(RpcUtils.scala:36)\n",
      "\tat org.apache.spark.storage.BlockManagerMasterEndpoint.driverEndpoint$lzycompute(BlockManagerMasterEndpoint.scala:117)\n",
      "\tat org.apache.spark.storage.BlockManagerMasterEndpoint.org$apache$spark$storage$BlockManagerMasterEndpoint$$driverEndpoint(BlockManagerMasterEndpoint.scala:116)\n",
      "\tat org.apache.spark.storage.BlockManagerMasterEndpoint.isExecutorAlive$lzycompute$1(BlockManagerMasterEndpoint.scala:593)\n",
      "\tat org.apache.spark.storage.BlockManagerMasterEndpoint.isExecutorAlive$1(BlockManagerMasterEndpoint.scala:592)\n",
      "\tat org.apache.spark.storage.BlockManagerMasterEndpoint.org$apache$spark$storage$BlockManagerMasterEndpoint$$register(BlockManagerMasterEndpoint.scala:630)\n",
      "\tat org.apache.spark.storage.BlockManagerMasterEndpoint$$anonfun$receiveAndReply$1.applyOrElse(BlockManagerMasterEndpoint.scala:123)\n",
      "\tat org.apache.spark.rpc.netty.Inbox.$anonfun$process$1(Inbox.scala:103)\n",
      "\tat org.apache.spark.rpc.netty.Inbox.safelyCall(Inbox.scala:213)\n",
      "\tat org.apache.spark.rpc.netty.Inbox.process(Inbox.scala:100)\n",
      "\tat org.apache.spark.rpc.netty.MessageLoop.org$apache$spark$rpc$netty$MessageLoop$$receiveLoop(MessageLoop.scala:75)\n",
      "\tat org.apache.spark.rpc.netty.MessageLoop$$anon$1.run(MessageLoop.scala:41)\n",
      "\tat java.util.concurrent.Executors$RunnableAdapter.call(Executors.java:511)\n",
      "\tat java.util.concurrent.FutureTask.run(FutureTask.java:266)\n",
      "\t... 3 more\n",
      "Caused by: org.apache.spark.rpc.RpcEndpointNotFoundException: Cannot find endpoint: spark://CoarseGrainedScheduler@10.0.0.167:50332\n",
      "\tat org.apache.spark.rpc.netty.NettyRpcEnv.$anonfun$asyncSetupEndpointRefByURI$1(NettyRpcEnv.scala:148)\n",
      "\tat org.apache.spark.rpc.netty.NettyRpcEnv.$anonfun$asyncSetupEndpointRefByURI$1$adapted(NettyRpcEnv.scala:144)\n",
      "\tat scala.concurrent.Future.$anonfun$flatMap$1(Future.scala:307)\n",
      "\tat scala.concurrent.impl.Promise.$anonfun$transformWith$1(Promise.scala:41)\n",
      "\tat scala.concurrent.impl.CallbackRunnable.run(Promise.scala:64)\n",
      "\tat org.apache.spark.util.ThreadUtils$$anon$1.execute(ThreadUtils.scala:99)\n",
      "\tat scala.concurrent.impl.ExecutionContextImpl$$anon$4.execute(ExecutionContextImpl.scala:138)\n",
      "\tat scala.concurrent.impl.CallbackRunnable.executeWithValue(Promise.scala:72)\n",
      "\tat scala.concurrent.impl.Promise$DefaultPromise.dispatchOrAddCallback(Promise.scala:316)\n",
      "\tat scala.concurrent.impl.Promise$DefaultPromise.onComplete(Promise.scala:307)\n",
      "\tat scala.concurrent.impl.Promise.transformWith(Promise.scala:40)\n",
      "\tat scala.concurrent.impl.Promise.transformWith$(Promise.scala:38)\n",
      "\tat scala.concurrent.impl.Promise$DefaultPromise.transformWith(Promise.scala:187)\n",
      "\tat scala.concurrent.Future.flatMap(Future.scala:306)\n",
      "\tat scala.concurrent.Future.flatMap$(Future.scala:306)\n",
      "\tat scala.concurrent.impl.Promise$DefaultPromise.flatMap(Promise.scala:187)\n",
      "\tat org.apache.spark.rpc.netty.NettyRpcEnv.asyncSetupEndpointRefByURI(NettyRpcEnv.scala:150)\n",
      "\t... 19 more\n",
      "23/04/13 12:51:51 ERROR Inbox: Ignoring error\n",
      "org.apache.spark.SparkException: Exception thrown in awaitResult: \n",
      "\tat org.apache.spark.util.ThreadUtils$.awaitResult(ThreadUtils.scala:301)\n",
      "\tat org.apache.spark.rpc.RpcTimeout.awaitResult(RpcTimeout.scala:75)\n",
      "\tat org.apache.spark.rpc.RpcEnv.setupEndpointRefByURI(RpcEnv.scala:102)\n",
      "\tat org.apache.spark.rpc.RpcEnv.setupEndpointRef(RpcEnv.scala:110)\n",
      "\tat org.apache.spark.util.RpcUtils$.makeDriverRef(RpcUtils.scala:36)\n",
      "\tat org.apache.spark.storage.BlockManagerMasterEndpoint.driverEndpoint$lzycompute(BlockManagerMasterEndpoint.scala:117)\n",
      "\tat org.apache.spark.storage.BlockManagerMasterEndpoint.org$apache$spark$storage$BlockManagerMasterEndpoint$$driverEndpoint(BlockManagerMasterEndpoint.scala:116)\n",
      "\tat org.apache.spark.storage.BlockManagerMasterEndpoint.isExecutorAlive$lzycompute$1(BlockManagerMasterEndpoint.scala:593)\n",
      "\tat org.apache.spark.storage.BlockManagerMasterEndpoint.isExecutorAlive$1(BlockManagerMasterEndpoint.scala:592)\n",
      "\tat org.apache.spark.storage.BlockManagerMasterEndpoint.org$apache$spark$storage$BlockManagerMasterEndpoint$$register(BlockManagerMasterEndpoint.scala:630)\n",
      "\tat org.apache.spark.storage.BlockManagerMasterEndpoint$$anonfun$receiveAndReply$1.applyOrElse(BlockManagerMasterEndpoint.scala:123)\n",
      "\tat org.apache.spark.rpc.netty.Inbox.$anonfun$process$1(Inbox.scala:103)\n",
      "\tat org.apache.spark.rpc.netty.Inbox.safelyCall(Inbox.scala:213)\n",
      "\tat org.apache.spark.rpc.netty.Inbox.process(Inbox.scala:100)\n",
      "\tat org.apache.spark.rpc.netty.MessageLoop.org$apache$spark$rpc$netty$MessageLoop$$receiveLoop(MessageLoop.scala:75)\n",
      "\tat org.apache.spark.rpc.netty.MessageLoop$$anon$1.run(MessageLoop.scala:41)\n",
      "\tat java.util.concurrent.Executors$RunnableAdapter.call(Executors.java:511)\n",
      "\tat java.util.concurrent.FutureTask.run(FutureTask.java:266)\n",
      "\tat java.util.concurrent.ThreadPoolExecutor.runWorker(ThreadPoolExecutor.java:1149)\n",
      "\tat java.util.concurrent.ThreadPoolExecutor$Worker.run(ThreadPoolExecutor.java:624)\n",
      "\tat java.lang.Thread.run(Thread.java:750)\n",
      "Caused by: org.apache.spark.rpc.RpcEndpointNotFoundException: Cannot find endpoint: spark://CoarseGrainedScheduler@10.0.0.167:50332\n",
      "\tat org.apache.spark.rpc.netty.NettyRpcEnv.$anonfun$asyncSetupEndpointRefByURI$1(NettyRpcEnv.scala:148)\n",
      "\tat org.apache.spark.rpc.netty.NettyRpcEnv.$anonfun$asyncSetupEndpointRefByURI$1$adapted(NettyRpcEnv.scala:144)\n",
      "\tat scala.concurrent.Future.$anonfun$flatMap$1(Future.scala:307)\n",
      "\tat scala.concurrent.impl.Promise.$anonfun$transformWith$1(Promise.scala:41)\n",
      "\tat scala.concurrent.impl.CallbackRunnable.run(Promise.scala:64)\n",
      "\tat org.apache.spark.util.ThreadUtils$$anon$1.execute(ThreadUtils.scala:99)\n",
      "\tat scala.concurrent.impl.ExecutionContextImpl$$anon$4.execute(ExecutionContextImpl.scala:138)\n",
      "\tat scala.concurrent.impl.CallbackRunnable.executeWithValue(Promise.scala:72)\n",
      "\tat scala.concurrent.impl.Promise$DefaultPromise.dispatchOrAddCallback(Promise.scala:316)\n",
      "\tat scala.concurrent.impl.Promise$DefaultPromise.onComplete(Promise.scala:307)\n",
      "\tat scala.concurrent.impl.Promise.transformWith(Promise.scala:40)\n",
      "\tat scala.concurrent.impl.Promise.transformWith$(Promise.scala:38)\n",
      "\tat scala.concurrent.impl.Promise$DefaultPromise.transformWith(Promise.scala:187)\n",
      "\tat scala.concurrent.Future.flatMap(Future.scala:306)\n",
      "\tat scala.concurrent.Future.flatMap$(Future.scala:306)\n",
      "\tat scala.concurrent.impl.Promise$DefaultPromise.flatMap(Promise.scala:187)\n",
      "\tat org.apache.spark.rpc.netty.NettyRpcEnv.asyncSetupEndpointRefByURI(NettyRpcEnv.scala:150)\n",
      "\t... 19 more\n",
      "23/04/13 12:51:51 WARN Executor: Issue communicating with driver in heartbeater\n",
      "org.apache.spark.SparkException: Exception thrown in awaitResult: \n",
      "\tat org.apache.spark.util.ThreadUtils$.awaitResult(ThreadUtils.scala:301)\n",
      "\tat org.apache.spark.rpc.RpcTimeout.awaitResult(RpcTimeout.scala:75)\n",
      "\tat org.apache.spark.rpc.RpcEndpointRef.askSync(RpcEndpointRef.scala:103)\n",
      "\tat org.apache.spark.rpc.RpcEndpointRef.askSync(RpcEndpointRef.scala:87)\n",
      "\tat org.apache.spark.storage.BlockManagerMaster.registerBlockManager(BlockManagerMaster.scala:80)\n",
      "\tat org.apache.spark.storage.BlockManager.reregister(BlockManager.scala:643)\n",
      "\tat org.apache.spark.executor.Executor.reportHeartBeat(Executor.scala:1057)\n",
      "\tat org.apache.spark.executor.Executor.$anonfun$heartbeater$1(Executor.scala:238)\n",
      "\tat scala.runtime.java8.JFunction0$mcV$sp.apply(JFunction0$mcV$sp.java:23)\n",
      "\tat org.apache.spark.util.Utils$.logUncaughtExceptions(Utils.scala:2066)\n",
      "\tat org.apache.spark.Heartbeater$$anon$1.run(Heartbeater.scala:46)\n",
      "\tat java.util.concurrent.Executors$RunnableAdapter.call(Executors.java:511)\n",
      "\tat java.util.concurrent.FutureTask.runAndReset(FutureTask.java:308)\n",
      "\tat java.util.concurrent.ScheduledThreadPoolExecutor$ScheduledFutureTask.access$301(ScheduledThreadPoolExecutor.java:180)\n",
      "\tat java.util.concurrent.ScheduledThreadPoolExecutor$ScheduledFutureTask.run(ScheduledThreadPoolExecutor.java:294)\n",
      "\tat java.util.concurrent.ThreadPoolExecutor.runWorker(ThreadPoolExecutor.java:1149)\n",
      "\tat java.util.concurrent.ThreadPoolExecutor$Worker.run(ThreadPoolExecutor.java:624)\n",
      "\tat java.lang.Thread.run(Thread.java:750)\n",
      "Caused by: org.apache.spark.SparkException: Exception thrown in awaitResult: \n",
      "\tat org.apache.spark.util.ThreadUtils$.awaitResult(ThreadUtils.scala:301)\n",
      "\tat org.apache.spark.rpc.RpcTimeout.awaitResult(RpcTimeout.scala:75)\n",
      "\tat org.apache.spark.rpc.RpcEnv.setupEndpointRefByURI(RpcEnv.scala:102)\n",
      "\tat org.apache.spark.rpc.RpcEnv.setupEndpointRef(RpcEnv.scala:110)\n",
      "\tat org.apache.spark.util.RpcUtils$.makeDriverRef(RpcUtils.scala:36)\n",
      "\tat org.apache.spark.storage.BlockManagerMasterEndpoint.driverEndpoint$lzycompute(BlockManagerMasterEndpoint.scala:117)\n",
      "\tat org.apache.spark.storage.BlockManagerMasterEndpoint.org$apache$spark$storage$BlockManagerMasterEndpoint$$driverEndpoint(BlockManagerMasterEndpoint.scala:116)\n",
      "\tat org.apache.spark.storage.BlockManagerMasterEndpoint.isExecutorAlive$lzycompute$1(BlockManagerMasterEndpoint.scala:593)\n",
      "\tat org.apache.spark.storage.BlockManagerMasterEndpoint.isExecutorAlive$1(BlockManagerMasterEndpoint.scala:592)\n",
      "\tat org.apache.spark.storage.BlockManagerMasterEndpoint.org$apache$spark$storage$BlockManagerMasterEndpoint$$register(BlockManagerMasterEndpoint.scala:630)\n",
      "\tat org.apache.spark.storage.BlockManagerMasterEndpoint$$anonfun$receiveAndReply$1.applyOrElse(BlockManagerMasterEndpoint.scala:123)\n",
      "\tat org.apache.spark.rpc.netty.Inbox.$anonfun$process$1(Inbox.scala:103)\n",
      "\tat org.apache.spark.rpc.netty.Inbox.safelyCall(Inbox.scala:213)\n",
      "\tat org.apache.spark.rpc.netty.Inbox.process(Inbox.scala:100)\n",
      "\tat org.apache.spark.rpc.netty.MessageLoop.org$apache$spark$rpc$netty$MessageLoop$$receiveLoop(MessageLoop.scala:75)\n",
      "\tat org.apache.spark.rpc.netty.MessageLoop$$anon$1.run(MessageLoop.scala:41)\n",
      "\tat java.util.concurrent.Executors$RunnableAdapter.call(Executors.java:511)\n",
      "\tat java.util.concurrent.FutureTask.run(FutureTask.java:266)\n",
      "\t... 3 more\n",
      "Caused by: org.apache.spark.rpc.RpcEndpointNotFoundException: Cannot find endpoint: spark://CoarseGrainedScheduler@10.0.0.167:50332\n",
      "\tat org.apache.spark.rpc.netty.NettyRpcEnv.$anonfun$asyncSetupEndpointRefByURI$1(NettyRpcEnv.scala:148)\n",
      "\tat org.apache.spark.rpc.netty.NettyRpcEnv.$anonfun$asyncSetupEndpointRefByURI$1$adapted(NettyRpcEnv.scala:144)\n",
      "\tat scala.concurrent.Future.$anonfun$flatMap$1(Future.scala:307)\n",
      "\tat scala.concurrent.impl.Promise.$anonfun$transformWith$1(Promise.scala:41)\n",
      "\tat scala.concurrent.impl.CallbackRunnable.run(Promise.scala:64)\n",
      "\tat org.apache.spark.util.ThreadUtils$$anon$1.execute(ThreadUtils.scala:99)\n",
      "\tat scala.concurrent.impl.ExecutionContextImpl$$anon$4.execute(ExecutionContextImpl.scala:138)\n",
      "\tat scala.concurrent.impl.CallbackRunnable.executeWithValue(Promise.scala:72)\n",
      "\tat scala.concurrent.impl.Promise$DefaultPromise.dispatchOrAddCallback(Promise.scala:316)\n",
      "\tat scala.concurrent.impl.Promise$DefaultPromise.onComplete(Promise.scala:307)\n",
      "\tat scala.concurrent.impl.Promise.transformWith(Promise.scala:40)\n",
      "\tat scala.concurrent.impl.Promise.transformWith$(Promise.scala:38)\n",
      "\tat scala.concurrent.impl.Promise$DefaultPromise.transformWith(Promise.scala:187)\n",
      "\tat scala.concurrent.Future.flatMap(Future.scala:306)\n",
      "\tat scala.concurrent.Future.flatMap$(Future.scala:306)\n",
      "\tat scala.concurrent.impl.Promise$DefaultPromise.flatMap(Promise.scala:187)\n",
      "\tat org.apache.spark.rpc.netty.NettyRpcEnv.asyncSetupEndpointRefByURI(NettyRpcEnv.scala:150)\n",
      "\t... 19 more\n",
      "23/04/13 12:52:01 WARN Executor: Issue communicating with driver in heartbeater\n",
      "org.apache.spark.SparkException: Exception thrown in awaitResult: \n",
      "\tat org.apache.spark.util.ThreadUtils$.awaitResult(ThreadUtils.scala:301)\n",
      "\tat org.apache.spark.rpc.RpcTimeout.awaitResult(RpcTimeout.scala:75)\n",
      "\tat org.apache.spark.rpc.RpcEndpointRef.askSync(RpcEndpointRef.scala:103)\n",
      "\tat org.apache.spark.rpc.RpcEndpointRef.askSync(RpcEndpointRef.scala:87)\n",
      "\tat org.apache.spark.storage.BlockManagerMaster.registerBlockManager(BlockManagerMaster.scala:80)\n",
      "\tat org.apache.spark.storage.BlockManager.reregister(BlockManager.scala:643)\n",
      "\tat org.apache.spark.executor.Executor.reportHeartBeat(Executor.scala:1057)\n",
      "\tat org.apache.spark.executor.Executor.$anonfun$heartbeater$1(Executor.scala:238)\n",
      "\tat scala.runtime.java8.JFunction0$mcV$sp.apply(JFunction0$mcV$sp.java:23)\n",
      "\tat org.apache.spark.util.Utils$.logUncaughtExceptions(Utils.scala:2066)\n",
      "\tat org.apache.spark.Heartbeater$$anon$1.run(Heartbeater.scala:46)\n",
      "\tat java.util.concurrent.Executors$RunnableAdapter.call(Executors.java:511)\n",
      "\tat java.util.concurrent.FutureTask.runAndReset(FutureTask.java:308)\n",
      "\tat java.util.concurrent.ScheduledThreadPoolExecutor$ScheduledFutureTask.access$301(ScheduledThreadPoolExecutor.java:180)\n",
      "\tat java.util.concurrent.ScheduledThreadPoolExecutor$ScheduledFutureTask.run(ScheduledThreadPoolExecutor.java:294)\n",
      "\tat java.util.concurrent.ThreadPoolExecutor.runWorker(ThreadPoolExecutor.java:1149)\n",
      "\tat java.util.concurrent.ThreadPoolExecutor$Worker.run(ThreadPoolExecutor.java:624)\n",
      "\tat java.lang.Thread.run(Thread.java:750)\n",
      "Caused by: org.apache.spark.SparkException: Exception thrown in awaitResult: \n",
      "\tat org.apache.spark.util.ThreadUtils$.awaitResult(ThreadUtils.scala:301)\n",
      "\tat org.apache.spark.rpc.RpcTimeout.awaitResult(RpcTimeout.scala:75)\n",
      "\tat org.apache.spark.rpc.RpcEnv.setupEndpointRefByURI(RpcEnv.scala:102)\n",
      "\tat org.apache.spark.rpc.RpcEnv.setupEndpointRef(RpcEnv.scala:110)\n",
      "\tat org.apache.spark.util.RpcUtils$.makeDriverRef(RpcUtils.scala:36)\n",
      "\tat org.apache.spark.storage.BlockManagerMasterEndpoint.driverEndpoint$lzycompute(BlockManagerMasterEndpoint.scala:117)\n",
      "\tat org.apache.spark.storage.BlockManagerMasterEndpoint.org$apache$spark$storage$BlockManagerMasterEndpoint$$driverEndpoint(BlockManagerMasterEndpoint.scala:116)\n",
      "\tat org.apache.spark.storage.BlockManagerMasterEndpoint.isExecutorAlive$lzycompute$1(BlockManagerMasterEndpoint.scala:593)\n",
      "\tat org.apache.spark.storage.BlockManagerMasterEndpoint.isExecutorAlive$1(BlockManagerMasterEndpoint.scala:592)\n",
      "\tat org.apache.spark.storage.BlockManagerMasterEndpoint.org$apache$spark$storage$BlockManagerMasterEndpoint$$register(BlockManagerMasterEndpoint.scala:630)\n",
      "\tat org.apache.spark.storage.BlockManagerMasterEndpoint$$anonfun$receiveAndReply$1.applyOrElse(BlockManagerMasterEndpoint.scala:123)\n",
      "\tat org.apache.spark.rpc.netty.Inbox.$anonfun$process$1(Inbox.scala:103)\n",
      "\tat org.apache.spark.rpc.netty.Inbox.safelyCall(Inbox.scala:213)\n",
      "\tat org.apache.spark.rpc.netty.Inbox.process(Inbox.scala:100)\n",
      "\tat org.apache.spark.rpc.netty.MessageLoop.org$apache$spark$rpc$netty$MessageLoop$$receiveLoop(MessageLoop.scala:75)\n",
      "\tat org.apache.spark.rpc.netty.MessageLoop$$anon$1.run(MessageLoop.scala:41)\n",
      "\tat java.util.concurrent.Executors$RunnableAdapter.call(Executors.java:511)\n",
      "\tat java.util.concurrent.FutureTask.run(FutureTask.java:266)\n",
      "\t... 3 more\n",
      "Caused by: org.apache.spark.rpc.RpcEndpointNotFoundException: Cannot find endpoint: spark://CoarseGrainedScheduler@10.0.0.167:50332\n",
      "\tat org.apache.spark.rpc.netty.NettyRpcEnv.$anonfun$asyncSetupEndpointRefByURI$1(NettyRpcEnv.scala:148)\n",
      "\tat org.apache.spark.rpc.netty.NettyRpcEnv.$anonfun$asyncSetupEndpointRefByURI$1$adapted(NettyRpcEnv.scala:144)\n",
      "\tat scala.concurrent.Future.$anonfun$flatMap$1(Future.scala:307)\n",
      "\tat scala.concurrent.impl.Promise.$anonfun$transformWith$1(Promise.scala:41)\n",
      "\tat scala.concurrent.impl.CallbackRunnable.run(Promise.scala:64)\n",
      "\tat org.apache.spark.util.ThreadUtils$$anon$1.execute(ThreadUtils.scala:99)\n",
      "\tat scala.concurrent.impl.ExecutionContextImpl$$anon$4.execute(ExecutionContextImpl.scala:138)\n",
      "\tat scala.concurrent.impl.CallbackRunnable.executeWithValue(Promise.scala:72)\n",
      "\tat scala.concurrent.impl.Promise$DefaultPromise.$anonfun$tryComplete$1(Promise.scala:288)\n",
      "\tat scala.concurrent.impl.Promise$DefaultPromise.$anonfun$tryComplete$1$adapted(Promise.scala:288)\n",
      "\tat scala.concurrent.impl.Promise$DefaultPromise.tryComplete(Promise.scala:288)\n",
      "\tat scala.concurrent.Promise.complete(Promise.scala:53)\n",
      "\tat scala.concurrent.Promise.complete$(Promise.scala:52)\n",
      "\tat scala.concurrent.impl.Promise$DefaultPromise.complete(Promise.scala:187)\n",
      "\tat scala.concurrent.impl.Promise.$anonfun$transform$1(Promise.scala:33)\n",
      "\tat scala.concurrent.impl.CallbackRunnable.run(Promise.scala:64)\n",
      "\tat org.apache.spark.util.ThreadUtils$$anon$1.execute(ThreadUtils.scala:99)\n",
      "\tat scala.concurrent.impl.ExecutionContextImpl$$anon$4.execute(ExecutionContextImpl.scala:138)\n",
      "\tat scala.concurrent.impl.CallbackRunnable.executeWithValue(Promise.scala:72)\n",
      "\tat scala.concurrent.impl.Promise$DefaultPromise.$anonfun$tryComplete$1(Promise.scala:288)\n",
      "\tat scala.concurrent.impl.Promise$DefaultPromise.$anonfun$tryComplete$1$adapted(Promise.scala:288)\n",
      "\tat scala.concurrent.impl.Promise$DefaultPromise.tryComplete(Promise.scala:288)\n",
      "\tat scala.concurrent.Promise.complete(Promise.scala:53)\n",
      "\tat scala.concurrent.Promise.complete$(Promise.scala:52)\n",
      "\tat scala.concurrent.impl.Promise$DefaultPromise.complete(Promise.scala:187)\n",
      "\tat scala.concurrent.impl.Promise.$anonfun$transform$1(Promise.scala:33)\n",
      "\tat scala.concurrent.impl.CallbackRunnable.run(Promise.scala:64)\n",
      "\tat scala.concurrent.BatchingExecutor$Batch.processBatch$1(BatchingExecutor.scala:67)\n",
      "\tat scala.concurrent.BatchingExecutor$Batch.$anonfun$run$1(BatchingExecutor.scala:82)\n",
      "\tat scala.runtime.java8.JFunction0$mcV$sp.apply(JFunction0$mcV$sp.java:23)\n",
      "\tat scala.concurrent.BlockContext$.withBlockContext(BlockContext.scala:85)\n",
      "\tat scala.concurrent.BatchingExecutor$Batch.run(BatchingExecutor.scala:59)\n",
      "\tat scala.concurrent.Future$InternalCallbackExecutor$.unbatchedExecute(Future.scala:875)\n",
      "\tat scala.concurrent.BatchingExecutor.execute(BatchingExecutor.scala:110)\n",
      "\tat scala.concurrent.BatchingExecutor.execute$(BatchingExecutor.scala:107)\n",
      "\tat scala.concurrent.Future$InternalCallbackExecutor$.execute(Future.scala:873)\n",
      "\tat scala.concurrent.impl.CallbackRunnable.executeWithValue(Promise.scala:72)\n",
      "\tat scala.concurrent.impl.Promise$DefaultPromise.$anonfun$tryComplete$1(Promise.scala:288)\n",
      "\tat scala.concurrent.impl.Promise$DefaultPromise.$anonfun$tryComplete$1$adapted(Promise.scala:288)\n",
      "\tat scala.concurrent.impl.Promise$DefaultPromise.tryComplete(Promise.scala:288)\n",
      "\tat scala.concurrent.Promise.trySuccess(Promise.scala:94)\n",
      "\tat scala.concurrent.Promise.trySuccess$(Promise.scala:94)\n",
      "\tat scala.concurrent.impl.Promise$DefaultPromise.trySuccess(Promise.scala:187)\n",
      "\tat org.apache.spark.rpc.netty.NettyRpcEnv.onSuccess$1(NettyRpcEnv.scala:225)\n",
      "\tat org.apache.spark.rpc.netty.NettyRpcEnv.$anonfun$askAbortable$5(NettyRpcEnv.scala:239)\n",
      "\tat org.apache.spark.rpc.netty.NettyRpcEnv.$anonfun$askAbortable$5$adapted(NettyRpcEnv.scala:238)\n",
      "\tat scala.concurrent.impl.CallbackRunnable.run(Promise.scala:64)\n",
      "\tat org.apache.spark.util.ThreadUtils$$anon$1.execute(ThreadUtils.scala:99)\n",
      "\tat scala.concurrent.impl.ExecutionContextImpl$$anon$4.execute(ExecutionContextImpl.scala:138)\n",
      "\tat scala.concurrent.impl.CallbackRunnable.executeWithValue(Promise.scala:72)\n",
      "\tat scala.concurrent.impl.Promise$DefaultPromise.$anonfun$tryComplete$1(Promise.scala:288)\n",
      "\tat scala.concurrent.impl.Promise$DefaultPromise.$anonfun$tryComplete$1$adapted(Promise.scala:288)\n",
      "\tat scala.concurrent.impl.Promise$DefaultPromise.tryComplete(Promise.scala:288)\n",
      "\tat scala.concurrent.Promise.complete(Promise.scala:53)\n",
      "\tat scala.concurrent.Promise.complete$(Promise.scala:52)\n",
      "\tat scala.concurrent.impl.Promise$DefaultPromise.complete(Promise.scala:187)\n",
      "\tat scala.concurrent.Promise.success(Promise.scala:86)\n",
      "\tat scala.concurrent.Promise.success$(Promise.scala:86)\n",
      "\tat scala.concurrent.impl.Promise$DefaultPromise.success(Promise.scala:187)\n",
      "\tat org.apache.spark.rpc.netty.LocalNettyRpcCallContext.send(NettyRpcCallContext.scala:50)\n",
      "\tat org.apache.spark.rpc.netty.NettyRpcCallContext.reply(NettyRpcCallContext.scala:32)\n",
      "\tat org.apache.spark.rpc.netty.RpcEndpointVerifier$$anonfun$receiveAndReply$1.applyOrElse(RpcEndpointVerifier.scala:31)\n",
      "\tat org.apache.spark.rpc.netty.Inbox.$anonfun$process$1(Inbox.scala:103)\n",
      "\tat org.apache.spark.rpc.netty.Inbox.safelyCall(Inbox.scala:213)\n",
      "\tat org.apache.spark.rpc.netty.Inbox.process(Inbox.scala:100)\n",
      "\tat org.apache.spark.rpc.netty.MessageLoop.org$apache$spark$rpc$netty$MessageLoop$$receiveLoop(MessageLoop.scala:75)\n",
      "\tat org.apache.spark.rpc.netty.MessageLoop$$anon$1.run(MessageLoop.scala:41)\n",
      "\t... 3 more\n",
      "23/04/13 12:52:01 ERROR Inbox: Ignoring error\n",
      "org.apache.spark.SparkException: Exception thrown in awaitResult: \n",
      "\tat org.apache.spark.util.ThreadUtils$.awaitResult(ThreadUtils.scala:301)\n",
      "\tat org.apache.spark.rpc.RpcTimeout.awaitResult(RpcTimeout.scala:75)\n",
      "\tat org.apache.spark.rpc.RpcEnv.setupEndpointRefByURI(RpcEnv.scala:102)\n",
      "\tat org.apache.spark.rpc.RpcEnv.setupEndpointRef(RpcEnv.scala:110)\n",
      "\tat org.apache.spark.util.RpcUtils$.makeDriverRef(RpcUtils.scala:36)\n",
      "\tat org.apache.spark.storage.BlockManagerMasterEndpoint.driverEndpoint$lzycompute(BlockManagerMasterEndpoint.scala:117)\n",
      "\tat org.apache.spark.storage.BlockManagerMasterEndpoint.org$apache$spark$storage$BlockManagerMasterEndpoint$$driverEndpoint(BlockManagerMasterEndpoint.scala:116)\n",
      "\tat org.apache.spark.storage.BlockManagerMasterEndpoint.isExecutorAlive$lzycompute$1(BlockManagerMasterEndpoint.scala:593)\n",
      "\tat org.apache.spark.storage.BlockManagerMasterEndpoint.isExecutorAlive$1(BlockManagerMasterEndpoint.scala:592)\n",
      "\tat org.apache.spark.storage.BlockManagerMasterEndpoint.org$apache$spark$storage$BlockManagerMasterEndpoint$$register(BlockManagerMasterEndpoint.scala:630)\n",
      "\tat org.apache.spark.storage.BlockManagerMasterEndpoint$$anonfun$receiveAndReply$1.applyOrElse(BlockManagerMasterEndpoint.scala:123)\n",
      "\tat org.apache.spark.rpc.netty.Inbox.$anonfun$process$1(Inbox.scala:103)\n",
      "\tat org.apache.spark.rpc.netty.Inbox.safelyCall(Inbox.scala:213)\n",
      "\tat org.apache.spark.rpc.netty.Inbox.process(Inbox.scala:100)\n",
      "\tat org.apache.spark.rpc.netty.MessageLoop.org$apache$spark$rpc$netty$MessageLoop$$receiveLoop(MessageLoop.scala:75)\n",
      "\tat org.apache.spark.rpc.netty.MessageLoop$$anon$1.run(MessageLoop.scala:41)\n",
      "\tat java.util.concurrent.Executors$RunnableAdapter.call(Executors.java:511)\n",
      "\tat java.util.concurrent.FutureTask.run(FutureTask.java:266)\n",
      "\tat java.util.concurrent.ThreadPoolExecutor.runWorker(ThreadPoolExecutor.java:1149)\n",
      "\tat java.util.concurrent.ThreadPoolExecutor$Worker.run(ThreadPoolExecutor.java:624)\n",
      "\tat java.lang.Thread.run(Thread.java:750)\n",
      "Caused by: org.apache.spark.rpc.RpcEndpointNotFoundException: Cannot find endpoint: spark://CoarseGrainedScheduler@10.0.0.167:50332\n",
      "\tat org.apache.spark.rpc.netty.NettyRpcEnv.$anonfun$asyncSetupEndpointRefByURI$1(NettyRpcEnv.scala:148)\n",
      "\tat org.apache.spark.rpc.netty.NettyRpcEnv.$anonfun$asyncSetupEndpointRefByURI$1$adapted(NettyRpcEnv.scala:144)\n",
      "\tat scala.concurrent.Future.$anonfun$flatMap$1(Future.scala:307)\n",
      "\tat scala.concurrent.impl.Promise.$anonfun$transformWith$1(Promise.scala:41)\n",
      "\tat scala.concurrent.impl.CallbackRunnable.run(Promise.scala:64)\n",
      "\tat org.apache.spark.util.ThreadUtils$$anon$1.execute(ThreadUtils.scala:99)\n",
      "\tat scala.concurrent.impl.ExecutionContextImpl$$anon$4.execute(ExecutionContextImpl.scala:138)\n",
      "\tat scala.concurrent.impl.CallbackRunnable.executeWithValue(Promise.scala:72)\n",
      "\tat scala.concurrent.impl.Promise$DefaultPromise.$anonfun$tryComplete$1(Promise.scala:288)\n",
      "\tat scala.concurrent.impl.Promise$DefaultPromise.$anonfun$tryComplete$1$adapted(Promise.scala:288)\n",
      "\tat scala.concurrent.impl.Promise$DefaultPromise.tryComplete(Promise.scala:288)\n",
      "\tat scala.concurrent.Promise.complete(Promise.scala:53)\n",
      "\tat scala.concurrent.Promise.complete$(Promise.scala:52)\n",
      "\tat scala.concurrent.impl.Promise$DefaultPromise.complete(Promise.scala:187)\n",
      "\tat scala.concurrent.impl.Promise.$anonfun$transform$1(Promise.scala:33)\n",
      "\tat scala.concurrent.impl.CallbackRunnable.run(Promise.scala:64)\n",
      "\tat org.apache.spark.util.ThreadUtils$$anon$1.execute(ThreadUtils.scala:99)\n",
      "\tat scala.concurrent.impl.ExecutionContextImpl$$anon$4.execute(ExecutionContextImpl.scala:138)\n",
      "\tat scala.concurrent.impl.CallbackRunnable.executeWithValue(Promise.scala:72)\n",
      "\tat scala.concurrent.impl.Promise$DefaultPromise.$anonfun$tryComplete$1(Promise.scala:288)\n",
      "\tat scala.concurrent.impl.Promise$DefaultPromise.$anonfun$tryComplete$1$adapted(Promise.scala:288)\n",
      "\tat scala.concurrent.impl.Promise$DefaultPromise.tryComplete(Promise.scala:288)\n",
      "\tat scala.concurrent.Promise.complete(Promise.scala:53)\n",
      "\tat scala.concurrent.Promise.complete$(Promise.scala:52)\n",
      "\tat scala.concurrent.impl.Promise$DefaultPromise.complete(Promise.scala:187)\n",
      "\tat scala.concurrent.impl.Promise.$anonfun$transform$1(Promise.scala:33)\n",
      "\tat scala.concurrent.impl.CallbackRunnable.run(Promise.scala:64)\n",
      "\tat scala.concurrent.BatchingExecutor$Batch.processBatch$1(BatchingExecutor.scala:67)\n",
      "\tat scala.concurrent.BatchingExecutor$Batch.$anonfun$run$1(BatchingExecutor.scala:82)\n",
      "\tat scala.runtime.java8.JFunction0$mcV$sp.apply(JFunction0$mcV$sp.java:23)\n",
      "\tat scala.concurrent.BlockContext$.withBlockContext(BlockContext.scala:85)\n",
      "\tat scala.concurrent.BatchingExecutor$Batch.run(BatchingExecutor.scala:59)\n",
      "\tat scala.concurrent.Future$InternalCallbackExecutor$.unbatchedExecute(Future.scala:875)\n",
      "\tat scala.concurrent.BatchingExecutor.execute(BatchingExecutor.scala:110)\n",
      "\tat scala.concurrent.BatchingExecutor.execute$(BatchingExecutor.scala:107)\n",
      "\tat scala.concurrent.Future$InternalCallbackExecutor$.execute(Future.scala:873)\n",
      "\tat scala.concurrent.impl.CallbackRunnable.executeWithValue(Promise.scala:72)\n",
      "\tat scala.concurrent.impl.Promise$DefaultPromise.$anonfun$tryComplete$1(Promise.scala:288)\n",
      "\tat scala.concurrent.impl.Promise$DefaultPromise.$anonfun$tryComplete$1$adapted(Promise.scala:288)\n",
      "\tat scala.concurrent.impl.Promise$DefaultPromise.tryComplete(Promise.scala:288)\n",
      "\tat scala.concurrent.Promise.trySuccess(Promise.scala:94)\n",
      "\tat scala.concurrent.Promise.trySuccess$(Promise.scala:94)\n",
      "\tat scala.concurrent.impl.Promise$DefaultPromise.trySuccess(Promise.scala:187)\n",
      "\tat org.apache.spark.rpc.netty.NettyRpcEnv.onSuccess$1(NettyRpcEnv.scala:225)\n",
      "\tat org.apache.spark.rpc.netty.NettyRpcEnv.$anonfun$askAbortable$5(NettyRpcEnv.scala:239)\n",
      "\tat org.apache.spark.rpc.netty.NettyRpcEnv.$anonfun$askAbortable$5$adapted(NettyRpcEnv.scala:238)\n",
      "\tat scala.concurrent.impl.CallbackRunnable.run(Promise.scala:64)\n",
      "\tat org.apache.spark.util.ThreadUtils$$anon$1.execute(ThreadUtils.scala:99)\n",
      "\tat scala.concurrent.impl.ExecutionContextImpl$$anon$4.execute(ExecutionContextImpl.scala:138)\n",
      "\tat scala.concurrent.impl.CallbackRunnable.executeWithValue(Promise.scala:72)\n",
      "\tat scala.concurrent.impl.Promise$DefaultPromise.$anonfun$tryComplete$1(Promise.scala:288)\n",
      "\tat scala.concurrent.impl.Promise$DefaultPromise.$anonfun$tryComplete$1$adapted(Promise.scala:288)\n",
      "\tat scala.concurrent.impl.Promise$DefaultPromise.tryComplete(Promise.scala:288)\n",
      "\tat scala.concurrent.Promise.complete(Promise.scala:53)\n",
      "\tat scala.concurrent.Promise.complete$(Promise.scala:52)\n",
      "\tat scala.concurrent.impl.Promise$DefaultPromise.complete(Promise.scala:187)\n",
      "\tat scala.concurrent.Promise.success(Promise.scala:86)\n",
      "\tat scala.concurrent.Promise.success$(Promise.scala:86)\n",
      "\tat scala.concurrent.impl.Promise$DefaultPromise.success(Promise.scala:187)\n",
      "\tat org.apache.spark.rpc.netty.LocalNettyRpcCallContext.send(NettyRpcCallContext.scala:50)\n",
      "\tat org.apache.spark.rpc.netty.NettyRpcCallContext.reply(NettyRpcCallContext.scala:32)\n",
      "\tat org.apache.spark.rpc.netty.RpcEndpointVerifier$$anonfun$receiveAndReply$1.applyOrElse(RpcEndpointVerifier.scala:31)\n",
      "\tat org.apache.spark.rpc.netty.Inbox.$anonfun$process$1(Inbox.scala:103)\n",
      "\tat org.apache.spark.rpc.netty.Inbox.safelyCall(Inbox.scala:213)\n",
      "\tat org.apache.spark.rpc.netty.Inbox.process(Inbox.scala:100)\n",
      "\tat org.apache.spark.rpc.netty.MessageLoop.org$apache$spark$rpc$netty$MessageLoop$$receiveLoop(MessageLoop.scala:75)\n",
      "\tat org.apache.spark.rpc.netty.MessageLoop$$anon$1.run(MessageLoop.scala:41)\n",
      "\t... 3 more\n",
      "23/04/13 12:52:11 ERROR Inbox: Ignoring error\n",
      "org.apache.spark.SparkException: Exception thrown in awaitResult: \n",
      "\tat org.apache.spark.util.ThreadUtils$.awaitResult(ThreadUtils.scala:301)\n",
      "\tat org.apache.spark.rpc.RpcTimeout.awaitResult(RpcTimeout.scala:75)\n",
      "\tat org.apache.spark.rpc.RpcEnv.setupEndpointRefByURI(RpcEnv.scala:102)\n",
      "\tat org.apache.spark.rpc.RpcEnv.setupEndpointRef(RpcEnv.scala:110)\n",
      "\tat org.apache.spark.util.RpcUtils$.makeDriverRef(RpcUtils.scala:36)\n",
      "\tat org.apache.spark.storage.BlockManagerMasterEndpoint.driverEndpoint$lzycompute(BlockManagerMasterEndpoint.scala:117)\n",
      "\tat org.apache.spark.storage.BlockManagerMasterEndpoint.org$apache$spark$storage$BlockManagerMasterEndpoint$$driverEndpoint(BlockManagerMasterEndpoint.scala:116)\n",
      "\tat org.apache.spark.storage.BlockManagerMasterEndpoint.isExecutorAlive$lzycompute$1(BlockManagerMasterEndpoint.scala:593)\n",
      "\tat org.apache.spark.storage.BlockManagerMasterEndpoint.isExecutorAlive$1(BlockManagerMasterEndpoint.scala:592)\n",
      "\tat org.apache.spark.storage.BlockManagerMasterEndpoint.org$apache$spark$storage$BlockManagerMasterEndpoint$$register(BlockManagerMasterEndpoint.scala:630)\n",
      "\tat org.apache.spark.storage.BlockManagerMasterEndpoint$$anonfun$receiveAndReply$1.applyOrElse(BlockManagerMasterEndpoint.scala:123)\n",
      "\tat org.apache.spark.rpc.netty.Inbox.$anonfun$process$1(Inbox.scala:103)\n",
      "\tat org.apache.spark.rpc.netty.Inbox.safelyCall(Inbox.scala:213)\n",
      "\tat org.apache.spark.rpc.netty.Inbox.process(Inbox.scala:100)\n",
      "\tat org.apache.spark.rpc.netty.MessageLoop.org$apache$spark$rpc$netty$MessageLoop$$receiveLoop(MessageLoop.scala:75)\n",
      "\tat org.apache.spark.rpc.netty.MessageLoop$$anon$1.run(MessageLoop.scala:41)\n",
      "\tat java.util.concurrent.Executors$RunnableAdapter.call(Executors.java:511)\n",
      "\tat java.util.concurrent.FutureTask.run(FutureTask.java:266)\n",
      "\tat java.util.concurrent.ThreadPoolExecutor.runWorker(ThreadPoolExecutor.java:1149)\n",
      "\tat java.util.concurrent.ThreadPoolExecutor$Worker.run(ThreadPoolExecutor.java:624)\n",
      "\tat java.lang.Thread.run(Thread.java:750)\n",
      "Caused by: org.apache.spark.rpc.RpcEndpointNotFoundException: Cannot find endpoint: spark://CoarseGrainedScheduler@10.0.0.167:50332\n",
      "\tat org.apache.spark.rpc.netty.NettyRpcEnv.$anonfun$asyncSetupEndpointRefByURI$1(NettyRpcEnv.scala:148)\n",
      "\tat org.apache.spark.rpc.netty.NettyRpcEnv.$anonfun$asyncSetupEndpointRefByURI$1$adapted(NettyRpcEnv.scala:144)\n",
      "\tat scala.concurrent.Future.$anonfun$flatMap$1(Future.scala:307)\n",
      "\tat scala.concurrent.impl.Promise.$anonfun$transformWith$1(Promise.scala:41)\n",
      "\tat scala.concurrent.impl.CallbackRunnable.run(Promise.scala:64)\n",
      "\tat org.apache.spark.util.ThreadUtils$$anon$1.execute(ThreadUtils.scala:99)\n",
      "\tat scala.concurrent.impl.ExecutionContextImpl$$anon$4.execute(ExecutionContextImpl.scala:138)\n",
      "\tat scala.concurrent.impl.CallbackRunnable.executeWithValue(Promise.scala:72)\n",
      "\tat scala.concurrent.impl.Promise$DefaultPromise.$anonfun$tryComplete$1(Promise.scala:288)\n",
      "\tat scala.concurrent.impl.Promise$DefaultPromise.$anonfun$tryComplete$1$adapted(Promise.scala:288)\n",
      "\tat scala.concurrent.impl.Promise$DefaultPromise.tryComplete(Promise.scala:288)\n",
      "\tat scala.concurrent.Promise.complete(Promise.scala:53)\n",
      "\tat scala.concurrent.Promise.complete$(Promise.scala:52)\n",
      "\tat scala.concurrent.impl.Promise$DefaultPromise.complete(Promise.scala:187)\n",
      "\tat scala.concurrent.impl.Promise.$anonfun$transform$1(Promise.scala:33)\n",
      "\tat scala.concurrent.impl.CallbackRunnable.run(Promise.scala:64)\n",
      "\tat org.apache.spark.util.ThreadUtils$$anon$1.execute(ThreadUtils.scala:99)\n",
      "\tat scala.concurrent.impl.ExecutionContextImpl$$anon$4.execute(ExecutionContextImpl.scala:138)\n",
      "\tat scala.concurrent.impl.CallbackRunnable.executeWithValue(Promise.scala:72)\n",
      "\tat scala.concurrent.impl.Promise$DefaultPromise.$anonfun$tryComplete$1(Promise.scala:288)\n",
      "\tat scala.concurrent.impl.Promise$DefaultPromise.$anonfun$tryComplete$1$adapted(Promise.scala:288)\n",
      "\tat scala.concurrent.impl.Promise$DefaultPromise.tryComplete(Promise.scala:288)\n",
      "\tat scala.concurrent.Promise.complete(Promise.scala:53)\n",
      "\tat scala.concurrent.Promise.complete$(Promise.scala:52)\n",
      "\tat scala.concurrent.impl.Promise$DefaultPromise.complete(Promise.scala:187)\n",
      "\tat scala.concurrent.impl.Promise.$anonfun$transform$1(Promise.scala:33)\n",
      "\tat scala.concurrent.impl.CallbackRunnable.run(Promise.scala:64)\n",
      "\tat scala.concurrent.BatchingExecutor$Batch.processBatch$1(BatchingExecutor.scala:67)\n",
      "\tat scala.concurrent.BatchingExecutor$Batch.$anonfun$run$1(BatchingExecutor.scala:82)\n",
      "\tat scala.runtime.java8.JFunction0$mcV$sp.apply(JFunction0$mcV$sp.java:23)\n",
      "\tat scala.concurrent.BlockContext$.withBlockContext(BlockContext.scala:85)\n",
      "\tat scala.concurrent.BatchingExecutor$Batch.run(BatchingExecutor.scala:59)\n",
      "\tat scala.concurrent.Future$InternalCallbackExecutor$.unbatchedExecute(Future.scala:875)\n",
      "\tat scala.concurrent.BatchingExecutor.execute(BatchingExecutor.scala:110)\n",
      "\tat scala.concurrent.BatchingExecutor.execute$(BatchingExecutor.scala:107)\n",
      "\tat scala.concurrent.Future$InternalCallbackExecutor$.execute(Future.scala:873)\n",
      "\tat scala.concurrent.impl.CallbackRunnable.executeWithValue(Promise.scala:72)\n",
      "\tat scala.concurrent.impl.Promise$DefaultPromise.$anonfun$tryComplete$1(Promise.scala:288)\n",
      "\tat scala.concurrent.impl.Promise$DefaultPromise.$anonfun$tryComplete$1$adapted(Promise.scala:288)\n",
      "\tat scala.concurrent.impl.Promise$DefaultPromise.tryComplete(Promise.scala:288)\n",
      "\tat scala.concurrent.Promise.trySuccess(Promise.scala:94)\n",
      "\tat scala.concurrent.Promise.trySuccess$(Promise.scala:94)\n",
      "\tat scala.concurrent.impl.Promise$DefaultPromise.trySuccess(Promise.scala:187)\n",
      "\tat org.apache.spark.rpc.netty.NettyRpcEnv.onSuccess$1(NettyRpcEnv.scala:225)\n",
      "\tat org.apache.spark.rpc.netty.NettyRpcEnv.$anonfun$askAbortable$5(NettyRpcEnv.scala:239)\n",
      "\tat org.apache.spark.rpc.netty.NettyRpcEnv.$anonfun$askAbortable$5$adapted(NettyRpcEnv.scala:238)\n",
      "\tat scala.concurrent.impl.CallbackRunnable.run(Promise.scala:64)\n",
      "\tat org.apache.spark.util.ThreadUtils$$anon$1.execute(ThreadUtils.scala:99)\n",
      "\tat scala.concurrent.impl.ExecutionContextImpl$$anon$4.execute(ExecutionContextImpl.scala:138)\n",
      "\tat scala.concurrent.impl.CallbackRunnable.executeWithValue(Promise.scala:72)\n",
      "\tat scala.concurrent.impl.Promise$DefaultPromise.$anonfun$tryComplete$1(Promise.scala:288)\n",
      "\tat scala.concurrent.impl.Promise$DefaultPromise.$anonfun$tryComplete$1$adapted(Promise.scala:288)\n",
      "\tat scala.concurrent.impl.Promise$DefaultPromise.tryComplete(Promise.scala:288)\n",
      "\tat scala.concurrent.Promise.complete(Promise.scala:53)\n",
      "\tat scala.concurrent.Promise.complete$(Promise.scala:52)\n",
      "\tat scala.concurrent.impl.Promise$DefaultPromise.complete(Promise.scala:187)\n",
      "\tat scala.concurrent.Promise.success(Promise.scala:86)\n",
      "\tat scala.concurrent.Promise.success$(Promise.scala:86)\n",
      "\tat scala.concurrent.impl.Promise$DefaultPromise.success(Promise.scala:187)\n",
      "\tat org.apache.spark.rpc.netty.LocalNettyRpcCallContext.send(NettyRpcCallContext.scala:50)\n",
      "\tat org.apache.spark.rpc.netty.NettyRpcCallContext.reply(NettyRpcCallContext.scala:32)\n",
      "\tat org.apache.spark.rpc.netty.RpcEndpointVerifier$$anonfun$receiveAndReply$1.applyOrElse(RpcEndpointVerifier.scala:31)\n",
      "\tat org.apache.spark.rpc.netty.Inbox.$anonfun$process$1(Inbox.scala:103)\n",
      "\tat org.apache.spark.rpc.netty.Inbox.safelyCall(Inbox.scala:213)\n",
      "\tat org.apache.spark.rpc.netty.Inbox.process(Inbox.scala:100)\n",
      "\tat org.apache.spark.rpc.netty.MessageLoop.org$apache$spark$rpc$netty$MessageLoop$$receiveLoop(MessageLoop.scala:75)\n",
      "\tat org.apache.spark.rpc.netty.MessageLoop$$anon$1.run(MessageLoop.scala:41)\n",
      "\t... 3 more\n",
      "23/04/13 12:52:11 WARN Executor: Issue communicating with driver in heartbeater\n",
      "org.apache.spark.SparkException: Exception thrown in awaitResult: \n",
      "\tat org.apache.spark.util.ThreadUtils$.awaitResult(ThreadUtils.scala:301)\n",
      "\tat org.apache.spark.rpc.RpcTimeout.awaitResult(RpcTimeout.scala:75)\n",
      "\tat org.apache.spark.rpc.RpcEndpointRef.askSync(RpcEndpointRef.scala:103)\n",
      "\tat org.apache.spark.rpc.RpcEndpointRef.askSync(RpcEndpointRef.scala:87)\n",
      "\tat org.apache.spark.storage.BlockManagerMaster.registerBlockManager(BlockManagerMaster.scala:80)\n",
      "\tat org.apache.spark.storage.BlockManager.reregister(BlockManager.scala:643)\n",
      "\tat org.apache.spark.executor.Executor.reportHeartBeat(Executor.scala:1057)\n",
      "\tat org.apache.spark.executor.Executor.$anonfun$heartbeater$1(Executor.scala:238)\n",
      "\tat scala.runtime.java8.JFunction0$mcV$sp.apply(JFunction0$mcV$sp.java:23)\n",
      "\tat org.apache.spark.util.Utils$.logUncaughtExceptions(Utils.scala:2066)\n",
      "\tat org.apache.spark.Heartbeater$$anon$1.run(Heartbeater.scala:46)\n",
      "\tat java.util.concurrent.Executors$RunnableAdapter.call(Executors.java:511)\n",
      "\tat java.util.concurrent.FutureTask.runAndReset(FutureTask.java:308)\n",
      "\tat java.util.concurrent.ScheduledThreadPoolExecutor$ScheduledFutureTask.access$301(ScheduledThreadPoolExecutor.java:180)\n",
      "\tat java.util.concurrent.ScheduledThreadPoolExecutor$ScheduledFutureTask.run(ScheduledThreadPoolExecutor.java:294)\n",
      "\tat java.util.concurrent.ThreadPoolExecutor.runWorker(ThreadPoolExecutor.java:1149)\n",
      "\tat java.util.concurrent.ThreadPoolExecutor$Worker.run(ThreadPoolExecutor.java:624)\n",
      "\tat java.lang.Thread.run(Thread.java:750)\n",
      "Caused by: org.apache.spark.SparkException: Exception thrown in awaitResult: \n",
      "\tat org.apache.spark.util.ThreadUtils$.awaitResult(ThreadUtils.scala:301)\n",
      "\tat org.apache.spark.rpc.RpcTimeout.awaitResult(RpcTimeout.scala:75)\n",
      "\tat org.apache.spark.rpc.RpcEnv.setupEndpointRefByURI(RpcEnv.scala:102)\n",
      "\tat org.apache.spark.rpc.RpcEnv.setupEndpointRef(RpcEnv.scala:110)\n",
      "\tat org.apache.spark.util.RpcUtils$.makeDriverRef(RpcUtils.scala:36)\n",
      "\tat org.apache.spark.storage.BlockManagerMasterEndpoint.driverEndpoint$lzycompute(BlockManagerMasterEndpoint.scala:117)\n",
      "\tat org.apache.spark.storage.BlockManagerMasterEndpoint.org$apache$spark$storage$BlockManagerMasterEndpoint$$driverEndpoint(BlockManagerMasterEndpoint.scala:116)\n",
      "\tat org.apache.spark.storage.BlockManagerMasterEndpoint.isExecutorAlive$lzycompute$1(BlockManagerMasterEndpoint.scala:593)\n",
      "\tat org.apache.spark.storage.BlockManagerMasterEndpoint.isExecutorAlive$1(BlockManagerMasterEndpoint.scala:592)\n",
      "\tat org.apache.spark.storage.BlockManagerMasterEndpoint.org$apache$spark$storage$BlockManagerMasterEndpoint$$register(BlockManagerMasterEndpoint.scala:630)\n",
      "\tat org.apache.spark.storage.BlockManagerMasterEndpoint$$anonfun$receiveAndReply$1.applyOrElse(BlockManagerMasterEndpoint.scala:123)\n",
      "\tat org.apache.spark.rpc.netty.Inbox.$anonfun$process$1(Inbox.scala:103)\n",
      "\tat org.apache.spark.rpc.netty.Inbox.safelyCall(Inbox.scala:213)\n",
      "\tat org.apache.spark.rpc.netty.Inbox.process(Inbox.scala:100)\n",
      "\tat org.apache.spark.rpc.netty.MessageLoop.org$apache$spark$rpc$netty$MessageLoop$$receiveLoop(MessageLoop.scala:75)\n",
      "\tat org.apache.spark.rpc.netty.MessageLoop$$anon$1.run(MessageLoop.scala:41)\n",
      "\tat java.util.concurrent.Executors$RunnableAdapter.call(Executors.java:511)\n",
      "\tat java.util.concurrent.FutureTask.run(FutureTask.java:266)\n",
      "\t... 3 more\n",
      "Caused by: org.apache.spark.rpc.RpcEndpointNotFoundException: Cannot find endpoint: spark://CoarseGrainedScheduler@10.0.0.167:50332\n",
      "\tat org.apache.spark.rpc.netty.NettyRpcEnv.$anonfun$asyncSetupEndpointRefByURI$1(NettyRpcEnv.scala:148)\n",
      "\tat org.apache.spark.rpc.netty.NettyRpcEnv.$anonfun$asyncSetupEndpointRefByURI$1$adapted(NettyRpcEnv.scala:144)\n",
      "\tat scala.concurrent.Future.$anonfun$flatMap$1(Future.scala:307)\n",
      "\tat scala.concurrent.impl.Promise.$anonfun$transformWith$1(Promise.scala:41)\n",
      "\tat scala.concurrent.impl.CallbackRunnable.run(Promise.scala:64)\n",
      "\tat org.apache.spark.util.ThreadUtils$$anon$1.execute(ThreadUtils.scala:99)\n",
      "\tat scala.concurrent.impl.ExecutionContextImpl$$anon$4.execute(ExecutionContextImpl.scala:138)\n",
      "\tat scala.concurrent.impl.CallbackRunnable.executeWithValue(Promise.scala:72)\n",
      "\tat scala.concurrent.impl.Promise$DefaultPromise.$anonfun$tryComplete$1(Promise.scala:288)\n",
      "\tat scala.concurrent.impl.Promise$DefaultPromise.$anonfun$tryComplete$1$adapted(Promise.scala:288)\n",
      "\tat scala.concurrent.impl.Promise$DefaultPromise.tryComplete(Promise.scala:288)\n",
      "\tat scala.concurrent.Promise.complete(Promise.scala:53)\n",
      "\tat scala.concurrent.Promise.complete$(Promise.scala:52)\n",
      "\tat scala.concurrent.impl.Promise$DefaultPromise.complete(Promise.scala:187)\n",
      "\tat scala.concurrent.impl.Promise.$anonfun$transform$1(Promise.scala:33)\n",
      "\tat scala.concurrent.impl.CallbackRunnable.run(Promise.scala:64)\n",
      "\tat org.apache.spark.util.ThreadUtils$$anon$1.execute(ThreadUtils.scala:99)\n",
      "\tat scala.concurrent.impl.ExecutionContextImpl$$anon$4.execute(ExecutionContextImpl.scala:138)\n",
      "\tat scala.concurrent.impl.CallbackRunnable.executeWithValue(Promise.scala:72)\n",
      "\tat scala.concurrent.impl.Promise$DefaultPromise.$anonfun$tryComplete$1(Promise.scala:288)\n",
      "\tat scala.concurrent.impl.Promise$DefaultPromise.$anonfun$tryComplete$1$adapted(Promise.scala:288)\n",
      "\tat scala.concurrent.impl.Promise$DefaultPromise.tryComplete(Promise.scala:288)\n",
      "\tat scala.concurrent.Promise.complete(Promise.scala:53)\n",
      "\tat scala.concurrent.Promise.complete$(Promise.scala:52)\n",
      "\tat scala.concurrent.impl.Promise$DefaultPromise.complete(Promise.scala:187)\n",
      "\tat scala.concurrent.impl.Promise.$anonfun$transform$1(Promise.scala:33)\n",
      "\tat scala.concurrent.impl.CallbackRunnable.run(Promise.scala:64)\n",
      "\tat scala.concurrent.BatchingExecutor$Batch.processBatch$1(BatchingExecutor.scala:67)\n",
      "\tat scala.concurrent.BatchingExecutor$Batch.$anonfun$run$1(BatchingExecutor.scala:82)\n",
      "\tat scala.runtime.java8.JFunction0$mcV$sp.apply(JFunction0$mcV$sp.java:23)\n",
      "\tat scala.concurrent.BlockContext$.withBlockContext(BlockContext.scala:85)\n",
      "\tat scala.concurrent.BatchingExecutor$Batch.run(BatchingExecutor.scala:59)\n",
      "\tat scala.concurrent.Future$InternalCallbackExecutor$.unbatchedExecute(Future.scala:875)\n",
      "\tat scala.concurrent.BatchingExecutor.execute(BatchingExecutor.scala:110)\n",
      "\tat scala.concurrent.BatchingExecutor.execute$(BatchingExecutor.scala:107)\n",
      "\tat scala.concurrent.Future$InternalCallbackExecutor$.execute(Future.scala:873)\n",
      "\tat scala.concurrent.impl.CallbackRunnable.executeWithValue(Promise.scala:72)\n",
      "\tat scala.concurrent.impl.Promise$DefaultPromise.$anonfun$tryComplete$1(Promise.scala:288)\n",
      "\tat scala.concurrent.impl.Promise$DefaultPromise.$anonfun$tryComplete$1$adapted(Promise.scala:288)\n",
      "\tat scala.concurrent.impl.Promise$DefaultPromise.tryComplete(Promise.scala:288)\n",
      "\tat scala.concurrent.Promise.trySuccess(Promise.scala:94)\n",
      "\tat scala.concurrent.Promise.trySuccess$(Promise.scala:94)\n",
      "\tat scala.concurrent.impl.Promise$DefaultPromise.trySuccess(Promise.scala:187)\n",
      "\tat org.apache.spark.rpc.netty.NettyRpcEnv.onSuccess$1(NettyRpcEnv.scala:225)\n",
      "\tat org.apache.spark.rpc.netty.NettyRpcEnv.$anonfun$askAbortable$5(NettyRpcEnv.scala:239)\n",
      "\tat org.apache.spark.rpc.netty.NettyRpcEnv.$anonfun$askAbortable$5$adapted(NettyRpcEnv.scala:238)\n",
      "\tat scala.concurrent.impl.CallbackRunnable.run(Promise.scala:64)\n",
      "\tat org.apache.spark.util.ThreadUtils$$anon$1.execute(ThreadUtils.scala:99)\n",
      "\tat scala.concurrent.impl.ExecutionContextImpl$$anon$4.execute(ExecutionContextImpl.scala:138)\n",
      "\tat scala.concurrent.impl.CallbackRunnable.executeWithValue(Promise.scala:72)\n",
      "\tat scala.concurrent.impl.Promise$DefaultPromise.$anonfun$tryComplete$1(Promise.scala:288)\n",
      "\tat scala.concurrent.impl.Promise$DefaultPromise.$anonfun$tryComplete$1$adapted(Promise.scala:288)\n",
      "\tat scala.concurrent.impl.Promise$DefaultPromise.tryComplete(Promise.scala:288)\n",
      "\tat scala.concurrent.Promise.complete(Promise.scala:53)\n",
      "\tat scala.concurrent.Promise.complete$(Promise.scala:52)\n",
      "\tat scala.concurrent.impl.Promise$DefaultPromise.complete(Promise.scala:187)\n",
      "\tat scala.concurrent.Promise.success(Promise.scala:86)\n",
      "\tat scala.concurrent.Promise.success$(Promise.scala:86)\n",
      "\tat scala.concurrent.impl.Promise$DefaultPromise.success(Promise.scala:187)\n",
      "\tat org.apache.spark.rpc.netty.LocalNettyRpcCallContext.send(NettyRpcCallContext.scala:50)\n",
      "\tat org.apache.spark.rpc.netty.NettyRpcCallContext.reply(NettyRpcCallContext.scala:32)\n",
      "\tat org.apache.spark.rpc.netty.RpcEndpointVerifier$$anonfun$receiveAndReply$1.applyOrElse(RpcEndpointVerifier.scala:31)\n",
      "\tat org.apache.spark.rpc.netty.Inbox.$anonfun$process$1(Inbox.scala:103)\n",
      "\tat org.apache.spark.rpc.netty.Inbox.safelyCall(Inbox.scala:213)\n",
      "\tat org.apache.spark.rpc.netty.Inbox.process(Inbox.scala:100)\n",
      "\tat org.apache.spark.rpc.netty.MessageLoop.org$apache$spark$rpc$netty$MessageLoop$$receiveLoop(MessageLoop.scala:75)\n",
      "\tat org.apache.spark.rpc.netty.MessageLoop$$anon$1.run(MessageLoop.scala:41)\n",
      "\t... 3 more\n"
     ]
    }
   ],
   "source": [
    "from pyspark.ml.clustering import KMeans\n",
    "from pyspark.ml.feature import VectorAssembler\n",
    "from pyspark.sql.functions import col, when\n",
    "from pyspark.sql.functions import to_date, count\n",
    "\n",
    "black_color_codes = ['BLK', 'BK.', 'BCK', 'BK', 'BLK.', 'Black', 'BC', 'BLAC', 'BK/', 'B LAC','BLAAC',\n",
    "                     'BLAK','B K','BLCK','BACK','BL.','BLC','BLA','BLACL','B L','B LK','BLACK']\n",
    "\n",
    "df2 = df.select('Vehicle Color', 'Street Code1', 'Street Code2', 'Street Code3')\n",
    "va = VectorAssembler(inputCols=['Street Code1', 'Street Code2', 'Street Code3'], outputCol='features')\n",
    "df2 = va.transform(df2).select('Vehicle Color', 'Street Code1', 'Street Code2', 'Street Code3','features')\n",
    "\n",
    "kmeans = KMeans(k=3)\n",
    "model = kmeans.fit(df2.select('features'))\n",
    "\n",
    "td = model.transform(df2)\n",
    "td.show()\n",
    "\n",
    "probabilities = td.groupBy('prediction').agg(count(when(col('Vehicle Color').isin(black_color_codes),1))\n",
    "                                             .alias('Black cars'),count('Vehicle Color').alias('Total')).orderBy('prediction')\n",
    "probabilities = probabilities.select('prediction','Black cars','Total',(col('Black cars')/col('Total'))\n",
    "                                     .alias('Probability'))\n",
    "\n",
    "print(probabilities.show())\n",
    "\n",
    "test_df = spark.createDataFrame([[34510, 10030, 34050]], ['Street Code1', 'Street Code2', 'Street Code3'])\n",
    "test_df = va.transform(test_df)\n",
    "label = model.transform(test_df).select('prediction').collect()[0]['prediction']\n",
    "\n",
    "print(label)\n",
    "print(probabilities.filter(col('prediction') == label).show())\n",
    "\n"
   ]
  },
  {
   "cell_type": "code",
   "execution_count": 12,
   "id": "fa0440c9",
   "metadata": {},
   "outputs": [
    {
     "name": "stderr",
     "output_type": "stream",
     "text": [
      "[Stage 131:==========================================>            (13 + 4) / 17]\r"
     ]
    },
    {
     "name": "stdout",
     "output_type": "stream",
     "text": [
      "Silhouette with squared euclidean distance = 0.646474686131599\n",
      "Cluster Centers: \n",
      "[2626.82760724 1012.08869562  544.68287738]\n",
      "[52439.98820488 53710.30883956 53627.01508551]\n",
      "[27184.08815097 22899.1299727  23195.26674375]\n"
     ]
    },
    {
     "name": "stderr",
     "output_type": "stream",
     "text": [
      "                                                                                \r"
     ]
    }
   ],
   "source": [
    "from pyspark.ml.evaluation import ClusteringEvaluator\n",
    "\n",
    "evaluator = ClusteringEvaluator()\n",
    "\n",
    "silhouette = evaluator.evaluate(td)\n",
    "print(\"Silhouette with squared euclidean distance = \" + str(silhouette))\n",
    "\n",
    "centers = model.clusterCenters()\n",
    "print(\"Cluster Centers: \")\n",
    "for center in centers:\n",
    "    print(center)"
   ]
  },
  {
   "cell_type": "code",
   "execution_count": 13,
   "id": "75b8f591",
   "metadata": {},
   "outputs": [
    {
     "name": "stderr",
     "output_type": "stream",
     "text": [
      "[Stage 134:>                                                       (0 + 8) / 17]\r"
     ]
    },
    {
     "name": "stdout",
     "output_type": "stream",
     "text": [
      "23/04/11 22:52:56 WARN MemoryStore: Not enough space to cache rdd_267_5 in memory! (computed 44.2 MiB so far)\n",
      "23/04/11 22:52:56 WARN BlockManager: Persisting block rdd_267_5 to disk instead.\n",
      "23/04/11 22:52:56 WARN MemoryStore: Not enough space to cache rdd_267_1 in memory! (computed 44.2 MiB so far)\n",
      "23/04/11 22:52:56 WARN BlockManager: Persisting block rdd_267_1 to disk instead.\n",
      "23/04/11 22:52:56 WARN MemoryStore: Not enough space to cache rdd_267_7 in memory! (computed 44.2 MiB so far)\n",
      "23/04/11 22:52:56 WARN BlockManager: Persisting block rdd_267_7 to disk instead.\n",
      "23/04/11 22:52:56 WARN MemoryStore: Not enough space to cache rdd_267_3 in memory! (computed 44.2 MiB so far)\n",
      "23/04/11 22:52:56 WARN BlockManager: Persisting block rdd_267_3 to disk instead.\n",
      "23/04/11 22:52:56 WARN MemoryStore: Not enough space to cache rdd_267_2 in memory! (computed 44.2 MiB so far)\n",
      "23/04/11 22:52:56 WARN BlockManager: Persisting block rdd_267_2 to disk instead.\n",
      "23/04/11 22:52:56 WARN MemoryStore: Not enough space to cache rdd_267_6 in memory! (computed 44.2 MiB so far)\n",
      "23/04/11 22:52:56 WARN BlockManager: Persisting block rdd_267_6 to disk instead.\n",
      "23/04/11 22:52:56 WARN MemoryStore: Not enough space to cache rdd_267_0 in memory! (computed 44.2 MiB so far)\n",
      "23/04/11 22:52:56 WARN BlockManager: Persisting block rdd_267_0 to disk instead.\n",
      "23/04/11 22:52:56 WARN MemoryStore: Not enough space to cache rdd_267_4 in memory! (computed 44.2 MiB so far)\n",
      "23/04/11 22:52:56 WARN BlockManager: Persisting block rdd_267_4 to disk instead.\n",
      "23/04/11 22:53:00 WARN MemoryStore: Not enough space to cache rdd_267_2 in memory! (computed 29.5 MiB so far)\n",
      "23/04/11 22:53:00 WARN MemoryStore: Not enough space to cache rdd_267_0 in memory! (computed 19.6 MiB so far)\n",
      "23/04/11 22:53:00 WARN MemoryStore: Not enough space to cache rdd_267_5 in memory! (computed 19.6 MiB so far)\n"
     ]
    },
    {
     "name": "stderr",
     "output_type": "stream",
     "text": [
      "[Stage 134:==========================>                             (8 + 8) / 17]\r"
     ]
    },
    {
     "name": "stdout",
     "output_type": "stream",
     "text": [
      "23/04/11 22:53:01 WARN MemoryStore: Not enough space to cache rdd_267_8 in memory! (computed 5.6 MiB so far)\n",
      "23/04/11 22:53:01 WARN BlockManager: Persisting block rdd_267_8 to disk instead.\n",
      "23/04/11 22:53:01 WARN MemoryStore: Not enough space to cache rdd_267_13 in memory! (computed 5.6 MiB so far)\n",
      "23/04/11 22:53:01 WARN BlockManager: Persisting block rdd_267_13 to disk instead.\n",
      "23/04/11 22:53:01 WARN MemoryStore: Not enough space to cache rdd_267_15 in memory! (computed 5.6 MiB so far)\n",
      "23/04/11 22:53:01 WARN BlockManager: Persisting block rdd_267_15 to disk instead.\n",
      "23/04/11 22:53:02 WARN MemoryStore: Not enough space to cache rdd_267_10 in memory! (computed 8.4 MiB so far)\n",
      "23/04/11 22:53:02 WARN BlockManager: Persisting block rdd_267_10 to disk instead.\n",
      "23/04/11 22:53:02 WARN MemoryStore: Not enough space to cache rdd_267_14 in memory! (computed 8.4 MiB so far)\n",
      "23/04/11 22:53:02 WARN BlockManager: Persisting block rdd_267_14 to disk instead.\n",
      "23/04/11 22:53:02 WARN MemoryStore: Not enough space to cache rdd_267_9 in memory! (computed 13.1 MiB so far)\n",
      "23/04/11 22:53:02 WARN BlockManager: Persisting block rdd_267_9 to disk instead.\n",
      "23/04/11 22:53:03 WARN MemoryStore: Not enough space to cache rdd_267_12 in memory! (computed 19.6 MiB so far)\n",
      "23/04/11 22:53:03 WARN BlockManager: Persisting block rdd_267_12 to disk instead.\n",
      "23/04/11 22:53:05 WARN MemoryStore: Not enough space to cache rdd_267_11 in memory! (computed 44.2 MiB so far)\n",
      "23/04/11 22:53:05 WARN BlockManager: Persisting block rdd_267_11 to disk instead.\n",
      "23/04/11 22:53:08 WARN MemoryStore: Not enough space to cache rdd_267_15 in memory! (computed 13.1 MiB so far)\n",
      "23/04/11 22:53:09 WARN MemoryStore: Not enough space to cache rdd_267_11 in memory! (computed 13.1 MiB so far)\n",
      "23/04/11 22:53:09 WARN MemoryStore: Not enough space to cache rdd_267_14 in memory! (computed 29.5 MiB so far)\n",
      "23/04/11 22:53:09 WARN MemoryStore: Not enough space to cache rdd_267_10 in memory! (computed 13.1 MiB so far)\n",
      "23/04/11 22:53:09 WARN MemoryStore: Not enough space to cache rdd_267_9 in memory! (computed 8.4 MiB so far)\n",
      "23/04/11 22:53:09 WARN MemoryStore: Not enough space to cache rdd_267_8 in memory! (computed 13.1 MiB so far)\n",
      "23/04/11 22:53:09 WARN MemoryStore: Not enough space to cache rdd_267_13 in memory! (computed 19.6 MiB so far)\n",
      "23/04/11 22:53:09 WARN MemoryStore: Not enough space to cache rdd_267_12 in memory! (computed 44.2 MiB so far)\n"
     ]
    },
    {
     "name": "stderr",
     "output_type": "stream",
     "text": [
      "                                                                                \r"
     ]
    },
    {
     "name": "stdout",
     "output_type": "stream",
     "text": [
      "23/04/11 22:53:10 WARN MemoryStore: Not enough space to cache rdd_267_5 in memory! (computed 8.4 MiB so far)\n",
      "23/04/11 22:53:10 WARN MemoryStore: Not enough space to cache rdd_267_2 in memory! (computed 8.4 MiB so far)\n",
      "23/04/11 22:53:10 WARN MemoryStore: Not enough space to cache rdd_267_12 in memory! (computed 3.7 MiB so far)\n",
      "23/04/11 22:53:10 WARN MemoryStore: Not enough space to cache rdd_267_9 in memory! (computed 5.6 MiB so far)\n",
      "23/04/11 22:53:10 WARN MemoryStore: Not enough space to cache rdd_267_8 in memory! (computed 2.5 MiB so far)\n",
      "23/04/11 22:53:10 WARN MemoryStore: Not enough space to cache rdd_267_11 in memory! (computed 3.7 MiB so far)\n",
      "23/04/11 22:53:10 WARN MemoryStore: Not enough space to cache rdd_267_0 in memory! (computed 13.1 MiB so far)\n"
     ]
    },
    {
     "name": "stderr",
     "output_type": "stream",
     "text": [
      "[Stage 135:================>                                       (5 + 8) / 17]\r"
     ]
    },
    {
     "name": "stdout",
     "output_type": "stream",
     "text": [
      "23/04/11 22:53:11 WARN MemoryStore: Not enough space to cache rdd_267_10 in memory! (computed 44.2 MiB so far)\n",
      "23/04/11 22:53:11 WARN MemoryStore: Not enough space to cache rdd_267_14 in memory! (computed 13.1 MiB so far)\n",
      "23/04/11 22:53:11 WARN MemoryStore: Not enough space to cache rdd_267_13 in memory! (computed 13.1 MiB so far)\n"
     ]
    },
    {
     "name": "stderr",
     "output_type": "stream",
     "text": [
      "[Stage 135:=============================================>         (14 + 3) / 17]\r"
     ]
    },
    {
     "name": "stdout",
     "output_type": "stream",
     "text": [
      "23/04/11 22:53:11 WARN MemoryStore: Not enough space to cache rdd_267_15 in memory! (computed 44.2 MiB so far)\n"
     ]
    },
    {
     "name": "stderr",
     "output_type": "stream",
     "text": [
      "                                                                                \r"
     ]
    },
    {
     "name": "stdout",
     "output_type": "stream",
     "text": [
      "23/04/11 22:53:12 WARN MemoryStore: Not enough space to cache rdd_267_0 in memory! (computed 5.6 MiB so far)\n",
      "23/04/11 22:53:12 WARN MemoryStore: Not enough space to cache rdd_271_6 in memory! (computed 8.0 MiB so far)\n",
      "23/04/11 22:53:12 WARN MemoryStore: Not enough space to cache rdd_271_3 in memory! (computed 8.0 MiB so far)\n",
      "23/04/11 22:53:12 WARN MemoryStore: Not enough space to cache rdd_271_1 in memory! (computed 8.0 MiB so far)\n",
      "23/04/11 22:53:12 WARN MemoryStore: Not enough space to cache rdd_267_2 in memory! (computed 5.6 MiB so far)\n",
      "23/04/11 22:53:12 WARN MemoryStore: Not enough space to cache rdd_271_4 in memory! (computed 8.0 MiB so far)\n",
      "23/04/11 22:53:12 WARN BlockManager: Persisting block rdd_271_6 to disk instead.\n",
      "23/04/11 22:53:12 WARN BlockManager: Persisting block rdd_271_3 to disk instead.\n",
      "23/04/11 22:53:12 WARN MemoryStore: Failed to reserve initial memory threshold of 1024.0 KiB for computing block rdd_267_0 in memory.\n",
      "23/04/11 22:53:12 WARN BlockManager: Persisting block rdd_271_4 to disk instead.\n",
      "23/04/11 22:53:12 WARN BlockManager: Persisting block rdd_271_1 to disk instead.\n",
      "23/04/11 22:53:12 WARN MemoryStore: Not enough space to cache rdd_267_0 in memory! (computed 384.0 B so far)\n",
      "23/04/11 22:53:12 WARN MemoryStore: Failed to reserve initial memory threshold of 1024.0 KiB for computing block rdd_271_0 in memory.\n",
      "23/04/11 22:53:12 WARN MemoryStore: Not enough space to cache rdd_271_0 in memory! (computed 640.0 B so far)\n",
      "23/04/11 22:53:12 WARN BlockManager: Persisting block rdd_271_0 to disk instead.\n",
      "23/04/11 22:53:12 WARN MemoryStore: Not enough space to cache rdd_267_5 in memory! (computed 8.4 MiB so far)\n",
      "23/04/11 22:53:12 WARN MemoryStore: Failed to reserve initial memory threshold of 1024.0 KiB for computing block rdd_267_5 in memory.\n",
      "23/04/11 22:53:12 WARN MemoryStore: Not enough space to cache rdd_267_5 in memory! (computed 384.0 B so far)\n"
     ]
    },
    {
     "name": "stderr",
     "output_type": "stream",
     "text": [
      "[Stage 136:================>                                       (5 + 8) / 17]\r"
     ]
    },
    {
     "name": "stdout",
     "output_type": "stream",
     "text": [
      "23/04/11 22:53:12 WARN MemoryStore: Not enough space to cache rdd_267_2 in memory! (computed 44.2 MiB so far)\n",
      "23/04/11 22:53:12 WARN MemoryStore: Not enough space to cache rdd_267_11 in memory! (computed 8.4 MiB so far)\n",
      "23/04/11 22:53:12 WARN MemoryStore: Not enough space to cache rdd_267_12 in memory! (computed 8.4 MiB so far)\n",
      "23/04/11 22:53:12 WARN MemoryStore: Not enough space to cache rdd_267_10 in memory! (computed 8.4 MiB so far)\n",
      "23/04/11 22:53:12 WARN MemoryStore: Failed to reserve initial memory threshold of 1024.0 KiB for computing block rdd_267_10 in memory.\n",
      "23/04/11 22:53:12 WARN MemoryStore: Not enough space to cache rdd_267_10 in memory! (computed 384.0 B so far)\n",
      "23/04/11 22:53:13 WARN MemoryStore: Not enough space to cache rdd_267_11 in memory! (computed 13.1 MiB so far)\n",
      "23/04/11 22:53:13 WARN MemoryStore: Not enough space to cache rdd_267_8 in memory! (computed 44.2 MiB so far)\n",
      "23/04/11 22:53:13 WARN MemoryStore: Not enough space to cache rdd_267_12 in memory! (computed 19.6 MiB so far)\n",
      "23/04/11 22:53:13 WARN MemoryStore: Not enough space to cache rdd_267_9 in memory! (computed 29.5 MiB so far)\n",
      "23/04/11 22:53:14 WARN MemoryStore: Not enough space to cache rdd_267_8 in memory! (computed 13.1 MiB so far)\n"
     ]
    },
    {
     "name": "stderr",
     "output_type": "stream",
     "text": [
      "[Stage 136:======================================>                (12 + 5) / 17]\r"
     ]
    },
    {
     "name": "stdout",
     "output_type": "stream",
     "text": [
      "23/04/11 22:53:16 WARN MemoryStore: Not enough space to cache rdd_267_14 in memory! (computed 44.2 MiB so far)\n",
      "23/04/11 22:53:16 WARN MemoryStore: Not enough space to cache rdd_267_13 in memory! (computed 44.2 MiB so far)\n"
     ]
    },
    {
     "name": "stderr",
     "output_type": "stream",
     "text": [
      "[Stage 136:=============================================>         (14 + 3) / 17]\r"
     ]
    },
    {
     "name": "stdout",
     "output_type": "stream",
     "text": [
      "23/04/11 22:53:16 WARN MemoryStore: Not enough space to cache rdd_267_13 in memory! (computed 8.4 MiB so far)\n",
      "23/04/11 22:53:16 WARN MemoryStore: Not enough space to cache rdd_267_14 in memory! (computed 8.4 MiB so far)\n"
     ]
    },
    {
     "name": "stderr",
     "output_type": "stream",
     "text": [
      "[Stage 137:===>                                                    (1 + 8) / 17]\r"
     ]
    },
    {
     "name": "stdout",
     "output_type": "stream",
     "text": [
      "23/04/11 22:53:19 WARN MemoryStore: Not enough space to cache rdd_267_2 in memory! (computed 19.6 MiB so far)\n",
      "23/04/11 22:53:19 WARN MemoryStore: Not enough space to cache rdd_267_6 in memory! (computed 19.6 MiB so far)\n",
      "23/04/11 22:53:19 WARN MemoryStore: Not enough space to cache rdd_267_3 in memory! (computed 19.6 MiB so far)\n",
      "23/04/11 22:53:19 WARN MemoryStore: Not enough space to cache rdd_267_7 in memory! (computed 19.6 MiB so far)\n",
      "23/04/11 22:53:19 WARN MemoryStore: Not enough space to cache rdd_267_4 in memory! (computed 19.6 MiB so far)\n",
      "23/04/11 22:53:19 WARN MemoryStore: Not enough space to cache rdd_267_5 in memory! (computed 29.5 MiB so far)\n",
      "23/04/11 22:53:19 WARN MemoryStore: Not enough space to cache rdd_267_0 in memory! (computed 29.5 MiB so far)\n"
     ]
    },
    {
     "name": "stderr",
     "output_type": "stream",
     "text": [
      "[Stage 137:=============================>                          (9 + 8) / 17]\r"
     ]
    },
    {
     "name": "stdout",
     "output_type": "stream",
     "text": [
      "23/04/11 22:53:21 WARN MemoryStore: Not enough space to cache rdd_267_13 in memory! (computed 29.5 MiB so far)\n",
      "23/04/11 22:53:21 WARN MemoryStore: Not enough space to cache rdd_267_11 in memory! (computed 29.5 MiB so far)\n",
      "23/04/11 22:53:21 WARN MemoryStore: Not enough space to cache rdd_267_10 in memory! (computed 29.5 MiB so far)\n",
      "23/04/11 22:53:21 WARN MemoryStore: Not enough space to cache rdd_267_15 in memory! (computed 29.5 MiB so far)\n"
     ]
    },
    {
     "name": "stderr",
     "output_type": "stream",
     "text": [
      "[Stage 138:>                                                       (0 + 8) / 17]\r"
     ]
    },
    {
     "name": "stdout",
     "output_type": "stream",
     "text": [
      "23/04/11 22:53:23 WARN MemoryStore: Not enough space to cache rdd_267_1 in memory! (computed 19.6 MiB so far)\n",
      "23/04/11 22:53:23 WARN MemoryStore: Not enough space to cache rdd_267_4 in memory! (computed 19.6 MiB so far)\n",
      "23/04/11 22:53:23 WARN MemoryStore: Not enough space to cache rdd_267_7 in memory! (computed 19.6 MiB so far)\n",
      "23/04/11 22:53:23 WARN MemoryStore: Not enough space to cache rdd_267_5 in memory! (computed 19.6 MiB so far)\n",
      "23/04/11 22:53:23 WARN MemoryStore: Not enough space to cache rdd_267_2 in memory! (computed 19.6 MiB so far)\n",
      "23/04/11 22:53:23 WARN MemoryStore: Not enough space to cache rdd_267_0 in memory! (computed 19.6 MiB so far)\n",
      "23/04/11 22:53:23 WARN MemoryStore: Not enough space to cache rdd_267_3 in memory! (computed 19.6 MiB so far)\n"
     ]
    },
    {
     "name": "stderr",
     "output_type": "stream",
     "text": [
      "[Stage 138:==========================>                             (8 + 8) / 17]\r"
     ]
    },
    {
     "name": "stdout",
     "output_type": "stream",
     "text": [
      "23/04/11 22:53:26 WARN MemoryStore: Not enough space to cache rdd_267_12 in memory! (computed 44.2 MiB so far)\n",
      "23/04/11 22:53:26 WARN MemoryStore: Not enough space to cache rdd_267_13 in memory! (computed 29.5 MiB so far)\n",
      "23/04/11 22:53:26 WARN MemoryStore: Not enough space to cache rdd_267_9 in memory! (computed 29.5 MiB so far)\n",
      "23/04/11 22:53:26 WARN MemoryStore: Not enough space to cache rdd_267_15 in memory! (computed 29.5 MiB so far)\n",
      "23/04/11 22:53:26 WARN MemoryStore: Not enough space to cache rdd_267_11 in memory! (computed 29.5 MiB so far)\n",
      "23/04/11 22:53:26 WARN MemoryStore: Not enough space to cache rdd_267_8 in memory! (computed 29.5 MiB so far)\n"
     ]
    },
    {
     "name": "stderr",
     "output_type": "stream",
     "text": [
      "[Stage 139:>                                                       (0 + 8) / 17]\r"
     ]
    },
    {
     "name": "stdout",
     "output_type": "stream",
     "text": [
      "23/04/11 22:53:29 WARN MemoryStore: Not enough space to cache rdd_267_7 in memory! (computed 29.5 MiB so far)\n",
      "23/04/11 22:53:29 WARN MemoryStore: Not enough space to cache rdd_267_0 in memory! (computed 29.5 MiB so far)\n",
      "23/04/11 22:53:29 WARN MemoryStore: Not enough space to cache rdd_267_4 in memory! (computed 29.5 MiB so far)\n",
      "23/04/11 22:53:29 WARN MemoryStore: Not enough space to cache rdd_267_3 in memory! (computed 29.5 MiB so far)\n",
      "23/04/11 22:53:29 WARN MemoryStore: Not enough space to cache rdd_267_2 in memory! (computed 29.5 MiB so far)\n",
      "23/04/11 22:53:29 WARN MemoryStore: Not enough space to cache rdd_267_5 in memory! (computed 44.2 MiB so far)\n",
      "23/04/11 22:53:29 WARN MemoryStore: Not enough space to cache rdd_267_6 in memory! (computed 29.5 MiB so far)\n",
      "23/04/11 22:53:29 WARN MemoryStore: Not enough space to cache rdd_275_4 in memory! (computed 8.0 MiB so far)\n",
      "23/04/11 22:53:29 WARN MemoryStore: Not enough space to cache rdd_275_5 in memory! (computed 8.0 MiB so far)\n"
     ]
    },
    {
     "name": "stderr",
     "output_type": "stream",
     "text": [
      "[Stage 139:==========================>                             (8 + 8) / 17]\r"
     ]
    },
    {
     "name": "stdout",
     "output_type": "stream",
     "text": [
      "23/04/11 22:53:31 WARN MemoryStore: Not enough space to cache rdd_267_8 in memory! (computed 44.2 MiB so far)\n",
      "23/04/11 22:53:31 WARN MemoryStore: Not enough space to cache rdd_267_13 in memory! (computed 29.5 MiB so far)\n",
      "23/04/11 22:53:31 WARN MemoryStore: Not enough space to cache rdd_267_9 in memory! (computed 29.5 MiB so far)\n",
      "23/04/11 22:53:31 WARN MemoryStore: Not enough space to cache rdd_267_15 in memory! (computed 29.5 MiB so far)\n",
      "23/04/11 22:53:31 WARN MemoryStore: Not enough space to cache rdd_267_12 in memory! (computed 29.5 MiB so far)\n",
      "23/04/11 22:53:31 WARN MemoryStore: Not enough space to cache rdd_267_11 in memory! (computed 29.5 MiB so far)\n",
      "23/04/11 22:53:32 WARN MemoryStore: Not enough space to cache rdd_275_11 in memory! (computed 8.0 MiB so far)\n",
      "23/04/11 22:53:32 WARN MemoryStore: Not enough space to cache rdd_275_12 in memory! (computed 8.0 MiB so far)\n",
      "23/04/11 22:53:32 WARN MemoryStore: Not enough space to cache rdd_275_9 in memory! (computed 8.0 MiB so far)\n",
      "23/04/11 22:53:32 WARN MemoryStore: Not enough space to cache rdd_275_15 in memory! (computed 8.0 MiB so far)\n",
      "23/04/11 22:53:32 WARN MemoryStore: Not enough space to cache rdd_275_8 in memory! (computed 8.0 MiB so far)\n"
     ]
    },
    {
     "name": "stderr",
     "output_type": "stream",
     "text": [
      "[Stage 140:>                                                       (0 + 8) / 17]\r"
     ]
    },
    {
     "name": "stdout",
     "output_type": "stream",
     "text": [
      "23/04/11 22:53:33 WARN MemoryStore: Not enough space to cache rdd_267_2 in memory! (computed 19.6 MiB so far)\n",
      "23/04/11 22:53:34 WARN MemoryStore: Not enough space to cache rdd_267_4 in memory! (computed 29.5 MiB so far)\n",
      "23/04/11 22:53:34 WARN MemoryStore: Not enough space to cache rdd_267_7 in memory! (computed 29.5 MiB so far)\n",
      "23/04/11 22:53:34 WARN MemoryStore: Not enough space to cache rdd_267_5 in memory! (computed 29.5 MiB so far)\n",
      "23/04/11 22:53:34 WARN MemoryStore: Not enough space to cache rdd_267_3 in memory! (computed 29.5 MiB so far)\n",
      "23/04/11 22:53:34 WARN MemoryStore: Not enough space to cache rdd_267_0 in memory! (computed 29.5 MiB so far)\n",
      "23/04/11 22:53:34 WARN MemoryStore: Not enough space to cache rdd_267_1 in memory! (computed 29.5 MiB so far)\n",
      "23/04/11 22:53:34 WARN MemoryStore: Not enough space to cache rdd_267_6 in memory! (computed 29.5 MiB so far)\n"
     ]
    },
    {
     "name": "stderr",
     "output_type": "stream",
     "text": [
      "[Stage 140:==========================>                             (8 + 9) / 17]\r"
     ]
    },
    {
     "name": "stdout",
     "output_type": "stream",
     "text": [
      "23/04/11 22:53:35 WARN MemoryStore: Not enough space to cache rdd_267_15 in memory! (computed 29.5 MiB so far)\n",
      "23/04/11 22:53:35 WARN MemoryStore: Not enough space to cache rdd_267_8 in memory! (computed 29.5 MiB so far)\n",
      "23/04/11 22:53:35 WARN MemoryStore: Not enough space to cache rdd_267_12 in memory! (computed 29.5 MiB so far)\n"
     ]
    },
    {
     "name": "stderr",
     "output_type": "stream",
     "text": [
      "                                                                                \r"
     ]
    },
    {
     "name": "stdout",
     "output_type": "stream",
     "text": [
      "23/04/11 22:53:37 WARN MemoryStore: Not enough space to cache rdd_267_3 in memory! (computed 5.6 MiB so far)\n",
      "23/04/11 22:53:37 WARN MemoryStore: Not enough space to cache rdd_267_5 in memory! (computed 5.6 MiB so far)\n",
      "23/04/11 22:53:37 WARN MemoryStore: Not enough space to cache rdd_267_7 in memory! (computed 5.6 MiB so far)\n",
      "23/04/11 22:53:37 WARN MemoryStore: Not enough space to cache rdd_267_0 in memory! (computed 5.6 MiB so far)\n",
      "23/04/11 22:53:37 WARN MemoryStore: Not enough space to cache rdd_267_2 in memory! (computed 5.6 MiB so far)\n",
      "23/04/11 22:53:37 WARN MemoryStore: Not enough space to cache rdd_267_4 in memory! (computed 5.6 MiB so far)\n",
      "23/04/11 22:53:37 WARN MemoryStore: Not enough space to cache rdd_267_1 in memory! (computed 5.6 MiB so far)\n",
      "23/04/11 22:53:37 WARN MemoryStore: Not enough space to cache rdd_267_6 in memory! (computed 5.6 MiB so far)\n"
     ]
    },
    {
     "name": "stderr",
     "output_type": "stream",
     "text": [
      "[Stage 142:=========>                                              (3 + 9) / 17]\r"
     ]
    },
    {
     "name": "stdout",
     "output_type": "stream",
     "text": [
      "23/04/11 22:53:38 WARN MemoryStore: Not enough space to cache rdd_267_8 in memory! (computed 19.6 MiB so far)\n",
      "23/04/11 22:53:38 WARN MemoryStore: Not enough space to cache rdd_267_15 in memory! (computed 5.6 MiB so far)\n"
     ]
    },
    {
     "name": "stderr",
     "output_type": "stream",
     "text": [
      "[Stage 142:=============================================>         (14 + 3) / 17]\r"
     ]
    },
    {
     "name": "stdout",
     "output_type": "stream",
     "text": [
      "23/04/11 22:53:38 WARN MemoryStore: Not enough space to cache rdd_267_12 in memory! (computed 44.2 MiB so far)\n"
     ]
    },
    {
     "name": "stderr",
     "output_type": "stream",
     "text": [
      "                                                                                \r"
     ]
    },
    {
     "name": "stdout",
     "output_type": "stream",
     "text": [
      "23/04/11 22:53:39 WARN MemoryStore: Not enough space to cache rdd_267_5 in memory! (computed 5.6 MiB so far)\n",
      "23/04/11 22:53:39 WARN MemoryStore: Not enough space to cache rdd_267_3 in memory! (computed 5.6 MiB so far)\n",
      "23/04/11 22:53:39 WARN MemoryStore: Not enough space to cache rdd_267_2 in memory! (computed 5.6 MiB so far)\n",
      "23/04/11 22:53:39 WARN MemoryStore: Not enough space to cache rdd_267_1 in memory! (computed 5.6 MiB so far)\n",
      "23/04/11 22:53:39 WARN MemoryStore: Not enough space to cache rdd_267_4 in memory! (computed 5.6 MiB so far)\n",
      "23/04/11 22:53:39 WARN MemoryStore: Not enough space to cache rdd_267_0 in memory! (computed 13.1 MiB so far)\n",
      "23/04/11 22:53:39 WARN MemoryStore: Not enough space to cache rdd_267_7 in memory! (computed 19.6 MiB so far)\n"
     ]
    },
    {
     "name": "stderr",
     "output_type": "stream",
     "text": [
      "[Stage 144:=============>                                          (4 + 8) / 17]\r"
     ]
    },
    {
     "name": "stdout",
     "output_type": "stream",
     "text": [
      "23/04/11 22:53:39 WARN MemoryStore: Not enough space to cache rdd_267_6 in memory! (computed 44.2 MiB so far)\n",
      "23/04/11 22:53:39 WARN MemoryStore: Not enough space to cache rdd_267_12 in memory! (computed 13.1 MiB so far)\n",
      "23/04/11 22:53:39 WARN MemoryStore: Not enough space to cache rdd_267_15 in memory! (computed 13.1 MiB so far)\n"
     ]
    },
    {
     "name": "stderr",
     "output_type": "stream",
     "text": [
      "[Stage 144:=============================================>         (14 + 3) / 17]\r"
     ]
    },
    {
     "name": "stdout",
     "output_type": "stream",
     "text": [
      "23/04/11 22:53:40 WARN MemoryStore: Not enough space to cache rdd_267_8 in memory! (computed 44.2 MiB so far)\n"
     ]
    },
    {
     "name": "stderr",
     "output_type": "stream",
     "text": [
      "                                                                                \r"
     ]
    },
    {
     "name": "stdout",
     "output_type": "stream",
     "text": [
      "23/04/11 22:53:40 WARN MemoryStore: Not enough space to cache rdd_267_6 in memory! (computed 5.6 MiB so far)\n",
      "23/04/11 22:53:40 WARN MemoryStore: Not enough space to cache rdd_267_5 in memory! (computed 5.6 MiB so far)\n",
      "23/04/11 22:53:40 WARN MemoryStore: Not enough space to cache rdd_267_1 in memory! (computed 5.6 MiB so far)\n",
      "23/04/11 22:53:40 WARN MemoryStore: Not enough space to cache rdd_267_0 in memory! (computed 5.6 MiB so far)\n",
      "23/04/11 22:53:40 WARN MemoryStore: Not enough space to cache rdd_267_2 in memory! (computed 5.6 MiB so far)\n",
      "23/04/11 22:53:40 WARN MemoryStore: Not enough space to cache rdd_267_4 in memory! (computed 5.6 MiB so far)\n",
      "23/04/11 22:53:40 WARN MemoryStore: Not enough space to cache rdd_267_3 in memory! (computed 5.6 MiB so far)\n",
      "23/04/11 22:53:40 WARN MemoryStore: Not enough space to cache rdd_267_7 in memory! (computed 44.2 MiB so far)\n"
     ]
    },
    {
     "name": "stderr",
     "output_type": "stream",
     "text": [
      "[Stage 146:>                                                       (0 + 8) / 17]\r"
     ]
    },
    {
     "name": "stdout",
     "output_type": "stream",
     "text": [
      "23/04/11 22:53:41 WARN MemoryStore: Not enough space to cache rdd_267_12 in memory! (computed 13.1 MiB so far)\n",
      "23/04/11 22:53:41 WARN MemoryStore: Not enough space to cache rdd_267_15 in memory! (computed 13.1 MiB so far)\n"
     ]
    },
    {
     "name": "stderr",
     "output_type": "stream",
     "text": [
      "[Stage 146:=============================================>         (14 + 3) / 17]\r"
     ]
    },
    {
     "name": "stdout",
     "output_type": "stream",
     "text": [
      "23/04/11 22:53:41 WARN MemoryStore: Not enough space to cache rdd_267_8 in memory! (computed 44.2 MiB so far)\n"
     ]
    },
    {
     "name": "stderr",
     "output_type": "stream",
     "text": [
      "                                                                                \r"
     ]
    },
    {
     "name": "stdout",
     "output_type": "stream",
     "text": [
      "23/04/11 22:53:41 WARN MemoryStore: Not enough space to cache rdd_267_7 in memory! (computed 5.6 MiB so far)\n",
      "23/04/11 22:53:41 WARN MemoryStore: Not enough space to cache rdd_267_0 in memory! (computed 3.7 MiB so far)\n",
      "23/04/11 22:53:41 WARN MemoryStore: Not enough space to cache rdd_267_2 in memory! (computed 3.7 MiB so far)\n",
      "23/04/11 22:53:41 WARN MemoryStore: Not enough space to cache rdd_267_5 in memory! (computed 5.6 MiB so far)\n",
      "23/04/11 22:53:41 WARN MemoryStore: Not enough space to cache rdd_267_3 in memory! (computed 8.4 MiB so far)\n",
      "23/04/11 22:53:42 WARN MemoryStore: Not enough space to cache rdd_267_1 in memory! (computed 13.1 MiB so far)\n",
      "23/04/11 22:53:42 WARN MemoryStore: Not enough space to cache rdd_267_4 in memory! (computed 13.1 MiB so far)\n"
     ]
    },
    {
     "name": "stderr",
     "output_type": "stream",
     "text": [
      "[Stage 148:>                                                       (0 + 8) / 17]\r"
     ]
    },
    {
     "name": "stdout",
     "output_type": "stream",
     "text": [
      "23/04/11 22:53:42 WARN MemoryStore: Not enough space to cache rdd_267_6 in memory! (computed 44.2 MiB so far)\n",
      "23/04/11 22:53:42 WARN MemoryStore: Not enough space to cache rdd_267_12 in memory! (computed 13.1 MiB so far)\n",
      "23/04/11 22:53:42 WARN MemoryStore: Not enough space to cache rdd_267_8 in memory! (computed 19.6 MiB so far)\n"
     ]
    },
    {
     "name": "stderr",
     "output_type": "stream",
     "text": [
      "[Stage 148:=============================================>         (14 + 3) / 17]\r"
     ]
    },
    {
     "name": "stdout",
     "output_type": "stream",
     "text": [
      "23/04/11 22:53:43 WARN MemoryStore: Not enough space to cache rdd_267_15 in memory! (computed 44.2 MiB so far)\n"
     ]
    },
    {
     "name": "stderr",
     "output_type": "stream",
     "text": [
      "                                                                                \r"
     ]
    },
    {
     "name": "stdout",
     "output_type": "stream",
     "text": [
      "23/04/11 22:53:43 WARN MemoryStore: Not enough space to cache rdd_267_6 in memory! (computed 5.6 MiB so far)\n",
      "23/04/11 22:53:43 WARN MemoryStore: Not enough space to cache rdd_267_0 in memory! (computed 5.6 MiB so far)\n",
      "23/04/11 22:53:43 WARN MemoryStore: Not enough space to cache rdd_267_4 in memory! (computed 5.6 MiB so far)\n",
      "23/04/11 22:53:43 WARN MemoryStore: Not enough space to cache rdd_267_7 in memory! (computed 5.6 MiB so far)\n",
      "23/04/11 22:53:43 WARN MemoryStore: Not enough space to cache rdd_267_2 in memory! (computed 5.6 MiB so far)\n",
      "23/04/11 22:53:43 WARN MemoryStore: Not enough space to cache rdd_267_3 in memory! (computed 5.6 MiB so far)\n",
      "23/04/11 22:53:43 WARN MemoryStore: Not enough space to cache rdd_267_5 in memory! (computed 19.6 MiB so far)\n"
     ]
    },
    {
     "name": "stderr",
     "output_type": "stream",
     "text": [
      "[Stage 150:>                                                       (0 + 8) / 17]\r"
     ]
    },
    {
     "name": "stdout",
     "output_type": "stream",
     "text": [
      "23/04/11 22:53:43 WARN MemoryStore: Not enough space to cache rdd_267_1 in memory! (computed 44.2 MiB so far)\n"
     ]
    },
    {
     "name": "stderr",
     "output_type": "stream",
     "text": [
      "[Stage 150:==========================>                             (8 + 9) / 17]\r"
     ]
    },
    {
     "name": "stdout",
     "output_type": "stream",
     "text": [
      "23/04/11 22:53:44 WARN MemoryStore: Not enough space to cache rdd_267_15 in memory! (computed 13.1 MiB so far)\n",
      "23/04/11 22:53:44 WARN MemoryStore: Not enough space to cache rdd_267_8 in memory! (computed 13.1 MiB so far)\n"
     ]
    },
    {
     "name": "stderr",
     "output_type": "stream",
     "text": [
      "[Stage 150:=============================================>         (14 + 3) / 17]\r"
     ]
    },
    {
     "name": "stdout",
     "output_type": "stream",
     "text": [
      "23/04/11 22:53:44 WARN MemoryStore: Not enough space to cache rdd_267_12 in memory! (computed 44.2 MiB so far)\n"
     ]
    },
    {
     "name": "stderr",
     "output_type": "stream",
     "text": [
      "                                                                                \r"
     ]
    },
    {
     "name": "stdout",
     "output_type": "stream",
     "text": [
      "23/04/11 22:53:44 WARN MemoryStore: Not enough space to cache rdd_267_1 in memory! (computed 5.6 MiB so far)\n",
      "23/04/11 22:53:44 WARN MemoryStore: Not enough space to cache rdd_267_0 in memory! (computed 5.6 MiB so far)\n",
      "23/04/11 22:53:44 WARN MemoryStore: Not enough space to cache rdd_267_2 in memory! (computed 5.6 MiB so far)\n",
      "23/04/11 22:53:44 WARN MemoryStore: Not enough space to cache rdd_267_5 in memory! (computed 5.6 MiB so far)\n",
      "23/04/11 22:53:44 WARN MemoryStore: Not enough space to cache rdd_267_3 in memory! (computed 5.6 MiB so far)\n",
      "23/04/11 22:53:44 WARN MemoryStore: Not enough space to cache rdd_267_6 in memory! (computed 5.6 MiB so far)\n",
      "23/04/11 22:53:44 WARN MemoryStore: Not enough space to cache rdd_267_4 in memory! (computed 5.6 MiB so far)\n",
      "23/04/11 22:53:45 WARN MemoryStore: Not enough space to cache rdd_267_7 in memory! (computed 44.2 MiB so far)\n"
     ]
    },
    {
     "name": "stderr",
     "output_type": "stream",
     "text": [
      "[Stage 152:=============================================>         (14 + 3) / 17]\r"
     ]
    },
    {
     "name": "stdout",
     "output_type": "stream",
     "text": [
      "23/04/11 22:53:45 WARN MemoryStore: Not enough space to cache rdd_267_8 in memory! (computed 13.1 MiB so far)\n",
      "23/04/11 22:53:45 WARN MemoryStore: Not enough space to cache rdd_267_12 in memory! (computed 19.6 MiB so far)\n",
      "23/04/11 22:53:45 WARN MemoryStore: Not enough space to cache rdd_267_15 in memory! (computed 44.2 MiB so far)\n"
     ]
    },
    {
     "name": "stderr",
     "output_type": "stream",
     "text": [
      "                                                                                \r"
     ]
    },
    {
     "name": "stdout",
     "output_type": "stream",
     "text": [
      "23/04/11 22:53:46 WARN MemoryStore: Not enough space to cache rdd_267_2 in memory! (computed 5.6 MiB so far)\n",
      "23/04/11 22:53:46 WARN MemoryStore: Not enough space to cache rdd_267_1 in memory! (computed 5.6 MiB so far)\n",
      "23/04/11 22:53:46 WARN MemoryStore: Not enough space to cache rdd_267_6 in memory! (computed 5.6 MiB so far)\n",
      "23/04/11 22:53:46 WARN MemoryStore: Not enough space to cache rdd_267_3 in memory! (computed 8.4 MiB so far)\n",
      "23/04/11 22:53:46 WARN MemoryStore: Not enough space to cache rdd_267_0 in memory! (computed 8.4 MiB so far)\n",
      "23/04/11 22:53:46 WARN MemoryStore: Not enough space to cache rdd_267_4 in memory! (computed 13.1 MiB so far)\n",
      "23/04/11 22:53:46 WARN MemoryStore: Not enough space to cache rdd_267_7 in memory! (computed 13.1 MiB so far)\n",
      "23/04/11 22:53:46 WARN MemoryStore: Not enough space to cache rdd_267_5 in memory! (computed 44.2 MiB so far)\n"
     ]
    },
    {
     "name": "stderr",
     "output_type": "stream",
     "text": [
      "[Stage 154:=============================================>         (14 + 3) / 17]\r"
     ]
    },
    {
     "name": "stdout",
     "output_type": "stream",
     "text": [
      "23/04/11 22:53:47 WARN MemoryStore: Not enough space to cache rdd_267_15 in memory! (computed 5.6 MiB so far)\n",
      "23/04/11 22:53:47 WARN MemoryStore: Not enough space to cache rdd_267_8 in memory! (computed 19.6 MiB so far)\n",
      "23/04/11 22:53:47 WARN MemoryStore: Not enough space to cache rdd_267_12 in memory! (computed 19.6 MiB so far)\n"
     ]
    },
    {
     "name": "stderr",
     "output_type": "stream",
     "text": [
      "                                                                                \r"
     ]
    },
    {
     "name": "stdout",
     "output_type": "stream",
     "text": [
      "23/04/11 22:53:47 WARN MemoryStore: Not enough space to cache rdd_267_3 in memory! (computed 5.6 MiB so far)\n",
      "23/04/11 22:53:47 WARN MemoryStore: Not enough space to cache rdd_267_7 in memory! (computed 5.6 MiB so far)\n",
      "23/04/11 22:53:47 WARN MemoryStore: Not enough space to cache rdd_267_1 in memory! (computed 5.6 MiB so far)\n",
      "23/04/11 22:53:47 WARN MemoryStore: Not enough space to cache rdd_267_0 in memory! (computed 5.6 MiB so far)\n",
      "23/04/11 22:53:47 WARN MemoryStore: Not enough space to cache rdd_267_2 in memory! (computed 8.4 MiB so far)\n",
      "23/04/11 22:53:47 WARN MemoryStore: Not enough space to cache rdd_267_6 in memory! (computed 13.1 MiB so far)\n",
      "23/04/11 22:53:47 WARN MemoryStore: Not enough space to cache rdd_267_4 in memory! (computed 13.1 MiB so far)\n",
      "23/04/11 22:53:48 WARN MemoryStore: Not enough space to cache rdd_267_5 in memory! (computed 44.2 MiB so far)\n"
     ]
    },
    {
     "name": "stderr",
     "output_type": "stream",
     "text": [
      "[Stage 156:=============>                                          (4 + 8) / 17]\r"
     ]
    },
    {
     "name": "stdout",
     "output_type": "stream",
     "text": [
      "23/04/11 22:53:48 WARN MemoryStore: Not enough space to cache rdd_267_8 in memory! (computed 19.6 MiB so far)\n",
      "23/04/11 22:53:48 WARN MemoryStore: Not enough space to cache rdd_267_15 in memory! (computed 13.1 MiB so far)\n",
      "23/04/11 22:53:48 WARN MemoryStore: Not enough space to cache rdd_267_12 in memory! (computed 13.1 MiB so far)\n"
     ]
    },
    {
     "name": "stderr",
     "output_type": "stream",
     "text": [
      "                                                                                \r"
     ]
    },
    {
     "name": "stdout",
     "output_type": "stream",
     "text": [
      "23/04/11 22:53:49 WARN MemoryStore: Not enough space to cache rdd_267_0 in memory! (computed 5.6 MiB so far)\n",
      "23/04/11 22:53:49 WARN MemoryStore: Not enough space to cache rdd_267_6 in memory! (computed 3.7 MiB so far)\n",
      "23/04/11 22:53:49 WARN MemoryStore: Not enough space to cache rdd_267_5 in memory! (computed 5.6 MiB so far)\n",
      "23/04/11 22:53:49 WARN MemoryStore: Not enough space to cache rdd_267_4 in memory! (computed 5.6 MiB so far)\n",
      "23/04/11 22:53:49 WARN MemoryStore: Not enough space to cache rdd_267_7 in memory! (computed 5.6 MiB so far)\n",
      "23/04/11 22:53:49 WARN MemoryStore: Not enough space to cache rdd_267_2 in memory! (computed 3.7 MiB so far)\n",
      "23/04/11 22:53:49 WARN MemoryStore: Not enough space to cache rdd_267_1 in memory! (computed 19.6 MiB so far)\n",
      "23/04/11 22:53:49 WARN MemoryStore: Not enough space to cache rdd_267_3 in memory! (computed 19.6 MiB so far)\n"
     ]
    },
    {
     "name": "stderr",
     "output_type": "stream",
     "text": [
      "[Stage 158:>                                                       (0 + 8) / 17]\r"
     ]
    },
    {
     "name": "stdout",
     "output_type": "stream",
     "text": [
      "23/04/11 22:53:49 WARN MemoryStore: Not enough space to cache rdd_267_12 in memory! (computed 13.1 MiB so far)\n",
      "23/04/11 22:53:50 WARN MemoryStore: Not enough space to cache rdd_267_8 in memory! (computed 19.6 MiB so far)\n"
     ]
    },
    {
     "name": "stderr",
     "output_type": "stream",
     "text": [
      "[Stage 158:=============================================>         (14 + 3) / 17]\r"
     ]
    },
    {
     "name": "stdout",
     "output_type": "stream",
     "text": [
      "23/04/11 22:53:50 WARN MemoryStore: Not enough space to cache rdd_267_15 in memory! (computed 44.2 MiB so far)\n"
     ]
    },
    {
     "name": "stderr",
     "output_type": "stream",
     "text": [
      "                                                                                \r"
     ]
    },
    {
     "name": "stdout",
     "output_type": "stream",
     "text": [
      "23/04/11 22:53:50 WARN MemoryStore: Not enough space to cache rdd_267_1 in memory! (computed 5.6 MiB so far)\n",
      "23/04/11 22:53:50 WARN MemoryStore: Not enough space to cache rdd_267_4 in memory! (computed 5.6 MiB so far)\n",
      "23/04/11 22:53:50 WARN MemoryStore: Not enough space to cache rdd_267_5 in memory! (computed 5.6 MiB so far)\n",
      "23/04/11 22:53:50 WARN MemoryStore: Not enough space to cache rdd_267_3 in memory! (computed 8.4 MiB so far)\n",
      "23/04/11 22:53:50 WARN MemoryStore: Not enough space to cache rdd_267_0 in memory! (computed 8.4 MiB so far)\n",
      "23/04/11 22:53:50 WARN MemoryStore: Not enough space to cache rdd_267_7 in memory! (computed 8.4 MiB so far)\n",
      "23/04/11 22:53:50 WARN MemoryStore: Not enough space to cache rdd_267_6 in memory! (computed 8.4 MiB so far)\n"
     ]
    },
    {
     "name": "stderr",
     "output_type": "stream",
     "text": [
      "[Stage 160:>                                                       (0 + 9) / 17]\r"
     ]
    },
    {
     "name": "stdout",
     "output_type": "stream",
     "text": [
      "23/04/11 22:53:51 WARN MemoryStore: Not enough space to cache rdd_267_2 in memory! (computed 44.2 MiB so far)\n",
      "23/04/11 22:53:51 WARN MemoryStore: Not enough space to cache rdd_267_12 in memory! (computed 13.1 MiB so far)\n",
      "23/04/11 22:53:51 WARN MemoryStore: Not enough space to cache rdd_267_8 in memory! (computed 19.6 MiB so far)\n"
     ]
    },
    {
     "name": "stderr",
     "output_type": "stream",
     "text": [
      "[Stage 160:=============================================>         (14 + 3) / 17]\r"
     ]
    },
    {
     "name": "stdout",
     "output_type": "stream",
     "text": [
      "23/04/11 22:53:51 WARN MemoryStore: Not enough space to cache rdd_267_15 in memory! (computed 44.2 MiB so far)\n"
     ]
    },
    {
     "name": "stderr",
     "output_type": "stream",
     "text": [
      "[Stage 165:>                                                       (0 + 8) / 17]\r"
     ]
    },
    {
     "name": "stdout",
     "output_type": "stream",
     "text": [
      "23/04/11 22:54:05 WARN MemoryStore: Not enough space to cache rdd_318_7 in memory! (computed 44.2 MiB so far)\n",
      "23/04/11 22:54:05 WARN BlockManager: Persisting block rdd_318_7 to disk instead.\n",
      "23/04/11 22:54:05 WARN MemoryStore: Not enough space to cache rdd_318_5 in memory! (computed 44.2 MiB so far)\n",
      "23/04/11 22:54:05 WARN MemoryStore: Not enough space to cache rdd_318_2 in memory! (computed 44.2 MiB so far)\n",
      "23/04/11 22:54:05 WARN BlockManager: Persisting block rdd_318_2 to disk instead.\n",
      "23/04/11 22:54:05 WARN BlockManager: Persisting block rdd_318_5 to disk instead.\n",
      "23/04/11 22:54:05 WARN MemoryStore: Not enough space to cache rdd_318_0 in memory! (computed 44.2 MiB so far)\n",
      "23/04/11 22:54:05 WARN BlockManager: Persisting block rdd_318_0 to disk instead.\n",
      "23/04/11 22:54:05 WARN MemoryStore: Not enough space to cache rdd_318_3 in memory! (computed 44.2 MiB so far)\n",
      "23/04/11 22:54:05 WARN BlockManager: Persisting block rdd_318_3 to disk instead.\n",
      "23/04/11 22:54:05 WARN MemoryStore: Not enough space to cache rdd_318_4 in memory! (computed 44.2 MiB so far)\n",
      "23/04/11 22:54:05 WARN BlockManager: Persisting block rdd_318_4 to disk instead.\n",
      "23/04/11 22:54:05 WARN MemoryStore: Not enough space to cache rdd_318_1 in memory! (computed 44.2 MiB so far)\n",
      "23/04/11 22:54:05 WARN BlockManager: Persisting block rdd_318_1 to disk instead.\n"
     ]
    },
    {
     "name": "stderr",
     "output_type": "stream",
     "text": [
      "[Stage 165:===>                                                    (1 + 8) / 17]\r"
     ]
    },
    {
     "name": "stdout",
     "output_type": "stream",
     "text": [
      "23/04/11 22:54:09 WARN MemoryStore: Not enough space to cache rdd_318_1 in memory! (computed 44.2 MiB so far)\n",
      "23/04/11 22:54:09 WARN MemoryStore: Not enough space to cache rdd_318_0 in memory! (computed 66.3 MiB so far)\n"
     ]
    },
    {
     "name": "stderr",
     "output_type": "stream",
     "text": [
      "[Stage 165:===================>                                    (6 + 8) / 17]\r"
     ]
    },
    {
     "name": "stdout",
     "output_type": "stream",
     "text": [
      "23/04/11 22:54:10 WARN MemoryStore: Not enough space to cache rdd_318_5 in memory! (computed 29.5 MiB so far)\n",
      "23/04/11 22:54:10 WARN MemoryStore: Not enough space to cache rdd_318_12 in memory! (computed 1028.2 KiB so far)\n",
      "23/04/11 22:54:10 WARN BlockManager: Persisting block rdd_318_12 to disk instead.\n"
     ]
    },
    {
     "name": "stderr",
     "output_type": "stream",
     "text": [
      "[Stage 165:==========================>                             (8 + 8) / 17]\r"
     ]
    },
    {
     "name": "stdout",
     "output_type": "stream",
     "text": [
      "23/04/11 22:54:11 WARN MemoryStore: Not enough space to cache rdd_318_11 in memory! (computed 5.6 MiB so far)\n",
      "23/04/11 22:54:11 WARN MemoryStore: Not enough space to cache rdd_318_13 in memory! (computed 5.6 MiB so far)\n",
      "23/04/11 22:54:11 WARN BlockManager: Persisting block rdd_318_11 to disk instead.\n",
      "23/04/11 22:54:11 WARN BlockManager: Persisting block rdd_318_13 to disk instead.\n",
      "23/04/11 22:54:11 WARN MemoryStore: Not enough space to cache rdd_318_9 in memory! (computed 5.6 MiB so far)\n",
      "23/04/11 22:54:11 WARN BlockManager: Persisting block rdd_318_9 to disk instead.\n",
      "23/04/11 22:54:11 WARN MemoryStore: Not enough space to cache rdd_318_10 in memory! (computed 5.6 MiB so far)\n",
      "23/04/11 22:54:11 WARN BlockManager: Persisting block rdd_318_10 to disk instead.\n",
      "23/04/11 22:54:11 WARN MemoryStore: Not enough space to cache rdd_318_15 in memory! (computed 8.4 MiB so far)\n",
      "23/04/11 22:54:11 WARN BlockManager: Persisting block rdd_318_15 to disk instead.\n",
      "23/04/11 22:54:12 WARN MemoryStore: Not enough space to cache rdd_318_8 in memory! (computed 29.5 MiB so far)\n",
      "23/04/11 22:54:12 WARN BlockManager: Persisting block rdd_318_8 to disk instead.\n",
      "23/04/11 22:54:12 WARN MemoryStore: Not enough space to cache rdd_318_14 in memory! (computed 19.6 MiB so far)\n",
      "23/04/11 22:54:12 WARN BlockManager: Persisting block rdd_318_14 to disk instead.\n",
      "23/04/11 22:54:16 WARN MemoryStore: Not enough space to cache rdd_318_8 in memory! (computed 44.2 MiB so far)\n"
     ]
    },
    {
     "name": "stderr",
     "output_type": "stream",
     "text": [
      "[Stage 165:=============================>                          (9 + 8) / 17]\r"
     ]
    },
    {
     "name": "stdout",
     "output_type": "stream",
     "text": [
      "23/04/11 22:54:17 WARN MemoryStore: Not enough space to cache rdd_318_14 in memory! (computed 29.5 MiB so far)\n",
      "23/04/11 22:54:17 WARN MemoryStore: Not enough space to cache rdd_318_15 in memory! (computed 13.1 MiB so far)\n"
     ]
    },
    {
     "name": "stderr",
     "output_type": "stream",
     "text": [
      "[Stage 165:======================================>                (12 + 5) / 17]\r"
     ]
    },
    {
     "name": "stdout",
     "output_type": "stream",
     "text": [
      "23/04/11 22:54:18 WARN MemoryStore: Not enough space to cache rdd_318_13 in memory! (computed 13.1 MiB so far)\n",
      "23/04/11 22:54:18 WARN MemoryStore: Not enough space to cache rdd_318_12 in memory! (computed 29.5 MiB so far)\n"
     ]
    },
    {
     "name": "stderr",
     "output_type": "stream",
     "text": [
      "[Stage 165:=============================================>         (14 + 3) / 17]\r"
     ]
    },
    {
     "name": "stdout",
     "output_type": "stream",
     "text": [
      "23/04/11 22:54:19 WARN MemoryStore: Not enough space to cache rdd_318_9 in memory! (computed 13.1 MiB so far)\n",
      "23/04/11 22:54:19 WARN MemoryStore: Not enough space to cache rdd_318_11 in memory! (computed 19.6 MiB so far)\n",
      "23/04/11 22:54:19 WARN MemoryStore: Not enough space to cache rdd_318_10 in memory! (computed 29.5 MiB so far)\n"
     ]
    },
    {
     "name": "stderr",
     "output_type": "stream",
     "text": [
      "                                                                                \r"
     ]
    },
    {
     "name": "stdout",
     "output_type": "stream",
     "text": [
      "23/04/11 22:54:19 WARN MemoryStore: Not enough space to cache rdd_318_5 in memory! (computed 8.4 MiB so far)\n",
      "23/04/11 22:54:19 WARN MemoryStore: Not enough space to cache rdd_318_8 in memory! (computed 2.5 MiB so far)\n",
      "23/04/11 22:54:19 WARN MemoryStore: Not enough space to cache rdd_318_12 in memory! (computed 2.5 MiB so far)\n",
      "23/04/11 22:54:19 WARN MemoryStore: Not enough space to cache rdd_318_0 in memory! (computed 8.4 MiB so far)\n",
      "23/04/11 22:54:19 WARN MemoryStore: Not enough space to cache rdd_318_11 in memory! (computed 5.6 MiB so far)\n",
      "23/04/11 22:54:19 WARN MemoryStore: Not enough space to cache rdd_318_10 in memory! (computed 8.4 MiB so far)\n",
      "23/04/11 22:54:19 WARN MemoryStore: Not enough space to cache rdd_318_1 in memory! (computed 19.6 MiB so far)\n",
      "23/04/11 22:54:20 WARN MemoryStore: Not enough space to cache rdd_318_9 in memory! (computed 29.5 MiB so far)\n"
     ]
    },
    {
     "name": "stderr",
     "output_type": "stream",
     "text": [
      "[Stage 166:================>                                       (5 + 8) / 17]\r"
     ]
    },
    {
     "name": "stdout",
     "output_type": "stream",
     "text": [
      "23/04/11 22:54:20 WARN MemoryStore: Not enough space to cache rdd_318_13 in memory! (computed 13.1 MiB so far)\n",
      "23/04/11 22:54:20 WARN MemoryStore: Not enough space to cache rdd_318_15 in memory! (computed 19.6 MiB so far)\n",
      "23/04/11 22:54:20 WARN MemoryStore: Not enough space to cache rdd_318_14 in memory! (computed 19.6 MiB so far)\n"
     ]
    },
    {
     "name": "stderr",
     "output_type": "stream",
     "text": [
      "                                                                                \r"
     ]
    },
    {
     "name": "stdout",
     "output_type": "stream",
     "text": [
      "23/04/11 22:54:21 WARN MemoryStore: Not enough space to cache rdd_318_5 in memory! (computed 5.6 MiB so far)\n",
      "23/04/11 22:54:21 WARN MemoryStore: Not enough space to cache rdd_322_3 in memory! (computed 8.0 MiB so far)\n",
      "23/04/11 22:54:21 WARN MemoryStore: Not enough space to cache rdd_322_4 in memory! (computed 8.0 MiB so far)\n",
      "23/04/11 22:54:21 WARN MemoryStore: Not enough space to cache rdd_322_6 in memory! (computed 8.0 MiB so far)\n",
      "23/04/11 22:54:21 WARN MemoryStore: Not enough space to cache rdd_318_0 in memory! (computed 3.7 MiB so far)\n",
      "23/04/11 22:54:21 WARN MemoryStore: Not enough space to cache rdd_322_7 in memory! (computed 8.0 MiB so far)\n",
      "23/04/11 22:54:21 WARN BlockManager: Persisting block rdd_322_6 to disk instead.\n",
      "23/04/11 22:54:21 WARN BlockManager: Persisting block rdd_322_7 to disk instead.\n",
      "23/04/11 22:54:21 WARN BlockManager: Persisting block rdd_322_4 to disk instead.\n",
      "23/04/11 22:54:21 WARN BlockManager: Persisting block rdd_322_3 to disk instead.\n",
      "23/04/11 22:54:21 WARN MemoryStore: Failed to reserve initial memory threshold of 1024.0 KiB for computing block rdd_318_5 in memory.\n",
      "23/04/11 22:54:21 WARN MemoryStore: Failed to reserve initial memory threshold of 1024.0 KiB for computing block rdd_318_0 in memory.\n",
      "23/04/11 22:54:21 WARN MemoryStore: Not enough space to cache rdd_318_5 in memory! (computed 384.0 B so far)\n",
      "23/04/11 22:54:21 WARN MemoryStore: Failed to reserve initial memory threshold of 1024.0 KiB for computing block rdd_322_5 in memory.\n",
      "23/04/11 22:54:21 WARN MemoryStore: Not enough space to cache rdd_322_5 in memory! (computed 640.0 B so far)\n",
      "23/04/11 22:54:21 WARN BlockManager: Persisting block rdd_322_5 to disk instead.\n",
      "23/04/11 22:54:21 WARN MemoryStore: Not enough space to cache rdd_318_0 in memory! (computed 384.0 B so far)\n",
      "23/04/11 22:54:21 WARN MemoryStore: Failed to reserve initial memory threshold of 1024.0 KiB for computing block rdd_322_0 in memory.\n",
      "23/04/11 22:54:21 WARN MemoryStore: Not enough space to cache rdd_322_0 in memory! (computed 640.0 B so far)\n",
      "23/04/11 22:54:21 WARN BlockManager: Persisting block rdd_322_0 to disk instead.\n",
      "23/04/11 22:54:21 WARN MemoryStore: Not enough space to cache rdd_318_1 in memory! (computed 5.6 MiB so far)\n",
      "23/04/11 22:54:21 WARN MemoryStore: Failed to reserve initial memory threshold of 1024.0 KiB for computing block rdd_318_1 in memory.\n",
      "23/04/11 22:54:21 WARN MemoryStore: Not enough space to cache rdd_318_1 in memory! (computed 384.0 B so far)\n",
      "23/04/11 22:54:21 WARN MemoryStore: Failed to reserve initial memory threshold of 1024.0 KiB for computing block rdd_322_1 in memory.\n",
      "23/04/11 22:54:21 WARN MemoryStore: Not enough space to cache rdd_322_1 in memory! (computed 640.0 B so far)\n",
      "23/04/11 22:54:21 WARN BlockManager: Persisting block rdd_322_1 to disk instead.\n"
     ]
    },
    {
     "name": "stderr",
     "output_type": "stream",
     "text": [
      "[Stage 167:================>                                       (5 + 8) / 17]\r"
     ]
    },
    {
     "name": "stdout",
     "output_type": "stream",
     "text": [
      "23/04/11 22:54:21 WARN MemoryStore: Not enough space to cache rdd_318_8 in memory! (computed 29.5 MiB so far)\n",
      "23/04/11 22:54:21 WARN MemoryStore: Not enough space to cache rdd_318_10 in memory! (computed 13.1 MiB so far)\n",
      "23/04/11 22:54:21 WARN MemoryStore: Not enough space to cache rdd_318_12 in memory! (computed 19.6 MiB so far)\n",
      "23/04/11 22:54:22 WARN MemoryStore: Not enough space to cache rdd_318_11 in memory! (computed 19.6 MiB so far)\n",
      "23/04/11 22:54:22 WARN MemoryStore: Not enough space to cache rdd_318_9 in memory! (computed 29.5 MiB so far)\n",
      "23/04/11 22:54:22 WARN MemoryStore: Not enough space to cache rdd_318_10 in memory! (computed 1028.2 KiB so far)\n",
      "23/04/11 22:54:22 WARN MemoryStore: Not enough space to cache rdd_318_9 in memory! (computed 13.1 MiB so far)\n",
      "23/04/11 22:54:22 WARN MemoryStore: Not enough space to cache rdd_318_12 in memory! (computed 44.2 MiB so far)\n",
      "23/04/11 22:54:23 WARN MemoryStore: Not enough space to cache rdd_318_11 in memory! (computed 44.2 MiB so far)\n"
     ]
    },
    {
     "name": "stderr",
     "output_type": "stream",
     "text": [
      "[Stage 168:>                                                       (0 + 8) / 17]\r"
     ]
    },
    {
     "name": "stdout",
     "output_type": "stream",
     "text": [
      "23/04/11 22:54:27 WARN MemoryStore: Not enough space to cache rdd_318_2 in memory! (computed 13.1 MiB so far)\n",
      "23/04/11 22:54:27 WARN MemoryStore: Not enough space to cache rdd_318_1 in memory! (computed 19.6 MiB so far)\n",
      "23/04/11 22:54:27 WARN MemoryStore: Not enough space to cache rdd_318_4 in memory! (computed 8.4 MiB so far)\n",
      "23/04/11 22:54:27 WARN MemoryStore: Not enough space to cache rdd_318_0 in memory! (computed 8.4 MiB so far)\n",
      "23/04/11 22:54:27 WARN MemoryStore: Not enough space to cache rdd_318_5 in memory! (computed 19.6 MiB so far)\n",
      "23/04/11 22:54:27 WARN MemoryStore: Not enough space to cache rdd_318_6 in memory! (computed 13.1 MiB so far)\n",
      "23/04/11 22:54:27 WARN MemoryStore: Not enough space to cache rdd_318_3 in memory! (computed 8.4 MiB so far)\n"
     ]
    },
    {
     "name": "stderr",
     "output_type": "stream",
     "text": [
      "[Stage 168:==========================>                             (8 + 8) / 17]\r"
     ]
    },
    {
     "name": "stdout",
     "output_type": "stream",
     "text": [
      "23/04/11 22:54:29 WARN MemoryStore: Not enough space to cache rdd_318_11 in memory! (computed 29.5 MiB so far)\n",
      "23/04/11 22:54:29 WARN MemoryStore: Not enough space to cache rdd_318_10 in memory! (computed 29.5 MiB so far)\n",
      "23/04/11 22:54:29 WARN MemoryStore: Not enough space to cache rdd_318_12 in memory! (computed 19.6 MiB so far)\n",
      "23/04/11 22:54:29 WARN MemoryStore: Not enough space to cache rdd_318_8 in memory! (computed 29.5 MiB so far)\n"
     ]
    },
    {
     "name": "stderr",
     "output_type": "stream",
     "text": [
      "[Stage 169:>                                                       (0 + 8) / 17]\r"
     ]
    },
    {
     "name": "stdout",
     "output_type": "stream",
     "text": [
      "23/04/11 22:54:31 WARN MemoryStore: Not enough space to cache rdd_318_5 in memory! (computed 13.1 MiB so far)\n",
      "23/04/11 22:54:31 WARN MemoryStore: Not enough space to cache rdd_318_7 in memory! (computed 13.1 MiB so far)\n",
      "23/04/11 22:54:31 WARN MemoryStore: Not enough space to cache rdd_318_1 in memory! (computed 13.1 MiB so far)\n",
      "23/04/11 22:54:31 WARN MemoryStore: Not enough space to cache rdd_318_3 in memory! (computed 8.4 MiB so far)\n",
      "23/04/11 22:54:31 WARN MemoryStore: Not enough space to cache rdd_318_4 in memory! (computed 13.1 MiB so far)\n",
      "23/04/11 22:54:31 WARN MemoryStore: Not enough space to cache rdd_318_2 in memory! (computed 13.1 MiB so far)\n",
      "23/04/11 22:54:31 WARN MemoryStore: Not enough space to cache rdd_318_0 in memory! (computed 13.1 MiB so far)\n"
     ]
    },
    {
     "name": "stderr",
     "output_type": "stream",
     "text": [
      "[Stage 169:==========================>                             (8 + 8) / 17]\r"
     ]
    },
    {
     "name": "stdout",
     "output_type": "stream",
     "text": [
      "23/04/11 22:54:33 WARN MemoryStore: Not enough space to cache rdd_318_15 in memory! (computed 29.5 MiB so far)\n",
      "23/04/11 22:54:33 WARN MemoryStore: Not enough space to cache rdd_318_13 in memory! (computed 29.5 MiB so far)\n",
      "23/04/11 22:54:33 WARN MemoryStore: Not enough space to cache rdd_318_12 in memory! (computed 29.5 MiB so far)\n",
      "23/04/11 22:54:33 WARN MemoryStore: Not enough space to cache rdd_318_11 in memory! (computed 19.6 MiB so far)\n",
      "23/04/11 22:54:33 WARN MemoryStore: Not enough space to cache rdd_318_10 in memory! (computed 29.5 MiB so far)\n"
     ]
    },
    {
     "name": "stderr",
     "output_type": "stream",
     "text": [
      "[Stage 170:>                                                       (0 + 8) / 17]\r"
     ]
    },
    {
     "name": "stdout",
     "output_type": "stream",
     "text": [
      "23/04/11 22:54:36 WARN MemoryStore: Not enough space to cache rdd_318_5 in memory! (computed 13.1 MiB so far)\n",
      "23/04/11 22:54:36 WARN MemoryStore: Not enough space to cache rdd_318_0 in memory! (computed 29.5 MiB so far)\n",
      "23/04/11 22:54:36 WARN MemoryStore: Not enough space to cache rdd_318_6 in memory! (computed 19.6 MiB so far)\n",
      "23/04/11 22:54:36 WARN MemoryStore: Not enough space to cache rdd_318_4 in memory! (computed 13.1 MiB so far)\n",
      "23/04/11 22:54:36 WARN MemoryStore: Not enough space to cache rdd_318_3 in memory! (computed 19.6 MiB so far)\n",
      "23/04/11 22:54:36 WARN MemoryStore: Not enough space to cache rdd_318_1 in memory! (computed 29.5 MiB so far)\n",
      "23/04/11 22:54:36 WARN MemoryStore: Not enough space to cache rdd_318_7 in memory! (computed 13.1 MiB so far)\n"
     ]
    },
    {
     "name": "stderr",
     "output_type": "stream",
     "text": [
      "[Stage 170:================================>                      (10 + 7) / 17]\r"
     ]
    },
    {
     "name": "stdout",
     "output_type": "stream",
     "text": [
      "23/04/11 22:54:39 WARN MemoryStore: Not enough space to cache rdd_318_10 in memory! (computed 44.2 MiB so far)\n",
      "23/04/11 22:54:39 WARN MemoryStore: Not enough space to cache rdd_318_11 in memory! (computed 29.5 MiB so far)\n",
      "23/04/11 22:54:39 WARN MemoryStore: Not enough space to cache rdd_318_12 in memory! (computed 29.5 MiB so far)\n",
      "23/04/11 22:54:39 WARN MemoryStore: Not enough space to cache rdd_318_13 in memory! (computed 29.5 MiB so far)\n",
      "23/04/11 22:54:39 WARN MemoryStore: Not enough space to cache rdd_318_9 in memory! (computed 29.5 MiB so far)\n",
      "23/04/11 22:54:39 WARN MemoryStore: Not enough space to cache rdd_318_14 in memory! (computed 29.5 MiB so far)\n"
     ]
    },
    {
     "name": "stderr",
     "output_type": "stream",
     "text": [
      "[Stage 171:>                                                       (0 + 8) / 17]\r"
     ]
    },
    {
     "name": "stdout",
     "output_type": "stream",
     "text": [
      "23/04/11 22:54:42 WARN MemoryStore: Not enough space to cache rdd_318_2 in memory! (computed 29.5 MiB so far)\n",
      "23/04/11 22:54:42 WARN MemoryStore: Not enough space to cache rdd_318_5 in memory! (computed 29.5 MiB so far)\n",
      "23/04/11 22:54:42 WARN MemoryStore: Not enough space to cache rdd_318_7 in memory! (computed 29.5 MiB so far)\n",
      "23/04/11 22:54:42 WARN MemoryStore: Not enough space to cache rdd_318_0 in memory! (computed 29.5 MiB so far)\n",
      "23/04/11 22:54:42 WARN MemoryStore: Not enough space to cache rdd_318_3 in memory! (computed 29.5 MiB so far)\n",
      "23/04/11 22:54:42 WARN MemoryStore: Not enough space to cache rdd_318_1 in memory! (computed 29.5 MiB so far)\n",
      "23/04/11 22:54:42 WARN MemoryStore: Not enough space to cache rdd_318_4 in memory! (computed 29.5 MiB so far)\n",
      "23/04/11 22:54:42 WARN MemoryStore: Not enough space to cache rdd_318_6 in memory! (computed 29.5 MiB so far)\n"
     ]
    },
    {
     "name": "stderr",
     "output_type": "stream",
     "text": [
      "[Stage 171:================================>                      (10 + 7) / 17]\r"
     ]
    },
    {
     "name": "stdout",
     "output_type": "stream",
     "text": [
      "23/04/11 22:54:43 WARN MemoryStore: Not enough space to cache rdd_318_9 in memory! (computed 29.5 MiB so far)\n",
      "23/04/11 22:54:43 WARN MemoryStore: Not enough space to cache rdd_318_13 in memory! (computed 29.5 MiB so far)\n",
      "23/04/11 22:54:43 WARN MemoryStore: Not enough space to cache rdd_318_10 in memory! (computed 44.2 MiB so far)\n"
     ]
    },
    {
     "name": "stderr",
     "output_type": "stream",
     "text": [
      "[Stage 171:===================================>                   (11 + 6) / 17]\r"
     ]
    },
    {
     "name": "stdout",
     "output_type": "stream",
     "text": [
      "23/04/11 22:54:43 WARN MemoryStore: Not enough space to cache rdd_318_14 in memory! (computed 44.2 MiB so far)\n"
     ]
    },
    {
     "name": "stderr",
     "output_type": "stream",
     "text": [
      "                                                                                \r"
     ]
    },
    {
     "name": "stdout",
     "output_type": "stream",
     "text": [
      "23/04/11 22:54:45 WARN MemoryStore: Not enough space to cache rdd_318_7 in memory! (computed 13.1 MiB so far)\n",
      "23/04/11 22:54:45 WARN MemoryStore: Not enough space to cache rdd_318_6 in memory! (computed 13.1 MiB so far)\n",
      "23/04/11 22:54:45 WARN MemoryStore: Not enough space to cache rdd_318_1 in memory! (computed 13.1 MiB so far)\n",
      "23/04/11 22:54:45 WARN MemoryStore: Not enough space to cache rdd_318_3 in memory! (computed 13.1 MiB so far)\n",
      "23/04/11 22:54:45 WARN MemoryStore: Not enough space to cache rdd_318_4 in memory! (computed 13.1 MiB so far)\n",
      "23/04/11 22:54:45 WARN MemoryStore: Not enough space to cache rdd_318_0 in memory! (computed 13.1 MiB so far)\n",
      "23/04/11 22:54:45 WARN MemoryStore: Not enough space to cache rdd_318_5 in memory! (computed 13.1 MiB so far)\n"
     ]
    },
    {
     "name": "stderr",
     "output_type": "stream",
     "text": [
      "[Stage 173:==========================================>            (13 + 4) / 17]\r"
     ]
    },
    {
     "name": "stdout",
     "output_type": "stream",
     "text": [
      "23/04/11 22:54:46 WARN MemoryStore: Not enough space to cache rdd_318_13 in memory! (computed 5.6 MiB so far)\n",
      "23/04/11 22:54:46 WARN MemoryStore: Not enough space to cache rdd_318_10 in memory! (computed 13.1 MiB so far)\n",
      "23/04/11 22:54:46 WARN MemoryStore: Not enough space to cache rdd_318_14 in memory! (computed 13.1 MiB so far)\n",
      "23/04/11 22:54:46 WARN MemoryStore: Not enough space to cache rdd_318_9 in memory! (computed 44.2 MiB so far)\n"
     ]
    },
    {
     "name": "stderr",
     "output_type": "stream",
     "text": [
      "                                                                                \r"
     ]
    },
    {
     "name": "stdout",
     "output_type": "stream",
     "text": [
      "23/04/11 22:54:47 WARN MemoryStore: Not enough space to cache rdd_318_7 in memory! (computed 5.6 MiB so far)\n",
      "23/04/11 22:54:47 WARN MemoryStore: Not enough space to cache rdd_318_4 in memory! (computed 5.6 MiB so far)\n",
      "23/04/11 22:54:47 WARN MemoryStore: Not enough space to cache rdd_318_0 in memory! (computed 5.6 MiB so far)\n",
      "23/04/11 22:54:47 WARN MemoryStore: Not enough space to cache rdd_318_1 in memory! (computed 5.6 MiB so far)\n",
      "23/04/11 22:54:47 WARN MemoryStore: Not enough space to cache rdd_318_3 in memory! (computed 13.1 MiB so far)\n",
      "23/04/11 22:54:47 WARN MemoryStore: Not enough space to cache rdd_318_5 in memory! (computed 19.6 MiB so far)\n",
      "23/04/11 22:54:47 WARN MemoryStore: Not enough space to cache rdd_318_9 in memory! (computed 13.1 MiB so far)\n"
     ]
    },
    {
     "name": "stderr",
     "output_type": "stream",
     "text": [
      "[Stage 175:======>                                                 (2 + 8) / 17]\r"
     ]
    },
    {
     "name": "stdout",
     "output_type": "stream",
     "text": [
      "23/04/11 22:54:48 WARN MemoryStore: Not enough space to cache rdd_318_6 in memory! (computed 44.2 MiB so far)\n"
     ]
    },
    {
     "name": "stderr",
     "output_type": "stream",
     "text": [
      "[Stage 175:===================>                                    (6 + 8) / 17]\r"
     ]
    },
    {
     "name": "stdout",
     "output_type": "stream",
     "text": [
      "23/04/11 22:54:48 WARN MemoryStore: Not enough space to cache rdd_318_14 in memory! (computed 5.6 MiB so far)\n",
      "23/04/11 22:54:48 WARN MemoryStore: Not enough space to cache rdd_318_10 in memory! (computed 19.6 MiB so far)\n"
     ]
    },
    {
     "name": "stderr",
     "output_type": "stream",
     "text": [
      "[Stage 175:=============================================>         (14 + 3) / 17]\r"
     ]
    },
    {
     "name": "stdout",
     "output_type": "stream",
     "text": [
      "23/04/11 22:54:48 WARN MemoryStore: Not enough space to cache rdd_318_13 in memory! (computed 44.2 MiB so far)\n"
     ]
    },
    {
     "name": "stderr",
     "output_type": "stream",
     "text": [
      "                                                                                \r"
     ]
    },
    {
     "name": "stdout",
     "output_type": "stream",
     "text": [
      "23/04/11 22:54:49 WARN MemoryStore: Not enough space to cache rdd_318_4 in memory! (computed 5.6 MiB so far)\n",
      "23/04/11 22:54:49 WARN MemoryStore: Not enough space to cache rdd_318_6 in memory! (computed 5.6 MiB so far)\n",
      "23/04/11 22:54:49 WARN MemoryStore: Not enough space to cache rdd_318_3 in memory! (computed 5.6 MiB so far)\n",
      "23/04/11 22:54:49 WARN MemoryStore: Not enough space to cache rdd_318_7 in memory! (computed 8.4 MiB so far)\n",
      "23/04/11 22:54:49 WARN MemoryStore: Not enough space to cache rdd_318_0 in memory! (computed 13.1 MiB so far)\n",
      "23/04/11 22:54:49 WARN MemoryStore: Not enough space to cache rdd_318_5 in memory! (computed 19.6 MiB so far)\n",
      "23/04/11 22:54:49 WARN MemoryStore: Not enough space to cache rdd_318_9 in memory! (computed 13.1 MiB so far)\n"
     ]
    },
    {
     "name": "stderr",
     "output_type": "stream",
     "text": [
      "[Stage 177:======>                                                 (2 + 8) / 17]\r"
     ]
    },
    {
     "name": "stdout",
     "output_type": "stream",
     "text": [
      "23/04/11 22:54:49 WARN MemoryStore: Not enough space to cache rdd_318_1 in memory! (computed 44.2 MiB so far)\n"
     ]
    },
    {
     "name": "stderr",
     "output_type": "stream",
     "text": [
      "[Stage 177:===================>                                    (6 + 9) / 17]\r"
     ]
    },
    {
     "name": "stdout",
     "output_type": "stream",
     "text": [
      "23/04/11 22:54:50 WARN MemoryStore: Not enough space to cache rdd_318_10 in memory! (computed 13.1 MiB so far)\n",
      "23/04/11 22:54:50 WARN MemoryStore: Not enough space to cache rdd_318_14 in memory! (computed 13.1 MiB so far)\n"
     ]
    },
    {
     "name": "stderr",
     "output_type": "stream",
     "text": [
      "[Stage 177:=============================================>         (14 + 3) / 17]\r"
     ]
    },
    {
     "name": "stdout",
     "output_type": "stream",
     "text": [
      "23/04/11 22:54:50 WARN MemoryStore: Not enough space to cache rdd_318_13 in memory! (computed 44.2 MiB so far)\n"
     ]
    },
    {
     "name": "stderr",
     "output_type": "stream",
     "text": [
      "                                                                                \r"
     ]
    },
    {
     "name": "stdout",
     "output_type": "stream",
     "text": [
      "23/04/11 22:54:50 WARN MemoryStore: Not enough space to cache rdd_318_7 in memory! (computed 5.6 MiB so far)\n",
      "23/04/11 22:54:50 WARN MemoryStore: Not enough space to cache rdd_318_1 in memory! (computed 5.6 MiB so far)\n",
      "23/04/11 22:54:50 WARN MemoryStore: Not enough space to cache rdd_318_4 in memory! (computed 5.6 MiB so far)\n",
      "23/04/11 22:54:50 WARN MemoryStore: Not enough space to cache rdd_318_3 in memory! (computed 8.4 MiB so far)\n",
      "23/04/11 22:54:50 WARN MemoryStore: Not enough space to cache rdd_318_0 in memory! (computed 13.1 MiB so far)\n",
      "23/04/11 22:54:50 WARN MemoryStore: Failed to reserve initial memory threshold of 1024.0 KiB for computing block rdd_318_9 in memory.\n",
      "23/04/11 22:54:50 WARN MemoryStore: Not enough space to cache rdd_318_9 in memory! (computed 384.0 B so far)\n",
      "23/04/11 22:54:50 WARN MemoryStore: Not enough space to cache rdd_318_6 in memory! (computed 19.6 MiB so far)\n"
     ]
    },
    {
     "name": "stderr",
     "output_type": "stream",
     "text": [
      "[Stage 179:======>                                                 (2 + 8) / 17]\r"
     ]
    },
    {
     "name": "stdout",
     "output_type": "stream",
     "text": [
      "23/04/11 22:54:51 WARN MemoryStore: Not enough space to cache rdd_318_5 in memory! (computed 44.2 MiB so far)\n"
     ]
    },
    {
     "name": "stderr",
     "output_type": "stream",
     "text": [
      "[Stage 179:=============================================>         (14 + 3) / 17]\r"
     ]
    },
    {
     "name": "stdout",
     "output_type": "stream",
     "text": [
      "23/04/11 22:54:51 WARN MemoryStore: Not enough space to cache rdd_318_13 in memory! (computed 13.1 MiB so far)\n",
      "23/04/11 22:54:51 WARN MemoryStore: Not enough space to cache rdd_318_10 in memory! (computed 19.6 MiB so far)\n",
      "23/04/11 22:54:51 WARN MemoryStore: Not enough space to cache rdd_318_14 in memory! (computed 44.2 MiB so far)\n"
     ]
    },
    {
     "name": "stderr",
     "output_type": "stream",
     "text": [
      "                                                                                \r"
     ]
    },
    {
     "name": "stdout",
     "output_type": "stream",
     "text": [
      "23/04/11 22:54:52 WARN MemoryStore: Not enough space to cache rdd_318_4 in memory! (computed 5.6 MiB so far)\n",
      "23/04/11 22:54:52 WARN MemoryStore: Not enough space to cache rdd_318_7 in memory! (computed 5.6 MiB so far)\n",
      "23/04/11 22:54:52 WARN MemoryStore: Not enough space to cache rdd_318_6 in memory! (computed 5.6 MiB so far)\n",
      "23/04/11 22:54:52 WARN MemoryStore: Not enough space to cache rdd_318_0 in memory! (computed 5.6 MiB so far)\n",
      "23/04/11 22:54:52 WARN MemoryStore: Not enough space to cache rdd_318_5 in memory! (computed 13.1 MiB so far)\n",
      "23/04/11 22:54:52 WARN MemoryStore: Not enough space to cache rdd_318_1 in memory! (computed 13.1 MiB so far)\n",
      "23/04/11 22:54:52 WARN MemoryStore: Not enough space to cache rdd_318_3 in memory! (computed 29.5 MiB so far)\n"
     ]
    },
    {
     "name": "stderr",
     "output_type": "stream",
     "text": [
      "[Stage 181:===================>                                    (6 + 8) / 17]\r"
     ]
    },
    {
     "name": "stdout",
     "output_type": "stream",
     "text": [
      "23/04/11 22:54:52 WARN MemoryStore: Failed to reserve initial memory threshold of 1024.0 KiB for computing block rdd_318_13 in memory.\n",
      "23/04/11 22:54:52 WARN MemoryStore: Not enough space to cache rdd_318_13 in memory! (computed 384.0 B so far)\n",
      "23/04/11 22:54:52 WARN MemoryStore: Not enough space to cache rdd_318_9 in memory! (computed 44.2 MiB so far)\n",
      "23/04/11 22:54:52 WARN MemoryStore: Failed to reserve initial memory threshold of 1024.0 KiB for computing block rdd_318_14 in memory.\n",
      "23/04/11 22:54:52 WARN MemoryStore: Not enough space to cache rdd_318_14 in memory! (computed 384.0 B so far)\n",
      "23/04/11 22:54:53 WARN MemoryStore: Not enough space to cache rdd_318_10 in memory! (computed 1028.2 KiB so far)\n"
     ]
    },
    {
     "name": "stderr",
     "output_type": "stream",
     "text": [
      "                                                                                \r"
     ]
    },
    {
     "name": "stdout",
     "output_type": "stream",
     "text": [
      "23/04/11 22:54:53 WARN MemoryStore: Not enough space to cache rdd_318_3 in memory! (computed 3.7 MiB so far)\n",
      "23/04/11 22:54:53 WARN MemoryStore: Not enough space to cache rdd_318_1 in memory! (computed 5.6 MiB so far)\n",
      "23/04/11 22:54:53 WARN MemoryStore: Not enough space to cache rdd_318_5 in memory! (computed 8.4 MiB so far)\n",
      "23/04/11 22:54:53 WARN MemoryStore: Not enough space to cache rdd_318_0 in memory! (computed 8.4 MiB so far)\n",
      "23/04/11 22:54:53 WARN MemoryStore: Not enough space to cache rdd_318_7 in memory! (computed 8.4 MiB so far)\n",
      "23/04/11 22:54:53 WARN MemoryStore: Not enough space to cache rdd_318_4 in memory! (computed 19.6 MiB so far)\n",
      "23/04/11 22:54:53 WARN MemoryStore: Not enough space to cache rdd_318_9 in memory! (computed 5.6 MiB so far)\n"
     ]
    },
    {
     "name": "stderr",
     "output_type": "stream",
     "text": [
      "[Stage 183:======>                                                 (2 + 8) / 17]\r"
     ]
    },
    {
     "name": "stdout",
     "output_type": "stream",
     "text": [
      "23/04/11 22:54:54 WARN MemoryStore: Not enough space to cache rdd_318_6 in memory! (computed 44.2 MiB so far)\n"
     ]
    },
    {
     "name": "stderr",
     "output_type": "stream",
     "text": [
      "[Stage 183:=============================================>         (14 + 3) / 17]\r"
     ]
    },
    {
     "name": "stdout",
     "output_type": "stream",
     "text": [
      "23/04/11 22:54:54 WARN MemoryStore: Not enough space to cache rdd_318_14 in memory! (computed 13.1 MiB so far)\n",
      "23/04/11 22:54:54 WARN MemoryStore: Not enough space to cache rdd_318_13 in memory! (computed 13.1 MiB so far)\n",
      "23/04/11 22:54:54 WARN MemoryStore: Not enough space to cache rdd_318_10 in memory! (computed 44.2 MiB so far)\n"
     ]
    },
    {
     "name": "stderr",
     "output_type": "stream",
     "text": [
      "                                                                                \r"
     ]
    },
    {
     "name": "stdout",
     "output_type": "stream",
     "text": [
      "23/04/11 22:54:55 WARN MemoryStore: Not enough space to cache rdd_318_0 in memory! (computed 5.6 MiB so far)\n",
      "23/04/11 22:54:55 WARN MemoryStore: Not enough space to cache rdd_318_6 in memory! (computed 5.6 MiB so far)\n",
      "23/04/11 22:54:55 WARN MemoryStore: Not enough space to cache rdd_318_1 in memory! (computed 8.4 MiB so far)\n",
      "23/04/11 22:54:55 WARN MemoryStore: Not enough space to cache rdd_318_4 in memory! (computed 8.4 MiB so far)\n",
      "23/04/11 22:54:55 WARN MemoryStore: Not enough space to cache rdd_318_3 in memory! (computed 13.1 MiB so far)\n",
      "23/04/11 22:54:55 WARN MemoryStore: Failed to reserve initial memory threshold of 1024.0 KiB for computing block rdd_318_9 in memory.\n",
      "23/04/11 22:54:55 WARN MemoryStore: Not enough space to cache rdd_318_9 in memory! (computed 384.0 B so far)\n",
      "23/04/11 22:54:55 WARN MemoryStore: Not enough space to cache rdd_318_5 in memory! (computed 19.6 MiB so far)\n"
     ]
    },
    {
     "name": "stderr",
     "output_type": "stream",
     "text": [
      "[Stage 185:======>                                                 (2 + 8) / 17]\r"
     ]
    },
    {
     "name": "stdout",
     "output_type": "stream",
     "text": [
      "23/04/11 22:54:55 WARN MemoryStore: Not enough space to cache rdd_318_7 in memory! (computed 44.2 MiB so far)\n",
      "23/04/11 22:54:56 WARN MemoryStore: Not enough space to cache rdd_318_10 in memory! (computed 13.1 MiB so far)\n",
      "23/04/11 22:54:56 WARN MemoryStore: Not enough space to cache rdd_318_13 in memory! (computed 19.6 MiB so far)\n"
     ]
    },
    {
     "name": "stderr",
     "output_type": "stream",
     "text": [
      "[Stage 185:=============================================>         (14 + 3) / 17]\r"
     ]
    },
    {
     "name": "stdout",
     "output_type": "stream",
     "text": [
      "23/04/11 22:54:56 WARN MemoryStore: Not enough space to cache rdd_318_14 in memory! (computed 44.2 MiB so far)\n"
     ]
    },
    {
     "name": "stderr",
     "output_type": "stream",
     "text": [
      "                                                                                \r"
     ]
    },
    {
     "name": "stdout",
     "output_type": "stream",
     "text": [
      "23/04/11 22:54:56 WARN MemoryStore: Not enough space to cache rdd_318_7 in memory! (computed 5.6 MiB so far)\n",
      "23/04/11 22:54:56 WARN MemoryStore: Not enough space to cache rdd_318_6 in memory! (computed 5.6 MiB so far)\n",
      "23/04/11 22:54:56 WARN MemoryStore: Not enough space to cache rdd_318_5 in memory! (computed 8.4 MiB so far)\n",
      "23/04/11 22:54:56 WARN MemoryStore: Not enough space to cache rdd_318_0 in memory! (computed 8.4 MiB so far)\n",
      "23/04/11 22:54:56 WARN MemoryStore: Not enough space to cache rdd_318_1 in memory! (computed 13.1 MiB so far)\n",
      "23/04/11 22:54:56 WARN MemoryStore: Not enough space to cache rdd_318_3 in memory! (computed 13.1 MiB so far)\n",
      "23/04/11 22:54:57 WARN MemoryStore: Not enough space to cache rdd_318_4 in memory! (computed 29.5 MiB so far)\n"
     ]
    },
    {
     "name": "stderr",
     "output_type": "stream",
     "text": [
      "[Stage 187:======>                                                 (2 + 8) / 17]\r"
     ]
    },
    {
     "name": "stdout",
     "output_type": "stream",
     "text": [
      "23/04/11 22:54:57 WARN MemoryStore: Not enough space to cache rdd_318_9 in memory! (computed 44.2 MiB so far)\n",
      "23/04/11 22:54:57 WARN MemoryStore: Failed to reserve initial memory threshold of 1024.0 KiB for computing block rdd_318_10 in memory.\n",
      "23/04/11 22:54:57 WARN MemoryStore: Not enough space to cache rdd_318_10 in memory! (computed 384.0 B so far)\n",
      "23/04/11 22:54:57 WARN MemoryStore: Failed to reserve initial memory threshold of 1024.0 KiB for computing block rdd_318_14 in memory.\n",
      "23/04/11 22:54:57 WARN MemoryStore: Not enough space to cache rdd_318_14 in memory! (computed 384.0 B so far)\n"
     ]
    },
    {
     "name": "stderr",
     "output_type": "stream",
     "text": [
      "[Stage 187:=============================================>         (14 + 3) / 17]\r"
     ]
    },
    {
     "name": "stdout",
     "output_type": "stream",
     "text": [
      "23/04/11 22:54:58 WARN MemoryStore: Not enough space to cache rdd_318_13 in memory! (computed 44.2 MiB so far)\n"
     ]
    },
    {
     "name": "stderr",
     "output_type": "stream",
     "text": [
      "                                                                                \r"
     ]
    },
    {
     "name": "stdout",
     "output_type": "stream",
     "text": [
      "23/04/11 22:54:59 WARN MemoryStore: Not enough space to cache rdd_318_1 in memory! (computed 5.6 MiB so far)\n",
      "23/04/11 22:54:59 WARN MemoryStore: Not enough space to cache rdd_318_3 in memory! (computed 5.6 MiB so far)\n",
      "23/04/11 22:54:59 WARN MemoryStore: Not enough space to cache rdd_318_6 in memory! (computed 5.6 MiB so far)\n",
      "23/04/11 22:54:59 WARN MemoryStore: Not enough space to cache rdd_318_5 in memory! (computed 8.4 MiB so far)\n",
      "23/04/11 22:54:59 WARN MemoryStore: Not enough space to cache rdd_318_4 in memory! (computed 8.4 MiB so far)\n",
      "23/04/11 22:54:59 WARN MemoryStore: Not enough space to cache rdd_318_7 in memory! (computed 19.6 MiB so far)\n",
      "23/04/11 22:54:59 WARN MemoryStore: Not enough space to cache rdd_318_9 in memory! (computed 13.1 MiB so far)\n",
      "23/04/11 22:54:59 WARN MemoryStore: Not enough space to cache rdd_318_0 in memory! (computed 44.2 MiB so far)\n"
     ]
    },
    {
     "name": "stderr",
     "output_type": "stream",
     "text": [
      "[Stage 189:======================================>                (12 + 5) / 17]\r"
     ]
    },
    {
     "name": "stdout",
     "output_type": "stream",
     "text": [
      "23/04/11 22:55:00 WARN MemoryStore: Not enough space to cache rdd_318_13 in memory! (computed 13.1 MiB so far)\n",
      "23/04/11 22:55:00 WARN MemoryStore: Not enough space to cache rdd_318_10 in memory! (computed 19.6 MiB so far)\n"
     ]
    },
    {
     "name": "stderr",
     "output_type": "stream",
     "text": [
      "[Stage 189:=============================================>         (14 + 3) / 17]\r"
     ]
    },
    {
     "name": "stdout",
     "output_type": "stream",
     "text": [
      "23/04/11 22:55:00 WARN MemoryStore: Not enough space to cache rdd_318_14 in memory! (computed 44.2 MiB so far)\n"
     ]
    },
    {
     "name": "stderr",
     "output_type": "stream",
     "text": [
      "                                                                                \r"
     ]
    },
    {
     "name": "stdout",
     "output_type": "stream",
     "text": [
      "23/04/11 22:55:00 WARN MemoryStore: Not enough space to cache rdd_318_1 in memory! (computed 5.6 MiB so far)\n",
      "23/04/11 22:55:00 WARN MemoryStore: Not enough space to cache rdd_318_4 in memory! (computed 5.6 MiB so far)\n",
      "23/04/11 22:55:00 WARN MemoryStore: Not enough space to cache rdd_318_0 in memory! (computed 5.6 MiB so far)\n",
      "23/04/11 22:55:00 WARN MemoryStore: Not enough space to cache rdd_318_7 in memory! (computed 8.4 MiB so far)\n",
      "23/04/11 22:55:00 WARN MemoryStore: Not enough space to cache rdd_318_6 in memory! (computed 5.6 MiB so far)\n",
      "23/04/11 22:55:00 WARN MemoryStore: Not enough space to cache rdd_318_5 in memory! (computed 5.6 MiB so far)\n",
      "23/04/11 22:55:01 WARN MemoryStore: Not enough space to cache rdd_318_9 in memory! (computed 13.1 MiB so far)\n",
      "23/04/11 22:55:01 WARN MemoryStore: Not enough space to cache rdd_318_3 in memory! (computed 29.5 MiB so far)\n"
     ]
    },
    {
     "name": "stderr",
     "output_type": "stream",
     "text": [
      "[Stage 191:==========================================>            (13 + 4) / 17]\r"
     ]
    },
    {
     "name": "stdout",
     "output_type": "stream",
     "text": [
      "23/04/11 22:55:01 WARN MemoryStore: Not enough space to cache rdd_318_13 in memory! (computed 13.1 MiB so far)\n",
      "23/04/11 22:55:01 WARN MemoryStore: Not enough space to cache rdd_318_14 in memory! (computed 13.1 MiB so far)\n"
     ]
    },
    {
     "name": "stderr",
     "output_type": "stream",
     "text": [
      "[Stage 191:=============================================>         (14 + 3) / 17]\r"
     ]
    },
    {
     "name": "stdout",
     "output_type": "stream",
     "text": [
      "23/04/11 22:55:02 WARN MemoryStore: Not enough space to cache rdd_318_10 in memory! (computed 44.2 MiB so far)\n"
     ]
    },
    {
     "name": "stderr",
     "output_type": "stream",
     "text": [
      "                                                                                \r"
     ]
    },
    {
     "name": "stdout",
     "output_type": "stream",
     "text": [
      "23/04/11 22:55:02 WARN MemoryStore: Not enough space to cache rdd_318_0 in memory! (computed 5.6 MiB so far)\n",
      "23/04/11 22:55:02 WARN MemoryStore: Not enough space to cache rdd_318_3 in memory! (computed 5.6 MiB so far)\n",
      "23/04/11 22:55:02 WARN MemoryStore: Not enough space to cache rdd_318_4 in memory! (computed 5.6 MiB so far)\n",
      "23/04/11 22:55:02 WARN MemoryStore: Not enough space to cache rdd_318_7 in memory! (computed 8.4 MiB so far)\n",
      "23/04/11 22:55:02 WARN MemoryStore: Failed to reserve initial memory threshold of 1024.0 KiB for computing block rdd_318_9 in memory.\n",
      "23/04/11 22:55:02 WARN MemoryStore: Not enough space to cache rdd_318_9 in memory! (computed 384.0 B so far)\n",
      "23/04/11 22:55:02 WARN MemoryStore: Not enough space to cache rdd_318_6 in memory! (computed 13.1 MiB so far)\n",
      "23/04/11 22:55:02 WARN MemoryStore: Not enough space to cache rdd_318_1 in memory! (computed 13.1 MiB so far)\n",
      "23/04/11 22:55:02 WARN MemoryStore: Not enough space to cache rdd_318_5 in memory! (computed 44.2 MiB so far)\n"
     ]
    },
    {
     "name": "stderr",
     "output_type": "stream",
     "text": [
      "[Stage 193:================>                                       (5 + 8) / 17]\r"
     ]
    },
    {
     "name": "stdout",
     "output_type": "stream",
     "text": [
      "23/04/11 22:55:03 WARN MemoryStore: Not enough space to cache rdd_318_14 in memory! (computed 13.1 MiB so far)\n",
      "23/04/11 22:55:03 WARN MemoryStore: Not enough space to cache rdd_318_13 in memory! (computed 13.1 MiB so far)\n"
     ]
    },
    {
     "name": "stderr",
     "output_type": "stream",
     "text": [
      "[Stage 193:=============================================>         (14 + 3) / 17]\r"
     ]
    },
    {
     "name": "stdout",
     "output_type": "stream",
     "text": [
      "23/04/11 22:55:03 WARN MemoryStore: Not enough space to cache rdd_318_10 in memory! (computed 44.2 MiB so far)\n"
     ]
    },
    {
     "name": "stderr",
     "output_type": "stream",
     "text": [
      "                                                                                \r"
     ]
    },
    {
     "name": "stdout",
     "output_type": "stream",
     "text": [
      "23/04/11 22:55:04 WARN MemoryStore: Not enough space to cache rdd_318_5 in memory! (computed 5.6 MiB so far)\n",
      "23/04/11 22:55:04 WARN MemoryStore: Not enough space to cache rdd_318_1 in memory! (computed 5.6 MiB so far)\n",
      "23/04/11 22:55:04 WARN MemoryStore: Not enough space to cache rdd_318_7 in memory! (computed 5.6 MiB so far)\n",
      "23/04/11 22:55:04 WARN MemoryStore: Not enough space to cache rdd_318_6 in memory! (computed 5.6 MiB so far)\n",
      "23/04/11 22:55:04 WARN MemoryStore: Not enough space to cache rdd_318_0 in memory! (computed 5.6 MiB so far)\n",
      "23/04/11 22:55:04 WARN MemoryStore: Not enough space to cache rdd_318_4 in memory! (computed 19.6 MiB so far)\n",
      "23/04/11 22:55:04 WARN MemoryStore: Not enough space to cache rdd_318_3 in memory! (computed 19.6 MiB so far)\n"
     ]
    },
    {
     "name": "stderr",
     "output_type": "stream",
     "text": [
      "[Stage 195:======>                                                 (2 + 8) / 17]\r"
     ]
    },
    {
     "name": "stdout",
     "output_type": "stream",
     "text": [
      "23/04/11 22:55:04 WARN MemoryStore: Not enough space to cache rdd_318_9 in memory! (computed 44.2 MiB so far)\n",
      "23/04/11 22:55:05 WARN MemoryStore: Not enough space to cache rdd_318_10 in memory! (computed 13.1 MiB so far)\n",
      "23/04/11 22:55:05 WARN MemoryStore: Not enough space to cache rdd_318_14 in memory! (computed 13.1 MiB so far)\n"
     ]
    },
    {
     "name": "stderr",
     "output_type": "stream",
     "text": [
      "[Stage 195:=============================================>         (14 + 3) / 17]\r"
     ]
    },
    {
     "name": "stdout",
     "output_type": "stream",
     "text": [
      "23/04/11 22:55:05 WARN MemoryStore: Not enough space to cache rdd_318_13 in memory! (computed 44.2 MiB so far)\n"
     ]
    },
    {
     "name": "stderr",
     "output_type": "stream",
     "text": [
      "                                                                                \r"
     ]
    },
    {
     "name": "stdout",
     "output_type": "stream",
     "text": [
      "23/04/11 22:55:05 WARN MemoryStore: Not enough space to cache rdd_318_3 in memory! (computed 5.6 MiB so far)\n",
      "23/04/11 22:55:05 WARN MemoryStore: Not enough space to cache rdd_318_0 in memory! (computed 5.6 MiB so far)\n",
      "23/04/11 22:55:05 WARN MemoryStore: Not enough space to cache rdd_318_6 in memory! (computed 5.6 MiB so far)\n",
      "23/04/11 22:55:05 WARN MemoryStore: Not enough space to cache rdd_318_4 in memory! (computed 5.6 MiB so far)\n",
      "23/04/11 22:55:05 WARN MemoryStore: Not enough space to cache rdd_318_7 in memory! (computed 13.1 MiB so far)\n",
      "23/04/11 22:55:06 WARN MemoryStore: Not enough space to cache rdd_318_1 in memory! (computed 19.6 MiB so far)\n",
      "23/04/11 22:55:06 WARN MemoryStore: Not enough space to cache rdd_318_9 in memory! (computed 13.1 MiB so far)\n",
      "23/04/11 22:55:06 WARN MemoryStore: Not enough space to cache rdd_318_5 in memory! (computed 29.5 MiB so far)\n"
     ]
    },
    {
     "name": "stderr",
     "output_type": "stream",
     "text": [
      "[Stage 197:=============================>                          (9 + 8) / 17]\r"
     ]
    },
    {
     "name": "stdout",
     "output_type": "stream",
     "text": [
      "23/04/11 22:55:06 WARN MemoryStore: Not enough space to cache rdd_318_13 in memory! (computed 13.1 MiB so far)\n",
      "23/04/11 22:55:06 WARN MemoryStore: Not enough space to cache rdd_318_14 in memory! (computed 13.1 MiB so far)\n"
     ]
    },
    {
     "name": "stderr",
     "output_type": "stream",
     "text": [
      "[Stage 197:=============================================>         (14 + 3) / 17]\r"
     ]
    },
    {
     "name": "stdout",
     "output_type": "stream",
     "text": [
      "23/04/11 22:55:06 WARN MemoryStore: Not enough space to cache rdd_318_10 in memory! (computed 44.2 MiB so far)\n"
     ]
    },
    {
     "name": "stderr",
     "output_type": "stream",
     "text": [
      "                                                                                \r"
     ]
    },
    {
     "name": "stdout",
     "output_type": "stream",
     "text": [
      "23/04/11 23:11:40 WARN MemoryStore: Not enough space to cache rdd_318_3 in memory! (computed 5.6 MiB so far)\n",
      "23/04/11 23:11:40 WARN MemoryStore: Not enough space to cache rdd_318_1 in memory! (computed 5.6 MiB so far)\n",
      "23/04/11 23:11:40 WARN MemoryStore: Not enough space to cache rdd_318_4 in memory! (computed 5.6 MiB so far)\n",
      "23/04/11 23:11:41 WARN MemoryStore: Not enough space to cache rdd_318_5 in memory! (computed 8.4 MiB so far)\n",
      "23/04/11 23:11:41 WARN MemoryStore: Not enough space to cache rdd_318_0 in memory! (computed 13.1 MiB so far)\n",
      "23/04/11 23:11:41 WARN MemoryStore: Not enough space to cache rdd_318_7 in memory! (computed 19.6 MiB so far)\n",
      "23/04/11 23:11:41 WARN MemoryStore: Not enough space to cache rdd_318_9 in memory! (computed 13.1 MiB so far)\n"
     ]
    },
    {
     "name": "stderr",
     "output_type": "stream",
     "text": [
      "[Stage 199:======>                                                 (2 + 8) / 17]\r"
     ]
    },
    {
     "name": "stdout",
     "output_type": "stream",
     "text": [
      "23/04/11 23:11:41 WARN MemoryStore: Not enough space to cache rdd_318_6 in memory! (computed 44.2 MiB so far)\n"
     ]
    },
    {
     "name": "stderr",
     "output_type": "stream",
     "text": [
      "[Stage 199:===================================>                   (11 + 6) / 17]\r"
     ]
    },
    {
     "name": "stdout",
     "output_type": "stream",
     "text": [
      "23/04/11 23:11:41 WARN MemoryStore: Not enough space to cache rdd_318_13 in memory! (computed 13.1 MiB so far)\n",
      "23/04/11 23:11:41 WARN MemoryStore: Not enough space to cache rdd_318_10 in memory! (computed 19.6 MiB so far)\n"
     ]
    },
    {
     "name": "stderr",
     "output_type": "stream",
     "text": [
      "[Stage 199:=============================================>         (14 + 3) / 17]\r"
     ]
    },
    {
     "name": "stdout",
     "output_type": "stream",
     "text": [
      "23/04/11 23:11:42 WARN MemoryStore: Not enough space to cache rdd_318_14 in memory! (computed 44.2 MiB so far)\n"
     ]
    },
    {
     "name": "stderr",
     "output_type": "stream",
     "text": [
      "                                                                                \r"
     ]
    },
    {
     "name": "stdout",
     "output_type": "stream",
     "text": [
      "23/04/11 23:11:42 WARN MemoryStore: Not enough space to cache rdd_318_0 in memory! (computed 5.6 MiB so far)\n",
      "23/04/11 23:11:42 WARN MemoryStore: Not enough space to cache rdd_318_6 in memory! (computed 5.6 MiB so far)\n",
      "23/04/11 23:11:42 WARN MemoryStore: Not enough space to cache rdd_318_5 in memory! (computed 8.4 MiB so far)\n",
      "23/04/11 23:11:42 WARN MemoryStore: Not enough space to cache rdd_318_4 in memory! (computed 8.4 MiB so far)\n",
      "23/04/11 23:11:42 WARN MemoryStore: Not enough space to cache rdd_318_3 in memory! (computed 13.1 MiB so far)\n",
      "23/04/11 23:11:42 WARN MemoryStore: Not enough space to cache rdd_318_1 in memory! (computed 13.1 MiB so far)\n",
      "23/04/11 23:11:42 WARN MemoryStore: Not enough space to cache rdd_318_9 in memory! (computed 13.1 MiB so far)\n",
      "23/04/11 23:11:43 WARN MemoryStore: Not enough space to cache rdd_318_7 in memory! (computed 44.2 MiB so far)\n"
     ]
    },
    {
     "name": "stderr",
     "output_type": "stream",
     "text": [
      "[Stage 201:==========================================>            (13 + 4) / 17]\r"
     ]
    },
    {
     "name": "stdout",
     "output_type": "stream",
     "text": [
      "23/04/11 23:11:43 WARN MemoryStore: Not enough space to cache rdd_318_13 in memory! (computed 13.1 MiB so far)\n",
      "23/04/11 23:11:43 WARN MemoryStore: Not enough space to cache rdd_318_10 in memory! (computed 19.6 MiB so far)\n"
     ]
    },
    {
     "name": "stderr",
     "output_type": "stream",
     "text": [
      "[Stage 201:=============================================>         (14 + 3) / 17]\r"
     ]
    },
    {
     "name": "stdout",
     "output_type": "stream",
     "text": [
      "23/04/11 23:11:43 WARN MemoryStore: Not enough space to cache rdd_318_14 in memory! (computed 44.2 MiB so far)\n"
     ]
    },
    {
     "name": "stderr",
     "output_type": "stream",
     "text": [
      "                                                                                \r"
     ]
    },
    {
     "name": "stdout",
     "output_type": "stream",
     "text": [
      "23/04/11 23:11:44 WARN MemoryStore: Not enough space to cache rdd_318_1 in memory! (computed 5.6 MiB so far)\n",
      "23/04/11 23:11:44 WARN MemoryStore: Not enough space to cache rdd_318_7 in memory! (computed 5.6 MiB so far)\n",
      "23/04/11 23:11:44 WARN MemoryStore: Not enough space to cache rdd_318_4 in memory! (computed 5.6 MiB so far)\n",
      "23/04/11 23:11:44 WARN MemoryStore: Not enough space to cache rdd_318_0 in memory! (computed 8.4 MiB so far)\n",
      "23/04/11 23:11:44 WARN MemoryStore: Not enough space to cache rdd_318_5 in memory! (computed 8.4 MiB so far)\n",
      "23/04/11 23:11:44 WARN MemoryStore: Not enough space to cache rdd_318_3 in memory! (computed 19.6 MiB so far)\n",
      "23/04/11 23:11:44 WARN MemoryStore: Not enough space to cache rdd_318_6 in memory! (computed 19.6 MiB so far)\n",
      "23/04/11 23:11:44 WARN MemoryStore: Not enough space to cache rdd_318_9 in memory! (computed 5.6 MiB so far)\n"
     ]
    },
    {
     "name": "stderr",
     "output_type": "stream",
     "text": [
      "[Stage 203:===================================>                   (11 + 6) / 17]\r"
     ]
    },
    {
     "name": "stdout",
     "output_type": "stream",
     "text": [
      "23/04/11 23:11:45 WARN MemoryStore: Not enough space to cache rdd_318_13 in memory! (computed 13.1 MiB so far)\n",
      "23/04/11 23:11:45 WARN MemoryStore: Not enough space to cache rdd_318_10 in memory! (computed 19.6 MiB so far)\n"
     ]
    },
    {
     "name": "stderr",
     "output_type": "stream",
     "text": [
      "[Stage 203:=============================================>         (14 + 3) / 17]\r"
     ]
    },
    {
     "name": "stdout",
     "output_type": "stream",
     "text": [
      "23/04/11 23:11:45 WARN MemoryStore: Not enough space to cache rdd_318_14 in memory! (computed 44.2 MiB so far)\n"
     ]
    },
    {
     "name": "stderr",
     "output_type": "stream",
     "text": [
      "                                                                                \r"
     ]
    },
    {
     "name": "stdout",
     "output_type": "stream",
     "text": [
      "23/04/11 23:11:45 WARN MemoryStore: Not enough space to cache rdd_318_6 in memory! (computed 5.6 MiB so far)\n",
      "23/04/11 23:11:45 WARN MemoryStore: Not enough space to cache rdd_318_5 in memory! (computed 5.6 MiB so far)\n",
      "23/04/11 23:11:45 WARN MemoryStore: Not enough space to cache rdd_318_1 in memory! (computed 5.6 MiB so far)\n",
      "23/04/11 23:11:45 WARN MemoryStore: Not enough space to cache rdd_318_7 in memory! (computed 8.4 MiB so far)\n",
      "23/04/11 23:11:45 WARN MemoryStore: Not enough space to cache rdd_318_0 in memory! (computed 13.1 MiB so far)\n",
      "23/04/11 23:11:45 WARN MemoryStore: Failed to reserve initial memory threshold of 1024.0 KiB for computing block rdd_318_9 in memory.\n",
      "23/04/11 23:11:45 WARN MemoryStore: Not enough space to cache rdd_318_9 in memory! (computed 384.0 B so far)\n",
      "23/04/11 23:11:45 WARN MemoryStore: Not enough space to cache rdd_318_3 in memory! (computed 13.1 MiB so far)\n",
      "23/04/11 23:11:46 WARN MemoryStore: Not enough space to cache rdd_318_4 in memory! (computed 44.2 MiB so far)\n"
     ]
    },
    {
     "name": "stderr",
     "output_type": "stream",
     "text": [
      "[Stage 205:==========================>                             (8 + 8) / 17]\r"
     ]
    },
    {
     "name": "stdout",
     "output_type": "stream",
     "text": [
      "23/04/11 23:11:46 WARN MemoryStore: Not enough space to cache rdd_318_13 in memory! (computed 13.1 MiB so far)\n",
      "23/04/11 23:11:46 WARN MemoryStore: Not enough space to cache rdd_318_10 in memory! (computed 19.6 MiB so far)\n"
     ]
    },
    {
     "name": "stderr",
     "output_type": "stream",
     "text": [
      "[Stage 205:=============================================>         (14 + 3) / 17]\r"
     ]
    },
    {
     "name": "stdout",
     "output_type": "stream",
     "text": [
      "23/04/11 23:11:46 WARN MemoryStore: Not enough space to cache rdd_318_14 in memory! (computed 44.2 MiB so far)\n"
     ]
    },
    {
     "name": "stderr",
     "output_type": "stream",
     "text": [
      "                                                                                \r"
     ]
    },
    {
     "name": "stdout",
     "output_type": "stream",
     "text": [
      "23/04/11 23:11:47 WARN MemoryStore: Not enough space to cache rdd_318_0 in memory! (computed 5.6 MiB so far)\n",
      "23/04/11 23:11:47 WARN MemoryStore: Not enough space to cache rdd_318_4 in memory! (computed 5.6 MiB so far)\n",
      "23/04/11 23:11:47 WARN MemoryStore: Not enough space to cache rdd_318_6 in memory! (computed 5.6 MiB so far)\n",
      "23/04/11 23:11:47 WARN MemoryStore: Not enough space to cache rdd_318_5 in memory! (computed 5.6 MiB so far)\n",
      "23/04/11 23:11:47 WARN MemoryStore: Not enough space to cache rdd_318_1 in memory! (computed 13.1 MiB so far)\n"
     ]
    },
    {
     "name": "stderr",
     "output_type": "stream",
     "text": [
      "[Stage 207:======>                                                 (2 + 8) / 17]\r"
     ]
    },
    {
     "name": "stdout",
     "output_type": "stream",
     "text": [
      "23/04/11 23:27:21 WARN MemoryStore: Not enough space to cache rdd_318_3 in memory! (computed 19.6 MiB so far)\n",
      "23/04/11 23:27:21 WARN MemoryStore: Not enough space to cache rdd_318_7 in memory! (computed 19.6 MiB so far)\n"
     ]
    },
    {
     "name": "stderr",
     "output_type": "stream",
     "text": [
      "[Stage 207:=========>                                              (3 + 8) / 17]\r"
     ]
    },
    {
     "name": "stdout",
     "output_type": "stream",
     "text": [
      "23/04/11 23:27:22 WARN MemoryStore: Not enough space to cache rdd_318_9 in memory! (computed 44.2 MiB so far)\n",
      "23/04/11 23:27:22 WARN MemoryStore: Not enough space to cache rdd_318_10 in memory! (computed 1028.2 KiB so far)\n"
     ]
    },
    {
     "name": "stderr",
     "output_type": "stream",
     "text": [
      "[Stage 207:======================================>                (12 + 5) / 17]\r"
     ]
    },
    {
     "name": "stdout",
     "output_type": "stream",
     "text": [
      "23/04/11 23:27:22 WARN MemoryStore: Not enough space to cache rdd_318_13 in memory! (computed 19.6 MiB so far)\n",
      "23/04/11 23:27:22 WARN MemoryStore: Not enough space to cache rdd_318_14 in memory! (computed 19.6 MiB so far)\n"
     ]
    },
    {
     "name": "stderr",
     "output_type": "stream",
     "text": [
      "                                                                                \r"
     ]
    },
    {
     "name": "stdout",
     "output_type": "stream",
     "text": [
      "23/04/11 23:27:23 WARN MemoryStore: Not enough space to cache rdd_318_3 in memory! (computed 5.6 MiB so far)\n",
      "23/04/11 23:27:23 WARN MemoryStore: Not enough space to cache rdd_318_5 in memory! (computed 5.6 MiB so far)\n",
      "23/04/11 23:27:23 WARN MemoryStore: Not enough space to cache rdd_318_0 in memory! (computed 8.4 MiB so far)\n",
      "23/04/11 23:27:23 WARN MemoryStore: Not enough space to cache rdd_318_1 in memory! (computed 8.4 MiB so far)\n",
      "23/04/11 23:27:23 WARN MemoryStore: Failed to reserve initial memory threshold of 1024.0 KiB for computing block rdd_318_9 in memory.\n",
      "23/04/11 23:27:23 WARN MemoryStore: Not enough space to cache rdd_318_9 in memory! (computed 384.0 B so far)\n",
      "23/04/11 23:27:23 WARN MemoryStore: Not enough space to cache rdd_318_6 in memory! (computed 13.1 MiB so far)\n",
      "23/04/11 23:27:23 WARN MemoryStore: Not enough space to cache rdd_318_7 in memory! (computed 13.1 MiB so far)\n"
     ]
    },
    {
     "name": "stderr",
     "output_type": "stream",
     "text": [
      "[Stage 209:======>                                                 (2 + 8) / 17]\r"
     ]
    },
    {
     "name": "stdout",
     "output_type": "stream",
     "text": [
      "23/04/11 23:27:23 WARN MemoryStore: Not enough space to cache rdd_318_4 in memory! (computed 44.2 MiB so far)\n"
     ]
    },
    {
     "name": "stderr",
     "output_type": "stream",
     "text": [
      "[Stage 209:=============================================>         (14 + 3) / 17]\r"
     ]
    },
    {
     "name": "stdout",
     "output_type": "stream",
     "text": [
      "23/04/11 23:27:24 WARN MemoryStore: Not enough space to cache rdd_318_13 in memory! (computed 13.1 MiB so far)\n",
      "23/04/11 23:27:24 WARN MemoryStore: Not enough space to cache rdd_318_14 in memory! (computed 13.1 MiB so far)\n",
      "23/04/11 23:27:24 WARN MemoryStore: Not enough space to cache rdd_318_10 in memory! (computed 44.2 MiB so far)\n"
     ]
    },
    {
     "name": "stderr",
     "output_type": "stream",
     "text": [
      "                                                                                \r"
     ]
    },
    {
     "name": "stdout",
     "output_type": "stream",
     "text": [
      "23/04/11 23:27:24 WARN MemoryStore: Not enough space to cache rdd_318_1 in memory! (computed 3.7 MiB so far)\n",
      "23/04/11 23:27:24 WARN MemoryStore: Not enough space to cache rdd_318_3 in memory! (computed 3.7 MiB so far)\n",
      "23/04/11 23:27:24 WARN MemoryStore: Not enough space to cache rdd_318_0 in memory! (computed 5.6 MiB so far)\n",
      "23/04/11 23:27:24 WARN MemoryStore: Not enough space to cache rdd_318_6 in memory! (computed 8.4 MiB so far)\n",
      "23/04/11 23:27:24 WARN MemoryStore: Not enough space to cache rdd_318_4 in memory! (computed 13.1 MiB so far)\n",
      "23/04/11 23:27:24 WARN MemoryStore: Not enough space to cache rdd_318_5 in memory! (computed 19.6 MiB so far)\n",
      "23/04/11 23:27:24 WARN MemoryStore: Not enough space to cache rdd_318_9 in memory! (computed 13.1 MiB so far)\n"
     ]
    },
    {
     "name": "stderr",
     "output_type": "stream",
     "text": [
      "[Stage 211:======>                                                 (2 + 8) / 17]\r"
     ]
    },
    {
     "name": "stdout",
     "output_type": "stream",
     "text": [
      "23/04/11 23:27:25 WARN MemoryStore: Not enough space to cache rdd_318_7 in memory! (computed 44.2 MiB so far)\n"
     ]
    },
    {
     "name": "stderr",
     "output_type": "stream",
     "text": [
      "[Stage 211:======================================>                (12 + 5) / 17]\r"
     ]
    },
    {
     "name": "stdout",
     "output_type": "stream",
     "text": [
      "23/04/11 23:27:25 WARN MemoryStore: Not enough space to cache rdd_318_14 in memory! (computed 13.1 MiB so far)\n",
      "23/04/11 23:27:25 WARN MemoryStore: Not enough space to cache rdd_318_13 in memory! (computed 13.1 MiB so far)\n"
     ]
    },
    {
     "name": "stderr",
     "output_type": "stream",
     "text": [
      "[Stage 211:=============================================>         (14 + 3) / 17]\r"
     ]
    },
    {
     "name": "stdout",
     "output_type": "stream",
     "text": [
      "23/04/11 23:27:25 WARN MemoryStore: Not enough space to cache rdd_318_10 in memory! (computed 44.2 MiB so far)\n"
     ]
    },
    {
     "name": "stderr",
     "output_type": "stream",
     "text": [
      "[Stage 216:>                                                       (0 + 8) / 17]\r"
     ]
    },
    {
     "name": "stdout",
     "output_type": "stream",
     "text": [
      "23/04/11 23:37:11 WARN MemoryStore: Not enough space to cache rdd_389_5 in memory! (computed 44.2 MiB so far)\n",
      "23/04/11 23:37:11 WARN BlockManager: Persisting block rdd_389_5 to disk instead.\n",
      "23/04/11 23:37:11 WARN MemoryStore: Not enough space to cache rdd_389_7 in memory! (computed 44.2 MiB so far)\n",
      "23/04/11 23:37:11 WARN BlockManager: Persisting block rdd_389_7 to disk instead.\n",
      "23/04/11 23:37:12 WARN MemoryStore: Not enough space to cache rdd_389_2 in memory! (computed 44.2 MiB so far)\n",
      "23/04/11 23:37:12 WARN BlockManager: Persisting block rdd_389_2 to disk instead.\n",
      "23/04/11 23:37:12 WARN MemoryStore: Not enough space to cache rdd_389_3 in memory! (computed 44.2 MiB so far)\n",
      "23/04/11 23:37:12 WARN BlockManager: Persisting block rdd_389_3 to disk instead.\n",
      "23/04/11 23:37:12 WARN MemoryStore: Not enough space to cache rdd_389_6 in memory! (computed 44.2 MiB so far)\n",
      "23/04/11 23:37:12 WARN BlockManager: Persisting block rdd_389_6 to disk instead.\n",
      "23/04/11 23:37:12 WARN MemoryStore: Not enough space to cache rdd_389_0 in memory! (computed 44.2 MiB so far)\n",
      "23/04/11 23:37:12 WARN BlockManager: Persisting block rdd_389_0 to disk instead.\n",
      "23/04/11 23:37:12 WARN MemoryStore: Not enough space to cache rdd_389_4 in memory! (computed 44.2 MiB so far)\n",
      "23/04/11 23:37:12 WARN BlockManager: Persisting block rdd_389_4 to disk instead.\n"
     ]
    },
    {
     "name": "stderr",
     "output_type": "stream",
     "text": [
      "[Stage 216:===>                                                    (1 + 8) / 17]\r"
     ]
    },
    {
     "name": "stdout",
     "output_type": "stream",
     "text": [
      "23/04/11 23:37:16 WARN MemoryStore: Not enough space to cache rdd_389_6 in memory! (computed 44.2 MiB so far)\n",
      "23/04/11 23:37:16 WARN MemoryStore: Not enough space to cache rdd_389_2 in memory! (computed 66.3 MiB so far)\n"
     ]
    },
    {
     "name": "stderr",
     "output_type": "stream",
     "text": [
      "[Stage 216:================>                                       (5 + 8) / 17]\r"
     ]
    },
    {
     "name": "stdout",
     "output_type": "stream",
     "text": [
      "23/04/11 23:37:17 WARN MemoryStore: Not enough space to cache rdd_389_7 in memory! (computed 44.2 MiB so far)\n",
      "23/04/11 23:37:18 WARN MemoryStore: Not enough space to cache rdd_389_0 in memory! (computed 66.3 MiB so far)\n"
     ]
    },
    {
     "name": "stderr",
     "output_type": "stream",
     "text": [
      "[Stage 216:==========================>                             (8 + 8) / 17]\r"
     ]
    },
    {
     "name": "stdout",
     "output_type": "stream",
     "text": [
      "23/04/11 23:37:19 WARN MemoryStore: Not enough space to cache rdd_389_11 in memory! (computed 13.1 MiB so far)\n",
      "23/04/11 23:37:19 WARN BlockManager: Persisting block rdd_389_11 to disk instead.\n",
      "23/04/11 23:37:19 WARN MemoryStore: Not enough space to cache rdd_389_12 in memory! (computed 13.1 MiB so far)\n",
      "23/04/11 23:37:19 WARN BlockManager: Persisting block rdd_389_12 to disk instead.\n",
      "23/04/11 23:37:19 WARN MemoryStore: Not enough space to cache rdd_389_10 in memory! (computed 13.1 MiB so far)\n",
      "23/04/11 23:37:19 WARN BlockManager: Persisting block rdd_389_10 to disk instead.\n",
      "23/04/11 23:37:20 WARN MemoryStore: Not enough space to cache rdd_389_9 in memory! (computed 19.6 MiB so far)\n",
      "23/04/11 23:37:20 WARN BlockManager: Persisting block rdd_389_9 to disk instead.\n",
      "23/04/11 23:37:20 WARN MemoryStore: Not enough space to cache rdd_389_14 in memory! (computed 13.1 MiB so far)\n",
      "23/04/11 23:37:20 WARN BlockManager: Persisting block rdd_389_14 to disk instead.\n",
      "23/04/11 23:37:21 WARN MemoryStore: Not enough space to cache rdd_389_8 in memory! (computed 44.2 MiB so far)\n",
      "23/04/11 23:37:21 WARN BlockManager: Persisting block rdd_389_8 to disk instead.\n",
      "23/04/11 23:37:22 WARN MemoryStore: Not enough space to cache rdd_389_15 in memory! (computed 29.5 MiB so far)\n",
      "23/04/11 23:37:22 WARN BlockManager: Persisting block rdd_389_15 to disk instead.\n",
      "23/04/11 23:37:22 WARN MemoryStore: Not enough space to cache rdd_389_13 in memory! (computed 29.5 MiB so far)\n",
      "23/04/11 23:37:22 WARN BlockManager: Persisting block rdd_389_13 to disk instead.\n",
      "23/04/11 23:37:25 WARN MemoryStore: Not enough space to cache rdd_389_9 in memory! (computed 19.6 MiB so far)\n",
      "23/04/11 23:37:25 WARN MemoryStore: Not enough space to cache rdd_389_10 in memory! (computed 44.2 MiB so far)\n"
     ]
    },
    {
     "name": "stderr",
     "output_type": "stream",
     "text": [
      "[Stage 216:===================================>                   (11 + 6) / 17]\r"
     ]
    },
    {
     "name": "stdout",
     "output_type": "stream",
     "text": [
      "23/04/11 23:37:26 WARN MemoryStore: Not enough space to cache rdd_389_11 in memory! (computed 44.2 MiB so far)\n"
     ]
    },
    {
     "name": "stderr",
     "output_type": "stream",
     "text": [
      "[Stage 216:==========================================>            (13 + 4) / 17]\r"
     ]
    },
    {
     "name": "stdout",
     "output_type": "stream",
     "text": [
      "23/04/11 23:37:27 WARN MemoryStore: Not enough space to cache rdd_389_15 in memory! (computed 13.1 MiB so far)\n",
      "23/04/11 23:37:27 WARN MemoryStore: Not enough space to cache rdd_389_12 in memory! (computed 29.5 MiB so far)\n",
      "23/04/11 23:37:27 WARN MemoryStore: Not enough space to cache rdd_389_14 in memory! (computed 19.6 MiB so far)\n",
      "23/04/11 23:37:28 WARN MemoryStore: Not enough space to cache rdd_389_13 in memory! (computed 44.2 MiB so far)\n"
     ]
    },
    {
     "name": "stderr",
     "output_type": "stream",
     "text": [
      "                                                                                \r"
     ]
    },
    {
     "name": "stdout",
     "output_type": "stream",
     "text": [
      "23/04/11 23:37:28 WARN MemoryStore: Not enough space to cache rdd_389_9 in memory! (computed 1673.8 KiB so far)\n",
      "23/04/11 23:37:28 WARN MemoryStore: Not enough space to cache rdd_389_7 in memory! (computed 5.6 MiB so far)\n",
      "23/04/11 23:37:28 WARN MemoryStore: Not enough space to cache rdd_389_6 in memory! (computed 13.1 MiB so far)\n",
      "23/04/11 23:37:28 WARN MemoryStore: Not enough space to cache rdd_389_0 in memory! (computed 13.1 MiB so far)\n",
      "23/04/11 23:37:28 WARN MemoryStore: Not enough space to cache rdd_389_11 in memory! (computed 5.6 MiB so far)\n",
      "23/04/11 23:37:28 WARN MemoryStore: Not enough space to cache rdd_389_10 in memory! (computed 3.7 MiB so far)\n",
      "23/04/11 23:37:28 WARN MemoryStore: Not enough space to cache rdd_389_2 in memory! (computed 13.1 MiB so far)\n"
     ]
    },
    {
     "name": "stderr",
     "output_type": "stream",
     "text": [
      "[Stage 217:================>                                       (5 + 8) / 17]\r"
     ]
    },
    {
     "name": "stdout",
     "output_type": "stream",
     "text": [
      "23/04/11 23:37:29 WARN MemoryStore: Not enough space to cache rdd_389_12 in memory! (computed 44.2 MiB so far)\n"
     ]
    },
    {
     "name": "stderr",
     "output_type": "stream",
     "text": [
      "[Stage 217:=============================================>         (14 + 3) / 17]\r"
     ]
    },
    {
     "name": "stdout",
     "output_type": "stream",
     "text": [
      "23/04/11 23:37:29 WARN MemoryStore: Not enough space to cache rdd_389_13 in memory! (computed 13.1 MiB so far)\n",
      "23/04/11 23:37:29 WARN MemoryStore: Not enough space to cache rdd_389_14 in memory! (computed 13.1 MiB so far)\n",
      "23/04/11 23:37:29 WARN MemoryStore: Not enough space to cache rdd_389_15 in memory! (computed 44.2 MiB so far)\n"
     ]
    },
    {
     "name": "stderr",
     "output_type": "stream",
     "text": [
      "[Stage 218:=============>                                          (4 + 8) / 17]\r"
     ]
    },
    {
     "name": "stdout",
     "output_type": "stream",
     "text": [
      "23/04/11 23:37:30 WARN MemoryStore: Not enough space to cache rdd_389_2 in memory! (computed 19.6 MiB so far)\n",
      "23/04/11 23:37:30 WARN MemoryStore: Not enough space to cache rdd_389_6 in memory! (computed 29.5 MiB so far)\n",
      "23/04/11 23:37:30 WARN MemoryStore: Not enough space to cache rdd_389_0 in memory! (computed 19.6 MiB so far)\n",
      "23/04/11 23:37:30 WARN MemoryStore: Failed to reserve initial memory threshold of 1024.0 KiB for computing block rdd_389_6 in memory.\n",
      "23/04/11 23:37:30 WARN MemoryStore: Failed to reserve initial memory threshold of 1024.0 KiB for computing block rdd_389_2 in memory.\n",
      "23/04/11 23:37:30 WARN MemoryStore: Not enough space to cache rdd_389_2 in memory! (computed 384.0 B so far)\n",
      "23/04/11 23:37:30 WARN MemoryStore: Not enough space to cache rdd_389_6 in memory! (computed 384.0 B so far)\n",
      "23/04/11 23:37:30 WARN MemoryStore: Not enough space to cache rdd_389_7 in memory! (computed 29.5 MiB so far)\n",
      "23/04/11 23:37:30 WARN MemoryStore: Not enough space to cache rdd_389_11 in memory! (computed 1673.8 KiB so far)\n",
      "23/04/11 23:37:30 WARN MemoryStore: Failed to reserve initial memory threshold of 1024.0 KiB for computing block rdd_389_11 in memory.\n",
      "23/04/11 23:37:30 WARN MemoryStore: Not enough space to cache rdd_389_0 in memory! (computed 1673.8 KiB so far)\n",
      "23/04/11 23:37:30 WARN MemoryStore: Not enough space to cache rdd_389_11 in memory! (computed 384.0 B so far)\n",
      "23/04/11 23:37:31 WARN MemoryStore: Not enough space to cache rdd_389_9 in memory! (computed 44.2 MiB so far)\n",
      "23/04/11 23:37:32 WARN MemoryStore: Not enough space to cache rdd_389_10 in memory! (computed 44.2 MiB so far)\n",
      "23/04/11 23:37:32 WARN MemoryStore: Not enough space to cache rdd_389_8 in memory! (computed 44.2 MiB so far)\n",
      "23/04/11 23:37:32 WARN MemoryStore: Not enough space to cache rdd_389_7 in memory! (computed 44.2 MiB so far)\n",
      "23/04/11 23:37:32 WARN MemoryStore: Not enough space to cache rdd_389_10 in memory! (computed 2.5 MiB so far)\n",
      "23/04/11 23:37:32 WARN MemoryStore: Not enough space to cache rdd_389_9 in memory! (computed 5.6 MiB so far)\n"
     ]
    },
    {
     "name": "stderr",
     "output_type": "stream",
     "text": [
      "[Stage 218:======================================>                (12 + 5) / 17]\r"
     ]
    },
    {
     "name": "stdout",
     "output_type": "stream",
     "text": [
      "23/04/11 23:37:35 WARN MemoryStore: Not enough space to cache rdd_389_13 in memory! (computed 44.2 MiB so far)\n",
      "23/04/11 23:37:35 WARN MemoryStore: Not enough space to cache rdd_389_14 in memory! (computed 44.2 MiB so far)\n"
     ]
    },
    {
     "name": "stderr",
     "output_type": "stream",
     "text": [
      "[Stage 218:================================================>      (15 + 2) / 17]\r"
     ]
    },
    {
     "name": "stdout",
     "output_type": "stream",
     "text": [
      "23/04/11 23:37:36 WARN MemoryStore: Not enough space to cache rdd_389_13 in memory! (computed 29.5 MiB so far)\n"
     ]
    },
    {
     "name": "stderr",
     "output_type": "stream",
     "text": [
      "[Stage 219:>                                                       (0 + 8) / 17]\r"
     ]
    },
    {
     "name": "stdout",
     "output_type": "stream",
     "text": [
      "23/04/11 23:37:38 WARN MemoryStore: Not enough space to cache rdd_389_3 in memory! (computed 19.6 MiB so far)\n",
      "23/04/11 23:37:38 WARN MemoryStore: Not enough space to cache rdd_389_4 in memory! (computed 19.6 MiB so far)\n",
      "23/04/11 23:37:38 WARN MemoryStore: Not enough space to cache rdd_389_2 in memory! (computed 19.6 MiB so far)\n",
      "23/04/11 23:37:38 WARN MemoryStore: Not enough space to cache rdd_389_1 in memory! (computed 19.6 MiB so far)\n",
      "23/04/11 23:37:38 WARN MemoryStore: Not enough space to cache rdd_389_0 in memory! (computed 19.6 MiB so far)\n",
      "23/04/11 23:37:38 WARN MemoryStore: Not enough space to cache rdd_389_6 in memory! (computed 19.6 MiB so far)\n",
      "23/04/11 23:37:38 WARN MemoryStore: Not enough space to cache rdd_389_5 in memory! (computed 19.6 MiB so far)\n"
     ]
    },
    {
     "name": "stderr",
     "output_type": "stream",
     "text": [
      "[Stage 219:=============================>                          (9 + 8) / 17]\r"
     ]
    },
    {
     "name": "stdout",
     "output_type": "stream",
     "text": [
      "23/04/11 23:37:40 WARN MemoryStore: Not enough space to cache rdd_389_11 in memory! (computed 29.5 MiB so far)\n",
      "23/04/11 23:37:40 WARN MemoryStore: Not enough space to cache rdd_389_12 in memory! (computed 29.5 MiB so far)\n",
      "23/04/11 23:37:40 WARN MemoryStore: Not enough space to cache rdd_389_13 in memory! (computed 29.5 MiB so far)\n",
      "23/04/11 23:37:40 WARN MemoryStore: Not enough space to cache rdd_389_9 in memory! (computed 29.5 MiB so far)\n",
      "23/04/11 23:37:40 WARN MemoryStore: Not enough space to cache rdd_389_10 in memory! (computed 29.5 MiB so far)\n",
      "23/04/11 23:37:40 WARN MemoryStore: Not enough space to cache rdd_389_15 in memory! (computed 29.5 MiB so far)\n"
     ]
    },
    {
     "name": "stderr",
     "output_type": "stream",
     "text": [
      "[Stage 220:>                                                       (0 + 8) / 17]\r"
     ]
    },
    {
     "name": "stdout",
     "output_type": "stream",
     "text": [
      "23/04/11 23:37:42 WARN MemoryStore: Not enough space to cache rdd_389_7 in memory! (computed 29.5 MiB so far)\n",
      "23/04/11 23:37:42 WARN MemoryStore: Not enough space to cache rdd_389_1 in memory! (computed 29.5 MiB so far)\n",
      "23/04/11 23:37:42 WARN MemoryStore: Not enough space to cache rdd_389_5 in memory! (computed 44.2 MiB so far)\n",
      "23/04/11 23:37:42 WARN MemoryStore: Not enough space to cache rdd_389_0 in memory! (computed 29.5 MiB so far)\n",
      "23/04/11 23:37:42 WARN MemoryStore: Not enough space to cache rdd_389_2 in memory! (computed 29.5 MiB so far)\n",
      "23/04/11 23:37:42 WARN MemoryStore: Not enough space to cache rdd_389_6 in memory! (computed 44.2 MiB so far)\n",
      "23/04/11 23:37:43 WARN MemoryStore: Not enough space to cache rdd_393_6 in memory! (computed 8.0 MiB so far)\n",
      "23/04/11 23:37:43 WARN MemoryStore: Not enough space to cache rdd_393_0 in memory! (computed 8.0 MiB so far)\n",
      "23/04/11 23:37:43 WARN MemoryStore: Not enough space to cache rdd_393_5 in memory! (computed 8.0 MiB so far)\n",
      "23/04/11 23:37:43 WARN MemoryStore: Failed to reserve initial memory threshold of 1024.0 KiB for computing block rdd_397_6 in memory.\n",
      "23/04/11 23:37:43 WARN MemoryStore: Not enough space to cache rdd_397_6 in memory! (computed 640.0 B so far)\n",
      "23/04/11 23:37:43 WARN BlockManager: Persisting block rdd_397_6 to disk instead.\n",
      "23/04/11 23:37:43 WARN MemoryStore: Failed to reserve initial memory threshold of 1024.0 KiB for computing block rdd_397_5 in memory.\n",
      "23/04/11 23:37:43 WARN MemoryStore: Not enough space to cache rdd_397_5 in memory! (computed 640.0 B so far)\n",
      "23/04/11 23:37:43 WARN BlockManager: Persisting block rdd_397_5 to disk instead.\n",
      "23/04/11 23:37:43 WARN MemoryStore: Not enough space to cache rdd_393_2 in memory! (computed 8.0 MiB so far)\n",
      "23/04/11 23:37:43 WARN MemoryStore: Failed to reserve initial memory threshold of 1024.0 KiB for computing block rdd_397_2 in memory.\n",
      "23/04/11 23:37:43 WARN MemoryStore: Not enough space to cache rdd_397_2 in memory! (computed 640.0 B so far)\n",
      "23/04/11 23:37:43 WARN BlockManager: Persisting block rdd_397_2 to disk instead.\n",
      "23/04/11 23:37:43 WARN MemoryStore: Not enough space to cache rdd_397_7 in memory! (computed 4.0 MiB so far)\n",
      "23/04/11 23:37:43 WARN BlockManager: Persisting block rdd_397_7 to disk instead.\n"
     ]
    },
    {
     "name": "stderr",
     "output_type": "stream",
     "text": [
      "[Stage 220:==========================>                             (8 + 8) / 17]\r"
     ]
    },
    {
     "name": "stdout",
     "output_type": "stream",
     "text": [
      "23/04/11 23:37:45 WARN MemoryStore: Not enough space to cache rdd_389_8 in memory! (computed 44.2 MiB so far)\n",
      "23/04/11 23:37:45 WARN MemoryStore: Not enough space to cache rdd_389_13 in memory! (computed 13.1 MiB so far)\n",
      "23/04/11 23:37:45 WARN MemoryStore: Not enough space to cache rdd_389_9 in memory! (computed 44.2 MiB so far)\n",
      "23/04/11 23:37:45 WARN MemoryStore: Not enough space to cache rdd_389_10 in memory! (computed 44.2 MiB so far)\n",
      "23/04/11 23:37:45 WARN MemoryStore: Not enough space to cache rdd_389_15 in memory! (computed 8.4 MiB so far)\n",
      "23/04/11 23:37:45 WARN MemoryStore: Not enough space to cache rdd_389_14 in memory! (computed 13.1 MiB so far)\n",
      "23/04/11 23:37:45 WARN MemoryStore: Not enough space to cache rdd_389_11 in memory! (computed 29.5 MiB so far)\n"
     ]
    },
    {
     "name": "stderr",
     "output_type": "stream",
     "text": [
      "[Stage 221:>                                                       (0 + 8) / 17]\r"
     ]
    },
    {
     "name": "stdout",
     "output_type": "stream",
     "text": [
      "23/04/11 23:37:49 WARN MemoryStore: Not enough space to cache rdd_389_1 in memory! (computed 29.5 MiB so far)\n",
      "23/04/11 23:37:49 WARN MemoryStore: Not enough space to cache rdd_389_5 in memory! (computed 29.5 MiB so far)\n",
      "23/04/11 23:37:49 WARN MemoryStore: Not enough space to cache rdd_389_2 in memory! (computed 29.5 MiB so far)\n",
      "23/04/11 23:37:49 WARN MemoryStore: Not enough space to cache rdd_389_7 in memory! (computed 29.5 MiB so far)\n",
      "23/04/11 23:37:49 WARN MemoryStore: Not enough space to cache rdd_389_4 in memory! (computed 29.5 MiB so far)\n",
      "23/04/11 23:37:49 WARN MemoryStore: Not enough space to cache rdd_389_0 in memory! (computed 29.5 MiB so far)\n",
      "23/04/11 23:37:49 WARN MemoryStore: Not enough space to cache rdd_389_3 in memory! (computed 44.2 MiB so far)\n"
     ]
    },
    {
     "name": "stderr",
     "output_type": "stream",
     "text": [
      "[Stage 221:==========================>                             (8 + 8) / 17]\r"
     ]
    },
    {
     "name": "stdout",
     "output_type": "stream",
     "text": [
      "23/04/11 23:37:51 WARN MemoryStore: Not enough space to cache rdd_389_8 in memory! (computed 44.2 MiB so far)\n",
      "23/04/11 23:37:51 WARN MemoryStore: Not enough space to cache rdd_389_14 in memory! (computed 29.5 MiB so far)\n",
      "23/04/11 23:37:51 WARN MemoryStore: Not enough space to cache rdd_389_11 in memory! (computed 29.5 MiB so far)\n",
      "23/04/11 23:37:51 WARN MemoryStore: Not enough space to cache rdd_389_15 in memory! (computed 13.1 MiB so far)\n",
      "23/04/11 23:37:51 WARN MemoryStore: Not enough space to cache rdd_389_9 in memory! (computed 44.2 MiB so far)\n",
      "23/04/11 23:37:51 WARN MemoryStore: Not enough space to cache rdd_389_13 in memory! (computed 29.5 MiB so far)\n",
      "23/04/11 23:37:51 WARN MemoryStore: Not enough space to cache rdd_397_15 in memory! (computed 8.0 MiB so far)\n",
      "23/04/11 23:37:51 WARN MemoryStore: Not enough space to cache rdd_397_8 in memory! (computed 8.0 MiB so far)\n",
      "23/04/11 23:37:51 WARN MemoryStore: Not enough space to cache rdd_389_12 in memory! (computed 44.2 MiB so far)\n"
     ]
    },
    {
     "name": "stderr",
     "output_type": "stream",
     "text": [
      "[Stage 222:>                                                       (0 + 8) / 17]\r"
     ]
    },
    {
     "name": "stdout",
     "output_type": "stream",
     "text": [
      "23/04/11 23:37:53 WARN MemoryStore: Not enough space to cache rdd_389_2 in memory! (computed 29.5 MiB so far)\n",
      "23/04/11 23:37:53 WARN MemoryStore: Not enough space to cache rdd_389_1 in memory! (computed 29.5 MiB so far)\n",
      "23/04/11 23:37:53 WARN MemoryStore: Not enough space to cache rdd_389_6 in memory! (computed 29.5 MiB so far)\n",
      "23/04/11 23:37:53 WARN MemoryStore: Not enough space to cache rdd_389_0 in memory! (computed 29.5 MiB so far)\n",
      "23/04/11 23:37:53 WARN MemoryStore: Not enough space to cache rdd_389_5 in memory! (computed 44.2 MiB so far)\n",
      "23/04/11 23:37:53 WARN MemoryStore: Not enough space to cache rdd_389_3 in memory! (computed 44.2 MiB so far)\n",
      "23/04/11 23:37:53 WARN MemoryStore: Not enough space to cache rdd_389_7 in memory! (computed 44.2 MiB so far)\n",
      "23/04/11 23:37:53 WARN MemoryStore: Not enough space to cache rdd_389_4 in memory! (computed 44.2 MiB so far)\n"
     ]
    },
    {
     "name": "stderr",
     "output_type": "stream",
     "text": [
      "[Stage 222:==========================>                             (8 + 8) / 17]\r"
     ]
    },
    {
     "name": "stdout",
     "output_type": "stream",
     "text": [
      "23/04/11 23:37:55 WARN MemoryStore: Not enough space to cache rdd_389_9 in memory! (computed 29.5 MiB so far)\n"
     ]
    },
    {
     "name": "stderr",
     "output_type": "stream",
     "text": [
      "[Stage 222:================================>                      (10 + 7) / 17]\r"
     ]
    },
    {
     "name": "stdout",
     "output_type": "stream",
     "text": [
      "23/04/11 23:37:55 WARN MemoryStore: Not enough space to cache rdd_389_13 in memory! (computed 44.2 MiB so far)\n",
      "23/04/11 23:37:55 WARN MemoryStore: Not enough space to cache rdd_389_14 in memory! (computed 44.2 MiB so far)\n",
      "23/04/11 23:37:55 WARN MemoryStore: Not enough space to cache rdd_389_15 in memory! (computed 44.2 MiB so far)\n",
      "23/04/11 23:37:55 WARN MemoryStore: Not enough space to cache rdd_389_11 in memory! (computed 44.2 MiB so far)\n",
      "23/04/11 23:37:55 WARN MemoryStore: Not enough space to cache rdd_389_12 in memory! (computed 44.2 MiB so far)\n"
     ]
    },
    {
     "name": "stderr",
     "output_type": "stream",
     "text": [
      "                                                                                \r"
     ]
    },
    {
     "name": "stdout",
     "output_type": "stream",
     "text": [
      "23/04/11 23:37:57 WARN MemoryStore: Not enough space to cache rdd_389_0 in memory! (computed 29.5 MiB so far)\n",
      "23/04/11 23:37:57 WARN MemoryStore: Not enough space to cache rdd_389_2 in memory! (computed 29.5 MiB so far)\n",
      "23/04/11 23:37:57 WARN MemoryStore: Not enough space to cache rdd_389_5 in memory! (computed 29.5 MiB so far)\n",
      "23/04/11 23:37:57 WARN MemoryStore: Not enough space to cache rdd_389_6 in memory! (computed 29.5 MiB so far)\n",
      "23/04/11 23:37:57 WARN MemoryStore: Not enough space to cache rdd_389_7 in memory! (computed 29.5 MiB so far)\n",
      "23/04/11 23:37:57 WARN MemoryStore: Not enough space to cache rdd_389_1 in memory! (computed 29.5 MiB so far)\n"
     ]
    },
    {
     "name": "stderr",
     "output_type": "stream",
     "text": [
      "[Stage 224:================================>                      (10 + 7) / 17]\r"
     ]
    },
    {
     "name": "stdout",
     "output_type": "stream",
     "text": [
      "23/04/11 23:37:59 WARN MemoryStore: Not enough space to cache rdd_389_14 in memory! (computed 13.1 MiB so far)\n",
      "23/04/11 23:37:59 WARN MemoryStore: Not enough space to cache rdd_389_9 in memory! (computed 19.6 MiB so far)\n",
      "23/04/11 23:37:59 WARN MemoryStore: Not enough space to cache rdd_389_12 in memory! (computed 19.6 MiB so far)\n",
      "23/04/11 23:37:59 WARN MemoryStore: Not enough space to cache rdd_389_13 in memory! (computed 19.6 MiB so far)\n",
      "23/04/11 23:37:59 WARN MemoryStore: Not enough space to cache rdd_389_11 in memory! (computed 19.6 MiB so far)\n"
     ]
    },
    {
     "name": "stderr",
     "output_type": "stream",
     "text": [
      "                                                                                \r"
     ]
    },
    {
     "name": "stdout",
     "output_type": "stream",
     "text": [
      "23/04/11 23:38:00 WARN MemoryStore: Not enough space to cache rdd_389_9 in memory! (computed 1028.2 KiB so far)\n",
      "23/04/11 23:38:00 WARN MemoryStore: Not enough space to cache rdd_389_1 in memory! (computed 8.4 MiB so far)\n",
      "23/04/11 23:38:00 WARN MemoryStore: Not enough space to cache rdd_389_7 in memory! (computed 8.4 MiB so far)\n",
      "23/04/11 23:38:00 WARN MemoryStore: Not enough space to cache rdd_389_6 in memory! (computed 8.4 MiB so far)\n",
      "23/04/11 23:38:00 WARN MemoryStore: Not enough space to cache rdd_389_0 in memory! (computed 8.4 MiB so far)\n",
      "23/04/11 23:38:00 WARN MemoryStore: Not enough space to cache rdd_389_5 in memory! (computed 19.6 MiB so far)\n"
     ]
    },
    {
     "name": "stderr",
     "output_type": "stream",
     "text": [
      "[Stage 226:=============>                                          (4 + 8) / 17]\r"
     ]
    },
    {
     "name": "stdout",
     "output_type": "stream",
     "text": [
      "23/04/11 23:38:00 WARN MemoryStore: Not enough space to cache rdd_389_2 in memory! (computed 29.5 MiB so far)\n"
     ]
    },
    {
     "name": "stderr",
     "output_type": "stream",
     "text": [
      "[Stage 226:===================>                                    (6 + 8) / 17]\r"
     ]
    },
    {
     "name": "stdout",
     "output_type": "stream",
     "text": [
      "23/04/11 23:38:00 WARN MemoryStore: Not enough space to cache rdd_389_12 in memory! (computed 3.7 MiB so far)\n",
      "23/04/11 23:38:00 WARN MemoryStore: Not enough space to cache rdd_389_13 in memory! (computed 2.5 MiB so far)\n",
      "23/04/11 23:38:00 WARN MemoryStore: Not enough space to cache rdd_389_11 in memory! (computed 44.2 MiB so far)\n"
     ]
    },
    {
     "name": "stderr",
     "output_type": "stream",
     "text": [
      "[Stage 226:=============================================>         (14 + 3) / 17]\r"
     ]
    },
    {
     "name": "stdout",
     "output_type": "stream",
     "text": [
      "23/04/11 23:38:01 WARN MemoryStore: Not enough space to cache rdd_389_14 in memory! (computed 44.2 MiB so far)\n"
     ]
    },
    {
     "name": "stderr",
     "output_type": "stream",
     "text": [
      "                                                                                \r"
     ]
    },
    {
     "name": "stdout",
     "output_type": "stream",
     "text": [
      "23/04/11 23:38:01 WARN MemoryStore: Not enough space to cache rdd_389_6 in memory! (computed 8.4 MiB so far)\n",
      "23/04/11 23:38:01 WARN MemoryStore: Not enough space to cache rdd_389_1 in memory! (computed 8.4 MiB so far)\n",
      "23/04/11 23:38:01 WARN MemoryStore: Not enough space to cache rdd_389_0 in memory! (computed 8.4 MiB so far)\n",
      "23/04/11 23:38:01 WARN MemoryStore: Not enough space to cache rdd_389_5 in memory! (computed 8.4 MiB so far)\n",
      "23/04/11 23:38:01 WARN MemoryStore: Not enough space to cache rdd_389_7 in memory! (computed 8.4 MiB so far)\n",
      "23/04/11 23:38:01 WARN MemoryStore: Not enough space to cache rdd_389_2 in memory! (computed 8.4 MiB so far)\n"
     ]
    },
    {
     "name": "stderr",
     "output_type": "stream",
     "text": [
      "[Stage 228:=============>                                          (4 + 8) / 17]\r"
     ]
    },
    {
     "name": "stdout",
     "output_type": "stream",
     "text": [
      "23/04/11 23:38:02 WARN MemoryStore: Not enough space to cache rdd_389_9 in memory! (computed 29.5 MiB so far)\n",
      "23/04/11 23:38:02 WARN MemoryStore: Not enough space to cache rdd_389_13 in memory! (computed 2.5 MiB so far)\n",
      "23/04/11 23:38:02 WARN MemoryStore: Not enough space to cache rdd_389_14 in memory! (computed 1028.2 KiB so far)\n",
      "23/04/11 23:38:02 WARN MemoryStore: Not enough space to cache rdd_389_12 in memory! (computed 3.7 MiB so far)\n",
      "23/04/11 23:38:02 WARN MemoryStore: Not enough space to cache rdd_389_11 in memory! (computed 44.2 MiB so far)\n"
     ]
    },
    {
     "name": "stderr",
     "output_type": "stream",
     "text": [
      "                                                                                \r"
     ]
    },
    {
     "name": "stdout",
     "output_type": "stream",
     "text": [
      "23/04/11 23:38:03 WARN MemoryStore: Not enough space to cache rdd_389_5 in memory! (computed 8.4 MiB so far)\n",
      "23/04/11 23:38:03 WARN MemoryStore: Not enough space to cache rdd_389_6 in memory! (computed 8.4 MiB so far)\n",
      "23/04/11 23:38:03 WARN MemoryStore: Not enough space to cache rdd_389_1 in memory! (computed 8.4 MiB so far)\n",
      "23/04/11 23:38:03 WARN MemoryStore: Not enough space to cache rdd_389_0 in memory! (computed 13.1 MiB so far)\n",
      "23/04/11 23:38:03 WARN MemoryStore: Not enough space to cache rdd_389_7 in memory! (computed 19.6 MiB so far)\n",
      "23/04/11 23:38:03 WARN MemoryStore: Not enough space to cache rdd_389_9 in memory! (computed 8.4 MiB so far)\n"
     ]
    },
    {
     "name": "stderr",
     "output_type": "stream",
     "text": [
      "[Stage 230:=============>                                          (4 + 8) / 17]\r"
     ]
    },
    {
     "name": "stdout",
     "output_type": "stream",
     "text": [
      "23/04/11 23:38:03 WARN MemoryStore: Not enough space to cache rdd_389_11 in memory! (computed 5.6 MiB so far)\n",
      "23/04/11 23:38:03 WARN MemoryStore: Not enough space to cache rdd_389_2 in memory! (computed 44.2 MiB so far)\n"
     ]
    },
    {
     "name": "stderr",
     "output_type": "stream",
     "text": [
      "[Stage 230:==========================================>            (13 + 4) / 17]\r"
     ]
    },
    {
     "name": "stdout",
     "output_type": "stream",
     "text": [
      "23/04/11 23:38:04 WARN MemoryStore: Not enough space to cache rdd_389_14 in memory! (computed 13.1 MiB so far)\n",
      "23/04/11 23:38:04 WARN MemoryStore: Not enough space to cache rdd_389_13 in memory! (computed 13.1 MiB so far)\n"
     ]
    },
    {
     "name": "stderr",
     "output_type": "stream",
     "text": [
      "[Stage 230:=============================================>         (14 + 3) / 17]\r"
     ]
    },
    {
     "name": "stdout",
     "output_type": "stream",
     "text": [
      "23/04/11 23:38:04 WARN MemoryStore: Not enough space to cache rdd_389_12 in memory! (computed 44.2 MiB so far)\n"
     ]
    },
    {
     "name": "stderr",
     "output_type": "stream",
     "text": [
      "                                                                                \r"
     ]
    },
    {
     "name": "stdout",
     "output_type": "stream",
     "text": [
      "23/04/11 23:38:04 WARN MemoryStore: Not enough space to cache rdd_389_1 in memory! (computed 8.4 MiB so far)\n",
      "23/04/11 23:38:04 WARN MemoryStore: Not enough space to cache rdd_389_5 in memory! (computed 8.4 MiB so far)\n",
      "23/04/11 23:38:04 WARN MemoryStore: Not enough space to cache rdd_389_2 in memory! (computed 8.4 MiB so far)\n",
      "23/04/11 23:38:04 WARN MemoryStore: Not enough space to cache rdd_389_6 in memory! (computed 8.4 MiB so far)\n",
      "23/04/11 23:38:04 WARN MemoryStore: Not enough space to cache rdd_389_7 in memory! (computed 8.4 MiB so far)\n",
      "23/04/11 23:38:05 WARN MemoryStore: Not enough space to cache rdd_389_9 in memory! (computed 19.6 MiB so far)\n",
      "23/04/11 23:38:05 WARN MemoryStore: Not enough space to cache rdd_389_11 in memory! (computed 5.6 MiB so far)\n"
     ]
    },
    {
     "name": "stderr",
     "output_type": "stream",
     "text": [
      "[Stage 232:=============>                                          (4 + 8) / 17]\r"
     ]
    },
    {
     "name": "stdout",
     "output_type": "stream",
     "text": [
      "23/04/11 23:38:05 WARN MemoryStore: Not enough space to cache rdd_389_0 in memory! (computed 44.2 MiB so far)\n"
     ]
    },
    {
     "name": "stderr",
     "output_type": "stream",
     "text": [
      "[Stage 232:==========================================>            (13 + 4) / 17]\r"
     ]
    },
    {
     "name": "stdout",
     "output_type": "stream",
     "text": [
      "23/04/11 23:38:05 WARN MemoryStore: Not enough space to cache rdd_389_14 in memory! (computed 13.1 MiB so far)\n",
      "23/04/11 23:38:05 WARN MemoryStore: Not enough space to cache rdd_389_12 in memory! (computed 13.1 MiB so far)\n"
     ]
    },
    {
     "name": "stderr",
     "output_type": "stream",
     "text": [
      "[Stage 232:=============================================>         (14 + 3) / 17]\r"
     ]
    },
    {
     "name": "stdout",
     "output_type": "stream",
     "text": [
      "23/04/11 23:38:06 WARN MemoryStore: Not enough space to cache rdd_389_13 in memory! (computed 44.2 MiB so far)\n"
     ]
    },
    {
     "name": "stderr",
     "output_type": "stream",
     "text": [
      "                                                                                \r"
     ]
    },
    {
     "name": "stdout",
     "output_type": "stream",
     "text": [
      "23/04/11 23:38:06 WARN MemoryStore: Not enough space to cache rdd_389_2 in memory! (computed 8.4 MiB so far)\n",
      "23/04/11 23:38:06 WARN MemoryStore: Not enough space to cache rdd_389_1 in memory! (computed 8.4 MiB so far)\n",
      "23/04/11 23:38:06 WARN MemoryStore: Not enough space to cache rdd_389_6 in memory! (computed 8.4 MiB so far)\n",
      "23/04/11 23:38:06 WARN MemoryStore: Not enough space to cache rdd_389_0 in memory! (computed 8.4 MiB so far)\n",
      "23/04/11 23:38:06 WARN MemoryStore: Not enough space to cache rdd_389_5 in memory! (computed 8.4 MiB so far)\n",
      "23/04/11 23:38:06 WARN MemoryStore: Not enough space to cache rdd_389_9 in memory! (computed 19.6 MiB so far)\n",
      "23/04/11 23:38:07 WARN MemoryStore: Not enough space to cache rdd_389_11 in memory! (computed 5.6 MiB so far)\n"
     ]
    },
    {
     "name": "stderr",
     "output_type": "stream",
     "text": [
      "[Stage 234:=============>                                          (4 + 8) / 17]\r"
     ]
    },
    {
     "name": "stdout",
     "output_type": "stream",
     "text": [
      "23/04/11 23:38:07 WARN MemoryStore: Not enough space to cache rdd_389_7 in memory! (computed 44.2 MiB so far)\n"
     ]
    },
    {
     "name": "stderr",
     "output_type": "stream",
     "text": [
      "[Stage 234:======================================>                (12 + 5) / 17]\r"
     ]
    },
    {
     "name": "stdout",
     "output_type": "stream",
     "text": [
      "23/04/11 23:38:08 WARN MemoryStore: Not enough space to cache rdd_389_14 in memory! (computed 2.5 MiB so far)\n",
      "23/04/11 23:38:08 WARN MemoryStore: Not enough space to cache rdd_389_13 in memory! (computed 19.6 MiB so far)\n",
      "23/04/11 23:38:08 WARN MemoryStore: Not enough space to cache rdd_389_12 in memory! (computed 44.2 MiB so far)\n"
     ]
    },
    {
     "name": "stderr",
     "output_type": "stream",
     "text": [
      "                                                                                \r"
     ]
    },
    {
     "name": "stdout",
     "output_type": "stream",
     "text": [
      "23/04/11 23:38:09 WARN MemoryStore: Not enough space to cache rdd_389_0 in memory! (computed 8.4 MiB so far)\n",
      "23/04/11 23:38:09 WARN MemoryStore: Not enough space to cache rdd_389_2 in memory! (computed 8.4 MiB so far)\n",
      "23/04/11 23:38:09 WARN MemoryStore: Not enough space to cache rdd_389_9 in memory! (computed 1028.2 KiB so far)\n",
      "23/04/11 23:38:09 WARN MemoryStore: Not enough space to cache rdd_389_7 in memory! (computed 13.1 MiB so far)\n",
      "23/04/11 23:38:09 WARN MemoryStore: Not enough space to cache rdd_389_5 in memory! (computed 13.1 MiB so far)\n",
      "23/04/11 23:38:09 WARN MemoryStore: Not enough space to cache rdd_389_6 in memory! (computed 19.6 MiB so far)\n",
      "23/04/11 23:38:09 WARN MemoryStore: Not enough space to cache rdd_389_11 in memory! (computed 5.6 MiB so far)\n"
     ]
    },
    {
     "name": "stderr",
     "output_type": "stream",
     "text": [
      "[Stage 236:=============>                                          (4 + 8) / 17]\r"
     ]
    },
    {
     "name": "stdout",
     "output_type": "stream",
     "text": [
      "23/04/11 23:38:09 WARN MemoryStore: Not enough space to cache rdd_389_1 in memory! (computed 44.2 MiB so far)\n",
      "23/04/11 23:38:10 WARN MemoryStore: Not enough space to cache rdd_389_14 in memory! (computed 13.1 MiB so far)\n",
      "23/04/11 23:38:10 WARN MemoryStore: Not enough space to cache rdd_389_12 in memory! (computed 13.1 MiB so far)\n"
     ]
    },
    {
     "name": "stderr",
     "output_type": "stream",
     "text": [
      "[Stage 236:=============================================>         (14 + 3) / 17]\r"
     ]
    },
    {
     "name": "stdout",
     "output_type": "stream",
     "text": [
      "23/04/11 23:38:10 WARN MemoryStore: Not enough space to cache rdd_389_13 in memory! (computed 44.2 MiB so far)\n"
     ]
    },
    {
     "name": "stderr",
     "output_type": "stream",
     "text": [
      "                                                                                \r"
     ]
    },
    {
     "name": "stdout",
     "output_type": "stream",
     "text": [
      "23/04/11 23:38:11 WARN MemoryStore: Not enough space to cache rdd_389_6 in memory! (computed 8.4 MiB so far)\n",
      "23/04/11 23:38:11 WARN MemoryStore: Not enough space to cache rdd_389_1 in memory! (computed 8.4 MiB so far)\n",
      "23/04/11 23:38:11 WARN MemoryStore: Not enough space to cache rdd_389_0 in memory! (computed 8.4 MiB so far)\n",
      "23/04/11 23:38:11 WARN MemoryStore: Not enough space to cache rdd_389_2 in memory! (computed 8.4 MiB so far)\n",
      "23/04/11 23:38:11 WARN MemoryStore: Not enough space to cache rdd_389_7 in memory! (computed 19.6 MiB so far)\n",
      "23/04/11 23:38:11 WARN MemoryStore: Not enough space to cache rdd_389_5 in memory! (computed 19.6 MiB so far)\n"
     ]
    },
    {
     "name": "stderr",
     "output_type": "stream",
     "text": [
      "[Stage 238:=============>                                          (4 + 8) / 17]\r"
     ]
    },
    {
     "name": "stdout",
     "output_type": "stream",
     "text": [
      "23/04/11 23:38:11 WARN MemoryStore: Not enough space to cache rdd_389_9 in memory! (computed 29.5 MiB so far)\n"
     ]
    },
    {
     "name": "stderr",
     "output_type": "stream",
     "text": [
      "[Stage 238:================>                                       (5 + 8) / 17]\r"
     ]
    },
    {
     "name": "stdout",
     "output_type": "stream",
     "text": [
      "23/04/11 23:38:11 WARN MemoryStore: Not enough space to cache rdd_389_13 in memory! (computed 1028.2 KiB so far)\n",
      "23/04/11 23:38:11 WARN MemoryStore: Not enough space to cache rdd_389_12 in memory! (computed 2.5 MiB so far)\n",
      "23/04/11 23:38:11 WARN MemoryStore: Not enough space to cache rdd_389_14 in memory! (computed 5.6 MiB so far)\n",
      "23/04/11 23:38:11 WARN MemoryStore: Not enough space to cache rdd_389_11 in memory! (computed 44.2 MiB so far)\n"
     ]
    },
    {
     "name": "stderr",
     "output_type": "stream",
     "text": [
      "                                                                                \r"
     ]
    },
    {
     "name": "stdout",
     "output_type": "stream",
     "text": [
      "23/04/11 23:38:12 WARN MemoryStore: Not enough space to cache rdd_389_5 in memory! (computed 5.6 MiB so far)\n",
      "23/04/11 23:38:12 WARN MemoryStore: Not enough space to cache rdd_389_0 in memory! (computed 5.6 MiB so far)\n",
      "23/04/11 23:38:12 WARN MemoryStore: Not enough space to cache rdd_389_7 in memory! (computed 13.1 MiB so far)\n",
      "23/04/11 23:38:12 WARN MemoryStore: Not enough space to cache rdd_389_9 in memory! (computed 1028.2 KiB so far)\n",
      "23/04/11 23:38:12 WARN MemoryStore: Not enough space to cache rdd_389_6 in memory! (computed 13.1 MiB so far)\n",
      "23/04/11 23:38:12 WARN MemoryStore: Not enough space to cache rdd_389_1 in memory! (computed 13.1 MiB so far)\n",
      "23/04/11 23:38:12 WARN MemoryStore: Not enough space to cache rdd_389_11 in memory! (computed 5.6 MiB so far)\n"
     ]
    },
    {
     "name": "stderr",
     "output_type": "stream",
     "text": [
      "[Stage 240:=============>                                          (4 + 8) / 17]\r"
     ]
    },
    {
     "name": "stdout",
     "output_type": "stream",
     "text": [
      "23/04/11 23:38:13 WARN MemoryStore: Not enough space to cache rdd_389_2 in memory! (computed 44.2 MiB so far)\n"
     ]
    },
    {
     "name": "stderr",
     "output_type": "stream",
     "text": [
      "[Stage 240:==========================================>            (13 + 4) / 17]\r"
     ]
    },
    {
     "name": "stdout",
     "output_type": "stream",
     "text": [
      "23/04/11 23:38:13 WARN MemoryStore: Not enough space to cache rdd_389_12 in memory! (computed 13.1 MiB so far)\n",
      "23/04/11 23:38:13 WARN MemoryStore: Not enough space to cache rdd_389_13 in memory! (computed 13.1 MiB so far)\n"
     ]
    },
    {
     "name": "stderr",
     "output_type": "stream",
     "text": [
      "[Stage 240:=============================================>         (14 + 3) / 17]\r"
     ]
    },
    {
     "name": "stdout",
     "output_type": "stream",
     "text": [
      "23/04/11 23:38:13 WARN MemoryStore: Not enough space to cache rdd_389_14 in memory! (computed 44.2 MiB so far)\n"
     ]
    },
    {
     "name": "stderr",
     "output_type": "stream",
     "text": [
      "                                                                                \r"
     ]
    },
    {
     "name": "stdout",
     "output_type": "stream",
     "text": [
      "23/04/11 23:38:14 WARN MemoryStore: Not enough space to cache rdd_389_7 in memory! (computed 8.4 MiB so far)\n",
      "23/04/11 23:38:14 WARN MemoryStore: Not enough space to cache rdd_389_1 in memory! (computed 8.4 MiB so far)\n",
      "23/04/11 23:38:14 WARN MemoryStore: Not enough space to cache rdd_389_0 in memory! (computed 8.4 MiB so far)\n",
      "23/04/11 23:38:14 WARN MemoryStore: Not enough space to cache rdd_389_6 in memory! (computed 8.4 MiB so far)\n",
      "23/04/11 23:38:14 WARN MemoryStore: Not enough space to cache rdd_389_9 in memory! (computed 1028.2 KiB so far)\n",
      "23/04/11 23:38:14 WARN MemoryStore: Not enough space to cache rdd_389_5 in memory! (computed 19.6 MiB so far)\n",
      "23/04/11 23:38:14 WARN MemoryStore: Not enough space to cache rdd_389_11 in memory! (computed 5.6 MiB so far)\n",
      "23/04/11 23:38:14 WARN MemoryStore: Not enough space to cache rdd_389_2 in memory! (computed 44.2 MiB so far)\n"
     ]
    },
    {
     "name": "stderr",
     "output_type": "stream",
     "text": [
      "[Stage 242:===================================>                   (11 + 6) / 17]\r"
     ]
    },
    {
     "name": "stdout",
     "output_type": "stream",
     "text": [
      "23/04/11 23:38:14 WARN MemoryStore: Not enough space to cache rdd_389_12 in memory! (computed 13.1 MiB so far)\n",
      "23/04/11 23:38:14 WARN MemoryStore: Not enough space to cache rdd_389_14 in memory! (computed 13.1 MiB so far)\n"
     ]
    },
    {
     "name": "stderr",
     "output_type": "stream",
     "text": [
      "[Stage 242:=============================================>         (14 + 3) / 17]\r"
     ]
    },
    {
     "name": "stdout",
     "output_type": "stream",
     "text": [
      "23/04/11 23:38:15 WARN MemoryStore: Not enough space to cache rdd_389_13 in memory! (computed 44.2 MiB so far)\n"
     ]
    },
    {
     "name": "stderr",
     "output_type": "stream",
     "text": [
      "                                                                                \r"
     ]
    },
    {
     "name": "stdout",
     "output_type": "stream",
     "text": [
      "23/04/11 23:38:15 WARN MemoryStore: Not enough space to cache rdd_389_7 in memory! (computed 5.6 MiB so far)\n",
      "23/04/11 23:38:15 WARN MemoryStore: Not enough space to cache rdd_389_6 in memory! (computed 5.6 MiB so far)\n",
      "23/04/11 23:38:15 WARN MemoryStore: Not enough space to cache rdd_389_0 in memory! (computed 8.4 MiB so far)\n",
      "23/04/11 23:38:15 WARN MemoryStore: Not enough space to cache rdd_389_1 in memory! (computed 13.1 MiB so far)\n",
      "23/04/11 23:38:15 WARN MemoryStore: Not enough space to cache rdd_389_9 in memory! (computed 8.4 MiB so far)\n",
      "23/04/11 23:38:15 WARN MemoryStore: Not enough space to cache rdd_389_5 in memory! (computed 19.6 MiB so far)\n",
      "23/04/11 23:38:15 WARN MemoryStore: Not enough space to cache rdd_389_11 in memory! (computed 5.6 MiB so far)\n",
      "23/04/11 23:38:16 WARN MemoryStore: Not enough space to cache rdd_389_2 in memory! (computed 44.2 MiB so far)\n"
     ]
    },
    {
     "name": "stderr",
     "output_type": "stream",
     "text": [
      "[Stage 244:==========================>                             (8 + 8) / 17]\r"
     ]
    },
    {
     "name": "stdout",
     "output_type": "stream",
     "text": [
      "23/04/11 23:38:16 WARN MemoryStore: Not enough space to cache rdd_389_12 in memory! (computed 13.1 MiB so far)\n",
      "23/04/11 23:38:16 WARN MemoryStore: Not enough space to cache rdd_389_14 in memory! (computed 19.6 MiB so far)\n"
     ]
    },
    {
     "name": "stderr",
     "output_type": "stream",
     "text": [
      "[Stage 244:==========================================>            (13 + 4) / 17]\r"
     ]
    },
    {
     "name": "stdout",
     "output_type": "stream",
     "text": [
      "23/04/11 23:38:16 WARN MemoryStore: Not enough space to cache rdd_389_13 in memory! (computed 44.2 MiB so far)\n"
     ]
    },
    {
     "name": "stderr",
     "output_type": "stream",
     "text": [
      "                                                                                \r"
     ]
    },
    {
     "name": "stdout",
     "output_type": "stream",
     "text": [
      "23/04/11 23:38:17 WARN MemoryStore: Not enough space to cache rdd_389_5 in memory! (computed 8.4 MiB so far)\n",
      "23/04/11 23:38:17 WARN MemoryStore: Not enough space to cache rdd_389_6 in memory! (computed 8.4 MiB so far)\n",
      "23/04/11 23:38:17 WARN MemoryStore: Not enough space to cache rdd_389_9 in memory! (computed 1028.2 KiB so far)\n",
      "23/04/11 23:38:17 WARN MemoryStore: Not enough space to cache rdd_389_2 in memory! (computed 8.4 MiB so far)\n",
      "23/04/11 23:38:17 WARN MemoryStore: Not enough space to cache rdd_389_0 in memory! (computed 13.1 MiB so far)\n",
      "23/04/11 23:38:17 WARN MemoryStore: Not enough space to cache rdd_389_1 in memory! (computed 13.1 MiB so far)\n",
      "23/04/11 23:38:17 WARN MemoryStore: Not enough space to cache rdd_389_11 in memory! (computed 5.6 MiB so far)\n",
      "23/04/11 23:38:17 WARN MemoryStore: Not enough space to cache rdd_389_7 in memory! (computed 44.2 MiB so far)\n"
     ]
    },
    {
     "name": "stderr",
     "output_type": "stream",
     "text": [
      "[Stage 246:=============>                                          (4 + 8) / 17]\r"
     ]
    },
    {
     "name": "stdout",
     "output_type": "stream",
     "text": [
      "23/04/11 23:38:17 WARN MemoryStore: Not enough space to cache rdd_389_12 in memory! (computed 13.1 MiB so far)\n",
      "23/04/11 23:38:17 WARN MemoryStore: Not enough space to cache rdd_389_13 in memory! (computed 13.1 MiB so far)\n"
     ]
    },
    {
     "name": "stderr",
     "output_type": "stream",
     "text": [
      "[Stage 246:=============================================>         (14 + 3) / 17]\r"
     ]
    },
    {
     "name": "stdout",
     "output_type": "stream",
     "text": [
      "23/04/11 23:38:18 WARN MemoryStore: Not enough space to cache rdd_389_14 in memory! (computed 44.2 MiB so far)\n"
     ]
    },
    {
     "name": "stderr",
     "output_type": "stream",
     "text": [
      "                                                                                \r"
     ]
    },
    {
     "name": "stdout",
     "output_type": "stream",
     "text": [
      "23/04/11 23:38:18 WARN MemoryStore: Not enough space to cache rdd_389_0 in memory! (computed 8.4 MiB so far)\n",
      "23/04/11 23:38:18 WARN MemoryStore: Not enough space to cache rdd_389_2 in memory! (computed 8.4 MiB so far)\n",
      "23/04/11 23:38:18 WARN MemoryStore: Not enough space to cache rdd_389_7 in memory! (computed 8.4 MiB so far)\n",
      "23/04/11 23:38:18 WARN MemoryStore: Not enough space to cache rdd_389_1 in memory! (computed 8.4 MiB so far)\n",
      "23/04/11 23:38:18 WARN MemoryStore: Not enough space to cache rdd_389_9 in memory! (computed 1028.2 KiB so far)\n",
      "23/04/11 23:38:18 WARN MemoryStore: Not enough space to cache rdd_389_5 in memory! (computed 19.6 MiB so far)\n",
      "23/04/11 23:38:19 WARN MemoryStore: Not enough space to cache rdd_389_11 in memory! (computed 5.6 MiB so far)\n"
     ]
    },
    {
     "name": "stderr",
     "output_type": "stream",
     "text": [
      "[Stage 248:=============>                                          (4 + 8) / 17]\r"
     ]
    },
    {
     "name": "stdout",
     "output_type": "stream",
     "text": [
      "23/04/11 23:38:19 WARN MemoryStore: Not enough space to cache rdd_389_6 in memory! (computed 44.2 MiB so far)\n"
     ]
    },
    {
     "name": "stderr",
     "output_type": "stream",
     "text": [
      "[Stage 248:=======================>                                (7 + 8) / 17]\r"
     ]
    },
    {
     "name": "stdout",
     "output_type": "stream",
     "text": [
      "23/04/11 23:38:19 WARN MemoryStore: Not enough space to cache rdd_389_13 in memory! (computed 13.1 MiB so far)\n",
      "23/04/11 23:38:19 WARN MemoryStore: Not enough space to cache rdd_389_14 in memory! (computed 13.1 MiB so far)\n"
     ]
    },
    {
     "name": "stderr",
     "output_type": "stream",
     "text": [
      "[Stage 248:=============================================>         (14 + 3) / 17]\r"
     ]
    },
    {
     "name": "stdout",
     "output_type": "stream",
     "text": [
      "23/04/11 23:38:20 WARN MemoryStore: Not enough space to cache rdd_389_12 in memory! (computed 44.2 MiB so far)\n"
     ]
    },
    {
     "name": "stderr",
     "output_type": "stream",
     "text": [
      "                                                                                \r"
     ]
    },
    {
     "name": "stdout",
     "output_type": "stream",
     "text": [
      "23/04/11 23:38:21 WARN MemoryStore: Not enough space to cache rdd_389_1 in memory! (computed 8.4 MiB so far)\n",
      "23/04/11 23:38:21 WARN MemoryStore: Not enough space to cache rdd_389_7 in memory! (computed 8.4 MiB so far)\n",
      "23/04/11 23:38:21 WARN MemoryStore: Not enough space to cache rdd_389_9 in memory! (computed 1028.2 KiB so far)\n",
      "23/04/11 23:38:21 WARN MemoryStore: Not enough space to cache rdd_389_5 in memory! (computed 13.1 MiB so far)\n",
      "23/04/11 23:38:21 WARN MemoryStore: Not enough space to cache rdd_389_2 in memory! (computed 13.1 MiB so far)\n",
      "23/04/11 23:38:21 WARN MemoryStore: Not enough space to cache rdd_389_6 in memory! (computed 19.6 MiB so far)\n",
      "23/04/11 23:38:21 WARN MemoryStore: Not enough space to cache rdd_389_0 in memory! (computed 29.5 MiB so far)\n"
     ]
    },
    {
     "name": "stderr",
     "output_type": "stream",
     "text": [
      "[Stage 250:=============>                                          (4 + 8) / 17]\r"
     ]
    },
    {
     "name": "stdout",
     "output_type": "stream",
     "text": [
      "23/04/11 23:38:21 WARN MemoryStore: Not enough space to cache rdd_389_12 in memory! (computed 3.7 MiB so far)\n",
      "23/04/11 23:38:21 WARN MemoryStore: Not enough space to cache rdd_389_11 in memory! (computed 44.2 MiB so far)\n"
     ]
    },
    {
     "name": "stderr",
     "output_type": "stream",
     "text": [
      "[Stage 250:==========================================>            (13 + 4) / 17]\r"
     ]
    },
    {
     "name": "stdout",
     "output_type": "stream",
     "text": [
      "23/04/11 23:38:22 WARN MemoryStore: Not enough space to cache rdd_389_13 in memory! (computed 19.6 MiB so far)\n"
     ]
    },
    {
     "name": "stderr",
     "output_type": "stream",
     "text": [
      "[Stage 250:=============================================>         (14 + 3) / 17]\r"
     ]
    },
    {
     "name": "stdout",
     "output_type": "stream",
     "text": [
      "23/04/11 23:38:22 WARN MemoryStore: Not enough space to cache rdd_389_14 in memory! (computed 44.2 MiB so far)\n"
     ]
    },
    {
     "name": "stderr",
     "output_type": "stream",
     "text": [
      "[Stage 255:>                                                       (0 + 8) / 17]\r"
     ]
    },
    {
     "name": "stdout",
     "output_type": "stream",
     "text": [
      "23/04/11 23:38:35 WARN MemoryStore: Not enough space to cache rdd_448_7 in memory! (computed 44.2 MiB so far)\n",
      "23/04/11 23:38:35 WARN BlockManager: Persisting block rdd_448_7 to disk instead.\n",
      "23/04/11 23:38:35 WARN MemoryStore: Not enough space to cache rdd_448_4 in memory! (computed 44.2 MiB so far)\n",
      "23/04/11 23:38:35 WARN BlockManager: Persisting block rdd_448_4 to disk instead.\n",
      "23/04/11 23:38:35 WARN MemoryStore: Not enough space to cache rdd_448_5 in memory! (computed 44.2 MiB so far)\n",
      "23/04/11 23:38:35 WARN BlockManager: Persisting block rdd_448_5 to disk instead.\n",
      "23/04/11 23:38:35 WARN MemoryStore: Not enough space to cache rdd_448_3 in memory! (computed 44.2 MiB so far)\n",
      "23/04/11 23:38:35 WARN BlockManager: Persisting block rdd_448_3 to disk instead.\n",
      "23/04/11 23:38:35 WARN MemoryStore: Not enough space to cache rdd_448_2 in memory! (computed 44.2 MiB so far)\n",
      "23/04/11 23:38:35 WARN BlockManager: Persisting block rdd_448_2 to disk instead.\n",
      "23/04/11 23:38:35 WARN MemoryStore: Not enough space to cache rdd_448_6 in memory! (computed 44.2 MiB so far)\n",
      "23/04/11 23:38:35 WARN BlockManager: Persisting block rdd_448_6 to disk instead.\n",
      "23/04/11 23:38:35 WARN MemoryStore: Not enough space to cache rdd_448_1 in memory! (computed 44.2 MiB so far)\n",
      "23/04/11 23:38:35 WARN BlockManager: Persisting block rdd_448_1 to disk instead.\n",
      "23/04/11 23:38:35 WARN MemoryStore: Not enough space to cache rdd_448_0 in memory! (computed 44.2 MiB so far)\n",
      "23/04/11 23:38:35 WARN BlockManager: Persisting block rdd_448_0 to disk instead.\n"
     ]
    },
    {
     "name": "stderr",
     "output_type": "stream",
     "text": [
      "[Stage 255:======>                                                 (2 + 8) / 17]\r"
     ]
    },
    {
     "name": "stdout",
     "output_type": "stream",
     "text": [
      "23/04/11 23:38:39 WARN MemoryStore: Not enough space to cache rdd_448_7 in memory! (computed 66.3 MiB so far)\n"
     ]
    },
    {
     "name": "stderr",
     "output_type": "stream",
     "text": [
      "[Stage 255:=============>                                          (4 + 8) / 17]\r"
     ]
    },
    {
     "name": "stdout",
     "output_type": "stream",
     "text": [
      "23/04/11 23:38:39 WARN MemoryStore: Not enough space to cache rdd_448_5 in memory! (computed 19.6 MiB so far)\n",
      "23/04/11 23:38:40 WARN MemoryStore: Not enough space to cache rdd_448_0 in memory! (computed 66.3 MiB so far)\n"
     ]
    },
    {
     "name": "stderr",
     "output_type": "stream",
     "text": [
      "[Stage 255:===================>                                    (6 + 8) / 17]\r"
     ]
    },
    {
     "name": "stdout",
     "output_type": "stream",
     "text": [
      "23/04/11 23:38:40 WARN MemoryStore: Not enough space to cache rdd_448_2 in memory! (computed 66.3 MiB so far)\n"
     ]
    },
    {
     "name": "stderr",
     "output_type": "stream",
     "text": [
      "[Stage 255:==========================>                             (8 + 8) / 17]\r"
     ]
    },
    {
     "name": "stdout",
     "output_type": "stream",
     "text": [
      "23/04/11 23:38:42 WARN MemoryStore: Not enough space to cache rdd_448_12 in memory! (computed 13.1 MiB so far)\n",
      "23/04/11 23:38:42 WARN BlockManager: Persisting block rdd_448_12 to disk instead.\n",
      "23/04/11 23:38:42 WARN MemoryStore: Not enough space to cache rdd_448_15 in memory! (computed 8.4 MiB so far)\n",
      "23/04/11 23:38:42 WARN BlockManager: Persisting block rdd_448_15 to disk instead.\n",
      "23/04/11 23:38:42 WARN MemoryStore: Not enough space to cache rdd_448_13 in memory! (computed 13.1 MiB so far)\n",
      "23/04/11 23:38:42 WARN BlockManager: Persisting block rdd_448_13 to disk instead.\n",
      "23/04/11 23:38:43 WARN MemoryStore: Not enough space to cache rdd_448_9 in memory! (computed 19.6 MiB so far)\n",
      "23/04/11 23:38:43 WARN BlockManager: Persisting block rdd_448_9 to disk instead.\n",
      "23/04/11 23:38:43 WARN MemoryStore: Not enough space to cache rdd_448_10 in memory! (computed 19.6 MiB so far)\n",
      "23/04/11 23:38:43 WARN BlockManager: Persisting block rdd_448_10 to disk instead.\n",
      "23/04/11 23:38:44 WARN MemoryStore: Not enough space to cache rdd_448_8 in memory! (computed 44.2 MiB so far)\n",
      "23/04/11 23:38:44 WARN BlockManager: Persisting block rdd_448_8 to disk instead.\n",
      "23/04/11 23:38:45 WARN MemoryStore: Not enough space to cache rdd_448_14 in memory! (computed 29.5 MiB so far)\n",
      "23/04/11 23:38:45 WARN BlockManager: Persisting block rdd_448_14 to disk instead.\n"
     ]
    },
    {
     "name": "stderr",
     "output_type": "stream",
     "text": [
      "[Stage 255:=============================>                          (9 + 8) / 17]\r"
     ]
    },
    {
     "name": "stdout",
     "output_type": "stream",
     "text": [
      "23/04/11 23:38:47 WARN MemoryStore: Not enough space to cache rdd_448_8 in memory! (computed 44.2 MiB so far)\n"
     ]
    },
    {
     "name": "stderr",
     "output_type": "stream",
     "text": [
      "[Stage 255:===================================>                   (11 + 6) / 17]\r"
     ]
    },
    {
     "name": "stdout",
     "output_type": "stream",
     "text": [
      "23/04/11 23:38:49 WARN MemoryStore: Not enough space to cache rdd_448_10 in memory! (computed 29.5 MiB so far)\n",
      "23/04/11 23:38:49 WARN MemoryStore: Not enough space to cache rdd_448_9 in memory! (computed 29.5 MiB so far)\n",
      "23/04/11 23:38:49 WARN MemoryStore: Not enough space to cache rdd_448_14 in memory! (computed 3.7 MiB so far)\n",
      "23/04/11 23:38:49 WARN MemoryStore: Not enough space to cache rdd_448_12 in memory! (computed 19.6 MiB so far)\n",
      "23/04/11 23:38:49 WARN MemoryStore: Not enough space to cache rdd_448_15 in memory! (computed 8.4 MiB so far)\n",
      "23/04/11 23:38:49 WARN MemoryStore: Not enough space to cache rdd_448_13 in memory! (computed 44.2 MiB so far)\n"
     ]
    },
    {
     "name": "stderr",
     "output_type": "stream",
     "text": [
      "                                                                                \r"
     ]
    },
    {
     "name": "stdout",
     "output_type": "stream",
     "text": [
      "23/04/11 23:38:50 WARN MemoryStore: Not enough space to cache rdd_448_9 in memory! (computed 3.7 MiB so far)\n",
      "23/04/11 23:38:50 WARN MemoryStore: Not enough space to cache rdd_448_10 in memory! (computed 3.7 MiB so far)\n",
      "23/04/11 23:38:50 WARN MemoryStore: Not enough space to cache rdd_448_12 in memory! (computed 1673.8 KiB so far)\n",
      "23/04/11 23:38:50 WARN MemoryStore: Not enough space to cache rdd_448_5 in memory! (computed 8.4 MiB so far)\n",
      "23/04/11 23:38:50 WARN MemoryStore: Not enough space to cache rdd_448_7 in memory! (computed 8.4 MiB so far)\n",
      "23/04/11 23:38:50 WARN MemoryStore: Not enough space to cache rdd_448_8 in memory! (computed 13.1 MiB so far)\n",
      "23/04/11 23:38:50 WARN MemoryStore: Not enough space to cache rdd_448_0 in memory! (computed 19.6 MiB so far)\n"
     ]
    },
    {
     "name": "stderr",
     "output_type": "stream",
     "text": [
      "[Stage 256:================>                                       (5 + 8) / 17]\r"
     ]
    },
    {
     "name": "stdout",
     "output_type": "stream",
     "text": [
      "23/04/11 23:38:50 WARN MemoryStore: Not enough space to cache rdd_448_2 in memory! (computed 44.2 MiB so far)\n",
      "23/04/11 23:38:51 WARN MemoryStore: Not enough space to cache rdd_448_15 in memory! (computed 13.1 MiB so far)\n",
      "23/04/11 23:38:51 WARN MemoryStore: Not enough space to cache rdd_448_14 in memory! (computed 19.6 MiB so far)\n"
     ]
    },
    {
     "name": "stderr",
     "output_type": "stream",
     "text": [
      "[Stage 256:=============================================>         (14 + 3) / 17]\r"
     ]
    },
    {
     "name": "stdout",
     "output_type": "stream",
     "text": [
      "23/04/11 23:38:51 WARN MemoryStore: Not enough space to cache rdd_448_13 in memory! (computed 44.2 MiB so far)\n"
     ]
    },
    {
     "name": "stderr",
     "output_type": "stream",
     "text": [
      "[Stage 257:=============>                                          (4 + 8) / 17]\r"
     ]
    },
    {
     "name": "stdout",
     "output_type": "stream",
     "text": [
      "23/04/11 23:38:52 WARN MemoryStore: Not enough space to cache rdd_448_0 in memory! (computed 29.5 MiB so far)\n",
      "23/04/11 23:38:52 WARN MemoryStore: Not enough space to cache rdd_448_10 in memory! (computed 2.5 MiB so far)\n",
      "23/04/11 23:38:52 WARN MemoryStore: Not enough space to cache rdd_448_9 in memory! (computed 1028.2 KiB so far)\n",
      "23/04/11 23:38:52 WARN MemoryStore: Not enough space to cache rdd_448_2 in memory! (computed 19.6 MiB so far)\n",
      "23/04/11 23:38:52 WARN MemoryStore: Not enough space to cache rdd_448_11 in memory! (computed 1673.8 KiB so far)\n",
      "23/04/11 23:38:52 WARN MemoryStore: Failed to reserve initial memory threshold of 1024.0 KiB for computing block rdd_448_2 in memory.\n",
      "23/04/11 23:38:52 WARN MemoryStore: Failed to reserve initial memory threshold of 1024.0 KiB for computing block rdd_448_9 in memory.\n",
      "23/04/11 23:38:52 WARN MemoryStore: Not enough space to cache rdd_448_9 in memory! (computed 384.0 B so far)\n",
      "23/04/11 23:38:52 WARN MemoryStore: Failed to reserve initial memory threshold of 1024.0 KiB for computing block rdd_448_11 in memory.\n",
      "23/04/11 23:38:52 WARN MemoryStore: Not enough space to cache rdd_448_8 in memory! (computed 1673.8 KiB so far)\n",
      "23/04/11 23:38:52 WARN MemoryStore: Failed to reserve initial memory threshold of 1024.0 KiB for computing block rdd_448_10 in memory.\n",
      "23/04/11 23:38:52 WARN MemoryStore: Not enough space to cache rdd_448_10 in memory! (computed 384.0 B so far)\n",
      "23/04/11 23:38:52 WARN MemoryStore: Failed to reserve initial memory threshold of 1024.0 KiB for computing block rdd_448_0 in memory.\n",
      "23/04/11 23:38:52 WARN MemoryStore: Not enough space to cache rdd_448_0 in memory! (computed 384.0 B so far)\n",
      "23/04/11 23:38:52 WARN MemoryStore: Not enough space to cache rdd_448_2 in memory! (computed 384.0 B so far)\n",
      "23/04/11 23:38:52 WARN MemoryStore: Not enough space to cache rdd_448_11 in memory! (computed 384.0 B so far)\n",
      "23/04/11 23:38:52 WARN MemoryStore: Not enough space to cache rdd_448_5 in memory! (computed 29.5 MiB so far)\n",
      "23/04/11 23:38:52 WARN MemoryStore: Not enough space to cache rdd_448_7 in memory! (computed 29.5 MiB so far)\n",
      "23/04/11 23:38:52 WARN MemoryStore: Not enough space to cache rdd_448_5 in memory! (computed 2.5 MiB so far)\n",
      "23/04/11 23:38:52 WARN MemoryStore: Not enough space to cache rdd_448_7 in memory! (computed 1673.8 KiB so far)\n"
     ]
    },
    {
     "name": "stderr",
     "output_type": "stream",
     "text": [
      "[Stage 257:======================================>                (12 + 5) / 17]\r"
     ]
    },
    {
     "name": "stdout",
     "output_type": "stream",
     "text": [
      "23/04/11 23:38:56 WARN MemoryStore: Not enough space to cache rdd_448_15 in memory! (computed 19.6 MiB so far)\n",
      "23/04/11 23:38:56 WARN MemoryStore: Not enough space to cache rdd_448_12 in memory! (computed 19.6 MiB so far)\n",
      "23/04/11 23:38:56 WARN MemoryStore: Not enough space to cache rdd_448_13 in memory! (computed 29.5 MiB so far)\n",
      "23/04/11 23:38:56 WARN MemoryStore: Failed to reserve initial memory threshold of 1024.0 KiB for computing block rdd_448_15 in memory.\n",
      "23/04/11 23:38:56 WARN MemoryStore: Failed to reserve initial memory threshold of 1024.0 KiB for computing block rdd_448_12 in memory.\n",
      "23/04/11 23:38:56 WARN MemoryStore: Not enough space to cache rdd_448_15 in memory! (computed 384.0 B so far)\n",
      "23/04/11 23:38:56 WARN MemoryStore: Not enough space to cache rdd_448_12 in memory! (computed 384.0 B so far)\n"
     ]
    },
    {
     "name": "stderr",
     "output_type": "stream",
     "text": [
      "                                                                                \r"
     ]
    },
    {
     "name": "stdout",
     "output_type": "stream",
     "text": [
      "23/04/11 23:38:58 WARN MemoryStore: Not enough space to cache rdd_448_2 in memory! (computed 13.1 MiB so far)\n",
      "23/04/11 23:38:58 WARN MemoryStore: Not enough space to cache rdd_448_4 in memory! (computed 19.6 MiB so far)\n"
     ]
    },
    {
     "name": "stderr",
     "output_type": "stream",
     "text": [
      "[Stage 258:===>                                                    (1 + 8) / 17]\r"
     ]
    },
    {
     "name": "stdout",
     "output_type": "stream",
     "text": [
      "23/04/11 23:38:59 WARN MemoryStore: Not enough space to cache rdd_448_7 in memory! (computed 19.6 MiB so far)\n",
      "23/04/11 23:38:59 WARN MemoryStore: Not enough space to cache rdd_448_0 in memory! (computed 19.6 MiB so far)\n",
      "23/04/11 23:38:59 WARN MemoryStore: Not enough space to cache rdd_448_1 in memory! (computed 19.6 MiB so far)\n",
      "23/04/11 23:38:59 WARN MemoryStore: Not enough space to cache rdd_448_3 in memory! (computed 19.6 MiB so far)\n"
     ]
    },
    {
     "name": "stderr",
     "output_type": "stream",
     "text": [
      "[Stage 258:==========================>                             (8 + 8) / 17]\r"
     ]
    },
    {
     "name": "stdout",
     "output_type": "stream",
     "text": [
      "23/04/11 23:39:00 WARN MemoryStore: Not enough space to cache rdd_448_13 in memory! (computed 19.6 MiB so far)\n",
      "23/04/11 23:39:00 WARN MemoryStore: Not enough space to cache rdd_448_11 in memory! (computed 19.6 MiB so far)\n",
      "23/04/11 23:39:00 WARN MemoryStore: Not enough space to cache rdd_448_9 in memory! (computed 66.3 MiB so far)\n"
     ]
    },
    {
     "name": "stderr",
     "output_type": "stream",
     "text": [
      "                                                                                \r"
     ]
    },
    {
     "name": "stdout",
     "output_type": "stream",
     "text": [
      "23/04/11 23:39:03 WARN MemoryStore: Not enough space to cache rdd_448_6 in memory! (computed 13.1 MiB so far)\n",
      "23/04/11 23:39:03 WARN MemoryStore: Not enough space to cache rdd_448_4 in memory! (computed 13.1 MiB so far)\n",
      "23/04/11 23:39:03 WARN MemoryStore: Not enough space to cache rdd_448_7 in memory! (computed 13.1 MiB so far)\n",
      "23/04/11 23:39:03 WARN MemoryStore: Not enough space to cache rdd_448_1 in memory! (computed 13.1 MiB so far)\n",
      "23/04/11 23:39:03 WARN MemoryStore: Not enough space to cache rdd_448_2 in memory! (computed 13.1 MiB so far)\n",
      "23/04/11 23:39:03 WARN MemoryStore: Not enough space to cache rdd_448_3 in memory! (computed 13.1 MiB so far)\n",
      "23/04/11 23:39:03 WARN MemoryStore: Not enough space to cache rdd_448_0 in memory! (computed 13.1 MiB so far)\n"
     ]
    },
    {
     "name": "stderr",
     "output_type": "stream",
     "text": [
      "[Stage 259:==========================>                             (8 + 8) / 17]\r"
     ]
    },
    {
     "name": "stdout",
     "output_type": "stream",
     "text": [
      "23/04/11 23:39:06 WARN MemoryStore: Not enough space to cache rdd_448_9 in memory! (computed 29.5 MiB so far)\n"
     ]
    },
    {
     "name": "stderr",
     "output_type": "stream",
     "text": [
      "[Stage 259:================================>                      (10 + 7) / 17]\r"
     ]
    },
    {
     "name": "stdout",
     "output_type": "stream",
     "text": [
      "23/04/11 23:39:06 WARN MemoryStore: Not enough space to cache rdd_456_9 in memory! (computed 4.0 MiB so far)\n",
      "23/04/11 23:39:07 WARN BlockManager: Persisting block rdd_456_9 to disk instead.\n",
      "23/04/11 23:39:07 WARN MemoryStore: Failed to reserve initial memory threshold of 1024.0 KiB for computing block rdd_456_16 in memory.\n",
      "23/04/11 23:39:07 WARN MemoryStore: Not enough space to cache rdd_456_16 in memory! (computed 640.0 B so far)\n",
      "23/04/11 23:39:07 WARN BlockManager: Persisting block rdd_456_16 to disk instead.\n"
     ]
    },
    {
     "name": "stderr",
     "output_type": "stream",
     "text": [
      "[Stage 259:===================================>                   (11 + 6) / 17]\r"
     ]
    },
    {
     "name": "stdout",
     "output_type": "stream",
     "text": [
      "23/04/11 23:39:07 WARN MemoryStore: Not enough space to cache rdd_452_12 in memory! (computed 8.0 MiB so far)\n",
      "23/04/11 23:39:07 WARN MemoryStore: Not enough space to cache rdd_452_13 in memory! (computed 1024.2 KiB so far)\n",
      "23/04/11 23:39:07 WARN MemoryStore: Failed to reserve initial memory threshold of 1024.0 KiB for computing block rdd_456_13 in memory.\n",
      "23/04/11 23:39:07 WARN MemoryStore: Not enough space to cache rdd_456_13 in memory! (computed 640.0 B so far)\n",
      "23/04/11 23:39:07 WARN BlockManager: Persisting block rdd_456_13 to disk instead.\n"
     ]
    },
    {
     "name": "stderr",
     "output_type": "stream",
     "text": [
      "[Stage 260:>                                                       (0 + 8) / 17]\r"
     ]
    },
    {
     "name": "stdout",
     "output_type": "stream",
     "text": [
      "23/04/11 23:39:08 WARN MemoryStore: Not enough space to cache rdd_448_6 in memory! (computed 8.4 MiB so far)\n",
      "23/04/11 23:39:08 WARN MemoryStore: Not enough space to cache rdd_448_4 in memory! (computed 8.4 MiB so far)\n",
      "23/04/11 23:39:08 WARN MemoryStore: Not enough space to cache rdd_448_1 in memory! (computed 19.6 MiB so far)\n",
      "23/04/11 23:39:08 WARN MemoryStore: Not enough space to cache rdd_448_7 in memory! (computed 13.1 MiB so far)\n",
      "23/04/11 23:39:08 WARN MemoryStore: Not enough space to cache rdd_448_0 in memory! (computed 13.1 MiB so far)\n",
      "23/04/11 23:39:08 WARN MemoryStore: Not enough space to cache rdd_448_3 in memory! (computed 13.1 MiB so far)\n",
      "23/04/11 23:39:09 WARN MemoryStore: Not enough space to cache rdd_448_2 in memory! (computed 19.6 MiB so far)\n"
     ]
    },
    {
     "name": "stderr",
     "output_type": "stream",
     "text": [
      "[Stage 260:================================>                      (10 + 7) / 17]\r"
     ]
    },
    {
     "name": "stdout",
     "output_type": "stream",
     "text": [
      "23/04/11 23:39:11 WARN MemoryStore: Not enough space to cache rdd_448_15 in memory! (computed 19.6 MiB so far)\n",
      "23/04/11 23:39:11 WARN MemoryStore: Not enough space to cache rdd_448_9 in memory! (computed 29.5 MiB so far)\n",
      "23/04/11 23:39:11 WARN MemoryStore: Not enough space to cache rdd_448_12 in memory! (computed 19.6 MiB so far)\n",
      "23/04/11 23:39:11 WARN MemoryStore: Not enough space to cache rdd_448_10 in memory! (computed 29.5 MiB so far)\n",
      "23/04/11 23:39:11 WARN MemoryStore: Not enough space to cache rdd_448_14 in memory! (computed 19.6 MiB so far)\n"
     ]
    },
    {
     "name": "stderr",
     "output_type": "stream",
     "text": [
      "                                                                                \r"
     ]
    },
    {
     "name": "stdout",
     "output_type": "stream",
     "text": [
      "23/04/11 23:39:13 WARN MemoryStore: Not enough space to cache rdd_448_1 in memory! (computed 19.6 MiB so far)\n",
      "23/04/11 23:39:13 WARN MemoryStore: Not enough space to cache rdd_448_7 in memory! (computed 19.6 MiB so far)\n",
      "23/04/11 23:39:13 WARN MemoryStore: Not enough space to cache rdd_448_5 in memory! (computed 19.6 MiB so far)\n",
      "23/04/11 23:39:13 WARN MemoryStore: Not enough space to cache rdd_448_0 in memory! (computed 19.6 MiB so far)\n",
      "23/04/11 23:39:13 WARN MemoryStore: Not enough space to cache rdd_448_6 in memory! (computed 19.6 MiB so far)\n",
      "23/04/11 23:39:13 WARN MemoryStore: Not enough space to cache rdd_448_3 in memory! (computed 19.6 MiB so far)\n",
      "23/04/11 23:39:13 WARN MemoryStore: Not enough space to cache rdd_448_4 in memory! (computed 19.6 MiB so far)\n"
     ]
    },
    {
     "name": "stderr",
     "output_type": "stream",
     "text": [
      "[Stage 261:==========================>                             (8 + 8) / 17]\r"
     ]
    },
    {
     "name": "stdout",
     "output_type": "stream",
     "text": [
      "23/04/11 23:39:14 WARN MemoryStore: Not enough space to cache rdd_448_9 in memory! (computed 19.6 MiB so far)\n",
      "23/04/11 23:39:14 WARN MemoryStore: Not enough space to cache rdd_448_14 in memory! (computed 19.6 MiB so far)\n",
      "23/04/11 23:39:14 WARN MemoryStore: Not enough space to cache rdd_448_10 in memory! (computed 19.6 MiB so far)\n",
      "23/04/11 23:39:14 WARN MemoryStore: Not enough space to cache rdd_448_12 in memory! (computed 19.6 MiB so far)\n",
      "23/04/11 23:39:15 WARN MemoryStore: Not enough space to cache rdd_448_15 in memory! (computed 19.6 MiB so far)\n"
     ]
    },
    {
     "name": "stderr",
     "output_type": "stream",
     "text": [
      "                                                                                \r"
     ]
    },
    {
     "name": "stdout",
     "output_type": "stream",
     "text": [
      "23/04/11 23:39:15 WARN MemoryStore: Not enough space to cache rdd_448_7 in memory! (computed 13.1 MiB so far)\n",
      "23/04/11 23:39:15 WARN MemoryStore: Not enough space to cache rdd_448_6 in memory! (computed 13.1 MiB so far)\n",
      "23/04/11 23:39:15 WARN MemoryStore: Not enough space to cache rdd_448_3 in memory! (computed 13.1 MiB so far)\n",
      "23/04/11 23:39:15 WARN MemoryStore: Not enough space to cache rdd_448_1 in memory! (computed 13.1 MiB so far)\n",
      "23/04/11 23:39:15 WARN MemoryStore: Not enough space to cache rdd_448_0 in memory! (computed 13.1 MiB so far)\n",
      "23/04/11 23:39:16 WARN MemoryStore: Not enough space to cache rdd_448_9 in memory! (computed 13.1 MiB so far)\n",
      "23/04/11 23:39:16 WARN MemoryStore: Not enough space to cache rdd_448_4 in memory! (computed 44.2 MiB so far)\n",
      "23/04/11 23:39:16 WARN MemoryStore: Not enough space to cache rdd_448_5 in memory! (computed 44.2 MiB so far)\n"
     ]
    },
    {
     "name": "stderr",
     "output_type": "stream",
     "text": [
      "[Stage 263:================================>                      (10 + 7) / 17]\r"
     ]
    },
    {
     "name": "stdout",
     "output_type": "stream",
     "text": [
      "23/04/11 23:39:17 WARN MemoryStore: Not enough space to cache rdd_448_15 in memory! (computed 19.6 MiB so far)\n",
      "23/04/11 23:39:17 WARN MemoryStore: Not enough space to cache rdd_448_10 in memory! (computed 19.6 MiB so far)\n"
     ]
    },
    {
     "name": "stderr",
     "output_type": "stream",
     "text": [
      "[Stage 263:==========================================>            (13 + 4) / 17]\r"
     ]
    },
    {
     "name": "stdout",
     "output_type": "stream",
     "text": [
      "23/04/11 23:39:17 WARN MemoryStore: Not enough space to cache rdd_448_12 in memory! (computed 44.2 MiB so far)\n",
      "23/04/11 23:39:17 WARN MemoryStore: Not enough space to cache rdd_448_14 in memory! (computed 44.2 MiB so far)\n"
     ]
    },
    {
     "name": "stderr",
     "output_type": "stream",
     "text": [
      "                                                                                \r"
     ]
    },
    {
     "name": "stdout",
     "output_type": "stream",
     "text": [
      "23/04/11 23:39:18 WARN MemoryStore: Not enough space to cache rdd_448_7 in memory! (computed 13.1 MiB so far)\n",
      "23/04/11 23:39:18 WARN MemoryStore: Not enough space to cache rdd_448_1 in memory! (computed 13.1 MiB so far)\n",
      "23/04/11 23:39:18 WARN MemoryStore: Not enough space to cache rdd_448_5 in memory! (computed 13.1 MiB so far)\n",
      "23/04/11 23:39:18 WARN MemoryStore: Not enough space to cache rdd_448_6 in memory! (computed 13.1 MiB so far)\n",
      "23/04/11 23:39:18 WARN MemoryStore: Not enough space to cache rdd_448_9 in memory! (computed 13.1 MiB so far)\n",
      "23/04/11 23:39:18 WARN MemoryStore: Not enough space to cache rdd_448_0 in memory! (computed 29.5 MiB so far)\n",
      "23/04/11 23:39:18 WARN MemoryStore: Not enough space to cache rdd_448_4 in memory! (computed 29.5 MiB so far)\n"
     ]
    },
    {
     "name": "stderr",
     "output_type": "stream",
     "text": [
      "[Stage 265:==========================>                             (8 + 8) / 17]\r"
     ]
    },
    {
     "name": "stdout",
     "output_type": "stream",
     "text": [
      "23/04/11 23:39:19 WARN MemoryStore: Not enough space to cache rdd_448_14 in memory! (computed 8.4 MiB so far)\n",
      "23/04/11 23:39:19 WARN MemoryStore: Not enough space to cache rdd_448_10 in memory! (computed 13.1 MiB so far)\n",
      "23/04/11 23:39:19 WARN MemoryStore: Not enough space to cache rdd_448_15 in memory! (computed 8.4 MiB so far)\n"
     ]
    },
    {
     "name": "stderr",
     "output_type": "stream",
     "text": [
      "[Stage 265:==========================================>            (13 + 4) / 17]\r"
     ]
    },
    {
     "name": "stdout",
     "output_type": "stream",
     "text": [
      "23/04/11 23:39:19 WARN MemoryStore: Not enough space to cache rdd_448_12 in memory! (computed 44.2 MiB so far)\n"
     ]
    },
    {
     "name": "stderr",
     "output_type": "stream",
     "text": [
      "                                                                                \r"
     ]
    },
    {
     "name": "stdout",
     "output_type": "stream",
     "text": [
      "23/04/11 23:39:20 WARN MemoryStore: Not enough space to cache rdd_448_1 in memory! (computed 5.6 MiB so far)\n",
      "23/04/11 23:39:20 WARN MemoryStore: Not enough space to cache rdd_448_5 in memory! (computed 5.6 MiB so far)\n",
      "23/04/11 23:39:20 WARN MemoryStore: Not enough space to cache rdd_448_6 in memory! (computed 5.6 MiB so far)\n",
      "23/04/11 23:39:20 WARN MemoryStore: Not enough space to cache rdd_448_0 in memory! (computed 13.1 MiB so far)\n",
      "23/04/11 23:39:20 WARN MemoryStore: Not enough space to cache rdd_448_7 in memory! (computed 13.1 MiB so far)\n",
      "23/04/11 23:39:20 WARN MemoryStore: Not enough space to cache rdd_448_10 in memory! (computed 1673.8 KiB so far)\n",
      "23/04/11 23:39:20 WARN MemoryStore: Not enough space to cache rdd_448_9 in memory! (computed 13.1 MiB so far)\n"
     ]
    },
    {
     "name": "stderr",
     "output_type": "stream",
     "text": [
      "[Stage 267:=========>                                              (3 + 8) / 17]\r"
     ]
    },
    {
     "name": "stdout",
     "output_type": "stream",
     "text": [
      "23/04/11 23:39:20 WARN MemoryStore: Not enough space to cache rdd_448_4 in memory! (computed 44.2 MiB so far)\n"
     ]
    },
    {
     "name": "stderr",
     "output_type": "stream",
     "text": [
      "[Stage 267:=============================>                          (9 + 8) / 17]\r"
     ]
    },
    {
     "name": "stdout",
     "output_type": "stream",
     "text": [
      "23/04/11 23:39:21 WARN MemoryStore: Not enough space to cache rdd_448_12 in memory! (computed 13.1 MiB so far)\n",
      "23/04/11 23:39:21 WARN MemoryStore: Not enough space to cache rdd_448_14 in memory! (computed 19.6 MiB so far)\n"
     ]
    },
    {
     "name": "stderr",
     "output_type": "stream",
     "text": [
      "[Stage 267:=============================================>         (14 + 3) / 17]\r"
     ]
    },
    {
     "name": "stdout",
     "output_type": "stream",
     "text": [
      "23/04/11 23:39:21 WARN MemoryStore: Not enough space to cache rdd_448_15 in memory! (computed 44.2 MiB so far)\n"
     ]
    },
    {
     "name": "stderr",
     "output_type": "stream",
     "text": [
      "                                                                                \r"
     ]
    },
    {
     "name": "stdout",
     "output_type": "stream",
     "text": [
      "23/04/11 23:39:22 WARN MemoryStore: Not enough space to cache rdd_448_0 in memory! (computed 5.6 MiB so far)\n",
      "23/04/11 23:39:22 WARN MemoryStore: Not enough space to cache rdd_448_6 in memory! (computed 5.6 MiB so far)\n",
      "23/04/11 23:39:22 WARN MemoryStore: Not enough space to cache rdd_448_7 in memory! (computed 5.6 MiB so far)\n",
      "23/04/11 23:39:22 WARN MemoryStore: Not enough space to cache rdd_448_5 in memory! (computed 13.1 MiB so far)\n",
      "23/04/11 23:39:22 WARN MemoryStore: Not enough space to cache rdd_448_1 in memory! (computed 13.1 MiB so far)\n",
      "23/04/11 23:39:22 WARN MemoryStore: Not enough space to cache rdd_448_4 in memory! (computed 19.6 MiB so far)\n",
      "23/04/11 23:39:22 WARN MemoryStore: Not enough space to cache rdd_448_10 in memory! (computed 13.1 MiB so far)\n"
     ]
    },
    {
     "name": "stderr",
     "output_type": "stream",
     "text": [
      "[Stage 269:=========>                                              (3 + 8) / 17]\r"
     ]
    },
    {
     "name": "stdout",
     "output_type": "stream",
     "text": [
      "23/04/11 23:39:22 WARN MemoryStore: Not enough space to cache rdd_448_9 in memory! (computed 44.2 MiB so far)\n"
     ]
    },
    {
     "name": "stderr",
     "output_type": "stream",
     "text": [
      "[Stage 269:==========================================>            (13 + 4) / 17]\r"
     ]
    },
    {
     "name": "stdout",
     "output_type": "stream",
     "text": [
      "23/04/11 23:39:23 WARN MemoryStore: Not enough space to cache rdd_448_12 in memory! (computed 13.1 MiB so far)\n",
      "23/04/11 23:39:23 WARN MemoryStore: Not enough space to cache rdd_448_14 in memory! (computed 13.1 MiB so far)\n",
      "23/04/11 23:39:23 WARN MemoryStore: Not enough space to cache rdd_448_15 in memory! (computed 13.1 MiB so far)\n"
     ]
    },
    {
     "name": "stderr",
     "output_type": "stream",
     "text": [
      "                                                                                \r"
     ]
    },
    {
     "name": "stdout",
     "output_type": "stream",
     "text": [
      "23/04/11 23:39:24 WARN MemoryStore: Not enough space to cache rdd_448_0 in memory! (computed 5.6 MiB so far)\n",
      "23/04/11 23:39:24 WARN MemoryStore: Not enough space to cache rdd_448_6 in memory! (computed 5.6 MiB so far)\n",
      "23/04/11 23:39:24 WARN MemoryStore: Not enough space to cache rdd_448_1 in memory! (computed 8.4 MiB so far)\n",
      "23/04/11 23:39:24 WARN MemoryStore: Not enough space to cache rdd_448_7 in memory! (computed 13.1 MiB so far)\n",
      "23/04/11 23:39:24 WARN MemoryStore: Not enough space to cache rdd_448_5 in memory! (computed 13.1 MiB so far)\n",
      "23/04/11 23:39:24 WARN MemoryStore: Not enough space to cache rdd_448_4 in memory! (computed 19.6 MiB so far)\n",
      "23/04/11 23:39:24 WARN MemoryStore: Not enough space to cache rdd_448_9 in memory! (computed 13.1 MiB so far)\n"
     ]
    },
    {
     "name": "stderr",
     "output_type": "stream",
     "text": [
      "[Stage 271:=========>                                              (3 + 8) / 17]\r"
     ]
    },
    {
     "name": "stdout",
     "output_type": "stream",
     "text": [
      "23/04/11 23:39:25 WARN MemoryStore: Failed to reserve initial memory threshold of 1024.0 KiB for computing block rdd_448_12 in memory.\n",
      "23/04/11 23:39:25 WARN MemoryStore: Not enough space to cache rdd_448_10 in memory! (computed 44.2 MiB so far)\n",
      "23/04/11 23:39:25 WARN MemoryStore: Not enough space to cache rdd_448_12 in memory! (computed 384.0 B so far)\n",
      "23/04/11 23:39:25 WARN MemoryStore: Failed to reserve initial memory threshold of 1024.0 KiB for computing block rdd_448_14 in memory.\n",
      "23/04/11 23:39:25 WARN MemoryStore: Not enough space to cache rdd_448_14 in memory! (computed 384.0 B so far)\n",
      "23/04/11 23:39:25 WARN MemoryStore: Failed to reserve initial memory threshold of 1024.0 KiB for computing block rdd_448_15 in memory.\n",
      "23/04/11 23:39:25 WARN MemoryStore: Not enough space to cache rdd_448_15 in memory! (computed 384.0 B so far)\n"
     ]
    },
    {
     "name": "stderr",
     "output_type": "stream",
     "text": [
      "                                                                                \r"
     ]
    },
    {
     "name": "stdout",
     "output_type": "stream",
     "text": [
      "23/04/11 23:39:26 WARN MemoryStore: Not enough space to cache rdd_448_1 in memory! (computed 5.6 MiB so far)\n",
      "23/04/11 23:39:26 WARN MemoryStore: Not enough space to cache rdd_448_7 in memory! (computed 5.6 MiB so far)\n",
      "23/04/11 23:39:26 WARN MemoryStore: Not enough space to cache rdd_448_6 in memory! (computed 8.4 MiB so far)\n",
      "23/04/11 23:39:26 WARN MemoryStore: Not enough space to cache rdd_448_5 in memory! (computed 8.4 MiB so far)\n",
      "23/04/11 23:39:26 WARN MemoryStore: Not enough space to cache rdd_448_4 in memory! (computed 8.4 MiB so far)\n",
      "23/04/11 23:39:26 WARN MemoryStore: Not enough space to cache rdd_448_10 in memory! (computed 3.7 MiB so far)\n",
      "23/04/11 23:39:26 WARN MemoryStore: Not enough space to cache rdd_448_0 in memory! (computed 19.6 MiB so far)\n"
     ]
    },
    {
     "name": "stderr",
     "output_type": "stream",
     "text": [
      "[Stage 273:=========>                                              (3 + 8) / 17]\r"
     ]
    },
    {
     "name": "stdout",
     "output_type": "stream",
     "text": [
      "23/04/11 23:39:26 WARN MemoryStore: Not enough space to cache rdd_448_9 in memory! (computed 44.2 MiB so far)\n"
     ]
    },
    {
     "name": "stderr",
     "output_type": "stream",
     "text": [
      "[Stage 273:=======================>                                (7 + 8) / 17]\r"
     ]
    },
    {
     "name": "stdout",
     "output_type": "stream",
     "text": [
      "23/04/11 23:39:27 WARN MemoryStore: Not enough space to cache rdd_448_12 in memory! (computed 13.1 MiB so far)\n",
      "23/04/11 23:39:27 WARN MemoryStore: Not enough space to cache rdd_448_14 in memory! (computed 19.6 MiB so far)\n",
      "23/04/11 23:39:27 WARN MemoryStore: Not enough space to cache rdd_448_15 in memory! (computed 19.6 MiB so far)\n"
     ]
    },
    {
     "name": "stderr",
     "output_type": "stream",
     "text": [
      "                                                                                \r"
     ]
    },
    {
     "name": "stdout",
     "output_type": "stream",
     "text": [
      "23/04/11 23:39:27 WARN MemoryStore: Not enough space to cache rdd_448_4 in memory! (computed 5.6 MiB so far)\n",
      "23/04/11 23:39:27 WARN MemoryStore: Not enough space to cache rdd_448_7 in memory! (computed 5.6 MiB so far)\n",
      "23/04/11 23:39:27 WARN MemoryStore: Not enough space to cache rdd_448_9 in memory! (computed 1673.8 KiB so far)\n",
      "23/04/11 23:39:27 WARN MemoryStore: Not enough space to cache rdd_448_1 in memory! (computed 8.4 MiB so far)\n",
      "23/04/11 23:39:27 WARN MemoryStore: Not enough space to cache rdd_448_6 in memory! (computed 8.4 MiB so far)\n",
      "23/04/11 23:39:27 WARN MemoryStore: Not enough space to cache rdd_448_5 in memory! (computed 13.1 MiB so far)\n",
      "23/04/11 23:39:28 WARN MemoryStore: Not enough space to cache rdd_448_0 in memory! (computed 29.5 MiB so far)\n",
      "23/04/11 23:39:28 WARN MemoryStore: Not enough space to cache rdd_448_10 in memory! (computed 13.1 MiB so far)\n"
     ]
    },
    {
     "name": "stderr",
     "output_type": "stream",
     "text": [
      "[Stage 275:=============================================>         (14 + 3) / 17]\r"
     ]
    },
    {
     "name": "stdout",
     "output_type": "stream",
     "text": [
      "23/04/11 23:39:28 WARN MemoryStore: Not enough space to cache rdd_448_15 in memory! (computed 8.4 MiB so far)\n",
      "23/04/11 23:39:28 WARN MemoryStore: Not enough space to cache rdd_448_12 in memory! (computed 13.1 MiB so far)\n",
      "23/04/11 23:39:29 WARN MemoryStore: Not enough space to cache rdd_448_14 in memory! (computed 44.2 MiB so far)\n"
     ]
    },
    {
     "name": "stderr",
     "output_type": "stream",
     "text": [
      "                                                                                \r"
     ]
    },
    {
     "name": "stdout",
     "output_type": "stream",
     "text": [
      "23/04/11 23:39:29 WARN MemoryStore: Not enough space to cache rdd_448_6 in memory! (computed 5.6 MiB so far)\n",
      "23/04/11 23:39:29 WARN MemoryStore: Not enough space to cache rdd_448_0 in memory! (computed 5.6 MiB so far)\n",
      "23/04/11 23:39:29 WARN MemoryStore: Not enough space to cache rdd_448_5 in memory! (computed 5.6 MiB so far)\n",
      "23/04/11 23:39:29 WARN MemoryStore: Not enough space to cache rdd_448_7 in memory! (computed 13.1 MiB so far)\n",
      "23/04/11 23:39:29 WARN MemoryStore: Not enough space to cache rdd_448_1 in memory! (computed 13.1 MiB so far)\n",
      "23/04/11 23:39:29 WARN MemoryStore: Not enough space to cache rdd_448_10 in memory! (computed 1673.8 KiB so far)\n",
      "23/04/11 23:39:29 WARN MemoryStore: Not enough space to cache rdd_448_9 in memory! (computed 13.1 MiB so far)\n",
      "23/04/11 23:39:29 WARN MemoryStore: Not enough space to cache rdd_448_4 in memory! (computed 44.2 MiB so far)\n"
     ]
    },
    {
     "name": "stderr",
     "output_type": "stream",
     "text": [
      "[Stage 277:=========>                                              (3 + 8) / 17]\r"
     ]
    },
    {
     "name": "stdout",
     "output_type": "stream",
     "text": [
      "23/04/11 23:39:30 WARN MemoryStore: Not enough space to cache rdd_448_15 in memory! (computed 8.4 MiB so far)\n",
      "23/04/11 23:39:30 WARN MemoryStore: Not enough space to cache rdd_448_12 in memory! (computed 19.6 MiB so far)\n"
     ]
    },
    {
     "name": "stderr",
     "output_type": "stream",
     "text": [
      "[Stage 277:=============================================>         (14 + 3) / 17]\r"
     ]
    },
    {
     "name": "stdout",
     "output_type": "stream",
     "text": [
      "23/04/11 23:39:31 WARN MemoryStore: Not enough space to cache rdd_448_14 in memory! (computed 44.2 MiB so far)\n"
     ]
    },
    {
     "name": "stderr",
     "output_type": "stream",
     "text": [
      "                                                                                \r"
     ]
    },
    {
     "name": "stdout",
     "output_type": "stream",
     "text": [
      "23/04/11 23:39:31 WARN MemoryStore: Not enough space to cache rdd_448_4 in memory! (computed 5.6 MiB so far)\n",
      "23/04/11 23:39:31 WARN MemoryStore: Not enough space to cache rdd_448_5 in memory! (computed 5.6 MiB so far)\n",
      "23/04/11 23:39:31 WARN MemoryStore: Not enough space to cache rdd_448_6 in memory! (computed 8.4 MiB so far)\n",
      "23/04/11 23:39:31 WARN MemoryStore: Not enough space to cache rdd_448_9 in memory! (computed 1673.8 KiB so far)\n",
      "23/04/11 23:39:31 WARN MemoryStore: Not enough space to cache rdd_448_7 in memory! (computed 13.1 MiB so far)\n",
      "23/04/11 23:39:31 WARN MemoryStore: Not enough space to cache rdd_448_1 in memory! (computed 13.1 MiB so far)\n",
      "23/04/11 23:39:31 WARN MemoryStore: Not enough space to cache rdd_448_10 in memory! (computed 13.1 MiB so far)\n",
      "23/04/11 23:39:31 WARN MemoryStore: Not enough space to cache rdd_448_0 in memory! (computed 29.5 MiB so far)\n"
     ]
    },
    {
     "name": "stderr",
     "output_type": "stream",
     "text": [
      "[Stage 279:=============================>                          (9 + 8) / 17]\r"
     ]
    },
    {
     "name": "stdout",
     "output_type": "stream",
     "text": [
      "23/04/11 23:39:32 WARN MemoryStore: Not enough space to cache rdd_448_12 in memory! (computed 13.1 MiB so far)\n",
      "23/04/11 23:39:32 WARN MemoryStore: Not enough space to cache rdd_448_15 in memory! (computed 19.6 MiB so far)\n",
      "23/04/11 23:39:32 WARN MemoryStore: Not enough space to cache rdd_448_14 in memory! (computed 19.6 MiB so far)\n"
     ]
    },
    {
     "name": "stderr",
     "output_type": "stream",
     "text": [
      "                                                                                \r"
     ]
    },
    {
     "name": "stdout",
     "output_type": "stream",
     "text": [
      "23/04/11 23:39:33 WARN MemoryStore: Not enough space to cache rdd_448_0 in memory! (computed 8.4 MiB so far)\n",
      "23/04/11 23:39:33 WARN MemoryStore: Not enough space to cache rdd_448_1 in memory! (computed 5.6 MiB so far)\n",
      "23/04/11 23:39:33 WARN MemoryStore: Not enough space to cache rdd_448_6 in memory! (computed 3.7 MiB so far)\n",
      "23/04/11 23:39:33 WARN MemoryStore: Not enough space to cache rdd_448_4 in memory! (computed 8.4 MiB so far)\n",
      "23/04/11 23:39:33 WARN MemoryStore: Not enough space to cache rdd_448_9 in memory! (computed 3.7 MiB so far)\n",
      "23/04/11 23:39:33 WARN MemoryStore: Not enough space to cache rdd_448_7 in memory! (computed 19.6 MiB so far)\n",
      "23/04/11 23:39:33 WARN MemoryStore: Not enough space to cache rdd_448_10 in memory! (computed 13.1 MiB so far)\n",
      "23/04/11 23:39:33 WARN MemoryStore: Not enough space to cache rdd_448_5 in memory! (computed 44.2 MiB so far)\n"
     ]
    },
    {
     "name": "stderr",
     "output_type": "stream",
     "text": [
      "[Stage 281:======================================>                (12 + 5) / 17]\r"
     ]
    },
    {
     "name": "stdout",
     "output_type": "stream",
     "text": [
      "23/04/11 23:39:34 WARN MemoryStore: Not enough space to cache rdd_448_12 in memory! (computed 13.1 MiB so far)\n",
      "23/04/11 23:39:34 WARN MemoryStore: Not enough space to cache rdd_448_15 in memory! (computed 8.4 MiB so far)\n"
     ]
    },
    {
     "name": "stderr",
     "output_type": "stream",
     "text": [
      "[Stage 281:=============================================>         (14 + 3) / 17]\r"
     ]
    },
    {
     "name": "stdout",
     "output_type": "stream",
     "text": [
      "23/04/11 23:39:34 WARN MemoryStore: Not enough space to cache rdd_448_14 in memory! (computed 44.2 MiB so far)\n"
     ]
    },
    {
     "name": "stderr",
     "output_type": "stream",
     "text": [
      "                                                                                \r"
     ]
    },
    {
     "name": "stdout",
     "output_type": "stream",
     "text": [
      "23/04/11 23:39:34 WARN MemoryStore: Not enough space to cache rdd_448_7 in memory! (computed 3.7 MiB so far)\n",
      "23/04/11 23:39:34 WARN MemoryStore: Not enough space to cache rdd_448_5 in memory! (computed 5.6 MiB so far)\n",
      "23/04/11 23:39:34 WARN MemoryStore: Not enough space to cache rdd_448_1 in memory! (computed 8.4 MiB so far)\n",
      "23/04/11 23:39:34 WARN MemoryStore: Not enough space to cache rdd_448_0 in memory! (computed 8.4 MiB so far)\n",
      "23/04/11 23:39:35 WARN MemoryStore: Not enough space to cache rdd_448_9 in memory! (computed 3.7 MiB so far)\n",
      "23/04/11 23:39:35 WARN MemoryStore: Not enough space to cache rdd_448_4 in memory! (computed 19.6 MiB so far)\n",
      "23/04/11 23:39:35 WARN MemoryStore: Not enough space to cache rdd_448_6 in memory! (computed 19.6 MiB so far)\n"
     ]
    },
    {
     "name": "stderr",
     "output_type": "stream",
     "text": [
      "[Stage 283:=========>                                              (3 + 8) / 17]\r"
     ]
    },
    {
     "name": "stdout",
     "output_type": "stream",
     "text": [
      "23/04/11 23:39:35 WARN MemoryStore: Not enough space to cache rdd_448_10 in memory! (computed 44.2 MiB so far)\n",
      "23/04/11 23:39:35 WARN MemoryStore: Failed to reserve initial memory threshold of 1024.0 KiB for computing block rdd_448_12 in memory.\n",
      "23/04/11 23:39:35 WARN MemoryStore: Not enough space to cache rdd_448_12 in memory! (computed 384.0 B so far)\n"
     ]
    },
    {
     "name": "stderr",
     "output_type": "stream",
     "text": [
      "[Stage 283:=============================================>         (14 + 3) / 17]\r"
     ]
    },
    {
     "name": "stdout",
     "output_type": "stream",
     "text": [
      "23/04/11 23:39:35 WARN MemoryStore: Not enough space to cache rdd_448_15 in memory! (computed 19.6 MiB so far)\n",
      "23/04/11 23:39:35 WARN MemoryStore: Not enough space to cache rdd_448_14 in memory! (computed 19.6 MiB so far)\n"
     ]
    },
    {
     "name": "stderr",
     "output_type": "stream",
     "text": [
      "                                                                                \r"
     ]
    },
    {
     "name": "stdout",
     "output_type": "stream",
     "text": [
      "23/04/11 23:39:36 WARN MemoryStore: Not enough space to cache rdd_448_4 in memory! (computed 5.6 MiB so far)\n",
      "23/04/11 23:39:36 WARN MemoryStore: Not enough space to cache rdd_448_5 in memory! (computed 5.6 MiB so far)\n",
      "23/04/11 23:39:36 WARN MemoryStore: Not enough space to cache rdd_448_0 in memory! (computed 5.6 MiB so far)\n",
      "23/04/11 23:39:36 WARN MemoryStore: Not enough space to cache rdd_448_7 in memory! (computed 13.1 MiB so far)\n",
      "23/04/11 23:39:36 WARN MemoryStore: Not enough space to cache rdd_448_1 in memory! (computed 13.1 MiB so far)\n",
      "23/04/11 23:39:36 WARN MemoryStore: Not enough space to cache rdd_448_6 in memory! (computed 13.1 MiB so far)\n",
      "23/04/11 23:39:36 WARN MemoryStore: Not enough space to cache rdd_448_10 in memory! (computed 13.1 MiB so far)\n"
     ]
    },
    {
     "name": "stderr",
     "output_type": "stream",
     "text": [
      "[Stage 285:=========>                                              (3 + 8) / 17]\r"
     ]
    },
    {
     "name": "stdout",
     "output_type": "stream",
     "text": [
      "23/04/11 23:39:37 WARN MemoryStore: Not enough space to cache rdd_448_9 in memory! (computed 44.2 MiB so far)\n"
     ]
    },
    {
     "name": "stderr",
     "output_type": "stream",
     "text": [
      "[Stage 285:=============================================>         (14 + 3) / 17]\r"
     ]
    },
    {
     "name": "stdout",
     "output_type": "stream",
     "text": [
      "23/04/11 23:39:37 WARN MemoryStore: Not enough space to cache rdd_448_12 in memory! (computed 13.1 MiB so far)\n",
      "23/04/11 23:39:37 WARN MemoryStore: Not enough space to cache rdd_448_14 in memory! (computed 13.1 MiB so far)\n",
      "23/04/11 23:39:37 WARN MemoryStore: Not enough space to cache rdd_448_15 in memory! (computed 44.2 MiB so far)\n"
     ]
    },
    {
     "name": "stderr",
     "output_type": "stream",
     "text": [
      "                                                                                \r"
     ]
    },
    {
     "name": "stdout",
     "output_type": "stream",
     "text": [
      "23/04/11 23:39:38 WARN MemoryStore: Not enough space to cache rdd_448_7 in memory! (computed 5.6 MiB so far)\n",
      "23/04/11 23:39:38 WARN MemoryStore: Not enough space to cache rdd_448_4 in memory! (computed 5.6 MiB so far)\n",
      "23/04/11 23:39:38 WARN MemoryStore: Not enough space to cache rdd_448_0 in memory! (computed 5.6 MiB so far)\n",
      "23/04/11 23:39:38 WARN MemoryStore: Not enough space to cache rdd_448_5 in memory! (computed 13.1 MiB so far)\n",
      "23/04/11 23:39:38 WARN MemoryStore: Not enough space to cache rdd_448_6 in memory! (computed 13.1 MiB so far)\n",
      "23/04/11 23:39:38 WARN MemoryStore: Not enough space to cache rdd_448_1 in memory! (computed 13.1 MiB so far)\n",
      "23/04/11 23:39:38 WARN MemoryStore: Not enough space to cache rdd_448_10 in memory! (computed 13.1 MiB so far)\n"
     ]
    },
    {
     "name": "stderr",
     "output_type": "stream",
     "text": [
      "[Stage 287:=========>                                              (3 + 8) / 17]\r"
     ]
    },
    {
     "name": "stdout",
     "output_type": "stream",
     "text": [
      "23/04/11 23:39:38 WARN MemoryStore: Not enough space to cache rdd_448_9 in memory! (computed 44.2 MiB so far)\n"
     ]
    },
    {
     "name": "stderr",
     "output_type": "stream",
     "text": [
      "[Stage 287:=======================>                                (7 + 8) / 17]\r"
     ]
    },
    {
     "name": "stdout",
     "output_type": "stream",
     "text": [
      "23/04/11 23:39:39 WARN MemoryStore: Not enough space to cache rdd_448_15 in memory! (computed 8.4 MiB so far)\n",
      "23/04/11 23:39:39 WARN MemoryStore: Not enough space to cache rdd_448_12 in memory! (computed 19.6 MiB so far)\n"
     ]
    },
    {
     "name": "stderr",
     "output_type": "stream",
     "text": [
      "[Stage 287:=============================================>         (14 + 3) / 17]\r"
     ]
    },
    {
     "name": "stdout",
     "output_type": "stream",
     "text": [
      "23/04/11 23:39:39 WARN MemoryStore: Not enough space to cache rdd_448_14 in memory! (computed 44.2 MiB so far)\n"
     ]
    },
    {
     "name": "stderr",
     "output_type": "stream",
     "text": [
      "                                                                                \r"
     ]
    },
    {
     "name": "stdout",
     "output_type": "stream",
     "text": [
      "23/04/11 23:39:39 WARN MemoryStore: Not enough space to cache rdd_448_1 in memory! (computed 5.6 MiB so far)\n",
      "23/04/11 23:39:39 WARN MemoryStore: Not enough space to cache rdd_448_7 in memory! (computed 5.6 MiB so far)\n",
      "23/04/11 23:39:39 WARN MemoryStore: Not enough space to cache rdd_448_5 in memory! (computed 8.4 MiB so far)\n",
      "23/04/11 23:39:39 WARN MemoryStore: Not enough space to cache rdd_448_4 in memory! (computed 8.4 MiB so far)\n",
      "23/04/11 23:39:40 WARN MemoryStore: Not enough space to cache rdd_448_0 in memory! (computed 13.1 MiB so far)\n",
      "23/04/11 23:39:40 WARN MemoryStore: Not enough space to cache rdd_448_6 in memory! (computed 19.6 MiB so far)\n",
      "23/04/11 23:39:40 WARN MemoryStore: Not enough space to cache rdd_448_10 in memory! (computed 3.7 MiB so far)\n"
     ]
    },
    {
     "name": "stderr",
     "output_type": "stream",
     "text": [
      "[Stage 289:===================>                                    (6 + 8) / 17]\r"
     ]
    },
    {
     "name": "stdout",
     "output_type": "stream",
     "text": [
      "23/04/11 23:39:40 WARN MemoryStore: Not enough space to cache rdd_448_9 in memory! (computed 44.2 MiB so far)\n",
      "23/04/11 23:39:40 WARN MemoryStore: Not enough space to cache rdd_448_15 in memory! (computed 13.1 MiB so far)\n",
      "23/04/11 23:39:40 WARN MemoryStore: Not enough space to cache rdd_448_12 in memory! (computed 13.1 MiB so far)\n"
     ]
    },
    {
     "name": "stderr",
     "output_type": "stream",
     "text": [
      "[Stage 289:=============================================>         (14 + 3) / 17]\r"
     ]
    },
    {
     "name": "stdout",
     "output_type": "stream",
     "text": [
      "23/04/11 23:39:41 WARN MemoryStore: Not enough space to cache rdd_448_14 in memory! (computed 44.2 MiB so far)\n"
     ]
    },
    {
     "name": "stderr",
     "output_type": "stream",
     "text": [
      "                                                                                \r"
     ]
    },
    {
     "name": "stdout",
     "output_type": "stream",
     "text": [
      "23/04/11 23:39:41 WARN MemoryStore: Not enough space to cache rdd_448_7 in memory! (computed 5.6 MiB so far)\n",
      "23/04/11 23:39:41 WARN MemoryStore: Not enough space to cache rdd_448_6 in memory! (computed 5.6 MiB so far)\n",
      "23/04/11 23:39:41 WARN MemoryStore: Not enough space to cache rdd_448_0 in memory! (computed 5.6 MiB so far)\n",
      "23/04/11 23:39:41 WARN MemoryStore: Not enough space to cache rdd_448_1 in memory! (computed 13.1 MiB so far)\n",
      "23/04/11 23:39:41 WARN MemoryStore: Not enough space to cache rdd_448_5 in memory! (computed 13.1 MiB so far)\n",
      "23/04/11 23:39:41 WARN MemoryStore: Not enough space to cache rdd_448_10 in memory! (computed 1673.8 KiB so far)\n",
      "23/04/11 23:39:41 WARN MemoryStore: Not enough space to cache rdd_448_9 in memory! (computed 13.1 MiB so far)\n"
     ]
    },
    {
     "name": "stderr",
     "output_type": "stream",
     "text": [
      "[Stage 291:=========>                                              (3 + 8) / 17]\r"
     ]
    },
    {
     "name": "stdout",
     "output_type": "stream",
     "text": [
      "23/04/11 23:39:42 WARN MemoryStore: Not enough space to cache rdd_448_4 in memory! (computed 44.2 MiB so far)\n"
     ]
    },
    {
     "name": "stderr",
     "output_type": "stream",
     "text": [
      "[Stage 291:=============================>                          (9 + 8) / 17]\r"
     ]
    },
    {
     "name": "stdout",
     "output_type": "stream",
     "text": [
      "23/04/11 23:39:42 WARN MemoryStore: Not enough space to cache rdd_448_12 in memory! (computed 13.1 MiB so far)\n",
      "23/04/11 23:39:42 WARN MemoryStore: Not enough space to cache rdd_448_14 in memory! (computed 13.1 MiB so far)\n"
     ]
    },
    {
     "name": "stderr",
     "output_type": "stream",
     "text": [
      "[Stage 291:=============================================>         (14 + 3) / 17]\r"
     ]
    },
    {
     "name": "stdout",
     "output_type": "stream",
     "text": [
      "23/04/11 23:39:42 WARN MemoryStore: Not enough space to cache rdd_448_15 in memory! (computed 44.2 MiB so far)\n"
     ]
    },
    {
     "name": "stderr",
     "output_type": "stream",
     "text": [
      "                                                                                \r"
     ]
    },
    {
     "name": "stdout",
     "output_type": "stream",
     "text": [
      "23/04/11 23:39:43 WARN MemoryStore: Not enough space to cache rdd_448_1 in memory! (computed 8.4 MiB so far)\n",
      "23/04/11 23:39:43 WARN MemoryStore: Not enough space to cache rdd_448_5 in memory! (computed 5.6 MiB so far)\n",
      "23/04/11 23:39:43 WARN MemoryStore: Not enough space to cache rdd_448_7 in memory! (computed 5.6 MiB so far)\n",
      "23/04/11 23:39:43 WARN MemoryStore: Not enough space to cache rdd_448_0 in memory! (computed 13.1 MiB so far)\n",
      "23/04/11 23:39:43 WARN MemoryStore: Not enough space to cache rdd_448_9 in memory! (computed 5.6 MiB so far)\n",
      "23/04/11 23:39:43 WARN MemoryStore: Not enough space to cache rdd_448_4 in memory! (computed 13.1 MiB so far)\n",
      "23/04/11 23:39:43 WARN MemoryStore: Not enough space to cache rdd_448_10 in memory! (computed 13.1 MiB so far)\n"
     ]
    },
    {
     "name": "stderr",
     "output_type": "stream",
     "text": [
      "[Stage 293:=========>                                              (3 + 8) / 17]\r"
     ]
    },
    {
     "name": "stdout",
     "output_type": "stream",
     "text": [
      "23/04/11 23:39:43 WARN MemoryStore: Not enough space to cache rdd_448_6 in memory! (computed 44.2 MiB so far)\n"
     ]
    },
    {
     "name": "stderr",
     "output_type": "stream",
     "text": [
      "[Stage 293:==========================>                             (8 + 8) / 17]\r"
     ]
    },
    {
     "name": "stdout",
     "output_type": "stream",
     "text": [
      "23/04/11 23:39:44 WARN MemoryStore: Not enough space to cache rdd_448_12 in memory! (computed 13.1 MiB so far)\n",
      "23/04/11 23:39:44 WARN MemoryStore: Not enough space to cache rdd_448_14 in memory! (computed 19.6 MiB so far)\n",
      "23/04/11 23:39:44 WARN MemoryStore: Not enough space to cache rdd_448_15 in memory! (computed 19.6 MiB so far)\n"
     ]
    },
    {
     "name": "stderr",
     "output_type": "stream",
     "text": [
      "[Stage 298:>                                                       (0 + 8) / 17]\r"
     ]
    },
    {
     "name": "stdout",
     "output_type": "stream",
     "text": [
      "23/04/11 23:39:56 WARN MemoryStore: Not enough space to cache rdd_511_5 in memory! (computed 44.2 MiB so far)\n",
      "23/04/11 23:39:56 WARN BlockManager: Persisting block rdd_511_5 to disk instead.\n",
      "23/04/11 23:39:56 WARN MemoryStore: Not enough space to cache rdd_511_7 in memory! (computed 44.2 MiB so far)\n",
      "23/04/11 23:39:56 WARN BlockManager: Persisting block rdd_511_7 to disk instead.\n",
      "23/04/11 23:39:57 WARN MemoryStore: Not enough space to cache rdd_511_2 in memory! (computed 44.2 MiB so far)\n",
      "23/04/11 23:39:57 WARN BlockManager: Persisting block rdd_511_2 to disk instead.\n",
      "23/04/11 23:39:57 WARN MemoryStore: Not enough space to cache rdd_511_3 in memory! (computed 44.2 MiB so far)\n",
      "23/04/11 23:39:57 WARN BlockManager: Persisting block rdd_511_3 to disk instead.\n",
      "23/04/11 23:39:57 WARN MemoryStore: Not enough space to cache rdd_511_0 in memory! (computed 44.2 MiB so far)\n",
      "23/04/11 23:39:57 WARN BlockManager: Persisting block rdd_511_0 to disk instead.\n",
      "23/04/11 23:39:57 WARN MemoryStore: Not enough space to cache rdd_511_6 in memory! (computed 44.2 MiB so far)\n",
      "23/04/11 23:39:57 WARN BlockManager: Persisting block rdd_511_6 to disk instead.\n"
     ]
    },
    {
     "name": "stderr",
     "output_type": "stream",
     "text": [
      "[Stage 298:======>                                                 (2 + 8) / 17]\r"
     ]
    },
    {
     "name": "stdout",
     "output_type": "stream",
     "text": [
      "23/04/11 23:40:01 WARN MemoryStore: Not enough space to cache rdd_511_2 in memory! (computed 44.2 MiB so far)\n",
      "23/04/11 23:40:01 WARN MemoryStore: Not enough space to cache rdd_511_7 in memory! (computed 8.4 MiB so far)\n",
      "23/04/11 23:40:01 WARN MemoryStore: Not enough space to cache rdd_511_5 in memory! (computed 66.3 MiB so far)\n"
     ]
    },
    {
     "name": "stderr",
     "output_type": "stream",
     "text": [
      "[Stage 298:=======================>                                (7 + 8) / 17]\r"
     ]
    },
    {
     "name": "stdout",
     "output_type": "stream",
     "text": [
      "23/04/11 23:40:02 WARN MemoryStore: Not enough space to cache rdd_511_0 in memory! (computed 66.3 MiB so far)\n"
     ]
    },
    {
     "name": "stderr",
     "output_type": "stream",
     "text": [
      "[Stage 298:==========================>                             (8 + 8) / 17]\r"
     ]
    },
    {
     "name": "stdout",
     "output_type": "stream",
     "text": [
      "23/04/11 23:40:03 WARN MemoryStore: Not enough space to cache rdd_511_8 in memory! (computed 19.6 MiB so far)\n",
      "23/04/11 23:40:03 WARN BlockManager: Persisting block rdd_511_8 to disk instead.\n",
      "23/04/11 23:40:03 WARN MemoryStore: Not enough space to cache rdd_511_12 in memory! (computed 13.1 MiB so far)\n",
      "23/04/11 23:40:03 WARN BlockManager: Persisting block rdd_511_12 to disk instead.\n",
      "23/04/11 23:40:03 WARN MemoryStore: Not enough space to cache rdd_511_13 in memory! (computed 13.1 MiB so far)\n",
      "23/04/11 23:40:03 WARN MemoryStore: Not enough space to cache rdd_511_11 in memory! (computed 13.1 MiB so far)\n",
      "23/04/11 23:40:03 WARN MemoryStore: Not enough space to cache rdd_511_14 in memory! (computed 8.4 MiB so far)\n",
      "23/04/11 23:40:03 WARN BlockManager: Persisting block rdd_511_11 to disk instead.\n",
      "23/04/11 23:40:03 WARN BlockManager: Persisting block rdd_511_14 to disk instead.\n",
      "23/04/11 23:40:03 WARN BlockManager: Persisting block rdd_511_13 to disk instead.\n",
      "23/04/11 23:40:06 WARN MemoryStore: Not enough space to cache rdd_511_15 in memory! (computed 29.5 MiB so far)\n",
      "23/04/11 23:40:06 WARN BlockManager: Persisting block rdd_511_15 to disk instead.\n",
      "23/04/11 23:40:06 WARN MemoryStore: Not enough space to cache rdd_511_9 in memory! (computed 44.2 MiB so far)\n",
      "23/04/11 23:40:06 WARN BlockManager: Persisting block rdd_511_9 to disk instead.\n",
      "23/04/11 23:40:09 WARN MemoryStore: Not enough space to cache rdd_511_9 in memory! (computed 29.5 MiB so far)\n"
     ]
    },
    {
     "name": "stderr",
     "output_type": "stream",
     "text": [
      "[Stage 298:=============================>                          (9 + 8) / 17]\r"
     ]
    },
    {
     "name": "stdout",
     "output_type": "stream",
     "text": [
      "23/04/11 23:40:09 WARN MemoryStore: Not enough space to cache rdd_511_8 in memory! (computed 44.2 MiB so far)\n"
     ]
    },
    {
     "name": "stderr",
     "output_type": "stream",
     "text": [
      "[Stage 298:===================================>                   (11 + 6) / 17]\r"
     ]
    },
    {
     "name": "stdout",
     "output_type": "stream",
     "text": [
      "23/04/11 23:40:10 WARN MemoryStore: Not enough space to cache rdd_511_13 in memory! (computed 8.4 MiB so far)\n",
      "23/04/11 23:40:10 WARN MemoryStore: Not enough space to cache rdd_511_14 in memory! (computed 19.6 MiB so far)\n",
      "23/04/11 23:40:10 WARN MemoryStore: Not enough space to cache rdd_511_15 in memory! (computed 3.7 MiB so far)\n",
      "23/04/11 23:40:10 WARN MemoryStore: Not enough space to cache rdd_511_11 in memory! (computed 19.6 MiB so far)\n"
     ]
    },
    {
     "name": "stderr",
     "output_type": "stream",
     "text": [
      "[Stage 298:======================================>                (12 + 5) / 17]\r"
     ]
    },
    {
     "name": "stdout",
     "output_type": "stream",
     "text": [
      "23/04/11 23:40:10 WARN MemoryStore: Not enough space to cache rdd_511_12 in memory! (computed 44.2 MiB so far)\n"
     ]
    },
    {
     "name": "stderr",
     "output_type": "stream",
     "text": [
      "                                                                                \r"
     ]
    },
    {
     "name": "stdout",
     "output_type": "stream",
     "text": [
      "23/04/11 23:40:11 WARN MemoryStore: Not enough space to cache rdd_511_8 in memory! (computed 5.6 MiB so far)\n",
      "23/04/11 23:40:11 WARN MemoryStore: Not enough space to cache rdd_511_7 in memory! (computed 8.4 MiB so far)\n",
      "23/04/11 23:40:11 WARN MemoryStore: Not enough space to cache rdd_511_0 in memory! (computed 8.4 MiB so far)\n",
      "23/04/11 23:40:11 WARN MemoryStore: Not enough space to cache rdd_511_9 in memory! (computed 8.4 MiB so far)\n",
      "23/04/11 23:40:11 WARN MemoryStore: Not enough space to cache rdd_511_2 in memory! (computed 13.1 MiB so far)\n",
      "23/04/11 23:40:11 WARN MemoryStore: Not enough space to cache rdd_511_12 in memory! (computed 13.1 MiB so far)\n",
      "23/04/11 23:40:11 WARN MemoryStore: Not enough space to cache rdd_511_11 in memory! (computed 19.6 MiB so far)\n"
     ]
    },
    {
     "name": "stderr",
     "output_type": "stream",
     "text": [
      "[Stage 299:================>                                       (5 + 8) / 17]\r"
     ]
    },
    {
     "name": "stdout",
     "output_type": "stream",
     "text": [
      "23/04/11 23:40:12 WARN MemoryStore: Not enough space to cache rdd_511_5 in memory! (computed 44.2 MiB so far)\n"
     ]
    },
    {
     "name": "stderr",
     "output_type": "stream",
     "text": [
      "[Stage 299:=============================================>         (14 + 3) / 17]\r"
     ]
    },
    {
     "name": "stdout",
     "output_type": "stream",
     "text": [
      "23/04/11 23:40:12 WARN MemoryStore: Not enough space to cache rdd_511_15 in memory! (computed 13.1 MiB so far)\n",
      "23/04/11 23:40:12 WARN MemoryStore: Not enough space to cache rdd_511_14 in memory! (computed 19.6 MiB so far)\n",
      "23/04/11 23:40:12 WARN MemoryStore: Not enough space to cache rdd_511_13 in memory! (computed 44.2 MiB so far)\n"
     ]
    },
    {
     "name": "stderr",
     "output_type": "stream",
     "text": [
      "[Stage 300:=============>                                          (4 + 8) / 17]\r"
     ]
    },
    {
     "name": "stdout",
     "output_type": "stream",
     "text": [
      "23/04/11 23:40:14 WARN MemoryStore: Not enough space to cache rdd_511_2 in memory! (computed 19.6 MiB so far)\n",
      "23/04/11 23:40:14 WARN MemoryStore: Not enough space to cache rdd_511_7 in memory! (computed 19.6 MiB so far)\n",
      "23/04/11 23:40:14 WARN MemoryStore: Not enough space to cache rdd_511_10 in memory! (computed 2.5 MiB so far)\n",
      "23/04/11 23:40:14 WARN MemoryStore: Not enough space to cache rdd_511_5 in memory! (computed 29.5 MiB so far)\n",
      "23/04/11 23:40:14 WARN MemoryStore: Failed to reserve initial memory threshold of 1024.0 KiB for computing block rdd_511_7 in memory.\n",
      "23/04/11 23:40:14 WARN MemoryStore: Failed to reserve initial memory threshold of 1024.0 KiB for computing block rdd_511_5 in memory.\n",
      "23/04/11 23:40:14 WARN MemoryStore: Not enough space to cache rdd_511_7 in memory! (computed 384.0 B so far)\n",
      "23/04/11 23:40:14 WARN MemoryStore: Failed to reserve initial memory threshold of 1024.0 KiB for computing block rdd_511_10 in memory.\n",
      "23/04/11 23:40:14 WARN MemoryStore: Not enough space to cache rdd_511_10 in memory! (computed 384.0 B so far)\n",
      "23/04/11 23:40:14 WARN MemoryStore: Not enough space to cache rdd_511_5 in memory! (computed 384.0 B so far)\n",
      "23/04/11 23:40:14 WARN MemoryStore: Not enough space to cache rdd_511_11 in memory! (computed 3.7 MiB so far)\n",
      "23/04/11 23:40:14 WARN MemoryStore: Not enough space to cache rdd_511_0 in memory! (computed 29.5 MiB so far)\n",
      "23/04/11 23:40:14 WARN MemoryStore: Failed to reserve initial memory threshold of 1024.0 KiB for computing block rdd_511_11 in memory.\n",
      "23/04/11 23:40:14 WARN MemoryStore: Not enough space to cache rdd_511_11 in memory! (computed 384.0 B so far)\n",
      "23/04/11 23:40:15 WARN MemoryStore: Not enough space to cache rdd_511_8 in memory! (computed 19.6 MiB so far)\n",
      "23/04/11 23:40:16 WARN MemoryStore: Not enough space to cache rdd_511_8 in memory! (computed 8.4 MiB so far)\n",
      "23/04/11 23:40:16 WARN MemoryStore: Not enough space to cache rdd_511_2 in memory! (computed 66.3 MiB so far)\n"
     ]
    },
    {
     "name": "stderr",
     "output_type": "stream",
     "text": [
      "[Stage 301:>                                                       (0 + 8) / 17]\r"
     ]
    },
    {
     "name": "stdout",
     "output_type": "stream",
     "text": [
      "23/04/11 23:40:21 WARN MemoryStore: Not enough space to cache rdd_511_3 in memory! (computed 13.1 MiB so far)\n",
      "23/04/11 23:40:21 WARN MemoryStore: Not enough space to cache rdd_511_5 in memory! (computed 13.1 MiB so far)\n",
      "23/04/11 23:40:21 WARN MemoryStore: Not enough space to cache rdd_511_1 in memory! (computed 13.1 MiB so far)\n",
      "23/04/11 23:40:21 WARN MemoryStore: Not enough space to cache rdd_511_2 in memory! (computed 19.6 MiB so far)\n",
      "23/04/11 23:40:21 WARN MemoryStore: Not enough space to cache rdd_511_4 in memory! (computed 8.4 MiB so far)\n",
      "23/04/11 23:40:21 WARN MemoryStore: Not enough space to cache rdd_511_0 in memory! (computed 8.4 MiB so far)\n",
      "23/04/11 23:40:21 WARN MemoryStore: Not enough space to cache rdd_511_6 in memory! (computed 13.1 MiB so far)\n"
     ]
    },
    {
     "name": "stderr",
     "output_type": "stream",
     "text": [
      "[Stage 301:================================>                      (10 + 7) / 17]\r"
     ]
    },
    {
     "name": "stdout",
     "output_type": "stream",
     "text": [
      "23/04/11 23:40:23 WARN MemoryStore: Not enough space to cache rdd_511_9 in memory! (computed 19.6 MiB so far)\n",
      "23/04/11 23:40:23 WARN MemoryStore: Not enough space to cache rdd_511_8 in memory! (computed 29.5 MiB so far)\n",
      "23/04/11 23:40:23 WARN MemoryStore: Not enough space to cache rdd_511_10 in memory! (computed 29.5 MiB so far)\n"
     ]
    },
    {
     "name": "stderr",
     "output_type": "stream",
     "text": [
      "                                                                                \r"
     ]
    },
    {
     "name": "stdout",
     "output_type": "stream",
     "text": [
      "23/04/11 23:40:25 WARN MemoryStore: Not enough space to cache rdd_511_7 in memory! (computed 13.1 MiB so far)\n",
      "23/04/11 23:40:25 WARN MemoryStore: Not enough space to cache rdd_511_3 in memory! (computed 13.1 MiB so far)\n",
      "23/04/11 23:40:25 WARN MemoryStore: Not enough space to cache rdd_511_4 in memory! (computed 13.1 MiB so far)\n",
      "23/04/11 23:40:25 WARN MemoryStore: Not enough space to cache rdd_511_5 in memory! (computed 13.1 MiB so far)\n",
      "23/04/11 23:40:25 WARN MemoryStore: Not enough space to cache rdd_511_2 in memory! (computed 13.1 MiB so far)\n",
      "23/04/11 23:40:25 WARN MemoryStore: Not enough space to cache rdd_511_0 in memory! (computed 13.1 MiB so far)\n",
      "23/04/11 23:40:25 WARN MemoryStore: Not enough space to cache rdd_511_1 in memory! (computed 19.6 MiB so far)\n",
      "23/04/11 23:40:25 WARN MemoryStore: Not enough space to cache rdd_511_6 in memory! (computed 19.6 MiB so far)\n"
     ]
    },
    {
     "name": "stderr",
     "output_type": "stream",
     "text": [
      "[Stage 302:==========================>                             (8 + 8) / 17]\r"
     ]
    },
    {
     "name": "stdout",
     "output_type": "stream",
     "text": [
      "23/04/11 23:40:28 WARN MemoryStore: Not enough space to cache rdd_511_10 in memory! (computed 44.2 MiB so far)\n",
      "23/04/11 23:40:28 WARN MemoryStore: Not enough space to cache rdd_511_9 in memory! (computed 66.3 MiB so far)\n",
      "23/04/11 23:40:28 WARN MemoryStore: Not enough space to cache rdd_511_8 in memory! (computed 44.2 MiB so far)\n",
      "23/04/11 23:40:28 WARN MemoryStore: Not enough space to cache rdd_511_15 in memory! (computed 19.6 MiB so far)\n"
     ]
    },
    {
     "name": "stderr",
     "output_type": "stream",
     "text": [
      "[Stage 303:>                                                       (0 + 8) / 17]\r"
     ]
    },
    {
     "name": "stdout",
     "output_type": "stream",
     "text": [
      "23/04/11 23:40:32 WARN MemoryStore: Not enough space to cache rdd_511_3 in memory! (computed 19.6 MiB so far)\n",
      "23/04/11 23:40:32 WARN MemoryStore: Not enough space to cache rdd_511_0 in memory! (computed 19.6 MiB so far)\n",
      "23/04/11 23:40:32 WARN MemoryStore: Not enough space to cache rdd_511_6 in memory! (computed 44.2 MiB so far)\n",
      "23/04/11 23:40:32 WARN MemoryStore: Not enough space to cache rdd_511_4 in memory! (computed 29.5 MiB so far)\n",
      "23/04/11 23:40:32 WARN MemoryStore: Not enough space to cache rdd_511_1 in memory! (computed 19.6 MiB so far)\n",
      "23/04/11 23:40:32 WARN MemoryStore: Not enough space to cache rdd_511_5 in memory! (computed 29.5 MiB so far)\n",
      "23/04/11 23:40:32 WARN MemoryStore: Not enough space to cache rdd_511_2 in memory! (computed 19.6 MiB so far)\n"
     ]
    },
    {
     "name": "stderr",
     "output_type": "stream",
     "text": [
      "[Stage 303:==========================>                             (8 + 8) / 17]\r"
     ]
    },
    {
     "name": "stdout",
     "output_type": "stream",
     "text": [
      "23/04/11 23:40:34 WARN MemoryStore: Not enough space to cache rdd_511_12 in memory! (computed 29.5 MiB so far)\n",
      "23/04/11 23:40:34 WARN MemoryStore: Not enough space to cache rdd_511_11 in memory! (computed 29.5 MiB so far)\n",
      "23/04/11 23:40:34 WARN MemoryStore: Not enough space to cache rdd_511_14 in memory! (computed 19.6 MiB so far)\n",
      "23/04/11 23:40:34 WARN MemoryStore: Not enough space to cache rdd_511_10 in memory! (computed 29.5 MiB so far)\n",
      "23/04/11 23:40:34 WARN MemoryStore: Not enough space to cache rdd_511_8 in memory! (computed 44.2 MiB so far)\n",
      "23/04/11 23:40:34 WARN MemoryStore: Not enough space to cache rdd_511_13 in memory! (computed 44.2 MiB so far)\n",
      "23/04/11 23:40:34 WARN MemoryStore: Not enough space to cache rdd_511_9 in memory! (computed 66.3 MiB so far)\n"
     ]
    },
    {
     "name": "stderr",
     "output_type": "stream",
     "text": [
      "[Stage 304:>                                                       (0 + 8) / 17]\r"
     ]
    },
    {
     "name": "stdout",
     "output_type": "stream",
     "text": [
      "23/04/11 23:40:36 WARN MemoryStore: Not enough space to cache rdd_511_0 in memory! (computed 29.5 MiB so far)\n",
      "23/04/11 23:40:37 WARN MemoryStore: Not enough space to cache rdd_511_6 in memory! (computed 29.5 MiB so far)\n",
      "23/04/11 23:40:37 WARN MemoryStore: Not enough space to cache rdd_511_3 in memory! (computed 29.5 MiB so far)\n",
      "23/04/11 23:40:37 WARN MemoryStore: Not enough space to cache rdd_511_1 in memory! (computed 29.5 MiB so far)\n",
      "23/04/11 23:40:37 WARN MemoryStore: Not enough space to cache rdd_511_7 in memory! (computed 44.2 MiB so far)\n",
      "23/04/11 23:40:37 WARN MemoryStore: Not enough space to cache rdd_511_2 in memory! (computed 44.2 MiB so far)\n",
      "23/04/11 23:40:37 WARN MemoryStore: Not enough space to cache rdd_511_5 in memory! (computed 44.2 MiB so far)\n",
      "23/04/11 23:40:37 WARN MemoryStore: Not enough space to cache rdd_511_4 in memory! (computed 44.2 MiB so far)\n"
     ]
    },
    {
     "name": "stderr",
     "output_type": "stream",
     "text": [
      "[Stage 304:=============================>                          (9 + 8) / 17]\r"
     ]
    },
    {
     "name": "stdout",
     "output_type": "stream",
     "text": [
      "23/04/11 23:40:38 WARN MemoryStore: Not enough space to cache rdd_511_9 in memory! (computed 29.5 MiB so far)\n"
     ]
    },
    {
     "name": "stderr",
     "output_type": "stream",
     "text": [
      "[Stage 304:================================>                      (10 + 7) / 17]\r"
     ]
    },
    {
     "name": "stdout",
     "output_type": "stream",
     "text": [
      "23/04/11 23:40:39 WARN MemoryStore: Not enough space to cache rdd_511_14 in memory! (computed 44.2 MiB so far)\n",
      "23/04/11 23:40:39 WARN MemoryStore: Not enough space to cache rdd_511_13 in memory! (computed 44.2 MiB so far)\n",
      "23/04/11 23:40:39 WARN MemoryStore: Not enough space to cache rdd_511_11 in memory! (computed 44.2 MiB so far)\n",
      "23/04/11 23:40:39 WARN MemoryStore: Not enough space to cache rdd_511_12 in memory! (computed 44.2 MiB so far)\n",
      "23/04/11 23:40:39 WARN MemoryStore: Not enough space to cache rdd_511_8 in memory! (computed 44.2 MiB so far)\n"
     ]
    },
    {
     "name": "stderr",
     "output_type": "stream",
     "text": [
      "                                                                                \r"
     ]
    },
    {
     "name": "stdout",
     "output_type": "stream",
     "text": [
      "23/04/11 23:40:40 WARN MemoryStore: Not enough space to cache rdd_511_1 in memory! (computed 19.6 MiB so far)\n",
      "23/04/11 23:40:41 WARN MemoryStore: Not enough space to cache rdd_511_0 in memory! (computed 29.5 MiB so far)\n"
     ]
    },
    {
     "name": "stderr",
     "output_type": "stream",
     "text": [
      "[Stage 306:>                                                       (0 + 8) / 17]\r"
     ]
    },
    {
     "name": "stdout",
     "output_type": "stream",
     "text": [
      "23/04/11 23:40:41 WARN MemoryStore: Not enough space to cache rdd_511_3 in memory! (computed 29.5 MiB so far)\n",
      "23/04/11 23:40:41 WARN MemoryStore: Not enough space to cache rdd_511_2 in memory! (computed 29.5 MiB so far)\n",
      "23/04/11 23:40:42 WARN MemoryStore: Not enough space to cache rdd_511_7 in memory! (computed 44.2 MiB so far)\n",
      "23/04/11 23:40:42 WARN MemoryStore: Not enough space to cache rdd_511_6 in memory! (computed 44.2 MiB so far)\n"
     ]
    },
    {
     "name": "stderr",
     "output_type": "stream",
     "text": [
      "[Stage 306:==========================>                             (8 + 8) / 17]\r"
     ]
    },
    {
     "name": "stdout",
     "output_type": "stream",
     "text": [
      "23/04/11 23:40:42 WARN MemoryStore: Not enough space to cache rdd_511_14 in memory! (computed 8.4 MiB so far)\n",
      "23/04/11 23:40:42 WARN MemoryStore: Not enough space to cache rdd_511_11 in memory! (computed 19.6 MiB so far)\n",
      "23/04/11 23:40:42 WARN MemoryStore: Not enough space to cache rdd_511_9 in memory! (computed 19.6 MiB so far)\n"
     ]
    },
    {
     "name": "stderr",
     "output_type": "stream",
     "text": [
      "[Stage 306:===================================>                   (11 + 6) / 17]\r"
     ]
    },
    {
     "name": "stdout",
     "output_type": "stream",
     "text": [
      "23/04/11 23:40:43 WARN MemoryStore: Not enough space to cache rdd_511_8 in memory! (computed 29.5 MiB so far)\n",
      "23/04/11 23:40:43 WARN MemoryStore: Not enough space to cache rdd_511_12 in memory! (computed 29.5 MiB so far)\n"
     ]
    },
    {
     "name": "stderr",
     "output_type": "stream",
     "text": [
      "                                                                                \r"
     ]
    },
    {
     "name": "stdout",
     "output_type": "stream",
     "text": [
      "23/04/11 23:40:43 WARN MemoryStore: Not enough space to cache rdd_511_7 in memory! (computed 5.6 MiB so far)\n",
      "23/04/11 23:40:43 WARN MemoryStore: Failed to reserve initial memory threshold of 1024.0 KiB for computing block rdd_511_8 in memory.\n",
      "23/04/11 23:40:43 WARN MemoryStore: Not enough space to cache rdd_511_8 in memory! (computed 384.0 B so far)\n",
      "23/04/11 23:40:43 WARN MemoryStore: Not enough space to cache rdd_511_1 in memory! (computed 5.6 MiB so far)\n",
      "23/04/11 23:40:43 WARN MemoryStore: Failed to reserve initial memory threshold of 1024.0 KiB for computing block rdd_511_9 in memory.\n",
      "23/04/11 23:40:43 WARN MemoryStore: Not enough space to cache rdd_511_9 in memory! (computed 384.0 B so far)\n",
      "23/04/11 23:40:43 WARN MemoryStore: Not enough space to cache rdd_511_0 in memory! (computed 8.4 MiB so far)\n",
      "23/04/11 23:40:43 WARN MemoryStore: Not enough space to cache rdd_511_6 in memory! (computed 13.1 MiB so far)\n",
      "23/04/11 23:40:44 WARN MemoryStore: Not enough space to cache rdd_511_3 in memory! (computed 19.6 MiB so far)\n",
      "23/04/11 23:40:44 WARN MemoryStore: Not enough space to cache rdd_511_2 in memory! (computed 19.6 MiB so far)\n"
     ]
    },
    {
     "name": "stderr",
     "output_type": "stream",
     "text": [
      "[Stage 308:==========================================>            (13 + 4) / 17]\r"
     ]
    },
    {
     "name": "stdout",
     "output_type": "stream",
     "text": [
      "23/04/11 23:40:44 WARN MemoryStore: Not enough space to cache rdd_511_12 in memory! (computed 13.1 MiB so far)\n",
      "23/04/11 23:40:44 WARN MemoryStore: Not enough space to cache rdd_511_11 in memory! (computed 13.1 MiB so far)\n"
     ]
    },
    {
     "name": "stderr",
     "output_type": "stream",
     "text": [
      "[Stage 308:=============================================>         (14 + 3) / 17]\r"
     ]
    },
    {
     "name": "stdout",
     "output_type": "stream",
     "text": [
      "23/04/11 23:40:45 WARN MemoryStore: Not enough space to cache rdd_511_14 in memory! (computed 44.2 MiB so far)\n"
     ]
    },
    {
     "name": "stderr",
     "output_type": "stream",
     "text": [
      "                                                                                \r"
     ]
    },
    {
     "name": "stdout",
     "output_type": "stream",
     "text": [
      "23/04/11 23:40:45 WARN MemoryStore: Failed to reserve initial memory threshold of 1024.0 KiB for computing block rdd_511_9 in memory.\n",
      "23/04/11 23:40:45 WARN MemoryStore: Failed to reserve initial memory threshold of 1024.0 KiB for computing block rdd_511_8 in memory.\n",
      "23/04/11 23:40:45 WARN MemoryStore: Not enough space to cache rdd_511_3 in memory! (computed 5.6 MiB so far)\n",
      "23/04/11 23:40:45 WARN MemoryStore: Not enough space to cache rdd_511_2 in memory! (computed 8.4 MiB so far)\n",
      "23/04/11 23:40:45 WARN MemoryStore: Not enough space to cache rdd_511_9 in memory! (computed 384.0 B so far)\n",
      "23/04/11 23:40:45 WARN MemoryStore: Not enough space to cache rdd_511_8 in memory! (computed 384.0 B so far)\n",
      "23/04/11 23:40:45 WARN MemoryStore: Not enough space to cache rdd_511_6 in memory! (computed 5.6 MiB so far)\n",
      "23/04/11 23:40:45 WARN MemoryStore: Not enough space to cache rdd_511_7 in memory! (computed 13.1 MiB so far)\n",
      "23/04/11 23:40:45 WARN MemoryStore: Not enough space to cache rdd_511_1 in memory! (computed 13.1 MiB so far)\n",
      "23/04/11 23:40:45 WARN MemoryStore: Not enough space to cache rdd_511_0 in memory! (computed 13.1 MiB so far)\n"
     ]
    },
    {
     "name": "stderr",
     "output_type": "stream",
     "text": [
      "[Stage 310:======>                                                 (2 + 8) / 17]\r"
     ]
    },
    {
     "name": "stdout",
     "output_type": "stream",
     "text": [
      "23/04/11 23:40:46 WARN MemoryStore: Not enough space to cache rdd_511_12 in memory! (computed 13.1 MiB so far)\n",
      "23/04/11 23:40:46 WARN MemoryStore: Not enough space to cache rdd_511_14 in memory! (computed 13.1 MiB so far)\n",
      "23/04/11 23:40:46 WARN MemoryStore: Not enough space to cache rdd_511_11 in memory! (computed 13.1 MiB so far)\n"
     ]
    },
    {
     "name": "stderr",
     "output_type": "stream",
     "text": [
      "                                                                                \r"
     ]
    },
    {
     "name": "stdout",
     "output_type": "stream",
     "text": [
      "23/04/11 23:40:47 WARN MemoryStore: Not enough space to cache rdd_511_3 in memory! (computed 5.6 MiB so far)\n",
      "23/04/11 23:40:47 WARN MemoryStore: Not enough space to cache rdd_511_7 in memory! (computed 5.6 MiB so far)\n",
      "23/04/11 23:40:47 WARN MemoryStore: Not enough space to cache rdd_511_1 in memory! (computed 8.4 MiB so far)\n",
      "23/04/11 23:40:47 WARN MemoryStore: Failed to reserve initial memory threshold of 1024.0 KiB for computing block rdd_511_9 in memory.\n",
      "23/04/11 23:40:47 WARN MemoryStore: Failed to reserve initial memory threshold of 1024.0 KiB for computing block rdd_511_8 in memory.\n",
      "23/04/11 23:40:47 WARN MemoryStore: Not enough space to cache rdd_511_9 in memory! (computed 384.0 B so far)\n",
      "23/04/11 23:40:47 WARN MemoryStore: Not enough space to cache rdd_511_8 in memory! (computed 384.0 B so far)\n",
      "23/04/11 23:40:47 WARN MemoryStore: Not enough space to cache rdd_511_0 in memory! (computed 8.4 MiB so far)\n",
      "23/04/11 23:40:47 WARN MemoryStore: Not enough space to cache rdd_511_2 in memory! (computed 19.6 MiB so far)\n",
      "23/04/11 23:40:47 WARN MemoryStore: Not enough space to cache rdd_511_6 in memory! (computed 19.6 MiB so far)\n"
     ]
    },
    {
     "name": "stderr",
     "output_type": "stream",
     "text": [
      "[Stage 312:=============================================>         (14 + 3) / 17]\r"
     ]
    },
    {
     "name": "stdout",
     "output_type": "stream",
     "text": [
      "23/04/11 23:40:48 WARN MemoryStore: Not enough space to cache rdd_511_14 in memory! (computed 8.4 MiB so far)\n",
      "23/04/11 23:40:48 WARN MemoryStore: Not enough space to cache rdd_511_11 in memory! (computed 13.1 MiB so far)\n",
      "23/04/11 23:40:48 WARN MemoryStore: Not enough space to cache rdd_511_12 in memory! (computed 44.2 MiB so far)\n"
     ]
    },
    {
     "name": "stderr",
     "output_type": "stream",
     "text": [
      "                                                                                \r"
     ]
    },
    {
     "name": "stdout",
     "output_type": "stream",
     "text": [
      "23/04/11 23:40:48 WARN MemoryStore: Failed to reserve initial memory threshold of 1024.0 KiB for computing block rdd_511_9 in memory.\n",
      "23/04/11 23:40:48 WARN MemoryStore: Not enough space to cache rdd_511_0 in memory! (computed 8.4 MiB so far)\n",
      "23/04/11 23:40:48 WARN MemoryStore: Failed to reserve initial memory threshold of 1024.0 KiB for computing block rdd_511_8 in memory.\n",
      "23/04/11 23:40:48 WARN MemoryStore: Not enough space to cache rdd_511_7 in memory! (computed 5.6 MiB so far)\n",
      "23/04/11 23:40:48 WARN MemoryStore: Not enough space to cache rdd_511_2 in memory! (computed 5.6 MiB so far)\n",
      "23/04/11 23:40:48 WARN MemoryStore: Not enough space to cache rdd_511_8 in memory! (computed 384.0 B so far)\n",
      "23/04/11 23:40:48 WARN MemoryStore: Not enough space to cache rdd_511_9 in memory! (computed 384.0 B so far)\n",
      "23/04/11 23:40:48 WARN MemoryStore: Not enough space to cache rdd_511_3 in memory! (computed 13.1 MiB so far)\n",
      "23/04/11 23:40:48 WARN MemoryStore: Not enough space to cache rdd_511_1 in memory! (computed 13.1 MiB so far)\n"
     ]
    },
    {
     "name": "stderr",
     "output_type": "stream",
     "text": [
      "[Stage 314:======>                                                 (2 + 8) / 17]\r"
     ]
    },
    {
     "name": "stdout",
     "output_type": "stream",
     "text": [
      "23/04/11 23:40:49 WARN MemoryStore: Not enough space to cache rdd_511_6 in memory! (computed 44.2 MiB so far)\n"
     ]
    },
    {
     "name": "stderr",
     "output_type": "stream",
     "text": [
      "[Stage 314:===================================>                   (11 + 6) / 17]\r"
     ]
    },
    {
     "name": "stdout",
     "output_type": "stream",
     "text": [
      "23/04/11 23:40:49 WARN MemoryStore: Not enough space to cache rdd_511_12 in memory! (computed 13.1 MiB so far)\n",
      "23/04/11 23:40:49 WARN MemoryStore: Not enough space to cache rdd_511_14 in memory! (computed 13.1 MiB so far)\n"
     ]
    },
    {
     "name": "stderr",
     "output_type": "stream",
     "text": [
      "[Stage 314:=============================================>         (14 + 3) / 17]\r"
     ]
    },
    {
     "name": "stdout",
     "output_type": "stream",
     "text": [
      "23/04/11 23:40:50 WARN MemoryStore: Not enough space to cache rdd_511_11 in memory! (computed 44.2 MiB so far)\n"
     ]
    },
    {
     "name": "stderr",
     "output_type": "stream",
     "text": [
      "                                                                                \r"
     ]
    },
    {
     "name": "stdout",
     "output_type": "stream",
     "text": [
      "23/04/11 23:40:50 WARN MemoryStore: Not enough space to cache rdd_511_3 in memory! (computed 5.6 MiB so far)\n",
      "23/04/11 23:40:50 WARN MemoryStore: Not enough space to cache rdd_511_7 in memory! (computed 5.6 MiB so far)\n",
      "23/04/11 23:40:50 WARN MemoryStore: Not enough space to cache rdd_511_2 in memory! (computed 8.4 MiB so far)\n",
      "23/04/11 23:40:50 WARN MemoryStore: Not enough space to cache rdd_511_6 in memory! (computed 8.4 MiB so far)\n",
      "23/04/11 23:40:50 WARN MemoryStore: Not enough space to cache rdd_511_1 in memory! (computed 13.1 MiB so far)\n",
      "23/04/11 23:40:50 WARN MemoryStore: Not enough space to cache rdd_511_0 in memory! (computed 19.6 MiB so far)\n",
      "23/04/11 23:40:50 WARN MemoryStore: Not enough space to cache rdd_511_9 in memory! (computed 8.4 MiB so far)\n",
      "23/04/11 23:40:50 WARN MemoryStore: Not enough space to cache rdd_511_8 in memory! (computed 13.1 MiB so far)\n"
     ]
    },
    {
     "name": "stderr",
     "output_type": "stream",
     "text": [
      "[Stage 316:======================================>                (12 + 5) / 17]\r"
     ]
    },
    {
     "name": "stdout",
     "output_type": "stream",
     "text": [
      "23/04/11 23:40:51 WARN MemoryStore: Not enough space to cache rdd_511_14 in memory! (computed 8.4 MiB so far)\n",
      "23/04/11 23:40:51 WARN MemoryStore: Not enough space to cache rdd_511_12 in memory! (computed 13.1 MiB so far)\n"
     ]
    },
    {
     "name": "stderr",
     "output_type": "stream",
     "text": [
      "[Stage 316:=============================================>         (14 + 3) / 17]\r"
     ]
    },
    {
     "name": "stdout",
     "output_type": "stream",
     "text": [
      "23/04/11 23:40:51 WARN MemoryStore: Not enough space to cache rdd_511_11 in memory! (computed 44.2 MiB so far)\n"
     ]
    },
    {
     "name": "stderr",
     "output_type": "stream",
     "text": [
      "                                                                                \r"
     ]
    },
    {
     "name": "stdout",
     "output_type": "stream",
     "text": [
      "23/04/11 23:40:52 WARN MemoryStore: Not enough space to cache rdd_511_6 in memory! (computed 5.6 MiB so far)\n",
      "23/04/11 23:40:52 WARN MemoryStore: Not enough space to cache rdd_511_1 in memory! (computed 5.6 MiB so far)\n",
      "23/04/11 23:40:52 WARN MemoryStore: Not enough space to cache rdd_511_8 in memory! (computed 1673.8 KiB so far)\n",
      "23/04/11 23:40:52 WARN MemoryStore: Not enough space to cache rdd_511_0 in memory! (computed 8.4 MiB so far)\n",
      "23/04/11 23:40:52 WARN MemoryStore: Not enough space to cache rdd_511_7 in memory! (computed 8.4 MiB so far)\n",
      "23/04/11 23:40:52 WARN MemoryStore: Not enough space to cache rdd_511_2 in memory! (computed 13.1 MiB so far)\n",
      "23/04/11 23:40:52 WARN MemoryStore: Not enough space to cache rdd_511_9 in memory! (computed 13.1 MiB so far)\n"
     ]
    },
    {
     "name": "stderr",
     "output_type": "stream",
     "text": [
      "[Stage 318:======>                                                 (2 + 8) / 17]\r"
     ]
    },
    {
     "name": "stdout",
     "output_type": "stream",
     "text": [
      "23/04/11 23:40:52 WARN MemoryStore: Not enough space to cache rdd_511_3 in memory! (computed 44.2 MiB so far)\n"
     ]
    },
    {
     "name": "stderr",
     "output_type": "stream",
     "text": [
      "[Stage 318:=============================================>         (14 + 3) / 17]\r"
     ]
    },
    {
     "name": "stdout",
     "output_type": "stream",
     "text": [
      "23/04/11 23:40:52 WARN MemoryStore: Not enough space to cache rdd_511_14 in memory! (computed 8.4 MiB so far)\n",
      "23/04/11 23:40:52 WARN MemoryStore: Not enough space to cache rdd_511_12 in memory! (computed 13.1 MiB so far)\n",
      "23/04/11 23:40:53 WARN MemoryStore: Not enough space to cache rdd_511_11 in memory! (computed 44.2 MiB so far)\n"
     ]
    },
    {
     "name": "stderr",
     "output_type": "stream",
     "text": [
      "                                                                                \r"
     ]
    },
    {
     "name": "stdout",
     "output_type": "stream",
     "text": [
      "23/04/11 23:40:53 WARN MemoryStore: Not enough space to cache rdd_511_3 in memory! (computed 5.6 MiB so far)\n",
      "23/04/11 23:40:53 WARN MemoryStore: Failed to reserve initial memory threshold of 1024.0 KiB for computing block rdd_511_9 in memory.\n",
      "23/04/11 23:40:53 WARN MemoryStore: Not enough space to cache rdd_511_9 in memory! (computed 384.0 B so far)\n",
      "23/04/11 23:40:53 WARN MemoryStore: Not enough space to cache rdd_511_7 in memory! (computed 8.4 MiB so far)\n",
      "23/04/11 23:40:53 WARN MemoryStore: Not enough space to cache rdd_511_8 in memory! (computed 1028.2 KiB so far)\n",
      "23/04/11 23:40:53 WARN MemoryStore: Not enough space to cache rdd_511_2 in memory! (computed 5.6 MiB so far)\n",
      "23/04/11 23:40:53 WARN MemoryStore: Not enough space to cache rdd_511_6 in memory! (computed 13.1 MiB so far)\n",
      "23/04/11 23:40:53 WARN MemoryStore: Not enough space to cache rdd_511_0 in memory! (computed 19.6 MiB so far)\n",
      "23/04/11 23:40:53 WARN MemoryStore: Not enough space to cache rdd_511_1 in memory! (computed 19.6 MiB so far)\n"
     ]
    },
    {
     "name": "stderr",
     "output_type": "stream",
     "text": [
      "[Stage 320:======>                                                 (2 + 8) / 17]\r"
     ]
    },
    {
     "name": "stdout",
     "output_type": "stream",
     "text": [
      "23/04/11 23:40:54 WARN MemoryStore: Not enough space to cache rdd_511_11 in memory! (computed 13.1 MiB so far)\n",
      "23/04/11 23:40:54 WARN MemoryStore: Not enough space to cache rdd_511_14 in memory! (computed 13.1 MiB so far)\n"
     ]
    },
    {
     "name": "stderr",
     "output_type": "stream",
     "text": [
      "[Stage 320:=============================================>         (14 + 3) / 17]\r"
     ]
    },
    {
     "name": "stdout",
     "output_type": "stream",
     "text": [
      "23/04/11 23:40:54 WARN MemoryStore: Not enough space to cache rdd_511_12 in memory! (computed 44.2 MiB so far)\n"
     ]
    },
    {
     "name": "stderr",
     "output_type": "stream",
     "text": [
      "                                                                                \r"
     ]
    },
    {
     "name": "stdout",
     "output_type": "stream",
     "text": [
      "23/04/11 23:40:55 WARN MemoryStore: Not enough space to cache rdd_511_2 in memory! (computed 5.6 MiB so far)\n",
      "23/04/11 23:40:55 WARN MemoryStore: Not enough space to cache rdd_511_0 in memory! (computed 5.6 MiB so far)\n",
      "23/04/11 23:40:55 WARN MemoryStore: Not enough space to cache rdd_511_3 in memory! (computed 8.4 MiB so far)\n",
      "23/04/11 23:40:55 WARN MemoryStore: Not enough space to cache rdd_511_6 in memory! (computed 13.1 MiB so far)\n",
      "23/04/11 23:40:55 WARN MemoryStore: Not enough space to cache rdd_511_7 in memory! (computed 13.1 MiB so far)\n",
      "23/04/11 23:40:55 WARN MemoryStore: Not enough space to cache rdd_511_1 in memory! (computed 13.1 MiB so far)\n",
      "23/04/11 23:40:55 WARN MemoryStore: Not enough space to cache rdd_511_8 in memory! (computed 19.6 MiB so far)\n"
     ]
    },
    {
     "name": "stderr",
     "output_type": "stream",
     "text": [
      "[Stage 322:=======================>                                (7 + 8) / 17]\r"
     ]
    },
    {
     "name": "stdout",
     "output_type": "stream",
     "text": [
      "23/04/11 23:40:55 WARN MemoryStore: Not enough space to cache rdd_511_9 in memory! (computed 44.2 MiB so far)\n",
      "23/04/11 23:40:55 WARN MemoryStore: Failed to reserve initial memory threshold of 1024.0 KiB for computing block rdd_511_11 in memory.\n",
      "23/04/11 23:40:55 WARN MemoryStore: Failed to reserve initial memory threshold of 1024.0 KiB for computing block rdd_511_12 in memory.\n",
      "23/04/11 23:40:55 WARN MemoryStore: Not enough space to cache rdd_511_11 in memory! (computed 384.0 B so far)\n",
      "23/04/11 23:40:55 WARN MemoryStore: Not enough space to cache rdd_511_12 in memory! (computed 384.0 B so far)\n",
      "23/04/11 23:40:55 WARN MemoryStore: Failed to reserve initial memory threshold of 1024.0 KiB for computing block rdd_511_14 in memory.\n",
      "23/04/11 23:40:55 WARN MemoryStore: Not enough space to cache rdd_511_14 in memory! (computed 384.0 B so far)\n"
     ]
    },
    {
     "name": "stderr",
     "output_type": "stream",
     "text": [
      "                                                                                \r"
     ]
    },
    {
     "name": "stdout",
     "output_type": "stream",
     "text": [
      "23/04/11 23:40:56 WARN MemoryStore: Not enough space to cache rdd_511_3 in memory! (computed 5.6 MiB so far)\n",
      "23/04/11 23:40:56 WARN MemoryStore: Not enough space to cache rdd_511_2 in memory! (computed 8.4 MiB so far)\n",
      "23/04/11 23:40:56 WARN MemoryStore: Not enough space to cache rdd_511_7 in memory! (computed 8.4 MiB so far)\n",
      "23/04/11 23:40:56 WARN MemoryStore: Not enough space to cache rdd_511_0 in memory! (computed 13.1 MiB so far)\n",
      "23/04/11 23:40:56 WARN MemoryStore: Not enough space to cache rdd_511_1 in memory! (computed 13.1 MiB so far)\n",
      "23/04/11 23:40:56 WARN MemoryStore: Not enough space to cache rdd_511_8 in memory! (computed 8.4 MiB so far)\n",
      "23/04/11 23:40:56 WARN MemoryStore: Not enough space to cache rdd_511_9 in memory! (computed 13.1 MiB so far)\n"
     ]
    },
    {
     "name": "stderr",
     "output_type": "stream",
     "text": [
      "[Stage 324:======>                                                 (2 + 8) / 17]\r"
     ]
    },
    {
     "name": "stdout",
     "output_type": "stream",
     "text": [
      "23/04/11 23:40:57 WARN MemoryStore: Not enough space to cache rdd_511_6 in memory! (computed 44.2 MiB so far)\n"
     ]
    },
    {
     "name": "stderr",
     "output_type": "stream",
     "text": [
      "[Stage 324:==========================================>            (13 + 4) / 17]\r"
     ]
    },
    {
     "name": "stdout",
     "output_type": "stream",
     "text": [
      "23/04/11 23:40:57 WARN MemoryStore: Not enough space to cache rdd_511_12 in memory! (computed 13.1 MiB so far)\n",
      "23/04/11 23:40:57 WARN MemoryStore: Not enough space to cache rdd_511_14 in memory! (computed 13.1 MiB so far)\n"
     ]
    },
    {
     "name": "stderr",
     "output_type": "stream",
     "text": [
      "[Stage 324:=============================================>         (14 + 3) / 17]\r"
     ]
    },
    {
     "name": "stdout",
     "output_type": "stream",
     "text": [
      "23/04/11 23:40:57 WARN MemoryStore: Not enough space to cache rdd_511_11 in memory! (computed 44.2 MiB so far)\n"
     ]
    },
    {
     "name": "stderr",
     "output_type": "stream",
     "text": [
      "                                                                                \r"
     ]
    },
    {
     "name": "stdout",
     "output_type": "stream",
     "text": [
      "23/04/11 23:40:58 WARN MemoryStore: Not enough space to cache rdd_511_2 in memory! (computed 5.6 MiB so far)\n",
      "23/04/11 23:40:58 WARN MemoryStore: Not enough space to cache rdd_511_6 in memory! (computed 3.7 MiB so far)\n",
      "23/04/11 23:40:58 WARN MemoryStore: Not enough space to cache rdd_511_1 in memory! (computed 8.4 MiB so far)\n",
      "23/04/11 23:40:58 WARN MemoryStore: Not enough space to cache rdd_511_7 in memory! (computed 13.1 MiB so far)\n",
      "23/04/11 23:40:58 WARN MemoryStore: Not enough space to cache rdd_511_3 in memory! (computed 13.1 MiB so far)\n",
      "23/04/11 23:40:58 WARN MemoryStore: Not enough space to cache rdd_511_9 in memory! (computed 8.4 MiB so far)\n",
      "23/04/11 23:40:58 WARN MemoryStore: Not enough space to cache rdd_511_0 in memory! (computed 19.6 MiB so far)\n",
      "23/04/11 23:40:58 WARN MemoryStore: Not enough space to cache rdd_511_8 in memory! (computed 13.1 MiB so far)\n"
     ]
    },
    {
     "name": "stderr",
     "output_type": "stream",
     "text": [
      "[Stage 326:======================================>                (12 + 5) / 17]\r"
     ]
    },
    {
     "name": "stdout",
     "output_type": "stream",
     "text": [
      "23/04/11 23:40:59 WARN MemoryStore: Not enough space to cache rdd_511_12 in memory! (computed 8.4 MiB so far)\n",
      "23/04/11 23:40:59 WARN MemoryStore: Not enough space to cache rdd_511_11 in memory! (computed 19.6 MiB so far)\n"
     ]
    },
    {
     "name": "stderr",
     "output_type": "stream",
     "text": [
      "[Stage 326:=============================================>         (14 + 3) / 17]\r"
     ]
    },
    {
     "name": "stdout",
     "output_type": "stream",
     "text": [
      "23/04/11 23:41:00 WARN MemoryStore: Not enough space to cache rdd_511_14 in memory! (computed 44.2 MiB so far)\n"
     ]
    },
    {
     "name": "stderr",
     "output_type": "stream",
     "text": [
      "                                                                                \r"
     ]
    },
    {
     "name": "stdout",
     "output_type": "stream",
     "text": [
      "23/04/11 23:41:01 WARN MemoryStore: Not enough space to cache rdd_511_0 in memory! (computed 5.6 MiB so far)\n",
      "23/04/11 23:41:01 WARN MemoryStore: Not enough space to cache rdd_511_3 in memory! (computed 5.6 MiB so far)\n",
      "23/04/11 23:41:01 WARN MemoryStore: Not enough space to cache rdd_511_1 in memory! (computed 5.6 MiB so far)\n",
      "23/04/11 23:41:01 WARN MemoryStore: Not enough space to cache rdd_511_9 in memory! (computed 2.5 MiB so far)\n",
      "23/04/11 23:41:01 WARN MemoryStore: Not enough space to cache rdd_511_2 in memory! (computed 13.1 MiB so far)\n",
      "23/04/11 23:41:01 WARN MemoryStore: Not enough space to cache rdd_511_7 in memory! (computed 13.1 MiB so far)\n",
      "23/04/11 23:41:01 WARN MemoryStore: Not enough space to cache rdd_511_6 in memory! (computed 19.6 MiB so far)\n"
     ]
    },
    {
     "name": "stderr",
     "output_type": "stream",
     "text": [
      "[Stage 328:======>                                                 (2 + 8) / 17]\r"
     ]
    },
    {
     "name": "stdout",
     "output_type": "stream",
     "text": [
      "23/04/11 23:41:01 WARN MemoryStore: Not enough space to cache rdd_511_8 in memory! (computed 44.2 MiB so far)\n"
     ]
    },
    {
     "name": "stderr",
     "output_type": "stream",
     "text": [
      "[Stage 328:=============================================>         (14 + 3) / 17]\r"
     ]
    },
    {
     "name": "stdout",
     "output_type": "stream",
     "text": [
      "23/04/11 23:41:02 WARN MemoryStore: Not enough space to cache rdd_511_11 in memory! (computed 13.1 MiB so far)\n",
      "23/04/11 23:41:02 WARN MemoryStore: Not enough space to cache rdd_511_14 in memory! (computed 19.6 MiB so far)\n",
      "23/04/11 23:41:02 WARN MemoryStore: Not enough space to cache rdd_511_12 in memory! (computed 19.6 MiB so far)\n"
     ]
    },
    {
     "name": "stderr",
     "output_type": "stream",
     "text": [
      "                                                                                \r"
     ]
    },
    {
     "name": "stdout",
     "output_type": "stream",
     "text": [
      "23/04/11 23:41:02 WARN MemoryStore: Not enough space to cache rdd_511_1 in memory! (computed 5.6 MiB so far)\n",
      "23/04/11 23:41:02 WARN MemoryStore: Not enough space to cache rdd_511_2 in memory! (computed 5.6 MiB so far)\n",
      "23/04/11 23:41:02 WARN MemoryStore: Not enough space to cache rdd_511_3 in memory! (computed 5.6 MiB so far)\n",
      "23/04/11 23:41:03 WARN MemoryStore: Not enough space to cache rdd_511_8 in memory! (computed 3.7 MiB so far)\n",
      "23/04/11 23:41:03 WARN MemoryStore: Not enough space to cache rdd_511_9 in memory! (computed 2.5 MiB so far)\n",
      "23/04/11 23:41:03 WARN MemoryStore: Not enough space to cache rdd_511_0 in memory! (computed 13.1 MiB so far)\n",
      "23/04/11 23:41:03 WARN MemoryStore: Not enough space to cache rdd_511_6 in memory! (computed 13.1 MiB so far)\n",
      "23/04/11 23:41:03 WARN MemoryStore: Not enough space to cache rdd_511_7 in memory! (computed 13.1 MiB so far)\n"
     ]
    },
    {
     "name": "stderr",
     "output_type": "stream",
     "text": [
      "[Stage 330:===================================>                   (11 + 6) / 17]\r"
     ]
    },
    {
     "name": "stdout",
     "output_type": "stream",
     "text": [
      "23/04/11 23:41:03 WARN MemoryStore: Not enough space to cache rdd_511_14 in memory! (computed 8.4 MiB so far)\n",
      "23/04/11 23:41:03 WARN MemoryStore: Not enough space to cache rdd_511_11 in memory! (computed 19.6 MiB so far)\n"
     ]
    },
    {
     "name": "stderr",
     "output_type": "stream",
     "text": [
      "[Stage 330:=============================================>         (14 + 3) / 17]\r"
     ]
    },
    {
     "name": "stdout",
     "output_type": "stream",
     "text": [
      "23/04/11 23:41:04 WARN MemoryStore: Not enough space to cache rdd_511_12 in memory! (computed 44.2 MiB so far)\n"
     ]
    },
    {
     "name": "stderr",
     "output_type": "stream",
     "text": [
      "                                                                                \r"
     ]
    },
    {
     "name": "stdout",
     "output_type": "stream",
     "text": [
      "23/04/11 23:41:04 WARN MemoryStore: Not enough space to cache rdd_511_2 in memory! (computed 5.6 MiB so far)\n",
      "23/04/11 23:41:04 WARN MemoryStore: Not enough space to cache rdd_511_7 in memory! (computed 5.6 MiB so far)\n",
      "23/04/11 23:41:04 WARN MemoryStore: Not enough space to cache rdd_511_6 in memory! (computed 8.4 MiB so far)\n",
      "23/04/11 23:41:04 WARN MemoryStore: Not enough space to cache rdd_511_3 in memory! (computed 8.4 MiB so far)\n",
      "23/04/11 23:41:04 WARN MemoryStore: Not enough space to cache rdd_511_0 in memory! (computed 13.1 MiB so far)\n",
      "23/04/11 23:41:04 WARN MemoryStore: Not enough space to cache rdd_511_1 in memory! (computed 13.1 MiB so far)\n",
      "23/04/11 23:41:04 WARN MemoryStore: Not enough space to cache rdd_511_8 in memory! (computed 19.6 MiB so far)\n"
     ]
    },
    {
     "name": "stderr",
     "output_type": "stream",
     "text": [
      "[Stage 332:======>                                                 (2 + 8) / 17]\r"
     ]
    },
    {
     "name": "stdout",
     "output_type": "stream",
     "text": [
      "23/04/11 23:41:05 WARN MemoryStore: Not enough space to cache rdd_511_9 in memory! (computed 44.2 MiB so far)\n"
     ]
    },
    {
     "name": "stderr",
     "output_type": "stream",
     "text": [
      "[Stage 332:======================================>                (12 + 5) / 17]\r"
     ]
    },
    {
     "name": "stdout",
     "output_type": "stream",
     "text": [
      "23/04/11 23:41:05 WARN MemoryStore: Not enough space to cache rdd_511_14 in memory! (computed 8.4 MiB so far)\n",
      "23/04/11 23:41:05 WARN MemoryStore: Not enough space to cache rdd_511_11 in memory! (computed 19.6 MiB so far)\n"
     ]
    },
    {
     "name": "stderr",
     "output_type": "stream",
     "text": [
      "[Stage 332:=============================================>         (14 + 3) / 17]\r"
     ]
    },
    {
     "name": "stdout",
     "output_type": "stream",
     "text": [
      "23/04/11 23:41:05 WARN MemoryStore: Not enough space to cache rdd_511_12 in memory! (computed 44.2 MiB so far)\n"
     ]
    },
    {
     "name": "stderr",
     "output_type": "stream",
     "text": [
      "                                                                                \r"
     ]
    },
    {
     "name": "stdout",
     "output_type": "stream",
     "text": [
      "23/04/11 23:41:06 WARN MemoryStore: Failed to reserve initial memory threshold of 1024.0 KiB for computing block rdd_511_8 in memory.\n",
      "23/04/11 23:41:06 WARN MemoryStore: Not enough space to cache rdd_511_0 in memory! (computed 8.4 MiB so far)\n",
      "23/04/11 23:41:06 WARN MemoryStore: Not enough space to cache rdd_511_1 in memory! (computed 8.4 MiB so far)\n",
      "23/04/11 23:41:06 WARN MemoryStore: Not enough space to cache rdd_511_3 in memory! (computed 5.6 MiB so far)\n",
      "23/04/11 23:41:06 WARN MemoryStore: Not enough space to cache rdd_511_6 in memory! (computed 8.4 MiB so far)\n",
      "23/04/11 23:41:06 WARN MemoryStore: Not enough space to cache rdd_511_7 in memory! (computed 5.6 MiB so far)\n",
      "23/04/11 23:41:06 WARN MemoryStore: Not enough space to cache rdd_511_8 in memory! (computed 384.0 B so far)\n",
      "23/04/11 23:41:06 WARN MemoryStore: Not enough space to cache rdd_511_9 in memory! (computed 13.1 MiB so far)\n"
     ]
    },
    {
     "name": "stderr",
     "output_type": "stream",
     "text": [
      "[Stage 334:======>                                                 (2 + 8) / 17]\r"
     ]
    },
    {
     "name": "stdout",
     "output_type": "stream",
     "text": [
      "23/04/11 23:41:06 WARN MemoryStore: Not enough space to cache rdd_511_2 in memory! (computed 44.2 MiB so far)\n"
     ]
    },
    {
     "name": "stderr",
     "output_type": "stream",
     "text": [
      "[Stage 334:==========================>                             (8 + 8) / 17]\r"
     ]
    },
    {
     "name": "stdout",
     "output_type": "stream",
     "text": [
      "23/04/11 23:41:07 WARN MemoryStore: Not enough space to cache rdd_511_14 in memory! (computed 8.4 MiB so far)\n",
      "23/04/11 23:41:07 WARN MemoryStore: Not enough space to cache rdd_511_11 in memory! (computed 19.6 MiB so far)\n"
     ]
    },
    {
     "name": "stderr",
     "output_type": "stream",
     "text": [
      "[Stage 334:=============================================>         (14 + 3) / 17]\r"
     ]
    },
    {
     "name": "stdout",
     "output_type": "stream",
     "text": [
      "23/04/11 23:41:07 WARN MemoryStore: Not enough space to cache rdd_511_12 in memory! (computed 44.2 MiB so far)\n"
     ]
    },
    {
     "name": "stderr",
     "output_type": "stream",
     "text": [
      "                                                                                \r"
     ]
    },
    {
     "name": "stdout",
     "output_type": "stream",
     "text": [
      "23/04/11 23:41:08 WARN MemoryStore: Not enough space to cache rdd_511_2 in memory! (computed 8.4 MiB so far)\n",
      "23/04/11 23:41:08 WARN MemoryStore: Not enough space to cache rdd_511_7 in memory! (computed 8.4 MiB so far)\n",
      "23/04/11 23:41:08 WARN MemoryStore: Not enough space to cache rdd_511_1 in memory! (computed 5.6 MiB so far)\n",
      "23/04/11 23:41:08 WARN MemoryStore: Not enough space to cache rdd_511_6 in memory! (computed 13.1 MiB so far)\n",
      "23/04/11 23:41:08 WARN MemoryStore: Not enough space to cache rdd_511_8 in memory! (computed 2.5 MiB so far)\n",
      "23/04/11 23:41:08 WARN MemoryStore: Not enough space to cache rdd_511_9 in memory! (computed 3.7 MiB so far)\n",
      "23/04/11 23:41:08 WARN MemoryStore: Not enough space to cache rdd_511_0 in memory! (computed 19.6 MiB so far)\n",
      "23/04/11 23:41:08 WARN MemoryStore: Not enough space to cache rdd_511_3 in memory! (computed 19.6 MiB so far)\n"
     ]
    },
    {
     "name": "stderr",
     "output_type": "stream",
     "text": [
      "[Stage 336:================================>                      (10 + 7) / 17]\r"
     ]
    },
    {
     "name": "stdout",
     "output_type": "stream",
     "text": [
      "23/04/11 23:41:09 WARN MemoryStore: Not enough space to cache rdd_511_14 in memory! (computed 13.1 MiB so far)\n",
      "23/04/11 23:41:09 WARN MemoryStore: Not enough space to cache rdd_511_11 in memory! (computed 13.1 MiB so far)\n",
      "23/04/11 23:41:09 WARN MemoryStore: Not enough space to cache rdd_511_12 in memory! (computed 13.1 MiB so far)\n"
     ]
    },
    {
     "name": "stderr",
     "output_type": "stream",
     "text": [
      "                                                                                \r"
     ]
    },
    {
     "name": "stdout",
     "output_type": "stream",
     "text": [
      "23/04/11 23:41:10 WARN MemoryStore: Not enough space to cache rdd_511_0 in memory! (computed 5.6 MiB so far)\n",
      "23/04/11 23:41:10 WARN MemoryStore: Not enough space to cache rdd_511_6 in memory! (computed 5.6 MiB so far)\n",
      "23/04/11 23:41:10 WARN MemoryStore: Not enough space to cache rdd_511_8 in memory! (computed 1673.8 KiB so far)\n",
      "23/04/11 23:41:10 WARN MemoryStore: Not enough space to cache rdd_511_3 in memory! (computed 8.4 MiB so far)\n",
      "23/04/11 23:41:10 WARN MemoryStore: Not enough space to cache rdd_511_9 in memory! (computed 1028.2 KiB so far)\n",
      "23/04/11 23:41:10 WARN MemoryStore: Not enough space to cache rdd_511_7 in memory! (computed 13.1 MiB so far)\n",
      "23/04/11 23:41:10 WARN MemoryStore: Not enough space to cache rdd_511_2 in memory! (computed 13.1 MiB so far)\n"
     ]
    },
    {
     "name": "stderr",
     "output_type": "stream",
     "text": [
      "[Stage 338:======>                                                 (2 + 8) / 17]\r"
     ]
    },
    {
     "name": "stdout",
     "output_type": "stream",
     "text": [
      "23/04/11 23:41:10 WARN MemoryStore: Not enough space to cache rdd_511_1 in memory! (computed 44.2 MiB so far)\n"
     ]
    },
    {
     "name": "stderr",
     "output_type": "stream",
     "text": [
      "[Stage 338:======================================>                (12 + 5) / 17]\r"
     ]
    },
    {
     "name": "stdout",
     "output_type": "stream",
     "text": [
      "23/04/11 23:41:11 WARN MemoryStore: Not enough space to cache rdd_511_11 in memory! (computed 13.1 MiB so far)\n",
      "23/04/11 23:41:11 WARN MemoryStore: Not enough space to cache rdd_511_12 in memory! (computed 13.1 MiB so far)\n"
     ]
    },
    {
     "name": "stderr",
     "output_type": "stream",
     "text": [
      "[Stage 338:=============================================>         (14 + 3) / 17]\r"
     ]
    },
    {
     "name": "stdout",
     "output_type": "stream",
     "text": [
      "23/04/11 23:41:11 WARN MemoryStore: Not enough space to cache rdd_511_14 in memory! (computed 44.2 MiB so far)\n"
     ]
    },
    {
     "name": "stderr",
     "output_type": "stream",
     "text": [
      "                                                                                \r"
     ]
    },
    {
     "name": "stdout",
     "output_type": "stream",
     "text": [
      "23/04/11 23:41:11 WARN MemoryStore: Not enough space to cache rdd_511_7 in memory! (computed 5.6 MiB so far)\n",
      "23/04/11 23:41:11 WARN MemoryStore: Failed to reserve initial memory threshold of 1024.0 KiB for computing block rdd_511_8 in memory.\n",
      "23/04/11 23:41:11 WARN MemoryStore: Not enough space to cache rdd_511_3 in memory! (computed 5.6 MiB so far)\n",
      "23/04/11 23:41:11 WARN MemoryStore: Failed to reserve initial memory threshold of 1024.0 KiB for computing block rdd_511_9 in memory.\n",
      "23/04/11 23:41:11 WARN MemoryStore: Not enough space to cache rdd_511_8 in memory! (computed 384.0 B so far)\n",
      "23/04/11 23:41:11 WARN MemoryStore: Not enough space to cache rdd_511_9 in memory! (computed 384.0 B so far)\n",
      "23/04/11 23:41:11 WARN MemoryStore: Not enough space to cache rdd_511_2 in memory! (computed 8.4 MiB so far)\n",
      "23/04/11 23:41:11 WARN MemoryStore: Not enough space to cache rdd_511_1 in memory! (computed 13.1 MiB so far)\n",
      "23/04/11 23:41:11 WARN MemoryStore: Not enough space to cache rdd_511_6 in memory! (computed 13.1 MiB so far)\n",
      "23/04/11 23:41:11 WARN MemoryStore: Not enough space to cache rdd_511_0 in memory! (computed 13.1 MiB so far)\n"
     ]
    },
    {
     "name": "stderr",
     "output_type": "stream",
     "text": [
      "[Stage 340:==========================>                             (8 + 8) / 17]\r"
     ]
    },
    {
     "name": "stdout",
     "output_type": "stream",
     "text": [
      "23/04/11 23:41:12 WARN MemoryStore: Not enough space to cache rdd_511_14 in memory! (computed 8.4 MiB so far)\n",
      "23/04/11 23:41:12 WARN MemoryStore: Not enough space to cache rdd_511_11 in memory! (computed 19.6 MiB so far)\n"
     ]
    },
    {
     "name": "stderr",
     "output_type": "stream",
     "text": [
      "[Stage 340:=============================================>         (14 + 3) / 17]\r"
     ]
    },
    {
     "name": "stdout",
     "output_type": "stream",
     "text": [
      "23/04/11 23:41:13 WARN MemoryStore: Not enough space to cache rdd_511_12 in memory! (computed 44.2 MiB so far)\n"
     ]
    },
    {
     "name": "stderr",
     "output_type": "stream",
     "text": [
      "                                                                                \r"
     ]
    },
    {
     "name": "stdout",
     "output_type": "stream",
     "text": [
      "23/04/11 23:41:13 WARN MemoryStore: Not enough space to cache rdd_511_3 in memory! (computed 5.6 MiB so far)\n",
      "23/04/11 23:41:13 WARN MemoryStore: Not enough space to cache rdd_511_1 in memory! (computed 5.6 MiB so far)\n",
      "23/04/11 23:41:13 WARN MemoryStore: Not enough space to cache rdd_511_2 in memory! (computed 8.4 MiB so far)\n",
      "23/04/11 23:41:13 WARN MemoryStore: Not enough space to cache rdd_511_0 in memory! (computed 8.4 MiB so far)\n",
      "23/04/11 23:41:13 WARN MemoryStore: Not enough space to cache rdd_511_7 in memory! (computed 13.1 MiB so far)\n",
      "23/04/11 23:41:13 WARN MemoryStore: Not enough space to cache rdd_511_6 in memory! (computed 19.6 MiB so far)\n",
      "23/04/11 23:41:13 WARN MemoryStore: Not enough space to cache rdd_511_9 in memory! (computed 8.4 MiB so far)\n"
     ]
    },
    {
     "name": "stderr",
     "output_type": "stream",
     "text": [
      "[Stage 342:======>                                                 (2 + 8) / 17]\r"
     ]
    },
    {
     "name": "stdout",
     "output_type": "stream",
     "text": [
      "23/04/11 23:41:13 WARN MemoryStore: Not enough space to cache rdd_511_8 in memory! (computed 44.2 MiB so far)\n"
     ]
    },
    {
     "name": "stderr",
     "output_type": "stream",
     "text": [
      "[Stage 342:======================================>                (12 + 5) / 17]\r"
     ]
    },
    {
     "name": "stdout",
     "output_type": "stream",
     "text": [
      "23/04/11 23:41:14 WARN MemoryStore: Not enough space to cache rdd_511_12 in memory! (computed 13.1 MiB so far)\n",
      "23/04/11 23:41:14 WARN MemoryStore: Not enough space to cache rdd_511_11 in memory! (computed 13.1 MiB so far)\n"
     ]
    },
    {
     "name": "stderr",
     "output_type": "stream",
     "text": [
      "[Stage 342:=============================================>         (14 + 3) / 17]\r"
     ]
    },
    {
     "name": "stdout",
     "output_type": "stream",
     "text": [
      "23/04/11 23:41:14 WARN MemoryStore: Not enough space to cache rdd_511_14 in memory! (computed 44.2 MiB so far)\n"
     ]
    },
    {
     "name": "stderr",
     "output_type": "stream",
     "text": [
      "                                                                                \r"
     ]
    },
    {
     "name": "stdout",
     "output_type": "stream",
     "text": [
      "23/04/11 23:41:15 WARN MemoryStore: Not enough space to cache rdd_511_2 in memory! (computed 8.4 MiB so far)\n",
      "23/04/11 23:41:15 WARN MemoryStore: Not enough space to cache rdd_511_3 in memory! (computed 3.7 MiB so far)\n",
      "23/04/11 23:41:15 WARN MemoryStore: Not enough space to cache rdd_511_8 in memory! (computed 1673.8 KiB so far)\n",
      "23/04/11 23:41:15 WARN MemoryStore: Not enough space to cache rdd_511_0 in memory! (computed 8.4 MiB so far)\n",
      "23/04/11 23:41:15 WARN MemoryStore: Failed to reserve initial memory threshold of 1024.0 KiB for computing block rdd_511_9 in memory.\n",
      "23/04/11 23:41:15 WARN MemoryStore: Not enough space to cache rdd_511_9 in memory! (computed 384.0 B so far)\n",
      "23/04/11 23:41:15 WARN MemoryStore: Not enough space to cache rdd_511_6 in memory! (computed 13.1 MiB so far)\n",
      "23/04/11 23:41:15 WARN MemoryStore: Not enough space to cache rdd_511_7 in memory! (computed 8.4 MiB so far)\n"
     ]
    },
    {
     "name": "stderr",
     "output_type": "stream",
     "text": [
      "[Stage 344:======>                                                 (2 + 8) / 17]\r"
     ]
    },
    {
     "name": "stdout",
     "output_type": "stream",
     "text": [
      "23/04/11 23:41:15 WARN MemoryStore: Not enough space to cache rdd_511_1 in memory! (computed 44.2 MiB so far)\n"
     ]
    },
    {
     "name": "stderr",
     "output_type": "stream",
     "text": [
      "[Stage 344:======>                                                (2 + 10) / 17]\r"
     ]
    },
    {
     "name": "stdout",
     "output_type": "stream",
     "text": [
      "23/04/11 23:41:16 WARN MemoryStore: Not enough space to cache rdd_511_14 in memory! (computed 8.4 MiB so far)\n",
      "23/04/11 23:41:16 WARN MemoryStore: Not enough space to cache rdd_511_12 in memory! (computed 19.6 MiB so far)\n"
     ]
    },
    {
     "name": "stderr",
     "output_type": "stream",
     "text": [
      "[Stage 344:=============================================>         (14 + 3) / 17]\r"
     ]
    },
    {
     "name": "stdout",
     "output_type": "stream",
     "text": [
      "23/04/11 23:41:16 WARN MemoryStore: Not enough space to cache rdd_511_11 in memory! (computed 44.2 MiB so far)\n"
     ]
    },
    {
     "name": "stderr",
     "output_type": "stream",
     "text": [
      "[Stage 349:>                                                       (0 + 8) / 17]\r"
     ]
    },
    {
     "name": "stdout",
     "output_type": "stream",
     "text": [
      "23/04/11 23:41:29 WARN MemoryStore: Not enough space to cache rdd_582_5 in memory! (computed 44.2 MiB so far)\n",
      "23/04/11 23:41:29 WARN BlockManager: Persisting block rdd_582_5 to disk instead.\n",
      "23/04/11 23:41:29 WARN MemoryStore: Not enough space to cache rdd_582_7 in memory! (computed 44.2 MiB so far)\n",
      "23/04/11 23:41:29 WARN BlockManager: Persisting block rdd_582_7 to disk instead.\n",
      "23/04/11 23:41:29 WARN MemoryStore: Not enough space to cache rdd_582_2 in memory! (computed 44.2 MiB so far)\n",
      "23/04/11 23:41:29 WARN BlockManager: Persisting block rdd_582_2 to disk instead.\n",
      "23/04/11 23:41:29 WARN MemoryStore: Not enough space to cache rdd_582_3 in memory! (computed 44.2 MiB so far)\n",
      "23/04/11 23:41:29 WARN BlockManager: Persisting block rdd_582_3 to disk instead.\n",
      "23/04/11 23:41:29 WARN MemoryStore: Not enough space to cache rdd_582_0 in memory! (computed 44.2 MiB so far)\n",
      "23/04/11 23:41:29 WARN BlockManager: Persisting block rdd_582_0 to disk instead.\n",
      "23/04/11 23:41:30 WARN MemoryStore: Not enough space to cache rdd_582_4 in memory! (computed 44.2 MiB so far)\n",
      "23/04/11 23:41:30 WARN BlockManager: Persisting block rdd_582_4 to disk instead.\n",
      "23/04/11 23:41:30 WARN MemoryStore: Not enough space to cache rdd_582_6 in memory! (computed 44.2 MiB so far)\n",
      "23/04/11 23:41:30 WARN BlockManager: Persisting block rdd_582_6 to disk instead.\n",
      "23/04/11 23:41:30 WARN MemoryStore: Not enough space to cache rdd_582_1 in memory! (computed 44.2 MiB so far)\n",
      "23/04/11 23:41:30 WARN BlockManager: Persisting block rdd_582_1 to disk instead.\n",
      "23/04/11 23:41:33 WARN MemoryStore: Not enough space to cache rdd_582_3 in memory! (computed 44.2 MiB so far)\n",
      "23/04/11 23:41:33 WARN MemoryStore: Not enough space to cache rdd_582_5 in memory! (computed 29.5 MiB so far)\n",
      "23/04/11 23:41:33 WARN MemoryStore: Not enough space to cache rdd_582_4 in memory! (computed 29.5 MiB so far)\n"
     ]
    },
    {
     "name": "stderr",
     "output_type": "stream",
     "text": [
      "[Stage 349:==========================>                             (8 + 8) / 17]\r"
     ]
    },
    {
     "name": "stdout",
     "output_type": "stream",
     "text": [
      "23/04/11 23:41:35 WARN MemoryStore: Not enough space to cache rdd_582_11 in memory! (computed 5.6 MiB so far)\n",
      "23/04/11 23:41:35 WARN BlockManager: Persisting block rdd_582_11 to disk instead.\n",
      "23/04/11 23:41:35 WARN MemoryStore: Not enough space to cache rdd_582_13 in memory! (computed 5.6 MiB so far)\n",
      "23/04/11 23:41:35 WARN BlockManager: Persisting block rdd_582_13 to disk instead.\n",
      "23/04/11 23:41:35 WARN MemoryStore: Not enough space to cache rdd_582_14 in memory! (computed 5.6 MiB so far)\n",
      "23/04/11 23:41:35 WARN BlockManager: Persisting block rdd_582_14 to disk instead.\n",
      "23/04/11 23:41:35 WARN MemoryStore: Not enough space to cache rdd_582_8 in memory! (computed 5.6 MiB so far)\n",
      "23/04/11 23:41:35 WARN BlockManager: Persisting block rdd_582_8 to disk instead.\n",
      "23/04/11 23:41:35 WARN MemoryStore: Not enough space to cache rdd_582_10 in memory! (computed 5.6 MiB so far)\n",
      "23/04/11 23:41:35 WARN BlockManager: Persisting block rdd_582_10 to disk instead.\n",
      "23/04/11 23:41:35 WARN MemoryStore: Not enough space to cache rdd_582_9 in memory! (computed 5.6 MiB so far)\n",
      "23/04/11 23:41:35 WARN BlockManager: Persisting block rdd_582_9 to disk instead.\n",
      "23/04/11 23:41:36 WARN MemoryStore: Not enough space to cache rdd_582_15 in memory! (computed 19.6 MiB so far)\n",
      "23/04/11 23:41:36 WARN BlockManager: Persisting block rdd_582_15 to disk instead.\n",
      "23/04/11 23:41:39 WARN MemoryStore: Not enough space to cache rdd_582_12 in memory! (computed 44.2 MiB so far)\n",
      "23/04/11 23:41:39 WARN BlockManager: Persisting block rdd_582_12 to disk instead.\n",
      "23/04/11 23:41:42 WARN MemoryStore: Not enough space to cache rdd_582_13 in memory! (computed 19.6 MiB so far)\n",
      "23/04/11 23:41:42 WARN MemoryStore: Not enough space to cache rdd_582_12 in memory! (computed 19.6 MiB so far)\n",
      "23/04/11 23:41:42 WARN MemoryStore: Not enough space to cache rdd_582_15 in memory! (computed 5.6 MiB so far)\n",
      "23/04/11 23:41:42 WARN MemoryStore: Not enough space to cache rdd_582_10 in memory! (computed 8.4 MiB so far)\n",
      "23/04/11 23:41:42 WARN MemoryStore: Not enough space to cache rdd_582_11 in memory! (computed 8.4 MiB so far)\n",
      "23/04/11 23:41:42 WARN MemoryStore: Not enough space to cache rdd_582_14 in memory! (computed 13.1 MiB so far)\n",
      "23/04/11 23:41:43 WARN MemoryStore: Not enough space to cache rdd_582_8 in memory! (computed 19.6 MiB so far)\n",
      "23/04/11 23:41:43 WARN MemoryStore: Not enough space to cache rdd_582_9 in memory! (computed 44.2 MiB so far)\n"
     ]
    },
    {
     "name": "stderr",
     "output_type": "stream",
     "text": [
      "                                                                                \r"
     ]
    },
    {
     "name": "stdout",
     "output_type": "stream",
     "text": [
      "23/04/11 23:41:44 WARN MemoryStore: Not enough space to cache rdd_582_11 in memory! (computed 2.5 MiB so far)\n",
      "23/04/11 23:41:44 WARN MemoryStore: Not enough space to cache rdd_582_4 in memory! (computed 8.4 MiB so far)\n",
      "23/04/11 23:41:44 WARN MemoryStore: Not enough space to cache rdd_582_5 in memory! (computed 13.1 MiB so far)\n",
      "23/04/11 23:41:44 WARN MemoryStore: Not enough space to cache rdd_582_3 in memory! (computed 8.4 MiB so far)\n",
      "23/04/11 23:41:44 WARN MemoryStore: Not enough space to cache rdd_582_12 in memory! (computed 2.5 MiB so far)\n",
      "23/04/11 23:41:44 WARN MemoryStore: Not enough space to cache rdd_582_10 in memory! (computed 2.5 MiB so far)\n",
      "23/04/11 23:41:44 WARN MemoryStore: Not enough space to cache rdd_582_8 in memory! (computed 2.5 MiB so far)\n",
      "23/04/11 23:41:44 WARN MemoryStore: Not enough space to cache rdd_582_9 in memory! (computed 29.5 MiB so far)\n"
     ]
    },
    {
     "name": "stderr",
     "output_type": "stream",
     "text": [
      "[Stage 350:======================================>                (12 + 5) / 17]\r"
     ]
    },
    {
     "name": "stdout",
     "output_type": "stream",
     "text": [
      "23/04/11 23:41:44 WARN MemoryStore: Not enough space to cache rdd_582_13 in memory! (computed 13.1 MiB so far)\n",
      "23/04/11 23:41:44 WARN MemoryStore: Not enough space to cache rdd_582_15 in memory! (computed 8.4 MiB so far)\n",
      "23/04/11 23:41:45 WARN MemoryStore: Not enough space to cache rdd_582_14 in memory! (computed 29.5 MiB so far)\n"
     ]
    },
    {
     "name": "stderr",
     "output_type": "stream",
     "text": [
      "                                                                                \r"
     ]
    },
    {
     "name": "stdout",
     "output_type": "stream",
     "text": [
      "23/04/11 23:41:45 WARN MemoryStore: Not enough space to cache rdd_586_7 in memory! (computed 8.0 MiB so far)\n",
      "23/04/11 23:41:45 WARN MemoryStore: Not enough space to cache rdd_586_6 in memory! (computed 8.0 MiB so far)\n",
      "23/04/11 23:41:45 WARN MemoryStore: Not enough space to cache rdd_586_0 in memory! (computed 8.0 MiB so far)\n",
      "23/04/11 23:41:45 WARN MemoryStore: Not enough space to cache rdd_586_1 in memory! (computed 8.0 MiB so far)\n",
      "23/04/11 23:41:45 WARN BlockManager: Persisting block rdd_586_7 to disk instead.\n",
      "23/04/11 23:41:45 WARN BlockManager: Persisting block rdd_586_1 to disk instead.\n",
      "23/04/11 23:41:45 WARN BlockManager: Persisting block rdd_586_0 to disk instead.\n",
      "23/04/11 23:41:45 WARN BlockManager: Persisting block rdd_586_6 to disk instead.\n",
      "23/04/11 23:41:45 WARN MemoryStore: Not enough space to cache rdd_582_4 in memory! (computed 3.7 MiB so far)\n",
      "23/04/11 23:41:45 WARN MemoryStore: Not enough space to cache rdd_582_5 in memory! (computed 5.6 MiB so far)\n",
      "23/04/11 23:41:45 WARN MemoryStore: Failed to reserve initial memory threshold of 1024.0 KiB for computing block rdd_582_4 in memory.\n",
      "23/04/11 23:41:45 WARN MemoryStore: Failed to reserve initial memory threshold of 1024.0 KiB for computing block rdd_582_5 in memory.\n",
      "23/04/11 23:41:45 WARN MemoryStore: Not enough space to cache rdd_582_5 in memory! (computed 384.0 B so far)\n",
      "23/04/11 23:41:45 WARN MemoryStore: Failed to reserve initial memory threshold of 1024.0 KiB for computing block rdd_586_5 in memory.\n",
      "23/04/11 23:41:45 WARN MemoryStore: Not enough space to cache rdd_586_5 in memory! (computed 640.0 B so far)\n",
      "23/04/11 23:41:45 WARN MemoryStore: Not enough space to cache rdd_582_3 in memory! (computed 3.7 MiB so far)\n",
      "23/04/11 23:41:45 WARN MemoryStore: Not enough space to cache rdd_582_4 in memory! (computed 384.0 B so far)\n",
      "23/04/11 23:41:45 WARN MemoryStore: Failed to reserve initial memory threshold of 1024.0 KiB for computing block rdd_586_4 in memory.\n",
      "23/04/11 23:41:45 WARN MemoryStore: Not enough space to cache rdd_586_4 in memory! (computed 640.0 B so far)\n",
      "23/04/11 23:41:45 WARN BlockManager: Persisting block rdd_586_4 to disk instead.\n",
      "23/04/11 23:41:45 WARN BlockManager: Persisting block rdd_586_5 to disk instead.\n",
      "23/04/11 23:41:45 WARN MemoryStore: Failed to reserve initial memory threshold of 1024.0 KiB for computing block rdd_582_3 in memory.\n",
      "23/04/11 23:41:45 WARN MemoryStore: Not enough space to cache rdd_582_3 in memory! (computed 384.0 B so far)\n",
      "23/04/11 23:41:45 WARN MemoryStore: Failed to reserve initial memory threshold of 1024.0 KiB for computing block rdd_586_3 in memory.\n",
      "23/04/11 23:41:45 WARN MemoryStore: Not enough space to cache rdd_586_3 in memory! (computed 640.0 B so far)\n",
      "23/04/11 23:41:45 WARN BlockManager: Persisting block rdd_586_3 to disk instead.\n"
     ]
    },
    {
     "name": "stderr",
     "output_type": "stream",
     "text": [
      "[Stage 351:================>                                       (5 + 8) / 17]\r"
     ]
    },
    {
     "name": "stdout",
     "output_type": "stream",
     "text": [
      "23/04/11 23:41:46 WARN MemoryStore: Not enough space to cache rdd_582_12 in memory! (computed 13.1 MiB so far)\n",
      "23/04/11 23:41:46 WARN MemoryStore: Not enough space to cache rdd_582_10 in memory! (computed 13.1 MiB so far)\n",
      "23/04/11 23:41:46 WARN MemoryStore: Failed to reserve initial memory threshold of 1024.0 KiB for computing block rdd_582_12 in memory.\n",
      "23/04/11 23:41:46 WARN MemoryStore: Failed to reserve initial memory threshold of 1024.0 KiB for computing block rdd_582_10 in memory.\n",
      "23/04/11 23:41:46 WARN MemoryStore: Not enough space to cache rdd_582_10 in memory! (computed 384.0 B so far)\n",
      "23/04/11 23:41:46 WARN MemoryStore: Not enough space to cache rdd_582_12 in memory! (computed 384.0 B so far)\n",
      "23/04/11 23:41:46 WARN MemoryStore: Not enough space to cache rdd_582_11 in memory! (computed 44.2 MiB so far)\n",
      "23/04/11 23:41:46 WARN MemoryStore: Not enough space to cache rdd_582_9 in memory! (computed 44.2 MiB so far)\n",
      "23/04/11 23:41:46 WARN MemoryStore: Not enough space to cache rdd_582_11 in memory! (computed 13.1 MiB so far)\n",
      "23/04/11 23:41:46 WARN MemoryStore: Not enough space to cache rdd_582_9 in memory! (computed 8.4 MiB so far)\n"
     ]
    },
    {
     "name": "stderr",
     "output_type": "stream",
     "text": [
      "[Stage 351:=============================================>         (14 + 3) / 17]\r"
     ]
    },
    {
     "name": "stdout",
     "output_type": "stream",
     "text": [
      "23/04/11 23:41:49 WARN MemoryStore: Not enough space to cache rdd_582_15 in memory! (computed 44.2 MiB so far)\n",
      "23/04/11 23:41:49 WARN MemoryStore: Not enough space to cache rdd_582_15 in memory! (computed 1028.2 KiB so far)\n"
     ]
    },
    {
     "name": "stderr",
     "output_type": "stream",
     "text": [
      "[Stage 352:===>                                                    (1 + 8) / 17]\r"
     ]
    },
    {
     "name": "stdout",
     "output_type": "stream",
     "text": [
      "23/04/11 23:41:51 WARN MemoryStore: Not enough space to cache rdd_582_6 in memory! (computed 8.4 MiB so far)\n",
      "23/04/11 23:41:51 WARN MemoryStore: Not enough space to cache rdd_582_4 in memory! (computed 13.1 MiB so far)\n",
      "23/04/11 23:41:51 WARN MemoryStore: Not enough space to cache rdd_582_5 in memory! (computed 13.1 MiB so far)\n",
      "23/04/11 23:41:51 WARN MemoryStore: Not enough space to cache rdd_582_2 in memory! (computed 13.1 MiB so far)\n",
      "23/04/11 23:41:51 WARN MemoryStore: Not enough space to cache rdd_582_3 in memory! (computed 13.1 MiB so far)\n"
     ]
    },
    {
     "name": "stderr",
     "output_type": "stream",
     "text": [
      "[Stage 352:================================>                      (10 + 7) / 17]\r"
     ]
    },
    {
     "name": "stdout",
     "output_type": "stream",
     "text": [
      "23/04/11 23:41:53 WARN MemoryStore: Not enough space to cache rdd_582_13 in memory! (computed 19.6 MiB so far)\n",
      "23/04/11 23:41:53 WARN MemoryStore: Not enough space to cache rdd_582_12 in memory! (computed 19.6 MiB so far)\n"
     ]
    },
    {
     "name": "stderr",
     "output_type": "stream",
     "text": [
      "                                                                                \r"
     ]
    },
    {
     "name": "stdout",
     "output_type": "stream",
     "text": [
      "23/04/11 23:41:55 WARN MemoryStore: Not enough space to cache rdd_582_4 in memory! (computed 13.1 MiB so far)\n",
      "23/04/11 23:41:55 WARN MemoryStore: Not enough space to cache rdd_582_5 in memory! (computed 13.1 MiB so far)\n",
      "23/04/11 23:41:55 WARN MemoryStore: Not enough space to cache rdd_582_6 in memory! (computed 13.1 MiB so far)\n",
      "23/04/11 23:41:55 WARN MemoryStore: Not enough space to cache rdd_582_0 in memory! (computed 19.6 MiB so far)\n",
      "23/04/11 23:41:55 WARN MemoryStore: Not enough space to cache rdd_582_3 in memory! (computed 13.1 MiB so far)\n",
      "23/04/11 23:41:55 WARN MemoryStore: Not enough space to cache rdd_582_1 in memory! (computed 13.1 MiB so far)\n"
     ]
    },
    {
     "name": "stderr",
     "output_type": "stream",
     "text": [
      "[Stage 353:=======================>                                (7 + 8) / 17]\r"
     ]
    },
    {
     "name": "stdout",
     "output_type": "stream",
     "text": [
      "23/04/11 23:41:59 WARN MemoryStore: Not enough space to cache rdd_582_9 in memory! (computed 29.5 MiB so far)\n",
      "23/04/11 23:41:59 WARN MemoryStore: Not enough space to cache rdd_582_12 in memory! (computed 19.6 MiB so far)\n",
      "23/04/11 23:41:59 WARN MemoryStore: Not enough space to cache rdd_582_10 in memory! (computed 19.6 MiB so far)\n",
      "23/04/11 23:41:59 WARN MemoryStore: Not enough space to cache rdd_582_11 in memory! (computed 29.5 MiB so far)\n"
     ]
    },
    {
     "name": "stderr",
     "output_type": "stream",
     "text": [
      "[Stage 354:>                                                       (0 + 8) / 17]\r"
     ]
    },
    {
     "name": "stdout",
     "output_type": "stream",
     "text": [
      "23/04/11 23:42:02 WARN MemoryStore: Not enough space to cache rdd_582_5 in memory! (computed 13.1 MiB so far)\n",
      "23/04/11 23:42:02 WARN MemoryStore: Not enough space to cache rdd_582_6 in memory! (computed 13.1 MiB so far)\n",
      "23/04/11 23:42:02 WARN MemoryStore: Not enough space to cache rdd_582_3 in memory! (computed 13.1 MiB so far)\n",
      "23/04/11 23:42:02 WARN MemoryStore: Not enough space to cache rdd_582_0 in memory! (computed 13.1 MiB so far)\n",
      "23/04/11 23:42:02 WARN MemoryStore: Not enough space to cache rdd_582_4 in memory! (computed 13.1 MiB so far)\n",
      "23/04/11 23:42:02 WARN MemoryStore: Not enough space to cache rdd_582_7 in memory! (computed 19.6 MiB so far)\n",
      "23/04/11 23:42:02 WARN MemoryStore: Not enough space to cache rdd_582_2 in memory! (computed 13.1 MiB so far)\n"
     ]
    },
    {
     "name": "stderr",
     "output_type": "stream",
     "text": [
      "[Stage 354:===================================>                   (11 + 6) / 17]\r"
     ]
    },
    {
     "name": "stdout",
     "output_type": "stream",
     "text": [
      "23/04/11 23:42:04 WARN MemoryStore: Not enough space to cache rdd_582_12 in memory! (computed 29.5 MiB so far)\n",
      "23/04/11 23:42:04 WARN MemoryStore: Not enough space to cache rdd_582_10 in memory! (computed 29.5 MiB so far)\n",
      "23/04/11 23:42:04 WARN MemoryStore: Not enough space to cache rdd_582_14 in memory! (computed 19.6 MiB so far)\n"
     ]
    },
    {
     "name": "stderr",
     "output_type": "stream",
     "text": [
      "                                                                                \r"
     ]
    },
    {
     "name": "stdout",
     "output_type": "stream",
     "text": [
      "23/04/11 23:42:06 WARN MemoryStore: Not enough space to cache rdd_582_3 in memory! (computed 8.4 MiB so far)\n",
      "23/04/11 23:42:06 WARN MemoryStore: Not enough space to cache rdd_582_2 in memory! (computed 13.1 MiB so far)\n",
      "23/04/11 23:42:06 WARN MemoryStore: Not enough space to cache rdd_582_1 in memory! (computed 8.4 MiB so far)\n",
      "23/04/11 23:42:06 WARN MemoryStore: Not enough space to cache rdd_582_7 in memory! (computed 13.1 MiB so far)\n",
      "23/04/11 23:42:06 WARN MemoryStore: Not enough space to cache rdd_582_5 in memory! (computed 13.1 MiB so far)\n",
      "23/04/11 23:42:06 WARN MemoryStore: Not enough space to cache rdd_582_0 in memory! (computed 13.1 MiB so far)\n"
     ]
    },
    {
     "name": "stderr",
     "output_type": "stream",
     "text": [
      "[Stage 355:>                                                       (0 + 8) / 17]\r"
     ]
    },
    {
     "name": "stdout",
     "output_type": "stream",
     "text": [
      "23/04/11 23:42:06 WARN MemoryStore: Not enough space to cache rdd_582_4 in memory! (computed 44.2 MiB so far)\n",
      "23/04/11 23:42:06 WARN MemoryStore: Not enough space to cache rdd_582_6 in memory! (computed 44.2 MiB so far)\n"
     ]
    },
    {
     "name": "stderr",
     "output_type": "stream",
     "text": [
      "[Stage 355:==========================>                             (8 + 8) / 17]\r"
     ]
    },
    {
     "name": "stdout",
     "output_type": "stream",
     "text": [
      "23/04/11 23:42:08 WARN MemoryStore: Not enough space to cache rdd_582_12 in memory! (computed 19.6 MiB so far)\n",
      "23/04/11 23:42:08 WARN MemoryStore: Not enough space to cache rdd_582_14 in memory! (computed 19.6 MiB so far)\n",
      "23/04/11 23:42:08 WARN MemoryStore: Not enough space to cache rdd_582_10 in memory! (computed 29.5 MiB so far)\n",
      "23/04/11 23:42:08 WARN MemoryStore: Not enough space to cache rdd_582_8 in memory! (computed 29.5 MiB so far)\n"
     ]
    },
    {
     "name": "stderr",
     "output_type": "stream",
     "text": [
      "                                                                                \r"
     ]
    },
    {
     "name": "stdout",
     "output_type": "stream",
     "text": [
      "23/04/11 23:42:09 WARN MemoryStore: Not enough space to cache rdd_582_1 in memory! (computed 8.4 MiB so far)\n",
      "23/04/11 23:42:09 WARN MemoryStore: Not enough space to cache rdd_582_3 in memory! (computed 13.1 MiB so far)\n",
      "23/04/11 23:42:09 WARN MemoryStore: Not enough space to cache rdd_582_4 in memory! (computed 13.1 MiB so far)\n",
      "23/04/11 23:42:09 WARN MemoryStore: Not enough space to cache rdd_582_0 in memory! (computed 13.1 MiB so far)\n",
      "23/04/11 23:42:09 WARN MemoryStore: Not enough space to cache rdd_582_2 in memory! (computed 13.1 MiB so far)\n",
      "23/04/11 23:42:09 WARN MemoryStore: Not enough space to cache rdd_582_5 in memory! (computed 13.1 MiB so far)\n"
     ]
    },
    {
     "name": "stderr",
     "output_type": "stream",
     "text": [
      "[Stage 357:>                                                       (0 + 8) / 17]\r"
     ]
    },
    {
     "name": "stdout",
     "output_type": "stream",
     "text": [
      "23/04/11 23:42:09 WARN MemoryStore: Not enough space to cache rdd_582_6 in memory! (computed 44.2 MiB so far)\n",
      "23/04/11 23:42:09 WARN MemoryStore: Not enough space to cache rdd_582_7 in memory! (computed 44.2 MiB so far)\n"
     ]
    },
    {
     "name": "stderr",
     "output_type": "stream",
     "text": [
      "[Stage 357:==========================================>            (13 + 4) / 17]\r"
     ]
    },
    {
     "name": "stdout",
     "output_type": "stream",
     "text": [
      "23/04/11 23:42:10 WARN MemoryStore: Not enough space to cache rdd_582_10 in memory! (computed 19.6 MiB so far)\n",
      "23/04/11 23:42:10 WARN MemoryStore: Not enough space to cache rdd_582_12 in memory! (computed 19.6 MiB so far)\n",
      "23/04/11 23:42:10 WARN MemoryStore: Not enough space to cache rdd_582_14 in memory! (computed 44.2 MiB so far)\n",
      "23/04/11 23:42:10 WARN MemoryStore: Not enough space to cache rdd_582_8 in memory! (computed 44.2 MiB so far)\n"
     ]
    },
    {
     "name": "stderr",
     "output_type": "stream",
     "text": [
      "                                                                                \r"
     ]
    },
    {
     "name": "stdout",
     "output_type": "stream",
     "text": [
      "23/04/11 23:42:11 WARN MemoryStore: Not enough space to cache rdd_582_2 in memory! (computed 8.4 MiB so far)\n",
      "23/04/11 23:42:11 WARN MemoryStore: Not enough space to cache rdd_582_7 in memory! (computed 13.1 MiB so far)\n",
      "23/04/11 23:42:11 WARN MemoryStore: Not enough space to cache rdd_582_1 in memory! (computed 8.4 MiB so far)\n",
      "23/04/11 23:42:11 WARN MemoryStore: Not enough space to cache rdd_582_4 in memory! (computed 13.1 MiB so far)\n",
      "23/04/11 23:42:11 WARN MemoryStore: Not enough space to cache rdd_582_6 in memory! (computed 13.1 MiB so far)\n",
      "23/04/11 23:42:11 WARN MemoryStore: Not enough space to cache rdd_582_5 in memory! (computed 29.5 MiB so far)\n",
      "23/04/11 23:42:11 WARN MemoryStore: Not enough space to cache rdd_582_0 in memory! (computed 44.2 MiB so far)\n"
     ]
    },
    {
     "name": "stderr",
     "output_type": "stream",
     "text": [
      "[Stage 359:>                                                       (0 + 8) / 17]\r"
     ]
    },
    {
     "name": "stdout",
     "output_type": "stream",
     "text": [
      "23/04/11 23:42:12 WARN MemoryStore: Not enough space to cache rdd_582_3 in memory! (computed 44.2 MiB so far)\n"
     ]
    },
    {
     "name": "stderr",
     "output_type": "stream",
     "text": [
      "[Stage 359:==========================================>            (13 + 4) / 17]\r"
     ]
    },
    {
     "name": "stdout",
     "output_type": "stream",
     "text": [
      "23/04/11 23:42:13 WARN MemoryStore: Not enough space to cache rdd_582_10 in memory! (computed 19.6 MiB so far)\n",
      "23/04/11 23:42:13 WARN MemoryStore: Not enough space to cache rdd_582_8 in memory! (computed 19.6 MiB so far)\n",
      "23/04/11 23:42:13 WARN MemoryStore: Not enough space to cache rdd_582_14 in memory! (computed 44.2 MiB so far)\n",
      "23/04/11 23:42:13 WARN MemoryStore: Not enough space to cache rdd_582_12 in memory! (computed 44.2 MiB so far)\n"
     ]
    },
    {
     "name": "stderr",
     "output_type": "stream",
     "text": [
      "                                                                                \r"
     ]
    },
    {
     "name": "stdout",
     "output_type": "stream",
     "text": [
      "23/04/11 23:42:14 WARN MemoryStore: Not enough space to cache rdd_582_1 in memory! (computed 13.1 MiB so far)\n",
      "23/04/11 23:42:14 WARN MemoryStore: Not enough space to cache rdd_582_7 in memory! (computed 13.1 MiB so far)\n",
      "23/04/11 23:42:14 WARN MemoryStore: Not enough space to cache rdd_582_3 in memory! (computed 13.1 MiB so far)\n",
      "23/04/11 23:42:14 WARN MemoryStore: Not enough space to cache rdd_582_5 in memory! (computed 13.1 MiB so far)\n",
      "23/04/11 23:42:14 WARN MemoryStore: Not enough space to cache rdd_582_2 in memory! (computed 13.1 MiB so far)\n",
      "23/04/11 23:42:14 WARN MemoryStore: Not enough space to cache rdd_582_6 in memory! (computed 29.5 MiB so far)\n",
      "23/04/11 23:42:14 WARN MemoryStore: Not enough space to cache rdd_582_0 in memory! (computed 29.5 MiB so far)\n"
     ]
    },
    {
     "name": "stderr",
     "output_type": "stream",
     "text": [
      "[Stage 361:==========================>                             (8 + 8) / 17]\r"
     ]
    },
    {
     "name": "stdout",
     "output_type": "stream",
     "text": [
      "23/04/11 23:42:15 WARN MemoryStore: Not enough space to cache rdd_582_14 in memory! (computed 8.4 MiB so far)\n",
      "23/04/11 23:42:15 WARN MemoryStore: Not enough space to cache rdd_582_8 in memory! (computed 13.1 MiB so far)\n",
      "23/04/11 23:42:15 WARN MemoryStore: Not enough space to cache rdd_582_12 in memory! (computed 13.1 MiB so far)\n",
      "23/04/11 23:42:15 WARN MemoryStore: Not enough space to cache rdd_582_10 in memory! (computed 8.4 MiB so far)\n"
     ]
    },
    {
     "name": "stderr",
     "output_type": "stream",
     "text": [
      "                                                                                \r"
     ]
    },
    {
     "name": "stdout",
     "output_type": "stream",
     "text": [
      "23/04/11 23:42:16 WARN MemoryStore: Not enough space to cache rdd_582_0 in memory! (computed 5.6 MiB so far)\n",
      "23/04/11 23:42:16 WARN MemoryStore: Not enough space to cache rdd_582_2 in memory! (computed 5.6 MiB so far)\n",
      "23/04/11 23:42:16 WARN MemoryStore: Not enough space to cache rdd_582_3 in memory! (computed 5.6 MiB so far)\n",
      "23/04/11 23:42:16 WARN MemoryStore: Not enough space to cache rdd_582_5 in memory! (computed 5.6 MiB so far)\n",
      "23/04/11 23:42:16 WARN MemoryStore: Not enough space to cache rdd_582_1 in memory! (computed 5.6 MiB so far)\n",
      "23/04/11 23:42:16 WARN MemoryStore: Not enough space to cache rdd_582_8 in memory! (computed 5.6 MiB so far)\n",
      "23/04/11 23:42:16 WARN MemoryStore: Not enough space to cache rdd_582_7 in memory! (computed 19.6 MiB so far)\n"
     ]
    },
    {
     "name": "stderr",
     "output_type": "stream",
     "text": [
      "[Stage 363:===>                                                    (1 + 8) / 17]\r"
     ]
    },
    {
     "name": "stdout",
     "output_type": "stream",
     "text": [
      "23/04/11 23:42:16 WARN MemoryStore: Not enough space to cache rdd_582_6 in memory! (computed 44.2 MiB so far)\n"
     ]
    },
    {
     "name": "stderr",
     "output_type": "stream",
     "text": [
      "[Stage 363:===================>                                    (6 + 8) / 17]\r"
     ]
    },
    {
     "name": "stdout",
     "output_type": "stream",
     "text": [
      "23/04/11 23:42:17 WARN MemoryStore: Not enough space to cache rdd_582_14 in memory! (computed 5.6 MiB so far)\n",
      "23/04/11 23:42:17 WARN MemoryStore: Not enough space to cache rdd_582_12 in memory! (computed 19.6 MiB so far)\n",
      "23/04/11 23:42:17 WARN MemoryStore: Not enough space to cache rdd_582_10 in memory! (computed 19.6 MiB so far)\n"
     ]
    },
    {
     "name": "stderr",
     "output_type": "stream",
     "text": [
      "                                                                                \r"
     ]
    },
    {
     "name": "stdout",
     "output_type": "stream",
     "text": [
      "23/04/11 23:42:18 WARN MemoryStore: Not enough space to cache rdd_582_3 in memory! (computed 5.6 MiB so far)\n",
      "23/04/11 23:42:18 WARN MemoryStore: Not enough space to cache rdd_582_1 in memory! (computed 5.6 MiB so far)\n",
      "23/04/11 23:42:18 WARN MemoryStore: Not enough space to cache rdd_582_7 in memory! (computed 5.6 MiB so far)\n",
      "23/04/11 23:42:18 WARN MemoryStore: Not enough space to cache rdd_582_6 in memory! (computed 8.4 MiB so far)\n",
      "23/04/11 23:42:18 WARN MemoryStore: Not enough space to cache rdd_582_0 in memory! (computed 13.1 MiB so far)\n",
      "23/04/11 23:42:18 WARN MemoryStore: Not enough space to cache rdd_582_2 in memory! (computed 19.6 MiB so far)\n",
      "23/04/11 23:42:18 WARN MemoryStore: Not enough space to cache rdd_582_8 in memory! (computed 5.6 MiB so far)\n",
      "23/04/11 23:42:18 WARN MemoryStore: Not enough space to cache rdd_582_5 in memory! (computed 19.6 MiB so far)\n"
     ]
    },
    {
     "name": "stderr",
     "output_type": "stream",
     "text": [
      "[Stage 365:==========================>                             (8 + 8) / 17]\r"
     ]
    },
    {
     "name": "stdout",
     "output_type": "stream",
     "text": [
      "23/04/11 23:42:18 WARN MemoryStore: Not enough space to cache rdd_582_12 in memory! (computed 13.1 MiB so far)\n",
      "23/04/11 23:42:18 WARN MemoryStore: Not enough space to cache rdd_582_10 in memory! (computed 19.6 MiB so far)\n"
     ]
    },
    {
     "name": "stderr",
     "output_type": "stream",
     "text": [
      "[Stage 365:=============================================>         (14 + 3) / 17]\r"
     ]
    },
    {
     "name": "stdout",
     "output_type": "stream",
     "text": [
      "23/04/11 23:42:19 WARN MemoryStore: Not enough space to cache rdd_582_14 in memory! (computed 44.2 MiB so far)\n"
     ]
    },
    {
     "name": "stderr",
     "output_type": "stream",
     "text": [
      "                                                                                \r"
     ]
    },
    {
     "name": "stdout",
     "output_type": "stream",
     "text": [
      "23/04/11 23:42:19 WARN MemoryStore: Not enough space to cache rdd_582_1 in memory! (computed 5.6 MiB so far)\n",
      "23/04/11 23:42:19 WARN MemoryStore: Not enough space to cache rdd_582_2 in memory! (computed 5.6 MiB so far)\n",
      "23/04/11 23:42:19 WARN MemoryStore: Not enough space to cache rdd_582_7 in memory! (computed 5.6 MiB so far)\n",
      "23/04/11 23:42:19 WARN MemoryStore: Not enough space to cache rdd_582_0 in memory! (computed 5.6 MiB so far)\n",
      "23/04/11 23:42:19 WARN MemoryStore: Not enough space to cache rdd_582_3 in memory! (computed 13.1 MiB so far)\n",
      "23/04/11 23:42:19 WARN MemoryStore: Not enough space to cache rdd_582_5 in memory! (computed 13.1 MiB so far)\n",
      "23/04/11 23:42:19 WARN MemoryStore: Not enough space to cache rdd_582_8 in memory! (computed 13.1 MiB so far)\n"
     ]
    },
    {
     "name": "stderr",
     "output_type": "stream",
     "text": [
      "[Stage 367:===>                                                    (1 + 8) / 17]\r"
     ]
    },
    {
     "name": "stdout",
     "output_type": "stream",
     "text": [
      "23/04/11 23:42:20 WARN MemoryStore: Not enough space to cache rdd_582_6 in memory! (computed 44.2 MiB so far)\n"
     ]
    },
    {
     "name": "stderr",
     "output_type": "stream",
     "text": [
      "[Stage 367:=======================>                                (7 + 8) / 17]\r"
     ]
    },
    {
     "name": "stdout",
     "output_type": "stream",
     "text": [
      "23/04/11 23:42:20 WARN MemoryStore: Not enough space to cache rdd_582_14 in memory! (computed 13.1 MiB so far)\n",
      "23/04/11 23:42:20 WARN MemoryStore: Not enough space to cache rdd_582_10 in memory! (computed 13.1 MiB so far)\n"
     ]
    },
    {
     "name": "stderr",
     "output_type": "stream",
     "text": [
      "[Stage 367:=============================================>         (14 + 3) / 17]\r"
     ]
    },
    {
     "name": "stdout",
     "output_type": "stream",
     "text": [
      "23/04/11 23:42:20 WARN MemoryStore: Not enough space to cache rdd_582_12 in memory! (computed 44.2 MiB so far)\n"
     ]
    },
    {
     "name": "stderr",
     "output_type": "stream",
     "text": [
      "                                                                                \r"
     ]
    },
    {
     "name": "stdout",
     "output_type": "stream",
     "text": [
      "23/04/11 23:42:21 WARN MemoryStore: Not enough space to cache rdd_582_6 in memory! (computed 5.6 MiB so far)\n",
      "23/04/11 23:42:21 WARN MemoryStore: Not enough space to cache rdd_582_5 in memory! (computed 5.6 MiB so far)\n",
      "23/04/11 23:42:21 WARN MemoryStore: Not enough space to cache rdd_582_0 in memory! (computed 5.6 MiB so far)\n",
      "23/04/11 23:42:21 WARN MemoryStore: Not enough space to cache rdd_582_3 in memory! (computed 5.6 MiB so far)\n",
      "23/04/11 23:42:21 WARN MemoryStore: Not enough space to cache rdd_582_1 in memory! (computed 13.1 MiB so far)\n",
      "23/04/11 23:42:21 WARN MemoryStore: Not enough space to cache rdd_582_2 in memory! (computed 8.4 MiB so far)\n",
      "23/04/11 23:42:21 WARN MemoryStore: Not enough space to cache rdd_582_8 in memory! (computed 13.1 MiB so far)\n",
      "23/04/11 23:42:21 WARN MemoryStore: Not enough space to cache rdd_582_7 in memory! (computed 44.2 MiB so far)\n"
     ]
    },
    {
     "name": "stderr",
     "output_type": "stream",
     "text": [
      "[Stage 369:======================================>                (12 + 5) / 17]\r"
     ]
    },
    {
     "name": "stdout",
     "output_type": "stream",
     "text": [
      "23/04/11 23:42:21 WARN MemoryStore: Not enough space to cache rdd_582_10 in memory! (computed 13.1 MiB so far)\n",
      "23/04/11 23:42:22 WARN MemoryStore: Not enough space to cache rdd_582_12 in memory! (computed 19.6 MiB so far)\n"
     ]
    },
    {
     "name": "stderr",
     "output_type": "stream",
     "text": [
      "[Stage 369:=============================================>         (14 + 3) / 17]\r"
     ]
    },
    {
     "name": "stdout",
     "output_type": "stream",
     "text": [
      "23/04/11 23:42:22 WARN MemoryStore: Not enough space to cache rdd_582_14 in memory! (computed 44.2 MiB so far)\n"
     ]
    },
    {
     "name": "stderr",
     "output_type": "stream",
     "text": [
      "                                                                                \r"
     ]
    },
    {
     "name": "stdout",
     "output_type": "stream",
     "text": [
      "23/04/11 23:42:22 WARN MemoryStore: Not enough space to cache rdd_582_2 in memory! (computed 5.6 MiB so far)\n",
      "23/04/11 23:42:22 WARN MemoryStore: Not enough space to cache rdd_582_1 in memory! (computed 5.6 MiB so far)\n",
      "23/04/11 23:42:22 WARN MemoryStore: Not enough space to cache rdd_582_7 in memory! (computed 5.6 MiB so far)\n",
      "23/04/11 23:42:22 WARN MemoryStore: Not enough space to cache rdd_582_5 in memory! (computed 5.6 MiB so far)\n",
      "23/04/11 23:42:22 WARN MemoryStore: Not enough space to cache rdd_582_0 in memory! (computed 13.1 MiB so far)\n",
      "23/04/11 23:42:22 WARN MemoryStore: Not enough space to cache rdd_582_8 in memory! (computed 5.6 MiB so far)\n",
      "23/04/11 23:42:22 WARN MemoryStore: Not enough space to cache rdd_582_3 in memory! (computed 19.6 MiB so far)\n"
     ]
    },
    {
     "name": "stderr",
     "output_type": "stream",
     "text": [
      "[Stage 371:===>                                                    (1 + 8) / 17]\r"
     ]
    },
    {
     "name": "stdout",
     "output_type": "stream",
     "text": [
      "23/04/11 23:42:23 WARN MemoryStore: Not enough space to cache rdd_582_6 in memory! (computed 44.2 MiB so far)\n"
     ]
    },
    {
     "name": "stderr",
     "output_type": "stream",
     "text": [
      "[Stage 371:======================================>                (12 + 5) / 17]\r"
     ]
    },
    {
     "name": "stdout",
     "output_type": "stream",
     "text": [
      "23/04/11 23:42:23 WARN MemoryStore: Not enough space to cache rdd_582_14 in memory! (computed 13.1 MiB so far)\n",
      "23/04/11 23:42:23 WARN MemoryStore: Not enough space to cache rdd_582_12 in memory! (computed 13.1 MiB so far)\n"
     ]
    },
    {
     "name": "stderr",
     "output_type": "stream",
     "text": [
      "[Stage 371:=============================================>         (14 + 3) / 17]\r"
     ]
    },
    {
     "name": "stdout",
     "output_type": "stream",
     "text": [
      "23/04/11 23:42:23 WARN MemoryStore: Not enough space to cache rdd_582_10 in memory! (computed 44.2 MiB so far)\n"
     ]
    },
    {
     "name": "stderr",
     "output_type": "stream",
     "text": [
      "                                                                                \r"
     ]
    },
    {
     "name": "stdout",
     "output_type": "stream",
     "text": [
      "23/04/11 23:42:24 WARN MemoryStore: Not enough space to cache rdd_582_3 in memory! (computed 5.6 MiB so far)\n",
      "23/04/11 23:42:24 WARN MemoryStore: Not enough space to cache rdd_582_6 in memory! (computed 5.6 MiB so far)\n",
      "23/04/11 23:42:24 WARN MemoryStore: Not enough space to cache rdd_582_0 in memory! (computed 5.6 MiB so far)\n",
      "23/04/11 23:42:24 WARN MemoryStore: Not enough space to cache rdd_582_7 in memory! (computed 8.4 MiB so far)\n",
      "23/04/11 23:42:24 WARN MemoryStore: Not enough space to cache rdd_582_1 in memory! (computed 8.4 MiB so far)\n",
      "23/04/11 23:42:24 WARN MemoryStore: Not enough space to cache rdd_582_5 in memory! (computed 13.1 MiB so far)\n",
      "23/04/11 23:42:24 WARN MemoryStore: Not enough space to cache rdd_582_8 in memory! (computed 13.1 MiB so far)\n",
      "23/04/11 23:42:24 WARN MemoryStore: Not enough space to cache rdd_582_2 in memory! (computed 44.2 MiB so far)\n"
     ]
    },
    {
     "name": "stderr",
     "output_type": "stream",
     "text": [
      "[Stage 373:===================>                                    (6 + 9) / 17]\r"
     ]
    },
    {
     "name": "stdout",
     "output_type": "stream",
     "text": [
      "23/04/11 23:42:25 WARN MemoryStore: Not enough space to cache rdd_582_14 in memory! (computed 13.1 MiB so far)\n",
      "23/04/11 23:42:25 WARN MemoryStore: Not enough space to cache rdd_582_10 in memory! (computed 13.1 MiB so far)\n"
     ]
    },
    {
     "name": "stderr",
     "output_type": "stream",
     "text": [
      "[Stage 373:=============================================>         (14 + 3) / 17]\r"
     ]
    },
    {
     "name": "stdout",
     "output_type": "stream",
     "text": [
      "23/04/11 23:42:25 WARN MemoryStore: Not enough space to cache rdd_582_12 in memory! (computed 44.2 MiB so far)\n"
     ]
    },
    {
     "name": "stderr",
     "output_type": "stream",
     "text": [
      "                                                                                \r"
     ]
    },
    {
     "name": "stdout",
     "output_type": "stream",
     "text": [
      "23/04/11 23:42:25 WARN MemoryStore: Not enough space to cache rdd_582_2 in memory! (computed 5.6 MiB so far)\n",
      "23/04/11 23:42:25 WARN MemoryStore: Not enough space to cache rdd_582_3 in memory! (computed 5.6 MiB so far)\n",
      "23/04/11 23:42:25 WARN MemoryStore: Failed to reserve initial memory threshold of 1024.0 KiB for computing block rdd_582_8 in memory.\n",
      "23/04/11 23:42:25 WARN MemoryStore: Not enough space to cache rdd_582_5 in memory! (computed 5.6 MiB so far)\n",
      "23/04/11 23:42:25 WARN MemoryStore: Not enough space to cache rdd_582_8 in memory! (computed 384.0 B so far)\n",
      "23/04/11 23:42:25 WARN MemoryStore: Not enough space to cache rdd_582_0 in memory! (computed 8.4 MiB so far)\n",
      "23/04/11 23:42:25 WARN MemoryStore: Not enough space to cache rdd_582_6 in memory! (computed 13.1 MiB so far)\n",
      "23/04/11 23:42:25 WARN MemoryStore: Not enough space to cache rdd_582_1 in memory! (computed 19.6 MiB so far)\n"
     ]
    },
    {
     "name": "stderr",
     "output_type": "stream",
     "text": [
      "[Stage 375:===>                                                    (1 + 8) / 17]\r"
     ]
    },
    {
     "name": "stdout",
     "output_type": "stream",
     "text": [
      "23/04/11 23:42:26 WARN MemoryStore: Not enough space to cache rdd_582_7 in memory! (computed 44.2 MiB so far)\n",
      "23/04/11 23:42:26 WARN MemoryStore: Not enough space to cache rdd_582_12 in memory! (computed 13.1 MiB so far)\n",
      "23/04/11 23:42:26 WARN MemoryStore: Not enough space to cache rdd_582_10 in memory! (computed 19.6 MiB so far)\n"
     ]
    },
    {
     "name": "stderr",
     "output_type": "stream",
     "text": [
      "[Stage 375:=============================================>         (14 + 3) / 17]\r"
     ]
    },
    {
     "name": "stdout",
     "output_type": "stream",
     "text": [
      "23/04/11 23:42:26 WARN MemoryStore: Not enough space to cache rdd_582_14 in memory! (computed 44.2 MiB so far)\n"
     ]
    },
    {
     "name": "stderr",
     "output_type": "stream",
     "text": [
      "                                                                                \r"
     ]
    },
    {
     "name": "stdout",
     "output_type": "stream",
     "text": [
      "23/04/11 23:42:27 WARN MemoryStore: Not enough space to cache rdd_582_7 in memory! (computed 5.6 MiB so far)\n",
      "23/04/11 23:42:27 WARN MemoryStore: Not enough space to cache rdd_582_3 in memory! (computed 5.6 MiB so far)\n",
      "23/04/11 23:42:27 WARN MemoryStore: Not enough space to cache rdd_582_6 in memory! (computed 5.6 MiB so far)\n",
      "23/04/11 23:42:27 WARN MemoryStore: Not enough space to cache rdd_582_5 in memory! (computed 5.6 MiB so far)\n",
      "23/04/11 23:42:27 WARN MemoryStore: Not enough space to cache rdd_582_1 in memory! (computed 8.4 MiB so far)\n",
      "23/04/11 23:42:27 WARN MemoryStore: Not enough space to cache rdd_582_2 in memory! (computed 13.1 MiB so far)\n"
     ]
    },
    {
     "name": "stderr",
     "output_type": "stream",
     "text": [
      "[Stage 377:===>                                                    (1 + 8) / 17]\r"
     ]
    },
    {
     "name": "stdout",
     "output_type": "stream",
     "text": [
      "23/04/11 23:42:28 WARN MemoryStore: Not enough space to cache rdd_582_8 in memory! (computed 13.1 MiB so far)\n",
      "23/04/11 23:42:28 WARN MemoryStore: Not enough space to cache rdd_582_0 in memory! (computed 44.2 MiB so far)\n"
     ]
    },
    {
     "name": "stderr",
     "output_type": "stream",
     "text": [
      "[Stage 377:=============================================>         (14 + 3) / 17]\r"
     ]
    },
    {
     "name": "stdout",
     "output_type": "stream",
     "text": [
      "23/04/11 23:42:29 WARN MemoryStore: Not enough space to cache rdd_582_14 in memory! (computed 13.1 MiB so far)\n",
      "23/04/11 23:42:29 WARN MemoryStore: Not enough space to cache rdd_582_12 in memory! (computed 13.1 MiB so far)\n",
      "23/04/11 23:42:29 WARN MemoryStore: Not enough space to cache rdd_582_10 in memory! (computed 44.2 MiB so far)\n"
     ]
    },
    {
     "name": "stderr",
     "output_type": "stream",
     "text": [
      "                                                                                \r"
     ]
    },
    {
     "name": "stdout",
     "output_type": "stream",
     "text": [
      "23/04/11 23:42:30 WARN MemoryStore: Not enough space to cache rdd_582_7 in memory! (computed 5.6 MiB so far)\n",
      "23/04/11 23:42:30 WARN MemoryStore: Not enough space to cache rdd_582_1 in memory! (computed 5.6 MiB so far)\n",
      "23/04/11 23:42:30 WARN MemoryStore: Not enough space to cache rdd_582_6 in memory! (computed 5.6 MiB so far)\n",
      "23/04/11 23:42:30 WARN MemoryStore: Not enough space to cache rdd_582_5 in memory! (computed 8.4 MiB so far)\n",
      "23/04/11 23:42:30 WARN MemoryStore: Not enough space to cache rdd_582_3 in memory! (computed 8.4 MiB so far)\n",
      "23/04/11 23:42:30 WARN MemoryStore: Not enough space to cache rdd_582_8 in memory! (computed 5.6 MiB so far)\n",
      "23/04/11 23:42:30 WARN MemoryStore: Not enough space to cache rdd_582_0 in memory! (computed 19.6 MiB so far)\n"
     ]
    },
    {
     "name": "stderr",
     "output_type": "stream",
     "text": [
      "[Stage 379:===>                                                    (1 + 8) / 17]\r"
     ]
    },
    {
     "name": "stdout",
     "output_type": "stream",
     "text": [
      "23/04/11 23:42:30 WARN MemoryStore: Not enough space to cache rdd_582_2 in memory! (computed 44.2 MiB so far)\n"
     ]
    },
    {
     "name": "stderr",
     "output_type": "stream",
     "text": [
      "[Stage 379:=============================================>         (14 + 3) / 17]\r"
     ]
    },
    {
     "name": "stdout",
     "output_type": "stream",
     "text": [
      "23/04/11 23:42:31 WARN MemoryStore: Not enough space to cache rdd_582_12 in memory! (computed 13.1 MiB so far)\n",
      "23/04/11 23:42:31 WARN MemoryStore: Not enough space to cache rdd_582_14 in memory! (computed 13.1 MiB so far)\n",
      "23/04/11 23:42:31 WARN MemoryStore: Not enough space to cache rdd_582_10 in memory! (computed 44.2 MiB so far)\n"
     ]
    },
    {
     "name": "stderr",
     "output_type": "stream",
     "text": [
      "                                                                                \r"
     ]
    },
    {
     "name": "stdout",
     "output_type": "stream",
     "text": [
      "23/04/11 23:42:31 WARN MemoryStore: Not enough space to cache rdd_582_1 in memory! (computed 5.6 MiB so far)\n",
      "23/04/11 23:42:31 WARN MemoryStore: Not enough space to cache rdd_582_6 in memory! (computed 5.6 MiB so far)\n",
      "23/04/11 23:42:31 WARN MemoryStore: Not enough space to cache rdd_582_3 in memory! (computed 5.6 MiB so far)\n",
      "23/04/11 23:42:31 WARN MemoryStore: Not enough space to cache rdd_582_2 in memory! (computed 5.6 MiB so far)\n",
      "23/04/11 23:42:31 WARN MemoryStore: Not enough space to cache rdd_582_5 in memory! (computed 13.1 MiB so far)\n",
      "23/04/11 23:42:31 WARN MemoryStore: Not enough space to cache rdd_582_0 in memory! (computed 13.1 MiB so far)\n"
     ]
    },
    {
     "name": "stderr",
     "output_type": "stream",
     "text": [
      "[Stage 381:===>                                                    (1 + 8) / 17]\r"
     ]
    },
    {
     "name": "stdout",
     "output_type": "stream",
     "text": [
      "23/04/11 23:42:32 WARN MemoryStore: Not enough space to cache rdd_582_7 in memory! (computed 29.5 MiB so far)\n",
      "23/04/11 23:42:32 WARN MemoryStore: Not enough space to cache rdd_582_8 in memory! (computed 13.1 MiB so far)\n"
     ]
    },
    {
     "name": "stderr",
     "output_type": "stream",
     "text": [
      "[Stage 381:=============================================>         (14 + 3) / 17]\r"
     ]
    },
    {
     "name": "stdout",
     "output_type": "stream",
     "text": [
      "23/04/11 23:42:33 WARN MemoryStore: Not enough space to cache rdd_582_14 in memory! (computed 13.1 MiB so far)\n",
      "23/04/11 23:42:33 WARN MemoryStore: Not enough space to cache rdd_582_10 in memory! (computed 13.1 MiB so far)\n",
      "23/04/11 23:42:33 WARN MemoryStore: Not enough space to cache rdd_582_12 in memory! (computed 44.2 MiB so far)\n"
     ]
    },
    {
     "name": "stderr",
     "output_type": "stream",
     "text": [
      "                                                                                \r"
     ]
    },
    {
     "name": "stdout",
     "output_type": "stream",
     "text": [
      "23/04/11 23:42:34 WARN MemoryStore: Not enough space to cache rdd_582_7 in memory! (computed 5.6 MiB so far)\n",
      "23/04/11 23:42:34 WARN MemoryStore: Not enough space to cache rdd_582_1 in memory! (computed 5.6 MiB so far)\n",
      "23/04/11 23:42:34 WARN MemoryStore: Not enough space to cache rdd_582_5 in memory! (computed 5.6 MiB so far)\n",
      "23/04/11 23:42:34 WARN MemoryStore: Not enough space to cache rdd_582_3 in memory! (computed 5.6 MiB so far)\n",
      "23/04/11 23:42:34 WARN MemoryStore: Not enough space to cache rdd_582_2 in memory! (computed 13.1 MiB so far)\n",
      "23/04/11 23:42:34 WARN MemoryStore: Failed to reserve initial memory threshold of 1024.0 KiB for computing block rdd_582_8 in memory.\n",
      "23/04/11 23:42:34 WARN MemoryStore: Not enough space to cache rdd_582_8 in memory! (computed 384.0 B so far)\n",
      "23/04/11 23:42:34 WARN MemoryStore: Not enough space to cache rdd_582_0 in memory! (computed 19.6 MiB so far)\n"
     ]
    },
    {
     "name": "stderr",
     "output_type": "stream",
     "text": [
      "[Stage 383:===>                                                    (1 + 8) / 17]\r"
     ]
    },
    {
     "name": "stdout",
     "output_type": "stream",
     "text": [
      "23/04/11 23:42:34 WARN MemoryStore: Not enough space to cache rdd_582_6 in memory! (computed 44.2 MiB so far)\n"
     ]
    },
    {
     "name": "stderr",
     "output_type": "stream",
     "text": [
      "[Stage 383:=============================================>         (14 + 3) / 17]\r"
     ]
    },
    {
     "name": "stdout",
     "output_type": "stream",
     "text": [
      "23/04/11 23:42:34 WARN MemoryStore: Not enough space to cache rdd_582_10 in memory! (computed 13.1 MiB so far)\n",
      "23/04/11 23:42:34 WARN MemoryStore: Not enough space to cache rdd_582_12 in memory! (computed 19.6 MiB so far)\n",
      "23/04/11 23:42:35 WARN MemoryStore: Not enough space to cache rdd_582_14 in memory! (computed 44.2 MiB so far)\n"
     ]
    },
    {
     "name": "stderr",
     "output_type": "stream",
     "text": [
      "                                                                                \r"
     ]
    },
    {
     "name": "stdout",
     "output_type": "stream",
     "text": [
      "23/04/11 23:42:35 WARN MemoryStore: Not enough space to cache rdd_582_0 in memory! (computed 5.6 MiB so far)\n",
      "23/04/11 23:42:35 WARN MemoryStore: Not enough space to cache rdd_582_1 in memory! (computed 5.6 MiB so far)\n",
      "23/04/11 23:42:35 WARN MemoryStore: Not enough space to cache rdd_582_6 in memory! (computed 5.6 MiB so far)\n",
      "23/04/11 23:42:35 WARN MemoryStore: Not enough space to cache rdd_582_7 in memory! (computed 13.1 MiB so far)\n",
      "23/04/11 23:42:35 WARN MemoryStore: Not enough space to cache rdd_582_3 in memory! (computed 8.4 MiB so far)\n",
      "23/04/11 23:42:35 WARN MemoryStore: Not enough space to cache rdd_582_2 in memory! (computed 8.4 MiB so far)\n",
      "23/04/11 23:42:35 WARN MemoryStore: Not enough space to cache rdd_582_5 in memory! (computed 13.1 MiB so far)\n"
     ]
    },
    {
     "name": "stderr",
     "output_type": "stream",
     "text": [
      "[Stage 385:===>                                                    (1 + 8) / 17]\r"
     ]
    },
    {
     "name": "stdout",
     "output_type": "stream",
     "text": [
      "23/04/11 23:42:36 WARN MemoryStore: Not enough space to cache rdd_582_8 in memory! (computed 44.2 MiB so far)\n"
     ]
    },
    {
     "name": "stderr",
     "output_type": "stream",
     "text": [
      "[Stage 385:=============================================>         (14 + 3) / 17]\r"
     ]
    },
    {
     "name": "stdout",
     "output_type": "stream",
     "text": [
      "23/04/11 23:42:36 WARN MemoryStore: Not enough space to cache rdd_582_12 in memory! (computed 13.1 MiB so far)\n",
      "23/04/11 23:42:36 WARN MemoryStore: Not enough space to cache rdd_582_10 in memory! (computed 19.6 MiB so far)\n",
      "23/04/11 23:42:36 WARN MemoryStore: Not enough space to cache rdd_582_14 in memory! (computed 44.2 MiB so far)\n"
     ]
    },
    {
     "name": "stderr",
     "output_type": "stream",
     "text": [
      "                                                                                \r"
     ]
    },
    {
     "name": "stdout",
     "output_type": "stream",
     "text": [
      "23/04/11 23:42:37 WARN MemoryStore: Not enough space to cache rdd_582_6 in memory! (computed 5.6 MiB so far)\n",
      "23/04/11 23:42:37 WARN MemoryStore: Not enough space to cache rdd_582_7 in memory! (computed 5.6 MiB so far)\n",
      "23/04/11 23:42:37 WARN MemoryStore: Not enough space to cache rdd_582_2 in memory! (computed 5.6 MiB so far)\n",
      "23/04/11 23:42:37 WARN MemoryStore: Not enough space to cache rdd_582_1 in memory! (computed 5.6 MiB so far)\n",
      "23/04/11 23:42:37 WARN MemoryStore: Failed to reserve initial memory threshold of 1024.0 KiB for computing block rdd_582_8 in memory.\n",
      "23/04/11 23:42:37 WARN MemoryStore: Not enough space to cache rdd_582_8 in memory! (computed 384.0 B so far)\n",
      "23/04/11 23:42:37 WARN MemoryStore: Not enough space to cache rdd_582_5 in memory! (computed 13.1 MiB so far)\n",
      "23/04/11 23:42:37 WARN MemoryStore: Not enough space to cache rdd_582_3 in memory! (computed 13.1 MiB so far)\n"
     ]
    },
    {
     "name": "stderr",
     "output_type": "stream",
     "text": [
      "[Stage 387:===>                                                    (1 + 8) / 17]\r"
     ]
    },
    {
     "name": "stdout",
     "output_type": "stream",
     "text": [
      "23/04/11 23:42:37 WARN MemoryStore: Not enough space to cache rdd_582_0 in memory! (computed 44.2 MiB so far)\n"
     ]
    },
    {
     "name": "stderr",
     "output_type": "stream",
     "text": [
      "[Stage 387:================================>                      (10 + 7) / 17]\r"
     ]
    },
    {
     "name": "stdout",
     "output_type": "stream",
     "text": [
      "23/04/11 23:42:38 WARN MemoryStore: Not enough space to cache rdd_582_12 in memory! (computed 13.1 MiB so far)\n",
      "23/04/11 23:42:38 WARN MemoryStore: Not enough space to cache rdd_582_14 in memory! (computed 13.1 MiB so far)\n"
     ]
    },
    {
     "name": "stderr",
     "output_type": "stream",
     "text": [
      "[Stage 387:=============================================>         (14 + 3) / 17]\r"
     ]
    },
    {
     "name": "stdout",
     "output_type": "stream",
     "text": [
      "23/04/11 23:42:38 WARN MemoryStore: Not enough space to cache rdd_582_10 in memory! (computed 44.2 MiB so far)\n"
     ]
    },
    {
     "name": "stderr",
     "output_type": "stream",
     "text": [
      "                                                                                \r"
     ]
    },
    {
     "name": "stdout",
     "output_type": "stream",
     "text": [
      "23/04/11 23:42:38 WARN MemoryStore: Not enough space to cache rdd_582_6 in memory! (computed 5.6 MiB so far)\n",
      "23/04/11 23:42:38 WARN MemoryStore: Not enough space to cache rdd_582_5 in memory! (computed 5.6 MiB so far)\n",
      "23/04/11 23:42:38 WARN MemoryStore: Not enough space to cache rdd_582_0 in memory! (computed 5.6 MiB so far)\n",
      "23/04/11 23:42:38 WARN MemoryStore: Failed to reserve initial memory threshold of 1024.0 KiB for computing block rdd_582_8 in memory.\n",
      "23/04/11 23:42:38 WARN MemoryStore: Not enough space to cache rdd_582_8 in memory! (computed 384.0 B so far)\n",
      "23/04/11 23:42:38 WARN MemoryStore: Not enough space to cache rdd_582_3 in memory! (computed 8.4 MiB so far)\n",
      "23/04/11 23:42:38 WARN MemoryStore: Not enough space to cache rdd_582_7 in memory! (computed 13.1 MiB so far)\n",
      "23/04/11 23:42:38 WARN MemoryStore: Not enough space to cache rdd_582_2 in memory! (computed 13.1 MiB so far)\n",
      "23/04/11 23:42:39 WARN MemoryStore: Not enough space to cache rdd_582_1 in memory! (computed 44.2 MiB so far)\n"
     ]
    },
    {
     "name": "stderr",
     "output_type": "stream",
     "text": [
      "[Stage 389:==========================================>            (13 + 4) / 17]\r"
     ]
    },
    {
     "name": "stdout",
     "output_type": "stream",
     "text": [
      "23/04/11 23:42:39 WARN MemoryStore: Not enough space to cache rdd_582_12 in memory! (computed 13.1 MiB so far)\n",
      "23/04/11 23:42:39 WARN MemoryStore: Not enough space to cache rdd_582_10 in memory! (computed 19.6 MiB so far)\n"
     ]
    },
    {
     "name": "stderr",
     "output_type": "stream",
     "text": [
      "[Stage 389:=============================================>         (14 + 3) / 17]\r"
     ]
    },
    {
     "name": "stdout",
     "output_type": "stream",
     "text": [
      "23/04/11 23:42:40 WARN MemoryStore: Not enough space to cache rdd_582_14 in memory! (computed 44.2 MiB so far)\n"
     ]
    },
    {
     "name": "stderr",
     "output_type": "stream",
     "text": [
      "                                                                                \r"
     ]
    },
    {
     "name": "stdout",
     "output_type": "stream",
     "text": [
      "23/04/11 23:42:40 WARN MemoryStore: Not enough space to cache rdd_582_2 in memory! (computed 5.6 MiB so far)\n",
      "23/04/11 23:42:40 WARN MemoryStore: Not enough space to cache rdd_582_1 in memory! (computed 5.6 MiB so far)\n",
      "23/04/11 23:42:40 WARN MemoryStore: Not enough space to cache rdd_582_5 in memory! (computed 8.4 MiB so far)\n",
      "23/04/11 23:42:40 WARN MemoryStore: Not enough space to cache rdd_582_0 in memory! (computed 5.6 MiB so far)\n",
      "23/04/11 23:42:40 WARN MemoryStore: Not enough space to cache rdd_582_6 in memory! (computed 13.1 MiB so far)\n",
      "23/04/11 23:42:40 WARN MemoryStore: Not enough space to cache rdd_582_7 in memory! (computed 13.1 MiB so far)\n",
      "23/04/11 23:42:40 WARN MemoryStore: Not enough space to cache rdd_582_3 in memory! (computed 19.6 MiB so far)\n",
      "23/04/11 23:42:40 WARN MemoryStore: Not enough space to cache rdd_582_8 in memory! (computed 44.2 MiB so far)\n"
     ]
    },
    {
     "name": "stderr",
     "output_type": "stream",
     "text": [
      "[Stage 391:==========================>                             (8 + 8) / 17]\r"
     ]
    },
    {
     "name": "stdout",
     "output_type": "stream",
     "text": [
      "23/04/11 23:42:41 WARN MemoryStore: Not enough space to cache rdd_582_14 in memory! (computed 13.1 MiB so far)\n",
      "23/04/11 23:42:41 WARN MemoryStore: Not enough space to cache rdd_582_12 in memory! (computed 13.1 MiB so far)\n"
     ]
    },
    {
     "name": "stderr",
     "output_type": "stream",
     "text": [
      "[Stage 391:=============================================>         (14 + 3) / 17]\r"
     ]
    },
    {
     "name": "stdout",
     "output_type": "stream",
     "text": [
      "23/04/11 23:42:41 WARN MemoryStore: Not enough space to cache rdd_582_10 in memory! (computed 44.2 MiB so far)\n"
     ]
    },
    {
     "name": "stderr",
     "output_type": "stream",
     "text": [
      "                                                                                \r"
     ]
    },
    {
     "name": "stdout",
     "output_type": "stream",
     "text": [
      "23/04/11 23:42:42 WARN MemoryStore: Not enough space to cache rdd_582_0 in memory! (computed 5.6 MiB so far)\n",
      "23/04/11 23:42:42 WARN MemoryStore: Not enough space to cache rdd_582_7 in memory! (computed 5.6 MiB so far)\n",
      "23/04/11 23:42:42 WARN MemoryStore: Not enough space to cache rdd_582_3 in memory! (computed 5.6 MiB so far)\n",
      "23/04/11 23:42:42 WARN MemoryStore: Not enough space to cache rdd_582_6 in memory! (computed 5.6 MiB so far)\n",
      "23/04/11 23:42:42 WARN MemoryStore: Not enough space to cache rdd_582_1 in memory! (computed 5.6 MiB so far)\n",
      "23/04/11 23:42:42 WARN MemoryStore: Not enough space to cache rdd_582_2 in memory! (computed 19.6 MiB so far)\n",
      "23/04/11 23:42:42 WARN MemoryStore: Not enough space to cache rdd_582_8 in memory! (computed 5.6 MiB so far)\n",
      "23/04/11 23:42:42 WARN MemoryStore: Not enough space to cache rdd_582_5 in memory! (computed 19.6 MiB so far)\n"
     ]
    },
    {
     "name": "stderr",
     "output_type": "stream",
     "text": [
      "[Stage 393:=======================>                                (7 + 8) / 17]\r"
     ]
    },
    {
     "name": "stdout",
     "output_type": "stream",
     "text": [
      "23/04/11 23:42:42 WARN MemoryStore: Not enough space to cache rdd_582_10 in memory! (computed 13.1 MiB so far)\n",
      "23/04/11 23:42:42 WARN MemoryStore: Not enough space to cache rdd_582_14 in memory! (computed 13.1 MiB so far)\n"
     ]
    },
    {
     "name": "stderr",
     "output_type": "stream",
     "text": [
      "[Stage 393:=============================================>         (14 + 3) / 17]\r"
     ]
    },
    {
     "name": "stdout",
     "output_type": "stream",
     "text": [
      "23/04/11 23:42:43 WARN MemoryStore: Not enough space to cache rdd_582_12 in memory! (computed 44.2 MiB so far)\n"
     ]
    },
    {
     "name": "stderr",
     "output_type": "stream",
     "text": [
      "                                                                                \r"
     ]
    },
    {
     "name": "stdout",
     "output_type": "stream",
     "text": [
      "23/04/11 23:42:43 WARN MemoryStore: Not enough space to cache rdd_582_7 in memory! (computed 5.6 MiB so far)\n",
      "23/04/11 23:42:43 WARN MemoryStore: Not enough space to cache rdd_582_6 in memory! (computed 5.6 MiB so far)\n",
      "23/04/11 23:42:43 WARN MemoryStore: Not enough space to cache rdd_582_0 in memory! (computed 5.6 MiB so far)\n",
      "23/04/11 23:42:43 WARN MemoryStore: Not enough space to cache rdd_582_5 in memory! (computed 5.6 MiB so far)\n",
      "23/04/11 23:42:43 WARN MemoryStore: Not enough space to cache rdd_582_1 in memory! (computed 5.6 MiB so far)\n",
      "23/04/11 23:42:43 WARN MemoryStore: Not enough space to cache rdd_582_8 in memory! (computed 5.6 MiB so far)\n",
      "23/04/11 23:42:43 WARN MemoryStore: Not enough space to cache rdd_582_2 in memory! (computed 19.6 MiB so far)\n",
      "23/04/11 23:42:43 WARN MemoryStore: Not enough space to cache rdd_582_3 in memory! (computed 19.6 MiB so far)\n"
     ]
    },
    {
     "name": "stderr",
     "output_type": "stream",
     "text": [
      "[Stage 395:=============================================>         (14 + 3) / 17]\r"
     ]
    },
    {
     "name": "stdout",
     "output_type": "stream",
     "text": [
      "23/04/11 23:42:44 WARN MemoryStore: Not enough space to cache rdd_582_14 in memory! (computed 13.1 MiB so far)\n",
      "23/04/11 23:42:44 WARN MemoryStore: Not enough space to cache rdd_582_12 in memory! (computed 13.1 MiB so far)\n",
      "23/04/11 23:42:44 WARN MemoryStore: Not enough space to cache rdd_582_10 in memory! (computed 44.2 MiB so far)\n"
     ]
    },
    {
     "name": "stderr",
     "output_type": "stream",
     "text": [
      "[Stage 400:>                                                       (0 + 8) / 17]\r"
     ]
    },
    {
     "name": "stdout",
     "output_type": "stream",
     "text": [
      "23/04/11 23:42:57 WARN MemoryStore: Not enough space to cache rdd_653_5 in memory! (computed 44.2 MiB so far)\n",
      "23/04/11 23:42:58 WARN BlockManager: Persisting block rdd_653_5 to disk instead.\n",
      "23/04/11 23:42:58 WARN MemoryStore: Not enough space to cache rdd_653_7 in memory! (computed 44.2 MiB so far)\n",
      "23/04/11 23:42:58 WARN BlockManager: Persisting block rdd_653_7 to disk instead.\n",
      "23/04/11 23:42:58 WARN MemoryStore: Not enough space to cache rdd_653_3 in memory! (computed 44.2 MiB so far)\n",
      "23/04/11 23:42:58 WARN BlockManager: Persisting block rdd_653_3 to disk instead.\n",
      "23/04/11 23:42:58 WARN MemoryStore: Not enough space to cache rdd_653_2 in memory! (computed 44.2 MiB so far)\n",
      "23/04/11 23:42:58 WARN BlockManager: Persisting block rdd_653_2 to disk instead.\n",
      "23/04/11 23:42:58 WARN MemoryStore: Not enough space to cache rdd_653_6 in memory! (computed 44.2 MiB so far)\n",
      "23/04/11 23:42:58 WARN BlockManager: Persisting block rdd_653_6 to disk instead.\n",
      "23/04/11 23:42:58 WARN MemoryStore: Not enough space to cache rdd_653_4 in memory! (computed 44.2 MiB so far)\n",
      "23/04/11 23:42:58 WARN BlockManager: Persisting block rdd_653_4 to disk instead.\n",
      "23/04/11 23:42:58 WARN MemoryStore: Not enough space to cache rdd_653_1 in memory! (computed 44.2 MiB so far)\n",
      "23/04/11 23:42:58 WARN BlockManager: Persisting block rdd_653_1 to disk instead.\n",
      "23/04/11 23:42:58 WARN MemoryStore: Not enough space to cache rdd_653_0 in memory! (computed 44.2 MiB so far)\n",
      "23/04/11 23:42:58 WARN BlockManager: Persisting block rdd_653_0 to disk instead.\n",
      "23/04/11 23:43:02 WARN MemoryStore: Not enough space to cache rdd_653_7 in memory! (computed 44.2 MiB so far)\n",
      "23/04/11 23:43:02 WARN MemoryStore: Not enough space to cache rdd_653_2 in memory! (computed 19.6 MiB so far)\n",
      "23/04/11 23:43:02 WARN MemoryStore: Not enough space to cache rdd_653_5 in memory! (computed 29.5 MiB so far)\n"
     ]
    },
    {
     "name": "stderr",
     "output_type": "stream",
     "text": [
      "[Stage 400:==========================>                             (8 + 8) / 17]\r"
     ]
    },
    {
     "name": "stdout",
     "output_type": "stream",
     "text": [
      "23/04/11 23:43:04 WARN MemoryStore: Not enough space to cache rdd_653_9 in memory! (computed 5.6 MiB so far)\n",
      "23/04/11 23:43:04 WARN MemoryStore: Not enough space to cache rdd_653_10 in memory! (computed 5.6 MiB so far)\n",
      "23/04/11 23:43:04 WARN BlockManager: Persisting block rdd_653_10 to disk instead.\n",
      "23/04/11 23:43:04 WARN BlockManager: Persisting block rdd_653_9 to disk instead.\n",
      "23/04/11 23:43:04 WARN MemoryStore: Not enough space to cache rdd_653_14 in memory! (computed 5.6 MiB so far)\n",
      "23/04/11 23:43:04 WARN BlockManager: Persisting block rdd_653_14 to disk instead.\n",
      "23/04/11 23:43:04 WARN MemoryStore: Not enough space to cache rdd_653_15 in memory! (computed 5.6 MiB so far)\n",
      "23/04/11 23:43:04 WARN BlockManager: Persisting block rdd_653_15 to disk instead.\n",
      "23/04/11 23:43:04 WARN MemoryStore: Not enough space to cache rdd_653_11 in memory! (computed 13.1 MiB so far)\n",
      "23/04/11 23:43:04 WARN MemoryStore: Not enough space to cache rdd_653_12 in memory! (computed 13.1 MiB so far)\n",
      "23/04/11 23:43:04 WARN BlockManager: Persisting block rdd_653_11 to disk instead.\n",
      "23/04/11 23:43:04 WARN BlockManager: Persisting block rdd_653_12 to disk instead.\n",
      "23/04/11 23:43:04 WARN MemoryStore: Not enough space to cache rdd_653_8 in memory! (computed 13.1 MiB so far)\n",
      "23/04/11 23:43:04 WARN BlockManager: Persisting block rdd_653_8 to disk instead.\n",
      "23/04/11 23:43:07 WARN MemoryStore: Not enough space to cache rdd_653_13 in memory! (computed 44.2 MiB so far)\n",
      "23/04/11 23:43:07 WARN BlockManager: Persisting block rdd_653_13 to disk instead.\n",
      "23/04/11 23:43:10 WARN MemoryStore: Not enough space to cache rdd_653_14 in memory! (computed 29.5 MiB so far)\n",
      "23/04/11 23:43:10 WARN MemoryStore: Not enough space to cache rdd_653_13 in memory! (computed 44.2 MiB so far)\n"
     ]
    },
    {
     "name": "stderr",
     "output_type": "stream",
     "text": [
      "[Stage 400:================================>                      (10 + 7) / 17]\r"
     ]
    },
    {
     "name": "stdout",
     "output_type": "stream",
     "text": [
      "23/04/11 23:43:11 WARN MemoryStore: Not enough space to cache rdd_653_11 in memory! (computed 44.2 MiB so far)\n"
     ]
    },
    {
     "name": "stderr",
     "output_type": "stream",
     "text": [
      "[Stage 400:===================================>                   (11 + 6) / 17]\r"
     ]
    },
    {
     "name": "stdout",
     "output_type": "stream",
     "text": [
      "23/04/11 23:43:11 WARN MemoryStore: Not enough space to cache rdd_653_8 in memory! (computed 13.1 MiB so far)\n",
      "23/04/11 23:43:12 WARN MemoryStore: Failed to reserve initial memory threshold of 1024.0 KiB for computing block rdd_653_9 in memory.\n",
      "23/04/11 23:43:12 WARN MemoryStore: Not enough space to cache rdd_653_9 in memory! (computed 384.0 B so far)\n",
      "23/04/11 23:43:12 WARN MemoryStore: Not enough space to cache rdd_653_12 in memory! (computed 19.6 MiB so far)\n"
     ]
    },
    {
     "name": "stderr",
     "output_type": "stream",
     "text": [
      "[Stage 400:======================================>                (12 + 5) / 17]\r"
     ]
    },
    {
     "name": "stdout",
     "output_type": "stream",
     "text": [
      "23/04/11 23:43:12 WARN MemoryStore: Not enough space to cache rdd_653_15 in memory! (computed 44.2 MiB so far)\n"
     ]
    },
    {
     "name": "stderr",
     "output_type": "stream",
     "text": [
      "[Stage 400:================================================>      (15 + 2) / 17]\r"
     ]
    },
    {
     "name": "stdout",
     "output_type": "stream",
     "text": [
      "23/04/11 23:43:12 WARN MemoryStore: Not enough space to cache rdd_653_10 in memory! (computed 44.2 MiB so far)\n"
     ]
    },
    {
     "name": "stderr",
     "output_type": "stream",
     "text": [
      "                                                                                \r"
     ]
    },
    {
     "name": "stdout",
     "output_type": "stream",
     "text": [
      "23/04/11 23:43:13 WARN MemoryStore: Not enough space to cache rdd_653_8 in memory! (computed 3.7 MiB so far)\n",
      "23/04/11 23:43:13 WARN MemoryStore: Not enough space to cache rdd_653_9 in memory! (computed 3.7 MiB so far)\n",
      "23/04/11 23:43:13 WARN MemoryStore: Not enough space to cache rdd_653_11 in memory! (computed 2.5 MiB so far)\n",
      "23/04/11 23:43:13 WARN MemoryStore: Not enough space to cache rdd_653_7 in memory! (computed 13.1 MiB so far)\n",
      "23/04/11 23:43:13 WARN MemoryStore: Not enough space to cache rdd_653_5 in memory! (computed 13.1 MiB so far)\n",
      "23/04/11 23:43:13 WARN MemoryStore: Not enough space to cache rdd_653_12 in memory! (computed 13.1 MiB so far)\n",
      "23/04/11 23:43:13 WARN MemoryStore: Not enough space to cache rdd_653_2 in memory! (computed 19.6 MiB so far)\n"
     ]
    },
    {
     "name": "stderr",
     "output_type": "stream",
     "text": [
      "[Stage 401:================>                                       (5 + 8) / 17]\r"
     ]
    },
    {
     "name": "stdout",
     "output_type": "stream",
     "text": [
      "23/04/11 23:43:14 WARN MemoryStore: Not enough space to cache rdd_653_10 in memory! (computed 44.2 MiB so far)\n"
     ]
    },
    {
     "name": "stderr",
     "output_type": "stream",
     "text": [
      "[Stage 401:=============================================>         (14 + 3) / 17]\r"
     ]
    },
    {
     "name": "stdout",
     "output_type": "stream",
     "text": [
      "23/04/11 23:43:14 WARN MemoryStore: Not enough space to cache rdd_653_13 in memory! (computed 13.1 MiB so far)\n",
      "23/04/11 23:43:14 WARN MemoryStore: Not enough space to cache rdd_653_14 in memory! (computed 13.1 MiB so far)\n",
      "23/04/11 23:43:14 WARN MemoryStore: Not enough space to cache rdd_653_15 in memory! (computed 44.2 MiB so far)\n"
     ]
    },
    {
     "name": "stderr",
     "output_type": "stream",
     "text": [
      "                                                                                \r"
     ]
    },
    {
     "name": "stdout",
     "output_type": "stream",
     "text": [
      "23/04/11 23:43:15 WARN MemoryStore: Not enough space to cache rdd_657_4 in memory! (computed 8.0 MiB so far)\n",
      "23/04/11 23:43:15 WARN MemoryStore: Not enough space to cache rdd_653_7 in memory! (computed 3.7 MiB so far)\n",
      "23/04/11 23:43:15 WARN MemoryStore: Not enough space to cache rdd_653_2 in memory! (computed 5.6 MiB so far)\n",
      "23/04/11 23:43:15 WARN MemoryStore: Not enough space to cache rdd_657_6 in memory! (computed 8.0 MiB so far)\n",
      "23/04/11 23:43:15 WARN MemoryStore: Not enough space to cache rdd_653_5 in memory! (computed 5.6 MiB so far)\n",
      "23/04/11 23:43:15 WARN MemoryStore: Not enough space to cache rdd_657_1 in memory! (computed 8.0 MiB so far)\n",
      "23/04/11 23:43:15 WARN BlockManager: Persisting block rdd_657_1 to disk instead.\n",
      "23/04/11 23:43:15 WARN BlockManager: Persisting block rdd_657_4 to disk instead.\n",
      "23/04/11 23:43:15 WARN MemoryStore: Failed to reserve initial memory threshold of 1024.0 KiB for computing block rdd_653_5 in memory.\n",
      "23/04/11 23:43:15 WARN BlockManager: Persisting block rdd_657_6 to disk instead.\n",
      "23/04/11 23:43:15 WARN MemoryStore: Failed to reserve initial memory threshold of 1024.0 KiB for computing block rdd_653_7 in memory.\n",
      "23/04/11 23:43:15 WARN MemoryStore: Failed to reserve initial memory threshold of 1024.0 KiB for computing block rdd_653_2 in memory.\n",
      "23/04/11 23:43:15 WARN MemoryStore: Not enough space to cache rdd_653_5 in memory! (computed 384.0 B so far)\n",
      "23/04/11 23:43:15 WARN MemoryStore: Failed to reserve initial memory threshold of 1024.0 KiB for computing block rdd_657_5 in memory.\n",
      "23/04/11 23:43:15 WARN MemoryStore: Not enough space to cache rdd_657_5 in memory! (computed 640.0 B so far)\n",
      "23/04/11 23:43:15 WARN BlockManager: Persisting block rdd_657_5 to disk instead.\n",
      "23/04/11 23:43:15 WARN MemoryStore: Not enough space to cache rdd_653_2 in memory! (computed 384.0 B so far)\n",
      "23/04/11 23:43:15 WARN MemoryStore: Failed to reserve initial memory threshold of 1024.0 KiB for computing block rdd_657_2 in memory.\n",
      "23/04/11 23:43:15 WARN MemoryStore: Not enough space to cache rdd_657_2 in memory! (computed 640.0 B so far)\n",
      "23/04/11 23:43:15 WARN BlockManager: Persisting block rdd_657_2 to disk instead.\n",
      "23/04/11 23:43:15 WARN MemoryStore: Not enough space to cache rdd_653_7 in memory! (computed 384.0 B so far)\n",
      "23/04/11 23:43:15 WARN MemoryStore: Failed to reserve initial memory threshold of 1024.0 KiB for computing block rdd_657_7 in memory.\n",
      "23/04/11 23:43:15 WARN MemoryStore: Not enough space to cache rdd_657_7 in memory! (computed 640.0 B so far)\n",
      "23/04/11 23:43:15 WARN BlockManager: Persisting block rdd_657_7 to disk instead.\n"
     ]
    },
    {
     "name": "stderr",
     "output_type": "stream",
     "text": [
      "[Stage 402:================>                                       (5 + 8) / 17]\r"
     ]
    },
    {
     "name": "stdout",
     "output_type": "stream",
     "text": [
      "23/04/11 23:43:15 WARN MemoryStore: Not enough space to cache rdd_653_12 in memory! (computed 2.5 MiB so far)\n",
      "23/04/11 23:43:15 WARN MemoryStore: Not enough space to cache rdd_653_11 in memory! (computed 2.5 MiB so far)\n",
      "23/04/11 23:43:15 WARN MemoryStore: Not enough space to cache rdd_653_10 in memory! (computed 2.5 MiB so far)\n",
      "23/04/11 23:43:15 WARN MemoryStore: Failed to reserve initial memory threshold of 1024.0 KiB for computing block rdd_653_11 in memory.\n",
      "23/04/11 23:43:15 WARN MemoryStore: Failed to reserve initial memory threshold of 1024.0 KiB for computing block rdd_653_10 in memory.\n",
      "23/04/11 23:43:15 WARN MemoryStore: Not enough space to cache rdd_653_10 in memory! (computed 384.0 B so far)\n",
      "23/04/11 23:43:15 WARN MemoryStore: Not enough space to cache rdd_653_11 in memory! (computed 384.0 B so far)\n",
      "23/04/11 23:43:16 WARN MemoryStore: Not enough space to cache rdd_653_9 in memory! (computed 44.2 MiB so far)\n",
      "23/04/11 23:43:16 WARN MemoryStore: Not enough space to cache rdd_653_12 in memory! (computed 19.6 MiB so far)\n",
      "23/04/11 23:43:16 WARN MemoryStore: Not enough space to cache rdd_653_9 in memory! (computed 2.5 MiB so far)\n"
     ]
    },
    {
     "name": "stderr",
     "output_type": "stream",
     "text": [
      "[Stage 402:=============================>                          (9 + 8) / 17]\r"
     ]
    },
    {
     "name": "stdout",
     "output_type": "stream",
     "text": [
      "23/04/11 23:43:17 WARN MemoryStore: Not enough space to cache rdd_653_15 in memory! (computed 5.6 MiB so far)\n"
     ]
    },
    {
     "name": "stderr",
     "output_type": "stream",
     "text": [
      "[Stage 402:==========================================>            (13 + 4) / 17]\r"
     ]
    },
    {
     "name": "stdout",
     "output_type": "stream",
     "text": [
      "23/04/11 23:43:18 WARN MemoryStore: Not enough space to cache rdd_653_14 in memory! (computed 44.2 MiB so far)\n"
     ]
    },
    {
     "name": "stderr",
     "output_type": "stream",
     "text": [
      "[Stage 402:================================================>      (15 + 2) / 17]\r"
     ]
    },
    {
     "name": "stdout",
     "output_type": "stream",
     "text": [
      "23/04/11 23:43:18 WARN MemoryStore: Not enough space to cache rdd_653_14 in memory! (computed 44.2 MiB so far)\n"
     ]
    },
    {
     "name": "stderr",
     "output_type": "stream",
     "text": [
      "                                                                                \r"
     ]
    },
    {
     "name": "stdout",
     "output_type": "stream",
     "text": [
      "23/04/11 23:43:20 WARN MemoryStore: Not enough space to cache rdd_653_6 in memory! (computed 13.1 MiB so far)\n",
      "23/04/11 23:43:20 WARN MemoryStore: Not enough space to cache rdd_653_2 in memory! (computed 13.1 MiB so far)\n",
      "23/04/11 23:43:20 WARN MemoryStore: Not enough space to cache rdd_653_0 in memory! (computed 13.1 MiB so far)\n",
      "23/04/11 23:43:20 WARN MemoryStore: Not enough space to cache rdd_653_5 in memory! (computed 13.1 MiB so far)\n",
      "23/04/11 23:43:20 WARN MemoryStore: Not enough space to cache rdd_653_7 in memory! (computed 13.1 MiB so far)\n",
      "23/04/11 23:43:20 WARN MemoryStore: Not enough space to cache rdd_653_4 in memory! (computed 19.6 MiB so far)\n"
     ]
    },
    {
     "name": "stderr",
     "output_type": "stream",
     "text": [
      "[Stage 403:=============================>                          (9 + 8) / 17]\r"
     ]
    },
    {
     "name": "stdout",
     "output_type": "stream",
     "text": [
      "23/04/11 23:43:22 WARN MemoryStore: Not enough space to cache rdd_653_9 in memory! (computed 66.3 MiB so far)\n",
      "23/04/11 23:43:22 WARN MemoryStore: Not enough space to cache rdd_653_14 in memory! (computed 2.5 MiB so far)\n",
      "23/04/11 23:43:22 WARN MemoryStore: Not enough space to cache rdd_653_12 in memory! (computed 2.5 MiB so far)\n",
      "23/04/11 23:43:22 WARN MemoryStore: Not enough space to cache rdd_653_13 in memory! (computed 13.1 MiB so far)\n"
     ]
    },
    {
     "name": "stderr",
     "output_type": "stream",
     "text": [
      "                                                                                \r"
     ]
    },
    {
     "name": "stdout",
     "output_type": "stream",
     "text": [
      "23/04/11 23:43:23 WARN MemoryStore: Not enough space to cache rdd_653_3 in memory! (computed 13.1 MiB so far)\n",
      "23/04/11 23:43:23 WARN MemoryStore: Not enough space to cache rdd_653_5 in memory! (computed 13.1 MiB so far)\n",
      "23/04/11 23:43:23 WARN MemoryStore: Not enough space to cache rdd_653_7 in memory! (computed 13.1 MiB so far)\n",
      "23/04/11 23:43:23 WARN MemoryStore: Not enough space to cache rdd_653_6 in memory! (computed 19.6 MiB so far)\n"
     ]
    },
    {
     "name": "stderr",
     "output_type": "stream",
     "text": [
      "[Stage 404:===>                                                    (1 + 8) / 17]\r"
     ]
    },
    {
     "name": "stdout",
     "output_type": "stream",
     "text": [
      "23/04/11 23:43:24 WARN MemoryStore: Not enough space to cache rdd_653_4 in memory! (computed 44.2 MiB so far)\n",
      "23/04/11 23:43:24 WARN MemoryStore: Not enough space to cache rdd_653_0 in memory! (computed 44.2 MiB so far)\n",
      "23/04/11 23:43:25 WARN MemoryStore: Not enough space to cache rdd_653_2 in memory! (computed 66.3 MiB so far)\n"
     ]
    },
    {
     "name": "stderr",
     "output_type": "stream",
     "text": [
      "[Stage 404:==========================>                             (8 + 8) / 17]\r"
     ]
    },
    {
     "name": "stdout",
     "output_type": "stream",
     "text": [
      "23/04/11 23:43:27 WARN MemoryStore: Not enough space to cache rdd_653_10 in memory! (computed 29.5 MiB so far)\n",
      "23/04/11 23:43:27 WARN MemoryStore: Not enough space to cache rdd_653_9 in memory! (computed 44.2 MiB so far)\n",
      "23/04/11 23:43:27 WARN MemoryStore: Not enough space to cache rdd_653_11 in memory! (computed 29.5 MiB so far)\n",
      "23/04/11 23:43:27 WARN MemoryStore: Not enough space to cache rdd_653_12 in memory! (computed 29.5 MiB so far)\n",
      "23/04/11 23:43:27 WARN MemoryStore: Not enough space to cache rdd_653_15 in memory! (computed 29.5 MiB so far)\n",
      "23/04/11 23:43:27 WARN MemoryStore: Not enough space to cache rdd_653_14 in memory! (computed 29.5 MiB so far)\n"
     ]
    },
    {
     "name": "stderr",
     "output_type": "stream",
     "text": [
      "[Stage 405:>                                                       (0 + 8) / 17]\r"
     ]
    },
    {
     "name": "stdout",
     "output_type": "stream",
     "text": [
      "23/04/11 23:43:30 WARN MemoryStore: Not enough space to cache rdd_653_5 in memory! (computed 44.2 MiB so far)\n",
      "23/04/11 23:43:30 WARN MemoryStore: Not enough space to cache rdd_653_7 in memory! (computed 29.5 MiB so far)\n",
      "23/04/11 23:43:30 WARN MemoryStore: Not enough space to cache rdd_653_1 in memory! (computed 29.5 MiB so far)\n",
      "23/04/11 23:43:30 WARN MemoryStore: Not enough space to cache rdd_653_2 in memory! (computed 29.5 MiB so far)\n",
      "23/04/11 23:43:30 WARN MemoryStore: Not enough space to cache rdd_653_6 in memory! (computed 29.5 MiB so far)\n",
      "23/04/11 23:43:30 WARN MemoryStore: Not enough space to cache rdd_653_4 in memory! (computed 29.5 MiB so far)\n",
      "23/04/11 23:43:30 WARN MemoryStore: Not enough space to cache rdd_653_3 in memory! (computed 29.5 MiB so far)\n",
      "23/04/11 23:43:30 WARN MemoryStore: Not enough space to cache rdd_661_7 in memory! (computed 8.0 MiB so far)\n"
     ]
    },
    {
     "name": "stderr",
     "output_type": "stream",
     "text": [
      "[Stage 405:==========================>                             (8 + 8) / 17]\r"
     ]
    },
    {
     "name": "stdout",
     "output_type": "stream",
     "text": [
      "23/04/11 23:43:32 WARN MemoryStore: Not enough space to cache rdd_653_10 in memory! (computed 29.5 MiB so far)\n",
      "23/04/11 23:43:32 WARN MemoryStore: Not enough space to cache rdd_653_9 in memory! (computed 29.5 MiB so far)\n",
      "23/04/11 23:43:32 WARN MemoryStore: Not enough space to cache rdd_653_12 in memory! (computed 29.5 MiB so far)\n",
      "23/04/11 23:43:32 WARN MemoryStore: Not enough space to cache rdd_653_14 in memory! (computed 29.5 MiB so far)\n",
      "23/04/11 23:43:32 WARN MemoryStore: Not enough space to cache rdd_653_8 in memory! (computed 29.5 MiB so far)\n",
      "23/04/11 23:43:32 WARN MemoryStore: Not enough space to cache rdd_653_13 in memory! (computed 29.5 MiB so far)\n",
      "23/04/11 23:43:32 WARN MemoryStore: Not enough space to cache rdd_661_14 in memory! (computed 8.0 MiB so far)\n",
      "23/04/11 23:43:32 WARN MemoryStore: Not enough space to cache rdd_661_10 in memory! (computed 8.0 MiB so far)\n",
      "23/04/11 23:43:32 WARN MemoryStore: Not enough space to cache rdd_661_9 in memory! (computed 8.0 MiB so far)\n",
      "23/04/11 23:43:32 WARN MemoryStore: Not enough space to cache rdd_661_12 in memory! (computed 8.0 MiB so far)\n",
      "23/04/11 23:43:32 WARN MemoryStore: Not enough space to cache rdd_661_13 in memory! (computed 8.0 MiB so far)\n"
     ]
    },
    {
     "name": "stderr",
     "output_type": "stream",
     "text": [
      "                                                                                \r"
     ]
    },
    {
     "name": "stdout",
     "output_type": "stream",
     "text": [
      "23/04/11 23:43:34 WARN MemoryStore: Not enough space to cache rdd_653_3 in memory! (computed 19.6 MiB so far)\n",
      "23/04/11 23:43:34 WARN MemoryStore: Not enough space to cache rdd_653_7 in memory! (computed 29.5 MiB so far)\n",
      "23/04/11 23:43:34 WARN MemoryStore: Not enough space to cache rdd_653_5 in memory! (computed 29.5 MiB so far)\n",
      "23/04/11 23:43:34 WARN MemoryStore: Not enough space to cache rdd_653_4 in memory! (computed 29.5 MiB so far)\n",
      "23/04/11 23:43:34 WARN MemoryStore: Not enough space to cache rdd_653_1 in memory! (computed 29.5 MiB so far)\n",
      "23/04/11 23:43:34 WARN MemoryStore: Not enough space to cache rdd_653_0 in memory! (computed 29.5 MiB so far)\n",
      "23/04/11 23:43:34 WARN MemoryStore: Not enough space to cache rdd_653_2 in memory! (computed 29.5 MiB so far)\n"
     ]
    },
    {
     "name": "stderr",
     "output_type": "stream",
     "text": [
      "[Stage 406:==========================>                             (8 + 8) / 17]\r"
     ]
    },
    {
     "name": "stdout",
     "output_type": "stream",
     "text": [
      "23/04/11 23:43:36 WARN MemoryStore: Not enough space to cache rdd_653_13 in memory! (computed 19.6 MiB so far)\n",
      "23/04/11 23:43:36 WARN MemoryStore: Not enough space to cache rdd_653_9 in memory! (computed 29.5 MiB so far)\n",
      "23/04/11 23:43:36 WARN MemoryStore: Not enough space to cache rdd_653_8 in memory! (computed 29.5 MiB so far)\n",
      "23/04/11 23:43:36 WARN MemoryStore: Not enough space to cache rdd_653_12 in memory! (computed 29.5 MiB so far)\n"
     ]
    },
    {
     "name": "stderr",
     "output_type": "stream",
     "text": [
      "                                                                                \r"
     ]
    },
    {
     "name": "stdout",
     "output_type": "stream",
     "text": [
      "23/04/11 23:43:38 WARN MemoryStore: Not enough space to cache rdd_653_0 in memory! (computed 5.6 MiB so far)\n",
      "23/04/11 23:43:38 WARN MemoryStore: Not enough space to cache rdd_653_4 in memory! (computed 5.6 MiB so far)\n",
      "23/04/11 23:43:38 WARN MemoryStore: Not enough space to cache rdd_653_5 in memory! (computed 5.6 MiB so far)\n",
      "23/04/11 23:43:38 WARN MemoryStore: Not enough space to cache rdd_653_7 in memory! (computed 8.4 MiB so far)\n",
      "23/04/11 23:43:38 WARN MemoryStore: Not enough space to cache rdd_653_2 in memory! (computed 8.4 MiB so far)\n",
      "23/04/11 23:43:38 WARN MemoryStore: Not enough space to cache rdd_653_1 in memory! (computed 19.6 MiB so far)\n",
      "23/04/11 23:43:38 WARN MemoryStore: Not enough space to cache rdd_653_8 in memory! (computed 8.4 MiB so far)\n",
      "23/04/11 23:43:38 WARN MemoryStore: Not enough space to cache rdd_653_3 in memory! (computed 19.6 MiB so far)\n"
     ]
    },
    {
     "name": "stderr",
     "output_type": "stream",
     "text": [
      "[Stage 408:================================>                      (10 + 7) / 17]\r"
     ]
    },
    {
     "name": "stdout",
     "output_type": "stream",
     "text": [
      "23/04/11 23:43:39 WARN MemoryStore: Not enough space to cache rdd_653_12 in memory! (computed 13.1 MiB so far)\n",
      "23/04/11 23:43:39 WARN MemoryStore: Not enough space to cache rdd_653_13 in memory! (computed 19.6 MiB so far)\n"
     ]
    },
    {
     "name": "stderr",
     "output_type": "stream",
     "text": [
      "[Stage 408:=============================================>         (14 + 3) / 17]\r"
     ]
    },
    {
     "name": "stdout",
     "output_type": "stream",
     "text": [
      "23/04/11 23:43:39 WARN MemoryStore: Not enough space to cache rdd_653_9 in memory! (computed 44.2 MiB so far)\n"
     ]
    },
    {
     "name": "stderr",
     "output_type": "stream",
     "text": [
      "                                                                                \r"
     ]
    },
    {
     "name": "stdout",
     "output_type": "stream",
     "text": [
      "23/04/11 23:43:39 WARN MemoryStore: Not enough space to cache rdd_653_0 in memory! (computed 5.6 MiB so far)\n",
      "23/04/11 23:43:39 WARN MemoryStore: Not enough space to cache rdd_653_4 in memory! (computed 5.6 MiB so far)\n",
      "23/04/11 23:43:39 WARN MemoryStore: Failed to reserve initial memory threshold of 1024.0 KiB for computing block rdd_653_8 in memory.\n",
      "23/04/11 23:43:39 WARN MemoryStore: Not enough space to cache rdd_653_8 in memory! (computed 384.0 B so far)\n",
      "23/04/11 23:43:39 WARN MemoryStore: Not enough space to cache rdd_653_3 in memory! (computed 8.4 MiB so far)\n",
      "23/04/11 23:43:39 WARN MemoryStore: Not enough space to cache rdd_653_7 in memory! (computed 8.4 MiB so far)\n",
      "23/04/11 23:43:39 WARN MemoryStore: Not enough space to cache rdd_653_5 in memory! (computed 13.1 MiB so far)\n",
      "23/04/11 23:43:40 WARN MemoryStore: Not enough space to cache rdd_653_2 in memory! (computed 19.6 MiB so far)\n",
      "23/04/11 23:43:40 WARN MemoryStore: Not enough space to cache rdd_653_1 in memory! (computed 44.2 MiB so far)\n"
     ]
    },
    {
     "name": "stderr",
     "output_type": "stream",
     "text": [
      "[Stage 410:=========>                                              (3 + 9) / 17]\r"
     ]
    },
    {
     "name": "stdout",
     "output_type": "stream",
     "text": [
      "23/04/11 23:43:40 WARN MemoryStore: Not enough space to cache rdd_653_13 in memory! (computed 13.1 MiB so far)\n",
      "23/04/11 23:43:40 WARN MemoryStore: Not enough space to cache rdd_653_12 in memory! (computed 13.1 MiB so far)\n"
     ]
    },
    {
     "name": "stderr",
     "output_type": "stream",
     "text": [
      "[Stage 410:=============================================>         (14 + 3) / 17]\r"
     ]
    },
    {
     "name": "stdout",
     "output_type": "stream",
     "text": [
      "23/04/11 23:43:40 WARN MemoryStore: Not enough space to cache rdd_653_9 in memory! (computed 44.2 MiB so far)\n"
     ]
    },
    {
     "name": "stderr",
     "output_type": "stream",
     "text": [
      "                                                                                \r"
     ]
    },
    {
     "name": "stdout",
     "output_type": "stream",
     "text": [
      "23/04/11 23:43:41 WARN MemoryStore: Not enough space to cache rdd_653_0 in memory! (computed 3.7 MiB so far)\n",
      "23/04/11 23:43:41 WARN MemoryStore: Not enough space to cache rdd_653_2 in memory! (computed 8.4 MiB so far)\n",
      "23/04/11 23:43:41 WARN MemoryStore: Not enough space to cache rdd_653_7 in memory! (computed 3.7 MiB so far)\n",
      "23/04/11 23:43:41 WARN MemoryStore: Not enough space to cache rdd_653_4 in memory! (computed 5.6 MiB so far)\n",
      "23/04/11 23:43:41 WARN MemoryStore: Not enough space to cache rdd_653_3 in memory! (computed 8.4 MiB so far)\n",
      "23/04/11 23:43:41 WARN MemoryStore: Not enough space to cache rdd_653_1 in memory! (computed 19.6 MiB so far)\n",
      "23/04/11 23:43:41 WARN MemoryStore: Not enough space to cache rdd_653_5 in memory! (computed 29.5 MiB so far)\n",
      "23/04/11 23:43:41 WARN MemoryStore: Not enough space to cache rdd_653_8 in memory! (computed 19.6 MiB so far)\n"
     ]
    },
    {
     "name": "stderr",
     "output_type": "stream",
     "text": [
      "[Stage 412:=============================================>         (14 + 3) / 17]\r"
     ]
    },
    {
     "name": "stdout",
     "output_type": "stream",
     "text": [
      "23/04/11 23:43:42 WARN MemoryStore: Not enough space to cache rdd_653_12 in memory! (computed 13.1 MiB so far)\n",
      "23/04/11 23:43:42 WARN MemoryStore: Not enough space to cache rdd_653_13 in memory! (computed 19.6 MiB so far)\n",
      "23/04/11 23:43:42 WARN MemoryStore: Not enough space to cache rdd_653_9 in memory! (computed 44.2 MiB so far)\n"
     ]
    },
    {
     "name": "stderr",
     "output_type": "stream",
     "text": [
      "                                                                                \r"
     ]
    },
    {
     "name": "stdout",
     "output_type": "stream",
     "text": [
      "23/04/11 23:43:43 WARN MemoryStore: Not enough space to cache rdd_653_0 in memory! (computed 5.6 MiB so far)\n",
      "23/04/11 23:43:43 WARN MemoryStore: Not enough space to cache rdd_653_2 in memory! (computed 3.7 MiB so far)\n",
      "23/04/11 23:43:43 WARN MemoryStore: Not enough space to cache rdd_653_5 in memory! (computed 8.4 MiB so far)\n",
      "23/04/11 23:43:43 WARN MemoryStore: Not enough space to cache rdd_653_1 in memory! (computed 8.4 MiB so far)\n",
      "23/04/11 23:43:43 WARN MemoryStore: Not enough space to cache rdd_653_7 in memory! (computed 13.1 MiB so far)\n",
      "23/04/11 23:43:43 WARN MemoryStore: Not enough space to cache rdd_653_4 in memory! (computed 13.1 MiB so far)\n",
      "23/04/11 23:43:43 WARN MemoryStore: Not enough space to cache rdd_653_8 in memory! (computed 5.6 MiB so far)\n"
     ]
    },
    {
     "name": "stderr",
     "output_type": "stream",
     "text": [
      "[Stage 414:===>                                                    (1 + 8) / 17]\r"
     ]
    },
    {
     "name": "stdout",
     "output_type": "stream",
     "text": [
      "23/04/11 23:43:43 WARN MemoryStore: Not enough space to cache rdd_653_3 in memory! (computed 44.2 MiB so far)\n"
     ]
    },
    {
     "name": "stderr",
     "output_type": "stream",
     "text": [
      "[Stage 414:=============================================>         (14 + 3) / 17]\r"
     ]
    },
    {
     "name": "stdout",
     "output_type": "stream",
     "text": [
      "23/04/11 23:43:44 WARN MemoryStore: Not enough space to cache rdd_653_12 in memory! (computed 13.1 MiB so far)\n",
      "23/04/11 23:43:44 WARN MemoryStore: Not enough space to cache rdd_653_13 in memory! (computed 19.6 MiB so far)\n",
      "23/04/11 23:43:44 WARN MemoryStore: Not enough space to cache rdd_653_9 in memory! (computed 44.2 MiB so far)\n"
     ]
    },
    {
     "name": "stderr",
     "output_type": "stream",
     "text": [
      "                                                                                \r"
     ]
    },
    {
     "name": "stdout",
     "output_type": "stream",
     "text": [
      "23/04/11 23:43:45 WARN MemoryStore: Not enough space to cache rdd_653_7 in memory! (computed 5.6 MiB so far)\n",
      "23/04/11 23:43:45 WARN MemoryStore: Not enough space to cache rdd_653_5 in memory! (computed 5.6 MiB so far)\n",
      "23/04/11 23:43:45 WARN MemoryStore: Not enough space to cache rdd_653_0 in memory! (computed 8.4 MiB so far)\n",
      "23/04/11 23:43:45 WARN MemoryStore: Not enough space to cache rdd_653_4 in memory! (computed 5.6 MiB so far)\n",
      "23/04/11 23:43:45 WARN MemoryStore: Failed to reserve initial memory threshold of 1024.0 KiB for computing block rdd_653_8 in memory.\n",
      "23/04/11 23:43:45 WARN MemoryStore: Not enough space to cache rdd_653_8 in memory! (computed 384.0 B so far)\n",
      "23/04/11 23:43:45 WARN MemoryStore: Not enough space to cache rdd_653_1 in memory! (computed 8.4 MiB so far)\n",
      "23/04/11 23:43:45 WARN MemoryStore: Not enough space to cache rdd_653_2 in memory! (computed 8.4 MiB so far)\n",
      "23/04/11 23:43:45 WARN MemoryStore: Not enough space to cache rdd_653_3 in memory! (computed 8.4 MiB so far)\n"
     ]
    },
    {
     "name": "stderr",
     "output_type": "stream",
     "text": [
      "[Stage 416:======================================>                (12 + 5) / 17]\r"
     ]
    },
    {
     "name": "stdout",
     "output_type": "stream",
     "text": [
      "23/04/11 23:43:46 WARN MemoryStore: Not enough space to cache rdd_653_13 in memory! (computed 13.1 MiB so far)\n",
      "23/04/11 23:43:46 WARN MemoryStore: Not enough space to cache rdd_653_12 in memory! (computed 13.1 MiB so far)\n"
     ]
    },
    {
     "name": "stderr",
     "output_type": "stream",
     "text": [
      "[Stage 416:=============================================>         (14 + 3) / 17]\r"
     ]
    },
    {
     "name": "stdout",
     "output_type": "stream",
     "text": [
      "23/04/11 23:43:46 WARN MemoryStore: Not enough space to cache rdd_653_9 in memory! (computed 44.2 MiB so far)\n"
     ]
    },
    {
     "name": "stderr",
     "output_type": "stream",
     "text": [
      "                                                                                \r"
     ]
    },
    {
     "name": "stdout",
     "output_type": "stream",
     "text": [
      "23/04/11 23:43:47 WARN MemoryStore: Not enough space to cache rdd_653_1 in memory! (computed 5.6 MiB so far)\n",
      "23/04/11 23:43:47 WARN MemoryStore: Not enough space to cache rdd_653_5 in memory! (computed 5.6 MiB so far)\n",
      "23/04/11 23:43:47 WARN MemoryStore: Not enough space to cache rdd_653_4 in memory! (computed 3.7 MiB so far)\n",
      "23/04/11 23:43:47 WARN MemoryStore: Not enough space to cache rdd_653_7 in memory! (computed 8.4 MiB so far)\n",
      "23/04/11 23:43:47 WARN MemoryStore: Not enough space to cache rdd_653_8 in memory! (computed 3.7 MiB so far)\n",
      "23/04/11 23:43:47 WARN MemoryStore: Not enough space to cache rdd_653_0 in memory! (computed 13.1 MiB so far)\n",
      "23/04/11 23:43:47 WARN MemoryStore: Not enough space to cache rdd_653_2 in memory! (computed 13.1 MiB so far)\n",
      "23/04/11 23:43:47 WARN MemoryStore: Not enough space to cache rdd_653_3 in memory! (computed 44.2 MiB so far)\n"
     ]
    },
    {
     "name": "stderr",
     "output_type": "stream",
     "text": [
      "[Stage 418:===================>                                    (6 + 8) / 17]\r"
     ]
    },
    {
     "name": "stdout",
     "output_type": "stream",
     "text": [
      "23/04/11 23:43:48 WARN MemoryStore: Not enough space to cache rdd_653_12 in memory! (computed 13.1 MiB so far)\n",
      "23/04/11 23:43:48 WARN MemoryStore: Not enough space to cache rdd_653_13 in memory! (computed 19.6 MiB so far)\n"
     ]
    },
    {
     "name": "stderr",
     "output_type": "stream",
     "text": [
      "[Stage 418:=============================================>         (14 + 3) / 17]\r"
     ]
    },
    {
     "name": "stdout",
     "output_type": "stream",
     "text": [
      "23/04/11 23:43:48 WARN MemoryStore: Not enough space to cache rdd_653_9 in memory! (computed 44.2 MiB so far)\n"
     ]
    },
    {
     "name": "stderr",
     "output_type": "stream",
     "text": [
      "                                                                                \r"
     ]
    },
    {
     "name": "stdout",
     "output_type": "stream",
     "text": [
      "23/04/11 23:43:48 WARN MemoryStore: Failed to reserve initial memory threshold of 1024.0 KiB for computing block rdd_653_8 in memory.\n",
      "23/04/11 23:43:48 WARN MemoryStore: Not enough space to cache rdd_653_8 in memory! (computed 384.0 B so far)\n",
      "23/04/11 23:43:48 WARN MemoryStore: Not enough space to cache rdd_653_5 in memory! (computed 5.6 MiB so far)\n",
      "23/04/11 23:43:48 WARN MemoryStore: Not enough space to cache rdd_653_1 in memory! (computed 5.6 MiB so far)\n",
      "23/04/11 23:43:48 WARN MemoryStore: Not enough space to cache rdd_653_2 in memory! (computed 5.6 MiB so far)\n",
      "23/04/11 23:43:48 WARN MemoryStore: Not enough space to cache rdd_653_7 in memory! (computed 8.4 MiB so far)\n",
      "23/04/11 23:43:48 WARN MemoryStore: Not enough space to cache rdd_653_3 in memory! (computed 13.1 MiB so far)\n",
      "23/04/11 23:43:48 WARN MemoryStore: Not enough space to cache rdd_653_4 in memory! (computed 19.6 MiB so far)\n",
      "23/04/11 23:43:49 WARN MemoryStore: Not enough space to cache rdd_653_0 in memory! (computed 44.2 MiB so far)\n"
     ]
    },
    {
     "name": "stderr",
     "output_type": "stream",
     "text": [
      "[Stage 420:===>                                                    (1 + 9) / 17]\r"
     ]
    },
    {
     "name": "stdout",
     "output_type": "stream",
     "text": [
      "23/04/11 23:43:49 WARN MemoryStore: Not enough space to cache rdd_653_12 in memory! (computed 13.1 MiB so far)\n",
      "23/04/11 23:43:49 WARN MemoryStore: Not enough space to cache rdd_653_13 in memory! (computed 13.1 MiB so far)\n"
     ]
    },
    {
     "name": "stderr",
     "output_type": "stream",
     "text": [
      "[Stage 420:=============================================>         (14 + 3) / 17]\r"
     ]
    },
    {
     "name": "stdout",
     "output_type": "stream",
     "text": [
      "23/04/11 23:43:49 WARN MemoryStore: Not enough space to cache rdd_653_9 in memory! (computed 44.2 MiB so far)\n"
     ]
    },
    {
     "name": "stderr",
     "output_type": "stream",
     "text": [
      "                                                                                \r"
     ]
    },
    {
     "name": "stdout",
     "output_type": "stream",
     "text": [
      "23/04/11 23:43:50 WARN MemoryStore: Not enough space to cache rdd_653_5 in memory! (computed 3.7 MiB so far)\n",
      "23/04/11 23:43:50 WARN MemoryStore: Not enough space to cache rdd_653_0 in memory! (computed 5.6 MiB so far)\n",
      "23/04/11 23:43:50 WARN MemoryStore: Not enough space to cache rdd_653_7 in memory! (computed 8.4 MiB so far)\n",
      "23/04/11 23:43:50 WARN MemoryStore: Not enough space to cache rdd_653_3 in memory! (computed 8.4 MiB so far)\n",
      "23/04/11 23:43:50 WARN MemoryStore: Not enough space to cache rdd_653_4 in memory! (computed 13.1 MiB so far)\n",
      "23/04/11 23:43:50 WARN MemoryStore: Not enough space to cache rdd_653_2 in memory! (computed 19.6 MiB so far)\n",
      "23/04/11 23:43:50 WARN MemoryStore: Not enough space to cache rdd_653_8 in memory! (computed 19.6 MiB so far)\n"
     ]
    },
    {
     "name": "stderr",
     "output_type": "stream",
     "text": [
      "[Stage 422:===>                                                    (1 + 8) / 17]\r"
     ]
    },
    {
     "name": "stdout",
     "output_type": "stream",
     "text": [
      "23/04/11 23:43:50 WARN MemoryStore: Not enough space to cache rdd_653_1 in memory! (computed 44.2 MiB so far)\n"
     ]
    },
    {
     "name": "stderr",
     "output_type": "stream",
     "text": [
      "[Stage 422:=============================================>         (14 + 3) / 17]\r"
     ]
    },
    {
     "name": "stdout",
     "output_type": "stream",
     "text": [
      "23/04/11 23:43:51 WARN MemoryStore: Not enough space to cache rdd_653_12 in memory! (computed 13.1 MiB so far)\n",
      "23/04/11 23:43:51 WARN MemoryStore: Not enough space to cache rdd_653_13 in memory! (computed 19.6 MiB so far)\n",
      "23/04/11 23:43:51 WARN MemoryStore: Not enough space to cache rdd_653_9 in memory! (computed 44.2 MiB so far)\n"
     ]
    },
    {
     "name": "stderr",
     "output_type": "stream",
     "text": [
      "                                                                                \r"
     ]
    },
    {
     "name": "stdout",
     "output_type": "stream",
     "text": [
      "23/04/11 23:43:51 WARN MemoryStore: Not enough space to cache rdd_653_7 in memory! (computed 5.6 MiB so far)\n",
      "23/04/11 23:43:51 WARN MemoryStore: Not enough space to cache rdd_653_2 in memory! (computed 5.6 MiB so far)\n",
      "23/04/11 23:43:51 WARN MemoryStore: Not enough space to cache rdd_653_1 in memory! (computed 5.6 MiB so far)\n",
      "23/04/11 23:43:51 WARN MemoryStore: Not enough space to cache rdd_653_0 in memory! (computed 8.4 MiB so far)\n",
      "23/04/11 23:43:51 WARN MemoryStore: Not enough space to cache rdd_653_5 in memory! (computed 13.1 MiB so far)\n",
      "23/04/11 23:43:51 WARN MemoryStore: Not enough space to cache rdd_653_4 in memory! (computed 13.1 MiB so far)\n",
      "23/04/11 23:43:52 WARN MemoryStore: Not enough space to cache rdd_653_3 in memory! (computed 29.5 MiB so far)\n"
     ]
    },
    {
     "name": "stderr",
     "output_type": "stream",
     "text": [
      "[Stage 424:==========================>                             (8 + 8) / 17]\r"
     ]
    },
    {
     "name": "stdout",
     "output_type": "stream",
     "text": [
      "23/04/11 23:43:52 WARN MemoryStore: Not enough space to cache rdd_653_8 in memory! (computed 44.2 MiB so far)\n",
      "23/04/11 23:43:52 WARN MemoryStore: Not enough space to cache rdd_653_9 in memory! (computed 13.1 MiB so far)\n",
      "23/04/11 23:43:52 WARN MemoryStore: Not enough space to cache rdd_653_13 in memory! (computed 13.1 MiB so far)\n"
     ]
    },
    {
     "name": "stderr",
     "output_type": "stream",
     "text": [
      "[Stage 424:=============================================>         (14 + 3) / 17]\r"
     ]
    },
    {
     "name": "stdout",
     "output_type": "stream",
     "text": [
      "23/04/11 23:43:52 WARN MemoryStore: Not enough space to cache rdd_653_12 in memory! (computed 44.2 MiB so far)\n"
     ]
    },
    {
     "name": "stderr",
     "output_type": "stream",
     "text": [
      "                                                                                \r"
     ]
    },
    {
     "name": "stdout",
     "output_type": "stream",
     "text": [
      "23/04/11 23:43:53 WARN MemoryStore: Failed to reserve initial memory threshold of 1024.0 KiB for computing block rdd_653_8 in memory.\n",
      "23/04/11 23:43:53 WARN MemoryStore: Not enough space to cache rdd_653_8 in memory! (computed 384.0 B so far)\n",
      "23/04/11 23:43:53 WARN MemoryStore: Not enough space to cache rdd_653_5 in memory! (computed 5.6 MiB so far)\n",
      "23/04/11 23:43:53 WARN MemoryStore: Not enough space to cache rdd_653_4 in memory! (computed 5.6 MiB so far)\n",
      "23/04/11 23:43:53 WARN MemoryStore: Not enough space to cache rdd_653_1 in memory! (computed 8.4 MiB so far)\n",
      "23/04/11 23:43:53 WARN MemoryStore: Not enough space to cache rdd_653_0 in memory! (computed 13.1 MiB so far)\n",
      "23/04/11 23:43:53 WARN MemoryStore: Not enough space to cache rdd_653_7 in memory! (computed 13.1 MiB so far)\n",
      "23/04/11 23:43:53 WARN MemoryStore: Not enough space to cache rdd_653_3 in memory! (computed 13.1 MiB so far)\n"
     ]
    },
    {
     "name": "stderr",
     "output_type": "stream",
     "text": [
      "[Stage 426:===>                                                    (1 + 8) / 17]\r"
     ]
    },
    {
     "name": "stdout",
     "output_type": "stream",
     "text": [
      "23/04/11 23:43:53 WARN MemoryStore: Not enough space to cache rdd_653_2 in memory! (computed 44.2 MiB so far)\n",
      "23/04/11 23:43:54 WARN MemoryStore: Not enough space to cache rdd_653_13 in memory! (computed 13.1 MiB so far)\n",
      "23/04/11 23:43:54 WARN MemoryStore: Not enough space to cache rdd_653_12 in memory! (computed 13.1 MiB so far)\n"
     ]
    },
    {
     "name": "stderr",
     "output_type": "stream",
     "text": [
      "[Stage 426:=============================================>         (14 + 3) / 17]\r"
     ]
    },
    {
     "name": "stdout",
     "output_type": "stream",
     "text": [
      "23/04/11 23:43:54 WARN MemoryStore: Not enough space to cache rdd_653_9 in memory! (computed 44.2 MiB so far)\n"
     ]
    },
    {
     "name": "stderr",
     "output_type": "stream",
     "text": [
      "                                                                                \r"
     ]
    },
    {
     "name": "stdout",
     "output_type": "stream",
     "text": [
      "23/04/11 23:43:54 WARN MemoryStore: Not enough space to cache rdd_653_4 in memory! (computed 5.6 MiB so far)\n",
      "23/04/11 23:43:54 WARN MemoryStore: Failed to reserve initial memory threshold of 1024.0 KiB for computing block rdd_653_8 in memory.\n",
      "23/04/11 23:43:54 WARN MemoryStore: Not enough space to cache rdd_653_8 in memory! (computed 384.0 B so far)\n",
      "23/04/11 23:43:54 WARN MemoryStore: Not enough space to cache rdd_653_5 in memory! (computed 5.6 MiB so far)\n",
      "23/04/11 23:43:54 WARN MemoryStore: Not enough space to cache rdd_653_7 in memory! (computed 5.6 MiB so far)\n",
      "23/04/11 23:43:54 WARN MemoryStore: Not enough space to cache rdd_653_2 in memory! (computed 13.1 MiB so far)\n",
      "23/04/11 23:43:54 WARN MemoryStore: Not enough space to cache rdd_653_3 in memory! (computed 13.1 MiB so far)\n",
      "23/04/11 23:43:54 WARN MemoryStore: Not enough space to cache rdd_653_1 in memory! (computed 13.1 MiB so far)\n"
     ]
    },
    {
     "name": "stderr",
     "output_type": "stream",
     "text": [
      "[Stage 428:===>                                                    (1 + 8) / 17]\r"
     ]
    },
    {
     "name": "stdout",
     "output_type": "stream",
     "text": [
      "23/04/11 23:43:55 WARN MemoryStore: Not enough space to cache rdd_653_0 in memory! (computed 44.2 MiB so far)\n"
     ]
    },
    {
     "name": "stderr",
     "output_type": "stream",
     "text": [
      "[Stage 428:=======================>                                (7 + 8) / 17]\r"
     ]
    },
    {
     "name": "stdout",
     "output_type": "stream",
     "text": [
      "23/04/11 23:43:55 WARN MemoryStore: Not enough space to cache rdd_653_12 in memory! (computed 13.1 MiB so far)\n",
      "23/04/11 23:43:55 WARN MemoryStore: Not enough space to cache rdd_653_13 in memory! (computed 19.6 MiB so far)\n"
     ]
    },
    {
     "name": "stderr",
     "output_type": "stream",
     "text": [
      "[Stage 428:=============================================>         (14 + 3) / 17]\r"
     ]
    },
    {
     "name": "stdout",
     "output_type": "stream",
     "text": [
      "23/04/11 23:43:55 WARN MemoryStore: Not enough space to cache rdd_653_9 in memory! (computed 44.2 MiB so far)\n"
     ]
    },
    {
     "name": "stderr",
     "output_type": "stream",
     "text": [
      "                                                                                \r"
     ]
    },
    {
     "name": "stdout",
     "output_type": "stream",
     "text": [
      "23/04/11 23:43:56 WARN MemoryStore: Not enough space to cache rdd_653_7 in memory! (computed 5.6 MiB so far)\n",
      "23/04/11 23:43:56 WARN MemoryStore: Not enough space to cache rdd_653_4 in memory! (computed 5.6 MiB so far)\n",
      "23/04/11 23:43:56 WARN MemoryStore: Not enough space to cache rdd_653_2 in memory! (computed 5.6 MiB so far)\n",
      "23/04/11 23:43:56 WARN MemoryStore: Not enough space to cache rdd_653_1 in memory! (computed 5.6 MiB so far)\n",
      "23/04/11 23:43:56 WARN MemoryStore: Not enough space to cache rdd_653_3 in memory! (computed 13.1 MiB so far)\n",
      "23/04/11 23:43:56 WARN MemoryStore: Not enough space to cache rdd_653_5 in memory! (computed 19.6 MiB so far)\n",
      "23/04/11 23:43:56 WARN MemoryStore: Not enough space to cache rdd_653_8 in memory! (computed 8.4 MiB so far)\n",
      "23/04/11 23:43:56 WARN MemoryStore: Not enough space to cache rdd_653_0 in memory! (computed 19.6 MiB so far)\n"
     ]
    },
    {
     "name": "stderr",
     "output_type": "stream",
     "text": [
      "[Stage 430:=======================>                                (7 + 8) / 17]\r"
     ]
    },
    {
     "name": "stdout",
     "output_type": "stream",
     "text": [
      "23/04/11 23:43:57 WARN MemoryStore: Not enough space to cache rdd_653_12 in memory! (computed 13.1 MiB so far)\n",
      "23/04/11 23:43:57 WARN MemoryStore: Not enough space to cache rdd_653_13 in memory! (computed 19.6 MiB so far)\n"
     ]
    },
    {
     "name": "stderr",
     "output_type": "stream",
     "text": [
      "[Stage 430:=============================================>         (14 + 3) / 17]\r"
     ]
    },
    {
     "name": "stdout",
     "output_type": "stream",
     "text": [
      "23/04/11 23:43:57 WARN MemoryStore: Not enough space to cache rdd_653_9 in memory! (computed 44.2 MiB so far)\n"
     ]
    },
    {
     "name": "stderr",
     "output_type": "stream",
     "text": [
      "                                                                                \r"
     ]
    },
    {
     "name": "stdout",
     "output_type": "stream",
     "text": [
      "23/04/11 23:43:58 WARN MemoryStore: Not enough space to cache rdd_653_0 in memory! (computed 5.6 MiB so far)\n",
      "23/04/11 23:43:58 WARN MemoryStore: Not enough space to cache rdd_653_5 in memory! (computed 8.4 MiB so far)\n",
      "23/04/11 23:43:58 WARN MemoryStore: Not enough space to cache rdd_653_1 in memory! (computed 5.6 MiB so far)\n",
      "23/04/11 23:43:58 WARN MemoryStore: Not enough space to cache rdd_653_4 in memory! (computed 5.6 MiB so far)\n",
      "23/04/11 23:43:58 WARN MemoryStore: Not enough space to cache rdd_653_2 in memory! (computed 5.6 MiB so far)\n",
      "23/04/11 23:43:58 WARN MemoryStore: Not enough space to cache rdd_653_8 in memory! (computed 8.4 MiB so far)\n",
      "23/04/11 23:43:58 WARN MemoryStore: Not enough space to cache rdd_653_7 in memory! (computed 19.6 MiB so far)\n"
     ]
    },
    {
     "name": "stderr",
     "output_type": "stream",
     "text": [
      "[Stage 432:===>                                                    (1 + 8) / 17]\r"
     ]
    },
    {
     "name": "stdout",
     "output_type": "stream",
     "text": [
      "23/04/11 23:43:58 WARN MemoryStore: Not enough space to cache rdd_653_3 in memory! (computed 44.2 MiB so far)\n"
     ]
    },
    {
     "name": "stderr",
     "output_type": "stream",
     "text": [
      "[Stage 432:=============================================>         (14 + 3) / 17]\r"
     ]
    },
    {
     "name": "stdout",
     "output_type": "stream",
     "text": [
      "23/04/11 23:43:59 WARN MemoryStore: Not enough space to cache rdd_653_9 in memory! (computed 13.1 MiB so far)\n",
      "23/04/11 23:43:59 WARN MemoryStore: Not enough space to cache rdd_653_13 in memory! (computed 13.1 MiB so far)\n",
      "23/04/11 23:43:59 WARN MemoryStore: Not enough space to cache rdd_653_12 in memory! (computed 44.2 MiB so far)\n"
     ]
    },
    {
     "name": "stderr",
     "output_type": "stream",
     "text": [
      "                                                                                \r"
     ]
    },
    {
     "name": "stdout",
     "output_type": "stream",
     "text": [
      "23/04/11 23:43:59 WARN MemoryStore: Not enough space to cache rdd_653_0 in memory! (computed 5.6 MiB so far)\n",
      "23/04/11 23:43:59 WARN MemoryStore: Failed to reserve initial memory threshold of 1024.0 KiB for computing block rdd_653_8 in memory.\n",
      "23/04/11 23:43:59 WARN MemoryStore: Not enough space to cache rdd_653_8 in memory! (computed 384.0 B so far)\n",
      "23/04/11 23:43:59 WARN MemoryStore: Not enough space to cache rdd_653_4 in memory! (computed 5.6 MiB so far)\n",
      "23/04/11 23:43:59 WARN MemoryStore: Not enough space to cache rdd_653_1 in memory! (computed 5.6 MiB so far)\n",
      "23/04/11 23:43:59 WARN MemoryStore: Not enough space to cache rdd_653_2 in memory! (computed 8.4 MiB so far)\n",
      "23/04/11 23:43:59 WARN MemoryStore: Not enough space to cache rdd_653_3 in memory! (computed 13.1 MiB so far)\n",
      "23/04/11 23:43:59 WARN MemoryStore: Not enough space to cache rdd_653_7 in memory! (computed 13.1 MiB so far)\n"
     ]
    },
    {
     "name": "stderr",
     "output_type": "stream",
     "text": [
      "[Stage 434:=========>                                              (3 + 8) / 17]\r"
     ]
    },
    {
     "name": "stdout",
     "output_type": "stream",
     "text": [
      "23/04/11 23:44:00 WARN MemoryStore: Not enough space to cache rdd_653_5 in memory! (computed 44.2 MiB so far)\n",
      "23/04/11 23:44:00 WARN MemoryStore: Not enough space to cache rdd_653_13 in memory! (computed 13.1 MiB so far)\n",
      "23/04/11 23:44:00 WARN MemoryStore: Not enough space to cache rdd_653_12 in memory! (computed 19.6 MiB so far)\n"
     ]
    },
    {
     "name": "stderr",
     "output_type": "stream",
     "text": [
      "[Stage 434:=============================================>         (14 + 3) / 17]\r"
     ]
    },
    {
     "name": "stdout",
     "output_type": "stream",
     "text": [
      "23/04/11 23:44:00 WARN MemoryStore: Not enough space to cache rdd_653_9 in memory! (computed 44.2 MiB so far)\n"
     ]
    },
    {
     "name": "stderr",
     "output_type": "stream",
     "text": [
      "                                                                                \r"
     ]
    },
    {
     "name": "stdout",
     "output_type": "stream",
     "text": [
      "23/04/11 23:44:01 WARN MemoryStore: Not enough space to cache rdd_653_5 in memory! (computed 5.6 MiB so far)\n",
      "23/04/11 23:44:01 WARN MemoryStore: Not enough space to cache rdd_653_2 in memory! (computed 5.6 MiB so far)\n",
      "23/04/11 23:44:01 WARN MemoryStore: Not enough space to cache rdd_653_1 in memory! (computed 5.6 MiB so far)\n",
      "23/04/11 23:44:01 WARN MemoryStore: Not enough space to cache rdd_653_7 in memory! (computed 8.4 MiB so far)\n",
      "23/04/11 23:44:01 WARN MemoryStore: Not enough space to cache rdd_653_4 in memory! (computed 8.4 MiB so far)\n",
      "23/04/11 23:44:01 WARN MemoryStore: Not enough space to cache rdd_653_0 in memory! (computed 8.4 MiB so far)\n",
      "23/04/11 23:44:01 WARN MemoryStore: Not enough space to cache rdd_653_3 in memory! (computed 29.5 MiB so far)\n"
     ]
    },
    {
     "name": "stderr",
     "output_type": "stream",
     "text": [
      "[Stage 436:===>                                                    (1 + 8) / 17]\r"
     ]
    },
    {
     "name": "stdout",
     "output_type": "stream",
     "text": [
      "23/04/11 23:44:01 WARN MemoryStore: Not enough space to cache rdd_653_8 in memory! (computed 44.2 MiB so far)\n"
     ]
    },
    {
     "name": "stderr",
     "output_type": "stream",
     "text": [
      "[Stage 436:==========================================>            (13 + 4) / 17]\r"
     ]
    },
    {
     "name": "stdout",
     "output_type": "stream",
     "text": [
      "23/04/11 23:44:02 WARN MemoryStore: Not enough space to cache rdd_653_9 in memory! (computed 13.1 MiB so far)\n",
      "23/04/11 23:44:02 WARN MemoryStore: Not enough space to cache rdd_653_13 in memory! (computed 13.1 MiB so far)\n"
     ]
    },
    {
     "name": "stderr",
     "output_type": "stream",
     "text": [
      "[Stage 436:=============================================>         (14 + 3) / 17]\r"
     ]
    },
    {
     "name": "stdout",
     "output_type": "stream",
     "text": [
      "23/04/11 23:44:02 WARN MemoryStore: Not enough space to cache rdd_653_12 in memory! (computed 44.2 MiB so far)\n"
     ]
    },
    {
     "name": "stderr",
     "output_type": "stream",
     "text": [
      "                                                                                \r"
     ]
    },
    {
     "name": "stdout",
     "output_type": "stream",
     "text": [
      "23/04/11 23:44:02 WARN MemoryStore: Not enough space to cache rdd_653_2 in memory! (computed 5.6 MiB so far)\n",
      "23/04/11 23:44:02 WARN MemoryStore: Not enough space to cache rdd_653_5 in memory! (computed 5.6 MiB so far)\n",
      "23/04/11 23:44:02 WARN MemoryStore: Not enough space to cache rdd_653_7 in memory! (computed 3.7 MiB so far)\n",
      "23/04/11 23:44:02 WARN MemoryStore: Not enough space to cache rdd_653_0 in memory! (computed 8.4 MiB so far)\n",
      "23/04/11 23:44:02 WARN MemoryStore: Not enough space to cache rdd_653_4 in memory! (computed 13.1 MiB so far)\n",
      "23/04/11 23:44:02 WARN MemoryStore: Not enough space to cache rdd_653_3 in memory! (computed 13.1 MiB so far)\n",
      "23/04/11 23:44:02 WARN MemoryStore: Not enough space to cache rdd_653_8 in memory! (computed 19.6 MiB so far)\n",
      "23/04/11 23:44:03 WARN MemoryStore: Not enough space to cache rdd_653_1 in memory! (computed 44.2 MiB so far)\n"
     ]
    },
    {
     "name": "stderr",
     "output_type": "stream",
     "text": [
      "[Stage 438:===>                                                    (1 + 8) / 17]\r"
     ]
    },
    {
     "name": "stdout",
     "output_type": "stream",
     "text": [
      "23/04/11 23:44:03 WARN MemoryStore: Not enough space to cache rdd_653_12 in memory! (computed 13.1 MiB so far)\n",
      "23/04/11 23:44:03 WARN MemoryStore: Not enough space to cache rdd_653_13 in memory! (computed 13.1 MiB so far)\n"
     ]
    },
    {
     "name": "stderr",
     "output_type": "stream",
     "text": [
      "[Stage 438:=============================================>         (14 + 3) / 17]\r"
     ]
    },
    {
     "name": "stdout",
     "output_type": "stream",
     "text": [
      "23/04/11 23:44:03 WARN MemoryStore: Not enough space to cache rdd_653_9 in memory! (computed 44.2 MiB so far)\n"
     ]
    },
    {
     "name": "stderr",
     "output_type": "stream",
     "text": [
      "                                                                                \r"
     ]
    },
    {
     "name": "stdout",
     "output_type": "stream",
     "text": [
      "23/04/11 23:44:04 WARN MemoryStore: Not enough space to cache rdd_653_5 in memory! (computed 3.7 MiB so far)\n",
      "23/04/11 23:44:04 WARN MemoryStore: Not enough space to cache rdd_653_7 in memory! (computed 5.6 MiB so far)\n",
      "23/04/11 23:44:04 WARN MemoryStore: Not enough space to cache rdd_653_0 in memory! (computed 5.6 MiB so far)\n",
      "23/04/11 23:44:04 WARN MemoryStore: Not enough space to cache rdd_653_3 in memory! (computed 8.4 MiB so far)\n",
      "23/04/11 23:44:04 WARN MemoryStore: Not enough space to cache rdd_653_1 in memory! (computed 13.1 MiB so far)\n",
      "23/04/11 23:44:04 WARN MemoryStore: Not enough space to cache rdd_653_4 in memory! (computed 13.1 MiB so far)\n",
      "23/04/11 23:44:04 WARN MemoryStore: Not enough space to cache rdd_653_2 in memory! (computed 29.5 MiB so far)\n",
      "23/04/11 23:44:04 WARN MemoryStore: Not enough space to cache rdd_653_8 in memory! (computed 19.6 MiB so far)\n"
     ]
    },
    {
     "name": "stderr",
     "output_type": "stream",
     "text": [
      "[Stage 440:=============>                                          (4 + 8) / 17]\r"
     ]
    },
    {
     "name": "stdout",
     "output_type": "stream",
     "text": [
      "23/04/11 23:44:05 WARN MemoryStore: Not enough space to cache rdd_653_9 in memory! (computed 19.6 MiB so far)\n",
      "23/04/11 23:44:05 WARN MemoryStore: Not enough space to cache rdd_653_12 in memory! (computed 13.1 MiB so far)\n",
      "23/04/11 23:44:05 WARN MemoryStore: Not enough space to cache rdd_653_13 in memory! (computed 13.1 MiB so far)\n"
     ]
    },
    {
     "name": "stderr",
     "output_type": "stream",
     "text": [
      "                                                                                \r"
     ]
    },
    {
     "name": "stdout",
     "output_type": "stream",
     "text": [
      "23/04/11 23:44:06 WARN MemoryStore: Not enough space to cache rdd_653_3 in memory! (computed 5.6 MiB so far)\n",
      "23/04/11 23:44:06 WARN MemoryStore: Not enough space to cache rdd_653_4 in memory! (computed 8.4 MiB so far)\n",
      "23/04/11 23:44:06 WARN MemoryStore: Not enough space to cache rdd_653_7 in memory! (computed 8.4 MiB so far)\n",
      "23/04/11 23:44:06 WARN MemoryStore: Not enough space to cache rdd_653_1 in memory! (computed 5.6 MiB so far)\n",
      "23/04/11 23:44:06 WARN MemoryStore: Not enough space to cache rdd_653_2 in memory! (computed 13.1 MiB so far)\n",
      "23/04/11 23:44:06 WARN MemoryStore: Not enough space to cache rdd_653_0 in memory! (computed 13.1 MiB so far)\n",
      "23/04/11 23:44:06 WARN MemoryStore: Not enough space to cache rdd_653_8 in memory! (computed 19.6 MiB so far)\n",
      "23/04/11 23:44:06 WARN MemoryStore: Not enough space to cache rdd_653_5 in memory! (computed 29.5 MiB so far)\n"
     ]
    },
    {
     "name": "stderr",
     "output_type": "stream",
     "text": [
      "[Stage 442:===================>                                    (6 + 8) / 17]\r"
     ]
    },
    {
     "name": "stdout",
     "output_type": "stream",
     "text": [
      "23/04/11 23:44:07 WARN MemoryStore: Not enough space to cache rdd_653_12 in memory! (computed 13.1 MiB so far)\n",
      "23/04/11 23:44:07 WARN MemoryStore: Not enough space to cache rdd_653_13 in memory! (computed 13.1 MiB so far)\n"
     ]
    },
    {
     "name": "stderr",
     "output_type": "stream",
     "text": [
      "[Stage 442:=============================================>         (14 + 3) / 17]\r"
     ]
    },
    {
     "name": "stdout",
     "output_type": "stream",
     "text": [
      "23/04/11 23:44:07 WARN MemoryStore: Not enough space to cache rdd_653_9 in memory! (computed 44.2 MiB so far)\n"
     ]
    },
    {
     "name": "stderr",
     "output_type": "stream",
     "text": [
      "                                                                                \r"
     ]
    },
    {
     "name": "stdout",
     "output_type": "stream",
     "text": [
      "23/04/11 23:44:07 WARN MemoryStore: Failed to reserve initial memory threshold of 1024.0 KiB for computing block rdd_653_8 in memory.\n",
      "23/04/11 23:44:07 WARN MemoryStore: Not enough space to cache rdd_653_8 in memory! (computed 384.0 B so far)\n",
      "23/04/11 23:44:07 WARN MemoryStore: Not enough space to cache rdd_653_2 in memory! (computed 5.6 MiB so far)\n",
      "23/04/11 23:44:07 WARN MemoryStore: Not enough space to cache rdd_653_1 in memory! (computed 5.6 MiB so far)\n",
      "23/04/11 23:44:07 WARN MemoryStore: Not enough space to cache rdd_653_4 in memory! (computed 8.4 MiB so far)\n",
      "23/04/11 23:44:07 WARN MemoryStore: Not enough space to cache rdd_653_0 in memory! (computed 8.4 MiB so far)\n",
      "23/04/11 23:44:07 WARN MemoryStore: Not enough space to cache rdd_653_5 in memory! (computed 13.1 MiB so far)\n",
      "23/04/11 23:44:07 WARN MemoryStore: Not enough space to cache rdd_653_7 in memory! (computed 19.6 MiB so far)\n"
     ]
    },
    {
     "name": "stderr",
     "output_type": "stream",
     "text": [
      "[Stage 444:===>                                                    (1 + 8) / 17]\r"
     ]
    },
    {
     "name": "stdout",
     "output_type": "stream",
     "text": [
      "23/04/11 23:44:08 WARN MemoryStore: Not enough space to cache rdd_653_3 in memory! (computed 44.2 MiB so far)\n"
     ]
    },
    {
     "name": "stderr",
     "output_type": "stream",
     "text": [
      "[Stage 444:======================================>                (12 + 5) / 17]\r"
     ]
    },
    {
     "name": "stdout",
     "output_type": "stream",
     "text": [
      "23/04/11 23:44:08 WARN MemoryStore: Not enough space to cache rdd_653_12 in memory! (computed 13.1 MiB so far)\n",
      "23/04/11 23:44:08 WARN MemoryStore: Not enough space to cache rdd_653_13 in memory! (computed 19.6 MiB so far)\n"
     ]
    },
    {
     "name": "stderr",
     "output_type": "stream",
     "text": [
      "[Stage 444:=============================================>         (14 + 3) / 17]\r"
     ]
    },
    {
     "name": "stdout",
     "output_type": "stream",
     "text": [
      "23/04/11 23:44:08 WARN MemoryStore: Not enough space to cache rdd_653_9 in memory! (computed 44.2 MiB so far)\n"
     ]
    },
    {
     "name": "stderr",
     "output_type": "stream",
     "text": [
      "                                                                                \r"
     ]
    },
    {
     "name": "stdout",
     "output_type": "stream",
     "text": [
      "23/04/11 23:44:09 WARN MemoryStore: Not enough space to cache rdd_653_4 in memory! (computed 3.7 MiB so far)\n",
      "23/04/11 23:44:09 WARN MemoryStore: Not enough space to cache rdd_653_2 in memory! (computed 5.6 MiB so far)\n",
      "23/04/11 23:44:09 WARN MemoryStore: Not enough space to cache rdd_653_3 in memory! (computed 8.4 MiB so far)\n",
      "23/04/11 23:44:09 WARN MemoryStore: Not enough space to cache rdd_653_1 in memory! (computed 8.4 MiB so far)\n",
      "23/04/11 23:44:09 WARN MemoryStore: Not enough space to cache rdd_653_5 in memory! (computed 5.6 MiB so far)\n",
      "23/04/11 23:44:09 WARN MemoryStore: Not enough space to cache rdd_653_8 in memory! (computed 8.4 MiB so far)\n",
      "23/04/11 23:44:09 WARN MemoryStore: Not enough space to cache rdd_653_0 in memory! (computed 19.6 MiB so far)\n",
      "23/04/11 23:44:09 WARN MemoryStore: Not enough space to cache rdd_653_7 in memory! (computed 44.2 MiB so far)\n"
     ]
    },
    {
     "name": "stderr",
     "output_type": "stream",
     "text": [
      "[Stage 446:======================================>                (12 + 5) / 17]\r"
     ]
    },
    {
     "name": "stdout",
     "output_type": "stream",
     "text": [
      "23/04/11 23:44:10 WARN MemoryStore: Not enough space to cache rdd_653_9 in memory! (computed 19.6 MiB so far)\n",
      "23/04/11 23:44:10 WARN MemoryStore: Not enough space to cache rdd_653_12 in memory! (computed 13.1 MiB so far)\n",
      "23/04/11 23:44:10 WARN MemoryStore: Not enough space to cache rdd_653_13 in memory! (computed 13.1 MiB so far)\n"
     ]
    },
    {
     "name": "stderr",
     "output_type": "stream",
     "text": [
      "[Stage 451:>                                                       (0 + 8) / 17]\r"
     ]
    },
    {
     "name": "stdout",
     "output_type": "stream",
     "text": [
      "23/04/11 23:44:23 WARN MemoryStore: Not enough space to cache rdd_724_5 in memory! (computed 44.2 MiB so far)\n",
      "23/04/11 23:44:23 WARN BlockManager: Persisting block rdd_724_5 to disk instead.\n",
      "23/04/11 23:44:24 WARN MemoryStore: Not enough space to cache rdd_724_0 in memory! (computed 44.2 MiB so far)\n",
      "23/04/11 23:44:24 WARN BlockManager: Persisting block rdd_724_0 to disk instead.\n",
      "23/04/11 23:44:24 WARN MemoryStore: Not enough space to cache rdd_724_4 in memory! (computed 44.2 MiB so far)\n",
      "23/04/11 23:44:24 WARN BlockManager: Persisting block rdd_724_4 to disk instead.\n",
      "23/04/11 23:44:24 WARN MemoryStore: Not enough space to cache rdd_724_2 in memory! (computed 44.2 MiB so far)\n",
      "23/04/11 23:44:24 WARN BlockManager: Persisting block rdd_724_2 to disk instead.\n",
      "23/04/11 23:44:24 WARN MemoryStore: Not enough space to cache rdd_724_7 in memory! (computed 44.2 MiB so far)\n",
      "23/04/11 23:44:24 WARN BlockManager: Persisting block rdd_724_7 to disk instead.\n"
     ]
    },
    {
     "name": "stderr",
     "output_type": "stream",
     "text": [
      "[Stage 451:=========>                                              (3 + 8) / 17]\r"
     ]
    },
    {
     "name": "stdout",
     "output_type": "stream",
     "text": [
      "23/04/11 23:44:28 WARN MemoryStore: Not enough space to cache rdd_724_0 in memory! (computed 44.2 MiB so far)\n",
      "23/04/11 23:44:28 WARN MemoryStore: Not enough space to cache rdd_724_7 in memory! (computed 8.4 MiB so far)\n",
      "23/04/11 23:44:28 WARN MemoryStore: Not enough space to cache rdd_724_5 in memory! (computed 44.2 MiB so far)\n",
      "23/04/11 23:44:28 WARN MemoryStore: Not enough space to cache rdd_724_2 in memory! (computed 44.2 MiB so far)\n"
     ]
    },
    {
     "name": "stderr",
     "output_type": "stream",
     "text": [
      "[Stage 451:==========================>                             (8 + 8) / 17]\r"
     ]
    },
    {
     "name": "stdout",
     "output_type": "stream",
     "text": [
      "23/04/11 23:44:29 WARN MemoryStore: Not enough space to cache rdd_724_14 in memory! (computed 8.4 MiB so far)\n",
      "23/04/11 23:44:29 WARN MemoryStore: Not enough space to cache rdd_724_12 in memory! (computed 13.1 MiB so far)\n",
      "23/04/11 23:44:29 WARN BlockManager: Persisting block rdd_724_14 to disk instead.\n",
      "23/04/11 23:44:29 WARN BlockManager: Persisting block rdd_724_12 to disk instead.\n",
      "23/04/11 23:44:29 WARN MemoryStore: Not enough space to cache rdd_724_15 in memory! (computed 8.4 MiB so far)\n",
      "23/04/11 23:44:29 WARN BlockManager: Persisting block rdd_724_15 to disk instead.\n",
      "23/04/11 23:44:30 WARN MemoryStore: Not enough space to cache rdd_724_10 in memory! (computed 19.6 MiB so far)\n",
      "23/04/11 23:44:30 WARN BlockManager: Persisting block rdd_724_10 to disk instead.\n",
      "23/04/11 23:44:31 WARN MemoryStore: Not enough space to cache rdd_724_9 in memory! (computed 29.5 MiB so far)\n",
      "23/04/11 23:44:31 WARN BlockManager: Persisting block rdd_724_9 to disk instead.\n",
      "23/04/11 23:44:32 WARN MemoryStore: Not enough space to cache rdd_724_8 in memory! (computed 29.5 MiB so far)\n",
      "23/04/11 23:44:32 WARN BlockManager: Persisting block rdd_724_8 to disk instead.\n",
      "23/04/11 23:44:34 WARN MemoryStore: Not enough space to cache rdd_724_13 in memory! (computed 44.2 MiB so far)\n",
      "23/04/11 23:44:34 WARN BlockManager: Persisting block rdd_724_13 to disk instead.\n"
     ]
    },
    {
     "name": "stderr",
     "output_type": "stream",
     "text": [
      "[Stage 451:=============================>                          (9 + 8) / 17]\r"
     ]
    },
    {
     "name": "stdout",
     "output_type": "stream",
     "text": [
      "23/04/11 23:44:36 WARN MemoryStore: Not enough space to cache rdd_724_16 in memory! (computed 2.5 MiB so far)\n",
      "23/04/11 23:44:36 WARN BlockManager: Persisting block rdd_724_16 to disk instead.\n",
      "23/04/11 23:44:36 WARN MemoryStore: Not enough space to cache rdd_724_10 in memory! (computed 8.4 MiB so far)\n",
      "23/04/11 23:44:36 WARN MemoryStore: Not enough space to cache rdd_724_9 in memory! (computed 19.6 MiB so far)\n",
      "23/04/11 23:44:36 WARN MemoryStore: Not enough space to cache rdd_724_8 in memory! (computed 44.2 MiB so far)\n"
     ]
    },
    {
     "name": "stderr",
     "output_type": "stream",
     "text": [
      "[Stage 451:======================================>                (12 + 5) / 17]\r"
     ]
    },
    {
     "name": "stdout",
     "output_type": "stream",
     "text": [
      "23/04/11 23:44:37 WARN MemoryStore: Not enough space to cache rdd_724_13 in memory! (computed 19.6 MiB so far)\n",
      "23/04/11 23:44:37 WARN MemoryStore: Not enough space to cache rdd_724_15 in memory! (computed 8.4 MiB so far)\n",
      "23/04/11 23:44:37 WARN MemoryStore: Not enough space to cache rdd_724_12 in memory! (computed 29.5 MiB so far)\n"
     ]
    },
    {
     "name": "stderr",
     "output_type": "stream",
     "text": [
      "[Stage 451:==========================================>            (13 + 4) / 17]\r"
     ]
    },
    {
     "name": "stdout",
     "output_type": "stream",
     "text": [
      "23/04/11 23:44:37 WARN MemoryStore: Not enough space to cache rdd_724_14 in memory! (computed 44.2 MiB so far)\n"
     ]
    },
    {
     "name": "stderr",
     "output_type": "stream",
     "text": [
      "[Stage 452:=============>                                          (4 + 9) / 17]\r"
     ]
    },
    {
     "name": "stdout",
     "output_type": "stream",
     "text": [
      "23/04/11 23:44:38 WARN MemoryStore: Not enough space to cache rdd_724_0 in memory! (computed 8.4 MiB so far)\n",
      "23/04/11 23:44:38 WARN MemoryStore: Not enough space to cache rdd_724_10 in memory! (computed 3.7 MiB so far)\n",
      "23/04/11 23:44:38 WARN MemoryStore: Not enough space to cache rdd_724_5 in memory! (computed 13.1 MiB so far)\n",
      "23/04/11 23:44:38 WARN MemoryStore: Not enough space to cache rdd_724_2 in memory! (computed 8.4 MiB so far)\n",
      "23/04/11 23:44:38 WARN MemoryStore: Not enough space to cache rdd_724_8 in memory! (computed 2.5 MiB so far)\n",
      "23/04/11 23:44:38 WARN MemoryStore: Not enough space to cache rdd_724_7 in memory! (computed 8.4 MiB so far)\n"
     ]
    },
    {
     "name": "stderr",
     "output_type": "stream",
     "text": [
      "[Stage 452:================>                                       (5 + 8) / 17]\r"
     ]
    },
    {
     "name": "stdout",
     "output_type": "stream",
     "text": [
      "23/04/11 23:44:39 WARN MemoryStore: Not enough space to cache rdd_724_9 in memory! (computed 44.2 MiB so far)\n",
      "23/04/11 23:44:39 WARN MemoryStore: Not enough space to cache rdd_724_14 in memory! (computed 1673.8 KiB so far)\n",
      "23/04/11 23:44:39 WARN MemoryStore: Not enough space to cache rdd_724_13 in memory! (computed 5.6 MiB so far)\n",
      "23/04/11 23:44:39 WARN MemoryStore: Not enough space to cache rdd_724_12 in memory! (computed 44.2 MiB so far)\n",
      "23/04/11 23:44:39 WARN MemoryStore: Not enough space to cache rdd_724_15 in memory! (computed 8.4 MiB so far)\n"
     ]
    },
    {
     "name": "stderr",
     "output_type": "stream",
     "text": [
      "[Stage 453:=============>                                          (4 + 8) / 17]\r"
     ]
    },
    {
     "name": "stdout",
     "output_type": "stream",
     "text": [
      "23/04/11 23:44:41 WARN MemoryStore: Not enough space to cache rdd_724_7 in memory! (computed 29.5 MiB so far)\n",
      "23/04/11 23:44:41 WARN MemoryStore: Not enough space to cache rdd_724_2 in memory! (computed 19.6 MiB so far)\n",
      "23/04/11 23:44:41 WARN MemoryStore: Not enough space to cache rdd_724_5 in memory! (computed 29.5 MiB so far)\n",
      "23/04/11 23:44:41 WARN MemoryStore: Not enough space to cache rdd_724_11 in memory! (computed 1673.8 KiB so far)\n",
      "23/04/11 23:44:41 WARN MemoryStore: Not enough space to cache rdd_724_10 in memory! (computed 1673.8 KiB so far)\n",
      "23/04/11 23:44:41 WARN MemoryStore: Not enough space to cache rdd_724_9 in memory! (computed 1673.8 KiB so far)\n",
      "23/04/11 23:44:41 WARN MemoryStore: Not enough space to cache rdd_724_8 in memory! (computed 1673.8 KiB so far)\n",
      "23/04/11 23:44:41 WARN MemoryStore: Failed to reserve initial memory threshold of 1024.0 KiB for computing block rdd_724_7 in memory.\n",
      "23/04/11 23:44:41 WARN MemoryStore: Not enough space to cache rdd_724_7 in memory! (computed 384.0 B so far)\n",
      "23/04/11 23:44:41 WARN MemoryStore: Failed to reserve initial memory threshold of 1024.0 KiB for computing block rdd_724_8 in memory.\n",
      "23/04/11 23:44:41 WARN MemoryStore: Failed to reserve initial memory threshold of 1024.0 KiB for computing block rdd_724_5 in memory.\n",
      "23/04/11 23:44:41 WARN MemoryStore: Not enough space to cache rdd_724_8 in memory! (computed 384.0 B so far)\n",
      "23/04/11 23:44:41 WARN MemoryStore: Failed to reserve initial memory threshold of 1024.0 KiB for computing block rdd_724_9 in memory.\n",
      "23/04/11 23:44:41 WARN MemoryStore: Not enough space to cache rdd_724_5 in memory! (computed 384.0 B so far)\n",
      "23/04/11 23:44:41 WARN MemoryStore: Not enough space to cache rdd_724_9 in memory! (computed 384.0 B so far)\n",
      "23/04/11 23:44:41 WARN MemoryStore: Failed to reserve initial memory threshold of 1024.0 KiB for computing block rdd_724_11 in memory.\n",
      "23/04/11 23:44:41 WARN MemoryStore: Not enough space to cache rdd_724_11 in memory! (computed 384.0 B so far)\n",
      "23/04/11 23:44:41 WARN MemoryStore: Failed to reserve initial memory threshold of 1024.0 KiB for computing block rdd_724_2 in memory.\n",
      "23/04/11 23:44:41 WARN MemoryStore: Not enough space to cache rdd_724_2 in memory! (computed 384.0 B so far)\n",
      "23/04/11 23:44:41 WARN MemoryStore: Failed to reserve initial memory threshold of 1024.0 KiB for computing block rdd_724_10 in memory.\n",
      "23/04/11 23:44:41 WARN MemoryStore: Not enough space to cache rdd_724_10 in memory! (computed 384.0 B so far)\n"
     ]
    },
    {
     "name": "stderr",
     "output_type": "stream",
     "text": [
      "[Stage 453:======================================>                (12 + 5) / 17]\r"
     ]
    },
    {
     "name": "stdout",
     "output_type": "stream",
     "text": [
      "23/04/11 23:44:43 WARN MemoryStore: Not enough space to cache rdd_724_12 in memory! (computed 44.2 MiB so far)\n",
      "23/04/11 23:44:44 WARN MemoryStore: Not enough space to cache rdd_724_14 in memory! (computed 29.5 MiB so far)\n",
      "23/04/11 23:44:44 WARN MemoryStore: Not enough space to cache rdd_724_13 in memory! (computed 19.6 MiB so far)\n",
      "23/04/11 23:44:44 WARN MemoryStore: Failed to reserve initial memory threshold of 1024.0 KiB for computing block rdd_724_12 in memory.\n",
      "23/04/11 23:44:44 WARN MemoryStore: Not enough space to cache rdd_724_12 in memory! (computed 384.0 B so far)\n",
      "23/04/11 23:44:45 WARN MemoryStore: Not enough space to cache rdd_724_14 in memory! (computed 13.1 MiB so far)\n"
     ]
    },
    {
     "name": "stderr",
     "output_type": "stream",
     "text": [
      "[Stage 454:======>                                                 (2 + 8) / 17]\r"
     ]
    },
    {
     "name": "stdout",
     "output_type": "stream",
     "text": [
      "23/04/11 23:44:48 WARN MemoryStore: Not enough space to cache rdd_724_3 in memory! (computed 13.1 MiB so far)\n",
      "23/04/11 23:44:48 WARN MemoryStore: Not enough space to cache rdd_724_4 in memory! (computed 19.6 MiB so far)\n",
      "23/04/11 23:44:48 WARN MemoryStore: Not enough space to cache rdd_724_5 in memory! (computed 19.6 MiB so far)\n",
      "23/04/11 23:44:48 WARN MemoryStore: Not enough space to cache rdd_724_2 in memory! (computed 19.6 MiB so far)\n",
      "23/04/11 23:44:48 WARN MemoryStore: Not enough space to cache rdd_724_1 in memory! (computed 13.1 MiB so far)\n",
      "23/04/11 23:44:48 WARN MemoryStore: Not enough space to cache rdd_724_9 in memory! (computed 1673.8 KiB so far)\n"
     ]
    },
    {
     "name": "stderr",
     "output_type": "stream",
     "text": [
      "[Stage 454:================================>                      (10 + 7) / 17]\r"
     ]
    },
    {
     "name": "stdout",
     "output_type": "stream",
     "text": [
      "23/04/11 23:44:50 WARN MemoryStore: Not enough space to cache rdd_724_11 in memory! (computed 19.6 MiB so far)\n",
      "23/04/11 23:44:50 WARN MemoryStore: Not enough space to cache rdd_724_12 in memory! (computed 13.1 MiB so far)\n",
      "23/04/11 23:44:50 WARN MemoryStore: Not enough space to cache rdd_724_14 in memory! (computed 13.1 MiB so far)\n",
      "23/04/11 23:44:50 WARN MemoryStore: Not enough space to cache rdd_724_16 in memory! (computed 5.6 MiB so far)\n",
      "23/04/11 23:44:50 WARN MemoryStore: Not enough space to cache rdd_724_13 in memory! (computed 13.1 MiB so far)\n"
     ]
    },
    {
     "name": "stderr",
     "output_type": "stream",
     "text": [
      "                                                                                \r"
     ]
    },
    {
     "name": "stdout",
     "output_type": "stream",
     "text": [
      "23/04/11 23:44:51 WARN MemoryStore: Not enough space to cache rdd_724_0 in memory! (computed 13.1 MiB so far)\n",
      "23/04/11 23:44:51 WARN MemoryStore: Not enough space to cache rdd_724_5 in memory! (computed 13.1 MiB so far)\n",
      "23/04/11 23:44:51 WARN MemoryStore: Not enough space to cache rdd_724_4 in memory! (computed 13.1 MiB so far)\n"
     ]
    },
    {
     "name": "stderr",
     "output_type": "stream",
     "text": [
      "[Stage 455:======>                                                 (2 + 8) / 17]\r"
     ]
    },
    {
     "name": "stdout",
     "output_type": "stream",
     "text": [
      "23/04/11 23:44:52 WARN MemoryStore: Not enough space to cache rdd_724_1 in memory! (computed 44.2 MiB so far)\n"
     ]
    },
    {
     "name": "stderr",
     "output_type": "stream",
     "text": [
      "[Stage 455:==========================>                             (8 + 8) / 17]\r"
     ]
    },
    {
     "name": "stdout",
     "output_type": "stream",
     "text": [
      "23/04/11 23:44:55 WARN MemoryStore: Not enough space to cache rdd_724_15 in memory! (computed 5.6 MiB so far)\n",
      "23/04/11 23:44:56 WARN MemoryStore: Not enough space to cache rdd_724_13 in memory! (computed 44.2 MiB so far)\n",
      "23/04/11 23:44:56 WARN MemoryStore: Not enough space to cache rdd_732_9 in memory! (computed 8.0 MiB so far)\n",
      "23/04/11 23:44:56 WARN BlockManager: Persisting block rdd_732_9 to disk instead.\n",
      "23/04/11 23:44:56 WARN MemoryStore: Not enough space to cache rdd_732_8 in memory! (computed 8.0 MiB so far)\n",
      "23/04/11 23:44:56 WARN BlockManager: Persisting block rdd_732_8 to disk instead.\n",
      "23/04/11 23:44:56 WARN MemoryStore: Not enough space to cache rdd_724_10 in memory! (computed 29.5 MiB so far)\n",
      "23/04/11 23:44:56 WARN MemoryStore: Not enough space to cache rdd_728_13 in memory! (computed 2.0 MiB so far)\n",
      "23/04/11 23:44:56 WARN MemoryStore: Failed to reserve initial memory threshold of 1024.0 KiB for computing block rdd_732_13 in memory.\n",
      "23/04/11 23:44:56 WARN MemoryStore: Not enough space to cache rdd_732_13 in memory! (computed 640.0 B so far)\n",
      "23/04/11 23:44:56 WARN BlockManager: Persisting block rdd_732_13 to disk instead.\n",
      "23/04/11 23:44:56 WARN MemoryStore: Not enough space to cache rdd_724_14 in memory! (computed 44.2 MiB so far)\n",
      "23/04/11 23:44:56 WARN MemoryStore: Failed to reserve initial memory threshold of 1024.0 KiB for computing block rdd_728_14 in memory.\n",
      "23/04/11 23:44:56 WARN MemoryStore: Not enough space to cache rdd_728_14 in memory! (computed 640.0 B so far)\n",
      "23/04/11 23:44:56 WARN MemoryStore: Failed to reserve initial memory threshold of 1024.0 KiB for computing block rdd_732_14 in memory.\n",
      "23/04/11 23:44:56 WARN MemoryStore: Not enough space to cache rdd_732_14 in memory! (computed 640.0 B so far)\n",
      "23/04/11 23:44:56 WARN BlockManager: Persisting block rdd_732_14 to disk instead.\n",
      "23/04/11 23:44:56 WARN MemoryStore: Not enough space to cache rdd_728_10 in memory! (computed 2.0 MiB so far)\n",
      "23/04/11 23:44:56 WARN MemoryStore: Failed to reserve initial memory threshold of 1024.0 KiB for computing block rdd_732_10 in memory.\n",
      "23/04/11 23:44:56 WARN MemoryStore: Not enough space to cache rdd_732_10 in memory! (computed 640.0 B so far)\n",
      "23/04/11 23:44:56 WARN BlockManager: Persisting block rdd_732_10 to disk instead.\n",
      "23/04/11 23:44:56 WARN MemoryStore: Not enough space to cache rdd_724_11 in memory! (computed 44.2 MiB so far)\n",
      "23/04/11 23:44:56 WARN MemoryStore: Not enough space to cache rdd_724_12 in memory! (computed 44.2 MiB so far)\n"
     ]
    },
    {
     "name": "stderr",
     "output_type": "stream",
     "text": [
      "[Stage 456:>                                                       (0 + 8) / 17]\r"
     ]
    },
    {
     "name": "stdout",
     "output_type": "stream",
     "text": [
      "23/04/11 23:44:59 WARN MemoryStore: Not enough space to cache rdd_724_0 in memory! (computed 29.5 MiB so far)\n",
      "23/04/11 23:44:59 WARN MemoryStore: Not enough space to cache rdd_724_2 in memory! (computed 44.2 MiB so far)\n",
      "23/04/11 23:44:59 WARN MemoryStore: Not enough space to cache rdd_724_1 in memory! (computed 29.5 MiB so far)\n",
      "23/04/11 23:44:59 WARN MemoryStore: Not enough space to cache rdd_724_5 in memory! (computed 29.5 MiB so far)\n",
      "23/04/11 23:44:59 WARN MemoryStore: Not enough space to cache rdd_724_3 in memory! (computed 29.5 MiB so far)\n",
      "23/04/11 23:44:59 WARN MemoryStore: Not enough space to cache rdd_724_4 in memory! (computed 29.5 MiB so far)\n",
      "23/04/11 23:44:59 WARN MemoryStore: Not enough space to cache rdd_724_6 in memory! (computed 44.2 MiB so far)\n",
      "23/04/11 23:44:59 WARN MemoryStore: Not enough space to cache rdd_732_0 in memory! (computed 8.0 MiB so far)\n",
      "23/04/11 23:44:59 WARN MemoryStore: Not enough space to cache rdd_724_7 in memory! (computed 44.2 MiB so far)\n"
     ]
    },
    {
     "name": "stderr",
     "output_type": "stream",
     "text": [
      "[Stage 456:==========================>                             (8 + 8) / 17]\r"
     ]
    },
    {
     "name": "stdout",
     "output_type": "stream",
     "text": [
      "23/04/11 23:45:01 WARN MemoryStore: Not enough space to cache rdd_724_11 in memory! (computed 44.2 MiB so far)\n",
      "23/04/11 23:45:01 WARN MemoryStore: Not enough space to cache rdd_724_9 in memory! (computed 44.2 MiB so far)\n",
      "23/04/11 23:45:01 WARN MemoryStore: Not enough space to cache rdd_724_10 in memory! (computed 44.2 MiB so far)\n",
      "23/04/11 23:45:01 WARN MemoryStore: Not enough space to cache rdd_724_8 in memory! (computed 44.2 MiB so far)\n",
      "23/04/11 23:45:01 WARN MemoryStore: Not enough space to cache rdd_724_12 in memory! (computed 29.5 MiB so far)\n",
      "23/04/11 23:45:01 WARN MemoryStore: Not enough space to cache rdd_724_14 in memory! (computed 44.2 MiB so far)\n",
      "23/04/11 23:45:01 WARN MemoryStore: Failed to reserve initial memory threshold of 1024.0 KiB for computing block rdd_732_8 in memory.\n",
      "23/04/11 23:45:01 WARN MemoryStore: Not enough space to cache rdd_732_8 in memory! (computed 640.0 B so far)\n",
      "23/04/11 23:45:01 WARN MemoryStore: Not enough space to cache rdd_732_12 in memory! (computed 1024.2 KiB so far)\n",
      "23/04/11 23:45:01 WARN MemoryStore: Not enough space to cache rdd_732_14 in memory! (computed 1024.2 KiB so far)\n",
      "23/04/11 23:45:01 WARN MemoryStore: Not enough space to cache rdd_732_11 in memory! (computed 1024.2 KiB so far)\n",
      "23/04/11 23:45:01 WARN MemoryStore: Not enough space to cache rdd_732_9 in memory! (computed 1024.2 KiB so far)\n",
      "23/04/11 23:45:01 WARN MemoryStore: Not enough space to cache rdd_732_10 in memory! (computed 4.0 MiB so far)\n"
     ]
    },
    {
     "name": "stderr",
     "output_type": "stream",
     "text": [
      "                                                                                \r"
     ]
    },
    {
     "name": "stdout",
     "output_type": "stream",
     "text": [
      "23/04/11 23:45:02 WARN MemoryStore: Not enough space to cache rdd_724_2 in memory! (computed 19.6 MiB so far)\n"
     ]
    },
    {
     "name": "stderr",
     "output_type": "stream",
     "text": [
      "[Stage 457:>                                                       (0 + 8) / 17]\r"
     ]
    },
    {
     "name": "stdout",
     "output_type": "stream",
     "text": [
      "23/04/11 23:45:03 WARN MemoryStore: Not enough space to cache rdd_724_5 in memory! (computed 29.5 MiB so far)\n",
      "23/04/11 23:45:03 WARN MemoryStore: Not enough space to cache rdd_724_6 in memory! (computed 29.5 MiB so far)\n",
      "23/04/11 23:45:03 WARN MemoryStore: Not enough space to cache rdd_724_0 in memory! (computed 29.5 MiB so far)\n",
      "23/04/11 23:45:03 WARN MemoryStore: Not enough space to cache rdd_724_4 in memory! (computed 29.5 MiB so far)\n",
      "23/04/11 23:45:03 WARN MemoryStore: Not enough space to cache rdd_724_3 in memory! (computed 29.5 MiB so far)\n",
      "23/04/11 23:45:03 WARN MemoryStore: Not enough space to cache rdd_724_7 in memory! (computed 29.5 MiB so far)\n",
      "23/04/11 23:45:03 WARN MemoryStore: Not enough space to cache rdd_724_1 in memory! (computed 29.5 MiB so far)\n"
     ]
    },
    {
     "name": "stderr",
     "output_type": "stream",
     "text": [
      "[Stage 457:==========================>                             (8 + 8) / 17]\r"
     ]
    },
    {
     "name": "stdout",
     "output_type": "stream",
     "text": [
      "23/04/11 23:45:04 WARN MemoryStore: Not enough space to cache rdd_724_11 in memory! (computed 29.5 MiB so far)\n",
      "23/04/11 23:45:04 WARN MemoryStore: Not enough space to cache rdd_724_12 in memory! (computed 29.5 MiB so far)\n",
      "23/04/11 23:45:04 WARN MemoryStore: Not enough space to cache rdd_724_10 in memory! (computed 29.5 MiB so far)\n",
      "23/04/11 23:45:04 WARN MemoryStore: Not enough space to cache rdd_724_8 in memory! (computed 44.2 MiB so far)\n"
     ]
    },
    {
     "name": "stderr",
     "output_type": "stream",
     "text": [
      "[Stage 457:================================>                      (10 + 7) / 17]\r"
     ]
    },
    {
     "name": "stdout",
     "output_type": "stream",
     "text": [
      "23/04/11 23:45:04 WARN MemoryStore: Not enough space to cache rdd_724_9 in memory! (computed 44.2 MiB so far)\n"
     ]
    },
    {
     "name": "stderr",
     "output_type": "stream",
     "text": [
      "[Stage 459:>                                                       (0 + 8) / 17]\r"
     ]
    },
    {
     "name": "stdout",
     "output_type": "stream",
     "text": [
      "23/04/11 23:45:06 WARN MemoryStore: Not enough space to cache rdd_724_7 in memory! (computed 19.6 MiB so far)\n",
      "23/04/11 23:45:06 WARN MemoryStore: Not enough space to cache rdd_724_3 in memory! (computed 19.6 MiB so far)\n",
      "23/04/11 23:45:06 WARN MemoryStore: Not enough space to cache rdd_724_5 in memory! (computed 19.6 MiB so far)\n",
      "23/04/11 23:45:06 WARN MemoryStore: Not enough space to cache rdd_724_4 in memory! (computed 19.6 MiB so far)\n",
      "23/04/11 23:45:07 WARN MemoryStore: Not enough space to cache rdd_724_6 in memory! (computed 44.2 MiB so far)\n",
      "23/04/11 23:45:07 WARN MemoryStore: Not enough space to cache rdd_724_2 in memory! (computed 44.2 MiB so far)\n"
     ]
    },
    {
     "name": "stderr",
     "output_type": "stream",
     "text": [
      "[Stage 459:===================>                                    (6 + 8) / 17]\r"
     ]
    },
    {
     "name": "stdout",
     "output_type": "stream",
     "text": [
      "23/04/11 23:45:07 WARN MemoryStore: Not enough space to cache rdd_724_12 in memory! (computed 8.4 MiB so far)\n",
      "23/04/11 23:45:07 WARN MemoryStore: Not enough space to cache rdd_724_10 in memory! (computed 8.4 MiB so far)\n",
      "23/04/11 23:45:07 WARN MemoryStore: Not enough space to cache rdd_724_9 in memory! (computed 8.4 MiB so far)\n",
      "23/04/11 23:45:07 WARN MemoryStore: Not enough space to cache rdd_724_0 in memory! (computed 66.3 MiB so far)\n",
      "23/04/11 23:45:07 WARN MemoryStore: Not enough space to cache rdd_724_11 in memory! (computed 19.6 MiB so far)\n",
      "23/04/11 23:45:07 WARN MemoryStore: Not enough space to cache rdd_724_8 in memory! (computed 19.6 MiB so far)\n"
     ]
    },
    {
     "name": "stderr",
     "output_type": "stream",
     "text": [
      "                                                                                \r"
     ]
    },
    {
     "name": "stdout",
     "output_type": "stream",
     "text": [
      "23/04/11 23:45:08 WARN MemoryStore: Not enough space to cache rdd_724_6 in memory! (computed 13.1 MiB so far)\n",
      "23/04/11 23:45:08 WARN MemoryStore: Not enough space to cache rdd_724_5 in memory! (computed 13.1 MiB so far)\n",
      "23/04/11 23:45:08 WARN MemoryStore: Not enough space to cache rdd_724_2 in memory! (computed 13.1 MiB so far)\n",
      "23/04/11 23:45:08 WARN MemoryStore: Not enough space to cache rdd_724_8 in memory! (computed 1673.8 KiB so far)\n",
      "23/04/11 23:45:09 WARN MemoryStore: Not enough space to cache rdd_724_7 in memory! (computed 19.6 MiB so far)\n",
      "23/04/11 23:45:09 WARN MemoryStore: Not enough space to cache rdd_724_0 in memory! (computed 29.5 MiB so far)\n"
     ]
    },
    {
     "name": "stderr",
     "output_type": "stream",
     "text": [
      "[Stage 461:===>                                                    (1 + 8) / 17]\r"
     ]
    },
    {
     "name": "stdout",
     "output_type": "stream",
     "text": [
      "23/04/11 23:45:10 WARN MemoryStore: Not enough space to cache rdd_724_4 in memory! (computed 44.2 MiB so far)\n"
     ]
    },
    {
     "name": "stderr",
     "output_type": "stream",
     "text": [
      "[Stage 461:==========================>                             (8 + 8) / 17]\r"
     ]
    },
    {
     "name": "stdout",
     "output_type": "stream",
     "text": [
      "23/04/11 23:45:10 WARN MemoryStore: Not enough space to cache rdd_724_10 in memory! (computed 8.4 MiB so far)\n",
      "23/04/11 23:45:10 WARN MemoryStore: Not enough space to cache rdd_724_12 in memory! (computed 13.1 MiB so far)\n",
      "23/04/11 23:45:10 WARN MemoryStore: Not enough space to cache rdd_724_9 in memory! (computed 13.1 MiB so far)\n"
     ]
    },
    {
     "name": "stderr",
     "output_type": "stream",
     "text": [
      "[Stage 461:==========================================>            (13 + 4) / 17]\r"
     ]
    },
    {
     "name": "stdout",
     "output_type": "stream",
     "text": [
      "23/04/11 23:45:10 WARN MemoryStore: Not enough space to cache rdd_724_11 in memory! (computed 44.2 MiB so far)\n"
     ]
    },
    {
     "name": "stderr",
     "output_type": "stream",
     "text": [
      "                                                                                \r"
     ]
    },
    {
     "name": "stdout",
     "output_type": "stream",
     "text": [
      "23/04/11 23:45:11 WARN MemoryStore: Not enough space to cache rdd_724_5 in memory! (computed 5.6 MiB so far)\n",
      "23/04/11 23:45:11 WARN MemoryStore: Not enough space to cache rdd_724_6 in memory! (computed 8.4 MiB so far)\n",
      "23/04/11 23:45:11 WARN MemoryStore: Not enough space to cache rdd_724_8 in memory! (computed 1673.8 KiB so far)\n",
      "23/04/11 23:45:11 WARN MemoryStore: Not enough space to cache rdd_724_0 in memory! (computed 13.1 MiB so far)\n",
      "23/04/11 23:45:11 WARN MemoryStore: Not enough space to cache rdd_724_9 in memory! (computed 1673.8 KiB so far)\n",
      "23/04/11 23:45:11 WARN MemoryStore: Not enough space to cache rdd_724_7 in memory! (computed 13.1 MiB so far)\n",
      "23/04/11 23:45:11 WARN MemoryStore: Not enough space to cache rdd_724_4 in memory! (computed 8.4 MiB so far)\n"
     ]
    },
    {
     "name": "stderr",
     "output_type": "stream",
     "text": [
      "[Stage 463:======>                                                 (2 + 8) / 17]\r"
     ]
    },
    {
     "name": "stdout",
     "output_type": "stream",
     "text": [
      "23/04/11 23:45:12 WARN MemoryStore: Not enough space to cache rdd_724_2 in memory! (computed 44.2 MiB so far)\n"
     ]
    },
    {
     "name": "stderr",
     "output_type": "stream",
     "text": [
      "[Stage 463:=============================>                          (9 + 8) / 17]\r"
     ]
    },
    {
     "name": "stdout",
     "output_type": "stream",
     "text": [
      "23/04/11 23:45:12 WARN MemoryStore: Not enough space to cache rdd_724_12 in memory! (computed 13.1 MiB so far)\n",
      "23/04/11 23:45:12 WARN MemoryStore: Not enough space to cache rdd_724_11 in memory! (computed 19.6 MiB so far)\n"
     ]
    },
    {
     "name": "stderr",
     "output_type": "stream",
     "text": [
      "[Stage 463:=============================================>         (14 + 3) / 17]\r"
     ]
    },
    {
     "name": "stdout",
     "output_type": "stream",
     "text": [
      "23/04/11 23:45:12 WARN MemoryStore: Not enough space to cache rdd_724_10 in memory! (computed 44.2 MiB so far)\n"
     ]
    },
    {
     "name": "stderr",
     "output_type": "stream",
     "text": [
      "                                                                                \r"
     ]
    },
    {
     "name": "stdout",
     "output_type": "stream",
     "text": [
      "23/04/11 23:45:13 WARN MemoryStore: Not enough space to cache rdd_724_4 in memory! (computed 8.4 MiB so far)\n",
      "23/04/11 23:45:13 WARN MemoryStore: Not enough space to cache rdd_724_5 in memory! (computed 8.4 MiB so far)\n",
      "23/04/11 23:45:13 WARN MemoryStore: Not enough space to cache rdd_724_6 in memory! (computed 13.1 MiB so far)\n",
      "23/04/11 23:45:13 WARN MemoryStore: Not enough space to cache rdd_724_8 in memory! (computed 2.5 MiB so far)\n",
      "23/04/11 23:45:13 WARN MemoryStore: Not enough space to cache rdd_724_0 in memory! (computed 8.4 MiB so far)\n",
      "23/04/11 23:45:13 WARN MemoryStore: Not enough space to cache rdd_724_2 in memory! (computed 8.4 MiB so far)\n",
      "23/04/11 23:45:13 WARN MemoryStore: Not enough space to cache rdd_724_9 in memory! (computed 19.6 MiB so far)\n",
      "23/04/11 23:45:13 WARN MemoryStore: Not enough space to cache rdd_724_7 in memory! (computed 29.5 MiB so far)\n"
     ]
    },
    {
     "name": "stderr",
     "output_type": "stream",
     "text": [
      "[Stage 465:================>                                       (5 + 8) / 17]\r"
     ]
    },
    {
     "name": "stdout",
     "output_type": "stream",
     "text": [
      "23/04/11 23:45:13 WARN MemoryStore: Not enough space to cache rdd_724_11 in memory! (computed 13.1 MiB so far)\n",
      "23/04/11 23:45:13 WARN MemoryStore: Not enough space to cache rdd_724_12 in memory! (computed 13.1 MiB so far)\n"
     ]
    },
    {
     "name": "stderr",
     "output_type": "stream",
     "text": [
      "[Stage 465:=============================================>         (14 + 3) / 17]\r"
     ]
    },
    {
     "name": "stdout",
     "output_type": "stream",
     "text": [
      "23/04/11 23:45:14 WARN MemoryStore: Not enough space to cache rdd_724_10 in memory! (computed 44.2 MiB so far)\n"
     ]
    },
    {
     "name": "stderr",
     "output_type": "stream",
     "text": [
      "                                                                                \r"
     ]
    },
    {
     "name": "stdout",
     "output_type": "stream",
     "text": [
      "23/04/11 23:45:14 WARN MemoryStore: Not enough space to cache rdd_724_0 in memory! (computed 5.6 MiB so far)\n",
      "23/04/11 23:45:14 WARN MemoryStore: Not enough space to cache rdd_724_5 in memory! (computed 5.6 MiB so far)\n",
      "23/04/11 23:45:14 WARN MemoryStore: Not enough space to cache rdd_724_7 in memory! (computed 8.4 MiB so far)\n",
      "23/04/11 23:45:14 WARN MemoryStore: Not enough space to cache rdd_724_8 in memory! (computed 1673.8 KiB so far)\n",
      "23/04/11 23:45:14 WARN MemoryStore: Not enough space to cache rdd_724_6 in memory! (computed 13.1 MiB so far)\n",
      "23/04/11 23:45:14 WARN MemoryStore: Not enough space to cache rdd_724_4 in memory! (computed 13.1 MiB so far)\n",
      "23/04/11 23:45:14 WARN MemoryStore: Not enough space to cache rdd_724_2 in memory! (computed 29.5 MiB so far)\n",
      "23/04/11 23:45:14 WARN MemoryStore: Not enough space to cache rdd_724_9 in memory! (computed 19.6 MiB so far)\n"
     ]
    },
    {
     "name": "stderr",
     "output_type": "stream",
     "text": [
      "[Stage 467:=============================================>         (14 + 3) / 17]\r"
     ]
    },
    {
     "name": "stdout",
     "output_type": "stream",
     "text": [
      "23/04/11 23:45:15 WARN MemoryStore: Not enough space to cache rdd_724_11 in memory! (computed 13.1 MiB so far)\n",
      "23/04/11 23:45:15 WARN MemoryStore: Not enough space to cache rdd_724_10 in memory! (computed 19.6 MiB so far)\n",
      "23/04/11 23:45:15 WARN MemoryStore: Not enough space to cache rdd_724_12 in memory! (computed 44.2 MiB so far)\n"
     ]
    },
    {
     "name": "stderr",
     "output_type": "stream",
     "text": [
      "                                                                                \r"
     ]
    },
    {
     "name": "stdout",
     "output_type": "stream",
     "text": [
      "23/04/11 23:45:16 WARN MemoryStore: Not enough space to cache rdd_724_5 in memory! (computed 8.4 MiB so far)\n",
      "23/04/11 23:45:16 WARN MemoryStore: Failed to reserve initial memory threshold of 1024.0 KiB for computing block rdd_724_9 in memory.\n",
      "23/04/11 23:45:16 WARN MemoryStore: Not enough space to cache rdd_724_9 in memory! (computed 384.0 B so far)\n",
      "23/04/11 23:45:16 WARN MemoryStore: Not enough space to cache rdd_724_4 in memory! (computed 8.4 MiB so far)\n",
      "23/04/11 23:45:16 WARN MemoryStore: Not enough space to cache rdd_724_0 in memory! (computed 8.4 MiB so far)\n",
      "23/04/11 23:45:16 WARN MemoryStore: Not enough space to cache rdd_724_2 in memory! (computed 5.6 MiB so far)\n",
      "23/04/11 23:45:16 WARN MemoryStore: Not enough space to cache rdd_724_8 in memory! (computed 8.4 MiB so far)\n",
      "23/04/11 23:45:16 WARN MemoryStore: Not enough space to cache rdd_724_7 in memory! (computed 19.6 MiB so far)\n",
      "23/04/11 23:45:16 WARN MemoryStore: Not enough space to cache rdd_724_6 in memory! (computed 19.6 MiB so far)\n"
     ]
    },
    {
     "name": "stderr",
     "output_type": "stream",
     "text": [
      "[Stage 469:================>                                       (5 + 8) / 17]\r"
     ]
    },
    {
     "name": "stdout",
     "output_type": "stream",
     "text": [
      "23/04/11 23:45:16 WARN MemoryStore: Not enough space to cache rdd_724_11 in memory! (computed 13.1 MiB so far)\n",
      "23/04/11 23:45:17 WARN MemoryStore: Not enough space to cache rdd_724_12 in memory! (computed 19.6 MiB so far)\n"
     ]
    },
    {
     "name": "stderr",
     "output_type": "stream",
     "text": [
      "[Stage 469:=============================================>         (14 + 3) / 17]\r"
     ]
    },
    {
     "name": "stdout",
     "output_type": "stream",
     "text": [
      "23/04/11 23:45:17 WARN MemoryStore: Not enough space to cache rdd_724_10 in memory! (computed 44.2 MiB so far)\n"
     ]
    },
    {
     "name": "stderr",
     "output_type": "stream",
     "text": [
      "                                                                                \r"
     ]
    },
    {
     "name": "stdout",
     "output_type": "stream",
     "text": [
      "23/04/11 23:45:17 WARN MemoryStore: Not enough space to cache rdd_724_0 in memory! (computed 5.6 MiB so far)\n",
      "23/04/11 23:45:17 WARN MemoryStore: Not enough space to cache rdd_724_5 in memory! (computed 8.4 MiB so far)\n",
      "23/04/11 23:45:17 WARN MemoryStore: Failed to reserve initial memory threshold of 1024.0 KiB for computing block rdd_724_8 in memory.\n",
      "23/04/11 23:45:17 WARN MemoryStore: Not enough space to cache rdd_724_2 in memory! (computed 8.4 MiB so far)\n",
      "23/04/11 23:45:17 WARN MemoryStore: Not enough space to cache rdd_724_8 in memory! (computed 384.0 B so far)\n",
      "23/04/11 23:45:17 WARN MemoryStore: Not enough space to cache rdd_724_7 in memory! (computed 5.6 MiB so far)\n",
      "23/04/11 23:45:17 WARN MemoryStore: Not enough space to cache rdd_724_6 in memory! (computed 19.6 MiB so far)\n",
      "23/04/11 23:45:17 WARN MemoryStore: Not enough space to cache rdd_724_9 in memory! (computed 8.4 MiB so far)\n"
     ]
    },
    {
     "name": "stderr",
     "output_type": "stream",
     "text": [
      "[Stage 471:======>                                                 (2 + 8) / 17]\r"
     ]
    },
    {
     "name": "stdout",
     "output_type": "stream",
     "text": [
      "23/04/11 23:45:18 WARN MemoryStore: Not enough space to cache rdd_724_4 in memory! (computed 44.2 MiB so far)\n"
     ]
    },
    {
     "name": "stderr",
     "output_type": "stream",
     "text": [
      "[Stage 471:==========================================>            (13 + 4) / 17]\r"
     ]
    },
    {
     "name": "stdout",
     "output_type": "stream",
     "text": [
      "23/04/11 23:45:18 WARN MemoryStore: Not enough space to cache rdd_724_12 in memory! (computed 13.1 MiB so far)\n",
      "23/04/11 23:45:18 WARN MemoryStore: Not enough space to cache rdd_724_10 in memory! (computed 13.1 MiB so far)\n"
     ]
    },
    {
     "name": "stderr",
     "output_type": "stream",
     "text": [
      "[Stage 471:=============================================>         (14 + 3) / 17]\r"
     ]
    },
    {
     "name": "stdout",
     "output_type": "stream",
     "text": [
      "23/04/11 23:45:18 WARN MemoryStore: Not enough space to cache rdd_724_11 in memory! (computed 44.2 MiB so far)\n"
     ]
    },
    {
     "name": "stderr",
     "output_type": "stream",
     "text": [
      "                                                                                \r"
     ]
    },
    {
     "name": "stdout",
     "output_type": "stream",
     "text": [
      "23/04/11 23:45:19 WARN MemoryStore: Not enough space to cache rdd_724_5 in memory! (computed 8.4 MiB so far)\n",
      "23/04/11 23:45:19 WARN MemoryStore: Not enough space to cache rdd_724_6 in memory! (computed 5.6 MiB so far)\n",
      "23/04/11 23:45:19 WARN MemoryStore: Not enough space to cache rdd_724_2 in memory! (computed 8.4 MiB so far)\n",
      "23/04/11 23:45:19 WARN MemoryStore: Not enough space to cache rdd_724_4 in memory! (computed 5.6 MiB so far)\n",
      "23/04/11 23:45:19 WARN MemoryStore: Not enough space to cache rdd_724_0 in memory! (computed 8.4 MiB so far)\n",
      "23/04/11 23:45:19 WARN MemoryStore: Not enough space to cache rdd_724_9 in memory! (computed 8.4 MiB so far)\n",
      "23/04/11 23:45:19 WARN MemoryStore: Not enough space to cache rdd_724_8 in memory! (computed 19.6 MiB so far)\n"
     ]
    },
    {
     "name": "stderr",
     "output_type": "stream",
     "text": [
      "[Stage 473:======>                                                 (2 + 8) / 17]\r"
     ]
    },
    {
     "name": "stdout",
     "output_type": "stream",
     "text": [
      "23/04/11 23:45:19 WARN MemoryStore: Not enough space to cache rdd_724_7 in memory! (computed 44.2 MiB so far)\n"
     ]
    },
    {
     "name": "stderr",
     "output_type": "stream",
     "text": [
      "[Stage 473:==========================================>            (13 + 4) / 17]\r"
     ]
    },
    {
     "name": "stdout",
     "output_type": "stream",
     "text": [
      "23/04/11 23:45:20 WARN MemoryStore: Not enough space to cache rdd_724_11 in memory! (computed 13.1 MiB so far)\n",
      "23/04/11 23:45:20 WARN MemoryStore: Not enough space to cache rdd_724_12 in memory! (computed 19.6 MiB so far)\n"
     ]
    },
    {
     "name": "stderr",
     "output_type": "stream",
     "text": [
      "[Stage 473:=============================================>         (14 + 3) / 17]\r"
     ]
    },
    {
     "name": "stdout",
     "output_type": "stream",
     "text": [
      "23/04/11 23:45:20 WARN MemoryStore: Not enough space to cache rdd_724_10 in memory! (computed 44.2 MiB so far)\n"
     ]
    },
    {
     "name": "stderr",
     "output_type": "stream",
     "text": [
      "                                                                                \r"
     ]
    },
    {
     "name": "stdout",
     "output_type": "stream",
     "text": [
      "23/04/11 23:45:20 WARN MemoryStore: Not enough space to cache rdd_724_0 in memory! (computed 8.4 MiB so far)\n",
      "23/04/11 23:45:20 WARN MemoryStore: Not enough space to cache rdd_724_7 in memory! (computed 5.6 MiB so far)\n",
      "23/04/11 23:45:20 WARN MemoryStore: Not enough space to cache rdd_724_4 in memory! (computed 8.4 MiB so far)\n",
      "23/04/11 23:45:20 WARN MemoryStore: Not enough space to cache rdd_724_6 in memory! (computed 13.1 MiB so far)\n",
      "23/04/11 23:45:20 WARN MemoryStore: Not enough space to cache rdd_724_5 in memory! (computed 13.1 MiB so far)\n",
      "23/04/11 23:45:21 WARN MemoryStore: Not enough space to cache rdd_724_8 in memory! (computed 13.1 MiB so far)\n",
      "23/04/11 23:45:21 WARN MemoryStore: Not enough space to cache rdd_724_9 in memory! (computed 13.1 MiB so far)\n"
     ]
    },
    {
     "name": "stderr",
     "output_type": "stream",
     "text": [
      "[Stage 475:======>                                                 (2 + 8) / 17]\r"
     ]
    },
    {
     "name": "stdout",
     "output_type": "stream",
     "text": [
      "23/04/11 23:45:21 WARN MemoryStore: Not enough space to cache rdd_724_2 in memory! (computed 44.2 MiB so far)\n"
     ]
    },
    {
     "name": "stderr",
     "output_type": "stream",
     "text": [
      "[Stage 475:==========================================>            (13 + 4) / 17]\r"
     ]
    },
    {
     "name": "stdout",
     "output_type": "stream",
     "text": [
      "23/04/11 23:45:21 WARN MemoryStore: Not enough space to cache rdd_724_12 in memory! (computed 13.1 MiB so far)\n",
      "23/04/11 23:45:21 WARN MemoryStore: Not enough space to cache rdd_724_10 in memory! (computed 19.6 MiB so far)\n"
     ]
    },
    {
     "name": "stderr",
     "output_type": "stream",
     "text": [
      "[Stage 475:=============================================>         (14 + 3) / 17]\r"
     ]
    },
    {
     "name": "stdout",
     "output_type": "stream",
     "text": [
      "23/04/11 23:45:22 WARN MemoryStore: Not enough space to cache rdd_724_11 in memory! (computed 44.2 MiB so far)\n"
     ]
    },
    {
     "name": "stderr",
     "output_type": "stream",
     "text": [
      "                                                                                \r"
     ]
    },
    {
     "name": "stdout",
     "output_type": "stream",
     "text": [
      "23/04/11 23:45:22 WARN MemoryStore: Failed to reserve initial memory threshold of 1024.0 KiB for computing block rdd_724_9 in memory.\n",
      "23/04/11 23:45:22 WARN MemoryStore: Not enough space to cache rdd_724_7 in memory! (computed 5.6 MiB so far)\n",
      "23/04/11 23:45:22 WARN MemoryStore: Not enough space to cache rdd_724_9 in memory! (computed 384.0 B so far)\n",
      "23/04/11 23:45:22 WARN MemoryStore: Not enough space to cache rdd_724_0 in memory! (computed 8.4 MiB so far)\n",
      "23/04/11 23:45:22 WARN MemoryStore: Not enough space to cache rdd_724_2 in memory! (computed 8.4 MiB so far)\n",
      "23/04/11 23:45:22 WARN MemoryStore: Not enough space to cache rdd_724_6 in memory! (computed 13.1 MiB so far)\n",
      "23/04/11 23:45:22 WARN MemoryStore: Not enough space to cache rdd_724_5 in memory! (computed 13.1 MiB so far)\n",
      "23/04/11 23:45:22 WARN MemoryStore: Not enough space to cache rdd_724_4 in memory! (computed 13.1 MiB so far)\n"
     ]
    },
    {
     "name": "stderr",
     "output_type": "stream",
     "text": [
      "[Stage 477:=============================>                          (9 + 8) / 17]\r"
     ]
    },
    {
     "name": "stdout",
     "output_type": "stream",
     "text": [
      "23/04/11 23:45:23 WARN MemoryStore: Not enough space to cache rdd_724_8 in memory! (computed 44.2 MiB so far)\n",
      "23/04/11 23:45:23 WARN MemoryStore: Not enough space to cache rdd_724_11 in memory! (computed 13.1 MiB so far)\n",
      "23/04/11 23:45:23 WARN MemoryStore: Not enough space to cache rdd_724_12 in memory! (computed 19.6 MiB so far)\n"
     ]
    },
    {
     "name": "stderr",
     "output_type": "stream",
     "text": [
      "[Stage 477:=============================================>         (14 + 3) / 17]\r"
     ]
    },
    {
     "name": "stdout",
     "output_type": "stream",
     "text": [
      "23/04/11 23:45:23 WARN MemoryStore: Not enough space to cache rdd_724_10 in memory! (computed 44.2 MiB so far)\n"
     ]
    },
    {
     "name": "stderr",
     "output_type": "stream",
     "text": [
      "                                                                                \r"
     ]
    },
    {
     "name": "stdout",
     "output_type": "stream",
     "text": [
      "23/04/11 23:45:23 WARN MemoryStore: Not enough space to cache rdd_724_2 in memory! (computed 5.6 MiB so far)\n",
      "23/04/11 23:45:23 WARN MemoryStore: Failed to reserve initial memory threshold of 1024.0 KiB for computing block rdd_724_8 in memory.\n",
      "23/04/11 23:45:23 WARN MemoryStore: Not enough space to cache rdd_724_8 in memory! (computed 384.0 B so far)\n",
      "23/04/11 23:45:23 WARN MemoryStore: Not enough space to cache rdd_724_0 in memory! (computed 8.4 MiB so far)\n",
      "23/04/11 23:45:23 WARN MemoryStore: Not enough space to cache rdd_724_5 in memory! (computed 8.4 MiB so far)\n",
      "23/04/11 23:45:23 WARN MemoryStore: Not enough space to cache rdd_724_7 in memory! (computed 8.4 MiB so far)\n",
      "23/04/11 23:45:23 WARN MemoryStore: Not enough space to cache rdd_724_6 in memory! (computed 8.4 MiB so far)\n",
      "23/04/11 23:45:24 WARN MemoryStore: Not enough space to cache rdd_724_9 in memory! (computed 19.6 MiB so far)\n"
     ]
    },
    {
     "name": "stderr",
     "output_type": "stream",
     "text": [
      "[Stage 479:=========>                                              (3 + 8) / 17]\r"
     ]
    },
    {
     "name": "stdout",
     "output_type": "stream",
     "text": [
      "23/04/11 23:45:24 WARN MemoryStore: Not enough space to cache rdd_724_4 in memory! (computed 44.2 MiB so far)\n",
      "23/04/11 23:45:24 WARN MemoryStore: Not enough space to cache rdd_724_10 in memory! (computed 13.1 MiB so far)\n",
      "23/04/11 23:45:24 WARN MemoryStore: Not enough space to cache rdd_724_12 in memory! (computed 13.1 MiB so far)\n"
     ]
    },
    {
     "name": "stderr",
     "output_type": "stream",
     "text": [
      "[Stage 479:=============================================>         (14 + 3) / 17]\r"
     ]
    },
    {
     "name": "stdout",
     "output_type": "stream",
     "text": [
      "23/04/11 23:45:25 WARN MemoryStore: Not enough space to cache rdd_724_11 in memory! (computed 44.2 MiB so far)\n"
     ]
    },
    {
     "name": "stderr",
     "output_type": "stream",
     "text": [
      "                                                                                \r"
     ]
    },
    {
     "name": "stdout",
     "output_type": "stream",
     "text": [
      "23/04/11 23:45:25 WARN MemoryStore: Not enough space to cache rdd_724_7 in memory! (computed 5.6 MiB so far)\n",
      "23/04/11 23:45:25 WARN MemoryStore: Not enough space to cache rdd_724_4 in memory! (computed 5.6 MiB so far)\n",
      "23/04/11 23:45:25 WARN MemoryStore: Not enough space to cache rdd_724_6 in memory! (computed 8.4 MiB so far)\n",
      "23/04/11 23:45:25 WARN MemoryStore: Not enough space to cache rdd_724_8 in memory! (computed 1673.8 KiB so far)\n",
      "23/04/11 23:45:25 WARN MemoryStore: Not enough space to cache rdd_724_0 in memory! (computed 13.1 MiB so far)\n",
      "23/04/11 23:45:25 WARN MemoryStore: Not enough space to cache rdd_724_9 in memory! (computed 8.4 MiB so far)\n",
      "23/04/11 23:45:25 WARN MemoryStore: Not enough space to cache rdd_724_2 in memory! (computed 19.6 MiB so far)\n",
      "23/04/11 23:45:25 WARN MemoryStore: Not enough space to cache rdd_724_5 in memory! (computed 19.6 MiB so far)\n"
     ]
    },
    {
     "name": "stderr",
     "output_type": "stream",
     "text": [
      "[Stage 481:======>                                                 (2 + 9) / 17]\r"
     ]
    },
    {
     "name": "stdout",
     "output_type": "stream",
     "text": [
      "23/04/11 23:45:26 WARN MemoryStore: Not enough space to cache rdd_724_10 in memory! (computed 13.1 MiB so far)\n",
      "23/04/11 23:45:26 WARN MemoryStore: Not enough space to cache rdd_724_12 in memory! (computed 19.6 MiB so far)\n"
     ]
    },
    {
     "name": "stderr",
     "output_type": "stream",
     "text": [
      "[Stage 481:=============================================>         (14 + 3) / 17]\r"
     ]
    },
    {
     "name": "stdout",
     "output_type": "stream",
     "text": [
      "23/04/11 23:45:26 WARN MemoryStore: Not enough space to cache rdd_724_11 in memory! (computed 44.2 MiB so far)\n"
     ]
    },
    {
     "name": "stderr",
     "output_type": "stream",
     "text": [
      "                                                                                \r"
     ]
    },
    {
     "name": "stdout",
     "output_type": "stream",
     "text": [
      "23/04/11 23:45:26 WARN MemoryStore: Not enough space to cache rdd_724_5 in memory! (computed 5.6 MiB so far)\n",
      "23/04/11 23:45:26 WARN MemoryStore: Not enough space to cache rdd_724_0 in memory! (computed 5.6 MiB so far)\n",
      "23/04/11 23:45:26 WARN MemoryStore: Not enough space to cache rdd_724_8 in memory! (computed 1673.8 KiB so far)\n",
      "23/04/11 23:45:26 WARN MemoryStore: Not enough space to cache rdd_724_4 in memory! (computed 8.4 MiB so far)\n",
      "23/04/11 23:45:27 WARN MemoryStore: Not enough space to cache rdd_724_7 in memory! (computed 13.1 MiB so far)\n",
      "23/04/11 23:45:27 WARN MemoryStore: Not enough space to cache rdd_724_2 in memory! (computed 13.1 MiB so far)\n",
      "23/04/11 23:45:27 WARN MemoryStore: Not enough space to cache rdd_724_6 in memory! (computed 29.5 MiB so far)\n",
      "23/04/11 23:45:27 WARN MemoryStore: Not enough space to cache rdd_724_9 in memory! (computed 19.6 MiB so far)\n"
     ]
    },
    {
     "name": "stderr",
     "output_type": "stream",
     "text": [
      "[Stage 483:=============================================>         (14 + 3) / 17]\r"
     ]
    },
    {
     "name": "stdout",
     "output_type": "stream",
     "text": [
      "23/04/11 23:45:27 WARN MemoryStore: Not enough space to cache rdd_724_12 in memory! (computed 13.1 MiB so far)\n",
      "23/04/11 23:45:28 WARN MemoryStore: Not enough space to cache rdd_724_11 in memory! (computed 19.6 MiB so far)\n",
      "23/04/11 23:45:28 WARN MemoryStore: Not enough space to cache rdd_724_10 in memory! (computed 44.2 MiB so far)\n"
     ]
    },
    {
     "name": "stderr",
     "output_type": "stream",
     "text": [
      "                                                                                \r"
     ]
    },
    {
     "name": "stdout",
     "output_type": "stream",
     "text": [
      "23/04/11 23:45:28 WARN MemoryStore: Not enough space to cache rdd_724_0 in memory! (computed 5.6 MiB so far)\n",
      "23/04/11 23:45:28 WARN MemoryStore: Not enough space to cache rdd_724_7 in memory! (computed 8.4 MiB so far)\n",
      "23/04/11 23:45:28 WARN MemoryStore: Not enough space to cache rdd_724_5 in memory! (computed 8.4 MiB so far)\n",
      "23/04/11 23:45:28 WARN MemoryStore: Not enough space to cache rdd_724_4 in memory! (computed 8.4 MiB so far)\n",
      "23/04/11 23:45:28 WARN MemoryStore: Not enough space to cache rdd_724_6 in memory! (computed 13.1 MiB so far)\n",
      "23/04/11 23:45:28 WARN MemoryStore: Not enough space to cache rdd_724_2 in memory! (computed 19.6 MiB so far)\n",
      "23/04/11 23:45:28 WARN MemoryStore: Not enough space to cache rdd_724_9 in memory! (computed 19.6 MiB so far)\n"
     ]
    },
    {
     "name": "stderr",
     "output_type": "stream",
     "text": [
      "[Stage 485:======>                                                 (2 + 8) / 17]\r"
     ]
    },
    {
     "name": "stdout",
     "output_type": "stream",
     "text": [
      "23/04/11 23:45:29 WARN MemoryStore: Not enough space to cache rdd_724_8 in memory! (computed 44.2 MiB so far)\n"
     ]
    },
    {
     "name": "stderr",
     "output_type": "stream",
     "text": [
      "[Stage 485:=============================================>         (14 + 3) / 17]\r"
     ]
    },
    {
     "name": "stdout",
     "output_type": "stream",
     "text": [
      "23/04/11 23:45:29 WARN MemoryStore: Not enough space to cache rdd_724_11 in memory! (computed 13.1 MiB so far)\n",
      "23/04/11 23:45:29 WARN MemoryStore: Not enough space to cache rdd_724_12 in memory! (computed 13.1 MiB so far)\n",
      "23/04/11 23:45:29 WARN MemoryStore: Not enough space to cache rdd_724_10 in memory! (computed 44.2 MiB so far)\n"
     ]
    },
    {
     "name": "stderr",
     "output_type": "stream",
     "text": [
      "                                                                                \r"
     ]
    },
    {
     "name": "stdout",
     "output_type": "stream",
     "text": [
      "23/04/11 23:45:30 WARN MemoryStore: Not enough space to cache rdd_724_0 in memory! (computed 5.6 MiB so far)\n",
      "23/04/11 23:45:30 WARN MemoryStore: Not enough space to cache rdd_724_2 in memory! (computed 8.4 MiB so far)\n",
      "23/04/11 23:45:30 WARN MemoryStore: Not enough space to cache rdd_724_8 in memory! (computed 1673.8 KiB so far)\n",
      "23/04/11 23:45:30 WARN MemoryStore: Not enough space to cache rdd_724_7 in memory! (computed 8.4 MiB so far)\n",
      "23/04/11 23:45:30 WARN MemoryStore: Not enough space to cache rdd_724_5 in memory! (computed 13.1 MiB so far)\n",
      "23/04/11 23:45:30 WARN MemoryStore: Not enough space to cache rdd_724_4 in memory! (computed 13.1 MiB so far)\n",
      "23/04/11 23:45:30 WARN MemoryStore: Not enough space to cache rdd_724_6 in memory! (computed 29.5 MiB so far)\n",
      "23/04/11 23:45:30 WARN MemoryStore: Not enough space to cache rdd_724_9 in memory! (computed 19.6 MiB so far)\n"
     ]
    },
    {
     "name": "stderr",
     "output_type": "stream",
     "text": [
      "[Stage 487:==========================================>            (13 + 4) / 17]\r"
     ]
    },
    {
     "name": "stdout",
     "output_type": "stream",
     "text": [
      "23/04/11 23:45:31 WARN MemoryStore: Not enough space to cache rdd_724_12 in memory! (computed 13.1 MiB so far)\n",
      "23/04/11 23:45:31 WARN MemoryStore: Not enough space to cache rdd_724_11 in memory! (computed 13.1 MiB so far)\n"
     ]
    },
    {
     "name": "stderr",
     "output_type": "stream",
     "text": [
      "[Stage 487:=============================================>         (14 + 3) / 17]\r"
     ]
    },
    {
     "name": "stdout",
     "output_type": "stream",
     "text": [
      "23/04/11 23:45:31 WARN MemoryStore: Not enough space to cache rdd_724_10 in memory! (computed 44.2 MiB so far)\n"
     ]
    },
    {
     "name": "stderr",
     "output_type": "stream",
     "text": [
      "                                                                                \r"
     ]
    },
    {
     "name": "stdout",
     "output_type": "stream",
     "text": [
      "23/04/11 23:45:31 WARN MemoryStore: Not enough space to cache rdd_724_4 in memory! (computed 5.6 MiB so far)\n",
      "23/04/11 23:45:31 WARN MemoryStore: Not enough space to cache rdd_724_0 in memory! (computed 8.4 MiB so far)\n",
      "23/04/11 23:45:31 WARN MemoryStore: Failed to reserve initial memory threshold of 1024.0 KiB for computing block rdd_724_8 in memory.\n",
      "23/04/11 23:45:31 WARN MemoryStore: Not enough space to cache rdd_724_8 in memory! (computed 384.0 B so far)\n",
      "23/04/11 23:45:31 WARN MemoryStore: Not enough space to cache rdd_724_6 in memory! (computed 8.4 MiB so far)\n",
      "23/04/11 23:45:31 WARN MemoryStore: Not enough space to cache rdd_724_2 in memory! (computed 8.4 MiB so far)\n",
      "23/04/11 23:45:31 WARN MemoryStore: Not enough space to cache rdd_724_5 in memory! (computed 8.4 MiB so far)\n",
      "23/04/11 23:45:31 WARN MemoryStore: Not enough space to cache rdd_724_7 in memory! (computed 29.5 MiB so far)\n",
      "23/04/11 23:45:32 WARN MemoryStore: Not enough space to cache rdd_724_9 in memory! (computed 19.6 MiB so far)\n"
     ]
    },
    {
     "name": "stderr",
     "output_type": "stream",
     "text": [
      "[Stage 489:======================================>                (12 + 5) / 17]\r"
     ]
    },
    {
     "name": "stdout",
     "output_type": "stream",
     "text": [
      "23/04/11 23:45:32 WARN MemoryStore: Not enough space to cache rdd_724_12 in memory! (computed 8.4 MiB so far)\n",
      "23/04/11 23:45:32 WARN MemoryStore: Not enough space to cache rdd_724_11 in memory! (computed 19.6 MiB so far)\n"
     ]
    },
    {
     "name": "stderr",
     "output_type": "stream",
     "text": [
      "[Stage 489:=============================================>         (14 + 3) / 17]\r"
     ]
    },
    {
     "name": "stdout",
     "output_type": "stream",
     "text": [
      "23/04/11 23:45:32 WARN MemoryStore: Not enough space to cache rdd_724_10 in memory! (computed 44.2 MiB so far)\n"
     ]
    },
    {
     "name": "stderr",
     "output_type": "stream",
     "text": [
      "                                                                                \r"
     ]
    },
    {
     "name": "stdout",
     "output_type": "stream",
     "text": [
      "23/04/11 23:45:33 WARN MemoryStore: Not enough space to cache rdd_724_5 in memory! (computed 8.4 MiB so far)\n",
      "23/04/11 23:45:33 WARN MemoryStore: Not enough space to cache rdd_724_7 in memory! (computed 8.4 MiB so far)\n",
      "23/04/11 23:45:33 WARN MemoryStore: Not enough space to cache rdd_724_0 in memory! (computed 5.6 MiB so far)\n",
      "23/04/11 23:45:33 WARN MemoryStore: Not enough space to cache rdd_724_2 in memory! (computed 8.4 MiB so far)\n",
      "23/04/11 23:45:33 WARN MemoryStore: Not enough space to cache rdd_724_9 in memory! (computed 3.7 MiB so far)\n",
      "23/04/11 23:45:33 WARN MemoryStore: Not enough space to cache rdd_724_4 in memory! (computed 19.6 MiB so far)\n",
      "23/04/11 23:45:33 WARN MemoryStore: Not enough space to cache rdd_724_8 in memory! (computed 8.4 MiB so far)\n"
     ]
    },
    {
     "name": "stderr",
     "output_type": "stream",
     "text": [
      "[Stage 491:======>                                                 (2 + 8) / 17]\r"
     ]
    },
    {
     "name": "stdout",
     "output_type": "stream",
     "text": [
      "23/04/11 23:45:33 WARN MemoryStore: Not enough space to cache rdd_724_6 in memory! (computed 44.2 MiB so far)\n"
     ]
    },
    {
     "name": "stderr",
     "output_type": "stream",
     "text": [
      "[Stage 491:=============================================>         (14 + 3) / 17]\r"
     ]
    },
    {
     "name": "stdout",
     "output_type": "stream",
     "text": [
      "23/04/11 23:45:34 WARN MemoryStore: Not enough space to cache rdd_724_12 in memory! (computed 8.4 MiB so far)\n",
      "23/04/11 23:45:34 WARN MemoryStore: Not enough space to cache rdd_724_10 in memory! (computed 19.6 MiB so far)\n",
      "23/04/11 23:45:35 WARN MemoryStore: Not enough space to cache rdd_724_11 in memory! (computed 44.2 MiB so far)\n"
     ]
    },
    {
     "name": "stderr",
     "output_type": "stream",
     "text": [
      "                                                                                \r"
     ]
    },
    {
     "name": "stdout",
     "output_type": "stream",
     "text": [
      "23/04/11 23:45:35 WARN MemoryStore: Not enough space to cache rdd_724_4 in memory! (computed 5.6 MiB so far)\n",
      "23/04/11 23:45:35 WARN MemoryStore: Not enough space to cache rdd_724_6 in memory! (computed 5.6 MiB so far)\n",
      "23/04/11 23:45:35 WARN MemoryStore: Not enough space to cache rdd_724_7 in memory! (computed 8.4 MiB so far)\n",
      "23/04/11 23:45:35 WARN MemoryStore: Not enough space to cache rdd_724_9 in memory! (computed 2.5 MiB so far)\n",
      "23/04/11 23:45:35 WARN MemoryStore: Not enough space to cache rdd_724_8 in memory! (computed 1673.8 KiB so far)\n",
      "23/04/11 23:45:35 WARN MemoryStore: Not enough space to cache rdd_724_5 in memory! (computed 13.1 MiB so far)\n",
      "23/04/11 23:45:35 WARN MemoryStore: Not enough space to cache rdd_724_0 in memory! (computed 13.1 MiB so far)\n"
     ]
    },
    {
     "name": "stderr",
     "output_type": "stream",
     "text": [
      "[Stage 493:======>                                                 (2 + 8) / 17]\r"
     ]
    },
    {
     "name": "stdout",
     "output_type": "stream",
     "text": [
      "23/04/11 23:45:36 WARN MemoryStore: Not enough space to cache rdd_724_2 in memory! (computed 44.2 MiB so far)\n"
     ]
    },
    {
     "name": "stderr",
     "output_type": "stream",
     "text": [
      "[Stage 493:=============================================>         (14 + 3) / 17]\r"
     ]
    },
    {
     "name": "stdout",
     "output_type": "stream",
     "text": [
      "23/04/11 23:45:36 WARN MemoryStore: Not enough space to cache rdd_724_10 in memory! (computed 13.1 MiB so far)\n",
      "23/04/11 23:45:36 WARN MemoryStore: Not enough space to cache rdd_724_12 in memory! (computed 13.1 MiB so far)\n",
      "23/04/11 23:45:37 WARN MemoryStore: Not enough space to cache rdd_724_11 in memory! (computed 44.2 MiB so far)\n"
     ]
    },
    {
     "name": "stderr",
     "output_type": "stream",
     "text": [
      "                                                                                \r"
     ]
    }
   ],
   "source": [
    "import numpy as np\n",
    "\n",
    "errors = np.zeros(10)\n",
    "\n",
    "evaluator = ClusteringEvaluator(predictionCol='prediction', featuresCol='features',metricName='silhouette', \n",
    "                                distanceMeasure='squaredEuclidean')\n",
    "\n",
    "for i in range(2,10):\n",
    "    kmeans=KMeans(featuresCol='features', k=i).fit(df2)\n",
    "    output=kmeans.transform(df2)\n",
    "    errors[i] = kmeans.summary.trainingCost\n",
    "    \n",
    "    "
   ]
  },
  {
   "cell_type": "code",
   "execution_count": 15,
   "id": "eeda4ab8",
   "metadata": {
    "scrolled": false
   },
   "outputs": [
    {
     "data": {
      "image/png": "[encoded data removed]",
      "text/plain": [
       "<Figure size 640x480 with 1 Axes>"
      ]
     },
     "metadata": {},
     "output_type": "display_data"
    }
   ],
   "source": [
    "import pandas as pd\n",
    "import pylab as pl\n",
    "kdf = pd.DataFrame(errors[2:])\n",
    "kdf.columns = [\"errors\"]\n",
    "new_col = range(2,10)\n",
    "kdf.insert(0, 'cluster', new_col)\n",
    "pl.plot(kdf.cluster, kdf.errors, '-o')\n",
    "pl.xlabel('Number of Clusters')\n",
    "pl.ylabel('Score')\n",
    "pl.title('Elbow Curve')\n",
    "pl.show()"
   ]
  },
  {
   "cell_type": "code",
   "execution_count": null,
   "id": "330bb61d",
   "metadata": {},
   "outputs": [],
   "source": []
  }
 ],
 "metadata": {
  "kernelspec": {
   "display_name": "Python 3 (ipykernel)",
   "language": "python",
   "name": "python3"
  },
  "language_info": {
   "codemirror_mode": {
    "name": "ipython",
    "version": 3
   },
   "file_extension": ".py",
   "mimetype": "text/x-python",
   "name": "python",
   "nbconvert_exporter": "python",
   "pygments_lexer": "ipython3",
   "version": "3.9.13"
  }
 },
 "nbformat": 4,
 "nbformat_minor": 5
}
