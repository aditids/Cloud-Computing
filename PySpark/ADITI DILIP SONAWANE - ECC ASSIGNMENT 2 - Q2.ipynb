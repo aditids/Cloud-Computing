{
 "cells": [
  {
   "cell_type": "code",
   "execution_count": 1,
   "id": "46dd8f6e",
   "metadata": {},
   "outputs": [
    {
     "name": "stderr",
     "output_type": "stream",
     "text": [
      "Setting default log level to \"WARN\".\n",
      "To adjust logging level use sc.setLogLevel(newLevel). For SparkR, use setLogLevel(newLevel).\n"
     ]
    },
    {
     "name": "stdout",
     "output_type": "stream",
     "text": [
      "23/04/13 11:02:00 WARN NativeCodeLoader: Unable to load native-hadoop library for your platform... using builtin-java classes where applicable\n"
     ]
    },
    {
     "name": "stderr",
     "output_type": "stream",
     "text": [
      "                                                                                \r"
     ]
    }
   ],
   "source": [
    "from pyspark.sql import SparkSession\n",
    "\n",
    "spark = SparkSession.builder.appName('ECC-Assignment-Q2').getOrCreate()\n",
    "\n",
    "df = spark.read.csv('/Users/aditisonawane/Desktop/ECC/a2/shot_logs.csv', header=True, inferSchema=True)\n",
    "\n"
   ]
  },
  {
   "cell_type": "code",
   "execution_count": 2,
   "id": "6b84e107",
   "metadata": {},
   "outputs": [
    {
     "data": {
      "text/plain": [
       "[Row(GAME_ID=21400899, MATCHUP='MAR 04, 2015 - CHA @ BKN', LOCATION='A', W='W', FINAL_MARGIN=24, SHOT_NUMBER=1, PERIOD=1, GAME_CLOCK=datetime.datetime(2023, 4, 13, 1, 9), SHOT_CLOCK=10.8, DRIBBLES=2, TOUCH_TIME=1.9, SHOT_DIST=7.7, PTS_TYPE=2, SHOT_RESULT='made', CLOSEST_DEFENDER='Anderson, Alan', CLOSEST_DEFENDER_PLAYER_ID=101187, CLOSE_DEF_DIST=1.3, FGM=1, PTS=2, player_name='brian roberts', player_id=203148),\n",
       " Row(GAME_ID=21400899, MATCHUP='MAR 04, 2015 - CHA @ BKN', LOCATION='A', W='W', FINAL_MARGIN=24, SHOT_NUMBER=2, PERIOD=1, GAME_CLOCK=datetime.datetime(2023, 4, 13, 0, 14), SHOT_CLOCK=3.4, DRIBBLES=0, TOUCH_TIME=0.8, SHOT_DIST=28.2, PTS_TYPE=3, SHOT_RESULT='missed', CLOSEST_DEFENDER='Bogdanovic, Bojan', CLOSEST_DEFENDER_PLAYER_ID=202711, CLOSE_DEF_DIST=6.1, FGM=0, PTS=0, player_name='brian roberts', player_id=203148),\n",
       " Row(GAME_ID=21400899, MATCHUP='MAR 04, 2015 - CHA @ BKN', LOCATION='A', W='W', FINAL_MARGIN=24, SHOT_NUMBER=3, PERIOD=1, GAME_CLOCK=datetime.datetime(2023, 4, 13, 0, 0), SHOT_CLOCK=None, DRIBBLES=3, TOUCH_TIME=2.7, SHOT_DIST=10.1, PTS_TYPE=2, SHOT_RESULT='missed', CLOSEST_DEFENDER='Bogdanovic, Bojan', CLOSEST_DEFENDER_PLAYER_ID=202711, CLOSE_DEF_DIST=0.9, FGM=0, PTS=0, player_name='brian roberts', player_id=203148),\n",
       " Row(GAME_ID=21400899, MATCHUP='MAR 04, 2015 - CHA @ BKN', LOCATION='A', W='W', FINAL_MARGIN=24, SHOT_NUMBER=4, PERIOD=2, GAME_CLOCK=datetime.datetime(2023, 4, 13, 11, 47), SHOT_CLOCK=10.3, DRIBBLES=2, TOUCH_TIME=1.9, SHOT_DIST=17.2, PTS_TYPE=2, SHOT_RESULT='missed', CLOSEST_DEFENDER='Brown, Markel', CLOSEST_DEFENDER_PLAYER_ID=203900, CLOSE_DEF_DIST=3.4, FGM=0, PTS=0, player_name='brian roberts', player_id=203148),\n",
       " Row(GAME_ID=21400899, MATCHUP='MAR 04, 2015 - CHA @ BKN', LOCATION='A', W='W', FINAL_MARGIN=24, SHOT_NUMBER=5, PERIOD=2, GAME_CLOCK=datetime.datetime(2023, 4, 13, 10, 34), SHOT_CLOCK=10.9, DRIBBLES=2, TOUCH_TIME=2.7, SHOT_DIST=3.7, PTS_TYPE=2, SHOT_RESULT='missed', CLOSEST_DEFENDER='Young, Thaddeus', CLOSEST_DEFENDER_PLAYER_ID=201152, CLOSE_DEF_DIST=1.1, FGM=0, PTS=0, player_name='brian roberts', player_id=203148)]"
      ]
     },
     "execution_count": 2,
     "metadata": {},
     "output_type": "execute_result"
    }
   ],
   "source": [
    "df.head(5)"
   ]
  },
  {
   "cell_type": "code",
   "execution_count": 3,
   "id": "3c931ede",
   "metadata": {},
   "outputs": [
    {
     "name": "stderr",
     "output_type": "stream",
     "text": [
      "                                                                                \r"
     ]
    },
    {
     "name": "stdout",
     "output_type": "stream",
     "text": [
      "GAME_ID : Null values:  0\n",
      "MATCHUP : Null values:  0\n",
      "LOCATION : Null values:  0\n",
      "W : Null values:  0\n",
      "FINAL_MARGIN : Null values:  0\n",
      "SHOT_NUMBER : Null values:  0\n",
      "PERIOD : Null values:  0\n",
      "GAME_CLOCK : Null values:  0\n",
      "SHOT_CLOCK : Null values:  5567\n",
      "DRIBBLES : Null values:  0\n",
      "TOUCH_TIME : Null values:  0\n",
      "SHOT_DIST : Null values:  0\n",
      "PTS_TYPE : Null values:  0\n",
      "SHOT_RESULT : Null values:  0\n",
      "CLOSEST_DEFENDER : Null values:  0\n",
      "CLOSEST_DEFENDER_PLAYER_ID : Null values:  0\n",
      "CLOSE_DEF_DIST : Null values:  0\n",
      "FGM : Null values:  0\n",
      "PTS : Null values:  0\n",
      "player_name : Null values:  0\n",
      "player_id : Null values:  0\n"
     ]
    }
   ],
   "source": [
    "for column in df.columns:\n",
    "    print(column, \":\", \"Null values: \", df.filter(df[column].isNull()).count())"
   ]
  },
  {
   "cell_type": "code",
   "execution_count": 2,
   "id": "518ddb9f",
   "metadata": {},
   "outputs": [],
   "source": [
    "df = df.na.drop(subset=[\"SHOT_CLOCK\"])"
   ]
  },
  {
   "cell_type": "code",
   "execution_count": 13,
   "id": "b74ce4d7",
   "metadata": {},
   "outputs": [
    {
     "name": "stderr",
     "output_type": "stream",
     "text": [
      "                                                                                \r"
     ]
    },
    {
     "name": "stdout",
     "output_type": "stream",
     "text": [
      "+----------------+------------------+------------+------------------+------------------+\n",
      "|     player_name|  CLOSEST_DEFENDER|Missed Shots|Total shots missed|        Fear Score|\n",
      "+----------------+------------------+------------+------------------+------------------+\n",
      "|    al jefferson| Hardaway Jr., Tim|           1|                 1|               1.0|\n",
      "|     cody zeller|     Price, Ronnie|           1|                 1|               1.0|\n",
      "|       gary neal|     Beal, Bradley|           0|                 3|               0.0|\n",
      "|       gary neal|     Smart, Marcus|           4|                 4|               1.0|\n",
      "|gerald henderson|    Bazemore, Kent|           2|                 2|               1.0|\n",
      "|    kemba walker|     Williams, Lou|           1|                 2|               0.5|\n",
      "|lance stephenson|    Fournier, Evan|           2|                 2|               1.0|\n",
      "|  gordon hayward|Aldridge, LaMarcus|           2|                 4|               0.5|\n",
      "|  gordon hayward|    Bazemore, Kent|           0|                 1|               0.0|\n",
      "|   trevor booker|   Thompson, Jason|           0|                 3|               0.0|\n",
      "|   trevor booker|    Frye, Channing|           1|                 2|               0.5|\n",
      "|     enes kanter|   Chandler, Tyson|           5|                 6|0.8333333333333334|\n",
      "|      dante exum|      Williams, Mo|           3|                 3|               1.0|\n",
      "|      jon ingles|     Jack, Jarrett|           0|                 1|               0.0|\n",
      "|      jon ingles|     Williams, Lou|           4|                 5|               0.8|\n",
      "|     rudy gobert|       Foye, Randy|           0|                 1|               0.0|\n",
      "|     rudy gobert|      Wade, Dwyane|           0|                 1|               0.0|\n",
      "|   carlos boozer|     Jefferson, Al|           0|                 2|               0.0|\n",
      "|   carlos boozer| Beverley, Patrick|           0|                 1|               0.0|\n",
      "|      jeremy lin|     Dudley, Jared|           0|                 1|               0.0|\n",
      "+----------------+------------------+------------+------------------+------------------+\n",
      "only showing top 20 rows\n",
      "\n",
      "+----------------+------------------+\n",
      "|     player_name|  CLOSEST_DEFENDER|\n",
      "+----------------+------------------+\n",
      "|    aaron brooks|     Pressey, Phil|\n",
      "|    aaron gordon|      Ibaka, Serge|\n",
      "| al farouq aminu|   Faried, Kenneth|\n",
      "|      al horford|    Gortat, Marcin|\n",
      "|    al jefferson|   Vucevic, Nikola|\n",
      "|   alan anderson|      Korver, Kyle|\n",
      "|   alan anderson|  Sefolosha, Thabo|\n",
      "|     alan crabbe|       Smith, J.R.|\n",
      "|        alex len|       Gasol, Marc|\n",
      "|        alex len|   Jordan, DeAndre|\n",
      "|   alexis ajinca|Stoudemire, Amar'e|\n",
      "|   alexis ajinca| Perkins, Kendrick|\n",
      "|      alonzo gee|         Gay, Rudy|\n",
      "|      alonzo gee| Muhammad, Shabazz|\n",
      "|      alonzo gee|  Vasquez, Greivis|\n",
      "|      alonzo gee| Williams, Derrick|\n",
      "|amare stoudemire|      Lopez, Brook|\n",
      "|    amir johnson|     Millsap, Paul|\n",
      "|  andre drummond|   Mozgov, Timofey|\n",
      "|  andre drummond| Thompson, Tristan|\n",
      "+----------------+------------------+\n",
      "only showing top 20 rows\n",
      "\n"
     ]
    }
   ],
   "source": [
    "from pyspark.sql.functions import col, when, sum, count, rank\n",
    "from pyspark.sql.window import Window\n",
    "\n",
    "df2 = df.groupBy('player_name', 'CLOSEST_DEFENDER')\n",
    "hit = df2.agg(sum(when(col('SHOT_RESULT') == 'missed', 1).otherwise(0)).alias('Missed Shots'), \n",
    "              count('SHOT_RESULT').alias('Total shots missed'))\n",
    "fear_scoredf = hit.withColumn('Fear Score', when(col('Total shots missed') == 0, 0)\n",
    "                              .otherwise(col('Missed Shots')/col('Total shots missed')))\n",
    "fear_scoredf.show()\n",
    "\n",
    "w = Window.partitionBy('player_name').orderBy(col('Missed Shots').desc())\n",
    "most_unwanted_defender = fear_scoredf.withColumn('rank', rank().over(w)).filter(col('rank') == 1)\n",
    "                                     .select('player_name', 'CLOSEST_DEFENDER')\n",
    "\n",
    "most_unwanted_defender.show()\n"
   ]
  },
  {
   "cell_type": "code",
   "execution_count": 3,
   "id": "d9780f79",
   "metadata": {},
   "outputs": [
    {
     "name": "stderr",
     "output_type": "stream",
     "text": [
      "                                                                                \r"
     ]
    },
    {
     "name": "stdout",
     "output_type": "stream",
     "text": [
      "+-------------+----------+-------------------+\n",
      "|  player_name|prediction|    avg_shot_result|\n",
      "+-------------+----------+-------------------+\n",
      "|   chris paul|         0| 0.4914772727272727|\n",
      "|   chris paul|         1|0.49504950495049505|\n",
      "|   chris paul|         2|          0.4296875|\n",
      "|   chris paul|         3| 0.5563380281690141|\n",
      "| james harden|         0|0.32978723404255317|\n",
      "| james harden|         1| 0.5604395604395604|\n",
      "| james harden|         2|0.43617021276595747|\n",
      "| james harden|         3|0.48520710059171596|\n",
      "| lebron james|         0| 0.4124293785310734|\n",
      "| lebron james|         1| 0.6613545816733067|\n",
      "| lebron james|         2|0.35789473684210527|\n",
      "| lebron james|         3| 0.5427350427350427|\n",
      "|stephen curry|         0| 0.4319654427645788|\n",
      "|stephen curry|         1| 0.6350710900473934|\n",
      "|stephen curry|         2| 0.4189189189189189|\n",
      "|stephen curry|         3| 0.5714285714285714|\n",
      "+-------------+----------+-------------------+\n",
      "\n",
      "+-------------+----------+------------------+\n",
      "|  player_name|prediction|   avg_shot_result|\n",
      "+-------------+----------+------------------+\n",
      "|   chris paul|         3|0.5563380281690141|\n",
      "| james harden|         1|0.5604395604395604|\n",
      "| lebron james|         1|0.6613545816733067|\n",
      "|stephen curry|         1|0.6350710900473934|\n",
      "+-------------+----------+------------------+\n",
      "\n"
     ]
    }
   ],
   "source": [
    "#2.2\n",
    "from pyspark.sql.functions import regexp_replace, avg, max\n",
    "from pyspark.ml.clustering import KMeans\n",
    "from pyspark.ml.feature import VectorAssembler\n",
    "\n",
    "\n",
    "data = df.select('player_name', 'SHOT_DIST', 'CLOSE_DEF_DIST', 'SHOT_CLOCK', 'SHOT_RESULT')\n",
    "\n",
    "data = data.withColumn('SHOT_RESULT', regexp_replace('SHOT_RESULT', 'made', '1'))\n",
    "            .withColumn('SHOT_RESULT', regexp_replace('SHOT_RESULT', 'missed', '0'))\n",
    "            .withColumn('SHOT_RESULT', col('SHOT_RESULT').cast('float'))\n",
    "\n",
    "data = data.withColumn('SHOT_DIST', col('SHOT_DIST').cast('float')).withColumn('CLOSE_DEF_DIST',\n",
    "                    col('CLOSE_DEF_DIST').cast('float')).withColumn('SHOT_CLOCK', col('SHOT_CLOCK').cast('float'))\n",
    "\n",
    "columns = ['SHOT_DIST', 'CLOSE_DEF_DIST', 'SHOT_CLOCK']\n",
    "\n",
    "va = VectorAssembler(inputCols=columns, outputCol='features')\n",
    "nba = va.transform(data).select('player_name', 'features','SHOT_RESULT')\n",
    "\n",
    "kmeans = KMeans(k=4,seed=1,featuresCol='features')\n",
    "knba = kmeans.fit(nba)\n",
    "\n",
    "players = ['james harden', 'chris paul', 'stephen curry', 'lebron james']\n",
    "nba = nba.filter(col('player_name').isin(players))\n",
    "\n",
    "pred = knba.transform(nba).select('player_name', 'prediction', 'SHOT_RESULT')\n",
    "res = pred.groupBy('player_name', 'prediction').agg(avg('SHOT_RESULT').alias('avg_shot_result'))\n",
    "                                                .orderBy('player_name', 'prediction')\n",
    "\n",
    "res.show()\n",
    "\n",
    "bestZone = res.join(res.groupBy('player_name').agg(max('avg_shot_result').alias('max_avg_shot_result')), \n",
    "                    on='player_name').filter(col('avg_shot_result') == col('max_avg_shot_result'))\n",
    "                    .select('player_name', 'prediction', 'avg_shot_result').orderBy('player_name')\n",
    "\n",
    "bestZone.show()\n"
   ]
  },
  {
   "cell_type": "code",
   "execution_count": null,
   "id": "31e4327c",
   "metadata": {},
   "outputs": [],
   "source": []
  }
 ],
 "metadata": {
  "kernelspec": {
   "display_name": "Python 3 (ipykernel)",
   "language": "python",
   "name": "python3"
  },
  "language_info": {
   "codemirror_mode": {
    "name": "ipython",
    "version": 3
   },
   "file_extension": ".py",
   "mimetype": "text/x-python",
   "name": "python",
   "nbconvert_exporter": "python",
   "pygments_lexer": "ipython3",
   "version": "3.9.13"
  }
 },
 "nbformat": 4,
 "nbformat_minor": 5
}
